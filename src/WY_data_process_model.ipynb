{
 "cells": [
  {
   "cell_type": "code",
   "execution_count": 1,
   "metadata": {},
   "outputs": [],
   "source": [
    "import pandas as pd\n",
    "import numpy as np\n",
    "from skimpy import skim\n",
    "import matplotlib.pyplot as plt\n",
    "import seaborn as sns\n",
    "import os\n",
    "from sklearn.ensemble import RandomForestClassifier\n",
    "from sklearn.model_selection import GridSearchCV\n",
    "from sklearn.metrics import accuracy_score\n",
    "from sklearn.preprocessing import LabelEncoder\n",
    "from sklearn.feature_selection import RFECV\n",
    "from sklearn.model_selection import StratifiedKFold"
   ]
  },
  {
   "cell_type": "code",
   "execution_count": 9,
   "id": "b340e19b",
   "metadata": {},
   "outputs": [],
   "source": [
    "# import os\n",
    "\n",
    "# # Create a directory if it doesn't exist\n",
    "# directory = 'data'\n",
    "# if not os.path.exists(directory):\n",
    "#     os.makedirs(directory)\n",
    "\n",
    "# # Now save the DataFrame\n",
    "# df.to_csv(f'{directory}/Processed_Data.csv', index=False)\n",
    "\n",
    "df = pd.read_csv(\"data/Processed_Data.csv\", encoding = \"ISO-8859-1\")"
   ]
  },
  {
   "cell_type": "markdown",
   "metadata": {},
   "source": [
    "### Converting categorical data to numeric features"
   ]
  },
  {
   "cell_type": "code",
   "execution_count": 10,
   "id": "6b8d571f",
   "metadata": {},
   "outputs": [
    {
     "name": "stdout",
     "output_type": "stream",
     "text": [
      "['C4' 'C1' 'B4' 'F1' 'C3' 'B2' 'B1' 'A2' 'B5' 'C2' 'E2' 'A4' 'E3' 'C5'\n",
      " 'A1' 'D4' 'F3' 'B3' 'D1' 'D3' 'D5' 'A5' 'F2' 'E4' 'D2' 'E1' 'F5' 'E5'\n",
      " 'A3' 'G2' 'G1' 'G4' 'F4' 'G5' 'G3']\n"
     ]
    }
   ],
   "source": [
    "print(df['sub_grade'].unique())"
   ]
  },
  {
   "cell_type": "code",
   "execution_count": 11,
   "id": "54f63414",
   "metadata": {},
   "outputs": [],
   "source": [
    "sub_grade_mapping = {\n",
    "    'A1': 1, 'A2': 2, 'A3': 3, 'A4': 4, 'A5': 5,\n",
    "    'B1': 6, 'B2': 7, 'B3': 8, 'B4': 9, 'B5': 10,\n",
    "    'C1': 11, 'C2': 12, 'C3': 13, 'C4': 14, 'C5': 15,\n",
    "    'D1': 16, 'D2': 17, 'D3': 18, 'D4': 19, 'D5': 20,\n",
    "    'E1': 21, 'E2': 22, 'E3': 23, 'E4': 24, 'E5': 25,\n",
    "    'F1': 26, 'F2': 27, 'F3': 28, 'F4': 29, 'F5': 30,\n",
    "    'G1': 31, 'G2': 32, 'G3': 33, 'G4': 34, 'G5': 35\n",
    "}\n",
    "\n",
    "df['sub_grade'] = df['sub_grade'].map(sub_grade_mapping)"
   ]
  },
  {
   "cell_type": "code",
   "execution_count": 12,
   "metadata": {},
   "outputs": [
    {
     "name": "stdout",
     "output_type": "stream",
     "text": [
      "[14 11  9 26 13  7  6  2 10 12 22  4 23 15  1 19 28  8 16 18 20  5 27 24\n",
      " 17 21 30 25  3 32 31 34 29 35 33]\n"
     ]
    }
   ],
   "source": [
    "print(df['sub_grade'].unique())"
   ]
  },
  {
   "cell_type": "code",
   "execution_count": 13,
   "id": "e78820fb",
   "metadata": {},
   "outputs": [],
   "source": [
    "# One-hot encoding \n",
    "df = pd.get_dummies(df, columns=['home_ownership'])\n",
    "df = pd.get_dummies(df, columns=['verification_status'])\n",
    "df = pd.get_dummies(df, columns=['purpose'])\n",
    "# df = pd.get_dummies(df, columns=['addr_state'])"
   ]
  },
  {
   "cell_type": "code",
   "execution_count": 16,
   "metadata": {},
   "outputs": [],
   "source": [
    "df = df.drop(['addr_state'], axis = 1)"
   ]
  },
  {
   "cell_type": "code",
   "execution_count": 17,
   "metadata": {},
   "outputs": [],
   "source": [
    "df = pd.get_dummies(df, columns=['application_type'])"
   ]
  },
  {
   "cell_type": "code",
   "execution_count": 18,
   "metadata": {},
   "outputs": [
    {
     "name": "stdout",
     "output_type": "stream",
     "text": [
      "<class 'pandas.core.frame.DataFrame'>\n",
      "RangeIndex: 1142240 entries, 0 to 1142239\n",
      "Data columns (total 39 columns):\n",
      " #   Column                               Non-Null Count    Dtype  \n",
      "---  ------                               --------------    -----  \n",
      " 0   loan_amnt                            1142240 non-null  float64\n",
      " 1   term (months)                        1142240 non-null  int64  \n",
      " 2   int_rate                             1142240 non-null  float64\n",
      " 3   installment                          1142240 non-null  float64\n",
      " 4   sub_grade                            1142240 non-null  int64  \n",
      " 5   annual_inc                           1142240 non-null  float64\n",
      " 6   issue_d                              1142240 non-null  object \n",
      " 7   loan_status                          1142240 non-null  object \n",
      " 8   dti                                  1142240 non-null  float64\n",
      " 9   earliest_cr_line                     1142240 non-null  int64  \n",
      " 10  open_acc                             1142240 non-null  int64  \n",
      " 11  pub_rec                              1142240 non-null  int64  \n",
      " 12  revol_bal                            1142240 non-null  float64\n",
      " 13  revol_util                           1142240 non-null  float64\n",
      " 14  total_acc                            1142240 non-null  int64  \n",
      " 15  mort_acc                             1142240 non-null  float64\n",
      " 16  fico_avg                             1142240 non-null  float64\n",
      " 17  home_ownership_MORTGAGE              1142240 non-null  bool   \n",
      " 18  home_ownership_OTHER                 1142240 non-null  bool   \n",
      " 19  home_ownership_OWN                   1142240 non-null  bool   \n",
      " 20  home_ownership_RENT                  1142240 non-null  bool   \n",
      " 21  verification_status_Not Verified     1142240 non-null  bool   \n",
      " 22  verification_status_Source Verified  1142240 non-null  bool   \n",
      " 23  verification_status_Verified         1142240 non-null  bool   \n",
      " 24  purpose_car                          1142240 non-null  bool   \n",
      " 25  purpose_credit_card                  1142240 non-null  bool   \n",
      " 26  purpose_debt_consolidation           1142240 non-null  bool   \n",
      " 27  purpose_home_improvement             1142240 non-null  bool   \n",
      " 28  purpose_house                        1142240 non-null  bool   \n",
      " 29  purpose_major_purchase               1142240 non-null  bool   \n",
      " 30  purpose_medical                      1142240 non-null  bool   \n",
      " 31  purpose_moving                       1142240 non-null  bool   \n",
      " 32  purpose_other                        1142240 non-null  bool   \n",
      " 33  purpose_renewable_energy             1142240 non-null  bool   \n",
      " 34  purpose_small_business               1142240 non-null  bool   \n",
      " 35  purpose_vacation                     1142240 non-null  bool   \n",
      " 36  purpose_wedding                      1142240 non-null  bool   \n",
      " 37  application_type_Individual          1142240 non-null  bool   \n",
      " 38  application_type_Joint App           1142240 non-null  bool   \n",
      "dtypes: bool(22), float64(9), int64(6), object(2)\n",
      "memory usage: 172.1+ MB\n"
     ]
    }
   ],
   "source": [
    "df.info()"
   ]
  },
  {
   "cell_type": "code",
   "execution_count": 19,
   "id": "6020241e",
   "metadata": {},
   "outputs": [],
   "source": [
    "# label_encoder = LabelEncoder()\n",
    "\n",
    "# df['application_type'] = label_encoder.fit_transform(df['application_type'])"
   ]
  },
  {
   "cell_type": "markdown",
   "id": "bd190a47",
   "metadata": {},
   "source": [
    "### Train/Test Split"
   ]
  },
  {
   "cell_type": "code",
   "execution_count": 20,
   "id": "012a0be5",
   "metadata": {},
   "outputs": [
    {
     "data": {
      "text/plain": [
       "False"
      ]
     },
     "execution_count": 20,
     "metadata": {},
     "output_type": "execute_result"
    }
   ],
   "source": [
    "df['issue_d'].isnull().any()"
   ]
  },
  {
   "cell_type": "code",
   "execution_count": 21,
   "id": "facd7f58",
   "metadata": {},
   "outputs": [
    {
     "name": "stderr",
     "output_type": "stream",
     "text": [
      "C:\\Users\\winyan\\AppData\\Local\\Temp\\ipykernel_14344\\3004380484.py:1: UserWarning: Could not infer format, so each element will be parsed individually, falling back to `dateutil`. To ensure parsing is consistent and as-expected, please specify a format.\n",
      "  df['issue_d'] = pd.to_datetime(df['issue_d'])\n"
     ]
    }
   ],
   "source": [
    "df['issue_d'] = pd.to_datetime(df['issue_d'])"
   ]
  },
  {
   "cell_type": "code",
   "execution_count": 22,
   "id": "9254b249",
   "metadata": {},
   "outputs": [
    {
     "data": {
      "text/plain": [
       "405440   2016-05-01\n",
       "439855   2018-09-01\n",
       "887838   2013-09-01\n",
       "162889   2015-07-01\n",
       "859211   2013-11-01\n",
       "Name: issue_d, dtype: datetime64[ns]"
      ]
     },
     "execution_count": 22,
     "metadata": {},
     "output_type": "execute_result"
    }
   ],
   "source": [
    "df['issue_d'].sample(5)"
   ]
  },
  {
   "cell_type": "code",
   "execution_count": 23,
   "id": "44b1cbb3",
   "metadata": {},
   "outputs": [
    {
     "data": {
      "text/plain": [
       "count                          1142240\n",
       "mean     2015-07-22 22:35:52.788905216\n",
       "min                2012-03-01 00:00:00\n",
       "25%                2014-08-01 00:00:00\n",
       "50%                2015-08-01 00:00:00\n",
       "75%                2016-07-01 00:00:00\n",
       "max                2018-12-01 00:00:00\n",
       "Name: issue_d, dtype: object"
      ]
     },
     "execution_count": 23,
     "metadata": {},
     "output_type": "execute_result"
    }
   ],
   "source": [
    "df['issue_d'].describe()"
   ]
  },
  {
   "cell_type": "code",
   "execution_count": 24,
   "id": "f156bfd9",
   "metadata": {},
   "outputs": [
    {
     "name": "stdout",
     "output_type": "stream",
     "text": [
      "72   2012-03-01\n",
      "71   2012-04-01\n",
      "70   2012-05-01\n",
      "69   2012-06-01\n",
      "68   2012-07-01\n",
      "        ...    \n",
      "22   2018-08-01\n",
      "21   2018-09-01\n",
      "44   2018-10-01\n",
      "43   2018-11-01\n",
      "42   2018-12-01\n",
      "Length: 82, dtype: datetime64[ns]\n"
     ]
    }
   ],
   "source": [
    "unique_issue_dates = df['issue_d'].unique()\n",
    "sorted_unique_issue_dates = pd.Series(unique_issue_dates).sort_values()\n",
    "print(sorted_unique_issue_dates)"
   ]
  },
  {
   "cell_type": "code",
   "execution_count": 25,
   "id": "89c46be9",
   "metadata": {},
   "outputs": [
    {
     "data": {
      "text/plain": [
       "Text(0.5, 1.0, 'Loans Funded per Year')"
      ]
     },
     "execution_count": 25,
     "metadata": {},
     "output_type": "execute_result"
    },
    {
     "data": {
      "image/png": "[encoded data removed]",
      "text/plain": [
       "<Figure size 540x270 with 1 Axes>"
      ]
     },
     "metadata": {},
     "output_type": "display_data"
    }
   ],
   "source": [
    "plt.figure(figsize=(6,3), dpi=90)\n",
    "df['issue_d'].dt.year.value_counts().sort_index().plot.bar(color='darkblue')\n",
    "plt.xlabel('Year')\n",
    "plt.ylabel('Number of Loans Funded')\n",
    "plt.title('Loans Funded per Year')"
   ]
  },
  {
   "cell_type": "markdown",
   "id": "bf0b4706",
   "metadata": {},
   "source": [
    "We'll form the test set from the most recent 10% of the loans."
   ]
  },
  {
   "cell_type": "code",
   "execution_count": 26,
   "id": "ebbda013",
   "metadata": {},
   "outputs": [],
   "source": [
    "df_train = df.loc[df['issue_d'] <  df['issue_d'].quantile(0.9)]\n",
    "df_test =  df.loc[df['issue_d'] >= df['issue_d'].quantile(0.9)]"
   ]
  },
  {
   "cell_type": "code",
   "execution_count": 27,
   "id": "2cabb22a",
   "metadata": {},
   "outputs": [
    {
     "name": "stdout",
     "output_type": "stream",
     "text": [
      "Number of loans in the partition:    1142240\n",
      "Number of loans in the full dataset: 1142240\n"
     ]
    }
   ],
   "source": [
    "print('Number of loans in the partition:   ', df_train.shape[0] + df_test.shape[0])\n",
    "print('Number of loans in the full dataset:', df.shape[0])"
   ]
  },
  {
   "cell_type": "code",
   "execution_count": 28,
   "id": "9a433209",
   "metadata": {},
   "outputs": [
    {
     "data": {
      "text/html": [
       "<div>\n",
       "<style scoped>\n",
       "    .dataframe tbody tr th:only-of-type {\n",
       "        vertical-align: middle;\n",
       "    }\n",
       "\n",
       "    .dataframe tbody tr th {\n",
       "        vertical-align: top;\n",
       "    }\n",
       "\n",
       "    .dataframe thead th {\n",
       "        text-align: right;\n",
       "    }\n",
       "</style>\n",
       "<table border=\"1\" class=\"dataframe\">\n",
       "  <thead>\n",
       "    <tr style=\"text-align: right;\">\n",
       "      <th></th>\n",
       "      <th>loan_amnt</th>\n",
       "      <th>term (months)</th>\n",
       "      <th>int_rate</th>\n",
       "      <th>installment</th>\n",
       "      <th>sub_grade</th>\n",
       "      <th>annual_inc</th>\n",
       "      <th>issue_d</th>\n",
       "      <th>loan_status</th>\n",
       "      <th>dti</th>\n",
       "      <th>earliest_cr_line</th>\n",
       "      <th>...</th>\n",
       "      <th>purpose_major_purchase</th>\n",
       "      <th>purpose_medical</th>\n",
       "      <th>purpose_moving</th>\n",
       "      <th>purpose_other</th>\n",
       "      <th>purpose_renewable_energy</th>\n",
       "      <th>purpose_small_business</th>\n",
       "      <th>purpose_vacation</th>\n",
       "      <th>purpose_wedding</th>\n",
       "      <th>application_type_Individual</th>\n",
       "      <th>application_type_Joint App</th>\n",
       "    </tr>\n",
       "  </thead>\n",
       "  <tbody>\n",
       "    <tr>\n",
       "      <th>328576</th>\n",
       "      <td>3000.0</td>\n",
       "      <td>36</td>\n",
       "      <td>7.34</td>\n",
       "      <td>93.10</td>\n",
       "      <td>4</td>\n",
       "      <td>52000.0</td>\n",
       "      <td>2018-03-01</td>\n",
       "      <td>Fully Paid</td>\n",
       "      <td>0.58</td>\n",
       "      <td>1998</td>\n",
       "      <td>...</td>\n",
       "      <td>True</td>\n",
       "      <td>False</td>\n",
       "      <td>False</td>\n",
       "      <td>False</td>\n",
       "      <td>False</td>\n",
       "      <td>False</td>\n",
       "      <td>False</td>\n",
       "      <td>False</td>\n",
       "      <td>True</td>\n",
       "      <td>False</td>\n",
       "    </tr>\n",
       "    <tr>\n",
       "      <th>328577</th>\n",
       "      <td>5000.0</td>\n",
       "      <td>36</td>\n",
       "      <td>11.98</td>\n",
       "      <td>166.03</td>\n",
       "      <td>10</td>\n",
       "      <td>55000.0</td>\n",
       "      <td>2018-03-01</td>\n",
       "      <td>Fully Paid</td>\n",
       "      <td>14.18</td>\n",
       "      <td>2001</td>\n",
       "      <td>...</td>\n",
       "      <td>False</td>\n",
       "      <td>False</td>\n",
       "      <td>False</td>\n",
       "      <td>True</td>\n",
       "      <td>False</td>\n",
       "      <td>False</td>\n",
       "      <td>False</td>\n",
       "      <td>False</td>\n",
       "      <td>True</td>\n",
       "      <td>False</td>\n",
       "    </tr>\n",
       "    <tr>\n",
       "      <th>328578</th>\n",
       "      <td>7000.0</td>\n",
       "      <td>36</td>\n",
       "      <td>11.98</td>\n",
       "      <td>232.44</td>\n",
       "      <td>10</td>\n",
       "      <td>40000.0</td>\n",
       "      <td>2018-03-01</td>\n",
       "      <td>Fully Paid</td>\n",
       "      <td>20.25</td>\n",
       "      <td>2007</td>\n",
       "      <td>...</td>\n",
       "      <td>False</td>\n",
       "      <td>False</td>\n",
       "      <td>False</td>\n",
       "      <td>False</td>\n",
       "      <td>False</td>\n",
       "      <td>False</td>\n",
       "      <td>False</td>\n",
       "      <td>False</td>\n",
       "      <td>True</td>\n",
       "      <td>False</td>\n",
       "    </tr>\n",
       "    <tr>\n",
       "      <th>328579</th>\n",
       "      <td>30000.0</td>\n",
       "      <td>36</td>\n",
       "      <td>21.85</td>\n",
       "      <td>1143.39</td>\n",
       "      <td>20</td>\n",
       "      <td>57000.0</td>\n",
       "      <td>2018-03-01</td>\n",
       "      <td>Fully Paid</td>\n",
       "      <td>27.58</td>\n",
       "      <td>2000</td>\n",
       "      <td>...</td>\n",
       "      <td>False</td>\n",
       "      <td>False</td>\n",
       "      <td>False</td>\n",
       "      <td>False</td>\n",
       "      <td>False</td>\n",
       "      <td>False</td>\n",
       "      <td>False</td>\n",
       "      <td>False</td>\n",
       "      <td>True</td>\n",
       "      <td>False</td>\n",
       "    </tr>\n",
       "    <tr>\n",
       "      <th>328580</th>\n",
       "      <td>21000.0</td>\n",
       "      <td>60</td>\n",
       "      <td>20.39</td>\n",
       "      <td>560.94</td>\n",
       "      <td>19</td>\n",
       "      <td>85000.0</td>\n",
       "      <td>2018-03-01</td>\n",
       "      <td>Fully Paid</td>\n",
       "      <td>15.76</td>\n",
       "      <td>2008</td>\n",
       "      <td>...</td>\n",
       "      <td>False</td>\n",
       "      <td>False</td>\n",
       "      <td>False</td>\n",
       "      <td>False</td>\n",
       "      <td>False</td>\n",
       "      <td>False</td>\n",
       "      <td>False</td>\n",
       "      <td>False</td>\n",
       "      <td>True</td>\n",
       "      <td>False</td>\n",
       "    </tr>\n",
       "  </tbody>\n",
       "</table>\n",
       "<p>5 rows × 39 columns</p>\n",
       "</div>"
      ],
      "text/plain": [
       "        loan_amnt  term (months)  int_rate  installment  sub_grade  \\\n",
       "328576     3000.0             36      7.34        93.10          4   \n",
       "328577     5000.0             36     11.98       166.03         10   \n",
       "328578     7000.0             36     11.98       232.44         10   \n",
       "328579    30000.0             36     21.85      1143.39         20   \n",
       "328580    21000.0             60     20.39       560.94         19   \n",
       "\n",
       "        annual_inc    issue_d loan_status    dti  earliest_cr_line  ...  \\\n",
       "328576     52000.0 2018-03-01  Fully Paid   0.58              1998  ...   \n",
       "328577     55000.0 2018-03-01  Fully Paid  14.18              2001  ...   \n",
       "328578     40000.0 2018-03-01  Fully Paid  20.25              2007  ...   \n",
       "328579     57000.0 2018-03-01  Fully Paid  27.58              2000  ...   \n",
       "328580     85000.0 2018-03-01  Fully Paid  15.76              2008  ...   \n",
       "\n",
       "        purpose_major_purchase  purpose_medical  purpose_moving  \\\n",
       "328576                    True            False           False   \n",
       "328577                   False            False           False   \n",
       "328578                   False            False           False   \n",
       "328579                   False            False           False   \n",
       "328580                   False            False           False   \n",
       "\n",
       "        purpose_other  purpose_renewable_energy  purpose_small_business  \\\n",
       "328576          False                     False                   False   \n",
       "328577           True                     False                   False   \n",
       "328578          False                     False                   False   \n",
       "328579          False                     False                   False   \n",
       "328580          False                     False                   False   \n",
       "\n",
       "        purpose_vacation  purpose_wedding  application_type_Individual  \\\n",
       "328576             False            False                         True   \n",
       "328577             False            False                         True   \n",
       "328578             False            False                         True   \n",
       "328579             False            False                         True   \n",
       "328580             False            False                         True   \n",
       "\n",
       "        application_type_Joint App  \n",
       "328576                       False  \n",
       "328577                       False  \n",
       "328578                       False  \n",
       "328579                       False  \n",
       "328580                       False  \n",
       "\n",
       "[5 rows x 39 columns]"
      ]
     },
     "execution_count": 28,
     "metadata": {},
     "output_type": "execute_result"
    }
   ],
   "source": [
    "df_test.head()"
   ]
  },
  {
   "cell_type": "markdown",
   "id": "6413dba2",
   "metadata": {},
   "source": [
    "### Random Forest Model"
   ]
  },
  {
   "cell_type": "code",
   "execution_count": 29,
   "id": "87b9eeec",
   "metadata": {},
   "outputs": [
    {
     "name": "stderr",
     "output_type": "stream",
     "text": [
      "C:\\Users\\winyan\\AppData\\Local\\Temp\\ipykernel_14344\\1542006363.py:3: SettingWithCopyWarning: \n",
      "A value is trying to be set on a copy of a slice from a DataFrame.\n",
      "Try using .loc[row_indexer,col_indexer] = value instead\n",
      "\n",
      "See the caveats in the documentation: https://pandas.pydata.org/pandas-docs/stable/user_guide/indexing.html#returning-a-view-versus-a-copy\n",
      "  df_train['loan_status_encoded'] = le.fit_transform(df_train['loan_status'])\n",
      "C:\\Users\\winyan\\AppData\\Local\\Temp\\ipykernel_14344\\1542006363.py:4: SettingWithCopyWarning: \n",
      "A value is trying to be set on a copy of a slice from a DataFrame.\n",
      "Try using .loc[row_indexer,col_indexer] = value instead\n",
      "\n",
      "See the caveats in the documentation: https://pandas.pydata.org/pandas-docs/stable/user_guide/indexing.html#returning-a-view-versus-a-copy\n",
      "  df_test['loan_status_encoded'] = le.transform(df_test['loan_status'])\n"
     ]
    }
   ],
   "source": [
    "# Encode 'loan_status'\n",
    "le = LabelEncoder()\n",
    "df_train['loan_status_encoded'] = le.fit_transform(df_train['loan_status'])\n",
    "df_test['loan_status_encoded'] = le.transform(df_test['loan_status'])"
   ]
  },
  {
   "cell_type": "code",
   "execution_count": 30,
   "id": "28ade93a",
   "metadata": {},
   "outputs": [
    {
     "name": "stdout",
     "output_type": "stream",
     "text": [
      "Baseline Accuracy: 0.803245547794349\n"
     ]
    }
   ],
   "source": [
    "X_train = df_train.drop(['loan_status', 'loan_status_encoded', 'issue_d'], axis=1)\n",
    "y_train = df_train['loan_status_encoded']\n",
    "X_test = df_test.drop(['loan_status', 'loan_status_encoded', 'issue_d'], axis=1)\n",
    "y_test = df_test['loan_status_encoded']\n",
    "\n",
    "rf_baseline = RandomForestClassifier(random_state=42)\n",
    "\n",
    "rf_baseline.fit(X_train, y_train)\n",
    "\n",
    "y_pred_baseline = rf_baseline.predict(X_test)\n",
    "\n",
    "accuracy_baseline = accuracy_score(y_test, y_pred_baseline)\n",
    "print(f\"Baseline Accuracy: {accuracy_baseline}\")"
   ]
  },
  {
   "cell_type": "code",
   "execution_count": 31,
   "metadata": {},
   "outputs": [
    {
     "name": "stdout",
     "output_type": "stream",
     "text": [
      "                                feature  importance\n",
      "6                                   dti    0.091738\n",
      "10                            revol_bal    0.088016\n",
      "11                           revol_util    0.085012\n",
      "2                              int_rate    0.082833\n",
      "3                           installment    0.078899\n",
      "5                            annual_inc    0.077414\n",
      "12                            total_acc    0.068078\n",
      "7                      earliest_cr_line    0.064169\n",
      "0                             loan_amnt    0.061982\n",
      "4                             sub_grade    0.059462\n",
      "8                              open_acc    0.056140\n",
      "14                             fico_avg    0.052866\n",
      "13                             mort_acc    0.026116\n",
      "1                         term (months)    0.016796\n",
      "9                               pub_rec    0.011257\n",
      "24           purpose_debt_consolidation    0.010248\n",
      "20  verification_status_Source Verified    0.008229\n",
      "23                  purpose_credit_card    0.008141\n",
      "21         verification_status_Verified    0.007883\n",
      "19     verification_status_Not Verified    0.006588\n",
      "18                  home_ownership_RENT    0.005489\n",
      "15              home_ownership_MORTGAGE    0.005105\n",
      "30                        purpose_other    0.004585\n",
      "17                   home_ownership_OWN    0.004544\n",
      "25             purpose_home_improvement    0.004533\n",
      "27               purpose_major_purchase    0.002620\n",
      "32               purpose_small_business    0.002098\n",
      "28                      purpose_medical    0.001856\n",
      "22                          purpose_car    0.001381\n",
      "29                       purpose_moving    0.001282\n",
      "33                     purpose_vacation    0.001170\n",
      "26                        purpose_house    0.000962\n",
      "36           application_type_Joint App    0.000961\n",
      "35          application_type_Individual    0.000957\n",
      "34                      purpose_wedding    0.000260\n",
      "31             purpose_renewable_energy    0.000228\n",
      "16                 home_ownership_OTHER    0.000101\n"
     ]
    }
   ],
   "source": [
    "# Get feature importance using RandomForest\n",
    "\n",
    "importances = rf_baseline.feature_importances_\n",
    "\n",
    "# Get the feature names\n",
    "feature_names = X_train.columns\n",
    "\n",
    "# Create a DataFrame to view the importances\n",
    "feature_importance_df = pd.DataFrame({'feature': feature_names, 'importance': importances})\n",
    "\n",
    "# Sort the DataFrame to see the most important features at the top\n",
    "feature_importance_df = feature_importance_df.sort_values(by='importance', ascending=False)\n",
    "\n",
    "# Display the feature importance\n",
    "print(feature_importance_df)\n"
   ]
  },
  {
   "cell_type": "code",
   "execution_count": 28,
   "id": "a45e0439",
   "metadata": {},
   "outputs": [
    {
     "name": "stdout",
     "output_type": "stream",
     "text": [
      "Fitting 5 folds for each of 24 candidates, totalling 120 fits\n"
     ]
    }
   ],
   "source": [
    "# Define a grid of parameters to search\n",
    "param_grid = {\n",
    "    'n_estimators': [100, 200],\n",
    "    'max_depth': [None, 10, 20],\n",
    "    'min_samples_split': [2, 5],\n",
    "    'min_samples_leaf': [1, 2]\n",
    "}\n",
    "\n",
    "# Initialize GridSearchCV\n",
    "grid_search = GridSearchCV(estimator=RandomForestClassifier(random_state=42), param_grid=param_grid, cv=5, n_jobs=-1, verbose=2)\n",
    "\n",
    "# Fit the model\n",
    "grid_search.fit(X_train, y_train)\n",
    "\n",
    "# Best parameters found\n",
    "print(\"Best parameters found: \", grid_search.best_params_)\n",
    "\n",
    "# Use the best model to predict\n",
    "best_model = grid_search.best_estimator_\n",
    "y_pred_best = best_model.predict(X_test)\n",
    "\n",
    "# Evaluate the tuned model\n",
    "accuracy_best = accuracy_score(y_test, y_pred_best)\n",
    "print(f\"Tuned Model Accuracy: {accuracy_best}\")"
   ]
  },
  {
   "cell_type": "code",
   "execution_count": null,
   "metadata": {},
   "outputs": [],
   "source": []
  }
 ],
 "metadata": {
  "kernelspec": {
   "display_name": "Python 3.12.1 64-bit",
   "language": "python",
   "name": "python3"
  },
  "language_info": {
   "codemirror_mode": {
    "name": "ipython",
    "version": 3
   },
   "file_extension": ".py",
   "mimetype": "text/x-python",
   "name": "python",
   "nbconvert_exporter": "python",
   "pygments_lexer": "ipython3",
   "version": "3.12.1"
  },
  "orig_nbformat": 4,
  "vscode": {
   "interpreter": {
    "hash": "4470cee6e80a5131bd93e49e7347200eb0c6c460ffb63aa3c306dd97edda2cda"
   }
  }
 },
 "nbformat": 4,
 "nbformat_minor": 2
}
