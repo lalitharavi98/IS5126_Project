{
 "cells": [
  {
   "cell_type": "code",
   "execution_count": null,
   "id": "51a6664e",
   "metadata": {},
   "outputs": [],
   "source": [
    "# Import the necessary libraries\n",
    "import pandas as pd\n",
    "import numpy as np\n",
    "import matplotlib.pyplot as plt\n",
    "import seaborn as sns\n",
    "from sklearn.pipeline import Pipeline\n",
    "from sklearn.preprocessing import StandardScaler\n",
    "from sklearn.impute import SimpleImputer\n",
    "from sklearn.discriminant_analysis import LinearDiscriminantAnalysis\n",
    "from sklearn.model_selection import GridSearchCV\n",
    "from sklearn.preprocessing import OneHotEncoder\n",
    "# from category_encoders import TargetEncoder\n",
    "from sklearn.metrics import (\n",
    "    accuracy_score, confusion_matrix, classification_report, \n",
    "    roc_auc_score, roc_curve, auc\n",
    ")\n",
    "from sklearn.linear_model import LogisticRegression\n",
    "from sklearn.linear_model import SGDClassifier\n",
    "from sklearn.model_selection import RandomizedSearchCV\n",
    "from scipy.stats import randint, uniform\n",
    "from sklearn.model_selection import KFold\n",
    "from sklearn.feature_selection import RFE\n",
    "from sklearn.preprocessing import RobustScaler,MinMaxScaler,StandardScaler\n",
    "from sklearn.model_selection import StratifiedKFold\n",
    "import tensorflow as tf\n",
    "from tensorflow.keras.models import Sequential, Model\n",
    "from tensorflow.keras.layers import Dense, Dropout, BatchNormalization \n",
    "from tensorflow.keras.optimizers import Adam\n",
    "import tensorflow_addons as tfa\n",
    "\n"
   ]
  },
  {
   "cell_type": "code",
   "execution_count": null,
   "id": "de7a5d66",
   "metadata": {},
   "outputs": [],
   "source": [
    "# Load the data with outliers \n",
    "train_data = pd.read_csv(\"../data/train.csv\")\n",
    "test_data = pd.read_csv(\"../data/test.csv\")"
   ]
  },
  {
   "cell_type": "code",
   "execution_count": null,
   "id": "750b70a9",
   "metadata": {},
   "outputs": [],
   "source": [
    "pd.set_option('display.max_columns', None)"
   ]
  },
  {
   "cell_type": "code",
   "execution_count": null,
   "id": "912c2b80",
   "metadata": {},
   "outputs": [],
   "source": [
    "train_data.tail()"
   ]
  },
  {
   "cell_type": "code",
   "execution_count": null,
   "id": "e563c494",
   "metadata": {},
   "outputs": [],
   "source": [
    "len(test_data.columns), len(train_data.columns)"
   ]
  },
  {
   "cell_type": "code",
   "execution_count": null,
   "id": "e35a4718",
   "metadata": {},
   "outputs": [],
   "source": [
    "train_data.shape, test_data.shape"
   ]
  },
  {
   "cell_type": "code",
   "execution_count": null,
   "id": "0c135e3b",
   "metadata": {},
   "outputs": [],
   "source": [
    "train_data.info()"
   ]
  },
  {
   "cell_type": "code",
   "execution_count": null,
   "id": "9f0ba242",
   "metadata": {},
   "outputs": [],
   "source": [
    "target_column = 'loan_status'  # Replace with your actual target variable name\n",
    "\n",
    "class_mapping = {'Fully Paid': 0, 'Charged Off': 1}  # Should we default\n",
    "\n",
    "# Apply binary encoding to the target variable in the training DataFrame\n",
    "train_data['Label'] = train_data[target_column].map(class_mapping)\n",
    "test_data['Label'] = test_data[target_column].map(class_mapping)"
   ]
  },
  {
   "cell_type": "code",
   "execution_count": null,
   "id": "b0ee2cd5",
   "metadata": {},
   "outputs": [],
   "source": [
    "print(train_data.shape)\n",
    "train_data['Label'].value_counts(normalize=True) * 100\n"
   ]
  },
  {
   "cell_type": "code",
   "execution_count": null,
   "id": "9aa83741",
   "metadata": {},
   "outputs": [],
   "source": [
    "print(test_data.shape)\n",
    "test_data['Label'].value_counts(normalize=True) * 100"
   ]
  },
  {
   "cell_type": "markdown",
   "id": "3215828a",
   "metadata": {},
   "source": [
    " Leaving 'term (months)' as a number "
   ]
  },
  {
   "cell_type": "code",
   "execution_count": null,
   "id": "c8cac276",
   "metadata": {},
   "outputs": [],
   "source": [
    "train_data = train_data.drop('loan_status', axis = 1)\n",
    "test_data = test_data.drop('loan_status', axis = 1)"
   ]
  },
  {
   "cell_type": "code",
   "execution_count": null,
   "id": "90d913eb",
   "metadata": {},
   "outputs": [],
   "source": [
    "categorical_columns = train_data.select_dtypes(include=['object', 'category']).columns.tolist()\n",
    "categorical_columns"
   ]
  },
  {
   "cell_type": "code",
   "execution_count": null,
   "id": "deba0699",
   "metadata": {},
   "outputs": [],
   "source": [
    "for column in categorical_columns:\n",
    "    unique_values = train_data[column].nunique()\n",
    "    print(f\"Column '{column}' has {unique_values} unique values.\")"
   ]
  },
  {
   "cell_type": "markdown",
   "id": "c970a837",
   "metadata": {},
   "source": [
    "TODO : since home_ownership, verification_status, purpose and application_type have less than neary 10 categories we will use one hot encodign on them\n",
    "target encoding for sub_grade and addr_state\n"
   ]
  },
  {
   "cell_type": "code",
   "execution_count": null,
   "id": "0130f095",
   "metadata": {},
   "outputs": [],
   "source": [
    "cat_columns_ohe = ['home_ownership', 'verification_status', 'application_type', 'addr_state', 'sub_grade', 'purpose']\n",
    "\n",
    "# cat_columns_ohe = ['home_ownership', 'verification_status', 'application_type']\n",
    "# cat_target_encoding = ['addr_state', 'sub_grade', 'purpose']\n",
    "\n"
   ]
  },
  {
   "cell_type": "code",
   "execution_count": null,
   "id": "9b38b635",
   "metadata": {},
   "outputs": [],
   "source": [
    "train_data.head()"
   ]
  },
  {
   "cell_type": "code",
   "execution_count": null,
   "id": "742c89e7",
   "metadata": {},
   "outputs": [],
   "source": [
    "# encoder = TargetEncoder(cols=cat_target_encoding)\n",
    "\n",
    "# encoder.fit(train_data[cat_target_encoding], train_data['Label'])\n"
   ]
  },
  {
   "cell_type": "code",
   "execution_count": null,
   "id": "067c8549",
   "metadata": {},
   "outputs": [],
   "source": [
    "# X_train_encoded = encoder.transform(train_data[cat_target_encoding])\n",
    "# X_test_encoded = encoder.transform(test_data[cat_target_encoding])\n",
    "\n",
    "# # Replace original categorical columns with encoded columns in X_train and X_test\n",
    "# X_train_encoded.columns = [f\"{col}_encoded\" for col in cat_target_encoding]\n",
    "# X_test_encoded.columns = [f\"{col}_encoded\" for col in cat_target_encoding]\n",
    "\n",
    "# # Drop original categorical columns from X_train and X_test\n",
    "# train_data.drop(columns=cat_target_encoding, inplace=True)\n",
    "# test_data.drop(columns=cat_target_encoding, inplace=True)\n",
    "\n",
    "# # Concatenate encoded columns with remaining features\n",
    "# train_data = pd.concat([train_data, X_train_encoded], axis=1)\n",
    "# test_data = pd.concat([test_data, X_test_encoded], axis=1)"
   ]
  },
  {
   "cell_type": "code",
   "execution_count": null,
   "id": "71b41f80",
   "metadata": {},
   "outputs": [],
   "source": [
    "combined_df = pd.concat([train_data, test_data], axis=0)\n",
    "combined_df.reset_index(drop=True, inplace=True)\n",
    "\n",
    "custom_prefixes = {col: col + \"_\" for col in cat_columns_ohe}\n",
    "\n",
    "encoded_combined_df = pd.get_dummies(combined_df, columns=cat_columns_ohe, drop_first=True, prefix=custom_prefixes)\n",
    "\n",
    "encoded_combined_df.reset_index(drop=True, inplace=True)\n"
   ]
  },
  {
   "cell_type": "code",
   "execution_count": null,
   "id": "48f5786a",
   "metadata": {},
   "outputs": [],
   "source": [
    "train_data = encoded_combined_df.iloc[:len(train_data)]\n",
    "train_data.reset_index(drop=True, inplace=True)\n",
    "test_data = encoded_combined_df.iloc[len(train_data):]\n",
    "test_data.reset_index(drop=True, inplace=True)\n"
   ]
  },
  {
   "cell_type": "code",
   "execution_count": null,
   "id": "40b7beea",
   "metadata": {},
   "outputs": [],
   "source": [
    "train_data.head()"
   ]
  },
  {
   "cell_type": "code",
   "execution_count": null,
   "id": "c1f11242",
   "metadata": {},
   "outputs": [],
   "source": [
    "numerical_columns = train_data.select_dtypes(include=['number']).columns.tolist()\n",
    "# numerical_columns = [col for col in numerical_columns if col not in ['Label', 'addr_state_encoded', 'sub_grade_encoded', 'purpose_encoded']]\n",
    "numerical_columns = [col for col in numerical_columns if col not in ['Label']]\n",
    "numerical_columns"
   ]
  },
  {
   "cell_type": "code",
   "execution_count": null,
   "id": "48879321",
   "metadata": {},
   "outputs": [],
   "source": [
    "train_numerical_data = train_data[numerical_columns]\n",
    "test_numerical_data = test_data[numerical_columns]\n",
    "\n",
    "train_data = train_data.drop(columns=numerical_columns)\n",
    "test_data = test_data.drop(columns=numerical_columns)\n",
    "\n",
    "scaler = RobustScaler()\n",
    "scaled_train_data = scaler.fit_transform(train_numerical_data)\n",
    "scaled_test_data = scaler.transform(test_numerical_data)\n",
    "scaled_train_df = pd.DataFrame(scaled_train_data, columns=numerical_columns)\n",
    "scaled_test_df = pd.DataFrame(scaled_test_data, columns=numerical_columns)\n",
    "robust_train_data = pd.concat([train_data, scaled_train_df], axis=1)\n",
    "robust_test_data = pd.concat([test_data, scaled_test_df], axis=1)\n",
    "\n",
    " \n",
    "scaler = StandardScaler()\n",
    "scaled_train_data = scaler.fit_transform(train_numerical_data)\n",
    "scaled_test_data = scaler.transform(test_numerical_data)\n",
    "scaled_train_df = pd.DataFrame(scaled_train_data, columns=numerical_columns)\n",
    "scaled_test_df = pd.DataFrame(scaled_test_data, columns=numerical_columns)\n",
    "standard_train_data = pd.concat([train_data, scaled_train_df], axis=1)\n",
    "standard_test_data = pd.concat([test_data, scaled_test_df], axis=1)\n",
    "\n",
    "\n",
    "scaler = MinMaxScaler()\n",
    "scaled_train_data = scaler.fit_transform(train_numerical_data)\n",
    "scaled_test_data = scaler.transform(test_numerical_data)\n",
    "scaled_train_df = pd.DataFrame(scaled_train_data, columns=numerical_columns)\n",
    "scaled_test_df = pd.DataFrame(scaled_test_data, columns=numerical_columns)\n",
    "minmax_train_data = pd.concat([train_data, scaled_train_df], axis=1)\n",
    "minmax_test_data = pd.concat([test_data, scaled_test_df], axis=1)"
   ]
  },
  {
   "cell_type": "code",
   "execution_count": null,
   "id": "346a834f",
   "metadata": {},
   "outputs": [],
   "source": [
    "robust_train_data.head()\n",
    "\n"
   ]
  },
  {
   "cell_type": "code",
   "execution_count": null,
   "id": "953d1e52",
   "metadata": {},
   "outputs": [],
   "source": [
    "robust_train_data = robust_train_data[robust_train_data['dti'] >= 0]\n",
    "standard_train_data = standard_train_data[standard_train_data['dti'] >= 0]\n",
    "minmax_train_data = minmax_train_data[minmax_train_data['dti'] >= 0]\n"
   ]
  },
  {
   "cell_type": "code",
   "execution_count": null,
   "id": "d5b6eb76",
   "metadata": {},
   "outputs": [],
   "source": [
    "# train_data = train_data.drop('issue_d', axis = 1)\n",
    "# test_data = test_data.drop('issue_d', axis = 1)"
   ]
  },
  {
   "cell_type": "code",
   "execution_count": null,
   "id": "3941548e",
   "metadata": {},
   "outputs": [],
   "source": [
    "boolean_columns = train_data.select_dtypes(include=[bool]).columns\n",
    "\n",
    "robust_train_data[boolean_columns] = robust_train_data[boolean_columns].astype(int)\n",
    "robust_test_data[boolean_columns] = robust_test_data[boolean_columns].astype(int)\n",
    "\n",
    "standard_train_data[boolean_columns] = standard_train_data[boolean_columns].astype(int)\n",
    "standard_test_data[boolean_columns] = standard_test_data[boolean_columns].astype(int)\n",
    "\n",
    "minmax_train_data[boolean_columns] = minmax_train_data[boolean_columns].astype(int)\n",
    "minmax_test_data[boolean_columns] = minmax_test_data[boolean_columns].astype(int)\n",
    "\n",
    "\n",
    "\n"
   ]
  },
  {
   "cell_type": "code",
   "execution_count": null,
   "id": "708beebc",
   "metadata": {},
   "outputs": [],
   "source": [
    "robust_train_data.head()\n",
    "\n"
   ]
  },
  {
   "cell_type": "code",
   "execution_count": null,
   "id": "91fd023a",
   "metadata": {},
   "outputs": [],
   "source": [
    "# numerical_cols = numerical_columns.append('Label')\n",
    "numerical_cols = numerical_columns + [\"Label\"]\n",
    "numerical_cols"
   ]
  },
  {
   "cell_type": "code",
   "execution_count": null,
   "id": "2abf12b6",
   "metadata": {},
   "outputs": [],
   "source": [
    "plt.figure(figsize = (20, 20))\n",
    "sns.heatmap(robust_train_data[numerical_cols].corr(), cmap=\"RdYlGn\")\n",
    "plt.show()"
   ]
  },
  {
   "cell_type": "code",
   "execution_count": null,
   "id": "c8ce1f6c",
   "metadata": {},
   "outputs": [],
   "source": [
    "plt.figure(figsize = (20, 20))\n",
    "sns.heatmap(standard_train_data[numerical_cols].corr(), cmap=\"RdYlGn\")\n",
    "plt.show()"
   ]
  },
  {
   "cell_type": "code",
   "execution_count": null,
   "id": "d1882219",
   "metadata": {},
   "outputs": [],
   "source": [
    "plt.figure(figsize = (20, 20))\n",
    "sns.heatmap(minmax_train_data[numerical_cols].corr(), cmap=\"RdYlGn\")\n",
    "plt.show()"
   ]
  },
  {
   "cell_type": "code",
   "execution_count": null,
   "id": "7f2d2356",
   "metadata": {},
   "outputs": [],
   "source": [
    "X_train_robust  = robust_train_data.drop(\"Label\", axis = 1)\n",
    "y_train_robust = robust_train_data[\"Label\"]\n",
    "X_test_robust = robust_test_data.drop(\"Label\", axis = 1)\n",
    "y_test_robust = robust_test_data[\"Label\"]\n",
    "\n",
    "X_train_standard = standard_train_data.drop(\"Label\", axis=1)\n",
    "y_train_standard = standard_train_data[\"Label\"]\n",
    "X_test_standard = standard_test_data.drop(\"Label\", axis=1)\n",
    "y_test_standard = standard_test_data[\"Label\"]\n",
    "\n",
    "X_train_minmax = minmax_train_data.drop(\"Label\", axis=1)\n",
    "y_train_minmax = minmax_train_data[\"Label\"]\n",
    "X_test_minmax = minmax_test_data.drop(\"Label\", axis=1)\n",
    "y_test_minmax = minmax_test_data[\"Label\"]"
   ]
  },
  {
   "cell_type": "code",
   "execution_count": null,
   "id": "f1bab9c2",
   "metadata": {},
   "outputs": [],
   "source": [
    "X_train_robust.shape"
   ]
  },
  {
   "cell_type": "code",
   "execution_count": null,
   "id": "d7858877",
   "metadata": {},
   "outputs": [],
   "source": [
    "# from sklearn.preprocessing import PowerTransformer\n",
    "\n",
    "# # Select only the specified numerical columns\n",
    "# # selected_numerical_columns = [col for col in numerical_columns if col not in ['Label', 'mort_acc', 'pub_rec']]\n",
    "# selected_numerical_columns = [col for col in numerical_columns if col not in ['Label']]\n",
    "\n",
    "# # Apply Box-Cox Transform after handling zero values\n",
    "# train_data_transformed = X_train[selected_numerical_columns].apply(lambda x: x + 0.000001 if (x <= 0).any() else x)\n",
    "# pt = PowerTransformer(method='box-cox')\n",
    "# train_data_transformed[selected_numerical_columns] = pt.fit_transform(train_data_transformed)\n",
    "\n",
    "# # Replace original numerical columns in X_train with their normalized versions\n",
    "# X_train[selected_numerical_columns] = train_data_transformed[selected_numerical_columns]\n"
   ]
  },
  {
   "cell_type": "code",
   "execution_count": null,
   "id": "ff2a5183",
   "metadata": {},
   "outputs": [],
   "source": [
    "# pd.DataFrame({'cols':selected_numerical_columns,'box_cox_lambdas':pt.lambdas_})"
   ]
  },
  {
   "cell_type": "code",
   "execution_count": null,
   "id": "a332875a",
   "metadata": {},
   "outputs": [],
   "source": [
    "# X_train.columns[X_train.isna().any()].tolist()"
   ]
  },
  {
   "cell_type": "code",
   "execution_count": null,
   "id": "b291d8ba",
   "metadata": {},
   "outputs": [],
   "source": [
    "# X_test.shape,y_test.shape, X_train.shape, y_train.shape"
   ]
  },
  {
   "cell_type": "code",
   "execution_count": null,
   "id": "34e29771",
   "metadata": {},
   "outputs": [],
   "source": [
    "def print_score(true, pred, train=True):\n",
    "    if train:\n",
    "        clf_report = pd.DataFrame(classification_report(true, pred, output_dict=True))\n",
    "        print(\"Train Result:\\n================================================\")\n",
    "        print(f\"Accuracy Score: {accuracy_score(true, pred) * 100:.2f}%\")\n",
    "        print(\"_______________________________________________\")\n",
    "        print(f\"CLASSIFICATION REPORT:\\n{clf_report}\")\n",
    "        print(\"_______________________________________________\")\n",
    "        print(f\"Confusion Matrix: \\n {confusion_matrix(true, pred)}\\n\")\n",
    "        \n",
    "    elif train==False:\n",
    "        clf_report = pd.DataFrame(classification_report(true, pred, output_dict=True))\n",
    "        print(\"Test Result:\\n================================================\")        \n",
    "        print(f\"Accuracy Score: {accuracy_score(true, pred) * 100:.2f}%\")\n",
    "        print(\"_______________________________________________\")\n",
    "        print(f\"CLASSIFICATION REPORT:\\n{clf_report}\")\n",
    "        print(\"_______________________________________________\")\n",
    "        print(f\"Confusion Matrix: \\n {confusion_matrix(true, pred)}\\n\")"
   ]
  },
  {
   "cell_type": "markdown",
   "id": "0d3d419b",
   "metadata": {},
   "source": [
    "The SGDClassifier estimator in scikit-learn implements linear classifiers (SVM, logistic regression, and others) with stochastic gradient descent (SGD) training. A particular linear classifier is chosen through the loss hyperparameter. Because we want to predict the probability of charge-off, we choose logistic regression (a probabilistic classifier) by setting loss = 'log'."
   ]
  },
  {
   "cell_type": "code",
   "execution_count": null,
   "id": "c75db6d9",
   "metadata": {},
   "outputs": [],
   "source": [
    "naive_model = SGDClassifier(loss='log_loss')\n"
   ]
  },
  {
   "cell_type": "code",
   "execution_count": null,
   "id": "8db8a406",
   "metadata": {},
   "outputs": [],
   "source": [
    "naive_model.fit(X_train_robust, y_train_robust)"
   ]
  },
  {
   "cell_type": "code",
   "execution_count": null,
   "id": "0b9bbf88",
   "metadata": {},
   "outputs": [],
   "source": [
    "y_train_pred_robust = naive_model.predict(X_train_robust)\n",
    "y_pred_robust = naive_model.predict(X_test_robust)"
   ]
  },
  {
   "cell_type": "code",
   "execution_count": null,
   "id": "c7ef64fc",
   "metadata": {
    "scrolled": false
   },
   "outputs": [],
   "source": [
    "print_score(y_train_robust, y_train_pred_robust, train=True)\n",
    "print_score(y_test_robust, y_pred_robust, train=False)\n"
   ]
  },
  {
   "cell_type": "code",
   "execution_count": null,
   "id": "4292eb46",
   "metadata": {},
   "outputs": [],
   "source": [
    "naive_model.fit(X_train_standard, y_train_standard)"
   ]
  },
  {
   "cell_type": "code",
   "execution_count": null,
   "id": "f9496e1a",
   "metadata": {},
   "outputs": [],
   "source": [
    "y_train_pred_standard = naive_model.predict(X_train_standard)\n",
    "y_pred_standard = naive_model.predict(X_test_standard)"
   ]
  },
  {
   "cell_type": "code",
   "execution_count": null,
   "id": "b7d73921",
   "metadata": {},
   "outputs": [],
   "source": [
    "print_score(y_train_standard, y_train_pred_standard, train=True)\n",
    "print_score(y_test_standard, y_pred_standard, train=False)\n"
   ]
  },
  {
   "cell_type": "code",
   "execution_count": null,
   "id": "4174682e",
   "metadata": {},
   "outputs": [],
   "source": [
    "naive_model.fit(X_train_minmax, y_train_minmax)"
   ]
  },
  {
   "cell_type": "code",
   "execution_count": null,
   "id": "21a60238",
   "metadata": {},
   "outputs": [],
   "source": [
    "y_train_pred_minmax = naive_model.predict(X_train_minmax)\n",
    "y_pred_minmax = naive_model.predict(X_test_minmax)"
   ]
  },
  {
   "cell_type": "code",
   "execution_count": null,
   "id": "0b3f885d",
   "metadata": {},
   "outputs": [],
   "source": [
    "print_score(y_train_minmax, y_train_pred_minmax, train=True)\n",
    "print_score(y_test_minmax, y_pred_minmax, train=False)\n"
   ]
  },
  {
   "cell_type": "code",
   "execution_count": null,
   "id": "b8e556ec",
   "metadata": {},
   "outputs": [],
   "source": [
    "from sklearn.metrics import precision_recall_curve\n",
    "import matplotlib.pyplot as plt\n",
    "\n",
    "plt.figure(figsize=(8, 6))\n",
    "\n",
    "for y_pred, y_true, label in zip([y_pred_robust, y_pred_standard, y_pred_minmax],[y_test_robust, y_test_standard, y_test_minmax], ['Robust', 'Standard', 'MinMax']):\n",
    "    # Compute precision-recall curve\n",
    "    precision, recall, _ = precision_recall_curve(y_true, y_pred)\n",
    "    \n",
    "    # Plot precision-recall curve\n",
    "    plt.plot(recall, precision, label=label)\n",
    "\n",
    "plt.xlabel('Recall')\n",
    "plt.ylabel('Precision')\n",
    "plt.title('Basic model Precision-Recall Curve')\n",
    "plt.legend()\n",
    "plt.grid(True)\n",
    "plt.show()\n"
   ]
  },
  {
   "cell_type": "code",
   "execution_count": null,
   "id": "75339020",
   "metadata": {},
   "outputs": [],
   "source": [
    "model = SGDClassifier(loss='log_loss', max_iter=1000, tol=1e-3, random_state=1, warm_start=True, class_weight='balanced')\n",
    "\n",
    "kf = StratifiedKFold(n_splits=5, shuffle=False)\n"
   ]
  },
  {
   "cell_type": "code",
   "execution_count": null,
   "id": "4bb26754",
   "metadata": {},
   "outputs": [],
   "source": [
    "param_grid_sgdlogreg = {\n",
    "    'alpha': [10**-5, 10**-2, 10**1],\n",
    "    'penalty': ['l1', 'l2']\n",
    "}"
   ]
  },
  {
   "cell_type": "code",
   "execution_count": null,
   "id": "292fa358",
   "metadata": {},
   "outputs": [],
   "source": [
    "grid_sgdlogreg_robust = GridSearchCV(estimator=model, \n",
    "                               param_grid=param_grid_sgdlogreg, \n",
    "                               scoring='f1_weighted',  # Change scoring metric to F1 score\n",
    "                               n_jobs=-1, \n",
    "                               pre_dispatch='2*n_jobs', \n",
    "                               cv=kf, \n",
    "                               verbose=1, \n",
    "                               return_train_score=False)\n",
    "\n",
    "grid_sgdlogreg_standard = GridSearchCV(estimator=model, \n",
    "                               param_grid=param_grid_sgdlogreg, \n",
    "                               scoring='f1_weighted',  # Change scoring metric to F1 score\n",
    "                               n_jobs=-1, \n",
    "                               pre_dispatch='2*n_jobs', \n",
    "                               cv=kf, \n",
    "                               verbose=1, \n",
    "                               return_train_score=False)\n",
    "\n",
    "\n",
    "grid_sgdlogreg_minmax = GridSearchCV(estimator=model, \n",
    "                               param_grid=param_grid_sgdlogreg, \n",
    "                               scoring='f1_weighted',  # Change scoring metric to F1 score\n",
    "                               n_jobs=-1, \n",
    "                               pre_dispatch='2*n_jobs', \n",
    "                               cv=kf, \n",
    "                               verbose=1, \n",
    "                               return_train_score=False)"
   ]
  },
  {
   "cell_type": "code",
   "execution_count": null,
   "id": "332bba82",
   "metadata": {},
   "outputs": [],
   "source": [
    "grid_sgdlogreg_robust.fit(X_train_robust, y_train_robust)"
   ]
  },
  {
   "cell_type": "code",
   "execution_count": null,
   "id": "17968bdf",
   "metadata": {},
   "outputs": [],
   "source": [
    "grid_sgdlogreg_robust.best_score_"
   ]
  },
  {
   "cell_type": "code",
   "execution_count": null,
   "id": "7f671c7d",
   "metadata": {},
   "outputs": [],
   "source": [
    "grid_sgdlogreg_robust.best_params_"
   ]
  },
  {
   "cell_type": "code",
   "execution_count": null,
   "id": "f22c15ba",
   "metadata": {},
   "outputs": [],
   "source": [
    "grid_sgdlogreg_standard.fit(X_train_standard, y_train_standard)"
   ]
  },
  {
   "cell_type": "code",
   "execution_count": null,
   "id": "fa4ebf4e",
   "metadata": {},
   "outputs": [],
   "source": [
    "grid_sgdlogreg_standard.best_score_"
   ]
  },
  {
   "cell_type": "code",
   "execution_count": null,
   "id": "6adc018f",
   "metadata": {},
   "outputs": [],
   "source": [
    "grid_sgdlogreg_standard.best_params_"
   ]
  },
  {
   "cell_type": "code",
   "execution_count": null,
   "id": "060d40e0",
   "metadata": {},
   "outputs": [],
   "source": [
    "grid_sgdlogreg_minmax.fit(X_train_minmax, y_train_minmax)"
   ]
  },
  {
   "cell_type": "code",
   "execution_count": null,
   "id": "12af78a7",
   "metadata": {},
   "outputs": [],
   "source": [
    "grid_sgdlogreg_minmax.best_score_"
   ]
  },
  {
   "cell_type": "code",
   "execution_count": null,
   "id": "8a3748b7",
   "metadata": {},
   "outputs": [],
   "source": [
    "grid_sgdlogreg_minmax.best_params_"
   ]
  },
  {
   "cell_type": "code",
   "execution_count": null,
   "id": "be53a9a7",
   "metadata": {},
   "outputs": [],
   "source": [
    "y_train_pred_robust = grid_sgdlogreg_robust.predict(X_train_robust)\n",
    "y_pred_robust = grid_sgdlogreg_robust.predict(X_test_robust)"
   ]
  },
  {
   "cell_type": "code",
   "execution_count": null,
   "id": "27008d54",
   "metadata": {},
   "outputs": [],
   "source": [
    "print_score(y_train_robust, y_train_pred_robust, train=True)\n",
    "print_score(y_test_robust, y_pred_robust, train=False)\n"
   ]
  },
  {
   "cell_type": "code",
   "execution_count": null,
   "id": "5ef4f795",
   "metadata": {},
   "outputs": [],
   "source": [
    "y_train_pred_standard = grid_sgdlogreg_standard.predict(X_train_standard)\n",
    "y_pred_standard = grid_sgdlogreg_standard.predict(X_test_standard)"
   ]
  },
  {
   "cell_type": "code",
   "execution_count": null,
   "id": "934d2594",
   "metadata": {},
   "outputs": [],
   "source": [
    "print_score(y_train_standard, y_train_pred_standard, train=True)\n",
    "print_score(y_test_standard, y_pred_standard, train=False)"
   ]
  },
  {
   "cell_type": "code",
   "execution_count": null,
   "id": "86c9c242",
   "metadata": {},
   "outputs": [],
   "source": [
    "y_train_pred_minmax = grid_sgdlogreg_minmax.predict(X_train_minmax)\n",
    "y_pred_minmax = grid_sgdlogreg_minmax.predict(X_test_minmax)"
   ]
  },
  {
   "cell_type": "code",
   "execution_count": null,
   "id": "bfee2f80",
   "metadata": {},
   "outputs": [],
   "source": [
    "print_score(y_train_minmax, y_train_pred_minmax, train=True)\n",
    "print_score(y_test_minmax, y_pred_minmax, train=False)"
   ]
  },
  {
   "cell_type": "code",
   "execution_count": null,
   "id": "106a2aac",
   "metadata": {},
   "outputs": [],
   "source": [
    "from sklearn.metrics import precision_recall_curve\n",
    "import matplotlib.pyplot as plt\n",
    "\n",
    "plt.figure(figsize=(8, 6))\n",
    "\n",
    "for y_pred, y_true, label in zip([y_pred_robust, y_pred_standard, y_pred_minmax],[y_test_robust, y_test_standard, y_test_minmax], ['Robust', 'Standard', 'MinMax']):\n",
    "    # Compute precision-recall curve\n",
    "    precision, recall, _ = precision_recall_curve(y_true, y_pred)\n",
    "    \n",
    "    # Plot precision-recall curve\n",
    "    plt.plot(recall, precision, label=label)\n",
    "\n",
    "plt.xlabel('Recall')\n",
    "plt.ylabel('Precision')\n",
    "plt.title('Precision-Recall Curve')\n",
    "plt.legend()\n",
    "plt.grid(True)\n",
    "plt.show()\n"
   ]
  },
  {
   "cell_type": "markdown",
   "id": "ed06abc4",
   "metadata": {},
   "source": [
    "## With undersampling"
   ]
  },
  {
   "cell_type": "code",
   "execution_count": null,
   "id": "46b70f5c",
   "metadata": {},
   "outputs": [],
   "source": [
    "from imblearn.pipeline import Pipeline, make_pipeline\n",
    "from imblearn.under_sampling import RandomUnderSampler"
   ]
  },
  {
   "cell_type": "code",
   "execution_count": null,
   "id": "035e3bc2",
   "metadata": {},
   "outputs": [],
   "source": [
    "rus = RandomUnderSampler(random_state=42)"
   ]
  },
  {
   "cell_type": "code",
   "execution_count": null,
   "id": "013e44e0",
   "metadata": {},
   "outputs": [],
   "source": [
    "X_under_robust, y_under_robust = rus.fit_resample(X_train_robust, y_train_robust)\n",
    "X_under_minmax, y_under_minmax = rus.fit_resample(X_train_minmax, y_train_minmax)\n",
    "X_under_standard, y_under_standard = rus.fit_resample(X_train_standard, y_train_standard)"
   ]
  },
  {
   "cell_type": "code",
   "execution_count": null,
   "id": "448a0969",
   "metadata": {},
   "outputs": [],
   "source": [
    "print('Fully Paid:', y_under_robust.value_counts()[0], '/', round(y_under_robust.value_counts()[0]/len(y_under_robust) * 100,2), '% of the dataset')\n",
    "print('Charged Off:', y_under_robust.value_counts()[1], '/',round(y_under_robust.value_counts()[1]/len(y_under_robust) * 100,2), '% of the dataset')\n",
    "\n",
    "\n"
   ]
  },
  {
   "cell_type": "code",
   "execution_count": null,
   "id": "1220cf45",
   "metadata": {},
   "outputs": [],
   "source": [
    "param_grid_sgdlogreg = {\n",
    "    'sgdclassifier__alpha': [0.00001, 0.001, 10],\n",
    "    'sgdclassifier__penalty': ['l1', 'l2'],\n",
    "}"
   ]
  },
  {
   "cell_type": "code",
   "execution_count": null,
   "id": "d926da7a",
   "metadata": {},
   "outputs": [],
   "source": [
    "pipeline = make_pipeline(RandomUnderSampler(random_state=42),\n",
    "                       SGDClassifier(loss='log_loss', max_iter=1000, tol=1e-3, random_state=1, warm_start=True, class_weight='balanced'))\n",
    "\n"
   ]
  },
  {
   "cell_type": "code",
   "execution_count": null,
   "id": "8d5c9476",
   "metadata": {},
   "outputs": [],
   "source": [
    "grid_sgdlogreg_robust = GridSearchCV(estimator=pipeline, \n",
    "                               param_grid=param_grid_sgdlogreg, \n",
    "                               scoring='f1',  # Change scoring metric to F1 score\n",
    "                               n_jobs=-1, \n",
    "                               pre_dispatch='2*n_jobs', \n",
    "                               cv=kf, \n",
    "                               verbose=1, \n",
    "                               return_train_score=True)\n",
    "\n",
    "grid_sgdlogreg_standard = GridSearchCV(estimator=pipeline, \n",
    "                               param_grid=param_grid_sgdlogreg, \n",
    "                               scoring='f1',  # Change scoring metric to F1 score\n",
    "                               n_jobs=-1, \n",
    "                               pre_dispatch='2*n_jobs', \n",
    "                               cv=kf, \n",
    "                               verbose=1, \n",
    "                               return_train_score=True)\n",
    "\n",
    "\n",
    "grid_sgdlogreg_minmax = GridSearchCV(estimator=pipeline, \n",
    "                               param_grid=param_grid_sgdlogreg, \n",
    "                               scoring='f1',  # Change scoring metric to F1 score\n",
    "                               n_jobs=-1, \n",
    "                               pre_dispatch='2*n_jobs', \n",
    "                               cv=kf, \n",
    "                               verbose=1, \n",
    "                               return_train_score=True)"
   ]
  },
  {
   "cell_type": "code",
   "execution_count": null,
   "id": "2d1189b0",
   "metadata": {},
   "outputs": [],
   "source": [
    "grid_sgdlogreg_robust.fit(X_train_robust, y_train_robust)"
   ]
  },
  {
   "cell_type": "code",
   "execution_count": null,
   "id": "439e7cef",
   "metadata": {},
   "outputs": [],
   "source": [
    "grid_sgdlogreg_robust.best_score_"
   ]
  },
  {
   "cell_type": "code",
   "execution_count": null,
   "id": "75bf40e9",
   "metadata": {},
   "outputs": [],
   "source": [
    "grid_sgdlogreg_robust.best_params_"
   ]
  },
  {
   "cell_type": "code",
   "execution_count": null,
   "id": "10096905",
   "metadata": {},
   "outputs": [],
   "source": [
    "y_train_pred_robust = grid_sgdlogreg_robust.predict(X_train_robust)\n",
    "y_pred_robust = grid_sgdlogreg_robust.predict(X_test_robust)"
   ]
  },
  {
   "cell_type": "code",
   "execution_count": null,
   "id": "55e86e52",
   "metadata": {},
   "outputs": [],
   "source": [
    "print_score(y_train_robust, y_train_pred_robust, train=True)\n",
    "print_score(y_test_robust, y_pred_robust, train=False)\n"
   ]
  },
  {
   "cell_type": "code",
   "execution_count": null,
   "id": "a5cc3cee",
   "metadata": {},
   "outputs": [],
   "source": [
    "grid_sgdlogreg_standard.fit(X_train_standard, y_train_standard)"
   ]
  },
  {
   "cell_type": "code",
   "execution_count": null,
   "id": "a241294b",
   "metadata": {},
   "outputs": [],
   "source": [
    "grid_sgdlogreg_standard.best_score_"
   ]
  },
  {
   "cell_type": "code",
   "execution_count": null,
   "id": "7fbca074",
   "metadata": {},
   "outputs": [],
   "source": [
    "grid_sgdlogreg_standard.best_params_"
   ]
  },
  {
   "cell_type": "code",
   "execution_count": null,
   "id": "e4e41a12",
   "metadata": {},
   "outputs": [],
   "source": [
    "y_train_pred_standard = grid_sgdlogreg_standard.predict(X_train_standard)\n",
    "y_pred_standard = grid_sgdlogreg_standard.predict(X_test_standard)"
   ]
  },
  {
   "cell_type": "code",
   "execution_count": null,
   "id": "aaa43363",
   "metadata": {},
   "outputs": [],
   "source": [
    "print_score(y_train_standard, y_train_pred_standard, train=True)\n",
    "print_score(y_test_standard, y_pred_standard, train=False)"
   ]
  },
  {
   "cell_type": "code",
   "execution_count": null,
   "id": "70712255",
   "metadata": {},
   "outputs": [],
   "source": [
    "grid_sgdlogreg_minmax.fit(X_train_minmax, y_train_minmax)"
   ]
  },
  {
   "cell_type": "code",
   "execution_count": null,
   "id": "cf24f9da",
   "metadata": {},
   "outputs": [],
   "source": [
    "grid_sgdlogreg_minmax.best_score_"
   ]
  },
  {
   "cell_type": "code",
   "execution_count": null,
   "id": "c857994c",
   "metadata": {},
   "outputs": [],
   "source": [
    "grid_sgdlogreg_minmax.best_params_"
   ]
  },
  {
   "cell_type": "code",
   "execution_count": null,
   "id": "d51d368f",
   "metadata": {},
   "outputs": [],
   "source": [
    "y_train_pred_minmax = grid_sgdlogreg_minmax.predict(X_train_minmax)\n",
    "y_pred_minmax = grid_sgdlogreg_minmax.predict(X_test_minmax)"
   ]
  },
  {
   "cell_type": "code",
   "execution_count": null,
   "id": "978e726e",
   "metadata": {},
   "outputs": [],
   "source": [
    "print_score(y_train_minmax, y_train_pred_minmax, train=True)\n",
    "print_score(y_test_minmax, y_pred_minmax, train=False)"
   ]
  },
  {
   "cell_type": "code",
   "execution_count": null,
   "id": "26224fd1",
   "metadata": {},
   "outputs": [],
   "source": [
    "from sklearn.metrics import precision_recall_curve\n",
    "import matplotlib.pyplot as plt\n",
    "\n",
    "plt.figure(figsize=(8, 6))\n",
    "\n",
    "for y_pred, y_true, label in zip([y_pred_robust, y_pred_standard, y_pred_minmax],[y_test_robust, y_test_standard, y_test_minmax], ['Robust', 'Standard', 'MinMax']):\n",
    "    # Compute precision-recall curve\n",
    "    precision, recall, _ = precision_recall_curve(y_true, y_pred)\n",
    "    \n",
    "    # Plot precision-recall curve\n",
    "    plt.plot(recall, precision, label=label)\n",
    "\n",
    "plt.xlabel('Recall')\n",
    "plt.ylabel('Precision')\n",
    "plt.title('Precision-Recall Curve')\n",
    "plt.legend()\n",
    "plt.grid(True)\n",
    "plt.show()\n"
   ]
  },
  {
   "cell_type": "code",
   "execution_count": null,
   "id": "f489c394",
   "metadata": {},
   "outputs": [],
   "source": [
    "def evaluate_nn(true, pred, train=True):\n",
    "    if train:\n",
    "        clf_report = pd.DataFrame(classification_report(true, pred, output_dict=True))\n",
    "        print(\"Train Result:\\n================================================\")\n",
    "        print(f\"Accuracy Score: {accuracy_score(true, pred) * 100:.2f}%\")\n",
    "        print(\"_______________________________________________\")\n",
    "        print(f\"CLASSIFICATION REPORT:\\n{clf_report}\")\n",
    "        print(\"_______________________________________________\")\n",
    "        print(f\"Confusion Matrix: \\n {confusion_matrix(true, pred)}\\n\")\n",
    "        \n",
    "    elif train==False:\n",
    "        clf_report = pd.DataFrame(classification_report(true, pred, output_dict=True))\n",
    "        print(\"Test Result:\\n================================================\")        \n",
    "        print(f\"Accuracy Score: {accuracy_score(true, pred) * 100:.2f}%\")\n",
    "        print(\"_______________________________________________\")\n",
    "        print(f\"CLASSIFICATION REPORT:\\n{clf_report}\")\n",
    "        print(\"_______________________________________________\")\n",
    "        print(f\"Confusion Matrix: \\n {confusion_matrix(true, pred)}\\n\")\n",
    "        \n",
    "def plot_learning_evolution(r):\n",
    "    plt.figure(figsize=(12, 8))\n",
    "    \n",
    "    plt.subplot(2, 2, 1)\n",
    "    plt.plot(r.history['loss'], label='Loss')\n",
    "    plt.plot(r.history['val_loss'], label='val_Loss')\n",
    "    plt.title('Loss evolution during trainig')\n",
    "    plt.legend()\n",
    "\n",
    "    plt.subplot(2, 2, 2)\n",
    "    plt.plot(r.history['f1_score'], label='f1_score')\n",
    "    plt.plot(r.history['val_f1_score'], label='f1_score')\n",
    "    plt.title('f1 score evolution during trainig')\n",
    "    plt.legend();\n",
    "\n",
    "def nn_model(num_columns, num_labels, hidden_units, dropout_rates, learning_rate):\n",
    "    inp = tf.keras.layers.Input(shape=(num_columns, ))\n",
    "    x = BatchNormalization()(inp)\n",
    "    x = Dropout(dropout_rates[0])(x)\n",
    "    for i in range(len(hidden_units)):\n",
    "        x = Dense(hidden_units[i], activation='relu')(x)\n",
    "        x = BatchNormalization()(x)\n",
    "        x = Dropout(dropout_rates[i + 1])(x)\n",
    "    x = Dense(num_labels, activation='sigmoid')(x)\n",
    "  \n",
    "    model = Model(inputs=inp, outputs=x)\n",
    "    model.compile(optimizer=Adam(learning_rate), loss='binary_crossentropy', metrics=[tfa.metrics.F1Score((name='f1_score',num_classes=num_labels))])\n",
    "    return model"
   ]
  },
  {
   "cell_type": "code",
   "execution_count": null,
   "id": "07a0118e",
   "metadata": {},
   "outputs": [],
   "source": [
    "num_columns = X_train_robust.shape[1]\n",
    "num_labels = 1\n",
    "hidden_units = [150, 150, 150]\n",
    "dropout_rates = [0.1, 0, 0.1, 0]\n",
    "learning_rate = 1e-3\n",
    "\n",
    "\n",
    "model = nn_model(\n",
    "    num_columns=num_columns, \n",
    "    num_labels=num_labels,\n",
    "    hidden_units=hidden_units,\n",
    "    dropout_rates=dropout_rates,\n",
    "    learning_rate=learning_rate\n",
    ")\n",
    "r = model.fit(\n",
    "    X_train_robust, y_train_robust,\n",
    "    validation_data=(X_test_robust, y_test_robust),\n",
    "    epochs=20,\n",
    "    batch_size=32\n",
    ")"
   ]
  },
  {
   "cell_type": "code",
   "execution_count": null,
   "id": "27d52fbe",
   "metadata": {},
   "outputs": [],
   "source": []
  },
  {
   "cell_type": "code",
   "execution_count": null,
   "id": "01fc4ce0",
   "metadata": {},
   "outputs": [],
   "source": []
  },
  {
   "cell_type": "code",
   "execution_count": null,
   "id": "b83424bb",
   "metadata": {},
   "outputs": [],
   "source": []
  },
  {
   "cell_type": "code",
   "execution_count": null,
   "id": "a0ba47f7",
   "metadata": {},
   "outputs": [],
   "source": []
  }
 ],
 "metadata": {
  "kernelspec": {
   "display_name": "is5126_project",
   "language": "python",
   "name": "is5126_project"
  },
  "language_info": {
   "codemirror_mode": {
    "name": "ipython",
    "version": 3
   },
   "file_extension": ".py",
   "mimetype": "text/x-python",
   "name": "python",
   "nbconvert_exporter": "python",
   "pygments_lexer": "ipython3",
   "version": "3.11.5"
  }
 },
 "nbformat": 4,
 "nbformat_minor": 5
}
