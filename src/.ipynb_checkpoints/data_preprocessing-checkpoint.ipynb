{
 "cells": [
  {
   "cell_type": "code",
   "execution_count": 1,
   "id": "34c049cd",
   "metadata": {},
   "outputs": [],
   "source": [
    "import warnings\n",
    "warnings.simplefilter(action='ignore', category=FutureWarning)"
   ]
  },
  {
   "cell_type": "code",
   "execution_count": 2,
   "id": "01427763",
   "metadata": {},
   "outputs": [
    {
     "name": "stderr",
     "output_type": "stream",
     "text": [
      "/Users/dhanushlalitha/miniconda3/envs/tensorflow/lib/python3.10/site-packages/pandas/core/arrays/masked.py:60: UserWarning: Pandas requires version '1.3.6' or newer of 'bottleneck' (version '1.3.5' currently installed).\n",
      "  from pandas.core import (\n"
     ]
    }
   ],
   "source": [
    "# Import the necessary libraries\n",
    "import pandas as pd\n",
    "import numpy as np\n",
    "from skimpy import skim\n",
    "import matplotlib.pyplot as plt\n",
    "import seaborn as sns\n",
    "from sklearn.model_selection import train_test_split"
   ]
  },
  {
   "cell_type": "code",
   "execution_count": 3,
   "id": "e03e980b",
   "metadata": {},
   "outputs": [],
   "source": [
    "# Load the data\n",
    "df = pd.read_csv(\"../data/cleaned_data.csv\", encoding = \"ISO-8859-1\")"
   ]
  },
  {
   "cell_type": "code",
   "execution_count": 4,
   "id": "bd5ca473",
   "metadata": {},
   "outputs": [],
   "source": [
    "df_train, df_test = train_test_split(df, test_size=0.33, random_state=42)"
   ]
  },
  {
   "cell_type": "code",
   "execution_count": 5,
   "id": "419efbf1",
   "metadata": {},
   "outputs": [],
   "source": [
    "pd.set_option('display.max_columns', None)"
   ]
  },
  {
   "cell_type": "code",
   "execution_count": 6,
   "id": "0a89c8be",
   "metadata": {},
   "outputs": [
    {
     "data": {
      "text/plain": [
       "((228319, 24), (112456, 24))"
      ]
     },
     "execution_count": 6,
     "metadata": {},
     "output_type": "execute_result"
    }
   ],
   "source": [
    "df_train.shape, df_test.shape"
   ]
  },
  {
   "cell_type": "code",
   "execution_count": 7,
   "id": "1a67c177",
   "metadata": {},
   "outputs": [
    {
     "data": {
      "text/html": [
       "<div>\n",
       "<style scoped>\n",
       "    .dataframe tbody tr th:only-of-type {\n",
       "        vertical-align: middle;\n",
       "    }\n",
       "\n",
       "    .dataframe tbody tr th {\n",
       "        vertical-align: top;\n",
       "    }\n",
       "\n",
       "    .dataframe thead th {\n",
       "        text-align: right;\n",
       "    }\n",
       "</style>\n",
       "<table border=\"1\" class=\"dataframe\">\n",
       "  <thead>\n",
       "    <tr style=\"text-align: right;\">\n",
       "      <th></th>\n",
       "      <th>loan_amnt</th>\n",
       "      <th>term (months)</th>\n",
       "      <th>int_rate</th>\n",
       "      <th>installment</th>\n",
       "      <th>sub_grade</th>\n",
       "      <th>emp_length</th>\n",
       "      <th>home_ownership</th>\n",
       "      <th>annual_inc</th>\n",
       "      <th>verification_status</th>\n",
       "      <th>issue_d</th>\n",
       "      <th>loan_status</th>\n",
       "      <th>purpose</th>\n",
       "      <th>dti</th>\n",
       "      <th>earliest_cr_line</th>\n",
       "      <th>open_acc</th>\n",
       "      <th>pub_rec</th>\n",
       "      <th>revol_bal</th>\n",
       "      <th>revol_util</th>\n",
       "      <th>total_acc</th>\n",
       "      <th>initial_list_status</th>\n",
       "      <th>application_type</th>\n",
       "      <th>mort_acc</th>\n",
       "      <th>pub_rec_bankruptcies</th>\n",
       "      <th>zip_code</th>\n",
       "    </tr>\n",
       "  </thead>\n",
       "  <tbody>\n",
       "    <tr>\n",
       "      <th>39792</th>\n",
       "      <td>7000.0</td>\n",
       "      <td>36</td>\n",
       "      <td>8.99</td>\n",
       "      <td>222.57</td>\n",
       "      <td>B1</td>\n",
       "      <td>10.0</td>\n",
       "      <td>RENT</td>\n",
       "      <td>154000.0</td>\n",
       "      <td>Source Verified</td>\n",
       "      <td>Jul-2016</td>\n",
       "      <td>Fully Paid</td>\n",
       "      <td>credit_card</td>\n",
       "      <td>23.88</td>\n",
       "      <td>2002</td>\n",
       "      <td>16.0</td>\n",
       "      <td>0.0</td>\n",
       "      <td>91725.0</td>\n",
       "      <td>62.2</td>\n",
       "      <td>48.0</td>\n",
       "      <td>Whole Funded</td>\n",
       "      <td>INDIVIDUAL</td>\n",
       "      <td>2.0</td>\n",
       "      <td>0.0</td>\n",
       "      <td>5113</td>\n",
       "    </tr>\n",
       "    <tr>\n",
       "      <th>18428</th>\n",
       "      <td>2000.0</td>\n",
       "      <td>36</td>\n",
       "      <td>11.53</td>\n",
       "      <td>65.99</td>\n",
       "      <td>B5</td>\n",
       "      <td>3.0</td>\n",
       "      <td>RENT</td>\n",
       "      <td>41600.0</td>\n",
       "      <td>Not Verified</td>\n",
       "      <td>Jun-2015</td>\n",
       "      <td>Fully Paid</td>\n",
       "      <td>debt_consolidation</td>\n",
       "      <td>26.49</td>\n",
       "      <td>2009</td>\n",
       "      <td>11.0</td>\n",
       "      <td>0.0</td>\n",
       "      <td>3541.0</td>\n",
       "      <td>20.1</td>\n",
       "      <td>16.0</td>\n",
       "      <td>Whole Funded</td>\n",
       "      <td>INDIVIDUAL</td>\n",
       "      <td>0.0</td>\n",
       "      <td>0.0</td>\n",
       "      <td>22690</td>\n",
       "    </tr>\n",
       "    <tr>\n",
       "      <th>276596</th>\n",
       "      <td>24000.0</td>\n",
       "      <td>60</td>\n",
       "      <td>12.39</td>\n",
       "      <td>538.61</td>\n",
       "      <td>C1</td>\n",
       "      <td>10.0</td>\n",
       "      <td>MORTGAGE</td>\n",
       "      <td>120000.0</td>\n",
       "      <td>Source Verified</td>\n",
       "      <td>Jan-2015</td>\n",
       "      <td>Fully Paid</td>\n",
       "      <td>debt_consolidation</td>\n",
       "      <td>19.01</td>\n",
       "      <td>1992</td>\n",
       "      <td>13.0</td>\n",
       "      <td>0.0</td>\n",
       "      <td>38065.0</td>\n",
       "      <td>79.0</td>\n",
       "      <td>34.0</td>\n",
       "      <td>Whole Funded</td>\n",
       "      <td>INDIVIDUAL</td>\n",
       "      <td>1.0</td>\n",
       "      <td>0.0</td>\n",
       "      <td>48052</td>\n",
       "    </tr>\n",
       "    <tr>\n",
       "      <th>289594</th>\n",
       "      <td>15575.0</td>\n",
       "      <td>60</td>\n",
       "      <td>17.57</td>\n",
       "      <td>391.87</td>\n",
       "      <td>D2</td>\n",
       "      <td>5.0</td>\n",
       "      <td>MORTGAGE</td>\n",
       "      <td>62000.0</td>\n",
       "      <td>Source Verified</td>\n",
       "      <td>Jan-2014</td>\n",
       "      <td>Charged Off</td>\n",
       "      <td>debt_consolidation</td>\n",
       "      <td>26.06</td>\n",
       "      <td>2003</td>\n",
       "      <td>9.0</td>\n",
       "      <td>0.0</td>\n",
       "      <td>15089.0</td>\n",
       "      <td>74.7</td>\n",
       "      <td>23.0</td>\n",
       "      <td>Whole Funded</td>\n",
       "      <td>INDIVIDUAL</td>\n",
       "      <td>5.0</td>\n",
       "      <td>0.0</td>\n",
       "      <td>48052</td>\n",
       "    </tr>\n",
       "    <tr>\n",
       "      <th>280207</th>\n",
       "      <td>12000.0</td>\n",
       "      <td>36</td>\n",
       "      <td>12.69</td>\n",
       "      <td>402.54</td>\n",
       "      <td>C2</td>\n",
       "      <td>1.0</td>\n",
       "      <td>RENT</td>\n",
       "      <td>36000.0</td>\n",
       "      <td>Source Verified</td>\n",
       "      <td>Feb-2015</td>\n",
       "      <td>Charged Off</td>\n",
       "      <td>debt_consolidation</td>\n",
       "      <td>34.67</td>\n",
       "      <td>2006</td>\n",
       "      <td>18.0</td>\n",
       "      <td>0.0</td>\n",
       "      <td>5681.0</td>\n",
       "      <td>38.6</td>\n",
       "      <td>28.0</td>\n",
       "      <td>Fractional Funded</td>\n",
       "      <td>INDIVIDUAL</td>\n",
       "      <td>0.0</td>\n",
       "      <td>0.0</td>\n",
       "      <td>86630</td>\n",
       "    </tr>\n",
       "  </tbody>\n",
       "</table>\n",
       "</div>"
      ],
      "text/plain": [
       "        loan_amnt  term (months)  int_rate  installment sub_grade  emp_length  \\\n",
       "39792      7000.0             36      8.99       222.57        B1        10.0   \n",
       "18428      2000.0             36     11.53        65.99        B5         3.0   \n",
       "276596    24000.0             60     12.39       538.61        C1        10.0   \n",
       "289594    15575.0             60     17.57       391.87        D2         5.0   \n",
       "280207    12000.0             36     12.69       402.54        C2         1.0   \n",
       "\n",
       "       home_ownership  annual_inc verification_status   issue_d  loan_status  \\\n",
       "39792            RENT    154000.0     Source Verified  Jul-2016   Fully Paid   \n",
       "18428            RENT     41600.0        Not Verified  Jun-2015   Fully Paid   \n",
       "276596       MORTGAGE    120000.0     Source Verified  Jan-2015   Fully Paid   \n",
       "289594       MORTGAGE     62000.0     Source Verified  Jan-2014  Charged Off   \n",
       "280207           RENT     36000.0     Source Verified  Feb-2015  Charged Off   \n",
       "\n",
       "                   purpose    dti  earliest_cr_line  open_acc  pub_rec  \\\n",
       "39792          credit_card  23.88              2002      16.0      0.0   \n",
       "18428   debt_consolidation  26.49              2009      11.0      0.0   \n",
       "276596  debt_consolidation  19.01              1992      13.0      0.0   \n",
       "289594  debt_consolidation  26.06              2003       9.0      0.0   \n",
       "280207  debt_consolidation  34.67              2006      18.0      0.0   \n",
       "\n",
       "        revol_bal  revol_util  total_acc initial_list_status application_type  \\\n",
       "39792     91725.0        62.2       48.0        Whole Funded       INDIVIDUAL   \n",
       "18428      3541.0        20.1       16.0        Whole Funded       INDIVIDUAL   \n",
       "276596    38065.0        79.0       34.0        Whole Funded       INDIVIDUAL   \n",
       "289594    15089.0        74.7       23.0        Whole Funded       INDIVIDUAL   \n",
       "280207     5681.0        38.6       28.0   Fractional Funded       INDIVIDUAL   \n",
       "\n",
       "        mort_acc  pub_rec_bankruptcies  zip_code  \n",
       "39792        2.0                   0.0      5113  \n",
       "18428        0.0                   0.0     22690  \n",
       "276596       1.0                   0.0     48052  \n",
       "289594       5.0                   0.0     48052  \n",
       "280207       0.0                   0.0     86630  "
      ]
     },
     "execution_count": 7,
     "metadata": {},
     "output_type": "execute_result"
    }
   ],
   "source": [
    "df_train.head()"
   ]
  },
  {
   "cell_type": "markdown",
   "id": "6123f6b2",
   "metadata": {},
   "source": [
    "## Exploratory Data Analysis"
   ]
  },
  {
   "cell_type": "markdown",
   "id": "2db12d93",
   "metadata": {},
   "source": [
    "We begin by exploring each varibale, plot it and compare it with loan status"
   ]
  },
  {
   "cell_type": "code",
   "execution_count": 8,
   "id": "28ccbd8c",
   "metadata": {},
   "outputs": [],
   "source": [
    "df1 = df_train.copy()\n",
    "df1['loan_status'] = pd.get_dummies(df1['loan_status'], drop_first=True)"
   ]
  },
  {
   "cell_type": "code",
   "execution_count": 9,
   "id": "019a9c36",
   "metadata": {},
   "outputs": [
    {
     "data": {
      "text/html": [
       "<div>\n",
       "<style scoped>\n",
       "    .dataframe tbody tr th:only-of-type {\n",
       "        vertical-align: middle;\n",
       "    }\n",
       "\n",
       "    .dataframe tbody tr th {\n",
       "        vertical-align: top;\n",
       "    }\n",
       "\n",
       "    .dataframe thead th {\n",
       "        text-align: right;\n",
       "    }\n",
       "</style>\n",
       "<table border=\"1\" class=\"dataframe\">\n",
       "  <thead>\n",
       "    <tr style=\"text-align: right;\">\n",
       "      <th></th>\n",
       "      <th>loan_amnt</th>\n",
       "      <th>term (months)</th>\n",
       "      <th>int_rate</th>\n",
       "      <th>installment</th>\n",
       "      <th>sub_grade</th>\n",
       "      <th>emp_length</th>\n",
       "      <th>home_ownership</th>\n",
       "      <th>annual_inc</th>\n",
       "      <th>verification_status</th>\n",
       "      <th>issue_d</th>\n",
       "      <th>loan_status</th>\n",
       "      <th>purpose</th>\n",
       "      <th>dti</th>\n",
       "      <th>earliest_cr_line</th>\n",
       "      <th>open_acc</th>\n",
       "      <th>pub_rec</th>\n",
       "      <th>revol_bal</th>\n",
       "      <th>revol_util</th>\n",
       "      <th>total_acc</th>\n",
       "      <th>initial_list_status</th>\n",
       "      <th>application_type</th>\n",
       "      <th>mort_acc</th>\n",
       "      <th>pub_rec_bankruptcies</th>\n",
       "      <th>zip_code</th>\n",
       "    </tr>\n",
       "  </thead>\n",
       "  <tbody>\n",
       "    <tr>\n",
       "      <th>39792</th>\n",
       "      <td>7000.0</td>\n",
       "      <td>36</td>\n",
       "      <td>8.99</td>\n",
       "      <td>222.57</td>\n",
       "      <td>B1</td>\n",
       "      <td>10.0</td>\n",
       "      <td>RENT</td>\n",
       "      <td>154000.0</td>\n",
       "      <td>Source Verified</td>\n",
       "      <td>Jul-2016</td>\n",
       "      <td>True</td>\n",
       "      <td>credit_card</td>\n",
       "      <td>23.88</td>\n",
       "      <td>2002</td>\n",
       "      <td>16.0</td>\n",
       "      <td>0.0</td>\n",
       "      <td>91725.0</td>\n",
       "      <td>62.2</td>\n",
       "      <td>48.0</td>\n",
       "      <td>Whole Funded</td>\n",
       "      <td>INDIVIDUAL</td>\n",
       "      <td>2.0</td>\n",
       "      <td>0.0</td>\n",
       "      <td>5113</td>\n",
       "    </tr>\n",
       "    <tr>\n",
       "      <th>18428</th>\n",
       "      <td>2000.0</td>\n",
       "      <td>36</td>\n",
       "      <td>11.53</td>\n",
       "      <td>65.99</td>\n",
       "      <td>B5</td>\n",
       "      <td>3.0</td>\n",
       "      <td>RENT</td>\n",
       "      <td>41600.0</td>\n",
       "      <td>Not Verified</td>\n",
       "      <td>Jun-2015</td>\n",
       "      <td>True</td>\n",
       "      <td>debt_consolidation</td>\n",
       "      <td>26.49</td>\n",
       "      <td>2009</td>\n",
       "      <td>11.0</td>\n",
       "      <td>0.0</td>\n",
       "      <td>3541.0</td>\n",
       "      <td>20.1</td>\n",
       "      <td>16.0</td>\n",
       "      <td>Whole Funded</td>\n",
       "      <td>INDIVIDUAL</td>\n",
       "      <td>0.0</td>\n",
       "      <td>0.0</td>\n",
       "      <td>22690</td>\n",
       "    </tr>\n",
       "    <tr>\n",
       "      <th>276596</th>\n",
       "      <td>24000.0</td>\n",
       "      <td>60</td>\n",
       "      <td>12.39</td>\n",
       "      <td>538.61</td>\n",
       "      <td>C1</td>\n",
       "      <td>10.0</td>\n",
       "      <td>MORTGAGE</td>\n",
       "      <td>120000.0</td>\n",
       "      <td>Source Verified</td>\n",
       "      <td>Jan-2015</td>\n",
       "      <td>True</td>\n",
       "      <td>debt_consolidation</td>\n",
       "      <td>19.01</td>\n",
       "      <td>1992</td>\n",
       "      <td>13.0</td>\n",
       "      <td>0.0</td>\n",
       "      <td>38065.0</td>\n",
       "      <td>79.0</td>\n",
       "      <td>34.0</td>\n",
       "      <td>Whole Funded</td>\n",
       "      <td>INDIVIDUAL</td>\n",
       "      <td>1.0</td>\n",
       "      <td>0.0</td>\n",
       "      <td>48052</td>\n",
       "    </tr>\n",
       "    <tr>\n",
       "      <th>289594</th>\n",
       "      <td>15575.0</td>\n",
       "      <td>60</td>\n",
       "      <td>17.57</td>\n",
       "      <td>391.87</td>\n",
       "      <td>D2</td>\n",
       "      <td>5.0</td>\n",
       "      <td>MORTGAGE</td>\n",
       "      <td>62000.0</td>\n",
       "      <td>Source Verified</td>\n",
       "      <td>Jan-2014</td>\n",
       "      <td>False</td>\n",
       "      <td>debt_consolidation</td>\n",
       "      <td>26.06</td>\n",
       "      <td>2003</td>\n",
       "      <td>9.0</td>\n",
       "      <td>0.0</td>\n",
       "      <td>15089.0</td>\n",
       "      <td>74.7</td>\n",
       "      <td>23.0</td>\n",
       "      <td>Whole Funded</td>\n",
       "      <td>INDIVIDUAL</td>\n",
       "      <td>5.0</td>\n",
       "      <td>0.0</td>\n",
       "      <td>48052</td>\n",
       "    </tr>\n",
       "    <tr>\n",
       "      <th>280207</th>\n",
       "      <td>12000.0</td>\n",
       "      <td>36</td>\n",
       "      <td>12.69</td>\n",
       "      <td>402.54</td>\n",
       "      <td>C2</td>\n",
       "      <td>1.0</td>\n",
       "      <td>RENT</td>\n",
       "      <td>36000.0</td>\n",
       "      <td>Source Verified</td>\n",
       "      <td>Feb-2015</td>\n",
       "      <td>False</td>\n",
       "      <td>debt_consolidation</td>\n",
       "      <td>34.67</td>\n",
       "      <td>2006</td>\n",
       "      <td>18.0</td>\n",
       "      <td>0.0</td>\n",
       "      <td>5681.0</td>\n",
       "      <td>38.6</td>\n",
       "      <td>28.0</td>\n",
       "      <td>Fractional Funded</td>\n",
       "      <td>INDIVIDUAL</td>\n",
       "      <td>0.0</td>\n",
       "      <td>0.0</td>\n",
       "      <td>86630</td>\n",
       "    </tr>\n",
       "  </tbody>\n",
       "</table>\n",
       "</div>"
      ],
      "text/plain": [
       "        loan_amnt  term (months)  int_rate  installment sub_grade  emp_length  \\\n",
       "39792      7000.0             36      8.99       222.57        B1        10.0   \n",
       "18428      2000.0             36     11.53        65.99        B5         3.0   \n",
       "276596    24000.0             60     12.39       538.61        C1        10.0   \n",
       "289594    15575.0             60     17.57       391.87        D2         5.0   \n",
       "280207    12000.0             36     12.69       402.54        C2         1.0   \n",
       "\n",
       "       home_ownership  annual_inc verification_status   issue_d  loan_status  \\\n",
       "39792            RENT    154000.0     Source Verified  Jul-2016         True   \n",
       "18428            RENT     41600.0        Not Verified  Jun-2015         True   \n",
       "276596       MORTGAGE    120000.0     Source Verified  Jan-2015         True   \n",
       "289594       MORTGAGE     62000.0     Source Verified  Jan-2014        False   \n",
       "280207           RENT     36000.0     Source Verified  Feb-2015        False   \n",
       "\n",
       "                   purpose    dti  earliest_cr_line  open_acc  pub_rec  \\\n",
       "39792          credit_card  23.88              2002      16.0      0.0   \n",
       "18428   debt_consolidation  26.49              2009      11.0      0.0   \n",
       "276596  debt_consolidation  19.01              1992      13.0      0.0   \n",
       "289594  debt_consolidation  26.06              2003       9.0      0.0   \n",
       "280207  debt_consolidation  34.67              2006      18.0      0.0   \n",
       "\n",
       "        revol_bal  revol_util  total_acc initial_list_status application_type  \\\n",
       "39792     91725.0        62.2       48.0        Whole Funded       INDIVIDUAL   \n",
       "18428      3541.0        20.1       16.0        Whole Funded       INDIVIDUAL   \n",
       "276596    38065.0        79.0       34.0        Whole Funded       INDIVIDUAL   \n",
       "289594    15089.0        74.7       23.0        Whole Funded       INDIVIDUAL   \n",
       "280207     5681.0        38.6       28.0   Fractional Funded       INDIVIDUAL   \n",
       "\n",
       "        mort_acc  pub_rec_bankruptcies  zip_code  \n",
       "39792        2.0                   0.0      5113  \n",
       "18428        0.0                   0.0     22690  \n",
       "276596       1.0                   0.0     48052  \n",
       "289594       5.0                   0.0     48052  \n",
       "280207       0.0                   0.0     86630  "
      ]
     },
     "execution_count": 9,
     "metadata": {},
     "output_type": "execute_result"
    }
   ],
   "source": [
    "df1.head()"
   ]
  },
  {
   "cell_type": "code",
   "execution_count": 10,
   "id": "5339ebf1",
   "metadata": {},
   "outputs": [
    {
     "name": "stdout",
     "output_type": "stream",
     "text": [
      "Non-numeric columns:\n",
      "['sub_grade', 'home_ownership', 'verification_status', 'issue_d', 'loan_status', 'purpose', 'initial_list_status', 'application_type']\n"
     ]
    }
   ],
   "source": [
    "non_numeric_columns = df1.select_dtypes(exclude=['number']).columns.tolist()\n",
    "print(\"Non-numeric columns:\")\n",
    "print(non_numeric_columns)"
   ]
  },
  {
   "cell_type": "code",
   "execution_count": 11,
   "id": "93f1ddfc",
   "metadata": {},
   "outputs": [],
   "source": [
    "numeric_columns = df1.drop(columns=non_numeric_columns)"
   ]
  },
  {
   "cell_type": "code",
   "execution_count": 12,
   "id": "7364e936",
   "metadata": {},
   "outputs": [
    {
     "data": {
      "text/html": [
       "<div>\n",
       "<style scoped>\n",
       "    .dataframe tbody tr th:only-of-type {\n",
       "        vertical-align: middle;\n",
       "    }\n",
       "\n",
       "    .dataframe tbody tr th {\n",
       "        vertical-align: top;\n",
       "    }\n",
       "\n",
       "    .dataframe thead th {\n",
       "        text-align: right;\n",
       "    }\n",
       "</style>\n",
       "<table border=\"1\" class=\"dataframe\">\n",
       "  <thead>\n",
       "    <tr style=\"text-align: right;\">\n",
       "      <th></th>\n",
       "      <th>loan_amnt</th>\n",
       "      <th>term (months)</th>\n",
       "      <th>int_rate</th>\n",
       "      <th>installment</th>\n",
       "      <th>emp_length</th>\n",
       "      <th>annual_inc</th>\n",
       "      <th>dti</th>\n",
       "      <th>earliest_cr_line</th>\n",
       "      <th>open_acc</th>\n",
       "      <th>pub_rec</th>\n",
       "      <th>revol_bal</th>\n",
       "      <th>revol_util</th>\n",
       "      <th>total_acc</th>\n",
       "      <th>mort_acc</th>\n",
       "      <th>pub_rec_bankruptcies</th>\n",
       "      <th>zip_code</th>\n",
       "    </tr>\n",
       "  </thead>\n",
       "  <tbody>\n",
       "    <tr>\n",
       "      <th>39792</th>\n",
       "      <td>7000.0</td>\n",
       "      <td>36</td>\n",
       "      <td>8.99</td>\n",
       "      <td>222.57</td>\n",
       "      <td>10.0</td>\n",
       "      <td>154000.0</td>\n",
       "      <td>23.88</td>\n",
       "      <td>2002</td>\n",
       "      <td>16.0</td>\n",
       "      <td>0.0</td>\n",
       "      <td>91725.0</td>\n",
       "      <td>62.2</td>\n",
       "      <td>48.0</td>\n",
       "      <td>2.0</td>\n",
       "      <td>0.0</td>\n",
       "      <td>5113</td>\n",
       "    </tr>\n",
       "    <tr>\n",
       "      <th>18428</th>\n",
       "      <td>2000.0</td>\n",
       "      <td>36</td>\n",
       "      <td>11.53</td>\n",
       "      <td>65.99</td>\n",
       "      <td>3.0</td>\n",
       "      <td>41600.0</td>\n",
       "      <td>26.49</td>\n",
       "      <td>2009</td>\n",
       "      <td>11.0</td>\n",
       "      <td>0.0</td>\n",
       "      <td>3541.0</td>\n",
       "      <td>20.1</td>\n",
       "      <td>16.0</td>\n",
       "      <td>0.0</td>\n",
       "      <td>0.0</td>\n",
       "      <td>22690</td>\n",
       "    </tr>\n",
       "    <tr>\n",
       "      <th>276596</th>\n",
       "      <td>24000.0</td>\n",
       "      <td>60</td>\n",
       "      <td>12.39</td>\n",
       "      <td>538.61</td>\n",
       "      <td>10.0</td>\n",
       "      <td>120000.0</td>\n",
       "      <td>19.01</td>\n",
       "      <td>1992</td>\n",
       "      <td>13.0</td>\n",
       "      <td>0.0</td>\n",
       "      <td>38065.0</td>\n",
       "      <td>79.0</td>\n",
       "      <td>34.0</td>\n",
       "      <td>1.0</td>\n",
       "      <td>0.0</td>\n",
       "      <td>48052</td>\n",
       "    </tr>\n",
       "    <tr>\n",
       "      <th>289594</th>\n",
       "      <td>15575.0</td>\n",
       "      <td>60</td>\n",
       "      <td>17.57</td>\n",
       "      <td>391.87</td>\n",
       "      <td>5.0</td>\n",
       "      <td>62000.0</td>\n",
       "      <td>26.06</td>\n",
       "      <td>2003</td>\n",
       "      <td>9.0</td>\n",
       "      <td>0.0</td>\n",
       "      <td>15089.0</td>\n",
       "      <td>74.7</td>\n",
       "      <td>23.0</td>\n",
       "      <td>5.0</td>\n",
       "      <td>0.0</td>\n",
       "      <td>48052</td>\n",
       "    </tr>\n",
       "    <tr>\n",
       "      <th>280207</th>\n",
       "      <td>12000.0</td>\n",
       "      <td>36</td>\n",
       "      <td>12.69</td>\n",
       "      <td>402.54</td>\n",
       "      <td>1.0</td>\n",
       "      <td>36000.0</td>\n",
       "      <td>34.67</td>\n",
       "      <td>2006</td>\n",
       "      <td>18.0</td>\n",
       "      <td>0.0</td>\n",
       "      <td>5681.0</td>\n",
       "      <td>38.6</td>\n",
       "      <td>28.0</td>\n",
       "      <td>0.0</td>\n",
       "      <td>0.0</td>\n",
       "      <td>86630</td>\n",
       "    </tr>\n",
       "  </tbody>\n",
       "</table>\n",
       "</div>"
      ],
      "text/plain": [
       "        loan_amnt  term (months)  int_rate  installment  emp_length  \\\n",
       "39792      7000.0             36      8.99       222.57        10.0   \n",
       "18428      2000.0             36     11.53        65.99         3.0   \n",
       "276596    24000.0             60     12.39       538.61        10.0   \n",
       "289594    15575.0             60     17.57       391.87         5.0   \n",
       "280207    12000.0             36     12.69       402.54         1.0   \n",
       "\n",
       "        annual_inc    dti  earliest_cr_line  open_acc  pub_rec  revol_bal  \\\n",
       "39792     154000.0  23.88              2002      16.0      0.0    91725.0   \n",
       "18428      41600.0  26.49              2009      11.0      0.0     3541.0   \n",
       "276596    120000.0  19.01              1992      13.0      0.0    38065.0   \n",
       "289594     62000.0  26.06              2003       9.0      0.0    15089.0   \n",
       "280207     36000.0  34.67              2006      18.0      0.0     5681.0   \n",
       "\n",
       "        revol_util  total_acc  mort_acc  pub_rec_bankruptcies  zip_code  \n",
       "39792         62.2       48.0       2.0                   0.0      5113  \n",
       "18428         20.1       16.0       0.0                   0.0     22690  \n",
       "276596        79.0       34.0       1.0                   0.0     48052  \n",
       "289594        74.7       23.0       5.0                   0.0     48052  \n",
       "280207        38.6       28.0       0.0                   0.0     86630  "
      ]
     },
     "execution_count": 12,
     "metadata": {},
     "output_type": "execute_result"
    }
   ],
   "source": [
    "numeric_columns.head()"
   ]
  },
  {
   "cell_type": "code",
   "execution_count": 13,
   "id": "9b7f9130",
   "metadata": {},
   "outputs": [
    {
     "data": {
      "image/png": "[encoded data removed]",
      "text/plain": [
       "<Figure size 1200x720 with 1 Axes>"
      ]
     },
     "metadata": {},
     "output_type": "display_data"
    }
   ],
   "source": [
    "non_numeric_columns = ['sub_grade', 'home_ownership', 'verification_status', 'issue_d', 'purpose', 'zip_code', 'initial_list_status', 'application_type']\n",
    "\n",
    "# Filter out non-numeric columns\n",
    "numeric_columns = df1.drop(columns=non_numeric_columns)\n",
    "\n",
    "# Calculate the correlation\n",
    "correlation = numeric_columns.corr()['loan_status']\n",
    "\n",
    "# Plot the correlations\n",
    "plt.figure(figsize=(10, 6), dpi=120)\n",
    "correlation.sort_values().drop('loan_status').plot(kind='bar', cmap='coolwarm')\n",
    "plt.title('Correlation with loan_status for continuous features (non-numeric columns excluded)')\n",
    "plt.xticks(rotation=90)\n",
    "plt.show()\n",
    "\n",
    "\n",
    "#int_rate, fico_range_high and fico_range_low are highly correlated with loan_status compared to other features."
   ]
  },
  {
   "cell_type": "code",
   "execution_count": 14,
   "id": "8323f2c3",
   "metadata": {},
   "outputs": [
    {
     "data": {
      "image/png": "[encoded data removed]",
      "text/plain": [
       "<Figure size 800x600 with 1 Axes>"
      ]
     },
     "metadata": {},
     "output_type": "display_data"
    }
   ],
   "source": [
    "# Plot the distribution of loan status\n",
    "plt.figure(figsize=(8, 6))\n",
    "sns.countplot(data=df, x='loan_status')\n",
    "plt.title('Distribution of Loan Status')\n",
    "plt.xlabel('Loan Status')\n",
    "plt.ylabel('Count')\n",
    "plt.xticks(rotation=45)\n",
    "plt.show()\n"
   ]
  },
  {
   "cell_type": "markdown",
   "id": "5ac34a4d",
   "metadata": {},
   "source": [
    "# Univariate Analyis"
   ]
  },
  {
   "cell_type": "markdown",
   "id": "49d8358d",
   "metadata": {},
   "source": [
    "Continuous Variables:\n",
    "1. loan_amnt\n",
    "2. int_rate\n",
    "3. installment\n",
    "4. annual_inc\n",
    "5. dti\n",
    "6. fico_range_low\n",
    "7. fico_range_high\n",
    "8. open_acc\n",
    "9. pub_rec\n",
    "10. revol_bal\n",
    "11. revol_util\n",
    "12. total_acc\n",
    "13. mort_acc\n",
    "14. pub_rec_bankruptcies\n",
    "\n",
    "Categorical VAriables:\n",
    "1. term (months)  \n",
    "2. earliest_cr_line\n",
    "3. sub_grade\n",
    "4. home_ownership\n",
    "5. verification_status\n",
    "6. issue_d\n",
    "7. loan_status\n",
    "8. purpose\n",
    "9. addr_state\n",
    "10. initial_list_status\n",
    "11. application_type\n",
    "\n",
    "\n",
    "Not worked on: \n",
    "1. earliest_cr_line\n",
    "2. addr_state\n",
    "3. issue_d"
   ]
  },
  {
   "cell_type": "markdown",
   "id": "d6f7bea1",
   "metadata": {},
   "source": [
    "### 1. loan_amnt"
   ]
  },
  {
   "cell_type": "code",
   "execution_count": null,
   "id": "c61152fa",
   "metadata": {},
   "outputs": [],
   "source": [
    "df_train['loan_amnt'].describe()"
   ]
  },
  {
   "cell_type": "code",
   "execution_count": 15,
   "id": "a2f26d9a",
   "metadata": {
    "scrolled": false
   },
   "outputs": [
    {
     "data": {
      "image/png": "[encoded data removed]",
      "text/plain": [
       "<Figure size 1560x650 with 1 Axes>"
      ]
     },
     "metadata": {},
     "output_type": "display_data"
    }
   ],
   "source": [
    "# Distribution of loan_amnt\n",
    "sns.set(style=\"whitegrid\")\n",
    "plt.figure(figsize=(12, 5), dpi =130)\n",
    "\n",
    "# Plot the distribution of annual income\n",
    "sns.kdeplot(df_train['loan_amnt'],shade= True,color='blue')\n",
    "\n",
    "# Add labels and title\n",
    "plt.xlabel('Loan Amount')\n",
    "plt.ylabel('Frequency')\n",
    "plt.title('Distribution of Loan Amount')\n",
    "\n",
    "# Show the plot\n",
    "plt.show()\n"
   ]
  },
  {
   "cell_type": "code",
   "execution_count": 16,
   "id": "cb3f7748",
   "metadata": {},
   "outputs": [
    {
     "data": {
      "text/html": [
       "<div>\n",
       "<style scoped>\n",
       "    .dataframe tbody tr th:only-of-type {\n",
       "        vertical-align: middle;\n",
       "    }\n",
       "\n",
       "    .dataframe tbody tr th {\n",
       "        vertical-align: top;\n",
       "    }\n",
       "\n",
       "    .dataframe thead th {\n",
       "        text-align: right;\n",
       "    }\n",
       "</style>\n",
       "<table border=\"1\" class=\"dataframe\">\n",
       "  <thead>\n",
       "    <tr style=\"text-align: right;\">\n",
       "      <th></th>\n",
       "      <th>count</th>\n",
       "      <th>mean</th>\n",
       "      <th>std</th>\n",
       "      <th>min</th>\n",
       "      <th>25%</th>\n",
       "      <th>50%</th>\n",
       "      <th>75%</th>\n",
       "      <th>max</th>\n",
       "    </tr>\n",
       "    <tr>\n",
       "      <th>loan_status</th>\n",
       "      <th></th>\n",
       "      <th></th>\n",
       "      <th></th>\n",
       "      <th></th>\n",
       "      <th></th>\n",
       "      <th></th>\n",
       "      <th></th>\n",
       "      <th></th>\n",
       "    </tr>\n",
       "  </thead>\n",
       "  <tbody>\n",
       "    <tr>\n",
       "      <th>Charged Off</th>\n",
       "      <td>45091.0</td>\n",
       "      <td>15579.224790</td>\n",
       "      <td>8496.559005</td>\n",
       "      <td>1000.0</td>\n",
       "      <td>9250.0</td>\n",
       "      <td>14400.0</td>\n",
       "      <td>20125.0</td>\n",
       "      <td>40000.0</td>\n",
       "    </tr>\n",
       "    <tr>\n",
       "      <th>Fully Paid</th>\n",
       "      <td>183228.0</td>\n",
       "      <td>14272.625499</td>\n",
       "      <td>8363.879259</td>\n",
       "      <td>1000.0</td>\n",
       "      <td>8000.0</td>\n",
       "      <td>12000.0</td>\n",
       "      <td>20000.0</td>\n",
       "      <td>40000.0</td>\n",
       "    </tr>\n",
       "  </tbody>\n",
       "</table>\n",
       "</div>"
      ],
      "text/plain": [
       "                count          mean          std     min     25%      50%  \\\n",
       "loan_status                                                                 \n",
       "Charged Off   45091.0  15579.224790  8496.559005  1000.0  9250.0  14400.0   \n",
       "Fully Paid   183228.0  14272.625499  8363.879259  1000.0  8000.0  12000.0   \n",
       "\n",
       "                 75%      max  \n",
       "loan_status                    \n",
       "Charged Off  20125.0  40000.0  \n",
       "Fully Paid   20000.0  40000.0  "
      ]
     },
     "execution_count": 16,
     "metadata": {},
     "output_type": "execute_result"
    }
   ],
   "source": [
    "df_train.groupby('loan_status')['loan_amnt'].describe()"
   ]
  },
  {
   "cell_type": "code",
   "execution_count": 17,
   "id": "331492ba",
   "metadata": {},
   "outputs": [
    {
     "data": {
      "image/png": "[encoded data removed]",
      "text/plain": [
       "<Figure size 1200x600 with 1 Axes>"
      ]
     },
     "metadata": {},
     "output_type": "display_data"
    }
   ],
   "source": [
    "import matplotlib.patches as mpatches\n",
    "\n",
    "plt.figure(figsize=(12, 6))\n",
    "sns.boxplot(data=df_train, y='loan_status', x='loan_amnt', palette='viridis')\n",
    "\n",
    "# Calculate medians\n",
    "fully_paid_median = df_train[df_train['loan_status'] == 'Fully Paid']['loan_amnt'].median()\n",
    "charged_off_median = df_train[df_train['loan_status'] == 'Charged Off']['loan_amnt'].median()\n",
    "\n",
    "# Add median lines\n",
    "fully_paid_legend = mpatches.Patch(color='green', label=f'Fully Paid Median: {fully_paid_median:.2f}')\n",
    "charged_off_legend = mpatches.Patch(color='red', label=f'Charged Off Median: {charged_off_median:.2f}')\n",
    "plt.legend(handles=[fully_paid_legend, charged_off_legend])\n",
    "\n",
    "plt.xlabel('Loan Amount')\n",
    "plt.ylabel('Loan Status')\n",
    "plt.title('Box Plot of Loan Amount by Loan Status')\n",
    "plt.show()"
   ]
  },
  {
   "cell_type": "markdown",
   "id": "3a7d7e44",
   "metadata": {},
   "source": [
    "We can observe that on an average the chances of charge off is higher if the loan_amount is higher"
   ]
  },
  {
   "cell_type": "markdown",
   "id": "73dd7180",
   "metadata": {},
   "source": [
    "### 2. int_rate "
   ]
  },
  {
   "cell_type": "code",
   "execution_count": 19,
   "id": "78df4dac",
   "metadata": {
    "scrolled": true
   },
   "outputs": [
    {
     "data": {
      "text/plain": [
       "count    228319.000000\n",
       "mean         13.807306\n",
       "std           4.509436\n",
       "min           5.320000\n",
       "25%          10.740000\n",
       "50%          13.440000\n",
       "75%          16.780000\n",
       "max          30.990000\n",
       "Name: int_rate, dtype: float64"
      ]
     },
     "execution_count": 19,
     "metadata": {},
     "output_type": "execute_result"
    }
   ],
   "source": [
    "df_train['int_rate'].describe()"
   ]
  },
  {
   "cell_type": "code",
   "execution_count": 18,
   "id": "213b9b4f",
   "metadata": {},
   "outputs": [
    {
     "data": {
      "image/png": "[encoded data removed]",
      "text/plain": [
       "<Figure size 1560x650 with 1 Axes>"
      ]
     },
     "metadata": {},
     "output_type": "display_data"
    }
   ],
   "source": [
    "# Distribution of int_rate\n",
    "sns.set(style=\"whitegrid\")\n",
    "plt.figure(figsize=(12, 5), dpi =130)\n",
    "\n",
    "# Plot the distribution of annual income\n",
    "sns.kdeplot(df_train['int_rate'],shade= True,color='blue')\n",
    "\n",
    "# Add labels and title\n",
    "plt.xlabel('Interest Rate')\n",
    "plt.ylabel('Frequency')\n",
    "plt.title('Distribution of Interest Rate')\n",
    "\n",
    "# Show the plot\n",
    "plt.show()\n"
   ]
  },
  {
   "cell_type": "code",
   "execution_count": 20,
   "id": "cf0ee061",
   "metadata": {},
   "outputs": [
    {
     "data": {
      "image/png": "[encoded data removed]",
      "text/plain": [
       "<Figure size 1200x600 with 1 Axes>"
      ]
     },
     "metadata": {},
     "output_type": "display_data"
    }
   ],
   "source": [
    "import matplotlib.patches as mpatches\n",
    "\n",
    "plt.figure(figsize=(12, 6))\n",
    "sns.boxplot(data=df_train, y='loan_status', x='int_rate', palette='viridis')\n",
    "\n",
    "# Calculate medians\n",
    "fully_paid_median = df_train[df_train['loan_status'] == 'Fully Paid']['int_rate'].median()\n",
    "charged_off_median = df_train[df_train['loan_status'] == 'Charged Off']['int_rate'].median()\n",
    "\n",
    "# Add median lines\n",
    "fully_paid_legend = mpatches.Patch(color='green', label=f'Fully Paid Median: {fully_paid_median:.2f}')\n",
    "charged_off_legend = mpatches.Patch(color='red', label=f'Charged Off Median: {charged_off_median:.2f}')\n",
    "plt.legend(handles=[fully_paid_legend, charged_off_legend])\n",
    "\n",
    "plt.xlabel('Interest Rate')\n",
    "plt.ylabel('Loan Status')\n",
    "plt.title('Box Plot of Interest Rate by Loan Status')\n",
    "plt.show()"
   ]
  },
  {
   "cell_type": "markdown",
   "id": "7fb8e19e",
   "metadata": {},
   "source": [
    "We can observe that the average interest rate is lower for fully paid loans compared to the chrged off ones"
   ]
  },
  {
   "cell_type": "markdown",
   "id": "6e59eb17",
   "metadata": {},
   "source": [
    "### 3. installment"
   ]
  },
  {
   "cell_type": "code",
   "execution_count": 22,
   "id": "aa50ecee",
   "metadata": {},
   "outputs": [
    {
     "data": {
      "text/plain": [
       "count    228319.000000\n",
       "mean        445.884996\n",
       "std         252.742394\n",
       "min          21.620000\n",
       "25%         263.390000\n",
       "50%         388.930000\n",
       "75%         586.015000\n",
       "max        1527.000000\n",
       "Name: installment, dtype: float64"
      ]
     },
     "execution_count": 22,
     "metadata": {},
     "output_type": "execute_result"
    }
   ],
   "source": [
    "df_train['installment'].describe()"
   ]
  },
  {
   "cell_type": "code",
   "execution_count": 21,
   "id": "b61467e9",
   "metadata": {},
   "outputs": [
    {
     "data": {
      "image/png": "[encoded data removed]",
      "text/plain": [
       "<Figure size 1560x650 with 1 Axes>"
      ]
     },
     "metadata": {},
     "output_type": "display_data"
    }
   ],
   "source": [
    "# Distribution of annual_inc\n",
    "sns.set(style=\"whitegrid\")\n",
    "plt.figure(figsize=(12, 5), dpi =130)\n",
    "\n",
    "# Plot the distribution of annual income\n",
    "sns.histplot(df_train['installment'],bins =500, kde= True,color='blue')\n",
    "\n",
    "# Add labels and title\n",
    "plt.xlabel('installment')\n",
    "plt.ylabel('Frequency')\n",
    "plt.title('Distribution of installment')\n",
    "\n",
    "# Show the plot\n",
    "plt.show()\n"
   ]
  },
  {
   "cell_type": "code",
   "execution_count": 23,
   "id": "89715421",
   "metadata": {},
   "outputs": [
    {
     "data": {
      "image/png": "[encoded data removed]",
      "text/plain": [
       "<Figure size 1000x500 with 1 Axes>"
      ]
     },
     "metadata": {},
     "output_type": "display_data"
    }
   ],
   "source": [
    "\n",
    "sns.set_style(\"whitegrid\")\n",
    "plt.figure(figsize=(10, 5))\n",
    "sns.histplot(data=df_train, x='installment', hue='loan_status', bins=100, kde=True, palette= {'Charged Off': 'red', 'Fully Paid': 'blue'})\n",
    "\n",
    "# Customize the plot further\n",
    "plt.xlabel('installment', fontsize=14 )\n",
    "plt.ylabel('Frequency', fontsize=14, )\n",
    "plt.title('Distribution of installment by Loan Status', fontsize=16, )\n",
    "\n",
    "# Show plot\n",
    "plt.show()\n"
   ]
  },
  {
   "cell_type": "code",
   "execution_count": 24,
   "id": "8fea8dfd",
   "metadata": {},
   "outputs": [
    {
     "data": {
      "text/html": [
       "<div>\n",
       "<style scoped>\n",
       "    .dataframe tbody tr th:only-of-type {\n",
       "        vertical-align: middle;\n",
       "    }\n",
       "\n",
       "    .dataframe tbody tr th {\n",
       "        vertical-align: top;\n",
       "    }\n",
       "\n",
       "    .dataframe thead th {\n",
       "        text-align: right;\n",
       "    }\n",
       "</style>\n",
       "<table border=\"1\" class=\"dataframe\">\n",
       "  <thead>\n",
       "    <tr style=\"text-align: right;\">\n",
       "      <th></th>\n",
       "      <th>count</th>\n",
       "      <th>mean</th>\n",
       "      <th>std</th>\n",
       "      <th>min</th>\n",
       "      <th>25%</th>\n",
       "      <th>50%</th>\n",
       "      <th>75%</th>\n",
       "      <th>max</th>\n",
       "    </tr>\n",
       "    <tr>\n",
       "      <th>loan_status</th>\n",
       "      <th></th>\n",
       "      <th></th>\n",
       "      <th></th>\n",
       "      <th></th>\n",
       "      <th></th>\n",
       "      <th></th>\n",
       "      <th></th>\n",
       "      <th></th>\n",
       "    </tr>\n",
       "  </thead>\n",
       "  <tbody>\n",
       "    <tr>\n",
       "      <th>Charged Off</th>\n",
       "      <td>45091.0</td>\n",
       "      <td>467.184457</td>\n",
       "      <td>249.817340</td>\n",
       "      <td>21.62</td>\n",
       "      <td>286.3</td>\n",
       "      <td>413.94</td>\n",
       "      <td>601.185</td>\n",
       "      <td>1527.00</td>\n",
       "    </tr>\n",
       "    <tr>\n",
       "      <th>Fully Paid</th>\n",
       "      <td>183228.0</td>\n",
       "      <td>440.643363</td>\n",
       "      <td>253.183136</td>\n",
       "      <td>28.75</td>\n",
       "      <td>256.9</td>\n",
       "      <td>382.61</td>\n",
       "      <td>581.180</td>\n",
       "      <td>1503.85</td>\n",
       "    </tr>\n",
       "  </tbody>\n",
       "</table>\n",
       "</div>"
      ],
      "text/plain": [
       "                count        mean         std    min    25%     50%      75%  \\\n",
       "loan_status                                                                    \n",
       "Charged Off   45091.0  467.184457  249.817340  21.62  286.3  413.94  601.185   \n",
       "Fully Paid   183228.0  440.643363  253.183136  28.75  256.9  382.61  581.180   \n",
       "\n",
       "                 max  \n",
       "loan_status           \n",
       "Charged Off  1527.00  \n",
       "Fully Paid   1503.85  "
      ]
     },
     "execution_count": 24,
     "metadata": {},
     "output_type": "execute_result"
    }
   ],
   "source": [
    "df_train.groupby('loan_status')['installment'].describe()"
   ]
  },
  {
   "cell_type": "code",
   "execution_count": 25,
   "id": "83980882",
   "metadata": {},
   "outputs": [
    {
     "data": {
      "image/png": "[encoded data removed]",
      "text/plain": [
       "<Figure size 1200x600 with 1 Axes>"
      ]
     },
     "metadata": {},
     "output_type": "display_data"
    }
   ],
   "source": [
    "import matplotlib.patches as mpatches\n",
    "\n",
    "plt.figure(figsize=(12, 6))\n",
    "sns.boxplot(data=df_train, y='loan_status', x='installment', palette='viridis')\n",
    "\n",
    "# Calculate medians\n",
    "fully_paid_median = df_train[df_train['loan_status'] == 'Fully Paid']['installment'].median()\n",
    "charged_off_median = df_train[df_train['loan_status'] == 'Charged Off']['installment'].median()\n",
    "\n",
    "# Add median lines\n",
    "fully_paid_legend = mpatches.Patch(color='green', label=f'Fully Paid Median: {fully_paid_median:.2f}')\n",
    "charged_off_legend = mpatches.Patch(color='red', label=f'Charged Off Median: {charged_off_median:.2f}')\n",
    "plt.legend(handles=[fully_paid_legend, charged_off_legend])\n",
    "\n",
    "plt.xlabel('installment')\n",
    "plt.ylabel('Loan Status')\n",
    "plt.title('Box Plot of installment by Loan Status')\n",
    "plt.show()"
   ]
  },
  {
   "cell_type": "markdown",
   "id": "31b87a4b",
   "metadata": {},
   "source": [
    "Avg installment is hifgher for charged off, will retain this ferature"
   ]
  },
  {
   "cell_type": "markdown",
   "id": "2bc34886",
   "metadata": {},
   "source": [
    "### 4. annual_inc"
   ]
  },
  {
   "cell_type": "code",
   "execution_count": 26,
   "id": "256e588c",
   "metadata": {},
   "outputs": [
    {
     "data": {
      "image/png": "[encoded data removed]",
      "text/plain": [
       "<Figure size 1560x650 with 1 Axes>"
      ]
     },
     "metadata": {},
     "output_type": "display_data"
    }
   ],
   "source": [
    "# Distribution of annual_inc\n",
    "sns.set(style=\"whitegrid\")\n",
    "plt.figure(figsize=(12, 5), dpi =130)\n",
    "\n",
    "# Plot the distribution of annual income\n",
    "sns.histplot(df_train['annual_inc'],bins =500, kde= True,color='blue')\n",
    "\n",
    "# Add labels and title\n",
    "plt.xlabel('Annual Income')\n",
    "plt.ylabel('Frequency')\n",
    "plt.title('Distribution of Annual Income')\n",
    "\n",
    "# Show the plot\n",
    "plt.show()\n"
   ]
  },
  {
   "cell_type": "markdown",
   "id": "5b8df8f0",
   "metadata": {},
   "source": [
    "The salary distribution is highly skewed towards right. Let's find how many customers have annual_inc higher than $250k"
   ]
  },
  {
   "cell_type": "code",
   "execution_count": 27,
   "id": "1c907c0b",
   "metadata": {},
   "outputs": [
    {
     "name": "stdout",
     "output_type": "stream",
     "text": [
      "count    228319.00\n",
      "mean      75921.62\n",
      "std       61371.70\n",
      "min        5000.00\n",
      "25%       47000.00\n",
      "50%       65000.00\n",
      "75%       90000.00\n",
      "max     8706582.00\n",
      "Name: annual_inc, dtype: float64\n"
     ]
    }
   ],
   "source": [
    "pd.options.display.float_format = '{:.2f}'.format\n",
    "description = df_train['annual_inc'].describe()\n",
    "print(description)"
   ]
  },
  {
   "cell_type": "code",
   "execution_count": 28,
   "id": "c365dee6",
   "metadata": {},
   "outputs": [
    {
     "name": "stdout",
     "output_type": "stream",
     "text": [
      "Percentage of people with annual income greater than 250k: 0.86%\n"
     ]
    }
   ],
   "source": [
    "num_above_250k = df_train[df_train['annual_inc'] > 250000].shape[0]\n",
    "\n",
    "# Total number of people\n",
    "total_people = df_train.shape[0]\n",
    "\n",
    "# Calculate the percentage\n",
    "percentage_above_250k = (num_above_250k / total_people) * 100\n",
    "\n",
    "print(\"Percentage of people with annual income greater than 250k: {:.2f}%\".format(percentage_above_250k))"
   ]
  },
  {
   "cell_type": "markdown",
   "id": "9970eb3e",
   "metadata": {},
   "source": [
    "Onbly 1% of the population have income greater than 200k - so we can drop these outliers"
   ]
  },
  {
   "cell_type": "code",
   "execution_count": null,
   "id": "4bc63445",
   "metadata": {},
   "outputs": [],
   "source": [
    "df_train = df_train[df_train['annual_inc'] <= 250000]\n"
   ]
  },
  {
   "cell_type": "code",
   "execution_count": null,
   "id": "07284148",
   "metadata": {},
   "outputs": [],
   "source": [
    "sns.set(style=\"whitegrid\")\n",
    "plt.figure(figsize=(12, 5), dpi =130)\n",
    "\n",
    "# Plot the distribution of annual income\n",
    "sns.histplot(df_train['annual_inc'], kde= True,color='blue')\n",
    "\n",
    "# Add labels and title\n",
    "plt.xlabel('Annual Income')\n",
    "plt.ylabel('Frequency')\n",
    "plt.title('Distribution of Annual Income')\n",
    "\n",
    "# Show the plot\n",
    "plt.show()\n"
   ]
  },
  {
   "cell_type": "markdown",
   "id": "5e6fc5ec",
   "metadata": {},
   "source": [
    "Look much better less skewed"
   ]
  },
  {
   "cell_type": "code",
   "execution_count": null,
   "id": "bcf53128",
   "metadata": {},
   "outputs": [],
   "source": [
    "\n",
    "sns.set_style(\"whitegrid\")\n",
    "plt.figure(figsize=(10, 5))\n",
    "sns.histplot(data=df_train, x='annual_inc', hue='loan_status', bins=100, kde=True, palette= {'Charged Off': 'red', 'Fully Paid': 'blue'})\n",
    "\n",
    "# Customize the plot further\n",
    "plt.xlabel('Annual Income', fontsize=14 )\n",
    "plt.ylabel('Frequency', fontsize=14, )\n",
    "plt.title('Distribution of Annual Income by Loan Status', fontsize=16, )\n",
    "\n",
    "# Show plot\n",
    "plt.show()\n"
   ]
  },
  {
   "cell_type": "code",
   "execution_count": null,
   "id": "5d9b8a9e",
   "metadata": {},
   "outputs": [],
   "source": [
    "df_train.groupby('loan_status')['annual_inc'].describe()"
   ]
  },
  {
   "cell_type": "code",
   "execution_count": null,
   "id": "e02e856b",
   "metadata": {},
   "outputs": [],
   "source": [
    "import matplotlib.patches as mpatches\n",
    "\n",
    "plt.figure(figsize=(12, 6))\n",
    "sns.boxplot(data=df_train, y='loan_status', x='annual_inc', palette='viridis')\n",
    "\n",
    "# Calculate medians\n",
    "fully_paid_median = df_train[df_train['loan_status'] == 'Fully Paid']['annual_inc'].median()\n",
    "charged_off_median = df_train[df_train['loan_status'] == 'Charged Off']['annual_inc'].median()\n",
    "\n",
    "# Add median lines\n",
    "fully_paid_legend = mpatches.Patch(color='green', label=f'Fully Paid Median: {fully_paid_median:.2f}')\n",
    "charged_off_legend = mpatches.Patch(color='red', label=f'Charged Off Median: {charged_off_median:.2f}')\n",
    "plt.legend(handles=[fully_paid_legend, charged_off_legend])\n",
    "\n",
    "plt.xlabel('annual_inc')\n",
    "plt.ylabel('Loan Status')\n",
    "plt.title('Box Plot of annual_inc by Loan Status')\n",
    "plt.show()"
   ]
  },
  {
   "cell_type": "markdown",
   "id": "2063f21a",
   "metadata": {},
   "source": [
    "The mean annual_inc for customers who fully paid the loan and who did not differs by around $5500."
   ]
  },
  {
   "cell_type": "markdown",
   "id": "30eb7b81",
   "metadata": {},
   "source": [
    "### 5. dti"
   ]
  },
  {
   "cell_type": "code",
   "execution_count": null,
   "id": "f6f9aebb",
   "metadata": {},
   "outputs": [],
   "source": [
    "df['dti'].describe()"
   ]
  },
  {
   "cell_type": "code",
   "execution_count": null,
   "id": "3381a4df",
   "metadata": {},
   "outputs": [],
   "source": [
    "# Distribution of annual_inc\n",
    "sns.set(style=\"whitegrid\")\n",
    "plt.figure(figsize=(12, 5), dpi =130)\n",
    "\n",
    "# Plot the distribution of annual income\n",
    "sns.histplot(df['dti'],bins =500, kde= True,color='blue')\n",
    "\n",
    "# Add labels and title\n",
    "plt.xlabel('dti')\n",
    "plt.ylabel('Frequency')\n",
    "plt.title('Distribution of dti')\n",
    "\n",
    "# Show the plot\n",
    "plt.show()\n"
   ]
  },
  {
   "cell_type": "markdown",
   "id": "5932c7f1",
   "metadata": {},
   "source": [
    "The dti distribution is highly skewed towards right. Let's find how many customers have dti higher than 38"
   ]
  },
  {
   "cell_type": "code",
   "execution_count": null,
   "id": "7802ff26",
   "metadata": {},
   "outputs": [],
   "source": [
    "pd.options.display.float_format = '{:.2f}'.format\n",
    "description = df['dti'].describe()\n",
    "print(description)"
   ]
  },
  {
   "cell_type": "code",
   "execution_count": null,
   "id": "2568c9ec",
   "metadata": {},
   "outputs": [],
   "source": [
    "num_above_50 = df[df['dti'] > 50].shape[0]\n",
    "\n",
    "# Total number of people\n",
    "total_people = df.shape[0]\n",
    "\n",
    "# Calculate the percentage\n",
    "percentage_above_50 = (num_above_50 / total_people) * 100\n",
    "\n",
    "print(\"Percentage of people with annual income greater than 38: {:.2f}%\".format(percentage_above_50))"
   ]
  },
  {
   "cell_type": "code",
   "execution_count": null,
   "id": "01434413",
   "metadata": {},
   "outputs": [],
   "source": [
    "df = df[df['dti'] <= 50]"
   ]
  },
  {
   "cell_type": "code",
   "execution_count": null,
   "id": "cf1fe5f8",
   "metadata": {},
   "outputs": [],
   "source": [
    "sns.set(style=\"whitegrid\")\n",
    "plt.figure(figsize=(12, 5), dpi =130)\n",
    "\n",
    "# Plot the distribution of annual income\n",
    "sns.histplot(df['dti'], kde= True,color='blue')\n",
    "\n",
    "# Add labels and title\n",
    "plt.xlabel('dti')\n",
    "plt.ylabel('Frequency')\n",
    "plt.title('Distribution of dti')\n",
    "\n",
    "# Show the plot\n",
    "plt.show()\n"
   ]
  },
  {
   "cell_type": "code",
   "execution_count": null,
   "id": "cf8e1dbb",
   "metadata": {},
   "outputs": [],
   "source": [
    "\n",
    "sns.set_style(\"whitegrid\")\n",
    "plt.figure(figsize=(10, 5))\n",
    "sns.histplot(data=df, x='dti', hue='loan_status', bins=100, kde=True, palette= {'Charged Off': 'red', 'Fully Paid': 'blue'})\n",
    "\n",
    "# Customize the plot further\n",
    "plt.xlabel('dti', fontsize=14 )\n",
    "plt.ylabel('Frequency', fontsize=14, )\n",
    "plt.title('Distribution of dti by Loan Status', fontsize=16, )\n",
    "\n",
    "# Show plot\n",
    "plt.show()\n"
   ]
  },
  {
   "cell_type": "code",
   "execution_count": null,
   "id": "32947221",
   "metadata": {},
   "outputs": [],
   "source": [
    "df.groupby('loan_status')['dti'].describe()"
   ]
  },
  {
   "cell_type": "code",
   "execution_count": null,
   "id": "87cc5881",
   "metadata": {},
   "outputs": [],
   "source": [
    "import matplotlib.patches as mpatches\n",
    "\n",
    "plt.figure(figsize=(12, 6))\n",
    "sns.boxplot(data=df, y='loan_status', x='dti', palette='viridis')\n",
    "\n",
    "# Calculate medians\n",
    "fully_paid_median = df[df['loan_status'] == 'Fully Paid']['dti'].median()\n",
    "charged_off_median = df[df['loan_status'] == 'Charged Off']['dti'].median()\n",
    "\n",
    "# Add median lines\n",
    "fully_paid_legend = mpatches.Patch(color='green', label=f'Fully Paid Median: {fully_paid_median:.2f}')\n",
    "charged_off_legend = mpatches.Patch(color='red', label=f'Charged Off Median: {charged_off_median:.2f}')\n",
    "plt.legend(handles=[fully_paid_legend, charged_off_legend])\n",
    "\n",
    "plt.xlabel('dti')\n",
    "plt.ylabel('Loan Status')\n",
    "plt.title('Box Plot of dti by Loan Status')\n",
    "plt.show()"
   ]
  },
  {
   "cell_type": "markdown",
   "id": "256a086c",
   "metadata": {},
   "source": [
    "higher dti for charge off"
   ]
  },
  {
   "cell_type": "markdown",
   "id": "26251c1f",
   "metadata": {},
   "source": [
    "### 6. and 7.  fico_range_low and fico_range_high\n",
    "\n",
    "From the above correlation matrix we can see that these 2 features are highly correlated. So we explore their distribution"
   ]
  },
  {
   "cell_type": "code",
   "execution_count": null,
   "id": "6a631b2f",
   "metadata": {},
   "outputs": [],
   "source": [
    "df['fico_range_high'].describe()"
   ]
  },
  {
   "cell_type": "code",
   "execution_count": null,
   "id": "29ed1814",
   "metadata": {},
   "outputs": [],
   "source": [
    "df['fico_range_low'].describe()"
   ]
  },
  {
   "cell_type": "markdown",
   "id": "6a49388f",
   "metadata": {},
   "source": [
    "Both fico_range_high and fico_range_low exhibit comparable statistics. Therefore, we will utilize the average of both scores. and drop the individual scores"
   ]
  },
  {
   "cell_type": "code",
   "execution_count": null,
   "id": "95e5f9f5",
   "metadata": {},
   "outputs": [],
   "source": [
    "df['fico_avg'] = (df['fico_range_high'] + df['fico_range_low']) / 2"
   ]
  },
  {
   "cell_type": "code",
   "execution_count": null,
   "id": "320258da",
   "metadata": {},
   "outputs": [],
   "source": [
    "df = df.drop(['fico_range_high', 'fico_range_low'], axis=1)"
   ]
  },
  {
   "cell_type": "code",
   "execution_count": null,
   "id": "d6d6af79",
   "metadata": {},
   "outputs": [],
   "source": [
    "import matplotlib.pyplot as plt\n",
    "\n",
    "# Plot KDE plot of FICO scores\n",
    "plt.figure(figsize=(10, 6))\n",
    "sns.kdeplot(df['fico_avg'], shade=True, color='green')\n",
    "plt.xlabel('FICO Avg Score')\n",
    "plt.ylabel('Density')\n",
    "plt.title('Distribution of FICO Avg Scores (KDE Plot)')\n",
    "plt.grid(True)\n",
    "plt.show()\n"
   ]
  },
  {
   "cell_type": "code",
   "execution_count": null,
   "id": "7927642e",
   "metadata": {},
   "outputs": [],
   "source": [
    "import seaborn as sns\n",
    "\n",
    "# Plot KDE plots of FICO scores for fully paid and charged off loans\n",
    "plt.figure(figsize=(12, 6))\n",
    "\n",
    "sns.kdeplot(df[df['loan_status'] == 'Charged Off']['fico_avg'], shade=True, color='red', label='Charged Off', alpha=0.8)\n",
    "sns.kdeplot(df[df['loan_status'] == 'Fully Paid']['fico_avg'], shade=True, color='green', label='Fully Paid', alpha=0.8)\n",
    "\n",
    "plt.xlabel('FICO Avg Score')\n",
    "plt.ylabel('Density')\n",
    "plt.title('Distribution of FICO Scores by Loan Status (KDE Plot)')\n",
    "plt.legend()\n",
    "plt.grid(True)\n",
    "plt.show()\n"
   ]
  },
  {
   "cell_type": "code",
   "execution_count": null,
   "id": "77bdbc21",
   "metadata": {},
   "outputs": [],
   "source": [
    "df.groupby('loan_status')['fico_avg'].describe()"
   ]
  },
  {
   "cell_type": "code",
   "execution_count": null,
   "id": "ea38b14a",
   "metadata": {},
   "outputs": [],
   "source": [
    "import matplotlib.patches as mpatches\n",
    "\n",
    "plt.figure(figsize=(12, 6))\n",
    "sns.boxplot(data=df, y='loan_status', x='fico_avg', palette='viridis')\n",
    "\n",
    "# Calculate medians\n",
    "fully_paid_median = df[df['loan_status'] == 'Fully Paid']['fico_avg'].median()\n",
    "charged_off_median = df[df['loan_status'] == 'Charged Off']['fico_avg'].median()\n",
    "\n",
    "# Add median lines\n",
    "fully_paid_legend = mpatches.Patch(color='green', label=f'Fully Paid Median: {fully_paid_median:.2f}')\n",
    "charged_off_legend = mpatches.Patch(color='red', label=f'Charged Off Median: {charged_off_median:.2f}')\n",
    "plt.legend(handles=[fully_paid_legend, charged_off_legend])\n",
    "\n",
    "plt.xlabel('Fico Avg Score')\n",
    "plt.ylabel('Loan Status')\n",
    "plt.title('Box Plot of Fico Score by Loan Status')\n",
    "plt.show()"
   ]
  },
  {
   "cell_type": "markdown",
   "id": "a58d9a25",
   "metadata": {},
   "source": [
    "People with higher credit score have better repayment of loan"
   ]
  },
  {
   "cell_type": "markdown",
   "id": "f6db6a39",
   "metadata": {},
   "source": [
    "### 8. open_acc"
   ]
  },
  {
   "cell_type": "code",
   "execution_count": null,
   "id": "25ca87b4",
   "metadata": {},
   "outputs": [],
   "source": [
    "\n",
    "df['open_acc'].describe()"
   ]
  },
  {
   "cell_type": "code",
   "execution_count": null,
   "id": "e0cb616c",
   "metadata": {},
   "outputs": [],
   "source": [
    "plt.figure(figsize=(24,4))\n",
    "plt.xticks(rotation=90)\n",
    "sns.countplot(data=df, x='open_acc')"
   ]
  },
  {
   "cell_type": "markdown",
   "id": "e8cbe050",
   "metadata": {},
   "source": [
    "Distribution is highly skewed to the right, there fore we remove try to remove outliers to make it less skeweda"
   ]
  },
  {
   "cell_type": "code",
   "execution_count": null,
   "id": "916e62d3",
   "metadata": {},
   "outputs": [],
   "source": [
    "# try from 26, 30 , 35\n",
    "num_above_29 = df[df['open_acc'] > 29].shape[0]\n",
    "\n",
    "# Total number of people\n",
    "total_people = df.shape[0]\n",
    "\n",
    "# Calculate the percentage\n",
    "percentage_above_29 = (num_above_29 / total_people) * 100\n",
    "\n",
    "print(\"Percentage of people with open_acc greater than 29: {:.2f}%\".format(percentage_above_29))"
   ]
  },
  {
   "cell_type": "code",
   "execution_count": null,
   "id": "ed4e7aa0",
   "metadata": {},
   "outputs": [],
   "source": [
    "df = df[df['open_acc'] <= 29]"
   ]
  },
  {
   "cell_type": "code",
   "execution_count": null,
   "id": "d23f66fc",
   "metadata": {},
   "outputs": [],
   "source": [
    "plt.figure(figsize=(24,4))\n",
    "plt.xticks(rotation=90)\n",
    "sns.countplot(data=df, x='open_acc')"
   ]
  },
  {
   "cell_type": "code",
   "execution_count": null,
   "id": "e4183af3",
   "metadata": {},
   "outputs": [],
   "source": [
    "df.groupby('loan_status')['open_acc'].describe()"
   ]
  },
  {
   "cell_type": "code",
   "execution_count": null,
   "id": "d5f45660",
   "metadata": {},
   "outputs": [],
   "source": [
    "import matplotlib.patches as mpatches\n",
    "\n",
    "plt.figure(figsize=(12, 6))\n",
    "sns.boxplot(data=df, y='loan_status', x='open_acc', palette='viridis')\n",
    "\n",
    "# Calculate medians\n",
    "fully_paid_median = df[df['loan_status'] == 'Fully Paid']['open_acc'].median()\n",
    "charged_off_median = df[df['loan_status'] == 'Charged Off']['open_acc'].median()\n",
    "\n",
    "# Add median lines\n",
    "fully_paid_legend = mpatches.Patch(color='green', label=f'Fully Paid Median: {fully_paid_median:.2f}')\n",
    "charged_off_legend = mpatches.Patch(color='red', label=f'Charged Off Median: {charged_off_median:.2f}')\n",
    "plt.legend(handles=[fully_paid_legend, charged_off_legend])\n",
    "\n",
    "plt.xlabel('open_acc')\n",
    "plt.ylabel('Loan Status')\n",
    "plt.title('Box Plot of open_acc by Loan Status')\n",
    "plt.show()"
   ]
  },
  {
   "cell_type": "markdown",
   "id": "2b38e72a",
   "metadata": {},
   "source": [
    "### 9. pub_rec"
   ]
  },
  {
   "cell_type": "code",
   "execution_count": null,
   "id": "9efc7a61",
   "metadata": {},
   "outputs": [],
   "source": [
    "df['pub_rec'].describe()"
   ]
  },
  {
   "cell_type": "code",
   "execution_count": null,
   "id": "bc93b86a",
   "metadata": {},
   "outputs": [],
   "source": [
    "plt.figure(figsize=(24,4))\n",
    "plt.xticks(rotation=90)\n",
    "sns.countplot(data=df, x='pub_rec')"
   ]
  },
  {
   "cell_type": "code",
   "execution_count": null,
   "id": "2dad03e2",
   "metadata": {},
   "outputs": [],
   "source": [
    "# try from 2\n",
    "num_above_2 = df[df['pub_rec'] > 2].shape[0]\n",
    "\n",
    "# Total number of people\n",
    "total_people = df.shape[0]\n",
    "\n",
    "# Calculate the percentage\n",
    "percentage_above_2 = (num_above_2 / total_people) * 100\n",
    "\n",
    "print(\"Percentage of people with open_acc greater than 3: {:.2f}%\".format(percentage_above_2))"
   ]
  },
  {
   "cell_type": "code",
   "execution_count": null,
   "id": "13e303fc",
   "metadata": {},
   "outputs": [],
   "source": [
    "df = df[df['pub_rec'] <= 2]"
   ]
  },
  {
   "cell_type": "code",
   "execution_count": null,
   "id": "0afdb9f0",
   "metadata": {},
   "outputs": [],
   "source": [
    "plt.figure(figsize=(24,4))\n",
    "plt.xticks(rotation=90)\n",
    "sns.countplot(data=df, x='pub_rec')"
   ]
  },
  {
   "cell_type": "code",
   "execution_count": null,
   "id": "aea5cc49",
   "metadata": {},
   "outputs": [],
   "source": [
    "df.groupby('loan_status')['pub_rec'].describe()"
   ]
  },
  {
   "cell_type": "code",
   "execution_count": null,
   "id": "6fbd0818",
   "metadata": {},
   "outputs": [],
   "source": [
    "import matplotlib.patches as mpatches\n",
    "\n",
    "plt.figure(figsize=(12, 6))\n",
    "sns.boxplot(data=df, y='loan_status', x='pub_rec', palette='viridis')\n",
    "\n",
    "# Calculate medians\n",
    "fully_paid_median = df[df['loan_status'] == 'Fully Paid']['pub_rec'].median()\n",
    "charged_off_median = df[df['loan_status'] == 'Charged Off']['pub_rec'].median()\n",
    "\n",
    "# Add median lines\n",
    "fully_paid_legend = mpatches.Patch(color='green', label=f'Fully Paid Median: {fully_paid_median:.2f}')\n",
    "charged_off_legend = mpatches.Patch(color='red', label=f'Charged Off Median: {charged_off_median:.2f}')\n",
    "plt.legend(handles=[fully_paid_legend, charged_off_legend])\n",
    "plt.xlabel('pub_rec')\n",
    "plt.ylabel('Loan Status')\n",
    "plt.title('Box Plot of pub_rec by Loan Status')\n",
    "plt.show()"
   ]
  },
  {
   "cell_type": "markdown",
   "id": "f063dc9a",
   "metadata": {},
   "source": [
    "There is slight difference in the average pub_rec for charged off and fully paid . We will retain this feature for now"
   ]
  },
  {
   "cell_type": "markdown",
   "id": "dee0c57b",
   "metadata": {},
   "source": [
    "### 10. revol_bal"
   ]
  },
  {
   "cell_type": "code",
   "execution_count": null,
   "id": "ac481db5",
   "metadata": {},
   "outputs": [],
   "source": [
    "# Distribution of revol_bal\n",
    "sns.set(style=\"whitegrid\")\n",
    "plt.figure(figsize=(12, 5), dpi =130)\n",
    "\n",
    "# Plot the distribution of revol_bal \n",
    "sns.histplot(df['revol_bal'],bins =500, kde= True,color='blue')\n",
    "\n",
    "# Add labels and title\n",
    "plt.xlabel('Revol Balance')\n",
    "plt.ylabel('Frequency')\n",
    "plt.title('Distribution of revol_bal')\n",
    "\n",
    "# Show the plot\n",
    "plt.show()"
   ]
  },
  {
   "cell_type": "markdown",
   "id": "aa7d061c",
   "metadata": {},
   "source": [
    "The revol_bal distribution is highly skewed towards right."
   ]
  },
  {
   "cell_type": "code",
   "execution_count": null,
   "id": "d596c153",
   "metadata": {},
   "outputs": [],
   "source": [
    "pd.options.display.float_format = '{:.2f}'.format\n",
    "description = df['revol_bal'].describe()\n",
    "print(description)"
   ]
  },
  {
   "cell_type": "code",
   "execution_count": null,
   "id": "bcd74204",
   "metadata": {},
   "outputs": [],
   "source": [
    "num_above_100k = df[df['revol_bal'] > 100000].shape[0]\n",
    "\n",
    "# Total number of people\n",
    "total_people = df.shape[0]\n",
    "\n",
    "# Calculate the percentage\n",
    "percentage_above_100k = (num_above_100k / total_people) * 100\n",
    "\n",
    "print(\"Percentage of people with revol_bal greater than 100k: {:.2f}%\".format(percentage_above_100k))"
   ]
  },
  {
   "cell_type": "code",
   "execution_count": null,
   "id": "a6a08e06",
   "metadata": {},
   "outputs": [],
   "source": [
    "df = df[df['revol_bal'] <= 100000]"
   ]
  },
  {
   "cell_type": "code",
   "execution_count": null,
   "id": "0a4ec499",
   "metadata": {},
   "outputs": [],
   "source": [
    "# Distribution of revol_bal\n",
    "sns.set(style=\"whitegrid\")\n",
    "plt.figure(figsize=(12, 5), dpi =130)\n",
    "\n",
    "# Plot the distribution of revol_bal\n",
    "sns.histplot(df['revol_bal'],bins =500, kde= True,color='blue')\n",
    "\n",
    "# Add labels and title\n",
    "plt.xlabel('Revol Balance')\n",
    "plt.ylabel('Frequency')\n",
    "plt.title('Distribution of revol_bal')\n",
    "\n",
    "# Show the plot\n",
    "plt.show()"
   ]
  },
  {
   "cell_type": "code",
   "execution_count": null,
   "id": "a4540342",
   "metadata": {},
   "outputs": [],
   "source": [
    "sns.set_style(\"whitegrid\")\n",
    "plt.figure(figsize=(10, 5))\n",
    "sns.histplot(data=df, x='revol_bal', hue='loan_status', bins=100, kde=True, palette= {'Charged Off': 'red', 'Fully Paid': 'blue'})\n",
    "\n",
    "# Customize the plot further\n",
    "plt.xlabel('revol_bal', fontsize=14 )\n",
    "plt.ylabel('Frequency', fontsize=14, )\n",
    "plt.title('Distribution of revol_bal by Loan Status', fontsize=16, )\n",
    "\n",
    "# Show plot\n",
    "plt.show()"
   ]
  },
  {
   "cell_type": "code",
   "execution_count": null,
   "id": "f17abd3d",
   "metadata": {},
   "outputs": [],
   "source": [
    "df.groupby('loan_status')['revol_bal'].describe()"
   ]
  },
  {
   "cell_type": "code",
   "execution_count": null,
   "id": "650b8012",
   "metadata": {},
   "outputs": [],
   "source": [
    "import matplotlib.patches as mpatches\n",
    "\n",
    "plt.figure(figsize=(12, 6))\n",
    "sns.boxplot(data=df, y='loan_status', x='revol_bal', palette='viridis')\n",
    "\n",
    "# Calculate medians\n",
    "fully_paid_median = df[df['loan_status'] == 'Fully Paid']['revol_bal'].median()\n",
    "charged_off_median = df[df['loan_status'] == 'Charged Off']['revol_bal'].median()\n",
    "\n",
    "# Add median lines\n",
    "fully_paid_legend = mpatches.Patch(color='green', label=f'Fully Paid Median: {fully_paid_median:.2f}')\n",
    "charged_off_legend = mpatches.Patch(color='red', label=f'Charged Off Median: {charged_off_median:.2f}')\n",
    "plt.legend(handles=[fully_paid_legend, charged_off_legend])\n",
    "plt.xlabel('revol_bal')\n",
    "plt.ylabel('Loan Status')\n",
    "plt.title('Box Plot of revol_bal by Loan Status')\n",
    "plt.show()"
   ]
  },
  {
   "cell_type": "markdown",
   "id": "c4e3859e",
   "metadata": {},
   "source": [
    "lower the the balance higher the chance ofd charge off"
   ]
  },
  {
   "cell_type": "markdown",
   "id": "605b67d5",
   "metadata": {},
   "source": [
    "### 11. revol_util"
   ]
  },
  {
   "cell_type": "code",
   "execution_count": null,
   "id": "79fdead9",
   "metadata": {},
   "outputs": [],
   "source": [
    "# Distribution of revol_util\n",
    "sns.set(style=\"whitegrid\")\n",
    "plt.figure(figsize=(12, 5), dpi =130)\n",
    "\n",
    "# Plot the distribution of revol_util\n",
    "sns.histplot(df['revol_util'],bins =500, kde= True,color='blue')\n",
    "\n",
    "# Add labels and title\n",
    "plt.xlabel('Revol Util')\n",
    "plt.ylabel('Frequency')\n",
    "plt.title('Distribution of revol_util')\n",
    "\n",
    "# Show the plot\n",
    "plt.show()"
   ]
  },
  {
   "cell_type": "markdown",
   "id": "a8b7769d",
   "metadata": {},
   "source": [
    "The revol_bal distribution is highly skewed towards right."
   ]
  },
  {
   "cell_type": "code",
   "execution_count": null,
   "id": "70461116",
   "metadata": {},
   "outputs": [],
   "source": [
    "num_above_100k = df[df['revol_util'] > 100].shape[0]\n",
    "\n",
    "# Total number of people\n",
    "total_people = df.shape[0]\n",
    "\n",
    "# Calculate the percentage\n",
    "percentage_above_100k = (num_above_100k / total_people) * 100\n",
    "\n",
    "print(\"Percentage of people with revol_bal greater than 100: {:.2f}%\".format(percentage_above_100k))\n"
   ]
  },
  {
   "cell_type": "code",
   "execution_count": null,
   "id": "39f78fc8",
   "metadata": {},
   "outputs": [],
   "source": [
    "pd.options.display.float_format = '{:.2f}'.format\n",
    "description = df['revol_util'].describe()\n",
    "print(description)"
   ]
  },
  {
   "cell_type": "code",
   "execution_count": null,
   "id": "e16d2795",
   "metadata": {},
   "outputs": [],
   "source": [
    "df = df[df['revol_util'] <= 100]"
   ]
  },
  {
   "cell_type": "code",
   "execution_count": null,
   "id": "86d3572f",
   "metadata": {},
   "outputs": [],
   "source": [
    "sns.set_style(\"whitegrid\")\n",
    "plt.figure(figsize=(10, 5))\n",
    "sns.histplot(data=df, x='revol_util', hue='loan_status', bins=100, kde=True, palette= {'Charged Off': 'red', 'Fully Paid': 'blue'})\n",
    "\n",
    "# Customize the plot further\n",
    "plt.xlabel('revol_util', fontsize=14 )\n",
    "plt.ylabel('Frequency', fontsize=14, )\n",
    "plt.title('Distribution of revol_util by Loan Status', fontsize=16, )\n",
    "\n",
    "# Show plot\n",
    "plt.show()"
   ]
  },
  {
   "cell_type": "markdown",
   "id": "705ba356",
   "metadata": {},
   "source": [
    "much better"
   ]
  },
  {
   "cell_type": "code",
   "execution_count": null,
   "id": "ca0b229a",
   "metadata": {},
   "outputs": [],
   "source": [
    "df.groupby('loan_status')['revol_util'].describe()"
   ]
  },
  {
   "cell_type": "code",
   "execution_count": null,
   "id": "292f07c4",
   "metadata": {},
   "outputs": [],
   "source": [
    "import matplotlib.patches as mpatches\n",
    "\n",
    "plt.figure(figsize=(12, 6))\n",
    "sns.boxplot(data=df, y='loan_status', x='revol_util', palette='viridis')\n",
    "\n",
    "# Calculate medians\n",
    "fully_paid_median = df[df['loan_status'] == 'Fully Paid']['revol_util'].median()\n",
    "charged_off_median = df[df['loan_status'] == 'Charged Off']['revol_util'].median()\n",
    "\n",
    "# Add median lines\n",
    "fully_paid_legend = mpatches.Patch(color='green', label=f'Fully Paid Median: {fully_paid_median:.2f}')\n",
    "charged_off_legend = mpatches.Patch(color='red', label=f'Charged Off Median: {charged_off_median:.2f}')\n",
    "plt.legend(handles=[fully_paid_legend, charged_off_legend])\n",
    "plt.xlabel('revol_util')\n",
    "plt.ylabel('Loan Status')\n",
    "plt.title('Box Plot of revol_bal by Loan Status')\n",
    "plt.show()"
   ]
  },
  {
   "cell_type": "markdown",
   "id": "5113f0ab",
   "metadata": {},
   "source": [
    "### 12. total_acc"
   ]
  },
  {
   "cell_type": "code",
   "execution_count": null,
   "id": "c2b05bec",
   "metadata": {},
   "outputs": [],
   "source": [
    "df['total_acc'].describe()"
   ]
  },
  {
   "cell_type": "code",
   "execution_count": null,
   "id": "2ae90046",
   "metadata": {},
   "outputs": [],
   "source": [
    "plt.figure(figsize=(24,4))\n",
    "plt.xticks(rotation=90)\n",
    "sns.countplot(data=df, x='total_acc')"
   ]
  },
  {
   "cell_type": "markdown",
   "id": "96403ebe",
   "metadata": {},
   "source": [
    "Distribution is highly skewed to the right, there fore we remove try to remove outliers to make it less skewed"
   ]
  },
  {
   "cell_type": "code",
   "execution_count": null,
   "id": "8761ed0d",
   "metadata": {},
   "outputs": [],
   "source": [
    "# try from 63\n",
    "num_above_60 = df[df['total_acc'] > 60].shape[0]\n",
    "\n",
    "# Total number of people\n",
    "total_people = df.shape[0]\n",
    "\n",
    "# Calculate the percentage\n",
    "percentage_above_60 = (num_above_60 / total_people) * 100\n",
    "\n",
    "print(\"Percentage of people with mortgage accounts greater than 8: {:.2f}%\".format(percentage_above_60))"
   ]
  },
  {
   "cell_type": "markdown",
   "id": "008d8c72",
   "metadata": {},
   "source": [
    "Lets drop all records where the total_acc is > 60"
   ]
  },
  {
   "cell_type": "code",
   "execution_count": null,
   "id": "60c31bae",
   "metadata": {},
   "outputs": [],
   "source": [
    "df = df[df['total_acc'] <= 60]"
   ]
  },
  {
   "cell_type": "code",
   "execution_count": null,
   "id": "ff309e93",
   "metadata": {},
   "outputs": [],
   "source": [
    "plt.figure(figsize=(24,4))\n",
    "plt.xticks(rotation=90)\n",
    "sns.countplot(data=df, x='total_acc')"
   ]
  },
  {
   "cell_type": "markdown",
   "id": "07f1e59d",
   "metadata": {},
   "source": [
    "Much Better"
   ]
  },
  {
   "cell_type": "code",
   "execution_count": null,
   "id": "0b9284e2",
   "metadata": {},
   "outputs": [],
   "source": [
    "color_palette =  {'Charged Off': 'red', 'Fully Paid': 'green'} \n",
    "\n",
    "sns.set(style=\"whitegrid\")\n",
    "plt.figure(figsize=(14, 6))\n",
    "\n",
    "sns.countplot(x='total_acc', data=df, hue='loan_status', palette=color_palette)\n",
    "\n",
    "plt.xlabel('Total Accounts', fontsize=14)\n",
    "plt.ylabel('Count', fontsize=14)\n",
    "plt.title('Distribution of Total Accounts with Loan Status', fontsize=16)\n",
    "\n",
    "plt.show()"
   ]
  },
  {
   "cell_type": "code",
   "execution_count": null,
   "id": "73f5ad77",
   "metadata": {},
   "outputs": [],
   "source": [
    "df.groupby('loan_status')['total_acc'].describe()"
   ]
  },
  {
   "cell_type": "code",
   "execution_count": null,
   "id": "705eafd7",
   "metadata": {},
   "outputs": [],
   "source": [
    "import matplotlib.patches as mpatches\n",
    "\n",
    "plt.figure(figsize=(12, 6))\n",
    "sns.boxplot(data=df, y='loan_status', x='total_acc', palette='viridis')\n",
    "\n",
    "# Calculate medians\n",
    "fully_paid_median = df[df['loan_status'] == 'Fully Paid']['total_acc'].median()\n",
    "charged_off_median = df[df['loan_status'] == 'Charged Off']['total_acc'].median()\n",
    "\n",
    "# Add median lines\n",
    "fully_paid_legend = mpatches.Patch(color='green', label=f'Fully Paid Median: {fully_paid_median:.2f}')\n",
    "charged_off_legend = mpatches.Patch(color='red', label=f'Charged Off Median: {charged_off_median:.2f}')\n",
    "plt.legend(handles=[fully_paid_legend, charged_off_legend])\n",
    "plt.xlabel('total_acc')\n",
    "plt.ylabel('Loan Status')\n",
    "plt.title('Box Plot of total_acc by Loan Status')\n",
    "plt.show()"
   ]
  },
  {
   "cell_type": "markdown",
   "id": "571f543c",
   "metadata": {},
   "source": [
    "### 13. mort_acc"
   ]
  },
  {
   "cell_type": "code",
   "execution_count": null,
   "id": "7294d3c3",
   "metadata": {},
   "outputs": [],
   "source": [
    "df['mort_acc'].describe()"
   ]
  },
  {
   "cell_type": "code",
   "execution_count": null,
   "id": "ccecaca5",
   "metadata": {},
   "outputs": [],
   "source": [
    "plt.figure(figsize=(12,6))\n",
    "sns.countplot(data=df, x='mort_acc', palette='viridis')\n",
    "plt.xlabel('Mortgage Accounts')\n",
    "plt.ylabel('Frequency')\n",
    "plt.title('Distribution of Mortgage Accounts')\n",
    "plt.show()"
   ]
  },
  {
   "cell_type": "markdown",
   "id": "c0a8e0bb",
   "metadata": {},
   "source": [
    "Mortgage accounts is highly skewed from the right side. In order to handle this we will remove the outliers"
   ]
  },
  {
   "cell_type": "code",
   "execution_count": null,
   "id": "0ecbc309",
   "metadata": {},
   "outputs": [],
   "source": [
    "# checked for 10, 9, 8 = 0.68% , 7 = 1.30 # Lets remove 8 and \n",
    "num_above_8 = df[df['mort_acc'] > 8].shape[0]\n",
    "\n",
    "# Total number of people\n",
    "total_people = df.shape[0]\n",
    "\n",
    "# Calculate the percentage\n",
    "percentage_above_8 = (num_above_8 / total_people) * 100\n",
    "\n",
    "print(\"Percentage of people with mortgage accounts greater than 8: {:.2f}%\".format(percentage_above_8))"
   ]
  },
  {
   "cell_type": "code",
   "execution_count": null,
   "id": "3ab9c001",
   "metadata": {},
   "outputs": [],
   "source": [
    "df = df[df['mort_acc'] < 9]"
   ]
  },
  {
   "cell_type": "code",
   "execution_count": null,
   "id": "235b9f1d",
   "metadata": {},
   "outputs": [],
   "source": [
    "plt.figure(figsize=(12,6))\n",
    "sns.countplot(data=df, x='mort_acc', palette='viridis')\n",
    "plt.xlabel('Mortgage Accounts')\n",
    "plt.ylabel('Frequency')\n",
    "plt.title('Distribution of Mortgage Accounts')\n",
    "plt.show()"
   ]
  },
  {
   "cell_type": "code",
   "execution_count": null,
   "id": "d029474f",
   "metadata": {},
   "outputs": [],
   "source": [
    "import matplotlib.patches as mpatches\n",
    "\n",
    "plt.figure(figsize=(12, 6))\n",
    "sns.boxplot(data=df, y='loan_status', x='mort_acc', palette='viridis')\n",
    "\n",
    "# Calculate medians\n",
    "fully_paid_median = df[df['loan_status'] == 'Fully Paid']['mort_acc'].median()\n",
    "charged_off_median = df[df['loan_status'] == 'Charged Off']['mort_acc'].median()\n",
    "\n",
    "# Add median lines\n",
    "fully_paid_legend = mpatches.Patch(color='green', label=f'Fully Paid Median: {fully_paid_median:.2f}')\n",
    "charged_off_legend = mpatches.Patch(color='red', label=f'Charged Off Median: {charged_off_median:.2f}')\n",
    "plt.legend(handles=[fully_paid_legend, charged_off_legend])\n",
    "\n",
    "plt.xlabel('Number of Mortgage accounts')\n",
    "plt.ylabel('Loan Status')\n",
    "plt.title('Violin Plot of Mortgage accounts by Loan Status')\n",
    "plt.show()"
   ]
  },
  {
   "cell_type": "markdown",
   "id": "77c22034",
   "metadata": {},
   "source": [
    "Not very clear, though the median is same...I intend to keep it for further analysisa"
   ]
  },
  {
   "cell_type": "markdown",
   "id": "a27394a8",
   "metadata": {},
   "source": [
    "### 14. pub_rec_bankruptcies"
   ]
  },
  {
   "cell_type": "code",
   "execution_count": null,
   "id": "5c5f72c6",
   "metadata": {},
   "outputs": [],
   "source": [
    "numeric_columns = df.select_dtypes(include=[np.number])\n",
    "correlation_values = abs(numeric_columns.corr()['pub_rec_bankruptcies']).sort_values(ascending=False)[1:5]\n",
    "display(correlation_values)"
   ]
  },
  {
   "cell_type": "markdown",
   "id": "c1c17b5a",
   "metadata": {},
   "source": [
    "The correlation has increase with further cleaning and preprocessing"
   ]
  },
  {
   "cell_type": "code",
   "execution_count": null,
   "id": "7b2a0723",
   "metadata": {},
   "outputs": [],
   "source": [
    "plt.figure(figsize=(12,6))\n",
    "sns.countplot(data=df, x='pub_rec_bankruptcies', palette='viridis')\n",
    "plt.xlabel('pub_rec_bankruptcies')\n",
    "plt.ylabel('Frequency')\n",
    "plt.title('Distribution of pub_rec_bankruptcies')\n",
    "plt.show()"
   ]
  },
  {
   "cell_type": "markdown",
   "id": "dddd29c9",
   "metadata": {},
   "source": [
    "Dropping pub_rec_bankruptcies as it is highly correlated to pub_rec"
   ]
  },
  {
   "cell_type": "code",
   "execution_count": null,
   "id": "d1ebfe89",
   "metadata": {},
   "outputs": [],
   "source": [
    "df = df.drop('pub_rec_bankruptcies', axis=1)"
   ]
  },
  {
   "cell_type": "markdown",
   "id": "399a3e58",
   "metadata": {},
   "source": [
    "### 15. term"
   ]
  },
  {
   "cell_type": "code",
   "execution_count": null,
   "id": "28d9c5ee",
   "metadata": {},
   "outputs": [],
   "source": [
    "sns.countplot(data=df, x='term (months)')\n",
    "\n"
   ]
  },
  {
   "cell_type": "code",
   "execution_count": null,
   "id": "cb42805e",
   "metadata": {},
   "outputs": [],
   "source": [
    "color_palette =  {'Charged Off': 'red', 'Fully Paid': 'green'} \n",
    "term_order = sorted(df['term (months)'].unique())\n",
    "sns.set(style=\"whitegrid\")\n",
    "plt.figure(figsize=(24, 6))\n",
    "\n",
    "sns.countplot(x='term (months)', data=df, order=term_order, hue='loan_status', palette=color_palette)\n",
    "\n",
    "plt.xlabel('term (months)', fontsize=14)\n",
    "plt.ylabel('Count', fontsize=14)\n",
    "plt.title('Distribution of term (months) with Loan Status', fontsize=16)\n",
    "\n",
    "plt.show()"
   ]
  },
  {
   "cell_type": "code",
   "execution_count": null,
   "id": "59011312",
   "metadata": {},
   "outputs": [],
   "source": [
    "charged_off_counts = df[df['loan_status'] == \"Charged Off\"].groupby(\"term (months)\").size()\n",
    "fully_paid_counts = df[df['loan_status'] == \"Fully Paid\"].groupby(\"term (months)\").size()\n",
    "charged_off_percentage = (charged_off_counts * 100) / (charged_off_counts + fully_paid_counts)\n",
    "result_df = pd.DataFrame({'term (months)': charged_off_percentage.index, 'Percentage Charged Off': charged_off_percentage.values})\n",
    "result_df.reset_index(drop=True, inplace=True)\n",
    "display(result_df)\n"
   ]
  },
  {
   "cell_type": "code",
   "execution_count": null,
   "id": "3d753665",
   "metadata": {},
   "outputs": [],
   "source": [
    "df.groupby('loan_status')['int_rate'].describe()"
   ]
  },
  {
   "cell_type": "markdown",
   "id": "a693ed7f",
   "metadata": {},
   "source": [
    "### 16. sub_grade"
   ]
  },
  {
   "cell_type": "code",
   "execution_count": null,
   "id": "8f89a2cc",
   "metadata": {},
   "outputs": [],
   "source": [
    "# Distibution of sub_grade\n",
    "\n",
    "subgrade_order = sorted(df['sub_grade'].unique())\n",
    "\n",
    "color_palette = sns.color_palette(\"viridis\", len(subgrade_order))\n",
    "\n",
    "sns.set(style=\"whitegrid\")\n",
    "plt.figure(figsize=(12, 6))\n",
    "\n",
    "sns.countplot(x='sub_grade', data=df, order=subgrade_order, palette=color_palette)\n",
    "\n",
    "plt.xlabel('Sub Grade')\n",
    "plt.ylabel('Count')\n",
    "plt.title('Distribution of Sub Grade')\n",
    "\n",
    "\n",
    "plt.show()"
   ]
  },
  {
   "cell_type": "code",
   "execution_count": null,
   "id": "a8e8e754",
   "metadata": {},
   "outputs": [],
   "source": [
    "color_palette =  {'Charged Off': 'red', 'Fully Paid': 'green'} \n",
    "\n",
    "sns.set(style=\"whitegrid\")\n",
    "plt.figure(figsize=(14, 6))\n",
    "\n",
    "sns.countplot(x='sub_grade', data=df, order=subgrade_order, hue='loan_status', palette=color_palette)\n",
    "\n",
    "plt.xlabel('Sub Grade', fontsize=14)\n",
    "plt.ylabel('Count', fontsize=14)\n",
    "plt.title('Distribution of Sub Grade with Loan Status', fontsize=16)\n",
    "\n",
    "plt.show()"
   ]
  },
  {
   "cell_type": "markdown",
   "id": "571fa1ea",
   "metadata": {},
   "source": [
    "It appears that loans associated with F and G subgrades have a lower rate of repayment. Let's focus on these subgrades and create a countplot specifically for them to gain further insight."
   ]
  },
  {
   "cell_type": "code",
   "execution_count": null,
   "id": "6f8f8ba8",
   "metadata": {},
   "outputs": [],
   "source": [
    "subgrade_order_f_g = sorted(df[df['sub_grade'].str.startswith(('F', 'G'))]['sub_grade'].unique())\n",
    "color_palette =  {'Charged Off': 'red', 'Fully Paid': 'green'} \n",
    "\n",
    "sns.set(style=\"whitegrid\")\n",
    "plt.figure(figsize=(14, 6))\n",
    "\n",
    "sns.countplot(x='sub_grade', data=df, order=subgrade_order_f_g, hue='loan_status', palette=color_palette)\n",
    "\n",
    "plt.xlabel('Sub Grade', fontsize=14)\n",
    "plt.ylabel('Count', fontsize=14)\n",
    "plt.title('Distribution of Sub Grade with Loan Status', fontsize=16)\n",
    "\n",
    "plt.show()"
   ]
  },
  {
   "cell_type": "markdown",
   "id": "75647a4e",
   "metadata": {},
   "source": [
    "Here we can clearly see that as subgrade progresses chance of getting paid back is lower. There is a pattern so we reatin this categorical variable"
   ]
  },
  {
   "cell_type": "markdown",
   "id": "ffd44d18",
   "metadata": {},
   "source": [
    "### 17. emp_length"
   ]
  },
  {
   "cell_type": "code",
   "execution_count": null,
   "id": "7a226e57",
   "metadata": {},
   "outputs": [],
   "source": [
    "# Distibution of emp_length\n",
    "\n",
    "emp_length_order = [i for i in range(0, 11)]\n",
    "\n",
    "color_palette = sns.color_palette(\"coolwarm\", len(emp_length_order))\n",
    "\n",
    "sns.set(style=\"whitegrid\")\n",
    "plt.figure(figsize=(12, 6))\n",
    "\n",
    "sns.countplot(x='emp_length', data=df, order=emp_length_order, palette=color_palette)\n",
    "\n",
    "plt.xlabel('Employment Length')\n",
    "plt.ylabel('Count')\n",
    "plt.title('Distribution of Employment Length')\n",
    "\n",
    "# Rotating the x-axis labels \n",
    "plt.xticks(rotation=45)\n",
    "\n",
    "# We need to annotate the bars with their counts\n",
    "ax = plt.gca()\n",
    "for p in ax.patches:\n",
    "    ax.annotate(f'{p.get_height()}', (p.get_x() + p.get_width() / 2, p.get_height() + 100), ha='center')\n",
    "\n",
    "plt.show()"
   ]
  },
  {
   "cell_type": "code",
   "execution_count": null,
   "id": "714b9518",
   "metadata": {},
   "outputs": [],
   "source": [
    "color_palette =  {'Charged Off': 'red', 'Fully Paid': 'green'} \n",
    "\n",
    "sns.set(style=\"whitegrid\")\n",
    "plt.figure(figsize=(14, 6))\n",
    "\n",
    "sns.countplot(x='emp_length', data=df, order=emp_length_order, hue='loan_status', palette=color_palette)\n",
    "\n",
    "plt.xlabel('Employment Length', fontsize=14)\n",
    "plt.ylabel('Count', fontsize=14)\n",
    "plt.title('Distribution of Employment Length with Loan Status', fontsize=16)\n",
    "\n",
    "plt.xticks(rotation=45, fontsize=10)  \n",
    "\n",
    "ax = plt.gca()\n",
    "for p in ax.patches:\n",
    "    ax.annotate(f'{p.get_height()}', (p.get_x() + p.get_width() / 2, p.get_height() + 100), ha='center', fontsize=8)\n",
    "\n",
    "plt.show()"
   ]
  },
  {
   "cell_type": "markdown",
   "id": "ea35337e",
   "metadata": {},
   "source": [
    "This does not show any pattern across different cateegories i.e the length of employment. So to get a better understanding lets see how % of people caharged of based on emp_length"
   ]
  },
  {
   "cell_type": "code",
   "execution_count": null,
   "id": "6ed93085",
   "metadata": {},
   "outputs": [],
   "source": [
    "charged_off_counts = df[df['loan_status'] == \"Charged Off\"].groupby(\"emp_length\").size()\n",
    "fully_paid_counts = df[df['loan_status'] == \"Fully Paid\"].groupby(\"emp_length\").size()\n",
    "charged_off_percentage = (charged_off_counts * 100) / (charged_off_counts + fully_paid_counts)\n",
    "result_df = pd.DataFrame({'Employment Length': charged_off_percentage.index, 'Percentage Charged Off': charged_off_percentage.values})\n",
    "result_df.reset_index(drop=True, inplace=True)\n",
    "display(result_df)\n"
   ]
  },
  {
   "cell_type": "markdown",
   "id": "53655bf8",
   "metadata": {},
   "source": [
    "Again from this we can see that there is no particular pattern which affects the loan status. Therefore we drop this off"
   ]
  },
  {
   "cell_type": "code",
   "execution_count": null,
   "id": "d4022851",
   "metadata": {},
   "outputs": [],
   "source": [
    "df = df.drop('emp_length', axis=1)\n"
   ]
  },
  {
   "cell_type": "markdown",
   "id": "8f75546e",
   "metadata": {},
   "source": [
    "### 18. home_ownership"
   ]
  },
  {
   "cell_type": "code",
   "execution_count": null,
   "id": "2e463133",
   "metadata": {},
   "outputs": [],
   "source": [
    "# Distibution of home_ownership\n",
    "\n",
    "color_palette = sns.color_palette(\"coolwarm\", len(df['home_ownership'].unique()))\n",
    "\n",
    "sns.set(style=\"whitegrid\")\n",
    "plt.figure(figsize=(12, 6))\n",
    "\n",
    "sns.countplot(x='home_ownership', data=df, palette=color_palette)\n",
    "\n",
    "plt.xlabel('Home Ownership')\n",
    "plt.ylabel('Count')\n",
    "plt.title('Distribution of Home Ownership')\n",
    "\n",
    "\n",
    "plt.show()"
   ]
  },
  {
   "cell_type": "code",
   "execution_count": null,
   "id": "0ce84002",
   "metadata": {},
   "outputs": [],
   "source": [
    "df['home_ownership'].value_counts()"
   ]
  },
  {
   "cell_type": "code",
   "execution_count": null,
   "id": "e8b00cd0",
   "metadata": {},
   "outputs": [],
   "source": [
    "color_palette =  {'Charged Off': 'red', 'Fully Paid': 'green'} \n",
    "\n",
    "sns.set(style=\"whitegrid\")\n",
    "plt.figure(figsize=(14, 6))\n",
    "\n",
    "sns.countplot(x='home_ownership', data=df, hue='loan_status', palette=color_palette)\n",
    "\n",
    "plt.xlabel('Home Ownsership', fontsize=14)\n",
    "plt.ylabel('Count', fontsize=14)\n",
    "plt.title('Distribution of Home Ownership with Loan Status', fontsize=16)\n",
    "\n",
    "plt.show()"
   ]
  },
  {
   "cell_type": "code",
   "execution_count": null,
   "id": "d2ad0bc8",
   "metadata": {},
   "outputs": [],
   "source": [
    "# percentage charged off \n",
    "charged_off_counts = df[df['loan_status'] == \"Charged Off\"].groupby(\"home_ownership\").size()\n",
    "fully_paid_counts = df[df['loan_status'] == \"Fully Paid\"].groupby(\"home_ownership\").size()\n",
    "charged_off_percentage = (charged_off_counts * 100) / (charged_off_counts + fully_paid_counts)\n",
    "result_df = pd.DataFrame({'Hoem Ownership': charged_off_percentage.index, 'Percentage Charged Off': charged_off_percentage.values})\n",
    "result_df.reset_index(drop=True, inplace=True)\n",
    "display(result_df)\n"
   ]
  },
  {
   "cell_type": "markdown",
   "id": "f04daecb",
   "metadata": {},
   "source": [
    "We can clearly see that the chances of charge off is distinctive for each category and moreover charge off is less likely for applicants with own homes. Therefore we reatin thsi categorical variable and also as ther are only 4 categopries we perform ohe"
   ]
  },
  {
   "cell_type": "markdown",
   "id": "b09c7aa3",
   "metadata": {},
   "source": [
    "### 19. verification_status"
   ]
  },
  {
   "cell_type": "code",
   "execution_count": null,
   "id": "0435b558",
   "metadata": {},
   "outputs": [],
   "source": [
    "#verification_status\n",
    "\n",
    "df['verification_status'].value_counts()"
   ]
  },
  {
   "cell_type": "code",
   "execution_count": null,
   "id": "b2a5f85a",
   "metadata": {},
   "outputs": [],
   "source": [
    "# Distibution of home_ownership\n",
    "\n",
    "color_palette = sns.color_palette(\"coolwarm\", len(df['verification_status'].unique()))\n",
    "\n",
    "sns.set(style=\"whitegrid\")\n",
    "plt.figure(figsize=(24, 6))\n",
    "\n",
    "sns.countplot(x='verification_status', data=df, palette=color_palette)\n",
    "\n",
    "plt.xlabel('verification_status')\n",
    "plt.ylabel('Count')\n",
    "plt.title('Distribution of verification_status')\n",
    "\n",
    "plt.show()"
   ]
  },
  {
   "cell_type": "code",
   "execution_count": null,
   "id": "db921262",
   "metadata": {},
   "outputs": [],
   "source": [
    "color_palette =  {'Charged Off': 'red', 'Fully Paid': 'green'} \n",
    "\n",
    "sns.set(style=\"whitegrid\")\n",
    "plt.figure(figsize=(14, 6))\n",
    "\n",
    "sns.countplot(x='verification_status', data=df, hue='loan_status', palette=color_palette)\n",
    "\n",
    "plt.xlabel('verification_status', fontsize=14)\n",
    "plt.ylabel('Count', fontsize=14)\n",
    "plt.title('Distribution of verification_status with Loan Status', fontsize=16)\n",
    "\n",
    "plt.show()"
   ]
  },
  {
   "cell_type": "code",
   "execution_count": null,
   "id": "05e5c5c8",
   "metadata": {},
   "outputs": [],
   "source": [
    "# percentage charged off \n",
    "charged_off_counts = df[df['loan_status'] == \"Charged Off\"].groupby(\"verification_status\").size()\n",
    "fully_paid_counts = df[df['loan_status'] == \"Fully Paid\"].groupby(\"verification_status\").size()\n",
    "charged_off_percentage = (charged_off_counts * 100) / (charged_off_counts + fully_paid_counts)\n",
    "result_df = pd.DataFrame({'verification_status': charged_off_percentage.index, 'Percentage Charged Off': charged_off_percentage.values})\n",
    "result_df.reset_index(drop=True, inplace=True)\n",
    "display(result_df)\n"
   ]
  },
  {
   "cell_type": "markdown",
   "id": "170b4906",
   "metadata": {},
   "source": [
    "### 20. purpose"
   ]
  },
  {
   "cell_type": "code",
   "execution_count": null,
   "id": "84a3d090",
   "metadata": {},
   "outputs": [],
   "source": [
    "len(df['purpose'].unique())"
   ]
  },
  {
   "cell_type": "code",
   "execution_count": null,
   "id": "2699d148",
   "metadata": {},
   "outputs": [],
   "source": [
    "# Distibution of home_ownership\n",
    "\n",
    "color_palette = sns.color_palette(\"coolwarm\", len(df['purpose'].unique()))\n",
    "\n",
    "sns.set(style=\"whitegrid\")\n",
    "plt.figure(figsize=(24, 6))\n",
    "\n",
    "sns.countplot(x='purpose', data=df, palette=color_palette)\n",
    "\n",
    "plt.xlabel('Purpose')\n",
    "plt.ylabel('Count')\n",
    "plt.title('Distribution of Purpose')\n",
    "\n",
    "plt.show()"
   ]
  },
  {
   "cell_type": "code",
   "execution_count": null,
   "id": "7d9b8444",
   "metadata": {},
   "outputs": [],
   "source": [
    "color_palette =  {'Charged Off': 'red', 'Fully Paid': 'green'} \n",
    "\n",
    "sns.set(style=\"whitegrid\")\n",
    "plt.figure(figsize=(14, 6))\n",
    "\n",
    "sns.countplot(x='purpose', data=df, hue='loan_status', palette=color_palette)\n",
    "\n",
    "plt.xlabel('purpose', fontsize=14)\n",
    "plt.ylabel('Count', fontsize=14)\n",
    "plt.title('Distribution of purpose with Loan Status', fontsize=16)\n",
    "\n",
    "plt.show()"
   ]
  },
  {
   "cell_type": "code",
   "execution_count": null,
   "id": "54673850",
   "metadata": {},
   "outputs": [],
   "source": [
    "# percentage charged off \n",
    "charged_off_counts = df[df['loan_status'] == \"Charged Off\"].groupby(\"purpose\").size()\n",
    "fully_paid_counts = df[df['loan_status'] == \"Fully Paid\"].groupby(\"purpose\").size()\n",
    "charged_off_percentage = (charged_off_counts * 100) / (charged_off_counts + fully_paid_counts)\n",
    "result_df = pd.DataFrame({'purpose': charged_off_percentage.index, 'Percentage Charged Off': charged_off_percentage.values})\n",
    "result_df.reset_index(drop=True, inplace=True)\n",
    "display(result_df)\n"
   ]
  },
  {
   "cell_type": "markdown",
   "id": "ce10073a",
   "metadata": {},
   "source": [
    "### 21. initial_list_status"
   ]
  },
  {
   "cell_type": "code",
   "execution_count": null,
   "id": "0b20c94f",
   "metadata": {},
   "outputs": [],
   "source": [
    "# Distibution of initial_list_status\n",
    "\n",
    "color_palette = sns.color_palette(\"coolwarm\", len(emp_length_order))\n",
    "\n",
    "sns.set(style=\"whitegrid\")\n",
    "plt.figure(figsize=(12, 6))\n",
    "\n",
    "sns.countplot(x='initial_list_status', data=df, palette=color_palette)\n",
    "\n",
    "plt.xlabel('Initial List Status')\n",
    "plt.ylabel('Count')\n",
    "plt.title('Distribution of Initial List Status')\n",
    "\n",
    "plt.show()"
   ]
  },
  {
   "cell_type": "code",
   "execution_count": null,
   "id": "3c150b5e",
   "metadata": {},
   "outputs": [],
   "source": [
    "df['initial_list_status'].value_counts()"
   ]
  },
  {
   "cell_type": "code",
   "execution_count": null,
   "id": "dc1f1f6d",
   "metadata": {},
   "outputs": [],
   "source": [
    "color_palette =  {'Charged Off': 'red', 'Fully Paid': 'green'} \n",
    "\n",
    "sns.set(style=\"whitegrid\")\n",
    "plt.figure(figsize=(14, 6))\n",
    "\n",
    "sns.countplot(x='initial_list_status', data=df, hue='loan_status', palette=color_palette)\n",
    "\n",
    "plt.xlabel('Initial List Status')\n",
    "plt.ylabel('Count', fontsize=14)\n",
    "plt.title('Distribution of Initial List Status with Loan Status', fontsize=16)\n",
    "\n",
    "plt.show()"
   ]
  },
  {
   "cell_type": "code",
   "execution_count": null,
   "id": "2275e3ce",
   "metadata": {},
   "outputs": [],
   "source": [
    "# percentage charged off \n",
    "charged_off_counts = df[df['loan_status'] == \"Charged Off\"].groupby(\"initial_list_status\").size()\n",
    "fully_paid_counts = df[df['loan_status'] == \"Fully Paid\"].groupby(\"initial_list_status\").size()\n",
    "charged_off_percentage = (charged_off_counts * 100) / (charged_off_counts + fully_paid_counts)\n",
    "result_df = pd.DataFrame({'Initial_list_Status': charged_off_percentage.index, 'Percentage Charged Off': charged_off_percentage.values})\n",
    "result_df.reset_index(drop=True, inplace=True)\n",
    "display(result_df)\n"
   ]
  },
  {
   "cell_type": "markdown",
   "id": "84477ec1",
   "metadata": {},
   "source": [
    "percentage charged off based on init_list_status is almost similar so this may not aid us in identifying charge off or defaults. therfore we drop this column"
   ]
  },
  {
   "cell_type": "code",
   "execution_count": null,
   "id": "aeb0e704",
   "metadata": {},
   "outputs": [],
   "source": [
    "df = df.drop('initial_list_status', axis=1)"
   ]
  },
  {
   "cell_type": "markdown",
   "id": "fdd9809e",
   "metadata": {},
   "source": [
    "### 22. application_type"
   ]
  },
  {
   "cell_type": "code",
   "execution_count": null,
   "id": "c34f8dec",
   "metadata": {},
   "outputs": [],
   "source": [
    "# Distibution of application_type\n",
    "\n",
    "color_palette = sns.color_palette(\"coolwarm\", len(emp_length_order))\n",
    "\n",
    "sns.set(style=\"whitegrid\")\n",
    "plt.figure(figsize=(12, 6))\n",
    "\n",
    "sns.countplot(x='application_type', data=df, palette=color_palette)\n",
    "\n",
    "plt.xlabel('Application Type')\n",
    "plt.ylabel('Count')\n",
    "plt.title('Distribution of Application Type')\n",
    "\n",
    "plt.show()"
   ]
  },
  {
   "cell_type": "code",
   "execution_count": null,
   "id": "a4c2b361",
   "metadata": {},
   "outputs": [],
   "source": [
    "df['application_type'].value_counts()"
   ]
  },
  {
   "cell_type": "code",
   "execution_count": null,
   "id": "13e31c6e",
   "metadata": {},
   "outputs": [],
   "source": [
    "color_palette =  {'Charged Off': 'red', 'Fully Paid': 'green'} \n",
    "\n",
    "sns.set(style=\"whitegrid\")\n",
    "plt.figure(figsize=(14, 6))\n",
    "\n",
    "sns.countplot(x='application_type', data=df, hue='loan_status', palette=color_palette)\n",
    "\n",
    "plt.xlabel('Application Type', fontsize=14)\n",
    "plt.ylabel('Count', fontsize=14)\n",
    "plt.title('Distribution of Application Type with Loan Status', fontsize=16)\n",
    "\n",
    "plt.show()"
   ]
  },
  {
   "cell_type": "code",
   "execution_count": null,
   "id": "fddde2cf",
   "metadata": {},
   "outputs": [],
   "source": [
    "# percentage charged off \n",
    "charged_off_counts = df[df['loan_status'] == \"Charged Off\"].groupby(\"application_type\").size()\n",
    "fully_paid_counts = df[df['loan_status'] == \"Fully Paid\"].groupby(\"application_type\").size()\n",
    "charged_off_percentage = (charged_off_counts * 100) / (charged_off_counts + fully_paid_counts)\n",
    "result_df = pd.DataFrame({'Application Type': charged_off_percentage.index, 'Percentage Charged Off': charged_off_percentage.values})\n",
    "result_df.reset_index(drop=True, inplace=True)\n",
    "display(result_df)\n"
   ]
  },
  {
   "cell_type": "markdown",
   "id": "cd741029",
   "metadata": {},
   "source": [
    "We can clearly see there is a ditiction in loan status based on application_type. So we plan to retain the categorical variable"
   ]
  },
  {
   "cell_type": "markdown",
   "id": "0bcea34a",
   "metadata": {},
   "source": [
    "### 23. earliest_cr_line"
   ]
  },
  {
   "cell_type": "code",
   "execution_count": null,
   "id": "5adb1f88",
   "metadata": {},
   "outputs": [],
   "source": [
    "# Distibution of sub_grade\n",
    "color_palette = sns.color_palette(\"viridis\", len(subgrade_order))\n",
    "\n",
    "sns.set(style=\"whitegrid\")\n",
    "plt.figure(figsize=(12, 6))\n",
    "\n",
    "sns.histplot(x='earliest_cr_line', data=df, hue='loan_status', bins=40, kde=True)\n",
    "\n",
    "plt.xlabel('earliest credit line')\n",
    "plt.ylabel('Count')\n",
    "plt.title('Distribution of earliest_cr_line')\n",
    "\n",
    "\n",
    "plt.show()"
   ]
  },
  {
   "cell_type": "code",
   "execution_count": null,
   "id": "41185608",
   "metadata": {},
   "outputs": [],
   "source": [
    "# Distibution of sub_grade\n",
    "color_palette = sns.color_palette(\"viridis\", len(subgrade_order))\n",
    "\n",
    "sns.set(style=\"whitegrid\")\n",
    "plt.figure(figsize=(12, 6))\n",
    "\n",
    "sns.histplot(x='issue_d', data=df, hue='loan_status', bins=40, kde=True)\n",
    "\n",
    "plt.xlabel(\"Issue date\")\n",
    "plt.ylabel('Count')\n",
    "plt.title('Distribution of Issue Date')\n",
    "\n",
    "\n",
    "plt.show()"
   ]
  },
  {
   "cell_type": "code",
   "execution_count": null,
   "id": "498213ff",
   "metadata": {},
   "outputs": [],
   "source": [
    "df.groupby('loan_status')['earliest_cr_line'].describe()"
   ]
  },
  {
   "cell_type": "markdown",
   "id": "9d88e5e6",
   "metadata": {},
   "source": [
    "Mean earliest_cr_line for customers who fully paid the loan was approx. 1 year before the customers who did not pay the loan"
   ]
  },
  {
   "cell_type": "code",
   "execution_count": null,
   "id": "d15edb53",
   "metadata": {},
   "outputs": [],
   "source": [
    "df.groupby('loan_status')['issue_d'].describe()"
   ]
  },
  {
   "cell_type": "code",
   "execution_count": null,
   "id": "5ab3ac7f",
   "metadata": {},
   "outputs": [],
   "source": [
    "\n",
    "df = df.drop('earliest_cr_line' , axis=1)\n",
    "df = df.drop('issue_d', axis=1)"
   ]
  },
  {
   "cell_type": "markdown",
   "id": "bd190a47",
   "metadata": {},
   "source": [
    "### Train/Test Split"
   ]
  },
  {
   "cell_type": "code",
   "execution_count": null,
   "id": "c79bf76e",
   "metadata": {},
   "outputs": [],
   "source": [
    "from sklearn.model_selection import train_test_split"
   ]
  },
  {
   "cell_type": "code",
   "execution_count": null,
   "id": "d334ff4f",
   "metadata": {},
   "outputs": [],
   "source": [
    "df_train, df_test = train_test_split(df, test_size=0.33, random_state=42)"
   ]
  },
  {
   "cell_type": "code",
   "execution_count": null,
   "id": "e1462694",
   "metadata": {},
   "outputs": [],
   "source": []
  },
  {
   "cell_type": "code",
   "execution_count": null,
   "id": "012a0be5",
   "metadata": {},
   "outputs": [],
   "source": [
    "# df['issue_d'].isnull().any()"
   ]
  },
  {
   "cell_type": "code",
   "execution_count": null,
   "id": "facd7f58",
   "metadata": {},
   "outputs": [],
   "source": [
    "# df['issue_d'] = pd.to_datetime(df['issue_d'])"
   ]
  },
  {
   "cell_type": "code",
   "execution_count": null,
   "id": "9254b249",
   "metadata": {},
   "outputs": [],
   "source": [
    "# df['issue_d'].sample(5)"
   ]
  },
  {
   "cell_type": "code",
   "execution_count": null,
   "id": "44b1cbb3",
   "metadata": {},
   "outputs": [],
   "source": [
    "# df['issue_d'].describe()"
   ]
  },
  {
   "cell_type": "code",
   "execution_count": null,
   "id": "f156bfd9",
   "metadata": {},
   "outputs": [],
   "source": [
    "# unique_issue_dates = df['issue_d'].unique()\n",
    "# sorted_unique_issue_dates = pd.Series(unique_issue_dates).sort_values()\n",
    "# print(sorted_unique_issue_dates)"
   ]
  },
  {
   "cell_type": "code",
   "execution_count": null,
   "id": "89c46be9",
   "metadata": {},
   "outputs": [],
   "source": [
    "# plt.figure(figsize=(6,3), dpi=90)\n",
    "# df['issue_d'].dt.year.value_counts().sort_index().plot.bar(color='darkblue')\n",
    "# plt.xlabel('Year')\n",
    "# plt.ylabel('Number of Loans Funded')\n",
    "# plt.title('Loans Funded per Year')"
   ]
  },
  {
   "cell_type": "markdown",
   "id": "bf0b4706",
   "metadata": {},
   "source": [
    "We'll form the test set from the most recent 10% of the loans."
   ]
  },
  {
   "cell_type": "code",
   "execution_count": null,
   "id": "ebbda013",
   "metadata": {},
   "outputs": [],
   "source": [
    "# df_train = df.loc[df['issue_d'] <  df['issue_d'].quantile(0.9)]\n",
    "# df_test =  df.loc[df['issue_d'] >= df['issue_d'].quantile(0.9)]"
   ]
  },
  {
   "cell_type": "code",
   "execution_count": null,
   "id": "2e43d79e",
   "metadata": {},
   "outputs": [],
   "source": [
    "# df_train = df_train.drop('issue_d' , axis=1)\n",
    "# df_test = df_test.drop('issue_d' , axis=1)"
   ]
  },
  {
   "cell_type": "code",
   "execution_count": null,
   "id": "2cabb22a",
   "metadata": {},
   "outputs": [],
   "source": [
    "# print('Number of loans in the partition:   ', df_train.shape[0] + df_test.shape[0])\n",
    "# print('Number of loans in the full dataset:', df.shape[0])"
   ]
  },
  {
   "cell_type": "code",
   "execution_count": null,
   "id": "df1b70d0",
   "metadata": {},
   "outputs": [],
   "source": [
    "# df_train.shape, df_test.shape"
   ]
  },
  {
   "cell_type": "code",
   "execution_count": null,
   "id": "f08889c3",
   "metadata": {},
   "outputs": [],
   "source": [
    "# df_train.head()"
   ]
  },
  {
   "cell_type": "markdown",
   "id": "283ccdad",
   "metadata": {},
   "source": [
    "### Save Data to Files:"
   ]
  },
  {
   "cell_type": "code",
   "execution_count": null,
   "id": "7ad71c01",
   "metadata": {},
   "outputs": [],
   "source": [
    "df_train.to_csv('../data/train.csv', index=False)\n",
    "df_test.to_csv('../data/test.csv', index=False)"
   ]
  },
  {
   "cell_type": "code",
   "execution_count": null,
   "id": "451f12f0",
   "metadata": {},
   "outputs": [],
   "source": []
  }
 ],
 "metadata": {
  "kernelspec": {
   "display_name": "Python 3.10 (tensorflow)",
   "language": "python",
   "name": "tensorflow"
  },
  "language_info": {
   "codemirror_mode": {
    "name": "ipython",
    "version": 3
   },
   "file_extension": ".py",
   "mimetype": "text/x-python",
   "name": "python",
   "nbconvert_exporter": "python",
   "pygments_lexer": "ipython3",
   "version": "3.10.13"
  }
 },
 "nbformat": 4,
 "nbformat_minor": 5
}
