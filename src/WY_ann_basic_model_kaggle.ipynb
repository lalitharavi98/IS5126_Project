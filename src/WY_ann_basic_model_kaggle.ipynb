{
 "cells": [
  {
   "cell_type": "code",
   "execution_count": 97,
   "metadata": {},
   "outputs": [],
   "source": [
    "import pandas as pd\n",
    "import numpy as np\n",
    "import seaborn as sns\n",
    "from scipy import stats \n",
    "import matplotlib.pyplot as plt\n",
    "\n",
    "from sklearn.model_selection import train_test_split, RandomizedSearchCV, StratifiedKFold\n",
    "from sklearn.preprocessing import MinMaxScaler, LabelEncoder, StandardScaler, RobustScaler\n",
    "from sklearn.metrics import (\n",
    "    accuracy_score, confusion_matrix, classification_report, \n",
    "    roc_auc_score, roc_curve, auc,\n",
    "    ConfusionMatrixDisplay, RocCurveDisplay,\n",
    "    PrecisionRecallDisplay, precision_recall_curve,\n",
    "    make_scorer, average_precision_score,\n",
    "    f1_score\n",
    ")\n",
    "from sklearn.ensemble import RandomForestClassifier\n",
    "from sklearn.feature_selection import RFECV\n",
    "\n",
    "import tensorflow as tf\n",
    "\n",
    "from tensorflow.keras.models import Sequential, Model\n",
    "from tensorflow.keras.layers import Dense, Dropout, Activation, BatchNormalization, Input\n",
    "from tensorflow.keras.constraints import max_norm\n",
    "from tensorflow.keras.optimizers import Adam\n",
    "from tensorflow.keras.callbacks import EarlyStopping\n",
    "from tensorflow.keras.models import load_model\n",
    "from tensorflow.keras.metrics import AUC\n",
    "from keras_tuner import HyperModel, RandomSearch, Objective\n",
    "from scikeras.wrappers import KerasClassifier\n",
    "\n",
    "\n",
    "\n",
    "from imblearn.pipeline import Pipeline, make_pipeline\n",
    "from imblearn.under_sampling import RandomUnderSampler\n",
    "\n",
    "from itertools import product\n",
    "# from skimpy import skim\n"
   ]
  },
  {
   "cell_type": "code",
   "execution_count": 2,
   "metadata": {},
   "outputs": [],
   "source": [
    "df_train = pd.read_csv(\"../data/train.csv\")"
   ]
  },
  {
   "cell_type": "code",
   "execution_count": 3,
   "metadata": {},
   "outputs": [],
   "source": [
    "df_test = pd.read_csv(\"../data/test.csv\")"
   ]
  },
  {
   "cell_type": "markdown",
   "metadata": {},
   "source": [
    "## Converting categorical data to numeric features and normalising"
   ]
  },
  {
   "cell_type": "code",
   "execution_count": 4,
   "metadata": {},
   "outputs": [],
   "source": [
    "columns_to_encode = ['home_ownership','verification_status','purpose','application_type','sub_grade']"
   ]
  },
  {
   "cell_type": "code",
   "execution_count": 5,
   "id": "e78820fb",
   "metadata": {},
   "outputs": [],
   "source": [
    "# One-hot encoding \n",
    "df_train = pd.get_dummies(df_train, columns=columns_to_encode)\n",
    "df_test = pd.get_dummies(df_test, columns=columns_to_encode)"
   ]
  },
  {
   "cell_type": "code",
   "execution_count": 6,
   "id": "87b9eeec",
   "metadata": {},
   "outputs": [],
   "source": [
    "target_column = 'loan_status'  # Replace with your actual target variable name\n",
    "\n",
    "class_mapping = {'Fully Paid': 0, 'Charged Off': 1}  \n",
    "\n",
    "# Apply binary encoding to the target variable in the training DataFrame\n",
    "df_train['Label'] = df_train[target_column].map(class_mapping)\n",
    "df_test['Label'] = df_test[target_column].map(class_mapping)"
   ]
  },
  {
   "cell_type": "code",
   "execution_count": 7,
   "metadata": {},
   "outputs": [
    {
     "name": "stdout",
     "output_type": "stream",
     "text": [
      "(223591, 73)\n",
      "Label\n",
      "0    80.224159\n",
      "1    19.775841\n",
      "Name: proportion, dtype: float64\n",
      "(112456, 74)\n",
      "Label\n",
      "0    80.279398\n",
      "1    19.720602\n",
      "Name: proportion, dtype: float64\n"
     ]
    }
   ],
   "source": [
    "print(df_train.shape)\n",
    "print(df_train['Label'].value_counts(normalize=True) * 100)\n",
    "print(df_test.shape)\n",
    "print(df_test['Label'].value_counts(normalize=True) * 100)"
   ]
  },
  {
   "cell_type": "code",
   "execution_count": 8,
   "metadata": {},
   "outputs": [],
   "source": [
    "df_train['purpose_educational'] = False\n"
   ]
  },
  {
   "cell_type": "code",
   "execution_count": 9,
   "metadata": {},
   "outputs": [
    {
     "name": "stdout",
     "output_type": "stream",
     "text": [
      "All columns match.\n"
     ]
    }
   ],
   "source": [
    "train_columns = df_train.columns\n",
    "test_columns = df_test.columns\n",
    "\n",
    "if set(train_columns) == set(test_columns):\n",
    "    print(\"All columns match.\")\n",
    "else:\n",
    "    print(\"Columns do not match.\")\n"
   ]
  },
  {
   "cell_type": "code",
   "execution_count": 10,
   "metadata": {},
   "outputs": [],
   "source": [
    "X_train = df_train.drop(['Label','loan_status'], axis=1)\n",
    "y_train = df_train['Label']\n",
    "X_test = df_test.drop(['Label','loan_status'], axis=1)\n",
    "y_test = df_test['Label']\n",
    "X_test = X_test.reindex(columns=X_train.columns, fill_value=0)"
   ]
  },
  {
   "cell_type": "code",
   "execution_count": 11,
   "metadata": {},
   "outputs": [],
   "source": [
    "scaler = RobustScaler()\n",
    "X_train_robust = scaler.fit_transform(X_train)\n",
    "X_test_robust = scaler.transform(X_test)\n",
    "\n",
    "scaler = StandardScaler()\n",
    "X_train_standard = scaler.fit_transform(X_train)\n",
    "X_test_standard = scaler.transform(X_test)\n",
    "\n",
    "scaler = MinMaxScaler()\n",
    "X_train_minmax = scaler.fit_transform(X_train)\n",
    "X_test_minmax = scaler.transform(X_test)"
   ]
  },
  {
   "cell_type": "code",
   "execution_count": 12,
   "metadata": {},
   "outputs": [],
   "source": [
    "def evaluate_nn(true, pred_probs, train=True):\n",
    "    # For binary classification problems, threshold probabilities at 0.5 to get class predictions\n",
    "    pred_class = (pred_probs > 0.5).astype(int)\n",
    "\n",
    "    auprc_base = average_precision_score(true, pred_probs)\n",
    "\n",
    "    if train:\n",
    "        print(\"Train Result:\\n================================================\")\n",
    "    else:\n",
    "        print(\"Test Result:\\n================================================\")\n",
    "\n",
    "    acc = accuracy_score(true, pred_class) * 100\n",
    "    clf_report = pd.DataFrame(classification_report(true, pred_class, output_dict=True))\n",
    "    cm = confusion_matrix(true, pred_class)\n",
    "\n",
    "    print(f\"Accuracy Score: {acc:.2f}%\")\n",
    "    print(\"_______________________________________________\")\n",
    "    print(f\"CLASSIFICATION REPORT:\\n{clf_report}\")\n",
    "    print(\"_______________________________________________\")\n",
    "    print(f\"Confusion Matrix: \\n {cm}\\n\")\n",
    "    print(f\"Area Under the Precision-Recall Curve (AUPRC): {auprc_base:.4f}\")\n"
   ]
  },
  {
   "cell_type": "code",
   "execution_count": 13,
   "metadata": {},
   "outputs": [],
   "source": [
    "def plot_learning_evolution(r):\n",
    "    plt.figure(figsize=(12, 8))\n",
    "    \n",
    "    plt.subplot(2, 2, 1)\n",
    "    plt.plot(r.history['loss'], label='Loss')\n",
    "    plt.plot(r.history['val_loss'], label='val_Loss')\n",
    "    plt.title('Loss evolution during trainig')\n",
    "    plt.legend()\n",
    "\n",
    "    plt.subplot(2, 2, 2)\n",
    "    plt.plot(r.history['AUC'], label='AUC')\n",
    "    plt.plot(r.history['val_AUC'], label='val_AUC')\n",
    "    plt.title('AUC score evolution during trainig')\n",
    "    plt.legend();"
   ]
  },
  {
   "cell_type": "markdown",
   "metadata": {},
   "source": [
    "## Basic Models"
   ]
  },
  {
   "cell_type": "code",
   "execution_count": 14,
   "metadata": {},
   "outputs": [],
   "source": [
    "model = Sequential()\n",
    "\n",
    "model.add(Dense(100,activation='relu'))\n",
    "model.add(Dropout(0.2))\n",
    "\n",
    "model.add(Dense(100,activation='relu'))\n",
    "model.add(Dropout(0.2))\n",
    "\n",
    "model.add(Dense(100,activation='relu'))\n",
    "model.add(Dropout(0.2))\n",
    "\n",
    "model.add(Dense(1, activation='sigmoid'))\n",
    "\n",
    "model.compile(optimizer=Adam(0.001), loss='binary_crossentropy', metrics=[AUC(name='AUC')])"
   ]
  },
  {
   "cell_type": "markdown",
   "metadata": {},
   "source": [
    "#### robust_basic"
   ]
  },
  {
   "cell_type": "code",
   "execution_count": 15,
   "metadata": {},
   "outputs": [
    {
     "name": "stdout",
     "output_type": "stream",
     "text": [
      "Epoch 1/20\n",
      "6988/6988 - 7s - 1ms/step - AUC: 0.7885 - loss: 0.3800 - val_AUC: 0.8035 - val_loss: 0.3607\n",
      "Epoch 2/20\n",
      "6988/6988 - 6s - 880us/step - AUC: 0.8470 - loss: 0.3259 - val_AUC: 0.8823 - val_loss: 0.2848\n",
      "Epoch 3/20\n",
      "6988/6988 - 6s - 880us/step - AUC: 0.8810 - loss: 0.2868 - val_AUC: 0.8828 - val_loss: 0.2856\n",
      "Epoch 4/20\n",
      "6988/6988 - 6s - 882us/step - AUC: 0.8838 - loss: 0.2830 - val_AUC: 0.8852 - val_loss: 0.2784\n",
      "Epoch 5/20\n",
      "6988/6988 - 6s - 871us/step - AUC: 0.8849 - loss: 0.2816 - val_AUC: 0.8861 - val_loss: 0.2789\n",
      "Epoch 6/20\n",
      "6988/6988 - 6s - 864us/step - AUC: 0.8864 - loss: 0.2801 - val_AUC: 0.8862 - val_loss: 0.2788\n",
      "Epoch 7/20\n",
      "6988/6988 - 6s - 859us/step - AUC: 0.8871 - loss: 0.2806 - val_AUC: 0.8864 - val_loss: 0.2793\n",
      "Epoch 8/20\n",
      "6988/6988 - 6s - 859us/step - AUC: 0.8882 - loss: 0.2788 - val_AUC: 0.8865 - val_loss: 0.2787\n",
      "Epoch 9/20\n",
      "6988/6988 - 6s - 853us/step - AUC: 0.8890 - loss: 0.2773 - val_AUC: 0.8867 - val_loss: 0.2797\n",
      "Epoch 10/20\n",
      "6988/6988 - 6s - 865us/step - AUC: 0.8895 - loss: 0.2770 - val_AUC: 0.8860 - val_loss: 0.2789\n",
      "Epoch 11/20\n",
      "6988/6988 - 6s - 868us/step - AUC: 0.8902 - loss: 0.2762 - val_AUC: 0.8870 - val_loss: 0.2794\n",
      "Epoch 12/20\n",
      "6988/6988 - 6s - 864us/step - AUC: 0.8907 - loss: 0.2758 - val_AUC: 0.8851 - val_loss: 0.2850\n",
      "Epoch 13/20\n",
      "6988/6988 - 6s - 873us/step - AUC: 0.8909 - loss: 0.2760 - val_AUC: 0.8870 - val_loss: 0.2829\n",
      "Epoch 14/20\n",
      "6988/6988 - 6s - 864us/step - AUC: 0.8912 - loss: 0.2753 - val_AUC: 0.8871 - val_loss: 0.2825\n",
      "Epoch 15/20\n",
      "6988/6988 - 6s - 862us/step - AUC: 0.8916 - loss: 0.2749 - val_AUC: 0.8865 - val_loss: 0.2820\n",
      "Epoch 16/20\n",
      "6988/6988 - 6s - 874us/step - AUC: 0.8916 - loss: 0.2747 - val_AUC: 0.8869 - val_loss: 0.2788\n",
      "Epoch 17/20\n",
      "6988/6988 - 6s - 859us/step - AUC: 0.8923 - loss: 0.2743 - val_AUC: 0.8865 - val_loss: 0.2876\n",
      "Epoch 18/20\n",
      "6988/6988 - 6s - 856us/step - AUC: 0.8925 - loss: 0.2738 - val_AUC: 0.8861 - val_loss: 0.2863\n",
      "Epoch 19/20\n",
      "6988/6988 - 6s - 884us/step - AUC: 0.8928 - loss: 0.2739 - val_AUC: 0.8868 - val_loss: 0.2868\n",
      "Epoch 20/20\n",
      "6988/6988 - 6s - 856us/step - AUC: 0.8933 - loss: 0.2732 - val_AUC: 0.8864 - val_loss: 0.2856\n"
     ]
    }
   ],
   "source": [
    "r_robust = model.fit(x=X_train_robust, y=y_train, epochs=20,verbose = 2,batch_size=32, validation_data=(X_test_robust, y_test))"
   ]
  },
  {
   "cell_type": "code",
   "execution_count": 16,
   "metadata": {},
   "outputs": [
    {
     "data": {
      "image/png": "[encoded data removed]",
      "text/plain": [
       "<Figure size 1200x800 with 2 Axes>"
      ]
     },
     "metadata": {},
     "output_type": "display_data"
    }
   ],
   "source": [
    "plot_learning_evolution(r_robust)                                                                                 "
   ]
  },
  {
   "cell_type": "code",
   "execution_count": 17,
   "metadata": {},
   "outputs": [
    {
     "name": "stdout",
     "output_type": "stream",
     "text": [
      "\u001b[1m3515/3515\u001b[0m \u001b[32m━━━━━━━━━━━━━━━━━━━━\u001b[0m\u001b[37m\u001b[0m \u001b[1m2s\u001b[0m 426us/step\n",
      "Test Result:\n",
      "================================================\n",
      "Accuracy Score: 88.69%\n",
      "_______________________________________________\n",
      "CLASSIFICATION REPORT:\n",
      "                      0             1  accuracy      macro avg   weighted avg\n",
      "precision      0.879797      0.956539  0.886862       0.918168       0.894931\n",
      "recall         0.995015      0.446589  0.886862       0.720802       0.886862\n",
      "f1-score       0.933866      0.608896  0.886862       0.771381       0.869780\n",
      "support    90279.000000  22177.000000  0.886862  112456.000000  112456.000000\n",
      "_______________________________________________\n",
      "Confusion Matrix: \n",
      " [[89829   450]\n",
      " [12273  9904]]\n",
      "\n",
      "Area Under the Precision-Recall Curve (AUPRC): 0.7581\n"
     ]
    }
   ],
   "source": [
    "y_test_pred_robust = model.predict(X_test_robust)\n",
    "evaluate_nn(y_test, y_test_pred_robust, train=False)"
   ]
  },
  {
   "cell_type": "code",
   "execution_count": 18,
   "metadata": {},
   "outputs": [
    {
     "data": {
      "image/png": "[encoded data removed]",
      "text/plain": [
       "<Figure size 800x600 with 2 Axes>"
      ]
     },
     "metadata": {},
     "output_type": "display_data"
    },
    {
     "data": {
      "image/png": "[encoded data removed]",
      "text/plain": [
       "<Figure size 800x600 with 1 Axes>"
      ]
     },
     "metadata": {},
     "output_type": "display_data"
    },
    {
     "name": "stdout",
     "output_type": "stream",
     "text": [
      "0.5749533642603611\n"
     ]
    }
   ],
   "source": [
    "y_pred_op = (y_test_pred_robust > 0.5).astype(int)\n",
    "\n",
    "cm = confusion_matrix(y_test, y_pred_op)\n",
    "\n",
    "fig, ax = plt.subplots(figsize=(8, 6))\n",
    "sns.heatmap(cm, annot=True, fmt='d', cmap='Blues', ax=ax)\n",
    "ax.set_xlabel('Predicted Labels')\n",
    "ax.set_ylabel('True Labels')\n",
    "ax.set_title('Confusion Matrix')\n",
    "ax.xaxis.set_ticklabels(['Fully Paid', 'Default'])\n",
    "ax.yaxis.set_ticklabels(['Fully Paid', 'Default'])\n",
    "plt.show()\n",
    "\n",
    "fpr, tpr, _ = roc_curve(y_test, y_test_pred_robust)\n",
    "roc_auc = auc(fpr, tpr)\n",
    "\n",
    "# Plot ROC curve\n",
    "plt.figure(figsize=(8, 6))\n",
    "plt.plot(fpr, tpr, color='darkorange', lw=2, label=f'ROC curve (area = {roc_auc:.2f})')\n",
    "plt.xlim([0.0, 1.0])\n",
    "plt.ylim([0.0, 1.05])\n",
    "plt.xlabel('False Positive Rate')\n",
    "plt.ylabel('True Positive Rate')\n",
    "plt.legend(loc=\"lower right\")\n",
    "plt.show()\n",
    "\n",
    "# Calculate True Positive Rate (TPR) and False Positive Rate (FPR)\n",
    "fpr, tpr, thresholds = roc_curve(y_test, y_test_pred_robust)\n",
    "\n",
    "# Calculate Kolmogorov-Smirnov measure (KS)\n",
    "ks = max(tpr - fpr)\n",
    "\n",
    "print(ks)"
   ]
  },
  {
   "cell_type": "markdown",
   "metadata": {},
   "source": [
    "#### standard_basic"
   ]
  },
  {
   "cell_type": "code",
   "execution_count": 19,
   "metadata": {},
   "outputs": [
    {
     "name": "stdout",
     "output_type": "stream",
     "text": [
      "Epoch 1/20\n",
      "6988/6988 - 6s - 880us/step - AUC: 0.8182 - loss: 0.4361 - val_AUC: 0.8717 - val_loss: 0.3013\n",
      "Epoch 2/20\n",
      "6988/6988 - 6s - 870us/step - AUC: 0.8680 - loss: 0.3085 - val_AUC: 0.8770 - val_loss: 0.2921\n",
      "Epoch 3/20\n",
      "6988/6988 - 6s - 859us/step - AUC: 0.8749 - loss: 0.2979 - val_AUC: 0.8787 - val_loss: 0.2910\n",
      "Epoch 4/20\n",
      "6988/6988 - 6s - 858us/step - AUC: 0.8789 - loss: 0.2929 - val_AUC: 0.8810 - val_loss: 0.2869\n",
      "Epoch 5/20\n",
      "6988/6988 - 6s - 856us/step - AUC: 0.8806 - loss: 0.2897 - val_AUC: 0.8817 - val_loss: 0.2859\n",
      "Epoch 6/20\n",
      "6988/6988 - 6s - 854us/step - AUC: 0.8834 - loss: 0.2869 - val_AUC: 0.8841 - val_loss: 0.2832\n",
      "Epoch 7/20\n",
      "6988/6988 - 6s - 857us/step - AUC: 0.8848 - loss: 0.2848 - val_AUC: 0.8845 - val_loss: 0.2818\n",
      "Epoch 8/20\n",
      "6988/6988 - 6s - 855us/step - AUC: 0.8854 - loss: 0.2839 - val_AUC: 0.8850 - val_loss: 0.2822\n",
      "Epoch 9/20\n",
      "6988/6988 - 6s - 853us/step - AUC: 0.8861 - loss: 0.2829 - val_AUC: 0.8841 - val_loss: 0.2834\n",
      "Epoch 10/20\n",
      "6988/6988 - 6s - 856us/step - AUC: 0.8864 - loss: 0.2827 - val_AUC: 0.8851 - val_loss: 0.2819\n",
      "Epoch 11/20\n",
      "6988/6988 - 6s - 852us/step - AUC: 0.8870 - loss: 0.2817 - val_AUC: 0.8856 - val_loss: 0.2804\n",
      "Epoch 12/20\n",
      "6988/6988 - 6s - 857us/step - AUC: 0.8878 - loss: 0.2811 - val_AUC: 0.8851 - val_loss: 0.2813\n",
      "Epoch 13/20\n",
      "6988/6988 - 6s - 854us/step - AUC: 0.8888 - loss: 0.2801 - val_AUC: 0.8863 - val_loss: 0.2827\n",
      "Epoch 14/20\n",
      "6988/6988 - 6s - 853us/step - AUC: 0.8892 - loss: 0.2795 - val_AUC: 0.8865 - val_loss: 0.2805\n",
      "Epoch 15/20\n",
      "6988/6988 - 6s - 853us/step - AUC: 0.8888 - loss: 0.2796 - val_AUC: 0.8866 - val_loss: 0.2797\n",
      "Epoch 16/20\n",
      "6988/6988 - 6s - 858us/step - AUC: 0.8897 - loss: 0.2792 - val_AUC: 0.8867 - val_loss: 0.2799\n",
      "Epoch 17/20\n",
      "6988/6988 - 6s - 857us/step - AUC: 0.8897 - loss: 0.2788 - val_AUC: 0.8871 - val_loss: 0.2786\n",
      "Epoch 18/20\n",
      "6988/6988 - 6s - 853us/step - AUC: 0.8903 - loss: 0.2789 - val_AUC: 0.8866 - val_loss: 0.2787\n",
      "Epoch 19/20\n",
      "6988/6988 - 6s - 856us/step - AUC: 0.8904 - loss: 0.2781 - val_AUC: 0.8864 - val_loss: 0.2791\n",
      "Epoch 20/20\n",
      "6988/6988 - 6s - 854us/step - AUC: 0.8908 - loss: 0.2777 - val_AUC: 0.8868 - val_loss: 0.2787\n"
     ]
    }
   ],
   "source": [
    "r_standard = model.fit(x=X_train_standard, y=y_train, epochs=20,verbose = 2,batch_size=32, validation_data=(X_test_standard, y_test))"
   ]
  },
  {
   "cell_type": "code",
   "execution_count": 20,
   "metadata": {},
   "outputs": [
    {
     "data": {
      "image/png": "[encoded data removed]",
      "text/plain": [
       "<Figure size 1200x800 with 2 Axes>"
      ]
     },
     "metadata": {},
     "output_type": "display_data"
    }
   ],
   "source": [
    "plot_learning_evolution(r_standard)"
   ]
  },
  {
   "cell_type": "code",
   "execution_count": 21,
   "metadata": {},
   "outputs": [
    {
     "name": "stdout",
     "output_type": "stream",
     "text": [
      "\u001b[1m3515/3515\u001b[0m \u001b[32m━━━━━━━━━━━━━━━━━━━━\u001b[0m\u001b[37m\u001b[0m \u001b[1m1s\u001b[0m 415us/step\n",
      "Test Result:\n",
      "================================================\n",
      "Accuracy Score: 88.62%\n",
      "_______________________________________________\n",
      "CLASSIFICATION REPORT:\n",
      "                      0             1  accuracy      macro avg   weighted avg\n",
      "precision      0.879984      0.947118  0.886249       0.913551       0.893223\n",
      "recall         0.993852      0.448212  0.886249       0.721032       0.886249\n",
      "f1-score       0.933458      0.608472  0.886249       0.770965       0.869369\n",
      "support    90279.000000  22177.000000  0.886249  112456.000000  112456.000000\n",
      "_______________________________________________\n",
      "Confusion Matrix: \n",
      " [[89724   555]\n",
      " [12237  9940]]\n",
      "\n",
      "Area Under the Precision-Recall Curve (AUPRC): 0.7581\n"
     ]
    }
   ],
   "source": [
    "y_test_pred_standard = model.predict(X_test_standard)\n",
    "evaluate_nn(y_test, y_test_pred_standard, train=False)"
   ]
  },
  {
   "cell_type": "code",
   "execution_count": 22,
   "metadata": {},
   "outputs": [
    {
     "data": {
      "image/png": "[encoded data removed]",
      "text/plain": [
       "<Figure size 800x600 with 2 Axes>"
      ]
     },
     "metadata": {},
     "output_type": "display_data"
    },
    {
     "data": {
      "image/png": "[encoded data removed]",
      "text/plain": [
       "<Figure size 800x600 with 1 Axes>"
      ]
     },
     "metadata": {},
     "output_type": "display_data"
    },
    {
     "name": "stdout",
     "output_type": "stream",
     "text": [
      "0.5755559817743213\n"
     ]
    }
   ],
   "source": [
    "y_pred_op = (y_test_pred_standard > 0.5).astype(int)\n",
    "\n",
    "cm = confusion_matrix(y_test, y_pred_op)\n",
    "\n",
    "fig, ax = plt.subplots(figsize=(8, 6))\n",
    "sns.heatmap(cm, annot=True, fmt='d', cmap='Blues', ax=ax)\n",
    "ax.set_xlabel('Predicted Labels')\n",
    "ax.set_ylabel('True Labels')\n",
    "ax.set_title('Confusion Matrix')\n",
    "ax.xaxis.set_ticklabels(['Fully Paid', 'Default'])\n",
    "ax.yaxis.set_ticklabels(['Fully Paid', 'Default'])\n",
    "plt.show()\n",
    "\n",
    "fpr, tpr, _ = roc_curve(y_test, y_test_pred_standard)\n",
    "roc_auc = auc(fpr, tpr)\n",
    "\n",
    "# Plot ROC curve\n",
    "plt.figure(figsize=(8, 6))\n",
    "plt.plot(fpr, tpr, color='darkorange', lw=2, label=f'ROC curve (area = {roc_auc:.2f})')\n",
    "plt.xlim([0.0, 1.0])\n",
    "plt.ylim([0.0, 1.05])\n",
    "plt.xlabel('False Positive Rate')\n",
    "plt.ylabel('True Positive Rate')\n",
    "plt.legend(loc=\"lower right\")\n",
    "plt.show()\n",
    "\n",
    "# Calculate True Positive Rate (TPR) and False Positive Rate (FPR)\n",
    "fpr, tpr, thresholds = roc_curve(y_test, y_test_pred_standard)\n",
    "\n",
    "# Calculate Kolmogorov-Smirnov measure (KS)\n",
    "ks = max(tpr - fpr)\n",
    "\n",
    "print(ks)"
   ]
  },
  {
   "cell_type": "markdown",
   "metadata": {},
   "source": [
    "#### minmax_basic"
   ]
  },
  {
   "cell_type": "code",
   "execution_count": 23,
   "metadata": {},
   "outputs": [
    {
     "name": "stdout",
     "output_type": "stream",
     "text": [
      "Epoch 1/20\n",
      "6988/6988 - 6s - 867us/step - AUC: 0.7935 - loss: 0.3720 - val_AUC: 0.8341 - val_loss: 0.3410\n",
      "Epoch 2/20\n",
      "6988/6988 - 6s - 861us/step - AUC: 0.8475 - loss: 0.3283 - val_AUC: 0.8749 - val_loss: 0.2943\n",
      "Epoch 3/20\n",
      "6988/6988 - 6s - 852us/step - AUC: 0.8719 - loss: 0.2989 - val_AUC: 0.8825 - val_loss: 0.2847\n",
      "Epoch 4/20\n",
      "6988/6988 - 6s - 858us/step - AUC: 0.8776 - loss: 0.2899 - val_AUC: 0.8842 - val_loss: 0.2817\n",
      "Epoch 5/20\n",
      "6988/6988 - 6s - 853us/step - AUC: 0.8807 - loss: 0.2854 - val_AUC: 0.8846 - val_loss: 0.2796\n",
      "Epoch 6/20\n",
      "6988/6988 - 6s - 865us/step - AUC: 0.8826 - loss: 0.2828 - val_AUC: 0.8856 - val_loss: 0.2787\n",
      "Epoch 7/20\n",
      "6988/6988 - 6s - 859us/step - AUC: 0.8844 - loss: 0.2804 - val_AUC: 0.8854 - val_loss: 0.2790\n",
      "Epoch 8/20\n",
      "6988/6988 - 6s - 850us/step - AUC: 0.8845 - loss: 0.2804 - val_AUC: 0.8854 - val_loss: 0.2795\n",
      "Epoch 9/20\n",
      "6988/6988 - 6s - 849us/step - AUC: 0.8854 - loss: 0.2793 - val_AUC: 0.8862 - val_loss: 0.2802\n",
      "Epoch 10/20\n",
      "6988/6988 - 6s - 845us/step - AUC: 0.8866 - loss: 0.2784 - val_AUC: 0.8859 - val_loss: 0.2803\n",
      "Epoch 11/20\n",
      "6988/6988 - 6s - 851us/step - AUC: 0.8861 - loss: 0.2787 - val_AUC: 0.8864 - val_loss: 0.2792\n",
      "Epoch 12/20\n",
      "6988/6988 - 6s - 848us/step - AUC: 0.8869 - loss: 0.2780 - val_AUC: 0.8865 - val_loss: 0.2805\n",
      "Epoch 13/20\n",
      "6988/6988 - 6s - 850us/step - AUC: 0.8866 - loss: 0.2780 - val_AUC: 0.8864 - val_loss: 0.2794\n",
      "Epoch 14/20\n",
      "6988/6988 - 6s - 847us/step - AUC: 0.8877 - loss: 0.2774 - val_AUC: 0.8861 - val_loss: 0.2799\n",
      "Epoch 15/20\n",
      "6988/6988 - 6s - 848us/step - AUC: 0.8876 - loss: 0.2776 - val_AUC: 0.8866 - val_loss: 0.2783\n",
      "Epoch 16/20\n",
      "6988/6988 - 6s - 855us/step - AUC: 0.8880 - loss: 0.2768 - val_AUC: 0.8867 - val_loss: 0.2795\n",
      "Epoch 17/20\n",
      "6988/6988 - 6s - 850us/step - AUC: 0.8883 - loss: 0.2766 - val_AUC: 0.8868 - val_loss: 0.2834\n",
      "Epoch 18/20\n",
      "6988/6988 - 6s - 850us/step - AUC: 0.8891 - loss: 0.2760 - val_AUC: 0.8869 - val_loss: 0.2786\n",
      "Epoch 19/20\n",
      "6988/6988 - 6s - 852us/step - AUC: 0.8889 - loss: 0.2763 - val_AUC: 0.8872 - val_loss: 0.2794\n",
      "Epoch 20/20\n",
      "6988/6988 - 6s - 848us/step - AUC: 0.8887 - loss: 0.2766 - val_AUC: 0.8848 - val_loss: 0.2810\n"
     ]
    }
   ],
   "source": [
    "r_minmax = model.fit(x=X_train_minmax, y=y_train, epochs=20,verbose = 2,batch_size=32, validation_data=(X_test_minmax, y_test))"
   ]
  },
  {
   "cell_type": "code",
   "execution_count": 24,
   "metadata": {},
   "outputs": [
    {
     "data": {
      "image/png": "[encoded data removed]",
      "text/plain": [
       "<Figure size 1200x800 with 2 Axes>"
      ]
     },
     "metadata": {},
     "output_type": "display_data"
    }
   ],
   "source": [
    "plot_learning_evolution(r_minmax)"
   ]
  },
  {
   "cell_type": "code",
   "execution_count": 25,
   "metadata": {},
   "outputs": [
    {
     "name": "stdout",
     "output_type": "stream",
     "text": [
      "\u001b[1m3515/3515\u001b[0m \u001b[32m━━━━━━━━━━━━━━━━━━━━\u001b[0m\u001b[37m\u001b[0m \u001b[1m1s\u001b[0m 416us/step\n",
      "Test Result:\n",
      "================================================\n",
      "Accuracy Score: 88.74%\n",
      "_______________________________________________\n",
      "CLASSIFICATION REPORT:\n",
      "                      0             1  accuracy      macro avg   weighted avg\n",
      "precision      0.878372      0.980398  0.887351       0.929385       0.898493\n",
      "recall         0.997851      0.437525  0.887351       0.717688       0.887351\n",
      "f1-score       0.934308      0.605038  0.887351       0.769673       0.869374\n",
      "support    90279.000000  22177.000000  0.887351  112456.000000  112456.000000\n",
      "_______________________________________________\n",
      "Confusion Matrix: \n",
      " [[90085   194]\n",
      " [12474  9703]]\n",
      "\n",
      "Area Under the Precision-Recall Curve (AUPRC): 0.7581\n"
     ]
    }
   ],
   "source": [
    "y_test_pred_minmax = model.predict(X_test_minmax)\n",
    "evaluate_nn(y_test, y_test_pred_minmax, train=False)"
   ]
  },
  {
   "cell_type": "code",
   "execution_count": 115,
   "metadata": {},
   "outputs": [
    {
     "data": {
      "image/png": "[encoded data removed]",
      "text/plain": [
       "<Figure size 800x600 with 2 Axes>"
      ]
     },
     "metadata": {},
     "output_type": "display_data"
    },
    {
     "data": {
      "image/png": "[encoded data removed]",
      "text/plain": [
       "<Figure size 800x600 with 1 Axes>"
      ]
     },
     "metadata": {},
     "output_type": "display_data"
    },
    {
     "name": "stdout",
     "output_type": "stream",
     "text": [
      "0.574405094209204\n"
     ]
    }
   ],
   "source": [
    "y_pred_op = (y_test_pred_minmax > 0.5).astype(int)\n",
    "\n",
    "cm = confusion_matrix(y_test, y_pred_op)\n",
    "\n",
    "fig, ax = plt.subplots(figsize=(8, 6))\n",
    "sns.heatmap(cm, annot=True, fmt='d', cmap='Blues', ax=ax)\n",
    "ax.set_xlabel('Predicted Labels')\n",
    "ax.set_ylabel('True Labels')\n",
    "ax.set_title('Confusion Matrix')\n",
    "ax.xaxis.set_ticklabels(['Fully Paid', 'Default'])\n",
    "ax.yaxis.set_ticklabels(['Fully Paid', 'Default'])\n",
    "plt.show()\n",
    "\n",
    "fpr, tpr, _ = roc_curve(y_test, y_test_pred_minmax)\n",
    "roc_auc = auc(fpr, tpr)\n",
    "\n",
    "# Plot ROC curve\n",
    "plt.figure(figsize=(8, 6))\n",
    "plt.plot(fpr, tpr, color='darkorange', lw=2, label=f'ROC curve (area = {roc_auc:.2f})')\n",
    "plt.xlim([0.0, 1.0])\n",
    "plt.ylim([0.0, 1.05])\n",
    "plt.xlabel('False Positive Rate')\n",
    "plt.ylabel('True Positive Rate')\n",
    "plt.legend(loc=\"lower right\")\n",
    "plt.show()\n",
    "\n",
    "# Calculate True Positive Rate (TPR) and False Positive Rate (FPR)\n",
    "fpr, tpr, thresholds = roc_curve(y_test, y_test_pred_minmax)\n",
    "\n",
    "# Calculate Kolmogorov-Smirnov measure (KS)\n",
    "ks = max(tpr - fpr)\n",
    "\n",
    "print(ks)"
   ]
  },
  {
   "cell_type": "markdown",
   "metadata": {},
   "source": [
    "### overall PRC curves"
   ]
  },
  {
   "cell_type": "code",
   "execution_count": 27,
   "metadata": {},
   "outputs": [
    {
     "data": {
      "image/png": "[encoded data removed]",
      "text/plain": [
       "<Figure size 800x600 with 1 Axes>"
      ]
     },
     "metadata": {},
     "output_type": "display_data"
    }
   ],
   "source": [
    "from sklearn.metrics import precision_recall_curve\n",
    "import matplotlib.pyplot as plt\n",
    "\n",
    "plt.figure(figsize=(8, 6))\n",
    "\n",
    "for y_pred, y_true, label in zip([y_test_pred_robust, y_test_pred_standard, y_test_pred_minmax],[y_test, y_test, y_test], ['Robust', 'Standard', 'MinMax']):\n",
    "    # Compute precision-recall curve\n",
    "    precision, recall, _ = precision_recall_curve(y_true, y_pred)\n",
    "    \n",
    "    # Plot precision-recall curve\n",
    "    plt.plot(recall, precision, label=label)\n",
    "\n",
    "plt.xlabel('Recall')\n",
    "plt.ylabel('Precision')\n",
    "plt.title('Basic model Precision-Recall Curve')\n",
    "plt.legend()\n",
    "plt.grid(True)\n",
    "plt.show()"
   ]
  },
  {
   "cell_type": "markdown",
   "metadata": {},
   "source": [
    "# Optimise by looping"
   ]
  },
  {
   "cell_type": "code",
   "execution_count": 108,
   "metadata": {},
   "outputs": [],
   "source": [
    "def create_model_loop(n_units, dropout_rate, learning_rate):\n",
    "    model = Sequential()\n",
    "    model.add(Dense(n_units, activation='relu', input_shape=(X_train.shape[1],)))\n",
    "    model.add(Dropout(dropout_rate))\n",
    "    model.add(Dense(n_units // 2, activation='relu'))\n",
    "    model.add(Dropout(dropout_rate))\n",
    "    model.add(Dense(1, activation='sigmoid'))\n",
    "    model.compile(optimizer=Adam(learning_rate),\n",
    "                  loss='binary_crossentropy',\n",
    "                  metrics=[AUC(name='AUC')])  # Modify metrics as per your requirement\n",
    "    return model"
   ]
  },
  {
   "cell_type": "code",
   "execution_count": 128,
   "metadata": {},
   "outputs": [],
   "source": [
    "def evaluate_nn_op(true, pred_probs, train=True):\n",
    "    # Predict class labels based on the probability threshold\n",
    "    pred_class = (pred_probs > 0.5).astype(int)\n",
    "\n",
    "    # Compute the Area Under the Precision-Recall Curve (AUPRC)\n",
    "    auprc_base = average_precision_score(true, pred_probs)\n",
    "\n",
    "    # Calculate accuracy and other classification metrics\n",
    "    acc = accuracy_score(true, pred_class) * 100\n",
    "    clf_report = classification_report(true, pred_class, output_dict=True)\n",
    "    cm = confusion_matrix(true, pred_class)\n",
    "\n",
    "    # Prepare results with detailed metrics for both classes\n",
    "    results = {\n",
    "        \"Phase\": \"Train\" if train else \"Test\",\n",
    "        \"Overall Accuracy\": acc,\n",
    "        \"Class 0 Precision\": clf_report['0']['precision'],\n",
    "        \"Class 0 Recall\": clf_report['0']['recall'],\n",
    "        \"Class 0 F1-Score\": clf_report['0']['f1-score'],\n",
    "        \"Class 1 Precision\": clf_report['1']['precision'],\n",
    "        \"Class 1 Recall\": clf_report['1']['recall'],\n",
    "        \"Class 1 F1-Score\": clf_report['1']['f1-score'],\n",
    "        \"Confusion Matrix\": cm.tolist(),  # Convert numpy array to list\n",
    "        \"AUPRC\": auprc_base\n",
    "    }\n",
    "\n",
    "    return results"
   ]
  },
  {
   "cell_type": "code",
   "execution_count": 129,
   "metadata": {},
   "outputs": [],
   "source": [
    "param_grid = {\n",
    "    'classifier__n_units': [32, 64, 128, 256],\n",
    "    'classifier__dropout_rate': [0.1, 0.2, 0.5],\n",
    "    'classifier__learning_rate': [0.01, 0.001, 0.0001]\n",
    "}"
   ]
  },
  {
   "cell_type": "code",
   "execution_count": 130,
   "metadata": {},
   "outputs": [
    {
     "name": "stderr",
     "output_type": "stream",
     "text": [
      "c:\\Users\\JYXha\\AppData\\Local\\Programs\\Python\\Python310\\lib\\site-packages\\keras\\src\\layers\\core\\dense.py:86: UserWarning: Do not pass an `input_shape`/`input_dim` argument to a layer. When using Sequential models, prefer using an `Input(shape)` object as the first layer in the model instead.\n",
      "  super().__init__(activity_regularizer=activity_regularizer, **kwargs)\n"
     ]
    },
    {
     "name": "stdout",
     "output_type": "stream",
     "text": [
      "\u001b[1m3515/3515\u001b[0m \u001b[32m━━━━━━━━━━━━━━━━━━━━\u001b[0m\u001b[37m\u001b[0m \u001b[1m1s\u001b[0m 393us/step\n"
     ]
    },
    {
     "name": "stderr",
     "output_type": "stream",
     "text": [
      "c:\\Users\\JYXha\\AppData\\Local\\Programs\\Python\\Python310\\lib\\site-packages\\keras\\src\\layers\\core\\dense.py:86: UserWarning: Do not pass an `input_shape`/`input_dim` argument to a layer. When using Sequential models, prefer using an `Input(shape)` object as the first layer in the model instead.\n",
      "  super().__init__(activity_regularizer=activity_regularizer, **kwargs)\n"
     ]
    },
    {
     "name": "stdout",
     "output_type": "stream",
     "text": [
      "\u001b[1m3515/3515\u001b[0m \u001b[32m━━━━━━━━━━━━━━━━━━━━\u001b[0m\u001b[37m\u001b[0m \u001b[1m1s\u001b[0m 393us/step\n"
     ]
    },
    {
     "name": "stderr",
     "output_type": "stream",
     "text": [
      "c:\\Users\\JYXha\\AppData\\Local\\Programs\\Python\\Python310\\lib\\site-packages\\keras\\src\\layers\\core\\dense.py:86: UserWarning: Do not pass an `input_shape`/`input_dim` argument to a layer. When using Sequential models, prefer using an `Input(shape)` object as the first layer in the model instead.\n",
      "  super().__init__(activity_regularizer=activity_regularizer, **kwargs)\n"
     ]
    },
    {
     "name": "stdout",
     "output_type": "stream",
     "text": [
      "\u001b[1m3515/3515\u001b[0m \u001b[32m━━━━━━━━━━━━━━━━━━━━\u001b[0m\u001b[37m\u001b[0m \u001b[1m1s\u001b[0m 391us/step\n"
     ]
    },
    {
     "name": "stderr",
     "output_type": "stream",
     "text": [
      "c:\\Users\\JYXha\\AppData\\Local\\Programs\\Python\\Python310\\lib\\site-packages\\keras\\src\\layers\\core\\dense.py:86: UserWarning: Do not pass an `input_shape`/`input_dim` argument to a layer. When using Sequential models, prefer using an `Input(shape)` object as the first layer in the model instead.\n",
      "  super().__init__(activity_regularizer=activity_regularizer, **kwargs)\n"
     ]
    },
    {
     "name": "stdout",
     "output_type": "stream",
     "text": [
      "\u001b[1m3515/3515\u001b[0m \u001b[32m━━━━━━━━━━━━━━━━━━━━\u001b[0m\u001b[37m\u001b[0m \u001b[1m1s\u001b[0m 398us/step\n"
     ]
    },
    {
     "name": "stderr",
     "output_type": "stream",
     "text": [
      "c:\\Users\\JYXha\\AppData\\Local\\Programs\\Python\\Python310\\lib\\site-packages\\keras\\src\\layers\\core\\dense.py:86: UserWarning: Do not pass an `input_shape`/`input_dim` argument to a layer. When using Sequential models, prefer using an `Input(shape)` object as the first layer in the model instead.\n",
      "  super().__init__(activity_regularizer=activity_regularizer, **kwargs)\n"
     ]
    },
    {
     "name": "stdout",
     "output_type": "stream",
     "text": [
      "\u001b[1m3515/3515\u001b[0m \u001b[32m━━━━━━━━━━━━━━━━━━━━\u001b[0m\u001b[37m\u001b[0m \u001b[1m1s\u001b[0m 392us/step\n"
     ]
    },
    {
     "name": "stderr",
     "output_type": "stream",
     "text": [
      "c:\\Users\\JYXha\\AppData\\Local\\Programs\\Python\\Python310\\lib\\site-packages\\keras\\src\\layers\\core\\dense.py:86: UserWarning: Do not pass an `input_shape`/`input_dim` argument to a layer. When using Sequential models, prefer using an `Input(shape)` object as the first layer in the model instead.\n",
      "  super().__init__(activity_regularizer=activity_regularizer, **kwargs)\n"
     ]
    },
    {
     "name": "stdout",
     "output_type": "stream",
     "text": [
      "\u001b[1m3515/3515\u001b[0m \u001b[32m━━━━━━━━━━━━━━━━━━━━\u001b[0m\u001b[37m\u001b[0m \u001b[1m1s\u001b[0m 393us/step\n"
     ]
    },
    {
     "name": "stderr",
     "output_type": "stream",
     "text": [
      "c:\\Users\\JYXha\\AppData\\Local\\Programs\\Python\\Python310\\lib\\site-packages\\keras\\src\\layers\\core\\dense.py:86: UserWarning: Do not pass an `input_shape`/`input_dim` argument to a layer. When using Sequential models, prefer using an `Input(shape)` object as the first layer in the model instead.\n",
      "  super().__init__(activity_regularizer=activity_regularizer, **kwargs)\n"
     ]
    },
    {
     "name": "stdout",
     "output_type": "stream",
     "text": [
      "\u001b[1m3515/3515\u001b[0m \u001b[32m━━━━━━━━━━━━━━━━━━━━\u001b[0m\u001b[37m\u001b[0m \u001b[1m1s\u001b[0m 397us/step\n"
     ]
    },
    {
     "name": "stderr",
     "output_type": "stream",
     "text": [
      "c:\\Users\\JYXha\\AppData\\Local\\Programs\\Python\\Python310\\lib\\site-packages\\keras\\src\\layers\\core\\dense.py:86: UserWarning: Do not pass an `input_shape`/`input_dim` argument to a layer. When using Sequential models, prefer using an `Input(shape)` object as the first layer in the model instead.\n",
      "  super().__init__(activity_regularizer=activity_regularizer, **kwargs)\n"
     ]
    },
    {
     "name": "stdout",
     "output_type": "stream",
     "text": [
      "\u001b[1m3515/3515\u001b[0m \u001b[32m━━━━━━━━━━━━━━━━━━━━\u001b[0m\u001b[37m\u001b[0m \u001b[1m1s\u001b[0m 407us/step\n"
     ]
    },
    {
     "name": "stderr",
     "output_type": "stream",
     "text": [
      "c:\\Users\\JYXha\\AppData\\Local\\Programs\\Python\\Python310\\lib\\site-packages\\keras\\src\\layers\\core\\dense.py:86: UserWarning: Do not pass an `input_shape`/`input_dim` argument to a layer. When using Sequential models, prefer using an `Input(shape)` object as the first layer in the model instead.\n",
      "  super().__init__(activity_regularizer=activity_regularizer, **kwargs)\n"
     ]
    },
    {
     "name": "stdout",
     "output_type": "stream",
     "text": [
      "\u001b[1m3515/3515\u001b[0m \u001b[32m━━━━━━━━━━━━━━━━━━━━\u001b[0m\u001b[37m\u001b[0m \u001b[1m1s\u001b[0m 406us/step\n"
     ]
    },
    {
     "name": "stderr",
     "output_type": "stream",
     "text": [
      "c:\\Users\\JYXha\\AppData\\Local\\Programs\\Python\\Python310\\lib\\site-packages\\keras\\src\\layers\\core\\dense.py:86: UserWarning: Do not pass an `input_shape`/`input_dim` argument to a layer. When using Sequential models, prefer using an `Input(shape)` object as the first layer in the model instead.\n",
      "  super().__init__(activity_regularizer=activity_regularizer, **kwargs)\n"
     ]
    },
    {
     "name": "stdout",
     "output_type": "stream",
     "text": [
      "\u001b[1m3515/3515\u001b[0m \u001b[32m━━━━━━━━━━━━━━━━━━━━\u001b[0m\u001b[37m\u001b[0m \u001b[1m2s\u001b[0m 426us/step\n"
     ]
    },
    {
     "name": "stderr",
     "output_type": "stream",
     "text": [
      "c:\\Users\\JYXha\\AppData\\Local\\Programs\\Python\\Python310\\lib\\site-packages\\keras\\src\\layers\\core\\dense.py:86: UserWarning: Do not pass an `input_shape`/`input_dim` argument to a layer. When using Sequential models, prefer using an `Input(shape)` object as the first layer in the model instead.\n",
      "  super().__init__(activity_regularizer=activity_regularizer, **kwargs)\n"
     ]
    },
    {
     "name": "stdout",
     "output_type": "stream",
     "text": [
      "\u001b[1m3515/3515\u001b[0m \u001b[32m━━━━━━━━━━━━━━━━━━━━\u001b[0m\u001b[37m\u001b[0m \u001b[1m2s\u001b[0m 419us/step\n"
     ]
    },
    {
     "name": "stderr",
     "output_type": "stream",
     "text": [
      "c:\\Users\\JYXha\\AppData\\Local\\Programs\\Python\\Python310\\lib\\site-packages\\keras\\src\\layers\\core\\dense.py:86: UserWarning: Do not pass an `input_shape`/`input_dim` argument to a layer. When using Sequential models, prefer using an `Input(shape)` object as the first layer in the model instead.\n",
      "  super().__init__(activity_regularizer=activity_regularizer, **kwargs)\n"
     ]
    },
    {
     "name": "stdout",
     "output_type": "stream",
     "text": [
      "\u001b[1m3515/3515\u001b[0m \u001b[32m━━━━━━━━━━━━━━━━━━━━\u001b[0m\u001b[37m\u001b[0m \u001b[1m1s\u001b[0m 408us/step\n"
     ]
    },
    {
     "name": "stderr",
     "output_type": "stream",
     "text": [
      "c:\\Users\\JYXha\\AppData\\Local\\Programs\\Python\\Python310\\lib\\site-packages\\keras\\src\\layers\\core\\dense.py:86: UserWarning: Do not pass an `input_shape`/`input_dim` argument to a layer. When using Sequential models, prefer using an `Input(shape)` object as the first layer in the model instead.\n",
      "  super().__init__(activity_regularizer=activity_regularizer, **kwargs)\n"
     ]
    },
    {
     "name": "stdout",
     "output_type": "stream",
     "text": [
      "\u001b[1m3515/3515\u001b[0m \u001b[32m━━━━━━━━━━━━━━━━━━━━\u001b[0m\u001b[37m\u001b[0m \u001b[1m1s\u001b[0m 407us/step\n"
     ]
    },
    {
     "name": "stderr",
     "output_type": "stream",
     "text": [
      "c:\\Users\\JYXha\\AppData\\Local\\Programs\\Python\\Python310\\lib\\site-packages\\keras\\src\\layers\\core\\dense.py:86: UserWarning: Do not pass an `input_shape`/`input_dim` argument to a layer. When using Sequential models, prefer using an `Input(shape)` object as the first layer in the model instead.\n",
      "  super().__init__(activity_regularizer=activity_regularizer, **kwargs)\n"
     ]
    },
    {
     "name": "stdout",
     "output_type": "stream",
     "text": [
      "\u001b[1m3515/3515\u001b[0m \u001b[32m━━━━━━━━━━━━━━━━━━━━\u001b[0m\u001b[37m\u001b[0m \u001b[1m1s\u001b[0m 415us/step\n"
     ]
    },
    {
     "name": "stderr",
     "output_type": "stream",
     "text": [
      "c:\\Users\\JYXha\\AppData\\Local\\Programs\\Python\\Python310\\lib\\site-packages\\keras\\src\\layers\\core\\dense.py:86: UserWarning: Do not pass an `input_shape`/`input_dim` argument to a layer. When using Sequential models, prefer using an `Input(shape)` object as the first layer in the model instead.\n",
      "  super().__init__(activity_regularizer=activity_regularizer, **kwargs)\n"
     ]
    },
    {
     "name": "stdout",
     "output_type": "stream",
     "text": [
      "\u001b[1m3515/3515\u001b[0m \u001b[32m━━━━━━━━━━━━━━━━━━━━\u001b[0m\u001b[37m\u001b[0m \u001b[1m2s\u001b[0m 436us/step\n"
     ]
    },
    {
     "name": "stderr",
     "output_type": "stream",
     "text": [
      "c:\\Users\\JYXha\\AppData\\Local\\Programs\\Python\\Python310\\lib\\site-packages\\keras\\src\\layers\\core\\dense.py:86: UserWarning: Do not pass an `input_shape`/`input_dim` argument to a layer. When using Sequential models, prefer using an `Input(shape)` object as the first layer in the model instead.\n",
      "  super().__init__(activity_regularizer=activity_regularizer, **kwargs)\n"
     ]
    },
    {
     "name": "stdout",
     "output_type": "stream",
     "text": [
      "\u001b[1m3515/3515\u001b[0m \u001b[32m━━━━━━━━━━━━━━━━━━━━\u001b[0m\u001b[37m\u001b[0m \u001b[1m1s\u001b[0m 399us/step\n"
     ]
    },
    {
     "name": "stderr",
     "output_type": "stream",
     "text": [
      "c:\\Users\\JYXha\\AppData\\Local\\Programs\\Python\\Python310\\lib\\site-packages\\keras\\src\\layers\\core\\dense.py:86: UserWarning: Do not pass an `input_shape`/`input_dim` argument to a layer. When using Sequential models, prefer using an `Input(shape)` object as the first layer in the model instead.\n",
      "  super().__init__(activity_regularizer=activity_regularizer, **kwargs)\n"
     ]
    },
    {
     "name": "stdout",
     "output_type": "stream",
     "text": [
      "\u001b[1m3515/3515\u001b[0m \u001b[32m━━━━━━━━━━━━━━━━━━━━\u001b[0m\u001b[37m\u001b[0m \u001b[1m1s\u001b[0m 415us/step\n"
     ]
    },
    {
     "name": "stderr",
     "output_type": "stream",
     "text": [
      "c:\\Users\\JYXha\\AppData\\Local\\Programs\\Python\\Python310\\lib\\site-packages\\keras\\src\\layers\\core\\dense.py:86: UserWarning: Do not pass an `input_shape`/`input_dim` argument to a layer. When using Sequential models, prefer using an `Input(shape)` object as the first layer in the model instead.\n",
      "  super().__init__(activity_regularizer=activity_regularizer, **kwargs)\n"
     ]
    },
    {
     "name": "stdout",
     "output_type": "stream",
     "text": [
      "\u001b[1m3515/3515\u001b[0m \u001b[32m━━━━━━━━━━━━━━━━━━━━\u001b[0m\u001b[37m\u001b[0m \u001b[1m1s\u001b[0m 414us/step\n"
     ]
    },
    {
     "name": "stderr",
     "output_type": "stream",
     "text": [
      "c:\\Users\\JYXha\\AppData\\Local\\Programs\\Python\\Python310\\lib\\site-packages\\keras\\src\\layers\\core\\dense.py:86: UserWarning: Do not pass an `input_shape`/`input_dim` argument to a layer. When using Sequential models, prefer using an `Input(shape)` object as the first layer in the model instead.\n",
      "  super().__init__(activity_regularizer=activity_regularizer, **kwargs)\n"
     ]
    },
    {
     "name": "stdout",
     "output_type": "stream",
     "text": [
      "\u001b[1m3515/3515\u001b[0m \u001b[32m━━━━━━━━━━━━━━━━━━━━\u001b[0m\u001b[37m\u001b[0m \u001b[1m1s\u001b[0m 416us/step\n"
     ]
    },
    {
     "name": "stderr",
     "output_type": "stream",
     "text": [
      "c:\\Users\\JYXha\\AppData\\Local\\Programs\\Python\\Python310\\lib\\site-packages\\keras\\src\\layers\\core\\dense.py:86: UserWarning: Do not pass an `input_shape`/`input_dim` argument to a layer. When using Sequential models, prefer using an `Input(shape)` object as the first layer in the model instead.\n",
      "  super().__init__(activity_regularizer=activity_regularizer, **kwargs)\n"
     ]
    },
    {
     "name": "stdout",
     "output_type": "stream",
     "text": [
      "\u001b[1m3515/3515\u001b[0m \u001b[32m━━━━━━━━━━━━━━━━━━━━\u001b[0m\u001b[37m\u001b[0m \u001b[1m2s\u001b[0m 433us/step\n"
     ]
    },
    {
     "name": "stderr",
     "output_type": "stream",
     "text": [
      "c:\\Users\\JYXha\\AppData\\Local\\Programs\\Python\\Python310\\lib\\site-packages\\keras\\src\\layers\\core\\dense.py:86: UserWarning: Do not pass an `input_shape`/`input_dim` argument to a layer. When using Sequential models, prefer using an `Input(shape)` object as the first layer in the model instead.\n",
      "  super().__init__(activity_regularizer=activity_regularizer, **kwargs)\n"
     ]
    },
    {
     "name": "stdout",
     "output_type": "stream",
     "text": [
      "\u001b[1m3515/3515\u001b[0m \u001b[32m━━━━━━━━━━━━━━━━━━━━\u001b[0m\u001b[37m\u001b[0m \u001b[1m2s\u001b[0m 422us/step\n"
     ]
    },
    {
     "name": "stderr",
     "output_type": "stream",
     "text": [
      "c:\\Users\\JYXha\\AppData\\Local\\Programs\\Python\\Python310\\lib\\site-packages\\keras\\src\\layers\\core\\dense.py:86: UserWarning: Do not pass an `input_shape`/`input_dim` argument to a layer. When using Sequential models, prefer using an `Input(shape)` object as the first layer in the model instead.\n",
      "  super().__init__(activity_regularizer=activity_regularizer, **kwargs)\n"
     ]
    },
    {
     "name": "stdout",
     "output_type": "stream",
     "text": [
      "\u001b[1m3515/3515\u001b[0m \u001b[32m━━━━━━━━━━━━━━━━━━━━\u001b[0m\u001b[37m\u001b[0m \u001b[1m2s\u001b[0m 419us/step\n"
     ]
    },
    {
     "name": "stderr",
     "output_type": "stream",
     "text": [
      "c:\\Users\\JYXha\\AppData\\Local\\Programs\\Python\\Python310\\lib\\site-packages\\keras\\src\\layers\\core\\dense.py:86: UserWarning: Do not pass an `input_shape`/`input_dim` argument to a layer. When using Sequential models, prefer using an `Input(shape)` object as the first layer in the model instead.\n",
      "  super().__init__(activity_regularizer=activity_regularizer, **kwargs)\n"
     ]
    },
    {
     "name": "stdout",
     "output_type": "stream",
     "text": [
      "\u001b[1m3515/3515\u001b[0m \u001b[32m━━━━━━━━━━━━━━━━━━━━\u001b[0m\u001b[37m\u001b[0m \u001b[1m1s\u001b[0m 411us/step\n"
     ]
    },
    {
     "name": "stderr",
     "output_type": "stream",
     "text": [
      "c:\\Users\\JYXha\\AppData\\Local\\Programs\\Python\\Python310\\lib\\site-packages\\keras\\src\\layers\\core\\dense.py:86: UserWarning: Do not pass an `input_shape`/`input_dim` argument to a layer. When using Sequential models, prefer using an `Input(shape)` object as the first layer in the model instead.\n",
      "  super().__init__(activity_regularizer=activity_regularizer, **kwargs)\n"
     ]
    },
    {
     "name": "stdout",
     "output_type": "stream",
     "text": [
      "\u001b[1m3515/3515\u001b[0m \u001b[32m━━━━━━━━━━━━━━━━━━━━\u001b[0m\u001b[37m\u001b[0m \u001b[1m2s\u001b[0m 429us/step\n"
     ]
    },
    {
     "name": "stderr",
     "output_type": "stream",
     "text": [
      "c:\\Users\\JYXha\\AppData\\Local\\Programs\\Python\\Python310\\lib\\site-packages\\keras\\src\\layers\\core\\dense.py:86: UserWarning: Do not pass an `input_shape`/`input_dim` argument to a layer. When using Sequential models, prefer using an `Input(shape)` object as the first layer in the model instead.\n",
      "  super().__init__(activity_regularizer=activity_regularizer, **kwargs)\n"
     ]
    },
    {
     "name": "stdout",
     "output_type": "stream",
     "text": [
      "\u001b[1m3515/3515\u001b[0m \u001b[32m━━━━━━━━━━━━━━━━━━━━\u001b[0m\u001b[37m\u001b[0m \u001b[1m2s\u001b[0m 419us/step\n"
     ]
    },
    {
     "name": "stderr",
     "output_type": "stream",
     "text": [
      "c:\\Users\\JYXha\\AppData\\Local\\Programs\\Python\\Python310\\lib\\site-packages\\keras\\src\\layers\\core\\dense.py:86: UserWarning: Do not pass an `input_shape`/`input_dim` argument to a layer. When using Sequential models, prefer using an `Input(shape)` object as the first layer in the model instead.\n",
      "  super().__init__(activity_regularizer=activity_regularizer, **kwargs)\n"
     ]
    },
    {
     "name": "stdout",
     "output_type": "stream",
     "text": [
      "\u001b[1m3515/3515\u001b[0m \u001b[32m━━━━━━━━━━━━━━━━━━━━\u001b[0m\u001b[37m\u001b[0m \u001b[1m1s\u001b[0m 415us/step\n"
     ]
    },
    {
     "name": "stderr",
     "output_type": "stream",
     "text": [
      "c:\\Users\\JYXha\\AppData\\Local\\Programs\\Python\\Python310\\lib\\site-packages\\keras\\src\\layers\\core\\dense.py:86: UserWarning: Do not pass an `input_shape`/`input_dim` argument to a layer. When using Sequential models, prefer using an `Input(shape)` object as the first layer in the model instead.\n",
      "  super().__init__(activity_regularizer=activity_regularizer, **kwargs)\n"
     ]
    },
    {
     "name": "stdout",
     "output_type": "stream",
     "text": [
      "\u001b[1m3515/3515\u001b[0m \u001b[32m━━━━━━━━━━━━━━━━━━━━\u001b[0m\u001b[37m\u001b[0m \u001b[1m2s\u001b[0m 424us/step\n"
     ]
    },
    {
     "name": "stderr",
     "output_type": "stream",
     "text": [
      "c:\\Users\\JYXha\\AppData\\Local\\Programs\\Python\\Python310\\lib\\site-packages\\keras\\src\\layers\\core\\dense.py:86: UserWarning: Do not pass an `input_shape`/`input_dim` argument to a layer. When using Sequential models, prefer using an `Input(shape)` object as the first layer in the model instead.\n",
      "  super().__init__(activity_regularizer=activity_regularizer, **kwargs)\n"
     ]
    },
    {
     "name": "stdout",
     "output_type": "stream",
     "text": [
      "\u001b[1m3515/3515\u001b[0m \u001b[32m━━━━━━━━━━━━━━━━━━━━\u001b[0m\u001b[37m\u001b[0m \u001b[1m2s\u001b[0m 439us/step\n"
     ]
    },
    {
     "name": "stderr",
     "output_type": "stream",
     "text": [
      "c:\\Users\\JYXha\\AppData\\Local\\Programs\\Python\\Python310\\lib\\site-packages\\keras\\src\\layers\\core\\dense.py:86: UserWarning: Do not pass an `input_shape`/`input_dim` argument to a layer. When using Sequential models, prefer using an `Input(shape)` object as the first layer in the model instead.\n",
      "  super().__init__(activity_regularizer=activity_regularizer, **kwargs)\n"
     ]
    },
    {
     "name": "stdout",
     "output_type": "stream",
     "text": [
      "\u001b[1m3515/3515\u001b[0m \u001b[32m━━━━━━━━━━━━━━━━━━━━\u001b[0m\u001b[37m\u001b[0m \u001b[1m2s\u001b[0m 433us/step\n"
     ]
    },
    {
     "name": "stderr",
     "output_type": "stream",
     "text": [
      "c:\\Users\\JYXha\\AppData\\Local\\Programs\\Python\\Python310\\lib\\site-packages\\keras\\src\\layers\\core\\dense.py:86: UserWarning: Do not pass an `input_shape`/`input_dim` argument to a layer. When using Sequential models, prefer using an `Input(shape)` object as the first layer in the model instead.\n",
      "  super().__init__(activity_regularizer=activity_regularizer, **kwargs)\n"
     ]
    },
    {
     "name": "stdout",
     "output_type": "stream",
     "text": [
      "\u001b[1m3515/3515\u001b[0m \u001b[32m━━━━━━━━━━━━━━━━━━━━\u001b[0m\u001b[37m\u001b[0m \u001b[1m2s\u001b[0m 443us/step\n"
     ]
    },
    {
     "name": "stderr",
     "output_type": "stream",
     "text": [
      "c:\\Users\\JYXha\\AppData\\Local\\Programs\\Python\\Python310\\lib\\site-packages\\keras\\src\\layers\\core\\dense.py:86: UserWarning: Do not pass an `input_shape`/`input_dim` argument to a layer. When using Sequential models, prefer using an `Input(shape)` object as the first layer in the model instead.\n",
      "  super().__init__(activity_regularizer=activity_regularizer, **kwargs)\n"
     ]
    },
    {
     "name": "stdout",
     "output_type": "stream",
     "text": [
      "\u001b[1m3515/3515\u001b[0m \u001b[32m━━━━━━━━━━━━━━━━━━━━\u001b[0m\u001b[37m\u001b[0m \u001b[1m2s\u001b[0m 449us/step\n"
     ]
    },
    {
     "name": "stderr",
     "output_type": "stream",
     "text": [
      "c:\\Users\\JYXha\\AppData\\Local\\Programs\\Python\\Python310\\lib\\site-packages\\keras\\src\\layers\\core\\dense.py:86: UserWarning: Do not pass an `input_shape`/`input_dim` argument to a layer. When using Sequential models, prefer using an `Input(shape)` object as the first layer in the model instead.\n",
      "  super().__init__(activity_regularizer=activity_regularizer, **kwargs)\n"
     ]
    },
    {
     "name": "stdout",
     "output_type": "stream",
     "text": [
      "\u001b[1m3515/3515\u001b[0m \u001b[32m━━━━━━━━━━━━━━━━━━━━\u001b[0m\u001b[37m\u001b[0m \u001b[1m2s\u001b[0m 434us/step\n"
     ]
    },
    {
     "name": "stderr",
     "output_type": "stream",
     "text": [
      "c:\\Users\\JYXha\\AppData\\Local\\Programs\\Python\\Python310\\lib\\site-packages\\keras\\src\\layers\\core\\dense.py:86: UserWarning: Do not pass an `input_shape`/`input_dim` argument to a layer. When using Sequential models, prefer using an `Input(shape)` object as the first layer in the model instead.\n",
      "  super().__init__(activity_regularizer=activity_regularizer, **kwargs)\n"
     ]
    },
    {
     "name": "stdout",
     "output_type": "stream",
     "text": [
      "\u001b[1m3515/3515\u001b[0m \u001b[32m━━━━━━━━━━━━━━━━━━━━\u001b[0m\u001b[37m\u001b[0m \u001b[1m2s\u001b[0m 444us/step\n"
     ]
    },
    {
     "name": "stderr",
     "output_type": "stream",
     "text": [
      "c:\\Users\\JYXha\\AppData\\Local\\Programs\\Python\\Python310\\lib\\site-packages\\keras\\src\\layers\\core\\dense.py:86: UserWarning: Do not pass an `input_shape`/`input_dim` argument to a layer. When using Sequential models, prefer using an `Input(shape)` object as the first layer in the model instead.\n",
      "  super().__init__(activity_regularizer=activity_regularizer, **kwargs)\n"
     ]
    },
    {
     "name": "stdout",
     "output_type": "stream",
     "text": [
      "\u001b[1m3515/3515\u001b[0m \u001b[32m━━━━━━━━━━━━━━━━━━━━\u001b[0m\u001b[37m\u001b[0m \u001b[1m2s\u001b[0m 434us/step\n"
     ]
    },
    {
     "name": "stderr",
     "output_type": "stream",
     "text": [
      "c:\\Users\\JYXha\\AppData\\Local\\Programs\\Python\\Python310\\lib\\site-packages\\keras\\src\\layers\\core\\dense.py:86: UserWarning: Do not pass an `input_shape`/`input_dim` argument to a layer. When using Sequential models, prefer using an `Input(shape)` object as the first layer in the model instead.\n",
      "  super().__init__(activity_regularizer=activity_regularizer, **kwargs)\n"
     ]
    },
    {
     "name": "stdout",
     "output_type": "stream",
     "text": [
      "\u001b[1m3515/3515\u001b[0m \u001b[32m━━━━━━━━━━━━━━━━━━━━\u001b[0m\u001b[37m\u001b[0m \u001b[1m2s\u001b[0m 447us/step\n"
     ]
    },
    {
     "name": "stderr",
     "output_type": "stream",
     "text": [
      "c:\\Users\\JYXha\\AppData\\Local\\Programs\\Python\\Python310\\lib\\site-packages\\keras\\src\\layers\\core\\dense.py:86: UserWarning: Do not pass an `input_shape`/`input_dim` argument to a layer. When using Sequential models, prefer using an `Input(shape)` object as the first layer in the model instead.\n",
      "  super().__init__(activity_regularizer=activity_regularizer, **kwargs)\n"
     ]
    },
    {
     "name": "stdout",
     "output_type": "stream",
     "text": [
      "\u001b[1m3515/3515\u001b[0m \u001b[32m━━━━━━━━━━━━━━━━━━━━\u001b[0m\u001b[37m\u001b[0m \u001b[1m2s\u001b[0m 434us/step\n"
     ]
    }
   ],
   "source": [
    "param_combinations = list(product(param_grid['classifier__n_units'], \n",
    "                                  param_grid['classifier__dropout_rate'], \n",
    "                                  param_grid['classifier__learning_rate']))\n",
    "\n",
    "results_list = []\n",
    "\n",
    "# Assuming param_combinations is a list of tuples, each with (n_units, dropout_rate, learning_rate)\n",
    "for n_units, dropout_rate, learning_rate in param_combinations:\n",
    "    # Create and train the model\n",
    "    model = create_model_loop(n_units=n_units, dropout_rate=dropout_rate, learning_rate=learning_rate)\n",
    "    model.fit(X_train_minmax, y_train, epochs=10, batch_size=32, verbose=0)\n",
    "\n",
    "    # Predict probabilities on the test set\n",
    "    y_test_pred_probs = model.predict(X_test_minmax)[:, 0]  # Ensure correct indexing if model.predict returns a 2D array\n",
    "\n",
    "    # Evaluate the model on the test data and collect results\n",
    "    test_results = evaluate_nn_op(y_test, y_test_pred_probs, train=False)\n",
    "    results_list.append(test_results)"
   ]
  },
  {
   "cell_type": "code",
   "execution_count": 131,
   "metadata": {},
   "outputs": [],
   "source": [
    "results_df = pd.DataFrame(results_list)\n",
    "results_df.to_csv('model_evaluation_results.csv', index=False)"
   ]
  },
  {
   "cell_type": "markdown",
   "metadata": {},
   "source": [
    "# undersampling by looping"
   ]
  },
  {
   "cell_type": "code",
   "execution_count": 132,
   "metadata": {},
   "outputs": [],
   "source": [
    "rus = RandomUnderSampler(random_state=42)"
   ]
  },
  {
   "cell_type": "code",
   "execution_count": 133,
   "metadata": {},
   "outputs": [],
   "source": [
    "X_under, y_under = rus.fit_resample(X_train_minmax, y_train)"
   ]
  },
  {
   "cell_type": "code",
   "execution_count": 134,
   "metadata": {},
   "outputs": [
    {
     "name": "stderr",
     "output_type": "stream",
     "text": [
      "c:\\Users\\JYXha\\AppData\\Local\\Programs\\Python\\Python310\\lib\\site-packages\\keras\\src\\layers\\core\\dense.py:86: UserWarning: Do not pass an `input_shape`/`input_dim` argument to a layer. When using Sequential models, prefer using an `Input(shape)` object as the first layer in the model instead.\n",
      "  super().__init__(activity_regularizer=activity_regularizer, **kwargs)\n"
     ]
    },
    {
     "name": "stdout",
     "output_type": "stream",
     "text": [
      "\u001b[1m3515/3515\u001b[0m \u001b[32m━━━━━━━━━━━━━━━━━━━━\u001b[0m\u001b[37m\u001b[0m \u001b[1m1s\u001b[0m 415us/step\n"
     ]
    },
    {
     "name": "stderr",
     "output_type": "stream",
     "text": [
      "c:\\Users\\JYXha\\AppData\\Local\\Programs\\Python\\Python310\\lib\\site-packages\\keras\\src\\layers\\core\\dense.py:86: UserWarning: Do not pass an `input_shape`/`input_dim` argument to a layer. When using Sequential models, prefer using an `Input(shape)` object as the first layer in the model instead.\n",
      "  super().__init__(activity_regularizer=activity_regularizer, **kwargs)\n"
     ]
    },
    {
     "name": "stdout",
     "output_type": "stream",
     "text": [
      "\u001b[1m3515/3515\u001b[0m \u001b[32m━━━━━━━━━━━━━━━━━━━━\u001b[0m\u001b[37m\u001b[0m \u001b[1m2s\u001b[0m 428us/step\n"
     ]
    },
    {
     "name": "stderr",
     "output_type": "stream",
     "text": [
      "c:\\Users\\JYXha\\AppData\\Local\\Programs\\Python\\Python310\\lib\\site-packages\\keras\\src\\layers\\core\\dense.py:86: UserWarning: Do not pass an `input_shape`/`input_dim` argument to a layer. When using Sequential models, prefer using an `Input(shape)` object as the first layer in the model instead.\n",
      "  super().__init__(activity_regularizer=activity_regularizer, **kwargs)\n"
     ]
    },
    {
     "name": "stdout",
     "output_type": "stream",
     "text": [
      "\u001b[1m3515/3515\u001b[0m \u001b[32m━━━━━━━━━━━━━━━━━━━━\u001b[0m\u001b[37m\u001b[0m \u001b[1m1s\u001b[0m 410us/step\n"
     ]
    },
    {
     "name": "stderr",
     "output_type": "stream",
     "text": [
      "c:\\Users\\JYXha\\AppData\\Local\\Programs\\Python\\Python310\\lib\\site-packages\\keras\\src\\layers\\core\\dense.py:86: UserWarning: Do not pass an `input_shape`/`input_dim` argument to a layer. When using Sequential models, prefer using an `Input(shape)` object as the first layer in the model instead.\n",
      "  super().__init__(activity_regularizer=activity_regularizer, **kwargs)\n"
     ]
    },
    {
     "name": "stdout",
     "output_type": "stream",
     "text": [
      "\u001b[1m3515/3515\u001b[0m \u001b[32m━━━━━━━━━━━━━━━━━━━━\u001b[0m\u001b[37m\u001b[0m \u001b[1m1s\u001b[0m 400us/step\n"
     ]
    },
    {
     "name": "stderr",
     "output_type": "stream",
     "text": [
      "c:\\Users\\JYXha\\AppData\\Local\\Programs\\Python\\Python310\\lib\\site-packages\\keras\\src\\layers\\core\\dense.py:86: UserWarning: Do not pass an `input_shape`/`input_dim` argument to a layer. When using Sequential models, prefer using an `Input(shape)` object as the first layer in the model instead.\n",
      "  super().__init__(activity_regularizer=activity_regularizer, **kwargs)\n"
     ]
    },
    {
     "name": "stdout",
     "output_type": "stream",
     "text": [
      "\u001b[1m3515/3515\u001b[0m \u001b[32m━━━━━━━━━━━━━━━━━━━━\u001b[0m\u001b[37m\u001b[0m \u001b[1m1s\u001b[0m 403us/step\n"
     ]
    },
    {
     "name": "stderr",
     "output_type": "stream",
     "text": [
      "c:\\Users\\JYXha\\AppData\\Local\\Programs\\Python\\Python310\\lib\\site-packages\\keras\\src\\layers\\core\\dense.py:86: UserWarning: Do not pass an `input_shape`/`input_dim` argument to a layer. When using Sequential models, prefer using an `Input(shape)` object as the first layer in the model instead.\n",
      "  super().__init__(activity_regularizer=activity_regularizer, **kwargs)\n"
     ]
    },
    {
     "name": "stdout",
     "output_type": "stream",
     "text": [
      "\u001b[1m3515/3515\u001b[0m \u001b[32m━━━━━━━━━━━━━━━━━━━━\u001b[0m\u001b[37m\u001b[0m \u001b[1m1s\u001b[0m 389us/step\n"
     ]
    },
    {
     "name": "stderr",
     "output_type": "stream",
     "text": [
      "c:\\Users\\JYXha\\AppData\\Local\\Programs\\Python\\Python310\\lib\\site-packages\\keras\\src\\layers\\core\\dense.py:86: UserWarning: Do not pass an `input_shape`/`input_dim` argument to a layer. When using Sequential models, prefer using an `Input(shape)` object as the first layer in the model instead.\n",
      "  super().__init__(activity_regularizer=activity_regularizer, **kwargs)\n"
     ]
    },
    {
     "name": "stdout",
     "output_type": "stream",
     "text": [
      "\u001b[1m3515/3515\u001b[0m \u001b[32m━━━━━━━━━━━━━━━━━━━━\u001b[0m\u001b[37m\u001b[0m \u001b[1m1s\u001b[0m 401us/step\n"
     ]
    },
    {
     "name": "stderr",
     "output_type": "stream",
     "text": [
      "c:\\Users\\JYXha\\AppData\\Local\\Programs\\Python\\Python310\\lib\\site-packages\\keras\\src\\layers\\core\\dense.py:86: UserWarning: Do not pass an `input_shape`/`input_dim` argument to a layer. When using Sequential models, prefer using an `Input(shape)` object as the first layer in the model instead.\n",
      "  super().__init__(activity_regularizer=activity_regularizer, **kwargs)\n"
     ]
    },
    {
     "name": "stdout",
     "output_type": "stream",
     "text": [
      "\u001b[1m3515/3515\u001b[0m \u001b[32m━━━━━━━━━━━━━━━━━━━━\u001b[0m\u001b[37m\u001b[0m \u001b[1m1s\u001b[0m 389us/step\n"
     ]
    },
    {
     "name": "stderr",
     "output_type": "stream",
     "text": [
      "c:\\Users\\JYXha\\AppData\\Local\\Programs\\Python\\Python310\\lib\\site-packages\\keras\\src\\layers\\core\\dense.py:86: UserWarning: Do not pass an `input_shape`/`input_dim` argument to a layer. When using Sequential models, prefer using an `Input(shape)` object as the first layer in the model instead.\n",
      "  super().__init__(activity_regularizer=activity_regularizer, **kwargs)\n"
     ]
    },
    {
     "name": "stdout",
     "output_type": "stream",
     "text": [
      "\u001b[1m3515/3515\u001b[0m \u001b[32m━━━━━━━━━━━━━━━━━━━━\u001b[0m\u001b[37m\u001b[0m \u001b[1m1s\u001b[0m 386us/step\n"
     ]
    },
    {
     "name": "stderr",
     "output_type": "stream",
     "text": [
      "c:\\Users\\JYXha\\AppData\\Local\\Programs\\Python\\Python310\\lib\\site-packages\\keras\\src\\layers\\core\\dense.py:86: UserWarning: Do not pass an `input_shape`/`input_dim` argument to a layer. When using Sequential models, prefer using an `Input(shape)` object as the first layer in the model instead.\n",
      "  super().__init__(activity_regularizer=activity_regularizer, **kwargs)\n"
     ]
    },
    {
     "name": "stdout",
     "output_type": "stream",
     "text": [
      "\u001b[1m3515/3515\u001b[0m \u001b[32m━━━━━━━━━━━━━━━━━━━━\u001b[0m\u001b[37m\u001b[0m \u001b[1m1s\u001b[0m 386us/step\n"
     ]
    },
    {
     "name": "stderr",
     "output_type": "stream",
     "text": [
      "c:\\Users\\JYXha\\AppData\\Local\\Programs\\Python\\Python310\\lib\\site-packages\\keras\\src\\layers\\core\\dense.py:86: UserWarning: Do not pass an `input_shape`/`input_dim` argument to a layer. When using Sequential models, prefer using an `Input(shape)` object as the first layer in the model instead.\n",
      "  super().__init__(activity_regularizer=activity_regularizer, **kwargs)\n"
     ]
    },
    {
     "name": "stdout",
     "output_type": "stream",
     "text": [
      "\u001b[1m3515/3515\u001b[0m \u001b[32m━━━━━━━━━━━━━━━━━━━━\u001b[0m\u001b[37m\u001b[0m \u001b[1m1s\u001b[0m 386us/step\n"
     ]
    },
    {
     "name": "stderr",
     "output_type": "stream",
     "text": [
      "c:\\Users\\JYXha\\AppData\\Local\\Programs\\Python\\Python310\\lib\\site-packages\\keras\\src\\layers\\core\\dense.py:86: UserWarning: Do not pass an `input_shape`/`input_dim` argument to a layer. When using Sequential models, prefer using an `Input(shape)` object as the first layer in the model instead.\n",
      "  super().__init__(activity_regularizer=activity_regularizer, **kwargs)\n"
     ]
    },
    {
     "name": "stdout",
     "output_type": "stream",
     "text": [
      "\u001b[1m3515/3515\u001b[0m \u001b[32m━━━━━━━━━━━━━━━━━━━━\u001b[0m\u001b[37m\u001b[0m \u001b[1m1s\u001b[0m 382us/step\n"
     ]
    },
    {
     "name": "stderr",
     "output_type": "stream",
     "text": [
      "c:\\Users\\JYXha\\AppData\\Local\\Programs\\Python\\Python310\\lib\\site-packages\\keras\\src\\layers\\core\\dense.py:86: UserWarning: Do not pass an `input_shape`/`input_dim` argument to a layer. When using Sequential models, prefer using an `Input(shape)` object as the first layer in the model instead.\n",
      "  super().__init__(activity_regularizer=activity_regularizer, **kwargs)\n"
     ]
    },
    {
     "name": "stdout",
     "output_type": "stream",
     "text": [
      "\u001b[1m3515/3515\u001b[0m \u001b[32m━━━━━━━━━━━━━━━━━━━━\u001b[0m\u001b[37m\u001b[0m \u001b[1m1s\u001b[0m 401us/step\n"
     ]
    },
    {
     "name": "stderr",
     "output_type": "stream",
     "text": [
      "c:\\Users\\JYXha\\AppData\\Local\\Programs\\Python\\Python310\\lib\\site-packages\\keras\\src\\layers\\core\\dense.py:86: UserWarning: Do not pass an `input_shape`/`input_dim` argument to a layer. When using Sequential models, prefer using an `Input(shape)` object as the first layer in the model instead.\n",
      "  super().__init__(activity_regularizer=activity_regularizer, **kwargs)\n"
     ]
    },
    {
     "name": "stdout",
     "output_type": "stream",
     "text": [
      "\u001b[1m3515/3515\u001b[0m \u001b[32m━━━━━━━━━━━━━━━━━━━━\u001b[0m\u001b[37m\u001b[0m \u001b[1m1s\u001b[0m 383us/step\n"
     ]
    },
    {
     "name": "stderr",
     "output_type": "stream",
     "text": [
      "c:\\Users\\JYXha\\AppData\\Local\\Programs\\Python\\Python310\\lib\\site-packages\\keras\\src\\layers\\core\\dense.py:86: UserWarning: Do not pass an `input_shape`/`input_dim` argument to a layer. When using Sequential models, prefer using an `Input(shape)` object as the first layer in the model instead.\n",
      "  super().__init__(activity_regularizer=activity_regularizer, **kwargs)\n"
     ]
    },
    {
     "name": "stdout",
     "output_type": "stream",
     "text": [
      "\u001b[1m3515/3515\u001b[0m \u001b[32m━━━━━━━━━━━━━━━━━━━━\u001b[0m\u001b[37m\u001b[0m \u001b[1m1s\u001b[0m 384us/step\n"
     ]
    },
    {
     "name": "stderr",
     "output_type": "stream",
     "text": [
      "c:\\Users\\JYXha\\AppData\\Local\\Programs\\Python\\Python310\\lib\\site-packages\\keras\\src\\layers\\core\\dense.py:86: UserWarning: Do not pass an `input_shape`/`input_dim` argument to a layer. When using Sequential models, prefer using an `Input(shape)` object as the first layer in the model instead.\n",
      "  super().__init__(activity_regularizer=activity_regularizer, **kwargs)\n"
     ]
    },
    {
     "name": "stdout",
     "output_type": "stream",
     "text": [
      "\u001b[1m3515/3515\u001b[0m \u001b[32m━━━━━━━━━━━━━━━━━━━━\u001b[0m\u001b[37m\u001b[0m \u001b[1m1s\u001b[0m 400us/step\n"
     ]
    },
    {
     "name": "stderr",
     "output_type": "stream",
     "text": [
      "c:\\Users\\JYXha\\AppData\\Local\\Programs\\Python\\Python310\\lib\\site-packages\\keras\\src\\layers\\core\\dense.py:86: UserWarning: Do not pass an `input_shape`/`input_dim` argument to a layer. When using Sequential models, prefer using an `Input(shape)` object as the first layer in the model instead.\n",
      "  super().__init__(activity_regularizer=activity_regularizer, **kwargs)\n"
     ]
    },
    {
     "name": "stdout",
     "output_type": "stream",
     "text": [
      "\u001b[1m3515/3515\u001b[0m \u001b[32m━━━━━━━━━━━━━━━━━━━━\u001b[0m\u001b[37m\u001b[0m \u001b[1m1s\u001b[0m 396us/step\n"
     ]
    },
    {
     "name": "stderr",
     "output_type": "stream",
     "text": [
      "c:\\Users\\JYXha\\AppData\\Local\\Programs\\Python\\Python310\\lib\\site-packages\\keras\\src\\layers\\core\\dense.py:86: UserWarning: Do not pass an `input_shape`/`input_dim` argument to a layer. When using Sequential models, prefer using an `Input(shape)` object as the first layer in the model instead.\n",
      "  super().__init__(activity_regularizer=activity_regularizer, **kwargs)\n"
     ]
    },
    {
     "name": "stdout",
     "output_type": "stream",
     "text": [
      "\u001b[1m3515/3515\u001b[0m \u001b[32m━━━━━━━━━━━━━━━━━━━━\u001b[0m\u001b[37m\u001b[0m \u001b[1m1s\u001b[0m 396us/step\n"
     ]
    },
    {
     "name": "stderr",
     "output_type": "stream",
     "text": [
      "c:\\Users\\JYXha\\AppData\\Local\\Programs\\Python\\Python310\\lib\\site-packages\\keras\\src\\layers\\core\\dense.py:86: UserWarning: Do not pass an `input_shape`/`input_dim` argument to a layer. When using Sequential models, prefer using an `Input(shape)` object as the first layer in the model instead.\n",
      "  super().__init__(activity_regularizer=activity_regularizer, **kwargs)\n"
     ]
    },
    {
     "name": "stdout",
     "output_type": "stream",
     "text": [
      "\u001b[1m3515/3515\u001b[0m \u001b[32m━━━━━━━━━━━━━━━━━━━━\u001b[0m\u001b[37m\u001b[0m \u001b[1m1s\u001b[0m 401us/step\n"
     ]
    },
    {
     "name": "stderr",
     "output_type": "stream",
     "text": [
      "c:\\Users\\JYXha\\AppData\\Local\\Programs\\Python\\Python310\\lib\\site-packages\\keras\\src\\layers\\core\\dense.py:86: UserWarning: Do not pass an `input_shape`/`input_dim` argument to a layer. When using Sequential models, prefer using an `Input(shape)` object as the first layer in the model instead.\n",
      "  super().__init__(activity_regularizer=activity_regularizer, **kwargs)\n"
     ]
    },
    {
     "name": "stdout",
     "output_type": "stream",
     "text": [
      "\u001b[1m3515/3515\u001b[0m \u001b[32m━━━━━━━━━━━━━━━━━━━━\u001b[0m\u001b[37m\u001b[0m \u001b[1m1s\u001b[0m 395us/step\n"
     ]
    },
    {
     "name": "stderr",
     "output_type": "stream",
     "text": [
      "c:\\Users\\JYXha\\AppData\\Local\\Programs\\Python\\Python310\\lib\\site-packages\\keras\\src\\layers\\core\\dense.py:86: UserWarning: Do not pass an `input_shape`/`input_dim` argument to a layer. When using Sequential models, prefer using an `Input(shape)` object as the first layer in the model instead.\n",
      "  super().__init__(activity_regularizer=activity_regularizer, **kwargs)\n"
     ]
    },
    {
     "name": "stdout",
     "output_type": "stream",
     "text": [
      "\u001b[1m3515/3515\u001b[0m \u001b[32m━━━━━━━━━━━━━━━━━━━━\u001b[0m\u001b[37m\u001b[0m \u001b[1m1s\u001b[0m 402us/step\n"
     ]
    },
    {
     "name": "stderr",
     "output_type": "stream",
     "text": [
      "c:\\Users\\JYXha\\AppData\\Local\\Programs\\Python\\Python310\\lib\\site-packages\\keras\\src\\layers\\core\\dense.py:86: UserWarning: Do not pass an `input_shape`/`input_dim` argument to a layer. When using Sequential models, prefer using an `Input(shape)` object as the first layer in the model instead.\n",
      "  super().__init__(activity_regularizer=activity_regularizer, **kwargs)\n"
     ]
    },
    {
     "name": "stdout",
     "output_type": "stream",
     "text": [
      "\u001b[1m3515/3515\u001b[0m \u001b[32m━━━━━━━━━━━━━━━━━━━━\u001b[0m\u001b[37m\u001b[0m \u001b[1m1s\u001b[0m 403us/step\n"
     ]
    },
    {
     "name": "stderr",
     "output_type": "stream",
     "text": [
      "c:\\Users\\JYXha\\AppData\\Local\\Programs\\Python\\Python310\\lib\\site-packages\\keras\\src\\layers\\core\\dense.py:86: UserWarning: Do not pass an `input_shape`/`input_dim` argument to a layer. When using Sequential models, prefer using an `Input(shape)` object as the first layer in the model instead.\n",
      "  super().__init__(activity_regularizer=activity_regularizer, **kwargs)\n"
     ]
    },
    {
     "name": "stdout",
     "output_type": "stream",
     "text": [
      "\u001b[1m3515/3515\u001b[0m \u001b[32m━━━━━━━━━━━━━━━━━━━━\u001b[0m\u001b[37m\u001b[0m \u001b[1m1s\u001b[0m 394us/step\n"
     ]
    },
    {
     "name": "stderr",
     "output_type": "stream",
     "text": [
      "c:\\Users\\JYXha\\AppData\\Local\\Programs\\Python\\Python310\\lib\\site-packages\\keras\\src\\layers\\core\\dense.py:86: UserWarning: Do not pass an `input_shape`/`input_dim` argument to a layer. When using Sequential models, prefer using an `Input(shape)` object as the first layer in the model instead.\n",
      "  super().__init__(activity_regularizer=activity_regularizer, **kwargs)\n"
     ]
    },
    {
     "name": "stdout",
     "output_type": "stream",
     "text": [
      "\u001b[1m3515/3515\u001b[0m \u001b[32m━━━━━━━━━━━━━━━━━━━━\u001b[0m\u001b[37m\u001b[0m \u001b[1m1s\u001b[0m 390us/step\n"
     ]
    },
    {
     "name": "stderr",
     "output_type": "stream",
     "text": [
      "c:\\Users\\JYXha\\AppData\\Local\\Programs\\Python\\Python310\\lib\\site-packages\\keras\\src\\layers\\core\\dense.py:86: UserWarning: Do not pass an `input_shape`/`input_dim` argument to a layer. When using Sequential models, prefer using an `Input(shape)` object as the first layer in the model instead.\n",
      "  super().__init__(activity_regularizer=activity_regularizer, **kwargs)\n"
     ]
    },
    {
     "name": "stdout",
     "output_type": "stream",
     "text": [
      "\u001b[1m3515/3515\u001b[0m \u001b[32m━━━━━━━━━━━━━━━━━━━━\u001b[0m\u001b[37m\u001b[0m \u001b[1m1s\u001b[0m 390us/step\n"
     ]
    },
    {
     "name": "stderr",
     "output_type": "stream",
     "text": [
      "c:\\Users\\JYXha\\AppData\\Local\\Programs\\Python\\Python310\\lib\\site-packages\\keras\\src\\layers\\core\\dense.py:86: UserWarning: Do not pass an `input_shape`/`input_dim` argument to a layer. When using Sequential models, prefer using an `Input(shape)` object as the first layer in the model instead.\n",
      "  super().__init__(activity_regularizer=activity_regularizer, **kwargs)\n"
     ]
    },
    {
     "name": "stdout",
     "output_type": "stream",
     "text": [
      "\u001b[1m3515/3515\u001b[0m \u001b[32m━━━━━━━━━━━━━━━━━━━━\u001b[0m\u001b[37m\u001b[0m \u001b[1m1s\u001b[0m 409us/step\n"
     ]
    },
    {
     "name": "stderr",
     "output_type": "stream",
     "text": [
      "c:\\Users\\JYXha\\AppData\\Local\\Programs\\Python\\Python310\\lib\\site-packages\\keras\\src\\layers\\core\\dense.py:86: UserWarning: Do not pass an `input_shape`/`input_dim` argument to a layer. When using Sequential models, prefer using an `Input(shape)` object as the first layer in the model instead.\n",
      "  super().__init__(activity_regularizer=activity_regularizer, **kwargs)\n"
     ]
    },
    {
     "name": "stdout",
     "output_type": "stream",
     "text": [
      "\u001b[1m3515/3515\u001b[0m \u001b[32m━━━━━━━━━━━━━━━━━━━━\u001b[0m\u001b[37m\u001b[0m \u001b[1m2s\u001b[0m 419us/step\n"
     ]
    },
    {
     "name": "stderr",
     "output_type": "stream",
     "text": [
      "c:\\Users\\JYXha\\AppData\\Local\\Programs\\Python\\Python310\\lib\\site-packages\\keras\\src\\layers\\core\\dense.py:86: UserWarning: Do not pass an `input_shape`/`input_dim` argument to a layer. When using Sequential models, prefer using an `Input(shape)` object as the first layer in the model instead.\n",
      "  super().__init__(activity_regularizer=activity_regularizer, **kwargs)\n"
     ]
    },
    {
     "name": "stdout",
     "output_type": "stream",
     "text": [
      "\u001b[1m3515/3515\u001b[0m \u001b[32m━━━━━━━━━━━━━━━━━━━━\u001b[0m\u001b[37m\u001b[0m \u001b[1m2s\u001b[0m 420us/step\n"
     ]
    },
    {
     "name": "stderr",
     "output_type": "stream",
     "text": [
      "c:\\Users\\JYXha\\AppData\\Local\\Programs\\Python\\Python310\\lib\\site-packages\\keras\\src\\layers\\core\\dense.py:86: UserWarning: Do not pass an `input_shape`/`input_dim` argument to a layer. When using Sequential models, prefer using an `Input(shape)` object as the first layer in the model instead.\n",
      "  super().__init__(activity_regularizer=activity_regularizer, **kwargs)\n"
     ]
    },
    {
     "name": "stdout",
     "output_type": "stream",
     "text": [
      "\u001b[1m3515/3515\u001b[0m \u001b[32m━━━━━━━━━━━━━━━━━━━━\u001b[0m\u001b[37m\u001b[0m \u001b[1m2s\u001b[0m 428us/step\n"
     ]
    },
    {
     "name": "stderr",
     "output_type": "stream",
     "text": [
      "c:\\Users\\JYXha\\AppData\\Local\\Programs\\Python\\Python310\\lib\\site-packages\\keras\\src\\layers\\core\\dense.py:86: UserWarning: Do not pass an `input_shape`/`input_dim` argument to a layer. When using Sequential models, prefer using an `Input(shape)` object as the first layer in the model instead.\n",
      "  super().__init__(activity_regularizer=activity_regularizer, **kwargs)\n"
     ]
    },
    {
     "name": "stdout",
     "output_type": "stream",
     "text": [
      "\u001b[1m3515/3515\u001b[0m \u001b[32m━━━━━━━━━━━━━━━━━━━━\u001b[0m\u001b[37m\u001b[0m \u001b[1m2s\u001b[0m 439us/step\n"
     ]
    },
    {
     "name": "stderr",
     "output_type": "stream",
     "text": [
      "c:\\Users\\JYXha\\AppData\\Local\\Programs\\Python\\Python310\\lib\\site-packages\\keras\\src\\layers\\core\\dense.py:86: UserWarning: Do not pass an `input_shape`/`input_dim` argument to a layer. When using Sequential models, prefer using an `Input(shape)` object as the first layer in the model instead.\n",
      "  super().__init__(activity_regularizer=activity_regularizer, **kwargs)\n"
     ]
    },
    {
     "name": "stdout",
     "output_type": "stream",
     "text": [
      "\u001b[1m3515/3515\u001b[0m \u001b[32m━━━━━━━━━━━━━━━━━━━━\u001b[0m\u001b[37m\u001b[0m \u001b[1m2s\u001b[0m 441us/step\n"
     ]
    },
    {
     "name": "stderr",
     "output_type": "stream",
     "text": [
      "c:\\Users\\JYXha\\AppData\\Local\\Programs\\Python\\Python310\\lib\\site-packages\\keras\\src\\layers\\core\\dense.py:86: UserWarning: Do not pass an `input_shape`/`input_dim` argument to a layer. When using Sequential models, prefer using an `Input(shape)` object as the first layer in the model instead.\n",
      "  super().__init__(activity_regularizer=activity_regularizer, **kwargs)\n"
     ]
    },
    {
     "name": "stdout",
     "output_type": "stream",
     "text": [
      "\u001b[1m3515/3515\u001b[0m \u001b[32m━━━━━━━━━━━━━━━━━━━━\u001b[0m\u001b[37m\u001b[0m \u001b[1m2s\u001b[0m 427us/step\n"
     ]
    },
    {
     "name": "stderr",
     "output_type": "stream",
     "text": [
      "c:\\Users\\JYXha\\AppData\\Local\\Programs\\Python\\Python310\\lib\\site-packages\\keras\\src\\layers\\core\\dense.py:86: UserWarning: Do not pass an `input_shape`/`input_dim` argument to a layer. When using Sequential models, prefer using an `Input(shape)` object as the first layer in the model instead.\n",
      "  super().__init__(activity_regularizer=activity_regularizer, **kwargs)\n"
     ]
    },
    {
     "name": "stdout",
     "output_type": "stream",
     "text": [
      "\u001b[1m3515/3515\u001b[0m \u001b[32m━━━━━━━━━━━━━━━━━━━━\u001b[0m\u001b[37m\u001b[0m \u001b[1m2s\u001b[0m 425us/step\n"
     ]
    },
    {
     "name": "stderr",
     "output_type": "stream",
     "text": [
      "c:\\Users\\JYXha\\AppData\\Local\\Programs\\Python\\Python310\\lib\\site-packages\\keras\\src\\layers\\core\\dense.py:86: UserWarning: Do not pass an `input_shape`/`input_dim` argument to a layer. When using Sequential models, prefer using an `Input(shape)` object as the first layer in the model instead.\n",
      "  super().__init__(activity_regularizer=activity_regularizer, **kwargs)\n"
     ]
    },
    {
     "name": "stdout",
     "output_type": "stream",
     "text": [
      "\u001b[1m3515/3515\u001b[0m \u001b[32m━━━━━━━━━━━━━━━━━━━━\u001b[0m\u001b[37m\u001b[0m \u001b[1m2s\u001b[0m 426us/step\n"
     ]
    },
    {
     "name": "stderr",
     "output_type": "stream",
     "text": [
      "c:\\Users\\JYXha\\AppData\\Local\\Programs\\Python\\Python310\\lib\\site-packages\\keras\\src\\layers\\core\\dense.py:86: UserWarning: Do not pass an `input_shape`/`input_dim` argument to a layer. When using Sequential models, prefer using an `Input(shape)` object as the first layer in the model instead.\n",
      "  super().__init__(activity_regularizer=activity_regularizer, **kwargs)\n"
     ]
    },
    {
     "name": "stdout",
     "output_type": "stream",
     "text": [
      "\u001b[1m3515/3515\u001b[0m \u001b[32m━━━━━━━━━━━━━━━━━━━━\u001b[0m\u001b[37m\u001b[0m \u001b[1m2s\u001b[0m 437us/step\n"
     ]
    },
    {
     "name": "stderr",
     "output_type": "stream",
     "text": [
      "c:\\Users\\JYXha\\AppData\\Local\\Programs\\Python\\Python310\\lib\\site-packages\\keras\\src\\layers\\core\\dense.py:86: UserWarning: Do not pass an `input_shape`/`input_dim` argument to a layer. When using Sequential models, prefer using an `Input(shape)` object as the first layer in the model instead.\n",
      "  super().__init__(activity_regularizer=activity_regularizer, **kwargs)\n"
     ]
    },
    {
     "name": "stdout",
     "output_type": "stream",
     "text": [
      "\u001b[1m3515/3515\u001b[0m \u001b[32m━━━━━━━━━━━━━━━━━━━━\u001b[0m\u001b[37m\u001b[0m \u001b[1m2s\u001b[0m 434us/step\n"
     ]
    }
   ],
   "source": [
    "param_combinations = list(product(param_grid['classifier__n_units'], \n",
    "                                  param_grid['classifier__dropout_rate'], \n",
    "                                  param_grid['classifier__learning_rate']))\n",
    "\n",
    "results_list_under = []\n",
    "\n",
    "# Assuming param_combinations is a list of tuples, each with (n_units, dropout_rate, learning_rate)\n",
    "for n_units, dropout_rate, learning_rate in param_combinations:\n",
    "    # Create and train the model\n",
    "    model = create_model_loop(n_units=n_units, dropout_rate=dropout_rate, learning_rate=learning_rate)\n",
    "    model.fit(X_under, y_under, epochs=10, batch_size=32, verbose=0)\n",
    "\n",
    "    # Predict probabilities on the test set\n",
    "    y_test_pred_probs = model.predict(X_test_minmax)[:, 0]  # Ensure correct indexing if model.predict returns a 2D array\n",
    "\n",
    "    # Evaluate the model on the test data and collect results\n",
    "    test_results = evaluate_nn_op(y_test, y_test_pred_probs, train=False)\n",
    "    results_list_under.append(test_results)"
   ]
  },
  {
   "cell_type": "code",
   "execution_count": 135,
   "metadata": {},
   "outputs": [],
   "source": [
    "results_under_df = pd.DataFrame(results_list_under)\n",
    "results_under_df.to_csv('model_evaluation_results_under.csv', index=False)"
   ]
  },
  {
   "cell_type": "markdown",
   "metadata": {},
   "source": [
    "# Optimisation with RandomSearchCV"
   ]
  },
  {
   "cell_type": "markdown",
   "metadata": {},
   "source": [
    "## F1- weighted"
   ]
  },
  {
   "cell_type": "markdown",
   "metadata": {},
   "source": [
    "only using minmax scaling"
   ]
  },
  {
   "cell_type": "code",
   "execution_count": 28,
   "metadata": {},
   "outputs": [],
   "source": [
    "def create_model(n_units=32, dropout_rate=0.1, learning_rate=0.001):\n",
    "    model = Sequential()\n",
    "    model.add(Dense(n_units, activation='relu', input_shape=(X_train_minmax.shape[1],)))\n",
    "    model.add(Dropout(dropout_rate))\n",
    "    model.add(Dense(n_units // 2, activation='relu'))\n",
    "    model.add(Dropout(dropout_rate))\n",
    "    model.add(Dense(1, activation='sigmoid'))\n",
    "    model.compile(optimizer=Adam(learning_rate=learning_rate),\n",
    "                  loss='binary_crossentropy', metrics=['AUC'])\n",
    "    return model\n"
   ]
  },
  {
   "cell_type": "code",
   "execution_count": 34,
   "metadata": {},
   "outputs": [],
   "source": [
    "keras_clf = KerasClassifier(build_fn=create_model, epochs=20, batch_size=32, verbose=2,\n",
    "                             n_units=32, dropout_rate=0.1, learning_rate=0.001)"
   ]
  },
  {
   "cell_type": "code",
   "execution_count": 35,
   "metadata": {},
   "outputs": [],
   "source": [
    "pipeline = Pipeline([\n",
    "    ('classifier', keras_clf)\n",
    "])"
   ]
  },
  {
   "cell_type": "code",
   "execution_count": 36,
   "metadata": {},
   "outputs": [],
   "source": [
    "param_grid = {\n",
    "    'classifier__n_units': [32, 64, 128, 256],\n",
    "    'classifier__dropout_rate': [0.1, 0.2, 0.3, 0.5],\n",
    "    'classifier__learning_rate': [0.01, 0.001, 0.0001]\n",
    "}"
   ]
  },
  {
   "cell_type": "code",
   "execution_count": 37,
   "metadata": {},
   "outputs": [
    {
     "name": "stdout",
     "output_type": "stream",
     "text": [
      "Epoch 1/20\n"
     ]
    },
    {
     "name": "stderr",
     "output_type": "stream",
     "text": [
      "c:\\Users\\JYXha\\AppData\\Local\\Programs\\Python\\Python310\\lib\\site-packages\\scikeras\\wrappers.py:925: UserWarning: ``build_fn`` will be renamed to ``model`` in a future release, at which point use of ``build_fn`` will raise an Error instead.\n",
      "  X, y = self._initialize(X, y)\n",
      "c:\\Users\\JYXha\\AppData\\Local\\Programs\\Python\\Python310\\lib\\site-packages\\keras\\src\\layers\\core\\dense.py:86: UserWarning: Do not pass an `input_shape`/`input_dim` argument to a layer. When using Sequential models, prefer using an `Input(shape)` object as the first layer in the model instead.\n",
      "  super().__init__(activity_regularizer=activity_regularizer, **kwargs)\n"
     ]
    },
    {
     "name": "stdout",
     "output_type": "stream",
     "text": [
      "4659/4659 - 4s - 805us/step - AUC: 0.7762 - loss: 0.3940\n",
      "Epoch 2/20\n",
      "4659/4659 - 3s - 671us/step - AUC: 0.7888 - loss: 0.3743\n",
      "Epoch 3/20\n",
      "4659/4659 - 3s - 659us/step - AUC: 0.8184 - loss: 0.3535\n",
      "Epoch 4/20\n",
      "4659/4659 - 3s - 652us/step - AUC: 0.8217 - loss: 0.3500\n",
      "Epoch 5/20\n",
      "4659/4659 - 3s - 661us/step - AUC: 0.8227 - loss: 0.3491\n",
      "Epoch 6/20\n",
      "4659/4659 - 3s - 663us/step - AUC: 0.8222 - loss: 0.3492\n",
      "Epoch 7/20\n",
      "4659/4659 - 3s - 677us/step - AUC: 0.8206 - loss: 0.3498\n",
      "Epoch 8/20\n",
      "4659/4659 - 3s - 652us/step - AUC: 0.8219 - loss: 0.3493\n",
      "Epoch 9/20\n",
      "4659/4659 - 3s - 664us/step - AUC: 0.8229 - loss: 0.3485\n",
      "Epoch 10/20\n",
      "4659/4659 - 3s - 662us/step - AUC: 0.8226 - loss: 0.3476\n",
      "Epoch 11/20\n",
      "4659/4659 - 3s - 653us/step - AUC: 0.8208 - loss: 0.3491\n",
      "Epoch 12/20\n",
      "4659/4659 - 3s - 657us/step - AUC: 0.8220 - loss: 0.3487\n",
      "Epoch 13/20\n",
      "4659/4659 - 3s - 662us/step - AUC: 0.8222 - loss: 0.3487\n",
      "Epoch 14/20\n",
      "4659/4659 - 3s - 665us/step - AUC: 0.8224 - loss: 0.3479\n",
      "Epoch 15/20\n",
      "4659/4659 - 3s - 667us/step - AUC: 0.8234 - loss: 0.3477\n",
      "Epoch 16/20\n",
      "4659/4659 - 3s - 666us/step - AUC: 0.8214 - loss: 0.3483\n",
      "Epoch 17/20\n",
      "4659/4659 - 3s - 663us/step - AUC: 0.8202 - loss: 0.3494\n",
      "Epoch 18/20\n",
      "4659/4659 - 3s - 671us/step - AUC: 0.8210 - loss: 0.3494\n",
      "Epoch 19/20\n",
      "4659/4659 - 3s - 666us/step - AUC: 0.8231 - loss: 0.3479\n",
      "Epoch 20/20\n",
      "4659/4659 - 3s - 655us/step - AUC: 0.8235 - loss: 0.3470\n",
      "2330/2330 - 1s - 441us/step\n",
      "Epoch 1/20\n"
     ]
    },
    {
     "name": "stderr",
     "output_type": "stream",
     "text": [
      "c:\\Users\\JYXha\\AppData\\Local\\Programs\\Python\\Python310\\lib\\site-packages\\scikeras\\wrappers.py:925: UserWarning: ``build_fn`` will be renamed to ``model`` in a future release, at which point use of ``build_fn`` will raise an Error instead.\n",
      "  X, y = self._initialize(X, y)\n",
      "c:\\Users\\JYXha\\AppData\\Local\\Programs\\Python\\Python310\\lib\\site-packages\\keras\\src\\layers\\core\\dense.py:86: UserWarning: Do not pass an `input_shape`/`input_dim` argument to a layer. When using Sequential models, prefer using an `Input(shape)` object as the first layer in the model instead.\n",
      "  super().__init__(activity_regularizer=activity_regularizer, **kwargs)\n"
     ]
    },
    {
     "name": "stdout",
     "output_type": "stream",
     "text": [
      "4659/4659 - 4s - 813us/step - AUC: 0.7727 - loss: 0.3957\n",
      "Epoch 2/20\n",
      "4659/4659 - 3s - 660us/step - AUC: 0.7876 - loss: 0.3751\n",
      "Epoch 3/20\n",
      "4659/4659 - 3s - 663us/step - AUC: 0.8144 - loss: 0.3562\n",
      "Epoch 4/20\n",
      "4659/4659 - 3s - 668us/step - AUC: 0.8179 - loss: 0.3526\n",
      "Epoch 5/20\n",
      "4659/4659 - 3s - 660us/step - AUC: 0.8188 - loss: 0.3516\n",
      "Epoch 6/20\n",
      "4659/4659 - 3s - 663us/step - AUC: 0.8201 - loss: 0.3498\n",
      "Epoch 7/20\n",
      "4659/4659 - 3s - 667us/step - AUC: 0.8204 - loss: 0.3503\n",
      "Epoch 8/20\n",
      "4659/4659 - 3s - 665us/step - AUC: 0.8203 - loss: 0.3502\n",
      "Epoch 9/20\n",
      "4659/4659 - 3s - 670us/step - AUC: 0.8197 - loss: 0.3506\n",
      "Epoch 10/20\n",
      "4659/4659 - 3s - 666us/step - AUC: 0.8213 - loss: 0.3489\n",
      "Epoch 11/20\n",
      "4659/4659 - 3s - 699us/step - AUC: 0.8206 - loss: 0.3482\n",
      "Epoch 12/20\n",
      "4659/4659 - 3s - 674us/step - AUC: 0.8195 - loss: 0.3506\n",
      "Epoch 13/20\n",
      "4659/4659 - 3s - 669us/step - AUC: 0.8209 - loss: 0.3491\n",
      "Epoch 14/20\n",
      "4659/4659 - 3s - 668us/step - AUC: 0.8215 - loss: 0.3487\n",
      "Epoch 15/20\n",
      "4659/4659 - 3s - 664us/step - AUC: 0.8202 - loss: 0.3500\n",
      "Epoch 16/20\n",
      "4659/4659 - 3s - 661us/step - AUC: 0.8203 - loss: 0.3506\n",
      "Epoch 17/20\n",
      "4659/4659 - 3s - 670us/step - AUC: 0.8207 - loss: 0.3488\n",
      "Epoch 18/20\n",
      "4659/4659 - 3s - 656us/step - AUC: 0.8204 - loss: 0.3507\n",
      "Epoch 19/20\n",
      "4659/4659 - 3s - 655us/step - AUC: 0.8206 - loss: 0.3503\n",
      "Epoch 20/20\n",
      "4659/4659 - 3s - 664us/step - AUC: 0.8209 - loss: 0.3490\n",
      "2330/2330 - 1s - 449us/step\n",
      "Epoch 1/20\n"
     ]
    },
    {
     "name": "stderr",
     "output_type": "stream",
     "text": [
      "c:\\Users\\JYXha\\AppData\\Local\\Programs\\Python\\Python310\\lib\\site-packages\\scikeras\\wrappers.py:925: UserWarning: ``build_fn`` will be renamed to ``model`` in a future release, at which point use of ``build_fn`` will raise an Error instead.\n",
      "  X, y = self._initialize(X, y)\n",
      "c:\\Users\\JYXha\\AppData\\Local\\Programs\\Python\\Python310\\lib\\site-packages\\keras\\src\\layers\\core\\dense.py:86: UserWarning: Do not pass an `input_shape`/`input_dim` argument to a layer. When using Sequential models, prefer using an `Input(shape)` object as the first layer in the model instead.\n",
      "  super().__init__(activity_regularizer=activity_regularizer, **kwargs)\n"
     ]
    },
    {
     "name": "stdout",
     "output_type": "stream",
     "text": [
      "4659/4659 - 4s - 896us/step - AUC: 0.7737 - loss: 0.3950\n",
      "Epoch 2/20\n",
      "4659/4659 - 4s - 755us/step - AUC: 0.7856 - loss: 0.3769\n",
      "Epoch 3/20\n",
      "4659/4659 - 3s - 672us/step - AUC: 0.8116 - loss: 0.3586\n",
      "Epoch 4/20\n",
      "4659/4659 - 3s - 659us/step - AUC: 0.8173 - loss: 0.3538\n",
      "Epoch 5/20\n",
      "4659/4659 - 3s - 672us/step - AUC: 0.8183 - loss: 0.3529\n",
      "Epoch 6/20\n",
      "4659/4659 - 3s - 668us/step - AUC: 0.8180 - loss: 0.3521\n",
      "Epoch 7/20\n",
      "4659/4659 - 3s - 658us/step - AUC: 0.8191 - loss: 0.3517\n",
      "Epoch 8/20\n",
      "4659/4659 - 3s - 667us/step - AUC: 0.8182 - loss: 0.3525\n",
      "Epoch 9/20\n",
      "4659/4659 - 3s - 665us/step - AUC: 0.8192 - loss: 0.3511\n",
      "Epoch 10/20\n",
      "4659/4659 - 3s - 658us/step - AUC: 0.8204 - loss: 0.3501\n",
      "Epoch 11/20\n",
      "4659/4659 - 3s - 663us/step - AUC: 0.8186 - loss: 0.3516\n",
      "Epoch 12/20\n",
      "4659/4659 - 3s - 661us/step - AUC: 0.8190 - loss: 0.3517\n",
      "Epoch 13/20\n",
      "4659/4659 - 3s - 672us/step - AUC: 0.8187 - loss: 0.3519\n",
      "Epoch 14/20\n",
      "4659/4659 - 3s - 654us/step - AUC: 0.8194 - loss: 0.3513\n",
      "Epoch 15/20\n",
      "4659/4659 - 3s - 664us/step - AUC: 0.8186 - loss: 0.3510\n",
      "Epoch 16/20\n",
      "4659/4659 - 3s - 667us/step - AUC: 0.8201 - loss: 0.3502\n",
      "Epoch 17/20\n",
      "4659/4659 - 3s - 677us/step - AUC: 0.8191 - loss: 0.3510\n",
      "Epoch 18/20\n",
      "4659/4659 - 3s - 677us/step - AUC: 0.8201 - loss: 0.3505\n",
      "Epoch 19/20\n",
      "4659/4659 - 3s - 709us/step - AUC: 0.8190 - loss: 0.3509\n",
      "Epoch 20/20\n",
      "4659/4659 - 3s - 661us/step - AUC: 0.8218 - loss: 0.3495\n",
      "2330/2330 - 1s - 434us/step\n",
      "Epoch 1/20\n"
     ]
    },
    {
     "name": "stderr",
     "output_type": "stream",
     "text": [
      "c:\\Users\\JYXha\\AppData\\Local\\Programs\\Python\\Python310\\lib\\site-packages\\scikeras\\wrappers.py:925: UserWarning: ``build_fn`` will be renamed to ``model`` in a future release, at which point use of ``build_fn`` will raise an Error instead.\n",
      "  X, y = self._initialize(X, y)\n",
      "c:\\Users\\JYXha\\AppData\\Local\\Programs\\Python\\Python310\\lib\\site-packages\\keras\\src\\layers\\core\\dense.py:86: UserWarning: Do not pass an `input_shape`/`input_dim` argument to a layer. When using Sequential models, prefer using an `Input(shape)` object as the first layer in the model instead.\n",
      "  super().__init__(activity_regularizer=activity_regularizer, **kwargs)\n"
     ]
    },
    {
     "name": "stdout",
     "output_type": "stream",
     "text": [
      "4659/4659 - 3s - 663us/step - AUC: 0.7340 - loss: 0.4409\n",
      "Epoch 2/20\n",
      "4659/4659 - 2s - 525us/step - AUC: 0.7772 - loss: 0.3979\n",
      "Epoch 3/20\n",
      "4659/4659 - 2s - 522us/step - AUC: 0.7830 - loss: 0.3881\n",
      "Epoch 4/20\n",
      "4659/4659 - 2s - 536us/step - AUC: 0.7870 - loss: 0.3848\n",
      "Epoch 5/20\n",
      "4659/4659 - 3s - 539us/step - AUC: 0.7870 - loss: 0.3841\n",
      "Epoch 6/20\n",
      "4659/4659 - 2s - 528us/step - AUC: 0.7896 - loss: 0.3823\n",
      "Epoch 7/20\n",
      "4659/4659 - 2s - 531us/step - AUC: 0.7905 - loss: 0.3808\n",
      "Epoch 8/20\n",
      "4659/4659 - 2s - 519us/step - AUC: 0.7914 - loss: 0.3804\n",
      "Epoch 9/20\n",
      "4659/4659 - 3s - 558us/step - AUC: 0.7954 - loss: 0.3783\n",
      "Epoch 10/20\n",
      "4659/4659 - 2s - 518us/step - AUC: 0.8041 - loss: 0.3729\n",
      "Epoch 11/20\n",
      "4659/4659 - 2s - 530us/step - AUC: 0.8080 - loss: 0.3677\n",
      "Epoch 12/20\n",
      "4659/4659 - 2s - 524us/step - AUC: 0.8100 - loss: 0.3650\n",
      "Epoch 13/20\n",
      "4659/4659 - 2s - 531us/step - AUC: 0.8096 - loss: 0.3644\n",
      "Epoch 14/20\n",
      "4659/4659 - 2s - 522us/step - AUC: 0.8115 - loss: 0.3623\n",
      "Epoch 15/20\n",
      "4659/4659 - 2s - 519us/step - AUC: 0.8118 - loss: 0.3624\n",
      "Epoch 16/20\n",
      "4659/4659 - 2s - 512us/step - AUC: 0.8115 - loss: 0.3619\n",
      "Epoch 17/20\n",
      "4659/4659 - 2s - 514us/step - AUC: 0.8117 - loss: 0.3615\n",
      "Epoch 18/20\n",
      "4659/4659 - 2s - 509us/step - AUC: 0.8128 - loss: 0.3610\n",
      "Epoch 19/20\n",
      "4659/4659 - 2s - 512us/step - AUC: 0.8126 - loss: 0.3608\n",
      "Epoch 20/20\n",
      "4659/4659 - 2s - 505us/step - AUC: 0.8113 - loss: 0.3621\n",
      "2330/2330 - 1s - 396us/step\n",
      "Epoch 1/20\n"
     ]
    },
    {
     "name": "stderr",
     "output_type": "stream",
     "text": [
      "c:\\Users\\JYXha\\AppData\\Local\\Programs\\Python\\Python310\\lib\\site-packages\\scikeras\\wrappers.py:925: UserWarning: ``build_fn`` will be renamed to ``model`` in a future release, at which point use of ``build_fn`` will raise an Error instead.\n",
      "  X, y = self._initialize(X, y)\n",
      "c:\\Users\\JYXha\\AppData\\Local\\Programs\\Python\\Python310\\lib\\site-packages\\keras\\src\\layers\\core\\dense.py:86: UserWarning: Do not pass an `input_shape`/`input_dim` argument to a layer. When using Sequential models, prefer using an `Input(shape)` object as the first layer in the model instead.\n",
      "  super().__init__(activity_regularizer=activity_regularizer, **kwargs)\n"
     ]
    },
    {
     "name": "stdout",
     "output_type": "stream",
     "text": [
      "4659/4659 - 3s - 654us/step - AUC: 0.7392 - loss: 0.4365\n",
      "Epoch 2/20\n",
      "4659/4659 - 2s - 507us/step - AUC: 0.7800 - loss: 0.3907\n",
      "Epoch 3/20\n",
      "4659/4659 - 2s - 515us/step - AUC: 0.7877 - loss: 0.3780\n",
      "Epoch 4/20\n",
      "4659/4659 - 2s - 506us/step - AUC: 0.7931 - loss: 0.3738\n",
      "Epoch 5/20\n",
      "4659/4659 - 2s - 510us/step - AUC: 0.8071 - loss: 0.3657\n",
      "Epoch 6/20\n",
      "4659/4659 - 2s - 503us/step - AUC: 0.8206 - loss: 0.3534\n",
      "Epoch 7/20\n",
      "4659/4659 - 2s - 512us/step - AUC: 0.8225 - loss: 0.3515\n",
      "Epoch 8/20\n",
      "4659/4659 - 2s - 513us/step - AUC: 0.8241 - loss: 0.3499\n",
      "Epoch 9/20\n",
      "4659/4659 - 2s - 511us/step - AUC: 0.8250 - loss: 0.3495\n",
      "Epoch 10/20\n",
      "4659/4659 - 2s - 506us/step - AUC: 0.8269 - loss: 0.3481\n",
      "Epoch 11/20\n",
      "4659/4659 - 2s - 511us/step - AUC: 0.8277 - loss: 0.3487\n",
      "Epoch 12/20\n",
      "4659/4659 - 2s - 517us/step - AUC: 0.8299 - loss: 0.3468\n",
      "Epoch 13/20\n",
      "4659/4659 - 2s - 509us/step - AUC: 0.8308 - loss: 0.3453\n",
      "Epoch 14/20\n",
      "4659/4659 - 2s - 511us/step - AUC: 0.8322 - loss: 0.3440\n",
      "Epoch 15/20\n",
      "4659/4659 - 2s - 506us/step - AUC: 0.8333 - loss: 0.3430\n",
      "Epoch 16/20\n",
      "4659/4659 - 2s - 516us/step - AUC: 0.8327 - loss: 0.3443\n",
      "Epoch 17/20\n",
      "4659/4659 - 2s - 507us/step - AUC: 0.8331 - loss: 0.3434\n",
      "Epoch 18/20\n",
      "4659/4659 - 2s - 515us/step - AUC: 0.8337 - loss: 0.3426\n",
      "Epoch 19/20\n",
      "4659/4659 - 2s - 509us/step - AUC: 0.8338 - loss: 0.3426\n",
      "Epoch 20/20\n",
      "4659/4659 - 2s - 526us/step - AUC: 0.8334 - loss: 0.3429\n",
      "2330/2330 - 1s - 391us/step\n",
      "Epoch 1/20\n"
     ]
    },
    {
     "name": "stderr",
     "output_type": "stream",
     "text": [
      "c:\\Users\\JYXha\\AppData\\Local\\Programs\\Python\\Python310\\lib\\site-packages\\scikeras\\wrappers.py:925: UserWarning: ``build_fn`` will be renamed to ``model`` in a future release, at which point use of ``build_fn`` will raise an Error instead.\n",
      "  X, y = self._initialize(X, y)\n",
      "c:\\Users\\JYXha\\AppData\\Local\\Programs\\Python\\Python310\\lib\\site-packages\\keras\\src\\layers\\core\\dense.py:86: UserWarning: Do not pass an `input_shape`/`input_dim` argument to a layer. When using Sequential models, prefer using an `Input(shape)` object as the first layer in the model instead.\n",
      "  super().__init__(activity_regularizer=activity_regularizer, **kwargs)\n"
     ]
    },
    {
     "name": "stdout",
     "output_type": "stream",
     "text": [
      "4659/4659 - 3s - 650us/step - AUC: 0.7309 - loss: 0.4422\n",
      "Epoch 2/20\n",
      "4659/4659 - 2s - 506us/step - AUC: 0.7777 - loss: 0.3949\n",
      "Epoch 3/20\n",
      "4659/4659 - 2s - 509us/step - AUC: 0.7872 - loss: 0.3809\n",
      "Epoch 4/20\n",
      "4659/4659 - 2s - 508us/step - AUC: 0.7920 - loss: 0.3757\n",
      "Epoch 5/20\n",
      "4659/4659 - 2s - 510us/step - AUC: 0.7921 - loss: 0.3757\n",
      "Epoch 6/20\n",
      "4659/4659 - 2s - 508us/step - AUC: 0.7955 - loss: 0.3729\n",
      "Epoch 7/20\n",
      "4659/4659 - 2s - 504us/step - AUC: 0.8059 - loss: 0.3667\n",
      "Epoch 8/20\n",
      "4659/4659 - 2s - 510us/step - AUC: 0.8177 - loss: 0.3584\n",
      "Epoch 9/20\n",
      "4659/4659 - 2s - 503us/step - AUC: 0.8214 - loss: 0.3536\n",
      "Epoch 10/20\n",
      "4659/4659 - 2s - 510us/step - AUC: 0.8230 - loss: 0.3520\n",
      "Epoch 11/20\n",
      "4659/4659 - 2s - 504us/step - AUC: 0.8240 - loss: 0.3503\n",
      "Epoch 12/20\n",
      "4659/4659 - 2s - 512us/step - AUC: 0.8246 - loss: 0.3501\n",
      "Epoch 13/20\n",
      "4659/4659 - 2s - 505us/step - AUC: 0.8257 - loss: 0.3489\n",
      "Epoch 14/20\n",
      "4659/4659 - 2s - 504us/step - AUC: 0.8259 - loss: 0.3480\n",
      "Epoch 15/20\n",
      "4659/4659 - 2s - 508us/step - AUC: 0.8265 - loss: 0.3469\n",
      "Epoch 16/20\n",
      "4659/4659 - 2s - 507us/step - AUC: 0.8279 - loss: 0.3460\n",
      "Epoch 17/20\n",
      "4659/4659 - 2s - 534us/step - AUC: 0.8277 - loss: 0.3459\n",
      "Epoch 18/20\n",
      "4659/4659 - 2s - 506us/step - AUC: 0.8291 - loss: 0.3447\n",
      "Epoch 19/20\n",
      "4659/4659 - 2s - 510us/step - AUC: 0.8297 - loss: 0.3446\n",
      "Epoch 20/20\n",
      "4659/4659 - 2s - 528us/step - AUC: 0.8287 - loss: 0.3449\n",
      "2330/2330 - 1s - 397us/step\n",
      "Epoch 1/20\n"
     ]
    },
    {
     "name": "stderr",
     "output_type": "stream",
     "text": [
      "c:\\Users\\JYXha\\AppData\\Local\\Programs\\Python\\Python310\\lib\\site-packages\\scikeras\\wrappers.py:925: UserWarning: ``build_fn`` will be renamed to ``model`` in a future release, at which point use of ``build_fn`` will raise an Error instead.\n",
      "  X, y = self._initialize(X, y)\n",
      "c:\\Users\\JYXha\\AppData\\Local\\Programs\\Python\\Python310\\lib\\site-packages\\keras\\src\\layers\\core\\dense.py:86: UserWarning: Do not pass an `input_shape`/`input_dim` argument to a layer. When using Sequential models, prefer using an `Input(shape)` object as the first layer in the model instead.\n",
      "  super().__init__(activity_regularizer=activity_regularizer, **kwargs)\n"
     ]
    },
    {
     "name": "stdout",
     "output_type": "stream",
     "text": [
      "4659/4659 - 3s - 708us/step - AUC: 0.7745 - loss: 0.3943\n",
      "Epoch 2/20\n",
      "4659/4659 - 3s - 567us/step - AUC: 0.7888 - loss: 0.3742\n",
      "Epoch 3/20\n",
      "4659/4659 - 3s - 571us/step - AUC: 0.8131 - loss: 0.3578\n",
      "Epoch 4/20\n",
      "4659/4659 - 3s - 566us/step - AUC: 0.8308 - loss: 0.3432\n",
      "Epoch 5/20\n",
      "4659/4659 - 3s - 565us/step - AUC: 0.8324 - loss: 0.3418\n",
      "Epoch 6/20\n",
      "4659/4659 - 3s - 569us/step - AUC: 0.8333 - loss: 0.3403\n",
      "Epoch 7/20\n",
      "4659/4659 - 3s - 566us/step - AUC: 0.8337 - loss: 0.3400\n",
      "Epoch 8/20\n",
      "4659/4659 - 3s - 568us/step - AUC: 0.8347 - loss: 0.3394\n",
      "Epoch 9/20\n",
      "4659/4659 - 3s - 568us/step - AUC: 0.8360 - loss: 0.3390\n",
      "Epoch 10/20\n",
      "4659/4659 - 3s - 567us/step - AUC: 0.8364 - loss: 0.3382\n",
      "Epoch 11/20\n",
      "4659/4659 - 3s - 568us/step - AUC: 0.8392 - loss: 0.3360\n",
      "Epoch 12/20\n",
      "4659/4659 - 3s - 569us/step - AUC: 0.8449 - loss: 0.3287\n",
      "Epoch 13/20\n",
      "4659/4659 - 3s - 568us/step - AUC: 0.8500 - loss: 0.3206\n",
      "Epoch 14/20\n",
      "4659/4659 - 3s - 570us/step - AUC: 0.8460 - loss: 0.3262\n",
      "Epoch 15/20\n",
      "4659/4659 - 3s - 571us/step - AUC: 0.8457 - loss: 0.3265\n",
      "Epoch 16/20\n",
      "4659/4659 - 3s - 568us/step - AUC: 0.8486 - loss: 0.3194\n",
      "Epoch 17/20\n",
      "4659/4659 - 3s - 571us/step - AUC: 0.8490 - loss: 0.3201\n",
      "Epoch 18/20\n",
      "4659/4659 - 3s - 566us/step - AUC: 0.8488 - loss: 0.3203\n",
      "Epoch 19/20\n",
      "4659/4659 - 3s - 565us/step - AUC: 0.8502 - loss: 0.3198\n",
      "Epoch 20/20\n",
      "4659/4659 - 3s - 574us/step - AUC: 0.8497 - loss: 0.3196\n",
      "2330/2330 - 1s - 401us/step\n",
      "Epoch 1/20\n"
     ]
    },
    {
     "name": "stderr",
     "output_type": "stream",
     "text": [
      "c:\\Users\\JYXha\\AppData\\Local\\Programs\\Python\\Python310\\lib\\site-packages\\scikeras\\wrappers.py:925: UserWarning: ``build_fn`` will be renamed to ``model`` in a future release, at which point use of ``build_fn`` will raise an Error instead.\n",
      "  X, y = self._initialize(X, y)\n",
      "c:\\Users\\JYXha\\AppData\\Local\\Programs\\Python\\Python310\\lib\\site-packages\\keras\\src\\layers\\core\\dense.py:86: UserWarning: Do not pass an `input_shape`/`input_dim` argument to a layer. When using Sequential models, prefer using an `Input(shape)` object as the first layer in the model instead.\n",
      "  super().__init__(activity_regularizer=activity_regularizer, **kwargs)\n"
     ]
    },
    {
     "name": "stdout",
     "output_type": "stream",
     "text": [
      "4659/4659 - 3s - 707us/step - AUC: 0.7758 - loss: 0.3936\n",
      "Epoch 2/20\n",
      "4659/4659 - 3s - 567us/step - AUC: 0.7879 - loss: 0.3751\n",
      "Epoch 3/20\n",
      "4659/4659 - 3s - 566us/step - AUC: 0.8053 - loss: 0.3632\n",
      "Epoch 4/20\n",
      "4659/4659 - 3s - 560us/step - AUC: 0.8306 - loss: 0.3426\n",
      "Epoch 5/20\n",
      "4659/4659 - 3s - 567us/step - AUC: 0.8329 - loss: 0.3414\n",
      "Epoch 6/20\n",
      "4659/4659 - 3s - 560us/step - AUC: 0.8336 - loss: 0.3399\n",
      "Epoch 7/20\n",
      "4659/4659 - 3s - 563us/step - AUC: 0.8330 - loss: 0.3406\n",
      "Epoch 8/20\n",
      "4659/4659 - 3s - 564us/step - AUC: 0.8332 - loss: 0.3411\n",
      "Epoch 9/20\n",
      "4659/4659 - 3s - 566us/step - AUC: 0.8342 - loss: 0.3398\n",
      "Epoch 10/20\n",
      "4659/4659 - 3s - 566us/step - AUC: 0.8356 - loss: 0.3387\n",
      "Epoch 11/20\n",
      "4659/4659 - 3s - 567us/step - AUC: 0.8355 - loss: 0.3391\n",
      "Epoch 12/20\n",
      "4659/4659 - 3s - 564us/step - AUC: 0.8359 - loss: 0.3384\n",
      "Epoch 13/20\n",
      "4659/4659 - 3s - 562us/step - AUC: 0.8362 - loss: 0.3379\n",
      "Epoch 14/20\n",
      "4659/4659 - 3s - 567us/step - AUC: 0.8361 - loss: 0.3388\n",
      "Epoch 15/20\n",
      "4659/4659 - 3s - 563us/step - AUC: 0.8357 - loss: 0.3382\n",
      "Epoch 16/20\n",
      "4659/4659 - 3s - 573us/step - AUC: 0.8357 - loss: 0.3383\n",
      "Epoch 17/20\n",
      "4659/4659 - 3s - 559us/step - AUC: 0.8398 - loss: 0.3351\n",
      "Epoch 18/20\n",
      "4659/4659 - 3s - 565us/step - AUC: 0.8467 - loss: 0.3281\n",
      "Epoch 19/20\n",
      "4659/4659 - 3s - 560us/step - AUC: 0.8491 - loss: 0.3238\n",
      "Epoch 20/20\n",
      "4659/4659 - 3s - 565us/step - AUC: 0.8503 - loss: 0.3218\n",
      "2330/2330 - 1s - 401us/step\n",
      "Epoch 1/20\n"
     ]
    },
    {
     "name": "stderr",
     "output_type": "stream",
     "text": [
      "c:\\Users\\JYXha\\AppData\\Local\\Programs\\Python\\Python310\\lib\\site-packages\\scikeras\\wrappers.py:925: UserWarning: ``build_fn`` will be renamed to ``model`` in a future release, at which point use of ``build_fn`` will raise an Error instead.\n",
      "  X, y = self._initialize(X, y)\n",
      "c:\\Users\\JYXha\\AppData\\Local\\Programs\\Python\\Python310\\lib\\site-packages\\keras\\src\\layers\\core\\dense.py:86: UserWarning: Do not pass an `input_shape`/`input_dim` argument to a layer. When using Sequential models, prefer using an `Input(shape)` object as the first layer in the model instead.\n",
      "  super().__init__(activity_regularizer=activity_regularizer, **kwargs)\n"
     ]
    },
    {
     "name": "stdout",
     "output_type": "stream",
     "text": [
      "4659/4659 - 4s - 762us/step - AUC: 0.7734 - loss: 0.3969\n",
      "Epoch 2/20\n",
      "4659/4659 - 3s - 562us/step - AUC: 0.7853 - loss: 0.3775\n",
      "Epoch 3/20\n",
      "4659/4659 - 3s - 569us/step - AUC: 0.7924 - loss: 0.3722\n",
      "Epoch 4/20\n",
      "4659/4659 - 3s - 569us/step - AUC: 0.8143 - loss: 0.3556\n",
      "Epoch 5/20\n",
      "4659/4659 - 3s - 569us/step - AUC: 0.8152 - loss: 0.3553\n",
      "Epoch 6/20\n",
      "4659/4659 - 3s - 598us/step - AUC: 0.8178 - loss: 0.3521\n",
      "Epoch 7/20\n",
      "4659/4659 - 3s - 571us/step - AUC: 0.8179 - loss: 0.3513\n",
      "Epoch 8/20\n",
      "4659/4659 - 3s - 569us/step - AUC: 0.8184 - loss: 0.3516\n",
      "Epoch 9/20\n",
      "4659/4659 - 3s - 565us/step - AUC: 0.8193 - loss: 0.3514\n",
      "Epoch 10/20\n",
      "4659/4659 - 3s - 562us/step - AUC: 0.8192 - loss: 0.3508\n",
      "Epoch 11/20\n",
      "4659/4659 - 3s - 567us/step - AUC: 0.8180 - loss: 0.3519\n",
      "Epoch 12/20\n",
      "4659/4659 - 3s - 563us/step - AUC: 0.8190 - loss: 0.3509\n",
      "Epoch 13/20\n",
      "4659/4659 - 3s - 561us/step - AUC: 0.8198 - loss: 0.3501\n",
      "Epoch 14/20\n",
      "4659/4659 - 3s - 570us/step - AUC: 0.8202 - loss: 0.3510\n",
      "Epoch 15/20\n",
      "4659/4659 - 3s - 571us/step - AUC: 0.8190 - loss: 0.3505\n",
      "Epoch 16/20\n",
      "4659/4659 - 3s - 570us/step - AUC: 0.8200 - loss: 0.3503\n",
      "Epoch 17/20\n",
      "4659/4659 - 3s - 569us/step - AUC: 0.8200 - loss: 0.3503\n",
      "Epoch 18/20\n",
      "4659/4659 - 3s - 571us/step - AUC: 0.8210 - loss: 0.3489\n",
      "Epoch 19/20\n",
      "4659/4659 - 3s - 572us/step - AUC: 0.8196 - loss: 0.3503\n",
      "Epoch 20/20\n",
      "4659/4659 - 3s - 567us/step - AUC: 0.8180 - loss: 0.3512\n",
      "2330/2330 - 1s - 406us/step\n",
      "Epoch 1/20\n"
     ]
    },
    {
     "name": "stderr",
     "output_type": "stream",
     "text": [
      "c:\\Users\\JYXha\\AppData\\Local\\Programs\\Python\\Python310\\lib\\site-packages\\scikeras\\wrappers.py:925: UserWarning: ``build_fn`` will be renamed to ``model`` in a future release, at which point use of ``build_fn`` will raise an Error instead.\n",
      "  X, y = self._initialize(X, y)\n",
      "c:\\Users\\JYXha\\AppData\\Local\\Programs\\Python\\Python310\\lib\\site-packages\\keras\\src\\layers\\core\\dense.py:86: UserWarning: Do not pass an `input_shape`/`input_dim` argument to a layer. When using Sequential models, prefer using an `Input(shape)` object as the first layer in the model instead.\n",
      "  super().__init__(activity_regularizer=activity_regularizer, **kwargs)\n"
     ]
    },
    {
     "name": "stdout",
     "output_type": "stream",
     "text": [
      "4659/4659 - 4s - 809us/step - AUC: 0.7767 - loss: 0.3971\n",
      "Epoch 2/20\n",
      "4659/4659 - 3s - 659us/step - AUC: 0.7989 - loss: 0.3659\n",
      "Epoch 3/20\n",
      "4659/4659 - 3s - 681us/step - AUC: 0.8021 - loss: 0.3624\n",
      "Epoch 4/20\n",
      "4659/4659 - 3s - 692us/step - AUC: 0.8148 - loss: 0.3546\n",
      "Epoch 5/20\n",
      "4659/4659 - 3s - 663us/step - AUC: 0.8409 - loss: 0.3350\n",
      "Epoch 6/20\n",
      "4659/4659 - 3s - 662us/step - AUC: 0.8579 - loss: 0.3214\n",
      "Epoch 7/20\n",
      "4659/4659 - 3s - 664us/step - AUC: 0.8680 - loss: 0.3118\n",
      "Epoch 8/20\n",
      "4659/4659 - 3s - 670us/step - AUC: 0.8716 - loss: 0.3053\n",
      "Epoch 9/20\n",
      "4659/4659 - 3s - 664us/step - AUC: 0.8742 - loss: 0.3006\n",
      "Epoch 10/20\n",
      "4659/4659 - 3s - 713us/step - AUC: 0.8762 - loss: 0.2964\n",
      "Epoch 11/20\n",
      "4659/4659 - 3s - 680us/step - AUC: 0.8774 - loss: 0.2944\n",
      "Epoch 12/20\n",
      "4659/4659 - 3s - 695us/step - AUC: 0.8788 - loss: 0.2908\n",
      "Epoch 13/20\n",
      "4659/4659 - 3s - 684us/step - AUC: 0.8794 - loss: 0.2901\n",
      "Epoch 14/20\n",
      "4659/4659 - 3s - 683us/step - AUC: 0.8798 - loss: 0.2888\n",
      "Epoch 15/20\n",
      "4659/4659 - 3s - 687us/step - AUC: 0.8801 - loss: 0.2891\n",
      "Epoch 16/20\n",
      "4659/4659 - 3s - 696us/step - AUC: 0.8806 - loss: 0.2878\n",
      "Epoch 17/20\n",
      "4659/4659 - 3s - 668us/step - AUC: 0.8821 - loss: 0.2876\n",
      "Epoch 18/20\n",
      "4659/4659 - 3s - 672us/step - AUC: 0.8823 - loss: 0.2865\n",
      "Epoch 19/20\n",
      "4659/4659 - 3s - 674us/step - AUC: 0.8818 - loss: 0.2869\n",
      "Epoch 20/20\n",
      "4659/4659 - 3s - 670us/step - AUC: 0.8827 - loss: 0.2864\n",
      "2330/2330 - 1s - 429us/step\n",
      "Epoch 1/20\n"
     ]
    },
    {
     "name": "stderr",
     "output_type": "stream",
     "text": [
      "c:\\Users\\JYXha\\AppData\\Local\\Programs\\Python\\Python310\\lib\\site-packages\\scikeras\\wrappers.py:925: UserWarning: ``build_fn`` will be renamed to ``model`` in a future release, at which point use of ``build_fn`` will raise an Error instead.\n",
      "  X, y = self._initialize(X, y)\n",
      "c:\\Users\\JYXha\\AppData\\Local\\Programs\\Python\\Python310\\lib\\site-packages\\keras\\src\\layers\\core\\dense.py:86: UserWarning: Do not pass an `input_shape`/`input_dim` argument to a layer. When using Sequential models, prefer using an `Input(shape)` object as the first layer in the model instead.\n",
      "  super().__init__(activity_regularizer=activity_regularizer, **kwargs)\n"
     ]
    },
    {
     "name": "stdout",
     "output_type": "stream",
     "text": [
      "4659/4659 - 4s - 801us/step - AUC: 0.7786 - loss: 0.3954\n",
      "Epoch 2/20\n",
      "4659/4659 - 3s - 660us/step - AUC: 0.7988 - loss: 0.3655\n",
      "Epoch 3/20\n",
      "4659/4659 - 3s - 663us/step - AUC: 0.8059 - loss: 0.3603\n",
      "Epoch 4/20\n",
      "4659/4659 - 3s - 657us/step - AUC: 0.8361 - loss: 0.3387\n",
      "Epoch 5/20\n",
      "4659/4659 - 3s - 662us/step - AUC: 0.8574 - loss: 0.3218\n",
      "Epoch 6/20\n",
      "4659/4659 - 3s - 666us/step - AUC: 0.8695 - loss: 0.3094\n",
      "Epoch 7/20\n",
      "4659/4659 - 3s - 660us/step - AUC: 0.8727 - loss: 0.3033\n",
      "Epoch 8/20\n",
      "4659/4659 - 3s - 659us/step - AUC: 0.8743 - loss: 0.3015\n",
      "Epoch 9/20\n",
      "4659/4659 - 3s - 662us/step - AUC: 0.8757 - loss: 0.2991\n",
      "Epoch 10/20\n",
      "4659/4659 - 3s - 658us/step - AUC: 0.8753 - loss: 0.2989\n",
      "Epoch 11/20\n",
      "4659/4659 - 3s - 663us/step - AUC: 0.8773 - loss: 0.2958\n",
      "Epoch 12/20\n",
      "4659/4659 - 3s - 658us/step - AUC: 0.8778 - loss: 0.2943\n",
      "Epoch 13/20\n",
      "4659/4659 - 3s - 656us/step - AUC: 0.8791 - loss: 0.2920\n",
      "Epoch 14/20\n",
      "4659/4659 - 3s - 659us/step - AUC: 0.8795 - loss: 0.2918\n",
      "Epoch 15/20\n",
      "4659/4659 - 3s - 659us/step - AUC: 0.8800 - loss: 0.2916\n",
      "Epoch 16/20\n",
      "4659/4659 - 3s - 658us/step - AUC: 0.8801 - loss: 0.2912\n",
      "Epoch 17/20\n",
      "4659/4659 - 3s - 661us/step - AUC: 0.8799 - loss: 0.2901\n",
      "Epoch 18/20\n",
      "4659/4659 - 3s - 652us/step - AUC: 0.8808 - loss: 0.2908\n",
      "Epoch 19/20\n",
      "4659/4659 - 3s - 687us/step - AUC: 0.8822 - loss: 0.2887\n",
      "Epoch 20/20\n",
      "4659/4659 - 3s - 680us/step - AUC: 0.8812 - loss: 0.2890\n",
      "2330/2330 - 1s - 423us/step\n",
      "Epoch 1/20\n"
     ]
    },
    {
     "name": "stderr",
     "output_type": "stream",
     "text": [
      "c:\\Users\\JYXha\\AppData\\Local\\Programs\\Python\\Python310\\lib\\site-packages\\scikeras\\wrappers.py:925: UserWarning: ``build_fn`` will be renamed to ``model`` in a future release, at which point use of ``build_fn`` will raise an Error instead.\n",
      "  X, y = self._initialize(X, y)\n",
      "c:\\Users\\JYXha\\AppData\\Local\\Programs\\Python\\Python310\\lib\\site-packages\\keras\\src\\layers\\core\\dense.py:86: UserWarning: Do not pass an `input_shape`/`input_dim` argument to a layer. When using Sequential models, prefer using an `Input(shape)` object as the first layer in the model instead.\n",
      "  super().__init__(activity_regularizer=activity_regularizer, **kwargs)\n"
     ]
    },
    {
     "name": "stdout",
     "output_type": "stream",
     "text": [
      "4659/4659 - 4s - 801us/step - AUC: 0.7761 - loss: 0.3970\n",
      "Epoch 2/20\n",
      "4659/4659 - 3s - 662us/step - AUC: 0.7974 - loss: 0.3664\n",
      "Epoch 3/20\n",
      "4659/4659 - 3s - 659us/step - AUC: 0.8022 - loss: 0.3619\n",
      "Epoch 4/20\n",
      "4659/4659 - 3s - 655us/step - AUC: 0.8234 - loss: 0.3485\n",
      "Epoch 5/20\n",
      "4659/4659 - 3s - 659us/step - AUC: 0.8444 - loss: 0.3318\n",
      "Epoch 6/20\n",
      "4659/4659 - 3s - 665us/step - AUC: 0.8576 - loss: 0.3219\n",
      "Epoch 7/20\n",
      "4659/4659 - 3s - 655us/step - AUC: 0.8644 - loss: 0.3153\n",
      "Epoch 8/20\n",
      "4659/4659 - 3s - 662us/step - AUC: 0.8670 - loss: 0.3115\n",
      "Epoch 9/20\n",
      "4659/4659 - 3s - 665us/step - AUC: 0.8712 - loss: 0.3056\n",
      "Epoch 10/20\n",
      "4659/4659 - 3s - 661us/step - AUC: 0.8741 - loss: 0.3006\n",
      "Epoch 11/20\n",
      "4659/4659 - 3s - 660us/step - AUC: 0.8753 - loss: 0.2972\n",
      "Epoch 12/20\n",
      "4659/4659 - 3s - 657us/step - AUC: 0.8773 - loss: 0.2938\n",
      "Epoch 13/20\n",
      "4659/4659 - 3s - 662us/step - AUC: 0.8776 - loss: 0.2920\n",
      "Epoch 14/20\n",
      "4659/4659 - 3s - 664us/step - AUC: 0.8791 - loss: 0.2903\n",
      "Epoch 15/20\n",
      "4659/4659 - 3s - 659us/step - AUC: 0.8791 - loss: 0.2908\n",
      "Epoch 16/20\n",
      "4659/4659 - 3s - 665us/step - AUC: 0.8801 - loss: 0.2889\n",
      "Epoch 17/20\n",
      "4659/4659 - 3s - 660us/step - AUC: 0.8809 - loss: 0.2886\n",
      "Epoch 18/20\n",
      "4659/4659 - 3s - 661us/step - AUC: 0.8817 - loss: 0.2873\n",
      "Epoch 19/20\n",
      "4659/4659 - 3s - 672us/step - AUC: 0.8814 - loss: 0.2878\n",
      "Epoch 20/20\n",
      "4659/4659 - 3s - 661us/step - AUC: 0.8821 - loss: 0.2867\n",
      "2330/2330 - 1s - 437us/step\n",
      "Epoch 1/20\n"
     ]
    },
    {
     "name": "stderr",
     "output_type": "stream",
     "text": [
      "c:\\Users\\JYXha\\AppData\\Local\\Programs\\Python\\Python310\\lib\\site-packages\\scikeras\\wrappers.py:925: UserWarning: ``build_fn`` will be renamed to ``model`` in a future release, at which point use of ``build_fn`` will raise an Error instead.\n",
      "  X, y = self._initialize(X, y)\n",
      "c:\\Users\\JYXha\\AppData\\Local\\Programs\\Python\\Python310\\lib\\site-packages\\keras\\src\\layers\\core\\dense.py:86: UserWarning: Do not pass an `input_shape`/`input_dim` argument to a layer. When using Sequential models, prefer using an `Input(shape)` object as the first layer in the model instead.\n",
      "  super().__init__(activity_regularizer=activity_regularizer, **kwargs)\n"
     ]
    },
    {
     "name": "stdout",
     "output_type": "stream",
     "text": [
      "4659/4659 - 3s - 650us/step - AUC: 0.7682 - loss: 0.4052\n",
      "Epoch 2/20\n",
      "4659/4659 - 2s - 512us/step - AUC: 0.7801 - loss: 0.3922\n",
      "Epoch 3/20\n",
      "4659/4659 - 2s - 510us/step - AUC: 0.7806 - loss: 0.3908\n",
      "Epoch 4/20\n",
      "4659/4659 - 2s - 513us/step - AUC: 0.7814 - loss: 0.3905\n",
      "Epoch 5/20\n",
      "4659/4659 - 2s - 516us/step - AUC: 0.7840 - loss: 0.3879\n",
      "Epoch 6/20\n",
      "4659/4659 - 2s - 524us/step - AUC: 0.8042 - loss: 0.3722\n",
      "Epoch 7/20\n",
      "4659/4659 - 2s - 510us/step - AUC: 0.8070 - loss: 0.3700\n",
      "Epoch 8/20\n",
      "4659/4659 - 2s - 523us/step - AUC: 0.8072 - loss: 0.3691\n",
      "Epoch 9/20\n",
      "4659/4659 - 2s - 523us/step - AUC: 0.8084 - loss: 0.3683\n",
      "Epoch 10/20\n",
      "4659/4659 - 2s - 535us/step - AUC: 0.8090 - loss: 0.3686\n",
      "Epoch 11/20\n",
      "4659/4659 - 2s - 518us/step - AUC: 0.8081 - loss: 0.3694\n",
      "Epoch 12/20\n",
      "4659/4659 - 2s - 514us/step - AUC: 0.8090 - loss: 0.3681\n",
      "Epoch 13/20\n",
      "4659/4659 - 2s - 508us/step - AUC: 0.8081 - loss: 0.3683\n",
      "Epoch 14/20\n",
      "4659/4659 - 2s - 514us/step - AUC: 0.8072 - loss: 0.3705\n",
      "Epoch 15/20\n",
      "4659/4659 - 2s - 519us/step - AUC: 0.8085 - loss: 0.3689\n",
      "Epoch 16/20\n",
      "4659/4659 - 2s - 508us/step - AUC: 0.8099 - loss: 0.3680\n",
      "Epoch 17/20\n",
      "4659/4659 - 2s - 513us/step - AUC: 0.8084 - loss: 0.3688\n",
      "Epoch 18/20\n",
      "4659/4659 - 2s - 530us/step - AUC: 0.8097 - loss: 0.3681\n",
      "Epoch 19/20\n",
      "4659/4659 - 2s - 522us/step - AUC: 0.8101 - loss: 0.3686\n",
      "Epoch 20/20\n",
      "4659/4659 - 2s - 525us/step - AUC: 0.8070 - loss: 0.3693\n",
      "2330/2330 - 1s - 422us/step\n",
      "Epoch 1/20\n"
     ]
    },
    {
     "name": "stderr",
     "output_type": "stream",
     "text": [
      "c:\\Users\\JYXha\\AppData\\Local\\Programs\\Python\\Python310\\lib\\site-packages\\scikeras\\wrappers.py:925: UserWarning: ``build_fn`` will be renamed to ``model`` in a future release, at which point use of ``build_fn`` will raise an Error instead.\n",
      "  X, y = self._initialize(X, y)\n",
      "c:\\Users\\JYXha\\AppData\\Local\\Programs\\Python\\Python310\\lib\\site-packages\\keras\\src\\layers\\core\\dense.py:86: UserWarning: Do not pass an `input_shape`/`input_dim` argument to a layer. When using Sequential models, prefer using an `Input(shape)` object as the first layer in the model instead.\n",
      "  super().__init__(activity_regularizer=activity_regularizer, **kwargs)\n"
     ]
    },
    {
     "name": "stdout",
     "output_type": "stream",
     "text": [
      "4659/4659 - 3s - 650us/step - AUC: 0.7684 - loss: 0.4085\n",
      "Epoch 2/20\n",
      "4659/4659 - 2s - 505us/step - AUC: 0.7811 - loss: 0.3875\n",
      "Epoch 3/20\n",
      "4659/4659 - 2s - 510us/step - AUC: 0.7843 - loss: 0.3845\n",
      "Epoch 4/20\n",
      "4659/4659 - 2s - 507us/step - AUC: 0.8093 - loss: 0.3661\n",
      "Epoch 5/20\n",
      "4659/4659 - 2s - 505us/step - AUC: 0.8122 - loss: 0.3621\n",
      "Epoch 6/20\n",
      "4659/4659 - 2s - 508us/step - AUC: 0.8111 - loss: 0.3629\n",
      "Epoch 7/20\n",
      "4659/4659 - 2s - 515us/step - AUC: 0.8128 - loss: 0.3617\n",
      "Epoch 8/20\n",
      "4659/4659 - 2s - 504us/step - AUC: 0.8138 - loss: 0.3609\n",
      "Epoch 9/20\n",
      "4659/4659 - 2s - 514us/step - AUC: 0.8139 - loss: 0.3604\n",
      "Epoch 10/20\n",
      "4659/4659 - 2s - 509us/step - AUC: 0.8129 - loss: 0.3615\n",
      "Epoch 11/20\n",
      "4659/4659 - 2s - 510us/step - AUC: 0.8145 - loss: 0.3605\n",
      "Epoch 12/20\n",
      "4659/4659 - 2s - 508us/step - AUC: 0.8152 - loss: 0.3596\n",
      "Epoch 13/20\n",
      "4659/4659 - 2s - 508us/step - AUC: 0.8144 - loss: 0.3599\n",
      "Epoch 14/20\n",
      "4659/4659 - 2s - 506us/step - AUC: 0.8134 - loss: 0.3605\n",
      "Epoch 15/20\n",
      "4659/4659 - 2s - 509us/step - AUC: 0.8137 - loss: 0.3605\n",
      "Epoch 16/20\n",
      "4659/4659 - 2s - 515us/step - AUC: 0.8138 - loss: 0.3602\n",
      "Epoch 17/20\n",
      "4659/4659 - 2s - 508us/step - AUC: 0.8135 - loss: 0.3608\n",
      "Epoch 18/20\n",
      "4659/4659 - 2s - 508us/step - AUC: 0.8143 - loss: 0.3599\n",
      "Epoch 19/20\n",
      "4659/4659 - 2s - 522us/step - AUC: 0.8142 - loss: 0.3606\n",
      "Epoch 20/20\n",
      "4659/4659 - 2s - 518us/step - AUC: 0.8144 - loss: 0.3598\n",
      "2330/2330 - 1s - 398us/step\n",
      "Epoch 1/20\n"
     ]
    },
    {
     "name": "stderr",
     "output_type": "stream",
     "text": [
      "c:\\Users\\JYXha\\AppData\\Local\\Programs\\Python\\Python310\\lib\\site-packages\\scikeras\\wrappers.py:925: UserWarning: ``build_fn`` will be renamed to ``model`` in a future release, at which point use of ``build_fn`` will raise an Error instead.\n",
      "  X, y = self._initialize(X, y)\n",
      "c:\\Users\\JYXha\\AppData\\Local\\Programs\\Python\\Python310\\lib\\site-packages\\keras\\src\\layers\\core\\dense.py:86: UserWarning: Do not pass an `input_shape`/`input_dim` argument to a layer. When using Sequential models, prefer using an `Input(shape)` object as the first layer in the model instead.\n",
      "  super().__init__(activity_regularizer=activity_regularizer, **kwargs)\n"
     ]
    },
    {
     "name": "stdout",
     "output_type": "stream",
     "text": [
      "4659/4659 - 3s - 657us/step - AUC: 0.7644 - loss: 0.4098\n",
      "Epoch 2/20\n",
      "4659/4659 - 2s - 511us/step - AUC: 0.7765 - loss: 0.3966\n",
      "Epoch 3/20\n",
      "4659/4659 - 2s - 519us/step - AUC: 0.7980 - loss: 0.3810\n",
      "Epoch 4/20\n",
      "4659/4659 - 2s - 512us/step - AUC: 0.8036 - loss: 0.3764\n",
      "Epoch 5/20\n",
      "4659/4659 - 2s - 511us/step - AUC: 0.8074 - loss: 0.3711\n",
      "Epoch 6/20\n",
      "4659/4659 - 2s - 507us/step - AUC: 0.8066 - loss: 0.3709\n",
      "Epoch 7/20\n",
      "4659/4659 - 2s - 513us/step - AUC: 0.8058 - loss: 0.3717\n",
      "Epoch 8/20\n",
      "4659/4659 - 2s - 512us/step - AUC: 0.8075 - loss: 0.3699\n",
      "Epoch 9/20\n",
      "4659/4659 - 2s - 521us/step - AUC: 0.8063 - loss: 0.3714\n",
      "Epoch 10/20\n",
      "4659/4659 - 2s - 518us/step - AUC: 0.8072 - loss: 0.3699\n",
      "Epoch 11/20\n",
      "4659/4659 - 2s - 515us/step - AUC: 0.8066 - loss: 0.3702\n",
      "Epoch 12/20\n",
      "4659/4659 - 2s - 508us/step - AUC: 0.8078 - loss: 0.3699\n",
      "Epoch 13/20\n",
      "4659/4659 - 2s - 515us/step - AUC: 0.8069 - loss: 0.3706\n",
      "Epoch 14/20\n",
      "4659/4659 - 2s - 508us/step - AUC: 0.8061 - loss: 0.3707\n",
      "Epoch 15/20\n",
      "4659/4659 - 2s - 511us/step - AUC: 0.8061 - loss: 0.3709\n",
      "Epoch 16/20\n",
      "4659/4659 - 2s - 511us/step - AUC: 0.8061 - loss: 0.3706\n",
      "Epoch 17/20\n",
      "4659/4659 - 2s - 517us/step - AUC: 0.8045 - loss: 0.3722\n",
      "Epoch 18/20\n",
      "4659/4659 - 2s - 508us/step - AUC: 0.8058 - loss: 0.3694\n",
      "Epoch 19/20\n",
      "4659/4659 - 2s - 508us/step - AUC: 0.8030 - loss: 0.3720\n",
      "Epoch 20/20\n",
      "4659/4659 - 2s - 502us/step - AUC: 0.8050 - loss: 0.3714\n",
      "2330/2330 - 1s - 389us/step\n",
      "Epoch 1/20\n"
     ]
    },
    {
     "name": "stderr",
     "output_type": "stream",
     "text": [
      "c:\\Users\\JYXha\\AppData\\Local\\Programs\\Python\\Python310\\lib\\site-packages\\scikeras\\wrappers.py:925: UserWarning: ``build_fn`` will be renamed to ``model`` in a future release, at which point use of ``build_fn`` will raise an Error instead.\n",
      "  X, y = self._initialize(X, y)\n",
      "c:\\Users\\JYXha\\AppData\\Local\\Programs\\Python\\Python310\\lib\\site-packages\\keras\\src\\layers\\core\\dense.py:86: UserWarning: Do not pass an `input_shape`/`input_dim` argument to a layer. When using Sequential models, prefer using an `Input(shape)` object as the first layer in the model instead.\n",
      "  super().__init__(activity_regularizer=activity_regularizer, **kwargs)\n"
     ]
    },
    {
     "name": "stdout",
     "output_type": "stream",
     "text": [
      "4659/4659 - 3s - 680us/step - AUC: 0.7495 - loss: 0.4262\n",
      "Epoch 2/20\n",
      "4659/4659 - 2s - 530us/step - AUC: 0.7604 - loss: 0.4139\n",
      "Epoch 3/20\n",
      "4659/4659 - 2s - 528us/step - AUC: 0.7610 - loss: 0.4120\n",
      "Epoch 4/20\n",
      "4659/4659 - 2s - 529us/step - AUC: 0.7635 - loss: 0.4097\n",
      "Epoch 5/20\n",
      "4659/4659 - 2s - 527us/step - AUC: 0.7639 - loss: 0.4102\n",
      "Epoch 6/20\n",
      "4659/4659 - 2s - 527us/step - AUC: 0.7648 - loss: 0.4089\n",
      "Epoch 7/20\n",
      "4659/4659 - 2s - 528us/step - AUC: 0.7610 - loss: 0.4113\n",
      "Epoch 8/20\n",
      "4659/4659 - 2s - 528us/step - AUC: 0.7618 - loss: 0.4095\n",
      "Epoch 9/20\n",
      "4659/4659 - 2s - 531us/step - AUC: 0.7655 - loss: 0.4079\n",
      "Epoch 10/20\n",
      "4659/4659 - 2s - 527us/step - AUC: 0.7773 - loss: 0.4003\n",
      "Epoch 11/20\n",
      "4659/4659 - 2s - 533us/step - AUC: 0.7850 - loss: 0.3936\n",
      "Epoch 12/20\n",
      "4659/4659 - 2s - 528us/step - AUC: 0.7883 - loss: 0.3901\n",
      "Epoch 13/20\n",
      "4659/4659 - 3s - 537us/step - AUC: 0.7884 - loss: 0.3901\n",
      "Epoch 14/20\n",
      "4659/4659 - 3s - 543us/step - AUC: 0.7879 - loss: 0.3904\n",
      "Epoch 15/20\n",
      "4659/4659 - 2s - 535us/step - AUC: 0.7864 - loss: 0.3907\n",
      "Epoch 16/20\n",
      "4659/4659 - 2s - 534us/step - AUC: 0.7873 - loss: 0.3901\n",
      "Epoch 17/20\n",
      "4659/4659 - 2s - 536us/step - AUC: 0.7888 - loss: 0.3894\n",
      "Epoch 18/20\n",
      "4659/4659 - 3s - 538us/step - AUC: 0.7880 - loss: 0.3905\n",
      "Epoch 19/20\n",
      "4659/4659 - 2s - 536us/step - AUC: 0.7881 - loss: 0.3896\n",
      "Epoch 20/20\n",
      "4659/4659 - 3s - 537us/step - AUC: 0.7878 - loss: 0.3903\n",
      "2330/2330 - 1s - 403us/step\n",
      "Epoch 1/20\n"
     ]
    },
    {
     "name": "stderr",
     "output_type": "stream",
     "text": [
      "c:\\Users\\JYXha\\AppData\\Local\\Programs\\Python\\Python310\\lib\\site-packages\\scikeras\\wrappers.py:925: UserWarning: ``build_fn`` will be renamed to ``model`` in a future release, at which point use of ``build_fn`` will raise an Error instead.\n",
      "  X, y = self._initialize(X, y)\n",
      "c:\\Users\\JYXha\\AppData\\Local\\Programs\\Python\\Python310\\lib\\site-packages\\keras\\src\\layers\\core\\dense.py:86: UserWarning: Do not pass an `input_shape`/`input_dim` argument to a layer. When using Sequential models, prefer using an `Input(shape)` object as the first layer in the model instead.\n",
      "  super().__init__(activity_regularizer=activity_regularizer, **kwargs)\n"
     ]
    },
    {
     "name": "stdout",
     "output_type": "stream",
     "text": [
      "4659/4659 - 3s - 689us/step - AUC: 0.7489 - loss: 0.4324\n",
      "Epoch 2/20\n",
      "4659/4659 - 2s - 529us/step - AUC: 0.7613 - loss: 0.4129\n",
      "Epoch 3/20\n",
      "4659/4659 - 2s - 530us/step - AUC: 0.7662 - loss: 0.4016\n",
      "Epoch 4/20\n",
      "4659/4659 - 2s - 530us/step - AUC: 0.7698 - loss: 0.3974\n",
      "Epoch 5/20\n",
      "4659/4659 - 3s - 548us/step - AUC: 0.7707 - loss: 0.3974\n",
      "Epoch 6/20\n",
      "4659/4659 - 2s - 530us/step - AUC: 0.7839 - loss: 0.3861\n",
      "Epoch 7/20\n",
      "4659/4659 - 2s - 534us/step - AUC: 0.7900 - loss: 0.3815\n",
      "Epoch 8/20\n",
      "4659/4659 - 2s - 528us/step - AUC: 0.7948 - loss: 0.3785\n",
      "Epoch 9/20\n",
      "4659/4659 - 2s - 532us/step - AUC: 0.7952 - loss: 0.3765\n",
      "Epoch 10/20\n",
      "4659/4659 - 2s - 528us/step - AUC: 0.7973 - loss: 0.3750\n",
      "Epoch 11/20\n",
      "4659/4659 - 2s - 530us/step - AUC: 0.7954 - loss: 0.3758\n",
      "Epoch 12/20\n",
      "4659/4659 - 2s - 531us/step - AUC: 0.7952 - loss: 0.3743\n",
      "Epoch 13/20\n",
      "4659/4659 - 3s - 538us/step - AUC: 0.7941 - loss: 0.3766\n",
      "Epoch 14/20\n",
      "4659/4659 - 2s - 536us/step - AUC: 0.7945 - loss: 0.3756\n",
      "Epoch 15/20\n",
      "4659/4659 - 3s - 549us/step - AUC: 0.7946 - loss: 0.3755\n",
      "Epoch 16/20\n",
      "4659/4659 - 2s - 534us/step - AUC: 0.7914 - loss: 0.3772\n",
      "Epoch 17/20\n",
      "4659/4659 - 2s - 537us/step - AUC: 0.7918 - loss: 0.3759\n",
      "Epoch 18/20\n",
      "4659/4659 - 2s - 533us/step - AUC: 0.7894 - loss: 0.3773\n",
      "Epoch 19/20\n",
      "4659/4659 - 3s - 544us/step - AUC: 0.7919 - loss: 0.3779\n",
      "Epoch 20/20\n",
      "4659/4659 - 3s - 541us/step - AUC: 0.7926 - loss: 0.3766\n",
      "2330/2330 - 1s - 409us/step\n",
      "Epoch 1/20\n"
     ]
    },
    {
     "name": "stderr",
     "output_type": "stream",
     "text": [
      "c:\\Users\\JYXha\\AppData\\Local\\Programs\\Python\\Python310\\lib\\site-packages\\scikeras\\wrappers.py:925: UserWarning: ``build_fn`` will be renamed to ``model`` in a future release, at which point use of ``build_fn`` will raise an Error instead.\n",
      "  X, y = self._initialize(X, y)\n",
      "c:\\Users\\JYXha\\AppData\\Local\\Programs\\Python\\Python310\\lib\\site-packages\\keras\\src\\layers\\core\\dense.py:86: UserWarning: Do not pass an `input_shape`/`input_dim` argument to a layer. When using Sequential models, prefer using an `Input(shape)` object as the first layer in the model instead.\n",
      "  super().__init__(activity_regularizer=activity_regularizer, **kwargs)\n"
     ]
    },
    {
     "name": "stdout",
     "output_type": "stream",
     "text": [
      "4659/4659 - 3s - 667us/step - AUC: 0.7587 - loss: 0.4126\n",
      "Epoch 2/20\n",
      "4659/4659 - 2s - 523us/step - AUC: 0.7730 - loss: 0.3897\n",
      "Epoch 3/20\n",
      "4659/4659 - 2s - 520us/step - AUC: 0.7730 - loss: 0.3876\n",
      "Epoch 4/20\n",
      "4659/4659 - 2s - 522us/step - AUC: 0.7749 - loss: 0.3853\n",
      "Epoch 5/20\n",
      "4659/4659 - 2s - 523us/step - AUC: 0.7721 - loss: 0.3883\n",
      "Epoch 6/20\n",
      "4659/4659 - 2s - 525us/step - AUC: 0.7706 - loss: 0.3876\n",
      "Epoch 7/20\n",
      "4659/4659 - 2s - 521us/step - AUC: 0.7786 - loss: 0.3835\n",
      "Epoch 8/20\n",
      "4659/4659 - 2s - 530us/step - AUC: 0.7919 - loss: 0.3731\n",
      "Epoch 9/20\n",
      "4659/4659 - 3s - 538us/step - AUC: 0.8014 - loss: 0.3652\n",
      "Epoch 10/20\n",
      "4659/4659 - 2s - 533us/step - AUC: 0.8042 - loss: 0.3631\n",
      "Epoch 11/20\n",
      "4659/4659 - 2s - 535us/step - AUC: 0.8038 - loss: 0.3631\n",
      "Epoch 12/20\n",
      "4659/4659 - 2s - 532us/step - AUC: 0.8053 - loss: 0.3621\n",
      "Epoch 13/20\n",
      "4659/4659 - 2s - 532us/step - AUC: 0.8073 - loss: 0.3592\n",
      "Epoch 14/20\n",
      "4659/4659 - 2s - 523us/step - AUC: 0.8044 - loss: 0.3613\n",
      "Epoch 15/20\n",
      "4659/4659 - 2s - 530us/step - AUC: 0.8044 - loss: 0.3632\n",
      "Epoch 16/20\n",
      "4659/4659 - 2s - 528us/step - AUC: 0.8008 - loss: 0.3630\n",
      "Epoch 17/20\n",
      "4659/4659 - 2s - 528us/step - AUC: 0.8025 - loss: 0.3617\n",
      "Epoch 18/20\n",
      "4659/4659 - 2s - 527us/step - AUC: 0.8024 - loss: 0.3616\n",
      "Epoch 19/20\n",
      "4659/4659 - 2s - 536us/step - AUC: 0.8026 - loss: 0.3612\n",
      "Epoch 20/20\n",
      "4659/4659 - 2s - 526us/step - AUC: 0.8032 - loss: 0.3615\n",
      "2330/2330 - 1s - 534us/step\n",
      "Epoch 1/20\n"
     ]
    },
    {
     "name": "stderr",
     "output_type": "stream",
     "text": [
      "c:\\Users\\JYXha\\AppData\\Local\\Programs\\Python\\Python310\\lib\\site-packages\\scikeras\\wrappers.py:925: UserWarning: ``build_fn`` will be renamed to ``model`` in a future release, at which point use of ``build_fn`` will raise an Error instead.\n",
      "  X, y = self._initialize(X, y)\n",
      "c:\\Users\\JYXha\\AppData\\Local\\Programs\\Python\\Python310\\lib\\site-packages\\keras\\src\\layers\\core\\dense.py:86: UserWarning: Do not pass an `input_shape`/`input_dim` argument to a layer. When using Sequential models, prefer using an `Input(shape)` object as the first layer in the model instead.\n",
      "  super().__init__(activity_regularizer=activity_regularizer, **kwargs)\n"
     ]
    },
    {
     "name": "stdout",
     "output_type": "stream",
     "text": [
      "4659/4659 - 3s - 650us/step - AUC: 0.7797 - loss: 0.3900\n",
      "Epoch 2/20\n",
      "4659/4659 - 2s - 514us/step - AUC: 0.7945 - loss: 0.3710\n",
      "Epoch 3/20\n",
      "4659/4659 - 2s - 514us/step - AUC: 0.8314 - loss: 0.3430\n",
      "Epoch 4/20\n",
      "4659/4659 - 2s - 514us/step - AUC: 0.8395 - loss: 0.3353\n",
      "Epoch 5/20\n",
      "4659/4659 - 2s - 511us/step - AUC: 0.8404 - loss: 0.3350\n",
      "Epoch 6/20\n",
      "4659/4659 - 2s - 519us/step - AUC: 0.8427 - loss: 0.3329\n",
      "Epoch 7/20\n",
      "4659/4659 - 2s - 516us/step - AUC: 0.8432 - loss: 0.3323\n",
      "Epoch 8/20\n",
      "4659/4659 - 2s - 514us/step - AUC: 0.8475 - loss: 0.3288\n",
      "Epoch 9/20\n",
      "4659/4659 - 2s - 513us/step - AUC: 0.8551 - loss: 0.3196\n",
      "Epoch 10/20\n",
      "4659/4659 - 2s - 514us/step - AUC: 0.8571 - loss: 0.3170\n",
      "Epoch 11/20\n",
      "4659/4659 - 2s - 512us/step - AUC: 0.8586 - loss: 0.3158\n",
      "Epoch 12/20\n",
      "4659/4659 - 2s - 513us/step - AUC: 0.8587 - loss: 0.3149\n",
      "Epoch 13/20\n",
      "4659/4659 - 2s - 510us/step - AUC: 0.8574 - loss: 0.3176\n",
      "Epoch 14/20\n",
      "4659/4659 - 2s - 513us/step - AUC: 0.8585 - loss: 0.3141\n",
      "Epoch 15/20\n",
      "4659/4659 - 2s - 512us/step - AUC: 0.8592 - loss: 0.3147\n",
      "Epoch 16/20\n",
      "4659/4659 - 2s - 515us/step - AUC: 0.8584 - loss: 0.3159\n",
      "Epoch 17/20\n",
      "4659/4659 - 2s - 512us/step - AUC: 0.8592 - loss: 0.3136\n",
      "Epoch 18/20\n",
      "4659/4659 - 2s - 515us/step - AUC: 0.8594 - loss: 0.3144\n",
      "Epoch 19/20\n",
      "4659/4659 - 2s - 510us/step - AUC: 0.8594 - loss: 0.3132\n",
      "Epoch 20/20\n",
      "4659/4659 - 2s - 513us/step - AUC: 0.8593 - loss: 0.3145\n",
      "2330/2330 - 1s - 395us/step\n",
      "Epoch 1/20\n"
     ]
    },
    {
     "name": "stderr",
     "output_type": "stream",
     "text": [
      "c:\\Users\\JYXha\\AppData\\Local\\Programs\\Python\\Python310\\lib\\site-packages\\scikeras\\wrappers.py:925: UserWarning: ``build_fn`` will be renamed to ``model`` in a future release, at which point use of ``build_fn`` will raise an Error instead.\n",
      "  X, y = self._initialize(X, y)\n",
      "c:\\Users\\JYXha\\AppData\\Local\\Programs\\Python\\Python310\\lib\\site-packages\\keras\\src\\layers\\core\\dense.py:86: UserWarning: Do not pass an `input_shape`/`input_dim` argument to a layer. When using Sequential models, prefer using an `Input(shape)` object as the first layer in the model instead.\n",
      "  super().__init__(activity_regularizer=activity_regularizer, **kwargs)\n"
     ]
    },
    {
     "name": "stdout",
     "output_type": "stream",
     "text": [
      "4659/4659 - 3s - 654us/step - AUC: 0.7786 - loss: 0.3928\n",
      "Epoch 2/20\n",
      "4659/4659 - 2s - 515us/step - AUC: 0.7921 - loss: 0.3738\n",
      "Epoch 3/20\n",
      "4659/4659 - 2s - 507us/step - AUC: 0.8239 - loss: 0.3495\n",
      "Epoch 4/20\n",
      "4659/4659 - 2s - 506us/step - AUC: 0.8271 - loss: 0.3456\n",
      "Epoch 5/20\n",
      "4659/4659 - 2s - 505us/step - AUC: 0.8285 - loss: 0.3451\n",
      "Epoch 6/20\n",
      "4659/4659 - 2s - 507us/step - AUC: 0.8289 - loss: 0.3448\n",
      "Epoch 7/20\n",
      "4659/4659 - 2s - 504us/step - AUC: 0.8290 - loss: 0.3439\n",
      "Epoch 8/20\n",
      "4659/4659 - 2s - 515us/step - AUC: 0.8300 - loss: 0.3437\n",
      "Epoch 9/20\n",
      "4659/4659 - 2s - 517us/step - AUC: 0.8303 - loss: 0.3431\n",
      "Epoch 10/20\n",
      "4659/4659 - 3s - 540us/step - AUC: 0.8309 - loss: 0.3420\n",
      "Epoch 11/20\n",
      "4659/4659 - 2s - 531us/step - AUC: 0.8303 - loss: 0.3433\n",
      "Epoch 12/20\n",
      "4659/4659 - 2s - 513us/step - AUC: 0.8311 - loss: 0.3418\n",
      "Epoch 13/20\n",
      "4659/4659 - 2s - 509us/step - AUC: 0.8316 - loss: 0.3422\n",
      "Epoch 14/20\n",
      "4659/4659 - 2s - 507us/step - AUC: 0.8307 - loss: 0.3426\n",
      "Epoch 15/20\n",
      "4659/4659 - 2s - 503us/step - AUC: 0.8315 - loss: 0.3415\n",
      "Epoch 16/20\n",
      "4659/4659 - 2s - 506us/step - AUC: 0.8302 - loss: 0.3427\n",
      "Epoch 17/20\n",
      "4659/4659 - 2s - 502us/step - AUC: 0.8317 - loss: 0.3414\n",
      "Epoch 18/20\n",
      "4659/4659 - 2s - 509us/step - AUC: 0.8304 - loss: 0.3428\n",
      "Epoch 19/20\n",
      "4659/4659 - 2s - 506us/step - AUC: 0.8307 - loss: 0.3424\n",
      "Epoch 20/20\n",
      "4659/4659 - 2s - 501us/step - AUC: 0.8305 - loss: 0.3428\n",
      "2330/2330 - 1s - 393us/step\n",
      "Epoch 1/20\n"
     ]
    },
    {
     "name": "stderr",
     "output_type": "stream",
     "text": [
      "c:\\Users\\JYXha\\AppData\\Local\\Programs\\Python\\Python310\\lib\\site-packages\\scikeras\\wrappers.py:925: UserWarning: ``build_fn`` will be renamed to ``model`` in a future release, at which point use of ``build_fn`` will raise an Error instead.\n",
      "  X, y = self._initialize(X, y)\n",
      "c:\\Users\\JYXha\\AppData\\Local\\Programs\\Python\\Python310\\lib\\site-packages\\keras\\src\\layers\\core\\dense.py:86: UserWarning: Do not pass an `input_shape`/`input_dim` argument to a layer. When using Sequential models, prefer using an `Input(shape)` object as the first layer in the model instead.\n",
      "  super().__init__(activity_regularizer=activity_regularizer, **kwargs)\n"
     ]
    },
    {
     "name": "stdout",
     "output_type": "stream",
     "text": [
      "4659/4659 - 3s - 659us/step - AUC: 0.7766 - loss: 0.3951\n",
      "Epoch 2/20\n",
      "4659/4659 - 2s - 505us/step - AUC: 0.7994 - loss: 0.3698\n",
      "Epoch 3/20\n",
      "4659/4659 - 2s - 506us/step - AUC: 0.8360 - loss: 0.3416\n",
      "Epoch 4/20\n",
      "4659/4659 - 2s - 502us/step - AUC: 0.8403 - loss: 0.3374\n",
      "Epoch 5/20\n",
      "4659/4659 - 2s - 514us/step - AUC: 0.8467 - loss: 0.3319\n",
      "Epoch 6/20\n",
      "4659/4659 - 2s - 511us/step - AUC: 0.8523 - loss: 0.3236\n",
      "Epoch 7/20\n",
      "4659/4659 - 2s - 522us/step - AUC: 0.8535 - loss: 0.3213\n",
      "Epoch 8/20\n",
      "4659/4659 - 2s - 512us/step - AUC: 0.8550 - loss: 0.3213\n",
      "Epoch 9/20\n",
      "4659/4659 - 2s - 510us/step - AUC: 0.8535 - loss: 0.3207\n",
      "Epoch 10/20\n",
      "4659/4659 - 2s - 505us/step - AUC: 0.8543 - loss: 0.3193\n",
      "Epoch 11/20\n",
      "4659/4659 - 2s - 517us/step - AUC: 0.8555 - loss: 0.3184\n",
      "Epoch 12/20\n",
      "4659/4659 - 2s - 519us/step - AUC: 0.8552 - loss: 0.3177\n",
      "Epoch 13/20\n",
      "4659/4659 - 2s - 524us/step - AUC: 0.8556 - loss: 0.3179\n",
      "Epoch 14/20\n",
      "4659/4659 - 2s - 533us/step - AUC: 0.8535 - loss: 0.3189\n",
      "Epoch 15/20\n",
      "4659/4659 - 2s - 521us/step - AUC: 0.8552 - loss: 0.3170\n",
      "Epoch 16/20\n",
      "4659/4659 - 2s - 509us/step - AUC: 0.8559 - loss: 0.3169\n",
      "Epoch 17/20\n",
      "4659/4659 - 2s - 511us/step - AUC: 0.8554 - loss: 0.3173\n",
      "Epoch 18/20\n",
      "4659/4659 - 2s - 512us/step - AUC: 0.8550 - loss: 0.3183\n",
      "Epoch 19/20\n",
      "4659/4659 - 2s - 511us/step - AUC: 0.8549 - loss: 0.3176\n",
      "Epoch 20/20\n",
      "4659/4659 - 2s - 508us/step - AUC: 0.8550 - loss: 0.3180\n",
      "2330/2330 - 1s - 394us/step\n",
      "Epoch 1/20\n"
     ]
    },
    {
     "name": "stderr",
     "output_type": "stream",
     "text": [
      "c:\\Users\\JYXha\\AppData\\Local\\Programs\\Python\\Python310\\lib\\site-packages\\scikeras\\wrappers.py:925: UserWarning: ``build_fn`` will be renamed to ``model`` in a future release, at which point use of ``build_fn`` will raise an Error instead.\n",
      "  X, y = self._initialize(X, y)\n",
      "c:\\Users\\JYXha\\AppData\\Local\\Programs\\Python\\Python310\\lib\\site-packages\\keras\\src\\layers\\core\\dense.py:86: UserWarning: Do not pass an `input_shape`/`input_dim` argument to a layer. When using Sequential models, prefer using an `Input(shape)` object as the first layer in the model instead.\n",
      "  super().__init__(activity_regularizer=activity_regularizer, **kwargs)\n"
     ]
    },
    {
     "name": "stdout",
     "output_type": "stream",
     "text": [
      "4659/4659 - 4s - 818us/step - AUC: 0.7905 - loss: 0.3804\n",
      "Epoch 2/20\n",
      "4659/4659 - 3s - 660us/step - AUC: 0.8059 - loss: 0.3593\n",
      "Epoch 3/20\n",
      "4659/4659 - 3s - 661us/step - AUC: 0.8109 - loss: 0.3562\n",
      "Epoch 4/20\n",
      "4659/4659 - 3s - 665us/step - AUC: 0.8591 - loss: 0.3190\n",
      "Epoch 5/20\n",
      "4659/4659 - 3s - 658us/step - AUC: 0.8814 - loss: 0.2899\n",
      "Epoch 6/20\n",
      "4659/4659 - 3s - 656us/step - AUC: 0.8844 - loss: 0.2843\n",
      "Epoch 7/20\n",
      "4659/4659 - 3s - 673us/step - AUC: 0.8856 - loss: 0.2815\n",
      "Epoch 8/20\n",
      "4659/4659 - 3s - 675us/step - AUC: 0.8865 - loss: 0.2802\n",
      "Epoch 9/20\n",
      "4659/4659 - 3s - 663us/step - AUC: 0.8879 - loss: 0.2787\n",
      "Epoch 10/20\n",
      "4659/4659 - 3s - 660us/step - AUC: 0.8885 - loss: 0.2774\n",
      "Epoch 11/20\n",
      "4659/4659 - 3s - 652us/step - AUC: 0.8893 - loss: 0.2775\n",
      "Epoch 12/20\n",
      "4659/4659 - 3s - 647us/step - AUC: 0.8898 - loss: 0.2763\n",
      "Epoch 13/20\n",
      "4659/4659 - 3s - 655us/step - AUC: 0.8904 - loss: 0.2757\n",
      "Epoch 14/20\n",
      "4659/4659 - 3s - 646us/step - AUC: 0.8910 - loss: 0.2754\n",
      "Epoch 15/20\n",
      "4659/4659 - 3s - 667us/step - AUC: 0.8912 - loss: 0.2748\n",
      "Epoch 16/20\n",
      "4659/4659 - 3s - 649us/step - AUC: 0.8919 - loss: 0.2741\n",
      "Epoch 17/20\n",
      "4659/4659 - 3s - 657us/step - AUC: 0.8928 - loss: 0.2735\n",
      "Epoch 18/20\n",
      "4659/4659 - 3s - 653us/step - AUC: 0.8924 - loss: 0.2738\n",
      "Epoch 19/20\n",
      "4659/4659 - 3s - 660us/step - AUC: 0.8933 - loss: 0.2734\n",
      "Epoch 20/20\n",
      "4659/4659 - 3s - 654us/step - AUC: 0.8943 - loss: 0.2722\n",
      "2330/2330 - 1s - 422us/step\n",
      "Epoch 1/20\n"
     ]
    },
    {
     "name": "stderr",
     "output_type": "stream",
     "text": [
      "c:\\Users\\JYXha\\AppData\\Local\\Programs\\Python\\Python310\\lib\\site-packages\\scikeras\\wrappers.py:925: UserWarning: ``build_fn`` will be renamed to ``model`` in a future release, at which point use of ``build_fn`` will raise an Error instead.\n",
      "  X, y = self._initialize(X, y)\n",
      "c:\\Users\\JYXha\\AppData\\Local\\Programs\\Python\\Python310\\lib\\site-packages\\keras\\src\\layers\\core\\dense.py:86: UserWarning: Do not pass an `input_shape`/`input_dim` argument to a layer. When using Sequential models, prefer using an `Input(shape)` object as the first layer in the model instead.\n",
      "  super().__init__(activity_regularizer=activity_regularizer, **kwargs)\n"
     ]
    },
    {
     "name": "stdout",
     "output_type": "stream",
     "text": [
      "4659/4659 - 4s - 798us/step - AUC: 0.7901 - loss: 0.3817\n",
      "Epoch 2/20\n",
      "4659/4659 - 3s - 657us/step - AUC: 0.8050 - loss: 0.3602\n",
      "Epoch 3/20\n",
      "4659/4659 - 3s - 654us/step - AUC: 0.8244 - loss: 0.3475\n",
      "Epoch 4/20\n",
      "4659/4659 - 3s - 660us/step - AUC: 0.8652 - loss: 0.3137\n",
      "Epoch 5/20\n",
      "4659/4659 - 3s - 664us/step - AUC: 0.8821 - loss: 0.2900\n",
      "Epoch 6/20\n",
      "4659/4659 - 3s - 656us/step - AUC: 0.8851 - loss: 0.2839\n",
      "Epoch 7/20\n",
      "4659/4659 - 3s - 663us/step - AUC: 0.8867 - loss: 0.2803\n",
      "Epoch 8/20\n",
      "4659/4659 - 3s - 671us/step - AUC: 0.8876 - loss: 0.2791\n",
      "Epoch 9/20\n",
      "4659/4659 - 3s - 663us/step - AUC: 0.8886 - loss: 0.2775\n",
      "Epoch 10/20\n",
      "4659/4659 - 3s - 671us/step - AUC: 0.8884 - loss: 0.2774\n",
      "Epoch 11/20\n",
      "4659/4659 - 3s - 672us/step - AUC: 0.8902 - loss: 0.2759\n",
      "Epoch 12/20\n",
      "4659/4659 - 3s - 692us/step - AUC: 0.8906 - loss: 0.2753\n",
      "Epoch 13/20\n",
      "4659/4659 - 3s - 668us/step - AUC: 0.8912 - loss: 0.2744\n",
      "Epoch 14/20\n",
      "4659/4659 - 3s - 665us/step - AUC: 0.8919 - loss: 0.2738\n",
      "Epoch 15/20\n",
      "4659/4659 - 3s - 659us/step - AUC: 0.8922 - loss: 0.2738\n",
      "Epoch 16/20\n",
      "4659/4659 - 3s - 676us/step - AUC: 0.8934 - loss: 0.2732\n",
      "Epoch 17/20\n",
      "4659/4659 - 3s - 662us/step - AUC: 0.8932 - loss: 0.2727\n",
      "Epoch 18/20\n",
      "4659/4659 - 3s - 668us/step - AUC: 0.8939 - loss: 0.2720\n",
      "Epoch 19/20\n",
      "4659/4659 - 3s - 662us/step - AUC: 0.8946 - loss: 0.2713\n",
      "Epoch 20/20\n",
      "4659/4659 - 3s - 665us/step - AUC: 0.8953 - loss: 0.2708\n",
      "2330/2330 - 1s - 444us/step\n",
      "Epoch 1/20\n"
     ]
    },
    {
     "name": "stderr",
     "output_type": "stream",
     "text": [
      "c:\\Users\\JYXha\\AppData\\Local\\Programs\\Python\\Python310\\lib\\site-packages\\scikeras\\wrappers.py:925: UserWarning: ``build_fn`` will be renamed to ``model`` in a future release, at which point use of ``build_fn`` will raise an Error instead.\n",
      "  X, y = self._initialize(X, y)\n",
      "c:\\Users\\JYXha\\AppData\\Local\\Programs\\Python\\Python310\\lib\\site-packages\\keras\\src\\layers\\core\\dense.py:86: UserWarning: Do not pass an `input_shape`/`input_dim` argument to a layer. When using Sequential models, prefer using an `Input(shape)` object as the first layer in the model instead.\n",
      "  super().__init__(activity_regularizer=activity_regularizer, **kwargs)\n"
     ]
    },
    {
     "name": "stdout",
     "output_type": "stream",
     "text": [
      "4659/4659 - 4s - 818us/step - AUC: 0.7888 - loss: 0.3810\n",
      "Epoch 2/20\n",
      "4659/4659 - 3s - 676us/step - AUC: 0.8036 - loss: 0.3607\n",
      "Epoch 3/20\n",
      "4659/4659 - 3s - 678us/step - AUC: 0.8305 - loss: 0.3433\n",
      "Epoch 4/20\n",
      "4659/4659 - 3s - 677us/step - AUC: 0.8708 - loss: 0.3078\n",
      "Epoch 5/20\n",
      "4659/4659 - 3s - 685us/step - AUC: 0.8814 - loss: 0.2929\n",
      "Epoch 6/20\n",
      "4659/4659 - 3s - 674us/step - AUC: 0.8836 - loss: 0.2888\n",
      "Epoch 7/20\n",
      "4659/4659 - 3s - 687us/step - AUC: 0.8851 - loss: 0.2850\n",
      "Epoch 8/20\n",
      "4659/4659 - 3s - 668us/step - AUC: 0.8858 - loss: 0.2828\n",
      "Epoch 9/20\n",
      "4659/4659 - 3s - 670us/step - AUC: 0.8871 - loss: 0.2801\n",
      "Epoch 10/20\n",
      "4659/4659 - 3s - 666us/step - AUC: 0.8881 - loss: 0.2784\n",
      "Epoch 11/20\n",
      "4659/4659 - 3s - 664us/step - AUC: 0.8890 - loss: 0.2772\n",
      "Epoch 12/20\n",
      "4659/4659 - 3s - 659us/step - AUC: 0.8894 - loss: 0.2766\n",
      "Epoch 13/20\n",
      "4659/4659 - 3s - 664us/step - AUC: 0.8903 - loss: 0.2754\n",
      "Epoch 14/20\n",
      "4659/4659 - 3s - 660us/step - AUC: 0.8907 - loss: 0.2755\n",
      "Epoch 15/20\n",
      "4659/4659 - 3s - 664us/step - AUC: 0.8924 - loss: 0.2739\n",
      "Epoch 16/20\n",
      "4659/4659 - 3s - 664us/step - AUC: 0.8922 - loss: 0.2734\n",
      "Epoch 17/20\n",
      "4659/4659 - 3s - 673us/step - AUC: 0.8932 - loss: 0.2726\n",
      "Epoch 18/20\n",
      "4659/4659 - 3s - 662us/step - AUC: 0.8938 - loss: 0.2720\n",
      "Epoch 19/20\n",
      "4659/4659 - 3s - 664us/step - AUC: 0.8938 - loss: 0.2717\n",
      "Epoch 20/20\n",
      "4659/4659 - 3s - 665us/step - AUC: 0.8942 - loss: 0.2715\n",
      "2330/2330 - 1s - 426us/step\n",
      "Epoch 1/20\n"
     ]
    },
    {
     "name": "stderr",
     "output_type": "stream",
     "text": [
      "c:\\Users\\JYXha\\AppData\\Local\\Programs\\Python\\Python310\\lib\\site-packages\\scikeras\\wrappers.py:925: UserWarning: ``build_fn`` will be renamed to ``model`` in a future release, at which point use of ``build_fn`` will raise an Error instead.\n",
      "  X, y = self._initialize(X, y)\n",
      "c:\\Users\\JYXha\\AppData\\Local\\Programs\\Python\\Python310\\lib\\site-packages\\keras\\src\\layers\\core\\dense.py:86: UserWarning: Do not pass an `input_shape`/`input_dim` argument to a layer. When using Sequential models, prefer using an `Input(shape)` object as the first layer in the model instead.\n",
      "  super().__init__(activity_regularizer=activity_regularizer, **kwargs)\n"
     ]
    },
    {
     "name": "stdout",
     "output_type": "stream",
     "text": [
      "6988/6988 - 5s - 753us/step - AUC: 0.7946 - loss: 0.3744\n",
      "Epoch 2/20\n",
      "6988/6988 - 5s - 658us/step - AUC: 0.8245 - loss: 0.3474\n",
      "Epoch 3/20\n",
      "6988/6988 - 5s - 657us/step - AUC: 0.8752 - loss: 0.3013\n",
      "Epoch 4/20\n",
      "6988/6988 - 5s - 657us/step - AUC: 0.8822 - loss: 0.2878\n",
      "Epoch 5/20\n",
      "6988/6988 - 5s - 658us/step - AUC: 0.8843 - loss: 0.2826\n",
      "Epoch 6/20\n",
      "6988/6988 - 5s - 662us/step - AUC: 0.8859 - loss: 0.2806\n",
      "Epoch 7/20\n",
      "6988/6988 - 5s - 654us/step - AUC: 0.8866 - loss: 0.2792\n",
      "Epoch 8/20\n",
      "6988/6988 - 5s - 658us/step - AUC: 0.8869 - loss: 0.2784\n",
      "Epoch 9/20\n",
      "6988/6988 - 5s - 654us/step - AUC: 0.8877 - loss: 0.2780\n",
      "Epoch 10/20\n",
      "6988/6988 - 5s - 656us/step - AUC: 0.8884 - loss: 0.2772\n",
      "Epoch 11/20\n",
      "6988/6988 - 5s - 657us/step - AUC: 0.8891 - loss: 0.2765\n",
      "Epoch 12/20\n",
      "6988/6988 - 5s - 655us/step - AUC: 0.8896 - loss: 0.2762\n",
      "Epoch 13/20\n",
      "6988/6988 - 5s - 657us/step - AUC: 0.8898 - loss: 0.2758\n",
      "Epoch 14/20\n",
      "6988/6988 - 5s - 664us/step - AUC: 0.8902 - loss: 0.2753\n",
      "Epoch 15/20\n",
      "6988/6988 - 5s - 657us/step - AUC: 0.8911 - loss: 0.2746\n",
      "Epoch 16/20\n",
      "6988/6988 - 5s - 657us/step - AUC: 0.8910 - loss: 0.2747\n",
      "Epoch 17/20\n",
      "6988/6988 - 5s - 656us/step - AUC: 0.8914 - loss: 0.2742\n",
      "Epoch 18/20\n",
      "6988/6988 - 5s - 656us/step - AUC: 0.8919 - loss: 0.2740\n",
      "Epoch 19/20\n",
      "6988/6988 - 5s - 655us/step - AUC: 0.8924 - loss: 0.2735\n",
      "Epoch 20/20\n",
      "6988/6988 - 5s - 658us/step - AUC: 0.8925 - loss: 0.2733\n"
     ]
    }
   ],
   "source": [
    "nn_tuning_f1 = RandomizedSearchCV(estimator=pipeline,\n",
    "                                   param_distributions=param_grid,\n",
    "                                   n_iter=8,\n",
    "                                   cv=3,\n",
    "                                   random_state=42,\n",
    "                                   scoring='f1_weighted')\n",
    "\n",
    "r_nn_tuning_f1= nn_tuning_f1.fit(X_train_minmax, y_train)"
   ]
  },
  {
   "cell_type": "code",
   "execution_count": 38,
   "metadata": {},
   "outputs": [
    {
     "name": "stdout",
     "output_type": "stream",
     "text": [
      "3515/3515 - 2s - 429us/step\n",
      "Test Result:\n",
      "================================================\n",
      "Accuracy Score: 88.73%\n",
      "_______________________________________________\n",
      "CLASSIFICATION REPORT:\n",
      "                      0             1  accuracy      macro avg   weighted avg\n",
      "precision      0.878849      0.973202  0.887271       0.926026       0.897456\n",
      "recall         0.997020      0.440501  0.887271       0.718761       0.887271\n",
      "f1-score       0.934213      0.606488  0.887271       0.770350       0.869583\n",
      "support    90279.000000  22177.000000  0.887271  112456.000000  112456.000000\n",
      "_______________________________________________\n",
      "Confusion Matrix: \n",
      " [[90010   269]\n",
      " [12408  9769]]\n",
      "\n",
      "Area Under the Precision-Recall Curve (AUPRC): 0.5390\n"
     ]
    }
   ],
   "source": [
    "y_test_pred_f1 = nn_tuning_f1.predict(X_test_minmax)\n",
    "evaluate_nn(y_test, y_test_pred_f1, train=False)"
   ]
  },
  {
   "cell_type": "code",
   "execution_count": 39,
   "metadata": {},
   "outputs": [
    {
     "data": {
      "image/png": "[encoded data removed]",
      "text/plain": [
       "<Figure size 800x600 with 2 Axes>"
      ]
     },
     "metadata": {},
     "output_type": "display_data"
    },
    {
     "data": {
      "image/png": "[encoded data removed]",
      "text/plain": [
       "<Figure size 800x600 with 1 Axes>"
      ]
     },
     "metadata": {},
     "output_type": "display_data"
    },
    {
     "name": "stdout",
     "output_type": "stream",
     "text": [
      "0.4375217684227059\n"
     ]
    }
   ],
   "source": [
    "y_pred_op_f1 = (y_test_pred_f1 > 0.5).astype(int)\n",
    "\n",
    "cm = confusion_matrix(y_test, y_pred_op_f1)\n",
    "\n",
    "fig, ax = plt.subplots(figsize=(8, 6))\n",
    "sns.heatmap(cm, annot=True, fmt='d', cmap='Blues', ax=ax)\n",
    "ax.set_xlabel('Predicted Labels')\n",
    "ax.set_ylabel('True Labels')\n",
    "ax.set_title('Confusion Matrix')\n",
    "ax.xaxis.set_ticklabels(['Fully Paid', 'Default'])\n",
    "ax.yaxis.set_ticklabels(['Fully Paid', 'Default'])\n",
    "plt.show()\n",
    "\n",
    "fpr, tpr, _ = roc_curve(y_test, y_test_pred_f1)\n",
    "roc_auc = auc(fpr, tpr)\n",
    "\n",
    "# Plot ROC curve\n",
    "plt.figure(figsize=(8, 6))\n",
    "plt.plot(fpr, tpr, color='darkorange', lw=2, label=f'ROC curve (area = {roc_auc:.2f})')\n",
    "plt.xlim([0.0, 1.0])\n",
    "plt.ylim([0.0, 1.05])\n",
    "plt.xlabel('False Positive Rate')\n",
    "plt.ylabel('True Positive Rate')\n",
    "plt.legend(loc=\"lower right\")\n",
    "plt.show()\n",
    "\n",
    "# Calculate True Positive Rate (TPR) and False Positive Rate (FPR)\n",
    "fpr, tpr, thresholds = roc_curve(y_test, y_test_pred_f1)\n",
    "\n",
    "# Calculate Kolmogorov-Smirnov measure (KS)\n",
    "ks = max(tpr - fpr)\n",
    "\n",
    "print(ks)"
   ]
  },
  {
   "cell_type": "markdown",
   "metadata": {},
   "source": [
    "## AUC: PRC"
   ]
  },
  {
   "cell_type": "code",
   "execution_count": 40,
   "metadata": {},
   "outputs": [
    {
     "name": "stderr",
     "output_type": "stream",
     "text": [
      "c:\\Users\\JYXha\\AppData\\Local\\Programs\\Python\\Python310\\lib\\site-packages\\sklearn\\metrics\\_scorer.py:548: FutureWarning: The `needs_threshold` and `needs_proba` parameter are deprecated in version 1.4 and will be removed in 1.6. You can either let `response_method` be `None` or set it to `predict` to preserve the same behaviour.\n",
      "  warnings.warn(\n",
      "c:\\Users\\JYXha\\AppData\\Local\\Programs\\Python\\Python310\\lib\\site-packages\\scikeras\\wrappers.py:925: UserWarning: ``build_fn`` will be renamed to ``model`` in a future release, at which point use of ``build_fn`` will raise an Error instead.\n",
      "  X, y = self._initialize(X, y)\n",
      "c:\\Users\\JYXha\\AppData\\Local\\Programs\\Python\\Python310\\lib\\site-packages\\keras\\src\\layers\\core\\dense.py:86: UserWarning: Do not pass an `input_shape`/`input_dim` argument to a layer. When using Sequential models, prefer using an `Input(shape)` object as the first layer in the model instead.\n",
      "  super().__init__(activity_regularizer=activity_regularizer, **kwargs)\n"
     ]
    },
    {
     "name": "stdout",
     "output_type": "stream",
     "text": [
      "Epoch 1/20\n",
      "4659/4659 - 4s - 813us/step - AUC: 0.7750 - loss: 0.3940\n",
      "Epoch 2/20\n",
      "4659/4659 - 3s - 655us/step - AUC: 0.7860 - loss: 0.3765\n",
      "Epoch 3/20\n",
      "4659/4659 - 3s - 651us/step - AUC: 0.7982 - loss: 0.3670\n",
      "Epoch 4/20\n",
      "4659/4659 - 3s - 654us/step - AUC: 0.8177 - loss: 0.3531\n",
      "Epoch 5/20\n",
      "4659/4659 - 3s - 648us/step - AUC: 0.8203 - loss: 0.3508\n",
      "Epoch 6/20\n",
      "4659/4659 - 3s - 653us/step - AUC: 0.8196 - loss: 0.3507\n",
      "Epoch 7/20\n",
      "4659/4659 - 3s - 655us/step - AUC: 0.8192 - loss: 0.3506\n",
      "Epoch 8/20\n",
      "4659/4659 - 3s - 654us/step - AUC: 0.8209 - loss: 0.3501\n",
      "Epoch 9/20\n",
      "4659/4659 - 3s - 657us/step - AUC: 0.8195 - loss: 0.3502\n",
      "Epoch 10/20\n",
      "4659/4659 - 3s - 650us/step - AUC: 0.8206 - loss: 0.3500\n",
      "Epoch 11/20\n",
      "4659/4659 - 3s - 658us/step - AUC: 0.8203 - loss: 0.3501\n",
      "Epoch 12/20\n",
      "4659/4659 - 3s - 652us/step - AUC: 0.8203 - loss: 0.3499\n",
      "Epoch 13/20\n",
      "4659/4659 - 3s - 658us/step - AUC: 0.8187 - loss: 0.3504\n",
      "Epoch 14/20\n",
      "4659/4659 - 3s - 658us/step - AUC: 0.8198 - loss: 0.3503\n",
      "Epoch 15/20\n",
      "4659/4659 - 3s - 665us/step - AUC: 0.8196 - loss: 0.3502\n",
      "Epoch 16/20\n",
      "4659/4659 - 3s - 658us/step - AUC: 0.8191 - loss: 0.3507\n",
      "Epoch 17/20\n",
      "4659/4659 - 3s - 662us/step - AUC: 0.8188 - loss: 0.3502\n",
      "Epoch 18/20\n",
      "4659/4659 - 3s - 653us/step - AUC: 0.8204 - loss: 0.3495\n",
      "Epoch 19/20\n",
      "4659/4659 - 3s - 658us/step - AUC: 0.8210 - loss: 0.3503\n",
      "Epoch 20/20\n",
      "4659/4659 - 3s - 654us/step - AUC: 0.8194 - loss: 0.3497\n",
      "2330/2330 - 1s - 427us/step\n",
      "Epoch 1/20\n"
     ]
    },
    {
     "name": "stderr",
     "output_type": "stream",
     "text": [
      "c:\\Users\\JYXha\\AppData\\Local\\Programs\\Python\\Python310\\lib\\site-packages\\scikeras\\wrappers.py:925: UserWarning: ``build_fn`` will be renamed to ``model`` in a future release, at which point use of ``build_fn`` will raise an Error instead.\n",
      "  X, y = self._initialize(X, y)\n",
      "c:\\Users\\JYXha\\AppData\\Local\\Programs\\Python\\Python310\\lib\\site-packages\\keras\\src\\layers\\core\\dense.py:86: UserWarning: Do not pass an `input_shape`/`input_dim` argument to a layer. When using Sequential models, prefer using an `Input(shape)` object as the first layer in the model instead.\n",
      "  super().__init__(activity_regularizer=activity_regularizer, **kwargs)\n"
     ]
    },
    {
     "name": "stdout",
     "output_type": "stream",
     "text": [
      "4659/4659 - 4s - 806us/step - AUC: 0.7749 - loss: 0.3933\n",
      "Epoch 2/20\n",
      "4659/4659 - 3s - 664us/step - AUC: 0.7859 - loss: 0.3765\n",
      "Epoch 3/20\n",
      "4659/4659 - 3s - 658us/step - AUC: 0.7968 - loss: 0.3689\n",
      "Epoch 4/20\n",
      "4659/4659 - 3s - 663us/step - AUC: 0.8122 - loss: 0.3564\n",
      "Epoch 5/20\n",
      "4659/4659 - 3s - 657us/step - AUC: 0.8170 - loss: 0.3525\n",
      "Epoch 6/20\n",
      "4659/4659 - 3s - 663us/step - AUC: 0.8175 - loss: 0.3521\n",
      "Epoch 7/20\n",
      "4659/4659 - 3s - 654us/step - AUC: 0.8205 - loss: 0.3501\n",
      "Epoch 8/20\n",
      "4659/4659 - 3s - 658us/step - AUC: 0.8262 - loss: 0.3463\n",
      "Epoch 9/20\n",
      "4659/4659 - 3s - 658us/step - AUC: 0.8279 - loss: 0.3444\n",
      "Epoch 10/20\n",
      "4659/4659 - 3s - 660us/step - AUC: 0.8278 - loss: 0.3446\n",
      "Epoch 11/20\n",
      "4659/4659 - 3s - 659us/step - AUC: 0.8276 - loss: 0.3448\n",
      "Epoch 12/20\n",
      "4659/4659 - 3s - 661us/step - AUC: 0.8296 - loss: 0.3429\n",
      "Epoch 13/20\n",
      "4659/4659 - 3s - 662us/step - AUC: 0.8280 - loss: 0.3440\n",
      "Epoch 14/20\n",
      "4659/4659 - 3s - 668us/step - AUC: 0.8289 - loss: 0.3427\n",
      "Epoch 15/20\n",
      "4659/4659 - 3s - 664us/step - AUC: 0.8286 - loss: 0.3443\n",
      "Epoch 16/20\n",
      "4659/4659 - 3s - 667us/step - AUC: 0.8286 - loss: 0.3443\n",
      "Epoch 17/20\n",
      "4659/4659 - 3s - 664us/step - AUC: 0.8285 - loss: 0.3447\n",
      "Epoch 18/20\n",
      "4659/4659 - 3s - 657us/step - AUC: 0.8290 - loss: 0.3426\n",
      "Epoch 19/20\n",
      "4659/4659 - 3s - 658us/step - AUC: 0.8290 - loss: 0.3427\n",
      "Epoch 20/20\n",
      "4659/4659 - 3s - 664us/step - AUC: 0.8283 - loss: 0.3430\n",
      "2330/2330 - 1s - 431us/step\n",
      "Epoch 1/20\n"
     ]
    },
    {
     "name": "stderr",
     "output_type": "stream",
     "text": [
      "c:\\Users\\JYXha\\AppData\\Local\\Programs\\Python\\Python310\\lib\\site-packages\\scikeras\\wrappers.py:925: UserWarning: ``build_fn`` will be renamed to ``model`` in a future release, at which point use of ``build_fn`` will raise an Error instead.\n",
      "  X, y = self._initialize(X, y)\n",
      "c:\\Users\\JYXha\\AppData\\Local\\Programs\\Python\\Python310\\lib\\site-packages\\keras\\src\\layers\\core\\dense.py:86: UserWarning: Do not pass an `input_shape`/`input_dim` argument to a layer. When using Sequential models, prefer using an `Input(shape)` object as the first layer in the model instead.\n",
      "  super().__init__(activity_regularizer=activity_regularizer, **kwargs)\n"
     ]
    },
    {
     "name": "stdout",
     "output_type": "stream",
     "text": [
      "4659/4659 - 4s - 820us/step - AUC: 0.7748 - loss: 0.3936\n",
      "Epoch 2/20\n",
      "4659/4659 - 3s - 669us/step - AUC: 0.7915 - loss: 0.3730\n",
      "Epoch 3/20\n",
      "4659/4659 - 3s - 660us/step - AUC: 0.8177 - loss: 0.3532\n",
      "Epoch 4/20\n",
      "4659/4659 - 3s - 668us/step - AUC: 0.8216 - loss: 0.3494\n",
      "Epoch 5/20\n",
      "4659/4659 - 3s - 677us/step - AUC: 0.8228 - loss: 0.3489\n",
      "Epoch 6/20\n",
      "4659/4659 - 3s - 670us/step - AUC: 0.8238 - loss: 0.3485\n",
      "Epoch 7/20\n",
      "4659/4659 - 3s - 667us/step - AUC: 0.8230 - loss: 0.3482\n",
      "Epoch 8/20\n",
      "4659/4659 - 3s - 656us/step - AUC: 0.8229 - loss: 0.3480\n",
      "Epoch 9/20\n",
      "4659/4659 - 3s - 660us/step - AUC: 0.8215 - loss: 0.3489\n",
      "Epoch 10/20\n",
      "4659/4659 - 3s - 659us/step - AUC: 0.8222 - loss: 0.3486\n",
      "Epoch 11/20\n",
      "4659/4659 - 3s - 665us/step - AUC: 0.8219 - loss: 0.3480\n",
      "Epoch 12/20\n",
      "4659/4659 - 3s - 659us/step - AUC: 0.8237 - loss: 0.3477\n",
      "Epoch 13/20\n",
      "4659/4659 - 3s - 652us/step - AUC: 0.8209 - loss: 0.3500\n",
      "Epoch 14/20\n",
      "4659/4659 - 3s - 677us/step - AUC: 0.8207 - loss: 0.3500\n",
      "Epoch 15/20\n",
      "4659/4659 - 3s - 656us/step - AUC: 0.8208 - loss: 0.3482\n",
      "Epoch 16/20\n",
      "4659/4659 - 3s - 672us/step - AUC: 0.8223 - loss: 0.3479\n",
      "Epoch 17/20\n",
      "4659/4659 - 3s - 666us/step - AUC: 0.8231 - loss: 0.3485\n",
      "Epoch 18/20\n",
      "4659/4659 - 3s - 659us/step - AUC: 0.8236 - loss: 0.3477\n",
      "Epoch 19/20\n",
      "4659/4659 - 3s - 669us/step - AUC: 0.8238 - loss: 0.3473\n",
      "Epoch 20/20\n",
      "4659/4659 - 3s - 660us/step - AUC: 0.8205 - loss: 0.3486\n",
      "2330/2330 - 1s - 439us/step\n",
      "Epoch 1/20\n"
     ]
    },
    {
     "name": "stderr",
     "output_type": "stream",
     "text": [
      "c:\\Users\\JYXha\\AppData\\Local\\Programs\\Python\\Python310\\lib\\site-packages\\scikeras\\wrappers.py:925: UserWarning: ``build_fn`` will be renamed to ``model`` in a future release, at which point use of ``build_fn`` will raise an Error instead.\n",
      "  X, y = self._initialize(X, y)\n",
      "c:\\Users\\JYXha\\AppData\\Local\\Programs\\Python\\Python310\\lib\\site-packages\\keras\\src\\layers\\core\\dense.py:86: UserWarning: Do not pass an `input_shape`/`input_dim` argument to a layer. When using Sequential models, prefer using an `Input(shape)` object as the first layer in the model instead.\n",
      "  super().__init__(activity_regularizer=activity_regularizer, **kwargs)\n"
     ]
    },
    {
     "name": "stdout",
     "output_type": "stream",
     "text": [
      "4659/4659 - 4s - 761us/step - AUC: 0.7405 - loss: 0.4369\n",
      "Epoch 2/20\n",
      "4659/4659 - 2s - 523us/step - AUC: 0.7808 - loss: 0.3926\n",
      "Epoch 3/20\n",
      "4659/4659 - 2s - 515us/step - AUC: 0.7883 - loss: 0.3787\n",
      "Epoch 4/20\n",
      "4659/4659 - 2s - 521us/step - AUC: 0.7922 - loss: 0.3747\n",
      "Epoch 5/20\n",
      "4659/4659 - 2s - 512us/step - AUC: 0.7943 - loss: 0.3716\n",
      "Epoch 6/20\n",
      "4659/4659 - 2s - 519us/step - AUC: 0.8058 - loss: 0.3653\n",
      "Epoch 7/20\n",
      "4659/4659 - 2s - 513us/step - AUC: 0.8204 - loss: 0.3542\n",
      "Epoch 8/20\n",
      "4659/4659 - 2s - 520us/step - AUC: 0.8239 - loss: 0.3506\n",
      "Epoch 9/20\n",
      "4659/4659 - 2s - 523us/step - AUC: 0.8256 - loss: 0.3485\n",
      "Epoch 10/20\n",
      "4659/4659 - 2s - 518us/step - AUC: 0.8255 - loss: 0.3478\n",
      "Epoch 11/20\n",
      "4659/4659 - 2s - 515us/step - AUC: 0.8265 - loss: 0.3474\n",
      "Epoch 12/20\n",
      "4659/4659 - 2s - 517us/step - AUC: 0.8256 - loss: 0.3479\n",
      "Epoch 13/20\n",
      "4659/4659 - 2s - 519us/step - AUC: 0.8270 - loss: 0.3469\n",
      "Epoch 14/20\n",
      "4659/4659 - 2s - 518us/step - AUC: 0.8273 - loss: 0.3466\n",
      "Epoch 15/20\n",
      "4659/4659 - 2s - 516us/step - AUC: 0.8271 - loss: 0.3468\n",
      "Epoch 16/20\n",
      "4659/4659 - 2s - 524us/step - AUC: 0.8273 - loss: 0.3466\n",
      "Epoch 17/20\n",
      "4659/4659 - 2s - 524us/step - AUC: 0.8275 - loss: 0.3467\n",
      "Epoch 18/20\n",
      "4659/4659 - 2s - 524us/step - AUC: 0.8279 - loss: 0.3460\n",
      "Epoch 19/20\n",
      "4659/4659 - 2s - 521us/step - AUC: 0.8277 - loss: 0.3470\n",
      "Epoch 20/20\n",
      "4659/4659 - 2s - 521us/step - AUC: 0.8284 - loss: 0.3457\n",
      "2330/2330 - 1s - 396us/step\n",
      "Epoch 1/20\n"
     ]
    },
    {
     "name": "stderr",
     "output_type": "stream",
     "text": [
      "c:\\Users\\JYXha\\AppData\\Local\\Programs\\Python\\Python310\\lib\\site-packages\\scikeras\\wrappers.py:925: UserWarning: ``build_fn`` will be renamed to ``model`` in a future release, at which point use of ``build_fn`` will raise an Error instead.\n",
      "  X, y = self._initialize(X, y)\n",
      "c:\\Users\\JYXha\\AppData\\Local\\Programs\\Python\\Python310\\lib\\site-packages\\keras\\src\\layers\\core\\dense.py:86: UserWarning: Do not pass an `input_shape`/`input_dim` argument to a layer. When using Sequential models, prefer using an `Input(shape)` object as the first layer in the model instead.\n",
      "  super().__init__(activity_regularizer=activity_regularizer, **kwargs)\n"
     ]
    },
    {
     "name": "stdout",
     "output_type": "stream",
     "text": [
      "4659/4659 - 3s - 668us/step - AUC: 0.7124 - loss: 0.4531\n",
      "Epoch 2/20\n",
      "4659/4659 - 2s - 523us/step - AUC: 0.7771 - loss: 0.3897\n",
      "Epoch 3/20\n",
      "4659/4659 - 2s - 518us/step - AUC: 0.7870 - loss: 0.3754\n",
      "Epoch 4/20\n",
      "4659/4659 - 2s - 525us/step - AUC: 0.7906 - loss: 0.3723\n",
      "Epoch 5/20\n",
      "4659/4659 - 2s - 527us/step - AUC: 0.7980 - loss: 0.3691\n",
      "Epoch 6/20\n",
      "4659/4659 - 2s - 521us/step - AUC: 0.8118 - loss: 0.3611\n",
      "Epoch 7/20\n",
      "4659/4659 - 2s - 520us/step - AUC: 0.8207 - loss: 0.3533\n",
      "Epoch 8/20\n",
      "4659/4659 - 2s - 528us/step - AUC: 0.8213 - loss: 0.3509\n",
      "Epoch 9/20\n",
      "4659/4659 - 2s - 517us/step - AUC: 0.8219 - loss: 0.3501\n",
      "Epoch 10/20\n",
      "4659/4659 - 2s - 521us/step - AUC: 0.8223 - loss: 0.3491\n",
      "Epoch 11/20\n",
      "4659/4659 - 2s - 518us/step - AUC: 0.8220 - loss: 0.3494\n",
      "Epoch 12/20\n",
      "4659/4659 - 3s - 539us/step - AUC: 0.8230 - loss: 0.3479\n",
      "Epoch 13/20\n",
      "4659/4659 - 2s - 526us/step - AUC: 0.8242 - loss: 0.3475\n",
      "Epoch 14/20\n",
      "4659/4659 - 2s - 530us/step - AUC: 0.8240 - loss: 0.3469\n",
      "Epoch 15/20\n",
      "4659/4659 - 2s - 523us/step - AUC: 0.8242 - loss: 0.3466\n",
      "Epoch 16/20\n",
      "4659/4659 - 2s - 525us/step - AUC: 0.8241 - loss: 0.3470\n",
      "Epoch 17/20\n",
      "4659/4659 - 2s - 519us/step - AUC: 0.8253 - loss: 0.3466\n",
      "Epoch 18/20\n",
      "4659/4659 - 2s - 516us/step - AUC: 0.8243 - loss: 0.3466\n",
      "Epoch 19/20\n",
      "4659/4659 - 2s - 518us/step - AUC: 0.8246 - loss: 0.3466\n",
      "Epoch 20/20\n",
      "4659/4659 - 2s - 522us/step - AUC: 0.8254 - loss: 0.3459\n",
      "2330/2330 - 1s - 401us/step\n",
      "Epoch 1/20\n"
     ]
    },
    {
     "name": "stderr",
     "output_type": "stream",
     "text": [
      "c:\\Users\\JYXha\\AppData\\Local\\Programs\\Python\\Python310\\lib\\site-packages\\scikeras\\wrappers.py:925: UserWarning: ``build_fn`` will be renamed to ``model`` in a future release, at which point use of ``build_fn`` will raise an Error instead.\n",
      "  X, y = self._initialize(X, y)\n",
      "c:\\Users\\JYXha\\AppData\\Local\\Programs\\Python\\Python310\\lib\\site-packages\\keras\\src\\layers\\core\\dense.py:86: UserWarning: Do not pass an `input_shape`/`input_dim` argument to a layer. When using Sequential models, prefer using an `Input(shape)` object as the first layer in the model instead.\n",
      "  super().__init__(activity_regularizer=activity_regularizer, **kwargs)\n"
     ]
    },
    {
     "name": "stdout",
     "output_type": "stream",
     "text": [
      "4659/4659 - 3s - 675us/step - AUC: 0.7324 - loss: 0.4395\n",
      "Epoch 2/20\n",
      "4659/4659 - 2s - 523us/step - AUC: 0.7797 - loss: 0.3901\n",
      "Epoch 3/20\n",
      "4659/4659 - 2s - 515us/step - AUC: 0.7891 - loss: 0.3755\n",
      "Epoch 4/20\n",
      "4659/4659 - 2s - 519us/step - AUC: 0.7963 - loss: 0.3705\n",
      "Epoch 5/20\n",
      "4659/4659 - 2s - 515us/step - AUC: 0.8083 - loss: 0.3613\n",
      "Epoch 6/20\n",
      "4659/4659 - 2s - 519us/step - AUC: 0.8106 - loss: 0.3591\n",
      "Epoch 7/20\n",
      "4659/4659 - 2s - 517us/step - AUC: 0.8114 - loss: 0.3575\n",
      "Epoch 8/20\n",
      "4659/4659 - 2s - 526us/step - AUC: 0.8139 - loss: 0.3554\n",
      "Epoch 9/20\n",
      "4659/4659 - 2s - 516us/step - AUC: 0.8149 - loss: 0.3552\n",
      "Epoch 10/20\n",
      "4659/4659 - 2s - 516us/step - AUC: 0.8150 - loss: 0.3551\n",
      "Epoch 11/20\n",
      "4659/4659 - 2s - 520us/step - AUC: 0.8228 - loss: 0.3507\n",
      "Epoch 12/20\n",
      "4659/4659 - 2s - 522us/step - AUC: 0.8256 - loss: 0.3483\n",
      "Epoch 13/20\n",
      "4659/4659 - 2s - 523us/step - AUC: 0.8274 - loss: 0.3463\n",
      "Epoch 14/20\n",
      "4659/4659 - 2s - 518us/step - AUC: 0.8274 - loss: 0.3460\n",
      "Epoch 15/20\n",
      "4659/4659 - 2s - 522us/step - AUC: 0.8273 - loss: 0.3464\n",
      "Epoch 16/20\n",
      "4659/4659 - 2s - 526us/step - AUC: 0.8274 - loss: 0.3459\n",
      "Epoch 17/20\n",
      "4659/4659 - 2s - 529us/step - AUC: 0.8275 - loss: 0.3452\n",
      "Epoch 18/20\n",
      "4659/4659 - 2s - 527us/step - AUC: 0.8276 - loss: 0.3460\n",
      "Epoch 19/20\n",
      "4659/4659 - 2s - 523us/step - AUC: 0.8279 - loss: 0.3454\n",
      "Epoch 20/20\n",
      "4659/4659 - 2s - 530us/step - AUC: 0.8287 - loss: 0.3448\n",
      "2330/2330 - 1s - 410us/step\n",
      "Epoch 1/20\n"
     ]
    },
    {
     "name": "stderr",
     "output_type": "stream",
     "text": [
      "c:\\Users\\JYXha\\AppData\\Local\\Programs\\Python\\Python310\\lib\\site-packages\\scikeras\\wrappers.py:925: UserWarning: ``build_fn`` will be renamed to ``model`` in a future release, at which point use of ``build_fn`` will raise an Error instead.\n",
      "  X, y = self._initialize(X, y)\n",
      "c:\\Users\\JYXha\\AppData\\Local\\Programs\\Python\\Python310\\lib\\site-packages\\keras\\src\\layers\\core\\dense.py:86: UserWarning: Do not pass an `input_shape`/`input_dim` argument to a layer. When using Sequential models, prefer using an `Input(shape)` object as the first layer in the model instead.\n",
      "  super().__init__(activity_regularizer=activity_regularizer, **kwargs)\n"
     ]
    },
    {
     "name": "stdout",
     "output_type": "stream",
     "text": [
      "4659/4659 - 3s - 733us/step - AUC: 0.7760 - loss: 0.3933\n",
      "Epoch 2/20\n",
      "4659/4659 - 3s - 589us/step - AUC: 0.7919 - loss: 0.3733\n",
      "Epoch 3/20\n",
      "4659/4659 - 3s - 587us/step - AUC: 0.8161 - loss: 0.3545\n",
      "Epoch 4/20\n",
      "4659/4659 - 3s - 597us/step - AUC: 0.8183 - loss: 0.3516\n",
      "Epoch 5/20\n",
      "4659/4659 - 3s - 581us/step - AUC: 0.8180 - loss: 0.3508\n",
      "Epoch 6/20\n",
      "4659/4659 - 3s - 585us/step - AUC: 0.8198 - loss: 0.3507\n",
      "Epoch 7/20\n",
      "4659/4659 - 3s - 593us/step - AUC: 0.8217 - loss: 0.3486\n",
      "Epoch 8/20\n",
      "4659/4659 - 3s - 587us/step - AUC: 0.8198 - loss: 0.3504\n",
      "Epoch 9/20\n",
      "4659/4659 - 3s - 582us/step - AUC: 0.8208 - loss: 0.3490\n",
      "Epoch 10/20\n",
      "4659/4659 - 3s - 590us/step - AUC: 0.8216 - loss: 0.3492\n",
      "Epoch 11/20\n",
      "4659/4659 - 3s - 580us/step - AUC: 0.8199 - loss: 0.3499\n",
      "Epoch 12/20\n",
      "4659/4659 - 3s - 587us/step - AUC: 0.8213 - loss: 0.3491\n",
      "Epoch 13/20\n",
      "4659/4659 - 3s - 576us/step - AUC: 0.8199 - loss: 0.3498\n",
      "Epoch 14/20\n",
      "4659/4659 - 3s - 581us/step - AUC: 0.8214 - loss: 0.3489\n",
      "Epoch 15/20\n",
      "4659/4659 - 3s - 582us/step - AUC: 0.8209 - loss: 0.3489\n",
      "Epoch 16/20\n",
      "4659/4659 - 3s - 587us/step - AUC: 0.8205 - loss: 0.3490\n",
      "Epoch 17/20\n",
      "4659/4659 - 3s - 585us/step - AUC: 0.8207 - loss: 0.3489\n",
      "Epoch 18/20\n",
      "4659/4659 - 3s - 587us/step - AUC: 0.8211 - loss: 0.3489\n",
      "Epoch 19/20\n",
      "4659/4659 - 3s - 584us/step - AUC: 0.8211 - loss: 0.3495\n",
      "Epoch 20/20\n",
      "4659/4659 - 3s - 587us/step - AUC: 0.8212 - loss: 0.3489\n",
      "2330/2330 - 1s - 409us/step\n",
      "Epoch 1/20\n"
     ]
    },
    {
     "name": "stderr",
     "output_type": "stream",
     "text": [
      "c:\\Users\\JYXha\\AppData\\Local\\Programs\\Python\\Python310\\lib\\site-packages\\scikeras\\wrappers.py:925: UserWarning: ``build_fn`` will be renamed to ``model`` in a future release, at which point use of ``build_fn`` will raise an Error instead.\n",
      "  X, y = self._initialize(X, y)\n",
      "c:\\Users\\JYXha\\AppData\\Local\\Programs\\Python\\Python310\\lib\\site-packages\\keras\\src\\layers\\core\\dense.py:86: UserWarning: Do not pass an `input_shape`/`input_dim` argument to a layer. When using Sequential models, prefer using an `Input(shape)` object as the first layer in the model instead.\n",
      "  super().__init__(activity_regularizer=activity_regularizer, **kwargs)\n"
     ]
    },
    {
     "name": "stdout",
     "output_type": "stream",
     "text": [
      "4659/4659 - 3s - 732us/step - AUC: 0.7744 - loss: 0.3965\n",
      "Epoch 2/20\n",
      "4659/4659 - 3s - 590us/step - AUC: 0.7864 - loss: 0.3768\n",
      "Epoch 3/20\n",
      "4659/4659 - 3s - 567us/step - AUC: 0.7883 - loss: 0.3743\n",
      "Epoch 4/20\n",
      "4659/4659 - 3s - 578us/step - AUC: 0.8138 - loss: 0.3562\n",
      "Epoch 5/20\n",
      "4659/4659 - 3s - 584us/step - AUC: 0.8272 - loss: 0.3467\n",
      "Epoch 6/20\n",
      "4659/4659 - 3s - 579us/step - AUC: 0.8329 - loss: 0.3414\n",
      "Epoch 7/20\n",
      "4659/4659 - 3s - 585us/step - AUC: 0.8317 - loss: 0.3417\n",
      "Epoch 8/20\n",
      "4659/4659 - 3s - 569us/step - AUC: 0.8328 - loss: 0.3406\n",
      "Epoch 9/20\n",
      "4659/4659 - 3s - 573us/step - AUC: 0.8315 - loss: 0.3431\n",
      "Epoch 10/20\n",
      "4659/4659 - 3s - 578us/step - AUC: 0.8335 - loss: 0.3407\n",
      "Epoch 11/20\n",
      "4659/4659 - 3s - 571us/step - AUC: 0.8335 - loss: 0.3404\n",
      "Epoch 12/20\n",
      "4659/4659 - 3s - 568us/step - AUC: 0.8344 - loss: 0.3403\n",
      "Epoch 13/20\n",
      "4659/4659 - 3s - 568us/step - AUC: 0.8340 - loss: 0.3397\n",
      "Epoch 14/20\n",
      "4659/4659 - 3s - 566us/step - AUC: 0.8348 - loss: 0.3394\n",
      "Epoch 15/20\n",
      "4659/4659 - 3s - 571us/step - AUC: 0.8340 - loss: 0.3395\n",
      "Epoch 16/20\n",
      "4659/4659 - 3s - 567us/step - AUC: 0.8339 - loss: 0.3399\n",
      "Epoch 17/20\n",
      "4659/4659 - 3s - 571us/step - AUC: 0.8335 - loss: 0.3395\n",
      "Epoch 18/20\n",
      "4659/4659 - 3s - 565us/step - AUC: 0.8303 - loss: 0.3414\n",
      "Epoch 19/20\n",
      "4659/4659 - 3s - 567us/step - AUC: 0.8328 - loss: 0.3409\n",
      "Epoch 20/20\n",
      "4659/4659 - 3s - 579us/step - AUC: 0.8339 - loss: 0.3396\n",
      "2330/2330 - 1s - 422us/step\n",
      "Epoch 1/20\n"
     ]
    },
    {
     "name": "stderr",
     "output_type": "stream",
     "text": [
      "c:\\Users\\JYXha\\AppData\\Local\\Programs\\Python\\Python310\\lib\\site-packages\\scikeras\\wrappers.py:925: UserWarning: ``build_fn`` will be renamed to ``model`` in a future release, at which point use of ``build_fn`` will raise an Error instead.\n",
      "  X, y = self._initialize(X, y)\n",
      "c:\\Users\\JYXha\\AppData\\Local\\Programs\\Python\\Python310\\lib\\site-packages\\keras\\src\\layers\\core\\dense.py:86: UserWarning: Do not pass an `input_shape`/`input_dim` argument to a layer. When using Sequential models, prefer using an `Input(shape)` object as the first layer in the model instead.\n",
      "  super().__init__(activity_regularizer=activity_regularizer, **kwargs)\n"
     ]
    },
    {
     "name": "stdout",
     "output_type": "stream",
     "text": [
      "4659/4659 - 3s - 716us/step - AUC: 0.7745 - loss: 0.3948\n",
      "Epoch 2/20\n",
      "4659/4659 - 3s - 579us/step - AUC: 0.7834 - loss: 0.3793\n",
      "Epoch 3/20\n",
      "4659/4659 - 3s - 577us/step - AUC: 0.7911 - loss: 0.3731\n",
      "Epoch 4/20\n",
      "4659/4659 - 3s - 574us/step - AUC: 0.8143 - loss: 0.3557\n",
      "Epoch 5/20\n",
      "4659/4659 - 3s - 574us/step - AUC: 0.8175 - loss: 0.3525\n",
      "Epoch 6/20\n",
      "4659/4659 - 3s - 572us/step - AUC: 0.8187 - loss: 0.3521\n",
      "Epoch 7/20\n",
      "4659/4659 - 3s - 590us/step - AUC: 0.8189 - loss: 0.3516\n",
      "Epoch 8/20\n",
      "4659/4659 - 3s - 579us/step - AUC: 0.8193 - loss: 0.3509\n",
      "Epoch 9/20\n",
      "4659/4659 - 3s - 581us/step - AUC: 0.8196 - loss: 0.3509\n",
      "Epoch 10/20\n",
      "4659/4659 - 3s - 570us/step - AUC: 0.8182 - loss: 0.3511\n",
      "Epoch 11/20\n",
      "4659/4659 - 3s - 575us/step - AUC: 0.8188 - loss: 0.3505\n",
      "Epoch 12/20\n",
      "4659/4659 - 3s - 585us/step - AUC: 0.8192 - loss: 0.3509\n",
      "Epoch 13/20\n",
      "4659/4659 - 3s - 576us/step - AUC: 0.8195 - loss: 0.3505\n",
      "Epoch 14/20\n",
      "4659/4659 - 3s - 586us/step - AUC: 0.8201 - loss: 0.3511\n",
      "Epoch 15/20\n",
      "4659/4659 - 3s - 577us/step - AUC: 0.8199 - loss: 0.3499\n",
      "Epoch 16/20\n",
      "4659/4659 - 3s - 586us/step - AUC: 0.8215 - loss: 0.3498\n",
      "Epoch 17/20\n",
      "4659/4659 - 3s - 573us/step - AUC: 0.8198 - loss: 0.3513\n",
      "Epoch 18/20\n",
      "4659/4659 - 3s - 582us/step - AUC: 0.8210 - loss: 0.3491\n",
      "Epoch 19/20\n",
      "4659/4659 - 3s - 577us/step - AUC: 0.8158 - loss: 0.3518\n",
      "Epoch 20/20\n",
      "4659/4659 - 3s - 577us/step - AUC: 0.8176 - loss: 0.3507\n",
      "2330/2330 - 1s - 408us/step\n",
      "Epoch 1/20\n"
     ]
    },
    {
     "name": "stderr",
     "output_type": "stream",
     "text": [
      "c:\\Users\\JYXha\\AppData\\Local\\Programs\\Python\\Python310\\lib\\site-packages\\scikeras\\wrappers.py:925: UserWarning: ``build_fn`` will be renamed to ``model`` in a future release, at which point use of ``build_fn`` will raise an Error instead.\n",
      "  X, y = self._initialize(X, y)\n",
      "c:\\Users\\JYXha\\AppData\\Local\\Programs\\Python\\Python310\\lib\\site-packages\\keras\\src\\layers\\core\\dense.py:86: UserWarning: Do not pass an `input_shape`/`input_dim` argument to a layer. When using Sequential models, prefer using an `Input(shape)` object as the first layer in the model instead.\n",
      "  super().__init__(activity_regularizer=activity_regularizer, **kwargs)\n"
     ]
    },
    {
     "name": "stdout",
     "output_type": "stream",
     "text": [
      "4659/4659 - 4s - 809us/step - AUC: 0.7766 - loss: 0.3961\n",
      "Epoch 2/20\n",
      "4659/4659 - 3s - 666us/step - AUC: 0.7988 - loss: 0.3659\n",
      "Epoch 3/20\n",
      "4659/4659 - 3s - 673us/step - AUC: 0.8034 - loss: 0.3618\n",
      "Epoch 4/20\n",
      "4659/4659 - 3s - 677us/step - AUC: 0.8272 - loss: 0.3459\n",
      "Epoch 5/20\n",
      "4659/4659 - 3s - 675us/step - AUC: 0.8503 - loss: 0.3276\n",
      "Epoch 6/20\n",
      "4659/4659 - 3s - 677us/step - AUC: 0.8668 - loss: 0.3122\n",
      "Epoch 7/20\n",
      "4659/4659 - 3s - 664us/step - AUC: 0.8714 - loss: 0.3057\n",
      "Epoch 8/20\n",
      "4659/4659 - 3s - 668us/step - AUC: 0.8754 - loss: 0.3005\n",
      "Epoch 9/20\n",
      "4659/4659 - 3s - 672us/step - AUC: 0.8753 - loss: 0.2988\n",
      "Epoch 10/20\n",
      "4659/4659 - 3s - 672us/step - AUC: 0.8765 - loss: 0.2964\n",
      "Epoch 11/20\n",
      "4659/4659 - 3s - 672us/step - AUC: 0.8769 - loss: 0.2946\n",
      "Epoch 12/20\n",
      "4659/4659 - 3s - 669us/step - AUC: 0.8782 - loss: 0.2926\n",
      "Epoch 13/20\n",
      "4659/4659 - 3s - 677us/step - AUC: 0.8788 - loss: 0.2917\n",
      "Epoch 14/20\n",
      "4659/4659 - 3s - 658us/step - AUC: 0.8787 - loss: 0.2915\n",
      "Epoch 15/20\n",
      "4659/4659 - 3s - 660us/step - AUC: 0.8803 - loss: 0.2896\n",
      "Epoch 16/20\n",
      "4659/4659 - 3s - 655us/step - AUC: 0.8810 - loss: 0.2885\n",
      "Epoch 17/20\n",
      "4659/4659 - 3s - 670us/step - AUC: 0.8808 - loss: 0.2887\n",
      "Epoch 18/20\n",
      "4659/4659 - 3s - 666us/step - AUC: 0.8815 - loss: 0.2875\n",
      "Epoch 19/20\n",
      "4659/4659 - 3s - 675us/step - AUC: 0.8812 - loss: 0.2880\n",
      "Epoch 20/20\n",
      "4659/4659 - 3s - 663us/step - AUC: 0.8826 - loss: 0.2861\n",
      "2330/2330 - 1s - 430us/step\n",
      "Epoch 1/20\n"
     ]
    },
    {
     "name": "stderr",
     "output_type": "stream",
     "text": [
      "c:\\Users\\JYXha\\AppData\\Local\\Programs\\Python\\Python310\\lib\\site-packages\\scikeras\\wrappers.py:925: UserWarning: ``build_fn`` will be renamed to ``model`` in a future release, at which point use of ``build_fn`` will raise an Error instead.\n",
      "  X, y = self._initialize(X, y)\n",
      "c:\\Users\\JYXha\\AppData\\Local\\Programs\\Python\\Python310\\lib\\site-packages\\keras\\src\\layers\\core\\dense.py:86: UserWarning: Do not pass an `input_shape`/`input_dim` argument to a layer. When using Sequential models, prefer using an `Input(shape)` object as the first layer in the model instead.\n",
      "  super().__init__(activity_regularizer=activity_regularizer, **kwargs)\n"
     ]
    },
    {
     "name": "stdout",
     "output_type": "stream",
     "text": [
      "4659/4659 - 4s - 812us/step - AUC: 0.7772 - loss: 0.3974\n",
      "Epoch 2/20\n",
      "4659/4659 - 3s - 666us/step - AUC: 0.7980 - loss: 0.3668\n",
      "Epoch 3/20\n",
      "4659/4659 - 3s - 664us/step - AUC: 0.8015 - loss: 0.3629\n",
      "Epoch 4/20\n",
      "4659/4659 - 3s - 662us/step - AUC: 0.8240 - loss: 0.3486\n",
      "Epoch 5/20\n",
      "4659/4659 - 3s - 670us/step - AUC: 0.8482 - loss: 0.3295\n",
      "Epoch 6/20\n",
      "4659/4659 - 3s - 669us/step - AUC: 0.8593 - loss: 0.3209\n",
      "Epoch 7/20\n",
      "4659/4659 - 3s - 663us/step - AUC: 0.8632 - loss: 0.3164\n",
      "Epoch 8/20\n",
      "4659/4659 - 3s - 671us/step - AUC: 0.8660 - loss: 0.3130\n",
      "Epoch 9/20\n",
      "4659/4659 - 3s - 664us/step - AUC: 0.8703 - loss: 0.3071\n",
      "Epoch 10/20\n",
      "4659/4659 - 3s - 660us/step - AUC: 0.8731 - loss: 0.3007\n",
      "Epoch 11/20\n",
      "4659/4659 - 3s - 668us/step - AUC: 0.8751 - loss: 0.2959\n",
      "Epoch 12/20\n",
      "4659/4659 - 3s - 660us/step - AUC: 0.8781 - loss: 0.2929\n",
      "Epoch 13/20\n",
      "4659/4659 - 3s - 657us/step - AUC: 0.8785 - loss: 0.2914\n",
      "Epoch 14/20\n",
      "4659/4659 - 3s - 663us/step - AUC: 0.8793 - loss: 0.2908\n",
      "Epoch 15/20\n",
      "4659/4659 - 3s - 667us/step - AUC: 0.8805 - loss: 0.2894\n",
      "Epoch 16/20\n",
      "4659/4659 - 3s - 665us/step - AUC: 0.8804 - loss: 0.2896\n",
      "Epoch 17/20\n",
      "4659/4659 - 3s - 674us/step - AUC: 0.8808 - loss: 0.2883\n",
      "Epoch 18/20\n",
      "4659/4659 - 3s - 663us/step - AUC: 0.8815 - loss: 0.2879\n",
      "Epoch 19/20\n",
      "4659/4659 - 3s - 668us/step - AUC: 0.8821 - loss: 0.2868\n",
      "Epoch 20/20\n",
      "4659/4659 - 3s - 668us/step - AUC: 0.8824 - loss: 0.2874\n",
      "2330/2330 - 1s - 455us/step\n",
      "Epoch 1/20\n"
     ]
    },
    {
     "name": "stderr",
     "output_type": "stream",
     "text": [
      "c:\\Users\\JYXha\\AppData\\Local\\Programs\\Python\\Python310\\lib\\site-packages\\scikeras\\wrappers.py:925: UserWarning: ``build_fn`` will be renamed to ``model`` in a future release, at which point use of ``build_fn`` will raise an Error instead.\n",
      "  X, y = self._initialize(X, y)\n",
      "c:\\Users\\JYXha\\AppData\\Local\\Programs\\Python\\Python310\\lib\\site-packages\\keras\\src\\layers\\core\\dense.py:86: UserWarning: Do not pass an `input_shape`/`input_dim` argument to a layer. When using Sequential models, prefer using an `Input(shape)` object as the first layer in the model instead.\n",
      "  super().__init__(activity_regularizer=activity_regularizer, **kwargs)\n"
     ]
    },
    {
     "name": "stdout",
     "output_type": "stream",
     "text": [
      "4659/4659 - 4s - 815us/step - AUC: 0.7778 - loss: 0.3962\n",
      "Epoch 2/20\n",
      "4659/4659 - 3s - 679us/step - AUC: 0.7977 - loss: 0.3665\n",
      "Epoch 3/20\n",
      "4659/4659 - 3s - 671us/step - AUC: 0.8010 - loss: 0.3629\n",
      "Epoch 4/20\n",
      "4659/4659 - 3s - 670us/step - AUC: 0.8144 - loss: 0.3542\n",
      "Epoch 5/20\n",
      "4659/4659 - 3s - 663us/step - AUC: 0.8394 - loss: 0.3359\n",
      "Epoch 6/20\n",
      "4659/4659 - 3s - 670us/step - AUC: 0.8511 - loss: 0.3274\n",
      "Epoch 7/20\n",
      "4659/4659 - 3s - 665us/step - AUC: 0.8626 - loss: 0.3175\n",
      "Epoch 8/20\n",
      "4659/4659 - 3s - 664us/step - AUC: 0.8660 - loss: 0.3129\n",
      "Epoch 9/20\n",
      "4659/4659 - 3s - 672us/step - AUC: 0.8695 - loss: 0.3077\n",
      "Epoch 10/20\n",
      "4659/4659 - 3s - 674us/step - AUC: 0.8725 - loss: 0.3033\n",
      "Epoch 11/20\n",
      "4659/4659 - 3s - 664us/step - AUC: 0.8742 - loss: 0.3005\n",
      "Epoch 12/20\n",
      "4659/4659 - 3s - 685us/step - AUC: 0.8753 - loss: 0.2982\n",
      "Epoch 13/20\n",
      "4659/4659 - 3s - 661us/step - AUC: 0.8750 - loss: 0.2980\n",
      "Epoch 14/20\n",
      "4659/4659 - 3s - 673us/step - AUC: 0.8765 - loss: 0.2956\n",
      "Epoch 15/20\n",
      "4659/4659 - 3s - 677us/step - AUC: 0.8777 - loss: 0.2948\n",
      "Epoch 16/20\n",
      "4659/4659 - 3s - 679us/step - AUC: 0.8780 - loss: 0.2937\n",
      "Epoch 17/20\n",
      "4659/4659 - 3s - 674us/step - AUC: 0.8784 - loss: 0.2927\n",
      "Epoch 18/20\n",
      "4659/4659 - 3s - 666us/step - AUC: 0.8785 - loss: 0.2911\n",
      "Epoch 19/20\n",
      "4659/4659 - 3s - 664us/step - AUC: 0.8801 - loss: 0.2885\n",
      "Epoch 20/20\n",
      "4659/4659 - 3s - 675us/step - AUC: 0.8808 - loss: 0.2890\n",
      "2330/2330 - 1s - 427us/step\n",
      "Epoch 1/20\n"
     ]
    },
    {
     "name": "stderr",
     "output_type": "stream",
     "text": [
      "c:\\Users\\JYXha\\AppData\\Local\\Programs\\Python\\Python310\\lib\\site-packages\\scikeras\\wrappers.py:925: UserWarning: ``build_fn`` will be renamed to ``model`` in a future release, at which point use of ``build_fn`` will raise an Error instead.\n",
      "  X, y = self._initialize(X, y)\n",
      "c:\\Users\\JYXha\\AppData\\Local\\Programs\\Python\\Python310\\lib\\site-packages\\keras\\src\\layers\\core\\dense.py:86: UserWarning: Do not pass an `input_shape`/`input_dim` argument to a layer. When using Sequential models, prefer using an `Input(shape)` object as the first layer in the model instead.\n",
      "  super().__init__(activity_regularizer=activity_regularizer, **kwargs)\n"
     ]
    },
    {
     "name": "stdout",
     "output_type": "stream",
     "text": [
      "4659/4659 - 3s - 674us/step - AUC: 0.7702 - loss: 0.4007\n",
      "Epoch 2/20\n",
      "4659/4659 - 2s - 529us/step - AUC: 0.7841 - loss: 0.3811\n",
      "Epoch 3/20\n",
      "4659/4659 - 2s - 520us/step - AUC: 0.7866 - loss: 0.3790\n",
      "Epoch 4/20\n",
      "4659/4659 - 2s - 527us/step - AUC: 0.8115 - loss: 0.3609\n",
      "Epoch 5/20\n",
      "4659/4659 - 2s - 533us/step - AUC: 0.8149 - loss: 0.3571\n",
      "Epoch 6/20\n",
      "4659/4659 - 2s - 524us/step - AUC: 0.8153 - loss: 0.3572\n",
      "Epoch 7/20\n",
      "4659/4659 - 2s - 522us/step - AUC: 0.8147 - loss: 0.3565\n",
      "Epoch 8/20\n",
      "4659/4659 - 2s - 518us/step - AUC: 0.8161 - loss: 0.3559\n",
      "Epoch 9/20\n",
      "4659/4659 - 2s - 517us/step - AUC: 0.8159 - loss: 0.3557\n",
      "Epoch 10/20\n",
      "4659/4659 - 2s - 514us/step - AUC: 0.8160 - loss: 0.3554\n",
      "Epoch 11/20\n",
      "4659/4659 - 2s - 516us/step - AUC: 0.8177 - loss: 0.3542\n",
      "Epoch 12/20\n",
      "4659/4659 - 2s - 514us/step - AUC: 0.8168 - loss: 0.3555\n",
      "Epoch 13/20\n",
      "4659/4659 - 2s - 523us/step - AUC: 0.8156 - loss: 0.3557\n",
      "Epoch 14/20\n",
      "4659/4659 - 2s - 519us/step - AUC: 0.8173 - loss: 0.3546\n",
      "Epoch 15/20\n",
      "4659/4659 - 2s - 527us/step - AUC: 0.8171 - loss: 0.3543\n",
      "Epoch 16/20\n",
      "4659/4659 - 2s - 518us/step - AUC: 0.8183 - loss: 0.3534\n",
      "Epoch 17/20\n",
      "4659/4659 - 2s - 513us/step - AUC: 0.8167 - loss: 0.3556\n",
      "Epoch 18/20\n",
      "4659/4659 - 2s - 516us/step - AUC: 0.8162 - loss: 0.3547\n",
      "Epoch 19/20\n",
      "4659/4659 - 2s - 518us/step - AUC: 0.8157 - loss: 0.3545\n",
      "Epoch 20/20\n",
      "4659/4659 - 2s - 517us/step - AUC: 0.8155 - loss: 0.3558\n",
      "2330/2330 - 1s - 404us/step\n",
      "Epoch 1/20\n"
     ]
    },
    {
     "name": "stderr",
     "output_type": "stream",
     "text": [
      "c:\\Users\\JYXha\\AppData\\Local\\Programs\\Python\\Python310\\lib\\site-packages\\scikeras\\wrappers.py:925: UserWarning: ``build_fn`` will be renamed to ``model`` in a future release, at which point use of ``build_fn`` will raise an Error instead.\n",
      "  X, y = self._initialize(X, y)\n",
      "c:\\Users\\JYXha\\AppData\\Local\\Programs\\Python\\Python310\\lib\\site-packages\\keras\\src\\layers\\core\\dense.py:86: UserWarning: Do not pass an `input_shape`/`input_dim` argument to a layer. When using Sequential models, prefer using an `Input(shape)` object as the first layer in the model instead.\n",
      "  super().__init__(activity_regularizer=activity_regularizer, **kwargs)\n"
     ]
    },
    {
     "name": "stdout",
     "output_type": "stream",
     "text": [
      "4659/4659 - 3s - 656us/step - AUC: 0.7723 - loss: 0.3981\n",
      "Epoch 2/20\n",
      "4659/4659 - 2s - 516us/step - AUC: 0.7861 - loss: 0.3788\n",
      "Epoch 3/20\n",
      "4659/4659 - 2s - 515us/step - AUC: 0.8063 - loss: 0.3628\n",
      "Epoch 4/20\n",
      "4659/4659 - 2s - 509us/step - AUC: 0.8171 - loss: 0.3546\n",
      "Epoch 5/20\n",
      "4659/4659 - 2s - 514us/step - AUC: 0.8173 - loss: 0.3540\n",
      "Epoch 6/20\n",
      "4659/4659 - 3s - 542us/step - AUC: 0.8170 - loss: 0.3540\n",
      "Epoch 7/20\n",
      "4659/4659 - 2s - 512us/step - AUC: 0.8183 - loss: 0.3525\n",
      "Epoch 8/20\n",
      "4659/4659 - 2s - 516us/step - AUC: 0.8188 - loss: 0.3529\n",
      "Epoch 9/20\n",
      "4659/4659 - 2s - 519us/step - AUC: 0.8194 - loss: 0.3518\n",
      "Epoch 10/20\n",
      "4659/4659 - 2s - 520us/step - AUC: 0.8214 - loss: 0.3495\n",
      "Epoch 11/20\n",
      "4659/4659 - 2s - 524us/step - AUC: 0.8207 - loss: 0.3504\n",
      "Epoch 12/20\n",
      "4659/4659 - 2s - 527us/step - AUC: 0.8198 - loss: 0.3505\n",
      "Epoch 13/20\n",
      "4659/4659 - 2s - 526us/step - AUC: 0.8198 - loss: 0.3511\n",
      "Epoch 14/20\n",
      "4659/4659 - 2s - 528us/step - AUC: 0.8202 - loss: 0.3509\n",
      "Epoch 15/20\n",
      "4659/4659 - 2s - 531us/step - AUC: 0.8211 - loss: 0.3489\n",
      "Epoch 16/20\n",
      "4659/4659 - 2s - 530us/step - AUC: 0.8210 - loss: 0.3498\n",
      "Epoch 17/20\n",
      "4659/4659 - 3s - 540us/step - AUC: 0.8199 - loss: 0.3508\n",
      "Epoch 18/20\n",
      "4659/4659 - 2s - 529us/step - AUC: 0.8206 - loss: 0.3490\n",
      "Epoch 19/20\n",
      "4659/4659 - 2s - 512us/step - AUC: 0.8201 - loss: 0.3510\n",
      "Epoch 20/20\n",
      "4659/4659 - 2s - 517us/step - AUC: 0.8204 - loss: 0.3494\n",
      "2330/2330 - 1s - 405us/step\n",
      "Epoch 1/20\n"
     ]
    },
    {
     "name": "stderr",
     "output_type": "stream",
     "text": [
      "c:\\Users\\JYXha\\AppData\\Local\\Programs\\Python\\Python310\\lib\\site-packages\\scikeras\\wrappers.py:925: UserWarning: ``build_fn`` will be renamed to ``model`` in a future release, at which point use of ``build_fn`` will raise an Error instead.\n",
      "  X, y = self._initialize(X, y)\n",
      "c:\\Users\\JYXha\\AppData\\Local\\Programs\\Python\\Python310\\lib\\site-packages\\keras\\src\\layers\\core\\dense.py:86: UserWarning: Do not pass an `input_shape`/`input_dim` argument to a layer. When using Sequential models, prefer using an `Input(shape)` object as the first layer in the model instead.\n",
      "  super().__init__(activity_regularizer=activity_regularizer, **kwargs)\n"
     ]
    },
    {
     "name": "stdout",
     "output_type": "stream",
     "text": [
      "4659/4659 - 3s - 648us/step - AUC: 0.7630 - loss: 0.4164\n",
      "Epoch 2/20\n",
      "4659/4659 - 2s - 515us/step - AUC: 0.7751 - loss: 0.4039\n",
      "Epoch 3/20\n",
      "4659/4659 - 2s - 515us/step - AUC: 0.7867 - loss: 0.3964\n",
      "Epoch 4/20\n",
      "4659/4659 - 2s - 525us/step - AUC: 0.8004 - loss: 0.3841\n",
      "Epoch 5/20\n",
      "4659/4659 - 2s - 516us/step - AUC: 0.8002 - loss: 0.3839\n",
      "Epoch 6/20\n",
      "4659/4659 - 2s - 513us/step - AUC: 0.8016 - loss: 0.3838\n",
      "Epoch 7/20\n",
      "4659/4659 - 2s - 514us/step - AUC: 0.8016 - loss: 0.3833\n",
      "Epoch 8/20\n",
      "4659/4659 - 2s - 517us/step - AUC: 0.8014 - loss: 0.3835\n",
      "Epoch 9/20\n",
      "4659/4659 - 2s - 518us/step - AUC: 0.8038 - loss: 0.3821\n",
      "Epoch 10/20\n",
      "4659/4659 - 2s - 521us/step - AUC: 0.8018 - loss: 0.3833\n",
      "Epoch 11/20\n",
      "4659/4659 - 2s - 516us/step - AUC: 0.8022 - loss: 0.3828\n",
      "Epoch 12/20\n",
      "4659/4659 - 2s - 517us/step - AUC: 0.8038 - loss: 0.3818\n",
      "Epoch 13/20\n",
      "4659/4659 - 2s - 512us/step - AUC: 0.8026 - loss: 0.3823\n",
      "Epoch 14/20\n",
      "4659/4659 - 2s - 513us/step - AUC: 0.8011 - loss: 0.3838\n",
      "Epoch 15/20\n",
      "4659/4659 - 2s - 522us/step - AUC: 0.8027 - loss: 0.3821\n",
      "Epoch 16/20\n",
      "4659/4659 - 2s - 517us/step - AUC: 0.8030 - loss: 0.3825\n",
      "Epoch 17/20\n",
      "4659/4659 - 2s - 516us/step - AUC: 0.8015 - loss: 0.3833\n",
      "Epoch 18/20\n",
      "4659/4659 - 2s - 519us/step - AUC: 0.8024 - loss: 0.3830\n",
      "Epoch 19/20\n",
      "4659/4659 - 2s - 509us/step - AUC: 0.8015 - loss: 0.3829\n",
      "Epoch 20/20\n",
      "4659/4659 - 2s - 519us/step - AUC: 0.8011 - loss: 0.3841\n",
      "2330/2330 - 1s - 399us/step\n",
      "Epoch 1/20\n"
     ]
    },
    {
     "name": "stderr",
     "output_type": "stream",
     "text": [
      "c:\\Users\\JYXha\\AppData\\Local\\Programs\\Python\\Python310\\lib\\site-packages\\scikeras\\wrappers.py:925: UserWarning: ``build_fn`` will be renamed to ``model`` in a future release, at which point use of ``build_fn`` will raise an Error instead.\n",
      "  X, y = self._initialize(X, y)\n",
      "c:\\Users\\JYXha\\AppData\\Local\\Programs\\Python\\Python310\\lib\\site-packages\\keras\\src\\layers\\core\\dense.py:86: UserWarning: Do not pass an `input_shape`/`input_dim` argument to a layer. When using Sequential models, prefer using an `Input(shape)` object as the first layer in the model instead.\n",
      "  super().__init__(activity_regularizer=activity_regularizer, **kwargs)\n"
     ]
    },
    {
     "name": "stdout",
     "output_type": "stream",
     "text": [
      "4659/4659 - 3s - 676us/step - AUC: 0.7518 - loss: 0.4224\n",
      "Epoch 2/20\n",
      "4659/4659 - 3s - 539us/step - AUC: 0.7681 - loss: 0.3994\n",
      "Epoch 3/20\n",
      "4659/4659 - 2s - 532us/step - AUC: 0.7689 - loss: 0.3975\n",
      "Epoch 4/20\n",
      "4659/4659 - 3s - 537us/step - AUC: 0.7699 - loss: 0.3965\n",
      "Epoch 5/20\n",
      "4659/4659 - 2s - 531us/step - AUC: 0.7700 - loss: 0.3956\n",
      "Epoch 6/20\n",
      "4659/4659 - 2s - 532us/step - AUC: 0.7838 - loss: 0.3862\n",
      "Epoch 7/20\n",
      "4659/4659 - 2s - 535us/step - AUC: 0.7883 - loss: 0.3820\n",
      "Epoch 8/20\n",
      "4659/4659 - 3s - 558us/step - AUC: 0.7921 - loss: 0.3799\n",
      "Epoch 9/20\n",
      "4659/4659 - 3s - 549us/step - AUC: 0.7978 - loss: 0.3757\n",
      "Epoch 10/20\n",
      "4659/4659 - 2s - 535us/step - AUC: 0.7979 - loss: 0.3736\n",
      "Epoch 11/20\n",
      "4659/4659 - 2s - 533us/step - AUC: 0.7988 - loss: 0.3738\n",
      "Epoch 12/20\n",
      "4659/4659 - 2s - 528us/step - AUC: 0.7981 - loss: 0.3730\n",
      "Epoch 13/20\n",
      "4659/4659 - 3s - 552us/step - AUC: 0.7953 - loss: 0.3754\n",
      "Epoch 14/20\n",
      "4659/4659 - 3s - 537us/step - AUC: 0.7988 - loss: 0.3720\n",
      "Epoch 15/20\n",
      "4659/4659 - 3s - 540us/step - AUC: 0.7969 - loss: 0.3748\n",
      "Epoch 16/20\n",
      "4659/4659 - 3s - 537us/step - AUC: 0.7980 - loss: 0.3722\n",
      "Epoch 17/20\n",
      "4659/4659 - 2s - 529us/step - AUC: 0.7961 - loss: 0.3742\n",
      "Epoch 18/20\n",
      "4659/4659 - 2s - 532us/step - AUC: 0.7964 - loss: 0.3736\n",
      "Epoch 19/20\n",
      "4659/4659 - 2s - 532us/step - AUC: 0.7973 - loss: 0.3736\n",
      "Epoch 20/20\n",
      "4659/4659 - 2s - 533us/step - AUC: 0.7980 - loss: 0.3726\n",
      "2330/2330 - 1s - 410us/step\n",
      "Epoch 1/20\n"
     ]
    },
    {
     "name": "stderr",
     "output_type": "stream",
     "text": [
      "c:\\Users\\JYXha\\AppData\\Local\\Programs\\Python\\Python310\\lib\\site-packages\\scikeras\\wrappers.py:925: UserWarning: ``build_fn`` will be renamed to ``model`` in a future release, at which point use of ``build_fn`` will raise an Error instead.\n",
      "  X, y = self._initialize(X, y)\n",
      "c:\\Users\\JYXha\\AppData\\Local\\Programs\\Python\\Python310\\lib\\site-packages\\keras\\src\\layers\\core\\dense.py:86: UserWarning: Do not pass an `input_shape`/`input_dim` argument to a layer. When using Sequential models, prefer using an `Input(shape)` object as the first layer in the model instead.\n",
      "  super().__init__(activity_regularizer=activity_regularizer, **kwargs)\n"
     ]
    },
    {
     "name": "stdout",
     "output_type": "stream",
     "text": [
      "4659/4659 - 4s - 787us/step - AUC: 0.7529 - loss: 0.4199\n",
      "Epoch 2/20\n",
      "4659/4659 - 2s - 531us/step - AUC: 0.7669 - loss: 0.4008\n",
      "Epoch 3/20\n",
      "4659/4659 - 2s - 535us/step - AUC: 0.7678 - loss: 0.3978\n",
      "Epoch 4/20\n",
      "4659/4659 - 2s - 534us/step - AUC: 0.7697 - loss: 0.3968\n",
      "Epoch 5/20\n",
      "4659/4659 - 3s - 539us/step - AUC: 0.7686 - loss: 0.3973\n",
      "Epoch 6/20\n",
      "4659/4659 - 3s - 544us/step - AUC: 0.7702 - loss: 0.3956\n",
      "Epoch 7/20\n",
      "4659/4659 - 3s - 542us/step - AUC: 0.7788 - loss: 0.3909\n",
      "Epoch 8/20\n",
      "4659/4659 - 2s - 535us/step - AUC: 0.7865 - loss: 0.3846\n",
      "Epoch 9/20\n",
      "4659/4659 - 3s - 544us/step - AUC: 0.7890 - loss: 0.3808\n",
      "Epoch 10/20\n",
      "4659/4659 - 2s - 532us/step - AUC: 0.7877 - loss: 0.3812\n",
      "Epoch 11/20\n",
      "4659/4659 - 3s - 546us/step - AUC: 0.7895 - loss: 0.3809\n",
      "Epoch 12/20\n",
      "4659/4659 - 3s - 540us/step - AUC: 0.7869 - loss: 0.3817\n",
      "Epoch 13/20\n",
      "4659/4659 - 3s - 546us/step - AUC: 0.7858 - loss: 0.3826\n",
      "Epoch 14/20\n",
      "4659/4659 - 2s - 534us/step - AUC: 0.7877 - loss: 0.3827\n",
      "Epoch 15/20\n",
      "4659/4659 - 3s - 538us/step - AUC: 0.7873 - loss: 0.3813\n",
      "Epoch 16/20\n",
      "4659/4659 - 3s - 537us/step - AUC: 0.7880 - loss: 0.3816\n",
      "Epoch 17/20\n",
      "4659/4659 - 3s - 539us/step - AUC: 0.7860 - loss: 0.3826\n",
      "Epoch 18/20\n",
      "4659/4659 - 3s - 537us/step - AUC: 0.7855 - loss: 0.3831\n",
      "Epoch 19/20\n",
      "4659/4659 - 3s - 541us/step - AUC: 0.7855 - loss: 0.3832\n",
      "Epoch 20/20\n",
      "4659/4659 - 2s - 535us/step - AUC: 0.7836 - loss: 0.3861\n",
      "2330/2330 - 1s - 403us/step\n",
      "Epoch 1/20\n"
     ]
    },
    {
     "name": "stderr",
     "output_type": "stream",
     "text": [
      "c:\\Users\\JYXha\\AppData\\Local\\Programs\\Python\\Python310\\lib\\site-packages\\scikeras\\wrappers.py:925: UserWarning: ``build_fn`` will be renamed to ``model`` in a future release, at which point use of ``build_fn`` will raise an Error instead.\n",
      "  X, y = self._initialize(X, y)\n",
      "c:\\Users\\JYXha\\AppData\\Local\\Programs\\Python\\Python310\\lib\\site-packages\\keras\\src\\layers\\core\\dense.py:86: UserWarning: Do not pass an `input_shape`/`input_dim` argument to a layer. When using Sequential models, prefer using an `Input(shape)` object as the first layer in the model instead.\n",
      "  super().__init__(activity_regularizer=activity_regularizer, **kwargs)\n"
     ]
    },
    {
     "name": "stdout",
     "output_type": "stream",
     "text": [
      "4659/4659 - 3s - 685us/step - AUC: 0.7551 - loss: 0.4174\n",
      "Epoch 2/20\n",
      "4659/4659 - 3s - 540us/step - AUC: 0.7674 - loss: 0.3992\n",
      "Epoch 3/20\n",
      "4659/4659 - 3s - 550us/step - AUC: 0.7684 - loss: 0.3995\n",
      "Epoch 4/20\n",
      "4659/4659 - 3s - 539us/step - AUC: 0.7679 - loss: 0.4000\n",
      "Epoch 5/20\n",
      "4659/4659 - 3s - 566us/step - AUC: 0.7668 - loss: 0.3970\n",
      "Epoch 6/20\n",
      "4659/4659 - 3s - 548us/step - AUC: 0.7702 - loss: 0.3955\n",
      "Epoch 7/20\n",
      "4659/4659 - 3s - 549us/step - AUC: 0.7834 - loss: 0.3849\n",
      "Epoch 8/20\n",
      "4659/4659 - 3s - 560us/step - AUC: 0.7857 - loss: 0.3841\n",
      "Epoch 9/20\n",
      "4659/4659 - 3s - 552us/step - AUC: 0.7858 - loss: 0.3839\n",
      "Epoch 10/20\n",
      "4659/4659 - 3s - 544us/step - AUC: 0.7869 - loss: 0.3828\n",
      "Epoch 11/20\n",
      "4659/4659 - 3s - 556us/step - AUC: 0.7864 - loss: 0.3833\n",
      "Epoch 12/20\n",
      "4659/4659 - 3s - 545us/step - AUC: 0.7903 - loss: 0.3801\n",
      "Epoch 13/20\n",
      "4659/4659 - 3s - 547us/step - AUC: 0.7959 - loss: 0.3755\n",
      "Epoch 14/20\n",
      "4659/4659 - 3s - 548us/step - AUC: 0.7923 - loss: 0.3778\n",
      "Epoch 15/20\n",
      "4659/4659 - 3s - 543us/step - AUC: 0.7932 - loss: 0.3762\n",
      "Epoch 16/20\n",
      "4659/4659 - 3s - 541us/step - AUC: 0.7929 - loss: 0.3774\n",
      "Epoch 17/20\n",
      "4659/4659 - 3s - 546us/step - AUC: 0.7931 - loss: 0.3758\n",
      "Epoch 18/20\n",
      "4659/4659 - 3s - 543us/step - AUC: 0.7939 - loss: 0.3766\n",
      "Epoch 19/20\n",
      "4659/4659 - 3s - 546us/step - AUC: 0.7911 - loss: 0.3759\n",
      "Epoch 20/20\n",
      "4659/4659 - 3s - 545us/step - AUC: 0.7912 - loss: 0.3766\n",
      "2330/2330 - 1s - 410us/step\n",
      "Epoch 1/20\n"
     ]
    },
    {
     "name": "stderr",
     "output_type": "stream",
     "text": [
      "c:\\Users\\JYXha\\AppData\\Local\\Programs\\Python\\Python310\\lib\\site-packages\\scikeras\\wrappers.py:925: UserWarning: ``build_fn`` will be renamed to ``model`` in a future release, at which point use of ``build_fn`` will raise an Error instead.\n",
      "  X, y = self._initialize(X, y)\n",
      "c:\\Users\\JYXha\\AppData\\Local\\Programs\\Python\\Python310\\lib\\site-packages\\keras\\src\\layers\\core\\dense.py:86: UserWarning: Do not pass an `input_shape`/`input_dim` argument to a layer. When using Sequential models, prefer using an `Input(shape)` object as the first layer in the model instead.\n",
      "  super().__init__(activity_regularizer=activity_regularizer, **kwargs)\n"
     ]
    },
    {
     "name": "stdout",
     "output_type": "stream",
     "text": [
      "4659/4659 - 3s - 676us/step - AUC: 0.7795 - loss: 0.3908\n",
      "Epoch 2/20\n",
      "4659/4659 - 3s - 538us/step - AUC: 0.7905 - loss: 0.3745\n",
      "Epoch 3/20\n",
      "4659/4659 - 2s - 532us/step - AUC: 0.8143 - loss: 0.3570\n",
      "Epoch 4/20\n",
      "4659/4659 - 3s - 537us/step - AUC: 0.8269 - loss: 0.3459\n",
      "Epoch 5/20\n",
      "4659/4659 - 2s - 528us/step - AUC: 0.8285 - loss: 0.3451\n",
      "Epoch 6/20\n",
      "4659/4659 - 2s - 530us/step - AUC: 0.8293 - loss: 0.3436\n",
      "Epoch 7/20\n",
      "4659/4659 - 2s - 529us/step - AUC: 0.8293 - loss: 0.3437\n",
      "Epoch 8/20\n",
      "4659/4659 - 2s - 529us/step - AUC: 0.8300 - loss: 0.3436\n",
      "Epoch 9/20\n",
      "4659/4659 - 2s - 531us/step - AUC: 0.8290 - loss: 0.3440\n",
      "Epoch 10/20\n",
      "4659/4659 - 2s - 527us/step - AUC: 0.8293 - loss: 0.3437\n",
      "Epoch 11/20\n",
      "4659/4659 - 2s - 522us/step - AUC: 0.8299 - loss: 0.3426\n",
      "Epoch 12/20\n",
      "4659/4659 - 2s - 527us/step - AUC: 0.8304 - loss: 0.3426\n",
      "Epoch 13/20\n",
      "4659/4659 - 2s - 527us/step - AUC: 0.8294 - loss: 0.3433\n",
      "Epoch 14/20\n",
      "4659/4659 - 2s - 531us/step - AUC: 0.8295 - loss: 0.3433\n",
      "Epoch 15/20\n",
      "4659/4659 - 2s - 534us/step - AUC: 0.8308 - loss: 0.3425\n",
      "Epoch 16/20\n",
      "4659/4659 - 2s - 533us/step - AUC: 0.8305 - loss: 0.3426\n",
      "Epoch 17/20\n",
      "4659/4659 - 2s - 536us/step - AUC: 0.8298 - loss: 0.3430\n",
      "Epoch 18/20\n",
      "4659/4659 - 3s - 539us/step - AUC: 0.8303 - loss: 0.3421\n",
      "Epoch 19/20\n",
      "4659/4659 - 2s - 535us/step - AUC: 0.8293 - loss: 0.3429\n",
      "Epoch 20/20\n",
      "4659/4659 - 3s - 537us/step - AUC: 0.8291 - loss: 0.3434\n",
      "2330/2330 - 1s - 406us/step\n",
      "Epoch 1/20\n"
     ]
    },
    {
     "name": "stderr",
     "output_type": "stream",
     "text": [
      "c:\\Users\\JYXha\\AppData\\Local\\Programs\\Python\\Python310\\lib\\site-packages\\scikeras\\wrappers.py:925: UserWarning: ``build_fn`` will be renamed to ``model`` in a future release, at which point use of ``build_fn`` will raise an Error instead.\n",
      "  X, y = self._initialize(X, y)\n",
      "c:\\Users\\JYXha\\AppData\\Local\\Programs\\Python\\Python310\\lib\\site-packages\\keras\\src\\layers\\core\\dense.py:86: UserWarning: Do not pass an `input_shape`/`input_dim` argument to a layer. When using Sequential models, prefer using an `Input(shape)` object as the first layer in the model instead.\n",
      "  super().__init__(activity_regularizer=activity_regularizer, **kwargs)\n"
     ]
    },
    {
     "name": "stdout",
     "output_type": "stream",
     "text": [
      "4659/4659 - 3s - 666us/step - AUC: 0.7787 - loss: 0.3902\n",
      "Epoch 2/20\n",
      "4659/4659 - 3s - 539us/step - AUC: 0.8103 - loss: 0.3593\n",
      "Epoch 3/20\n",
      "4659/4659 - 3s - 538us/step - AUC: 0.8281 - loss: 0.3455\n",
      "Epoch 4/20\n",
      "4659/4659 - 2s - 519us/step - AUC: 0.8309 - loss: 0.3415\n",
      "Epoch 5/20\n",
      "4659/4659 - 3s - 539us/step - AUC: 0.8313 - loss: 0.3410\n",
      "Epoch 6/20\n",
      "4659/4659 - 2s - 526us/step - AUC: 0.8318 - loss: 0.3411\n",
      "Epoch 7/20\n",
      "4659/4659 - 2s - 528us/step - AUC: 0.8327 - loss: 0.3405\n",
      "Epoch 8/20\n",
      "4659/4659 - 2s - 530us/step - AUC: 0.8325 - loss: 0.3406\n",
      "Epoch 9/20\n",
      "4659/4659 - 2s - 524us/step - AUC: 0.8327 - loss: 0.3403\n",
      "Epoch 10/20\n",
      "4659/4659 - 2s - 535us/step - AUC: 0.8329 - loss: 0.3398\n",
      "Epoch 11/20\n",
      "4659/4659 - 2s - 534us/step - AUC: 0.8324 - loss: 0.3399\n",
      "Epoch 12/20\n",
      "4659/4659 - 2s - 537us/step - AUC: 0.8328 - loss: 0.3394\n",
      "Epoch 13/20\n",
      "4659/4659 - 2s - 531us/step - AUC: 0.8325 - loss: 0.3398\n",
      "Epoch 14/20\n",
      "4659/4659 - 2s - 530us/step - AUC: 0.8339 - loss: 0.3389\n",
      "Epoch 15/20\n",
      "4659/4659 - 2s - 535us/step - AUC: 0.8334 - loss: 0.3393\n",
      "Epoch 16/20\n",
      "4659/4659 - 2s - 520us/step - AUC: 0.8326 - loss: 0.3393\n",
      "Epoch 17/20\n",
      "4659/4659 - 2s - 518us/step - AUC: 0.8325 - loss: 0.3397\n",
      "Epoch 18/20\n",
      "4659/4659 - 2s - 515us/step - AUC: 0.8325 - loss: 0.3396\n",
      "Epoch 19/20\n",
      "4659/4659 - 2s - 526us/step - AUC: 0.8335 - loss: 0.3393\n",
      "Epoch 20/20\n",
      "4659/4659 - 2s - 523us/step - AUC: 0.8326 - loss: 0.3392\n",
      "2330/2330 - 1s - 403us/step\n",
      "Epoch 1/20\n"
     ]
    },
    {
     "name": "stderr",
     "output_type": "stream",
     "text": [
      "c:\\Users\\JYXha\\AppData\\Local\\Programs\\Python\\Python310\\lib\\site-packages\\scikeras\\wrappers.py:925: UserWarning: ``build_fn`` will be renamed to ``model`` in a future release, at which point use of ``build_fn`` will raise an Error instead.\n",
      "  X, y = self._initialize(X, y)\n",
      "c:\\Users\\JYXha\\AppData\\Local\\Programs\\Python\\Python310\\lib\\site-packages\\keras\\src\\layers\\core\\dense.py:86: UserWarning: Do not pass an `input_shape`/`input_dim` argument to a layer. When using Sequential models, prefer using an `Input(shape)` object as the first layer in the model instead.\n",
      "  super().__init__(activity_regularizer=activity_regularizer, **kwargs)\n"
     ]
    },
    {
     "name": "stdout",
     "output_type": "stream",
     "text": [
      "4659/4659 - 3s - 661us/step - AUC: 0.7759 - loss: 0.3955\n",
      "Epoch 2/20\n",
      "4659/4659 - 2s - 516us/step - AUC: 0.7868 - loss: 0.3813\n",
      "Epoch 3/20\n",
      "4659/4659 - 2s - 519us/step - AUC: 0.7935 - loss: 0.3771\n",
      "Epoch 4/20\n",
      "4659/4659 - 2s - 521us/step - AUC: 0.8169 - loss: 0.3588\n",
      "Epoch 5/20\n",
      "4659/4659 - 2s - 522us/step - AUC: 0.8193 - loss: 0.3564\n",
      "Epoch 6/20\n",
      "4659/4659 - 2s - 515us/step - AUC: 0.8190 - loss: 0.3568\n",
      "Epoch 7/20\n",
      "4659/4659 - 2s - 523us/step - AUC: 0.8202 - loss: 0.3557\n",
      "Epoch 8/20\n",
      "4659/4659 - 2s - 518us/step - AUC: 0.8203 - loss: 0.3553\n",
      "Epoch 9/20\n",
      "4659/4659 - 2s - 523us/step - AUC: 0.8196 - loss: 0.3557\n",
      "Epoch 10/20\n",
      "4659/4659 - 2s - 524us/step - AUC: 0.8207 - loss: 0.3550\n",
      "Epoch 11/20\n",
      "4659/4659 - 2s - 522us/step - AUC: 0.8201 - loss: 0.3555\n",
      "Epoch 12/20\n",
      "4659/4659 - 2s - 521us/step - AUC: 0.8197 - loss: 0.3558\n",
      "Epoch 13/20\n",
      "4659/4659 - 2s - 523us/step - AUC: 0.8198 - loss: 0.3551\n",
      "Epoch 14/20\n",
      "4659/4659 - 2s - 521us/step - AUC: 0.8210 - loss: 0.3548\n",
      "Epoch 15/20\n",
      "4659/4659 - 2s - 525us/step - AUC: 0.8201 - loss: 0.3558\n",
      "Epoch 16/20\n",
      "4659/4659 - 2s - 519us/step - AUC: 0.8199 - loss: 0.3558\n",
      "Epoch 17/20\n",
      "4659/4659 - 2s - 521us/step - AUC: 0.8205 - loss: 0.3554\n",
      "Epoch 18/20\n",
      "4659/4659 - 2s - 522us/step - AUC: 0.8199 - loss: 0.3552\n",
      "Epoch 19/20\n",
      "4659/4659 - 2s - 526us/step - AUC: 0.8196 - loss: 0.3554\n",
      "Epoch 20/20\n",
      "4659/4659 - 2s - 517us/step - AUC: 0.8208 - loss: 0.3550\n",
      "2330/2330 - 1s - 395us/step\n",
      "Epoch 1/20\n"
     ]
    },
    {
     "name": "stderr",
     "output_type": "stream",
     "text": [
      "c:\\Users\\JYXha\\AppData\\Local\\Programs\\Python\\Python310\\lib\\site-packages\\scikeras\\wrappers.py:925: UserWarning: ``build_fn`` will be renamed to ``model`` in a future release, at which point use of ``build_fn`` will raise an Error instead.\n",
      "  X, y = self._initialize(X, y)\n",
      "c:\\Users\\JYXha\\AppData\\Local\\Programs\\Python\\Python310\\lib\\site-packages\\keras\\src\\layers\\core\\dense.py:86: UserWarning: Do not pass an `input_shape`/`input_dim` argument to a layer. When using Sequential models, prefer using an `Input(shape)` object as the first layer in the model instead.\n",
      "  super().__init__(activity_regularizer=activity_regularizer, **kwargs)\n"
     ]
    },
    {
     "name": "stdout",
     "output_type": "stream",
     "text": [
      "4659/4659 - 4s - 819us/step - AUC: 0.7913 - loss: 0.3794\n",
      "Epoch 2/20\n",
      "4659/4659 - 3s - 669us/step - AUC: 0.8045 - loss: 0.3601\n",
      "Epoch 3/20\n",
      "4659/4659 - 3s - 678us/step - AUC: 0.8088 - loss: 0.3571\n",
      "Epoch 4/20\n",
      "4659/4659 - 3s - 671us/step - AUC: 0.8442 - loss: 0.3326\n",
      "Epoch 5/20\n",
      "4659/4659 - 3s - 675us/step - AUC: 0.8750 - loss: 0.3015\n",
      "Epoch 6/20\n",
      "4659/4659 - 3s - 672us/step - AUC: 0.8833 - loss: 0.2873\n",
      "Epoch 7/20\n",
      "4659/4659 - 3s - 671us/step - AUC: 0.8851 - loss: 0.2834\n",
      "Epoch 8/20\n",
      "4659/4659 - 3s - 676us/step - AUC: 0.8864 - loss: 0.2811\n",
      "Epoch 9/20\n",
      "4659/4659 - 3s - 672us/step - AUC: 0.8869 - loss: 0.2801\n",
      "Epoch 10/20\n",
      "4659/4659 - 3s - 665us/step - AUC: 0.8880 - loss: 0.2786\n",
      "Epoch 11/20\n",
      "4659/4659 - 3s - 665us/step - AUC: 0.8891 - loss: 0.2772\n",
      "Epoch 12/20\n",
      "4659/4659 - 3s - 673us/step - AUC: 0.8891 - loss: 0.2772\n",
      "Epoch 13/20\n",
      "4659/4659 - 3s - 672us/step - AUC: 0.8898 - loss: 0.2769\n",
      "Epoch 14/20\n",
      "4659/4659 - 3s - 670us/step - AUC: 0.8906 - loss: 0.2756\n",
      "Epoch 15/20\n",
      "4659/4659 - 3s - 669us/step - AUC: 0.8912 - loss: 0.2750\n",
      "Epoch 16/20\n",
      "4659/4659 - 3s - 672us/step - AUC: 0.8918 - loss: 0.2747\n",
      "Epoch 17/20\n",
      "4659/4659 - 3s - 672us/step - AUC: 0.8926 - loss: 0.2738\n",
      "Epoch 18/20\n",
      "4659/4659 - 3s - 677us/step - AUC: 0.8930 - loss: 0.2739\n",
      "Epoch 19/20\n",
      "4659/4659 - 3s - 671us/step - AUC: 0.8938 - loss: 0.2726\n",
      "Epoch 20/20\n",
      "4659/4659 - 3s - 674us/step - AUC: 0.8946 - loss: 0.2719\n",
      "2330/2330 - 1s - 424us/step\n",
      "Epoch 1/20\n"
     ]
    },
    {
     "name": "stderr",
     "output_type": "stream",
     "text": [
      "c:\\Users\\JYXha\\AppData\\Local\\Programs\\Python\\Python310\\lib\\site-packages\\scikeras\\wrappers.py:925: UserWarning: ``build_fn`` will be renamed to ``model`` in a future release, at which point use of ``build_fn`` will raise an Error instead.\n",
      "  X, y = self._initialize(X, y)\n",
      "c:\\Users\\JYXha\\AppData\\Local\\Programs\\Python\\Python310\\lib\\site-packages\\keras\\src\\layers\\core\\dense.py:86: UserWarning: Do not pass an `input_shape`/`input_dim` argument to a layer. When using Sequential models, prefer using an `Input(shape)` object as the first layer in the model instead.\n",
      "  super().__init__(activity_regularizer=activity_regularizer, **kwargs)\n"
     ]
    },
    {
     "name": "stdout",
     "output_type": "stream",
     "text": [
      "4659/4659 - 4s - 822us/step - AUC: 0.7898 - loss: 0.3814\n",
      "Epoch 2/20\n",
      "4659/4659 - 3s - 675us/step - AUC: 0.8047 - loss: 0.3604\n",
      "Epoch 3/20\n",
      "4659/4659 - 3s - 675us/step - AUC: 0.8352 - loss: 0.3397\n",
      "Epoch 4/20\n",
      "4659/4659 - 3s - 672us/step - AUC: 0.8805 - loss: 0.2918\n",
      "Epoch 5/20\n",
      "4659/4659 - 3s - 676us/step - AUC: 0.8849 - loss: 0.2831\n",
      "Epoch 6/20\n",
      "4659/4659 - 3s - 670us/step - AUC: 0.8858 - loss: 0.2811\n",
      "Epoch 7/20\n",
      "4659/4659 - 3s - 679us/step - AUC: 0.8876 - loss: 0.2787\n",
      "Epoch 8/20\n",
      "4659/4659 - 3s - 671us/step - AUC: 0.8878 - loss: 0.2784\n",
      "Epoch 9/20\n",
      "4659/4659 - 3s - 678us/step - AUC: 0.8890 - loss: 0.2770\n",
      "Epoch 10/20\n",
      "4659/4659 - 3s - 666us/step - AUC: 0.8892 - loss: 0.2766\n",
      "Epoch 11/20\n",
      "4659/4659 - 3s - 672us/step - AUC: 0.8899 - loss: 0.2764\n",
      "Epoch 12/20\n",
      "4659/4659 - 3s - 671us/step - AUC: 0.8906 - loss: 0.2755\n",
      "Epoch 13/20\n",
      "4659/4659 - 3s - 669us/step - AUC: 0.8910 - loss: 0.2748\n",
      "Epoch 14/20\n",
      "4659/4659 - 3s - 674us/step - AUC: 0.8915 - loss: 0.2747\n",
      "Epoch 15/20\n",
      "4659/4659 - 3s - 688us/step - AUC: 0.8922 - loss: 0.2739\n",
      "Epoch 16/20\n",
      "4659/4659 - 3s - 690us/step - AUC: 0.8927 - loss: 0.2734\n",
      "Epoch 17/20\n",
      "4659/4659 - 3s - 676us/step - AUC: 0.8931 - loss: 0.2730\n",
      "Epoch 18/20\n",
      "4659/4659 - 3s - 674us/step - AUC: 0.8934 - loss: 0.2723\n",
      "Epoch 19/20\n",
      "4659/4659 - 3s - 697us/step - AUC: 0.8942 - loss: 0.2721\n",
      "Epoch 20/20\n",
      "4659/4659 - 3s - 677us/step - AUC: 0.8951 - loss: 0.2711\n",
      "2330/2330 - 1s - 424us/step\n",
      "Epoch 1/20\n"
     ]
    },
    {
     "name": "stderr",
     "output_type": "stream",
     "text": [
      "c:\\Users\\JYXha\\AppData\\Local\\Programs\\Python\\Python310\\lib\\site-packages\\scikeras\\wrappers.py:925: UserWarning: ``build_fn`` will be renamed to ``model`` in a future release, at which point use of ``build_fn`` will raise an Error instead.\n",
      "  X, y = self._initialize(X, y)\n",
      "c:\\Users\\JYXha\\AppData\\Local\\Programs\\Python\\Python310\\lib\\site-packages\\keras\\src\\layers\\core\\dense.py:86: UserWarning: Do not pass an `input_shape`/`input_dim` argument to a layer. When using Sequential models, prefer using an `Input(shape)` object as the first layer in the model instead.\n",
      "  super().__init__(activity_regularizer=activity_regularizer, **kwargs)\n"
     ]
    },
    {
     "name": "stdout",
     "output_type": "stream",
     "text": [
      "4659/4659 - 4s - 841us/step - AUC: 0.7897 - loss: 0.3799\n",
      "Epoch 2/20\n",
      "4659/4659 - 3s - 686us/step - AUC: 0.8042 - loss: 0.3602\n",
      "Epoch 3/20\n",
      "4659/4659 - 3s - 673us/step - AUC: 0.8119 - loss: 0.3554\n",
      "Epoch 4/20\n",
      "4659/4659 - 3s - 669us/step - AUC: 0.8625 - loss: 0.3161\n",
      "Epoch 5/20\n",
      "4659/4659 - 3s - 676us/step - AUC: 0.8809 - loss: 0.2912\n",
      "Epoch 6/20\n",
      "4659/4659 - 3s - 671us/step - AUC: 0.8840 - loss: 0.2843\n",
      "Epoch 7/20\n",
      "4659/4659 - 3s - 683us/step - AUC: 0.8868 - loss: 0.2804\n",
      "Epoch 8/20\n",
      "4659/4659 - 3s - 670us/step - AUC: 0.8876 - loss: 0.2791\n",
      "Epoch 9/20\n",
      "4659/4659 - 3s - 679us/step - AUC: 0.8885 - loss: 0.2777\n",
      "Epoch 10/20\n",
      "4659/4659 - 3s - 674us/step - AUC: 0.8892 - loss: 0.2765\n",
      "Epoch 11/20\n",
      "4659/4659 - 3s - 672us/step - AUC: 0.8901 - loss: 0.2761\n",
      "Epoch 12/20\n",
      "4659/4659 - 3s - 667us/step - AUC: 0.8899 - loss: 0.2757\n",
      "Epoch 13/20\n",
      "4659/4659 - 3s - 690us/step - AUC: 0.8910 - loss: 0.2746\n",
      "Epoch 14/20\n",
      "4659/4659 - 3s - 668us/step - AUC: 0.8915 - loss: 0.2740\n",
      "Epoch 15/20\n",
      "4659/4659 - 3s - 683us/step - AUC: 0.8925 - loss: 0.2736\n",
      "Epoch 16/20\n",
      "4659/4659 - 3s - 678us/step - AUC: 0.8928 - loss: 0.2731\n",
      "Epoch 17/20\n",
      "4659/4659 - 3s - 674us/step - AUC: 0.8931 - loss: 0.2728\n",
      "Epoch 18/20\n",
      "4659/4659 - 3s - 671us/step - AUC: 0.8937 - loss: 0.2718\n",
      "Epoch 19/20\n",
      "4659/4659 - 3s - 672us/step - AUC: 0.8941 - loss: 0.2719\n",
      "Epoch 20/20\n",
      "4659/4659 - 3s - 671us/step - AUC: 0.8951 - loss: 0.2707\n",
      "2330/2330 - 1s - 432us/step\n",
      "Epoch 1/20\n"
     ]
    },
    {
     "name": "stderr",
     "output_type": "stream",
     "text": [
      "c:\\Users\\JYXha\\AppData\\Local\\Programs\\Python\\Python310\\lib\\site-packages\\scikeras\\wrappers.py:925: UserWarning: ``build_fn`` will be renamed to ``model`` in a future release, at which point use of ``build_fn`` will raise an Error instead.\n",
      "  X, y = self._initialize(X, y)\n",
      "c:\\Users\\JYXha\\AppData\\Local\\Programs\\Python\\Python310\\lib\\site-packages\\keras\\src\\layers\\core\\dense.py:86: UserWarning: Do not pass an `input_shape`/`input_dim` argument to a layer. When using Sequential models, prefer using an `Input(shape)` object as the first layer in the model instead.\n",
      "  super().__init__(activity_regularizer=activity_regularizer, **kwargs)\n"
     ]
    },
    {
     "name": "stdout",
     "output_type": "stream",
     "text": [
      "6988/6988 - 5s - 771us/step - AUC: 0.7945 - loss: 0.3742\n",
      "Epoch 2/20\n",
      "6988/6988 - 5s - 680us/step - AUC: 0.8188 - loss: 0.3512\n",
      "Epoch 3/20\n",
      "6988/6988 - 5s - 665us/step - AUC: 0.8760 - loss: 0.2973\n",
      "Epoch 4/20\n",
      "6988/6988 - 5s - 681us/step - AUC: 0.8849 - loss: 0.2815\n",
      "Epoch 5/20\n",
      "6988/6988 - 5s - 668us/step - AUC: 0.8857 - loss: 0.2796\n",
      "Epoch 6/20\n",
      "6988/6988 - 5s - 669us/step - AUC: 0.8869 - loss: 0.2784\n",
      "Epoch 7/20\n",
      "6988/6988 - 5s - 686us/step - AUC: 0.8876 - loss: 0.2774\n",
      "Epoch 8/20\n",
      "6988/6988 - 5s - 675us/step - AUC: 0.8882 - loss: 0.2767\n",
      "Epoch 9/20\n",
      "6988/6988 - 5s - 686us/step - AUC: 0.8889 - loss: 0.2763\n",
      "Epoch 10/20\n",
      "6988/6988 - 5s - 740us/step - AUC: 0.8891 - loss: 0.2757\n",
      "Epoch 11/20\n",
      "6988/6988 - 5s - 671us/step - AUC: 0.8896 - loss: 0.2755\n",
      "Epoch 12/20\n",
      "6988/6988 - 5s - 684us/step - AUC: 0.8904 - loss: 0.2748\n",
      "Epoch 13/20\n",
      "6988/6988 - 5s - 668us/step - AUC: 0.8905 - loss: 0.2745\n",
      "Epoch 14/20\n",
      "6988/6988 - 5s - 663us/step - AUC: 0.8910 - loss: 0.2741\n",
      "Epoch 15/20\n",
      "6988/6988 - 5s - 681us/step - AUC: 0.8915 - loss: 0.2739\n",
      "Epoch 16/20\n",
      "6988/6988 - 5s - 695us/step - AUC: 0.8922 - loss: 0.2731\n",
      "Epoch 17/20\n",
      "6988/6988 - 5s - 681us/step - AUC: 0.8921 - loss: 0.2731\n",
      "Epoch 18/20\n",
      "6988/6988 - 5s - 668us/step - AUC: 0.8926 - loss: 0.2729\n",
      "Epoch 19/20\n",
      "6988/6988 - 5s - 671us/step - AUC: 0.8928 - loss: 0.2726\n",
      "Epoch 20/20\n",
      "6988/6988 - 5s - 666us/step - AUC: 0.8932 - loss: 0.2725\n"
     ]
    }
   ],
   "source": [
    "auprc_scorer = make_scorer(average_precision_score, needs_proba=True)\n",
    "\n",
    "nn_tuning_prc = RandomizedSearchCV(estimator=pipeline,\n",
    "                                   param_distributions=param_grid,\n",
    "                                   n_iter=8,\n",
    "                                   cv=3,\n",
    "                                   random_state=42,\n",
    "                                   scoring=auprc_scorer)\n",
    "\n",
    "r_nn_tuning_prc= nn_tuning_prc.fit(X_train_minmax, y_train)"
   ]
  },
  {
   "cell_type": "code",
   "execution_count": null,
   "metadata": {},
   "outputs": [
    {
     "name": "stdout",
     "output_type": "stream",
     "text": [
      "Test Result:\n",
      "================================================\n",
      "Accuracy Score: 88.67%\n",
      "_______________________________________________\n",
      "CLASSIFICATION REPORT:\n",
      "                      0             1  accuracy      macro avg   weighted avg\n",
      "precision      0.876857      0.992899  0.886738       0.934878       0.899741\n",
      "recall         0.999247      0.428732  0.886738       0.713990       0.886738\n",
      "f1-score       0.934060      0.598873  0.886738       0.766466       0.867959\n",
      "support    90279.000000  22177.000000  0.886738  112456.000000  112456.000000\n",
      "_______________________________________________\n",
      "Confusion Matrix: \n",
      " [[90211    68]\n",
      " [12669  9508]]\n",
      "\n",
      "Area Under the Precision-Recall Curve (AUPRC): 0.5383\n"
     ]
    }
   ],
   "source": [
    "y_test_pred_prc = nn_tuning_prc.predict(X_test_minmax)\n",
    "evaluate_nn(y_test, y_test_pred_prc, train=False)"
   ]
  },
  {
   "cell_type": "code",
   "execution_count": null,
   "metadata": {},
   "outputs": [
    {
     "data": {
      "image/png": "[encoded data removed]",
      "text/plain": [
       "<Figure size 800x600 with 2 Axes>"
      ]
     },
     "metadata": {},
     "output_type": "display_data"
    },
    {
     "data": {
      "image/png": "[encoded data removed]",
      "text/plain": [
       "<Figure size 800x600 with 1 Axes>"
      ]
     },
     "metadata": {},
     "output_type": "display_data"
    },
    {
     "name": "stdout",
     "output_type": "stream",
     "text": [
      "0.42797925000584247\n"
     ]
    }
   ],
   "source": [
    "y_pred_op_f1 = (y_test_pred_prc > 0.5).astype(int)\n",
    "\n",
    "cm = confusion_matrix(y_test, y_pred_op_f1)\n",
    "\n",
    "fig, ax = plt.subplots(figsize=(8, 6))\n",
    "sns.heatmap(cm, annot=True, fmt='d', cmap='Blues', ax=ax)\n",
    "ax.set_xlabel('Predicted Labels')\n",
    "ax.set_ylabel('True Labels')\n",
    "ax.set_title('Confusion Matrix')\n",
    "ax.xaxis.set_ticklabels(['Fully Paid', 'Default'])\n",
    "ax.yaxis.set_ticklabels(['Fully Paid', 'Default'])\n",
    "plt.show()\n",
    "\n",
    "fpr, tpr, _ = roc_curve(y_test, y_test_pred_prc)\n",
    "roc_auc = auc(fpr, tpr)\n",
    "\n",
    "# Plot ROC curve\n",
    "plt.figure(figsize=(8, 6))\n",
    "plt.plot(fpr, tpr, color='darkorange', lw=2, label=f'ROC curve (area = {roc_auc:.2f})')\n",
    "plt.xlim([0.0, 1.0])\n",
    "plt.ylim([0.0, 1.05])\n",
    "plt.xlabel('False Positive Rate')\n",
    "plt.ylabel('True Positive Rate')\n",
    "plt.legend(loc=\"lower right\")\n",
    "plt.show()\n",
    "\n",
    "# Calculate True Positive Rate (TPR) and False Positive Rate (FPR)\n",
    "fpr, tpr, thresholds = roc_curve(y_test, y_test_pred_prc)\n",
    "\n",
    "# Calculate Kolmogorov-Smirnov measure (KS)\n",
    "ks = max(tpr - fpr)\n",
    "\n",
    "print(ks)"
   ]
  },
  {
   "cell_type": "markdown",
   "metadata": {},
   "source": [
    "# undersampling with RandomSearchCV"
   ]
  },
  {
   "cell_type": "markdown",
   "metadata": {},
   "source": [
    "## F1"
   ]
  },
  {
   "cell_type": "code",
   "execution_count": null,
   "metadata": {},
   "outputs": [],
   "source": [
    "pipeline_under = Pipeline([\n",
    "    ('undersample', RandomUnderSampler(random_state=42)),\n",
    "    ('classifier', keras_clf)\n",
    "])"
   ]
  },
  {
   "cell_type": "code",
   "execution_count": null,
   "metadata": {},
   "outputs": [
    {
     "name": "stderr",
     "output_type": "stream",
     "text": [
      "c:\\Users\\winyan\\AppData\\Local\\Programs\\Python\\Python312\\Lib\\site-packages\\scikeras\\wrappers.py:925: UserWarning: ``build_fn`` will be renamed to ``model`` in a future release, at which point use of ``build_fn`` will raise an Error instead.\n",
      "  X, y = self._initialize(X, y)\n",
      "c:\\Users\\winyan\\AppData\\Local\\Programs\\Python\\Python312\\Lib\\site-packages\\keras\\src\\layers\\core\\dense.py:86: UserWarning: Do not pass an `input_shape`/`input_dim` argument to a layer. When using Sequential models, prefer using an `Input(shape)` object as the first layer in the model instead.\n",
      "  super().__init__(activity_regularizer=activity_regularizer, **kwargs)\n",
      "c:\\Users\\winyan\\AppData\\Local\\Programs\\Python\\Python312\\Lib\\site-packages\\scikeras\\wrappers.py:925: UserWarning: ``build_fn`` will be renamed to ``model`` in a future release, at which point use of ``build_fn`` will raise an Error instead.\n",
      "  X, y = self._initialize(X, y)\n",
      "c:\\Users\\winyan\\AppData\\Local\\Programs\\Python\\Python312\\Lib\\site-packages\\keras\\src\\layers\\core\\dense.py:86: UserWarning: Do not pass an `input_shape`/`input_dim` argument to a layer. When using Sequential models, prefer using an `Input(shape)` object as the first layer in the model instead.\n",
      "  super().__init__(activity_regularizer=activity_regularizer, **kwargs)\n",
      "c:\\Users\\winyan\\AppData\\Local\\Programs\\Python\\Python312\\Lib\\site-packages\\scikeras\\wrappers.py:925: UserWarning: ``build_fn`` will be renamed to ``model`` in a future release, at which point use of ``build_fn`` will raise an Error instead.\n",
      "  X, y = self._initialize(X, y)\n",
      "c:\\Users\\winyan\\AppData\\Local\\Programs\\Python\\Python312\\Lib\\site-packages\\keras\\src\\layers\\core\\dense.py:86: UserWarning: Do not pass an `input_shape`/`input_dim` argument to a layer. When using Sequential models, prefer using an `Input(shape)` object as the first layer in the model instead.\n",
      "  super().__init__(activity_regularizer=activity_regularizer, **kwargs)\n",
      "c:\\Users\\winyan\\AppData\\Local\\Programs\\Python\\Python312\\Lib\\site-packages\\scikeras\\wrappers.py:925: UserWarning: ``build_fn`` will be renamed to ``model`` in a future release, at which point use of ``build_fn`` will raise an Error instead.\n",
      "  X, y = self._initialize(X, y)\n",
      "c:\\Users\\winyan\\AppData\\Local\\Programs\\Python\\Python312\\Lib\\site-packages\\keras\\src\\layers\\core\\dense.py:86: UserWarning: Do not pass an `input_shape`/`input_dim` argument to a layer. When using Sequential models, prefer using an `Input(shape)` object as the first layer in the model instead.\n",
      "  super().__init__(activity_regularizer=activity_regularizer, **kwargs)\n",
      "c:\\Users\\winyan\\AppData\\Local\\Programs\\Python\\Python312\\Lib\\site-packages\\scikeras\\wrappers.py:925: UserWarning: ``build_fn`` will be renamed to ``model`` in a future release, at which point use of ``build_fn`` will raise an Error instead.\n",
      "  X, y = self._initialize(X, y)\n",
      "c:\\Users\\winyan\\AppData\\Local\\Programs\\Python\\Python312\\Lib\\site-packages\\keras\\src\\layers\\core\\dense.py:86: UserWarning: Do not pass an `input_shape`/`input_dim` argument to a layer. When using Sequential models, prefer using an `Input(shape)` object as the first layer in the model instead.\n",
      "  super().__init__(activity_regularizer=activity_regularizer, **kwargs)\n",
      "c:\\Users\\winyan\\AppData\\Local\\Programs\\Python\\Python312\\Lib\\site-packages\\scikeras\\wrappers.py:925: UserWarning: ``build_fn`` will be renamed to ``model`` in a future release, at which point use of ``build_fn`` will raise an Error instead.\n",
      "  X, y = self._initialize(X, y)\n",
      "c:\\Users\\winyan\\AppData\\Local\\Programs\\Python\\Python312\\Lib\\site-packages\\keras\\src\\layers\\core\\dense.py:86: UserWarning: Do not pass an `input_shape`/`input_dim` argument to a layer. When using Sequential models, prefer using an `Input(shape)` object as the first layer in the model instead.\n",
      "  super().__init__(activity_regularizer=activity_regularizer, **kwargs)\n",
      "c:\\Users\\winyan\\AppData\\Local\\Programs\\Python\\Python312\\Lib\\site-packages\\scikeras\\wrappers.py:925: UserWarning: ``build_fn`` will be renamed to ``model`` in a future release, at which point use of ``build_fn`` will raise an Error instead.\n",
      "  X, y = self._initialize(X, y)\n",
      "c:\\Users\\winyan\\AppData\\Local\\Programs\\Python\\Python312\\Lib\\site-packages\\keras\\src\\layers\\core\\dense.py:86: UserWarning: Do not pass an `input_shape`/`input_dim` argument to a layer. When using Sequential models, prefer using an `Input(shape)` object as the first layer in the model instead.\n",
      "  super().__init__(activity_regularizer=activity_regularizer, **kwargs)\n",
      "c:\\Users\\winyan\\AppData\\Local\\Programs\\Python\\Python312\\Lib\\site-packages\\scikeras\\wrappers.py:925: UserWarning: ``build_fn`` will be renamed to ``model`` in a future release, at which point use of ``build_fn`` will raise an Error instead.\n",
      "  X, y = self._initialize(X, y)\n",
      "c:\\Users\\winyan\\AppData\\Local\\Programs\\Python\\Python312\\Lib\\site-packages\\keras\\src\\layers\\core\\dense.py:86: UserWarning: Do not pass an `input_shape`/`input_dim` argument to a layer. When using Sequential models, prefer using an `Input(shape)` object as the first layer in the model instead.\n",
      "  super().__init__(activity_regularizer=activity_regularizer, **kwargs)\n",
      "c:\\Users\\winyan\\AppData\\Local\\Programs\\Python\\Python312\\Lib\\site-packages\\scikeras\\wrappers.py:925: UserWarning: ``build_fn`` will be renamed to ``model`` in a future release, at which point use of ``build_fn`` will raise an Error instead.\n",
      "  X, y = self._initialize(X, y)\n",
      "c:\\Users\\winyan\\AppData\\Local\\Programs\\Python\\Python312\\Lib\\site-packages\\keras\\src\\layers\\core\\dense.py:86: UserWarning: Do not pass an `input_shape`/`input_dim` argument to a layer. When using Sequential models, prefer using an `Input(shape)` object as the first layer in the model instead.\n",
      "  super().__init__(activity_regularizer=activity_regularizer, **kwargs)\n",
      "c:\\Users\\winyan\\AppData\\Local\\Programs\\Python\\Python312\\Lib\\site-packages\\scikeras\\wrappers.py:925: UserWarning: ``build_fn`` will be renamed to ``model`` in a future release, at which point use of ``build_fn`` will raise an Error instead.\n",
      "  X, y = self._initialize(X, y)\n",
      "c:\\Users\\winyan\\AppData\\Local\\Programs\\Python\\Python312\\Lib\\site-packages\\keras\\src\\layers\\core\\dense.py:86: UserWarning: Do not pass an `input_shape`/`input_dim` argument to a layer. When using Sequential models, prefer using an `Input(shape)` object as the first layer in the model instead.\n",
      "  super().__init__(activity_regularizer=activity_regularizer, **kwargs)\n",
      "c:\\Users\\winyan\\AppData\\Local\\Programs\\Python\\Python312\\Lib\\site-packages\\scikeras\\wrappers.py:925: UserWarning: ``build_fn`` will be renamed to ``model`` in a future release, at which point use of ``build_fn`` will raise an Error instead.\n",
      "  X, y = self._initialize(X, y)\n",
      "c:\\Users\\winyan\\AppData\\Local\\Programs\\Python\\Python312\\Lib\\site-packages\\keras\\src\\layers\\core\\dense.py:86: UserWarning: Do not pass an `input_shape`/`input_dim` argument to a layer. When using Sequential models, prefer using an `Input(shape)` object as the first layer in the model instead.\n",
      "  super().__init__(activity_regularizer=activity_regularizer, **kwargs)\n",
      "c:\\Users\\winyan\\AppData\\Local\\Programs\\Python\\Python312\\Lib\\site-packages\\scikeras\\wrappers.py:925: UserWarning: ``build_fn`` will be renamed to ``model`` in a future release, at which point use of ``build_fn`` will raise an Error instead.\n",
      "  X, y = self._initialize(X, y)\n",
      "c:\\Users\\winyan\\AppData\\Local\\Programs\\Python\\Python312\\Lib\\site-packages\\keras\\src\\layers\\core\\dense.py:86: UserWarning: Do not pass an `input_shape`/`input_dim` argument to a layer. When using Sequential models, prefer using an `Input(shape)` object as the first layer in the model instead.\n",
      "  super().__init__(activity_regularizer=activity_regularizer, **kwargs)\n",
      "c:\\Users\\winyan\\AppData\\Local\\Programs\\Python\\Python312\\Lib\\site-packages\\scikeras\\wrappers.py:925: UserWarning: ``build_fn`` will be renamed to ``model`` in a future release, at which point use of ``build_fn`` will raise an Error instead.\n",
      "  X, y = self._initialize(X, y)\n",
      "c:\\Users\\winyan\\AppData\\Local\\Programs\\Python\\Python312\\Lib\\site-packages\\keras\\src\\layers\\core\\dense.py:86: UserWarning: Do not pass an `input_shape`/`input_dim` argument to a layer. When using Sequential models, prefer using an `Input(shape)` object as the first layer in the model instead.\n",
      "  super().__init__(activity_regularizer=activity_regularizer, **kwargs)\n",
      "c:\\Users\\winyan\\AppData\\Local\\Programs\\Python\\Python312\\Lib\\site-packages\\scikeras\\wrappers.py:925: UserWarning: ``build_fn`` will be renamed to ``model`` in a future release, at which point use of ``build_fn`` will raise an Error instead.\n",
      "  X, y = self._initialize(X, y)\n",
      "c:\\Users\\winyan\\AppData\\Local\\Programs\\Python\\Python312\\Lib\\site-packages\\keras\\src\\layers\\core\\dense.py:86: UserWarning: Do not pass an `input_shape`/`input_dim` argument to a layer. When using Sequential models, prefer using an `Input(shape)` object as the first layer in the model instead.\n",
      "  super().__init__(activity_regularizer=activity_regularizer, **kwargs)\n",
      "c:\\Users\\winyan\\AppData\\Local\\Programs\\Python\\Python312\\Lib\\site-packages\\scikeras\\wrappers.py:925: UserWarning: ``build_fn`` will be renamed to ``model`` in a future release, at which point use of ``build_fn`` will raise an Error instead.\n",
      "  X, y = self._initialize(X, y)\n",
      "c:\\Users\\winyan\\AppData\\Local\\Programs\\Python\\Python312\\Lib\\site-packages\\keras\\src\\layers\\core\\dense.py:86: UserWarning: Do not pass an `input_shape`/`input_dim` argument to a layer. When using Sequential models, prefer using an `Input(shape)` object as the first layer in the model instead.\n",
      "  super().__init__(activity_regularizer=activity_regularizer, **kwargs)\n",
      "c:\\Users\\winyan\\AppData\\Local\\Programs\\Python\\Python312\\Lib\\site-packages\\scikeras\\wrappers.py:925: UserWarning: ``build_fn`` will be renamed to ``model`` in a future release, at which point use of ``build_fn`` will raise an Error instead.\n",
      "  X, y = self._initialize(X, y)\n",
      "c:\\Users\\winyan\\AppData\\Local\\Programs\\Python\\Python312\\Lib\\site-packages\\keras\\src\\layers\\core\\dense.py:86: UserWarning: Do not pass an `input_shape`/`input_dim` argument to a layer. When using Sequential models, prefer using an `Input(shape)` object as the first layer in the model instead.\n",
      "  super().__init__(activity_regularizer=activity_regularizer, **kwargs)\n",
      "c:\\Users\\winyan\\AppData\\Local\\Programs\\Python\\Python312\\Lib\\site-packages\\scikeras\\wrappers.py:925: UserWarning: ``build_fn`` will be renamed to ``model`` in a future release, at which point use of ``build_fn`` will raise an Error instead.\n",
      "  X, y = self._initialize(X, y)\n",
      "c:\\Users\\winyan\\AppData\\Local\\Programs\\Python\\Python312\\Lib\\site-packages\\keras\\src\\layers\\core\\dense.py:86: UserWarning: Do not pass an `input_shape`/`input_dim` argument to a layer. When using Sequential models, prefer using an `Input(shape)` object as the first layer in the model instead.\n",
      "  super().__init__(activity_regularizer=activity_regularizer, **kwargs)\n",
      "c:\\Users\\winyan\\AppData\\Local\\Programs\\Python\\Python312\\Lib\\site-packages\\scikeras\\wrappers.py:925: UserWarning: ``build_fn`` will be renamed to ``model`` in a future release, at which point use of ``build_fn`` will raise an Error instead.\n",
      "  X, y = self._initialize(X, y)\n",
      "c:\\Users\\winyan\\AppData\\Local\\Programs\\Python\\Python312\\Lib\\site-packages\\keras\\src\\layers\\core\\dense.py:86: UserWarning: Do not pass an `input_shape`/`input_dim` argument to a layer. When using Sequential models, prefer using an `Input(shape)` object as the first layer in the model instead.\n",
      "  super().__init__(activity_regularizer=activity_regularizer, **kwargs)\n",
      "c:\\Users\\winyan\\AppData\\Local\\Programs\\Python\\Python312\\Lib\\site-packages\\scikeras\\wrappers.py:925: UserWarning: ``build_fn`` will be renamed to ``model`` in a future release, at which point use of ``build_fn`` will raise an Error instead.\n",
      "  X, y = self._initialize(X, y)\n",
      "c:\\Users\\winyan\\AppData\\Local\\Programs\\Python\\Python312\\Lib\\site-packages\\keras\\src\\layers\\core\\dense.py:86: UserWarning: Do not pass an `input_shape`/`input_dim` argument to a layer. When using Sequential models, prefer using an `Input(shape)` object as the first layer in the model instead.\n",
      "  super().__init__(activity_regularizer=activity_regularizer, **kwargs)\n",
      "c:\\Users\\winyan\\AppData\\Local\\Programs\\Python\\Python312\\Lib\\site-packages\\scikeras\\wrappers.py:925: UserWarning: ``build_fn`` will be renamed to ``model`` in a future release, at which point use of ``build_fn`` will raise an Error instead.\n",
      "  X, y = self._initialize(X, y)\n",
      "c:\\Users\\winyan\\AppData\\Local\\Programs\\Python\\Python312\\Lib\\site-packages\\keras\\src\\layers\\core\\dense.py:86: UserWarning: Do not pass an `input_shape`/`input_dim` argument to a layer. When using Sequential models, prefer using an `Input(shape)` object as the first layer in the model instead.\n",
      "  super().__init__(activity_regularizer=activity_regularizer, **kwargs)\n",
      "c:\\Users\\winyan\\AppData\\Local\\Programs\\Python\\Python312\\Lib\\site-packages\\scikeras\\wrappers.py:925: UserWarning: ``build_fn`` will be renamed to ``model`` in a future release, at which point use of ``build_fn`` will raise an Error instead.\n",
      "  X, y = self._initialize(X, y)\n",
      "c:\\Users\\winyan\\AppData\\Local\\Programs\\Python\\Python312\\Lib\\site-packages\\keras\\src\\layers\\core\\dense.py:86: UserWarning: Do not pass an `input_shape`/`input_dim` argument to a layer. When using Sequential models, prefer using an `Input(shape)` object as the first layer in the model instead.\n",
      "  super().__init__(activity_regularizer=activity_regularizer, **kwargs)\n",
      "c:\\Users\\winyan\\AppData\\Local\\Programs\\Python\\Python312\\Lib\\site-packages\\scikeras\\wrappers.py:925: UserWarning: ``build_fn`` will be renamed to ``model`` in a future release, at which point use of ``build_fn`` will raise an Error instead.\n",
      "  X, y = self._initialize(X, y)\n",
      "c:\\Users\\winyan\\AppData\\Local\\Programs\\Python\\Python312\\Lib\\site-packages\\keras\\src\\layers\\core\\dense.py:86: UserWarning: Do not pass an `input_shape`/`input_dim` argument to a layer. When using Sequential models, prefer using an `Input(shape)` object as the first layer in the model instead.\n",
      "  super().__init__(activity_regularizer=activity_regularizer, **kwargs)\n",
      "c:\\Users\\winyan\\AppData\\Local\\Programs\\Python\\Python312\\Lib\\site-packages\\scikeras\\wrappers.py:925: UserWarning: ``build_fn`` will be renamed to ``model`` in a future release, at which point use of ``build_fn`` will raise an Error instead.\n",
      "  X, y = self._initialize(X, y)\n",
      "c:\\Users\\winyan\\AppData\\Local\\Programs\\Python\\Python312\\Lib\\site-packages\\keras\\src\\layers\\core\\dense.py:86: UserWarning: Do not pass an `input_shape`/`input_dim` argument to a layer. When using Sequential models, prefer using an `Input(shape)` object as the first layer in the model instead.\n",
      "  super().__init__(activity_regularizer=activity_regularizer, **kwargs)\n",
      "c:\\Users\\winyan\\AppData\\Local\\Programs\\Python\\Python312\\Lib\\site-packages\\scikeras\\wrappers.py:925: UserWarning: ``build_fn`` will be renamed to ``model`` in a future release, at which point use of ``build_fn`` will raise an Error instead.\n",
      "  X, y = self._initialize(X, y)\n",
      "c:\\Users\\winyan\\AppData\\Local\\Programs\\Python\\Python312\\Lib\\site-packages\\keras\\src\\layers\\core\\dense.py:86: UserWarning: Do not pass an `input_shape`/`input_dim` argument to a layer. When using Sequential models, prefer using an `Input(shape)` object as the first layer in the model instead.\n",
      "  super().__init__(activity_regularizer=activity_regularizer, **kwargs)\n",
      "c:\\Users\\winyan\\AppData\\Local\\Programs\\Python\\Python312\\Lib\\site-packages\\scikeras\\wrappers.py:925: UserWarning: ``build_fn`` will be renamed to ``model`` in a future release, at which point use of ``build_fn`` will raise an Error instead.\n",
      "  X, y = self._initialize(X, y)\n",
      "c:\\Users\\winyan\\AppData\\Local\\Programs\\Python\\Python312\\Lib\\site-packages\\keras\\src\\layers\\core\\dense.py:86: UserWarning: Do not pass an `input_shape`/`input_dim` argument to a layer. When using Sequential models, prefer using an `Input(shape)` object as the first layer in the model instead.\n",
      "  super().__init__(activity_regularizer=activity_regularizer, **kwargs)\n",
      "c:\\Users\\winyan\\AppData\\Local\\Programs\\Python\\Python312\\Lib\\site-packages\\scikeras\\wrappers.py:925: UserWarning: ``build_fn`` will be renamed to ``model`` in a future release, at which point use of ``build_fn`` will raise an Error instead.\n",
      "  X, y = self._initialize(X, y)\n",
      "c:\\Users\\winyan\\AppData\\Local\\Programs\\Python\\Python312\\Lib\\site-packages\\keras\\src\\layers\\core\\dense.py:86: UserWarning: Do not pass an `input_shape`/`input_dim` argument to a layer. When using Sequential models, prefer using an `Input(shape)` object as the first layer in the model instead.\n",
      "  super().__init__(activity_regularizer=activity_regularizer, **kwargs)\n",
      "c:\\Users\\winyan\\AppData\\Local\\Programs\\Python\\Python312\\Lib\\site-packages\\scikeras\\wrappers.py:925: UserWarning: ``build_fn`` will be renamed to ``model`` in a future release, at which point use of ``build_fn`` will raise an Error instead.\n",
      "  X, y = self._initialize(X, y)\n",
      "c:\\Users\\winyan\\AppData\\Local\\Programs\\Python\\Python312\\Lib\\site-packages\\keras\\src\\layers\\core\\dense.py:86: UserWarning: Do not pass an `input_shape`/`input_dim` argument to a layer. When using Sequential models, prefer using an `Input(shape)` object as the first layer in the model instead.\n",
      "  super().__init__(activity_regularizer=activity_regularizer, **kwargs)\n",
      "c:\\Users\\winyan\\AppData\\Local\\Programs\\Python\\Python312\\Lib\\site-packages\\scikeras\\wrappers.py:925: UserWarning: ``build_fn`` will be renamed to ``model`` in a future release, at which point use of ``build_fn`` will raise an Error instead.\n",
      "  X, y = self._initialize(X, y)\n",
      "c:\\Users\\winyan\\AppData\\Local\\Programs\\Python\\Python312\\Lib\\site-packages\\keras\\src\\layers\\core\\dense.py:86: UserWarning: Do not pass an `input_shape`/`input_dim` argument to a layer. When using Sequential models, prefer using an `Input(shape)` object as the first layer in the model instead.\n",
      "  super().__init__(activity_regularizer=activity_regularizer, **kwargs)\n",
      "c:\\Users\\winyan\\AppData\\Local\\Programs\\Python\\Python312\\Lib\\site-packages\\scikeras\\wrappers.py:925: UserWarning: ``build_fn`` will be renamed to ``model`` in a future release, at which point use of ``build_fn`` will raise an Error instead.\n",
      "  X, y = self._initialize(X, y)\n",
      "c:\\Users\\winyan\\AppData\\Local\\Programs\\Python\\Python312\\Lib\\site-packages\\keras\\src\\layers\\core\\dense.py:86: UserWarning: Do not pass an `input_shape`/`input_dim` argument to a layer. When using Sequential models, prefer using an `Input(shape)` object as the first layer in the model instead.\n",
      "  super().__init__(activity_regularizer=activity_regularizer, **kwargs)\n",
      "c:\\Users\\winyan\\AppData\\Local\\Programs\\Python\\Python312\\Lib\\site-packages\\scikeras\\wrappers.py:925: UserWarning: ``build_fn`` will be renamed to ``model`` in a future release, at which point use of ``build_fn`` will raise an Error instead.\n",
      "  X, y = self._initialize(X, y)\n",
      "c:\\Users\\winyan\\AppData\\Local\\Programs\\Python\\Python312\\Lib\\site-packages\\keras\\src\\layers\\core\\dense.py:86: UserWarning: Do not pass an `input_shape`/`input_dim` argument to a layer. When using Sequential models, prefer using an `Input(shape)` object as the first layer in the model instead.\n",
      "  super().__init__(activity_regularizer=activity_regularizer, **kwargs)\n",
      "c:\\Users\\winyan\\AppData\\Local\\Programs\\Python\\Python312\\Lib\\site-packages\\scikeras\\wrappers.py:925: UserWarning: ``build_fn`` will be renamed to ``model`` in a future release, at which point use of ``build_fn`` will raise an Error instead.\n",
      "  X, y = self._initialize(X, y)\n",
      "c:\\Users\\winyan\\AppData\\Local\\Programs\\Python\\Python312\\Lib\\site-packages\\keras\\src\\layers\\core\\dense.py:86: UserWarning: Do not pass an `input_shape`/`input_dim` argument to a layer. When using Sequential models, prefer using an `Input(shape)` object as the first layer in the model instead.\n",
      "  super().__init__(activity_regularizer=activity_regularizer, **kwargs)\n"
     ]
    }
   ],
   "source": [
    "nn_tuning_f1_under = RandomizedSearchCV(estimator=pipeline_under,\n",
    "                                   param_distributions=param_grid,\n",
    "                                   n_iter=10,\n",
    "                                   cv=3,\n",
    "                                   random_state=42,\n",
    "                                   scoring='f1')\n",
    "\n",
    "r_nn_tuning_f1_under= nn_tuning_f1_under.fit(X_train_minmax, y_train)"
   ]
  },
  {
   "cell_type": "code",
   "execution_count": null,
   "metadata": {},
   "outputs": [
    {
     "name": "stdout",
     "output_type": "stream",
     "text": [
      "Test Result:\n",
      "================================================\n",
      "Accuracy Score: 77.54%\n",
      "_______________________________________________\n",
      "CLASSIFICATION REPORT:\n",
      "                      0             1  accuracy      macro avg   weighted avg\n",
      "precision      0.937520      0.459679  0.775441       0.698600       0.843287\n",
      "recall         0.771708      0.790639  0.775441       0.781173       0.775441\n",
      "f1-score       0.846571      0.581356  0.775441       0.713964       0.794269\n",
      "support    90279.000000  22177.000000  0.775441  112456.000000  112456.000000\n",
      "_______________________________________________\n",
      "Confusion Matrix: \n",
      " [[69669 20610]\n",
      " [ 4643 17534]]\n",
      "\n",
      "Area Under the Precision-Recall Curve (AUPRC): 0.4047\n"
     ]
    }
   ],
   "source": [
    "y_test_pred_f1_under = nn_tuning_f1_under.predict(X_test_minmax)\n",
    "evaluate_nn(y_test, y_test_pred_f1_under, train=False)"
   ]
  },
  {
   "cell_type": "code",
   "execution_count": null,
   "metadata": {},
   "outputs": [
    {
     "data": {
      "image/png": "[encoded data removed]",
      "text/plain": [
       "<Figure size 800x600 with 2 Axes>"
      ]
     },
     "metadata": {},
     "output_type": "display_data"
    },
    {
     "data": {
      "image/png": "[encoded data removed]",
      "text/plain": [
       "<Figure size 800x600 with 1 Axes>"
      ]
     },
     "metadata": {},
     "output_type": "display_data"
    },
    {
     "name": "stdout",
     "output_type": "stream",
     "text": [
      "0.5623466563748425\n"
     ]
    }
   ],
   "source": [
    "y_pred_op_f1 = (y_test_pred_f1_under > 0.5).astype(int)\n",
    "\n",
    "cm = confusion_matrix(y_test, y_pred_op_f1)\n",
    "\n",
    "fig, ax = plt.subplots(figsize=(8, 6))\n",
    "sns.heatmap(cm, annot=True, fmt='d', cmap='Blues', ax=ax)\n",
    "ax.set_xlabel('Predicted Labels')\n",
    "ax.set_ylabel('True Labels')\n",
    "ax.set_title('Confusion Matrix')\n",
    "ax.xaxis.set_ticklabels(['Fully Paid', 'Default'])\n",
    "ax.yaxis.set_ticklabels(['Fully Paid', 'Default'])\n",
    "plt.show()\n",
    "\n",
    "fpr, tpr, _ = roc_curve(y_test, y_test_pred_f1_under)\n",
    "roc_auc = auc(fpr, tpr)\n",
    "\n",
    "# Plot ROC curve\n",
    "plt.figure(figsize=(8, 6))\n",
    "plt.plot(fpr, tpr, color='darkorange', lw=2, label=f'ROC curve (area = {roc_auc:.2f})')\n",
    "plt.xlim([0.0, 1.0])\n",
    "plt.ylim([0.0, 1.05])\n",
    "plt.xlabel('False Positive Rate')\n",
    "plt.ylabel('True Positive Rate')\n",
    "plt.legend(loc=\"lower right\")\n",
    "plt.show()\n",
    "\n",
    "# Calculate True Positive Rate (TPR) and False Positive Rate (FPR)\n",
    "fpr, tpr, thresholds = roc_curve(y_test, y_test_pred_f1_under)\n",
    "\n",
    "# Calculate Kolmogorov-Smirnov measure (KS)\n",
    "ks = max(tpr - fpr)\n",
    "\n",
    "print(ks)"
   ]
  },
  {
   "cell_type": "markdown",
   "metadata": {},
   "source": [
    "## AUC:PRC"
   ]
  },
  {
   "cell_type": "code",
   "execution_count": null,
   "metadata": {},
   "outputs": [
    {
     "name": "stderr",
     "output_type": "stream",
     "text": [
      "c:\\Users\\winyan\\AppData\\Local\\Programs\\Python\\Python312\\Lib\\site-packages\\sklearn\\metrics\\_scorer.py:548: FutureWarning: The `needs_threshold` and `needs_proba` parameter are deprecated in version 1.4 and will be removed in 1.6. You can either let `response_method` be `None` or set it to `predict` to preserve the same behaviour.\n",
      "  warnings.warn(\n",
      "c:\\Users\\winyan\\AppData\\Local\\Programs\\Python\\Python312\\Lib\\site-packages\\scikeras\\wrappers.py:925: UserWarning: ``build_fn`` will be renamed to ``model`` in a future release, at which point use of ``build_fn`` will raise an Error instead.\n",
      "  X, y = self._initialize(X, y)\n",
      "c:\\Users\\winyan\\AppData\\Local\\Programs\\Python\\Python312\\Lib\\site-packages\\keras\\src\\layers\\core\\dense.py:86: UserWarning: Do not pass an `input_shape`/`input_dim` argument to a layer. When using Sequential models, prefer using an `Input(shape)` object as the first layer in the model instead.\n",
      "  super().__init__(activity_regularizer=activity_regularizer, **kwargs)\n",
      "c:\\Users\\winyan\\AppData\\Local\\Programs\\Python\\Python312\\Lib\\site-packages\\scikeras\\wrappers.py:925: UserWarning: ``build_fn`` will be renamed to ``model`` in a future release, at which point use of ``build_fn`` will raise an Error instead.\n",
      "  X, y = self._initialize(X, y)\n",
      "c:\\Users\\winyan\\AppData\\Local\\Programs\\Python\\Python312\\Lib\\site-packages\\keras\\src\\layers\\core\\dense.py:86: UserWarning: Do not pass an `input_shape`/`input_dim` argument to a layer. When using Sequential models, prefer using an `Input(shape)` object as the first layer in the model instead.\n",
      "  super().__init__(activity_regularizer=activity_regularizer, **kwargs)\n",
      "c:\\Users\\winyan\\AppData\\Local\\Programs\\Python\\Python312\\Lib\\site-packages\\scikeras\\wrappers.py:925: UserWarning: ``build_fn`` will be renamed to ``model`` in a future release, at which point use of ``build_fn`` will raise an Error instead.\n",
      "  X, y = self._initialize(X, y)\n",
      "c:\\Users\\winyan\\AppData\\Local\\Programs\\Python\\Python312\\Lib\\site-packages\\keras\\src\\layers\\core\\dense.py:86: UserWarning: Do not pass an `input_shape`/`input_dim` argument to a layer. When using Sequential models, prefer using an `Input(shape)` object as the first layer in the model instead.\n",
      "  super().__init__(activity_regularizer=activity_regularizer, **kwargs)\n",
      "c:\\Users\\winyan\\AppData\\Local\\Programs\\Python\\Python312\\Lib\\site-packages\\scikeras\\wrappers.py:925: UserWarning: ``build_fn`` will be renamed to ``model`` in a future release, at which point use of ``build_fn`` will raise an Error instead.\n",
      "  X, y = self._initialize(X, y)\n",
      "c:\\Users\\winyan\\AppData\\Local\\Programs\\Python\\Python312\\Lib\\site-packages\\keras\\src\\layers\\core\\dense.py:86: UserWarning: Do not pass an `input_shape`/`input_dim` argument to a layer. When using Sequential models, prefer using an `Input(shape)` object as the first layer in the model instead.\n",
      "  super().__init__(activity_regularizer=activity_regularizer, **kwargs)\n",
      "c:\\Users\\winyan\\AppData\\Local\\Programs\\Python\\Python312\\Lib\\site-packages\\scikeras\\wrappers.py:925: UserWarning: ``build_fn`` will be renamed to ``model`` in a future release, at which point use of ``build_fn`` will raise an Error instead.\n",
      "  X, y = self._initialize(X, y)\n",
      "c:\\Users\\winyan\\AppData\\Local\\Programs\\Python\\Python312\\Lib\\site-packages\\keras\\src\\layers\\core\\dense.py:86: UserWarning: Do not pass an `input_shape`/`input_dim` argument to a layer. When using Sequential models, prefer using an `Input(shape)` object as the first layer in the model instead.\n",
      "  super().__init__(activity_regularizer=activity_regularizer, **kwargs)\n",
      "c:\\Users\\winyan\\AppData\\Local\\Programs\\Python\\Python312\\Lib\\site-packages\\scikeras\\wrappers.py:925: UserWarning: ``build_fn`` will be renamed to ``model`` in a future release, at which point use of ``build_fn`` will raise an Error instead.\n",
      "  X, y = self._initialize(X, y)\n",
      "c:\\Users\\winyan\\AppData\\Local\\Programs\\Python\\Python312\\Lib\\site-packages\\keras\\src\\layers\\core\\dense.py:86: UserWarning: Do not pass an `input_shape`/`input_dim` argument to a layer. When using Sequential models, prefer using an `Input(shape)` object as the first layer in the model instead.\n",
      "  super().__init__(activity_regularizer=activity_regularizer, **kwargs)\n",
      "c:\\Users\\winyan\\AppData\\Local\\Programs\\Python\\Python312\\Lib\\site-packages\\scikeras\\wrappers.py:925: UserWarning: ``build_fn`` will be renamed to ``model`` in a future release, at which point use of ``build_fn`` will raise an Error instead.\n",
      "  X, y = self._initialize(X, y)\n",
      "c:\\Users\\winyan\\AppData\\Local\\Programs\\Python\\Python312\\Lib\\site-packages\\keras\\src\\layers\\core\\dense.py:86: UserWarning: Do not pass an `input_shape`/`input_dim` argument to a layer. When using Sequential models, prefer using an `Input(shape)` object as the first layer in the model instead.\n",
      "  super().__init__(activity_regularizer=activity_regularizer, **kwargs)\n",
      "c:\\Users\\winyan\\AppData\\Local\\Programs\\Python\\Python312\\Lib\\site-packages\\scikeras\\wrappers.py:925: UserWarning: ``build_fn`` will be renamed to ``model`` in a future release, at which point use of ``build_fn`` will raise an Error instead.\n",
      "  X, y = self._initialize(X, y)\n",
      "c:\\Users\\winyan\\AppData\\Local\\Programs\\Python\\Python312\\Lib\\site-packages\\keras\\src\\layers\\core\\dense.py:86: UserWarning: Do not pass an `input_shape`/`input_dim` argument to a layer. When using Sequential models, prefer using an `Input(shape)` object as the first layer in the model instead.\n",
      "  super().__init__(activity_regularizer=activity_regularizer, **kwargs)\n",
      "c:\\Users\\winyan\\AppData\\Local\\Programs\\Python\\Python312\\Lib\\site-packages\\scikeras\\wrappers.py:925: UserWarning: ``build_fn`` will be renamed to ``model`` in a future release, at which point use of ``build_fn`` will raise an Error instead.\n",
      "  X, y = self._initialize(X, y)\n",
      "c:\\Users\\winyan\\AppData\\Local\\Programs\\Python\\Python312\\Lib\\site-packages\\keras\\src\\layers\\core\\dense.py:86: UserWarning: Do not pass an `input_shape`/`input_dim` argument to a layer. When using Sequential models, prefer using an `Input(shape)` object as the first layer in the model instead.\n",
      "  super().__init__(activity_regularizer=activity_regularizer, **kwargs)\n",
      "c:\\Users\\winyan\\AppData\\Local\\Programs\\Python\\Python312\\Lib\\site-packages\\scikeras\\wrappers.py:925: UserWarning: ``build_fn`` will be renamed to ``model`` in a future release, at which point use of ``build_fn`` will raise an Error instead.\n",
      "  X, y = self._initialize(X, y)\n",
      "c:\\Users\\winyan\\AppData\\Local\\Programs\\Python\\Python312\\Lib\\site-packages\\keras\\src\\layers\\core\\dense.py:86: UserWarning: Do not pass an `input_shape`/`input_dim` argument to a layer. When using Sequential models, prefer using an `Input(shape)` object as the first layer in the model instead.\n",
      "  super().__init__(activity_regularizer=activity_regularizer, **kwargs)\n",
      "c:\\Users\\winyan\\AppData\\Local\\Programs\\Python\\Python312\\Lib\\site-packages\\scikeras\\wrappers.py:925: UserWarning: ``build_fn`` will be renamed to ``model`` in a future release, at which point use of ``build_fn`` will raise an Error instead.\n",
      "  X, y = self._initialize(X, y)\n",
      "c:\\Users\\winyan\\AppData\\Local\\Programs\\Python\\Python312\\Lib\\site-packages\\keras\\src\\layers\\core\\dense.py:86: UserWarning: Do not pass an `input_shape`/`input_dim` argument to a layer. When using Sequential models, prefer using an `Input(shape)` object as the first layer in the model instead.\n",
      "  super().__init__(activity_regularizer=activity_regularizer, **kwargs)\n",
      "c:\\Users\\winyan\\AppData\\Local\\Programs\\Python\\Python312\\Lib\\site-packages\\scikeras\\wrappers.py:925: UserWarning: ``build_fn`` will be renamed to ``model`` in a future release, at which point use of ``build_fn`` will raise an Error instead.\n",
      "  X, y = self._initialize(X, y)\n",
      "c:\\Users\\winyan\\AppData\\Local\\Programs\\Python\\Python312\\Lib\\site-packages\\keras\\src\\layers\\core\\dense.py:86: UserWarning: Do not pass an `input_shape`/`input_dim` argument to a layer. When using Sequential models, prefer using an `Input(shape)` object as the first layer in the model instead.\n",
      "  super().__init__(activity_regularizer=activity_regularizer, **kwargs)\n",
      "c:\\Users\\winyan\\AppData\\Local\\Programs\\Python\\Python312\\Lib\\site-packages\\scikeras\\wrappers.py:925: UserWarning: ``build_fn`` will be renamed to ``model`` in a future release, at which point use of ``build_fn`` will raise an Error instead.\n",
      "  X, y = self._initialize(X, y)\n",
      "c:\\Users\\winyan\\AppData\\Local\\Programs\\Python\\Python312\\Lib\\site-packages\\keras\\src\\layers\\core\\dense.py:86: UserWarning: Do not pass an `input_shape`/`input_dim` argument to a layer. When using Sequential models, prefer using an `Input(shape)` object as the first layer in the model instead.\n",
      "  super().__init__(activity_regularizer=activity_regularizer, **kwargs)\n",
      "c:\\Users\\winyan\\AppData\\Local\\Programs\\Python\\Python312\\Lib\\site-packages\\scikeras\\wrappers.py:925: UserWarning: ``build_fn`` will be renamed to ``model`` in a future release, at which point use of ``build_fn`` will raise an Error instead.\n",
      "  X, y = self._initialize(X, y)\n",
      "c:\\Users\\winyan\\AppData\\Local\\Programs\\Python\\Python312\\Lib\\site-packages\\keras\\src\\layers\\core\\dense.py:86: UserWarning: Do not pass an `input_shape`/`input_dim` argument to a layer. When using Sequential models, prefer using an `Input(shape)` object as the first layer in the model instead.\n",
      "  super().__init__(activity_regularizer=activity_regularizer, **kwargs)\n",
      "c:\\Users\\winyan\\AppData\\Local\\Programs\\Python\\Python312\\Lib\\site-packages\\scikeras\\wrappers.py:925: UserWarning: ``build_fn`` will be renamed to ``model`` in a future release, at which point use of ``build_fn`` will raise an Error instead.\n",
      "  X, y = self._initialize(X, y)\n",
      "c:\\Users\\winyan\\AppData\\Local\\Programs\\Python\\Python312\\Lib\\site-packages\\keras\\src\\layers\\core\\dense.py:86: UserWarning: Do not pass an `input_shape`/`input_dim` argument to a layer. When using Sequential models, prefer using an `Input(shape)` object as the first layer in the model instead.\n",
      "  super().__init__(activity_regularizer=activity_regularizer, **kwargs)\n",
      "c:\\Users\\winyan\\AppData\\Local\\Programs\\Python\\Python312\\Lib\\site-packages\\scikeras\\wrappers.py:925: UserWarning: ``build_fn`` will be renamed to ``model`` in a future release, at which point use of ``build_fn`` will raise an Error instead.\n",
      "  X, y = self._initialize(X, y)\n",
      "c:\\Users\\winyan\\AppData\\Local\\Programs\\Python\\Python312\\Lib\\site-packages\\keras\\src\\layers\\core\\dense.py:86: UserWarning: Do not pass an `input_shape`/`input_dim` argument to a layer. When using Sequential models, prefer using an `Input(shape)` object as the first layer in the model instead.\n",
      "  super().__init__(activity_regularizer=activity_regularizer, **kwargs)\n",
      "c:\\Users\\winyan\\AppData\\Local\\Programs\\Python\\Python312\\Lib\\site-packages\\scikeras\\wrappers.py:925: UserWarning: ``build_fn`` will be renamed to ``model`` in a future release, at which point use of ``build_fn`` will raise an Error instead.\n",
      "  X, y = self._initialize(X, y)\n",
      "c:\\Users\\winyan\\AppData\\Local\\Programs\\Python\\Python312\\Lib\\site-packages\\keras\\src\\layers\\core\\dense.py:86: UserWarning: Do not pass an `input_shape`/`input_dim` argument to a layer. When using Sequential models, prefer using an `Input(shape)` object as the first layer in the model instead.\n",
      "  super().__init__(activity_regularizer=activity_regularizer, **kwargs)\n",
      "c:\\Users\\winyan\\AppData\\Local\\Programs\\Python\\Python312\\Lib\\site-packages\\scikeras\\wrappers.py:925: UserWarning: ``build_fn`` will be renamed to ``model`` in a future release, at which point use of ``build_fn`` will raise an Error instead.\n",
      "  X, y = self._initialize(X, y)\n",
      "c:\\Users\\winyan\\AppData\\Local\\Programs\\Python\\Python312\\Lib\\site-packages\\keras\\src\\layers\\core\\dense.py:86: UserWarning: Do not pass an `input_shape`/`input_dim` argument to a layer. When using Sequential models, prefer using an `Input(shape)` object as the first layer in the model instead.\n",
      "  super().__init__(activity_regularizer=activity_regularizer, **kwargs)\n",
      "c:\\Users\\winyan\\AppData\\Local\\Programs\\Python\\Python312\\Lib\\site-packages\\scikeras\\wrappers.py:925: UserWarning: ``build_fn`` will be renamed to ``model`` in a future release, at which point use of ``build_fn`` will raise an Error instead.\n",
      "  X, y = self._initialize(X, y)\n",
      "c:\\Users\\winyan\\AppData\\Local\\Programs\\Python\\Python312\\Lib\\site-packages\\keras\\src\\layers\\core\\dense.py:86: UserWarning: Do not pass an `input_shape`/`input_dim` argument to a layer. When using Sequential models, prefer using an `Input(shape)` object as the first layer in the model instead.\n",
      "  super().__init__(activity_regularizer=activity_regularizer, **kwargs)\n",
      "c:\\Users\\winyan\\AppData\\Local\\Programs\\Python\\Python312\\Lib\\site-packages\\scikeras\\wrappers.py:925: UserWarning: ``build_fn`` will be renamed to ``model`` in a future release, at which point use of ``build_fn`` will raise an Error instead.\n",
      "  X, y = self._initialize(X, y)\n",
      "c:\\Users\\winyan\\AppData\\Local\\Programs\\Python\\Python312\\Lib\\site-packages\\keras\\src\\layers\\core\\dense.py:86: UserWarning: Do not pass an `input_shape`/`input_dim` argument to a layer. When using Sequential models, prefer using an `Input(shape)` object as the first layer in the model instead.\n",
      "  super().__init__(activity_regularizer=activity_regularizer, **kwargs)\n",
      "c:\\Users\\winyan\\AppData\\Local\\Programs\\Python\\Python312\\Lib\\site-packages\\scikeras\\wrappers.py:925: UserWarning: ``build_fn`` will be renamed to ``model`` in a future release, at which point use of ``build_fn`` will raise an Error instead.\n",
      "  X, y = self._initialize(X, y)\n",
      "c:\\Users\\winyan\\AppData\\Local\\Programs\\Python\\Python312\\Lib\\site-packages\\keras\\src\\layers\\core\\dense.py:86: UserWarning: Do not pass an `input_shape`/`input_dim` argument to a layer. When using Sequential models, prefer using an `Input(shape)` object as the first layer in the model instead.\n",
      "  super().__init__(activity_regularizer=activity_regularizer, **kwargs)\n",
      "c:\\Users\\winyan\\AppData\\Local\\Programs\\Python\\Python312\\Lib\\site-packages\\scikeras\\wrappers.py:925: UserWarning: ``build_fn`` will be renamed to ``model`` in a future release, at which point use of ``build_fn`` will raise an Error instead.\n",
      "  X, y = self._initialize(X, y)\n",
      "c:\\Users\\winyan\\AppData\\Local\\Programs\\Python\\Python312\\Lib\\site-packages\\keras\\src\\layers\\core\\dense.py:86: UserWarning: Do not pass an `input_shape`/`input_dim` argument to a layer. When using Sequential models, prefer using an `Input(shape)` object as the first layer in the model instead.\n",
      "  super().__init__(activity_regularizer=activity_regularizer, **kwargs)\n",
      "c:\\Users\\winyan\\AppData\\Local\\Programs\\Python\\Python312\\Lib\\site-packages\\scikeras\\wrappers.py:925: UserWarning: ``build_fn`` will be renamed to ``model`` in a future release, at which point use of ``build_fn`` will raise an Error instead.\n",
      "  X, y = self._initialize(X, y)\n",
      "c:\\Users\\winyan\\AppData\\Local\\Programs\\Python\\Python312\\Lib\\site-packages\\keras\\src\\layers\\core\\dense.py:86: UserWarning: Do not pass an `input_shape`/`input_dim` argument to a layer. When using Sequential models, prefer using an `Input(shape)` object as the first layer in the model instead.\n",
      "  super().__init__(activity_regularizer=activity_regularizer, **kwargs)\n",
      "c:\\Users\\winyan\\AppData\\Local\\Programs\\Python\\Python312\\Lib\\site-packages\\scikeras\\wrappers.py:925: UserWarning: ``build_fn`` will be renamed to ``model`` in a future release, at which point use of ``build_fn`` will raise an Error instead.\n",
      "  X, y = self._initialize(X, y)\n",
      "c:\\Users\\winyan\\AppData\\Local\\Programs\\Python\\Python312\\Lib\\site-packages\\keras\\src\\layers\\core\\dense.py:86: UserWarning: Do not pass an `input_shape`/`input_dim` argument to a layer. When using Sequential models, prefer using an `Input(shape)` object as the first layer in the model instead.\n",
      "  super().__init__(activity_regularizer=activity_regularizer, **kwargs)\n",
      "c:\\Users\\winyan\\AppData\\Local\\Programs\\Python\\Python312\\Lib\\site-packages\\scikeras\\wrappers.py:925: UserWarning: ``build_fn`` will be renamed to ``model`` in a future release, at which point use of ``build_fn`` will raise an Error instead.\n",
      "  X, y = self._initialize(X, y)\n",
      "c:\\Users\\winyan\\AppData\\Local\\Programs\\Python\\Python312\\Lib\\site-packages\\keras\\src\\layers\\core\\dense.py:86: UserWarning: Do not pass an `input_shape`/`input_dim` argument to a layer. When using Sequential models, prefer using an `Input(shape)` object as the first layer in the model instead.\n",
      "  super().__init__(activity_regularizer=activity_regularizer, **kwargs)\n",
      "c:\\Users\\winyan\\AppData\\Local\\Programs\\Python\\Python312\\Lib\\site-packages\\scikeras\\wrappers.py:925: UserWarning: ``build_fn`` will be renamed to ``model`` in a future release, at which point use of ``build_fn`` will raise an Error instead.\n",
      "  X, y = self._initialize(X, y)\n",
      "c:\\Users\\winyan\\AppData\\Local\\Programs\\Python\\Python312\\Lib\\site-packages\\keras\\src\\layers\\core\\dense.py:86: UserWarning: Do not pass an `input_shape`/`input_dim` argument to a layer. When using Sequential models, prefer using an `Input(shape)` object as the first layer in the model instead.\n",
      "  super().__init__(activity_regularizer=activity_regularizer, **kwargs)\n",
      "c:\\Users\\winyan\\AppData\\Local\\Programs\\Python\\Python312\\Lib\\site-packages\\scikeras\\wrappers.py:925: UserWarning: ``build_fn`` will be renamed to ``model`` in a future release, at which point use of ``build_fn`` will raise an Error instead.\n",
      "  X, y = self._initialize(X, y)\n",
      "c:\\Users\\winyan\\AppData\\Local\\Programs\\Python\\Python312\\Lib\\site-packages\\keras\\src\\layers\\core\\dense.py:86: UserWarning: Do not pass an `input_shape`/`input_dim` argument to a layer. When using Sequential models, prefer using an `Input(shape)` object as the first layer in the model instead.\n",
      "  super().__init__(activity_regularizer=activity_regularizer, **kwargs)\n",
      "c:\\Users\\winyan\\AppData\\Local\\Programs\\Python\\Python312\\Lib\\site-packages\\scikeras\\wrappers.py:925: UserWarning: ``build_fn`` will be renamed to ``model`` in a future release, at which point use of ``build_fn`` will raise an Error instead.\n",
      "  X, y = self._initialize(X, y)\n",
      "c:\\Users\\winyan\\AppData\\Local\\Programs\\Python\\Python312\\Lib\\site-packages\\keras\\src\\layers\\core\\dense.py:86: UserWarning: Do not pass an `input_shape`/`input_dim` argument to a layer. When using Sequential models, prefer using an `Input(shape)` object as the first layer in the model instead.\n",
      "  super().__init__(activity_regularizer=activity_regularizer, **kwargs)\n",
      "c:\\Users\\winyan\\AppData\\Local\\Programs\\Python\\Python312\\Lib\\site-packages\\scikeras\\wrappers.py:925: UserWarning: ``build_fn`` will be renamed to ``model`` in a future release, at which point use of ``build_fn`` will raise an Error instead.\n",
      "  X, y = self._initialize(X, y)\n",
      "c:\\Users\\winyan\\AppData\\Local\\Programs\\Python\\Python312\\Lib\\site-packages\\keras\\src\\layers\\core\\dense.py:86: UserWarning: Do not pass an `input_shape`/`input_dim` argument to a layer. When using Sequential models, prefer using an `Input(shape)` object as the first layer in the model instead.\n",
      "  super().__init__(activity_regularizer=activity_regularizer, **kwargs)\n",
      "c:\\Users\\winyan\\AppData\\Local\\Programs\\Python\\Python312\\Lib\\site-packages\\scikeras\\wrappers.py:925: UserWarning: ``build_fn`` will be renamed to ``model`` in a future release, at which point use of ``build_fn`` will raise an Error instead.\n",
      "  X, y = self._initialize(X, y)\n",
      "c:\\Users\\winyan\\AppData\\Local\\Programs\\Python\\Python312\\Lib\\site-packages\\keras\\src\\layers\\core\\dense.py:86: UserWarning: Do not pass an `input_shape`/`input_dim` argument to a layer. When using Sequential models, prefer using an `Input(shape)` object as the first layer in the model instead.\n",
      "  super().__init__(activity_regularizer=activity_regularizer, **kwargs)\n",
      "c:\\Users\\winyan\\AppData\\Local\\Programs\\Python\\Python312\\Lib\\site-packages\\scikeras\\wrappers.py:925: UserWarning: ``build_fn`` will be renamed to ``model`` in a future release, at which point use of ``build_fn`` will raise an Error instead.\n",
      "  X, y = self._initialize(X, y)\n",
      "c:\\Users\\winyan\\AppData\\Local\\Programs\\Python\\Python312\\Lib\\site-packages\\keras\\src\\layers\\core\\dense.py:86: UserWarning: Do not pass an `input_shape`/`input_dim` argument to a layer. When using Sequential models, prefer using an `Input(shape)` object as the first layer in the model instead.\n",
      "  super().__init__(activity_regularizer=activity_regularizer, **kwargs)\n"
     ]
    }
   ],
   "source": [
    "auprc_scorer = make_scorer(average_precision_score, needs_proba=True)\n",
    "\n",
    "nn_tuning_prc_under = RandomizedSearchCV(estimator=pipeline_under,\n",
    "                                   param_distributions=param_grid,\n",
    "                                   n_iter=10,\n",
    "                                   cv=3,\n",
    "                                   random_state=42,\n",
    "                                   scoring=auprc_scorer)\n",
    "\n",
    "r_nn_tuning_prc_under = nn_tuning_prc_under.fit(X_train_minmax, y_train)"
   ]
  },
  {
   "cell_type": "code",
   "execution_count": null,
   "metadata": {},
   "outputs": [
    {
     "name": "stdout",
     "output_type": "stream",
     "text": [
      "Test Result:\n",
      "================================================\n",
      "Accuracy Score: 80.15%\n",
      "_______________________________________________\n",
      "CLASSIFICATION REPORT:\n",
      "                      0             1  accuracy      macro avg   weighted avg\n",
      "precision      0.930076      0.497758   0.80146       0.713917       0.844820\n",
      "recall         0.813877      0.750913   0.80146       0.782395       0.801460\n",
      "f1-score       0.868105      0.598673   0.80146       0.733389       0.814972\n",
      "support    90279.000000  22177.000000   0.80146  112456.000000  112456.000000\n",
      "_______________________________________________\n",
      "Confusion Matrix: \n",
      " [[73476 16803]\n",
      " [ 5524 16653]]\n",
      "\n",
      "Area Under the Precision-Recall Curve (AUPRC): 0.4229\n"
     ]
    }
   ],
   "source": [
    "y_test_pred_prc_under = nn_tuning_prc_under.predict(X_test_minmax)\n",
    "evaluate_nn(y_test, y_test_pred_prc_under, train=False)"
   ]
  },
  {
   "cell_type": "code",
   "execution_count": null,
   "metadata": {},
   "outputs": [
    {
     "data": {
      "image/png": "[encoded data removed]",
      "text/plain": [
       "<Figure size 800x600 with 2 Axes>"
      ]
     },
     "metadata": {},
     "output_type": "display_data"
    },
    {
     "data": {
      "image/png": "[encoded data removed]",
      "text/plain": [
       "<Figure size 800x600 with 1 Axes>"
      ]
     },
     "metadata": {},
     "output_type": "display_data"
    },
    {
     "name": "stdout",
     "output_type": "stream",
     "text": [
      "0.5647900895329273\n"
     ]
    }
   ],
   "source": [
    "y_pred_op_f1 = (y_test_pred_prc_under > 0.5).astype(int)\n",
    "\n",
    "cm = confusion_matrix(y_test, y_pred_op_f1)\n",
    "\n",
    "fig, ax = plt.subplots(figsize=(8, 6))\n",
    "sns.heatmap(cm, annot=True, fmt='d', cmap='Blues', ax=ax)\n",
    "ax.set_xlabel('Predicted Labels')\n",
    "ax.set_ylabel('True Labels')\n",
    "ax.set_title('Confusion Matrix')\n",
    "ax.xaxis.set_ticklabels(['Fully Paid', 'Default'])\n",
    "ax.yaxis.set_ticklabels(['Fully Paid', 'Default'])\n",
    "plt.show()\n",
    "\n",
    "fpr, tpr, _ = roc_curve(y_test, y_test_pred_prc_under)\n",
    "roc_auc = auc(fpr, tpr)\n",
    "\n",
    "# Plot ROC curve\n",
    "plt.figure(figsize=(8, 6))\n",
    "plt.plot(fpr, tpr, color='darkorange', lw=2, label=f'ROC curve (area = {roc_auc:.2f})')\n",
    "plt.xlim([0.0, 1.0])\n",
    "plt.ylim([0.0, 1.05])\n",
    "plt.xlabel('False Positive Rate')\n",
    "plt.ylabel('True Positive Rate')\n",
    "plt.legend(loc=\"lower right\")\n",
    "plt.show()\n",
    "\n",
    "# Calculate True Positive Rate (TPR) and False Positive Rate (FPR)\n",
    "fpr, tpr, thresholds = roc_curve(y_test, y_test_pred_prc_under)\n",
    "\n",
    "# Calculate Kolmogorov-Smirnov measure (KS)\n",
    "ks = max(tpr - fpr)\n",
    "\n",
    "print(ks)"
   ]
  },
  {
   "cell_type": "code",
   "execution_count": null,
   "metadata": {},
   "outputs": [],
   "source": []
  }
 ],
 "metadata": {
  "kernelspec": {
   "display_name": "Python 3.12.1 64-bit",
   "language": "python",
   "name": "python3"
  },
  "language_info": {
   "codemirror_mode": {
    "name": "ipython",
    "version": 3
   },
   "file_extension": ".py",
   "mimetype": "text/x-python",
   "name": "python",
   "nbconvert_exporter": "python",
   "pygments_lexer": "ipython3",
   "version": "3.10.6"
  },
  "orig_nbformat": 4,
  "vscode": {
   "interpreter": {
    "hash": "4470cee6e80a5131bd93e49e7347200eb0c6c460ffb63aa3c306dd97edda2cda"
   }
  }
 },
 "nbformat": 4,
 "nbformat_minor": 2
}
