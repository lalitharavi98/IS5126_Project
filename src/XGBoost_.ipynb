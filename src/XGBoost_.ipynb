{
  "nbformat": 4,
  "nbformat_minor": 0,
  "metadata": {
    "colab": {
      "provenance": [],
      "gpuType": "T4"
    },
    "kernelspec": {
      "name": "python3",
      "display_name": "Python 3"
    },
    "language_info": {
      "name": "python"
    },
    "accelerator": "GPU"
  },
  "cells": [
    {
      "cell_type": "markdown",
      "source": [],
      "metadata": {
        "id": "ehK4Cdy-l8Xi"
      }
    },
    {
      "cell_type": "markdown",
      "source": [
        "\n",
        "\n",
        "*   Will do the Target encoding\n",
        "* Scaling the data\n",
        "*   Handle Imbalanced Data In XGBoost Using scale_pos_weight In Python\n",
        "\n"
      ],
      "metadata": {
        "id": "fYNj1mG1l8U9"
      }
    },
    {
      "cell_type": "code",
      "source": [],
      "metadata": {
        "id": "aNkuRAbO_1Oe"
      },
      "execution_count": 76,
      "outputs": []
    },
    {
      "cell_type": "markdown",
      "source": [
        "# **Basic Model - Using Cleaned Dataset**"
      ],
      "metadata": {
        "id": "v_B1KcKp_2PV"
      }
    },
    {
      "cell_type": "code",
      "source": [
        "!pip install matplotlib"
      ],
      "metadata": {
        "colab": {
          "base_uri": "https://localhost:8080/"
        },
        "id": "ndXhDJnIHcuH",
        "outputId": "ac39b096-e095-4ec0-fdaf-c4ce2e280c24"
      },
      "execution_count": 2,
      "outputs": [
        {
          "output_type": "stream",
          "name": "stdout",
          "text": [
            "Requirement already satisfied: matplotlib in /usr/local/lib/python3.10/dist-packages (3.7.1)\n",
            "Requirement already satisfied: contourpy>=1.0.1 in /usr/local/lib/python3.10/dist-packages (from matplotlib) (1.2.0)\n",
            "Requirement already satisfied: cycler>=0.10 in /usr/local/lib/python3.10/dist-packages (from matplotlib) (0.12.1)\n",
            "Requirement already satisfied: fonttools>=4.22.0 in /usr/local/lib/python3.10/dist-packages (from matplotlib) (4.50.0)\n",
            "Requirement already satisfied: kiwisolver>=1.0.1 in /usr/local/lib/python3.10/dist-packages (from matplotlib) (1.4.5)\n",
            "Requirement already satisfied: numpy>=1.20 in /usr/local/lib/python3.10/dist-packages (from matplotlib) (1.25.2)\n",
            "Requirement already satisfied: packaging>=20.0 in /usr/local/lib/python3.10/dist-packages (from matplotlib) (24.0)\n",
            "Requirement already satisfied: pillow>=6.2.0 in /usr/local/lib/python3.10/dist-packages (from matplotlib) (9.4.0)\n",
            "Requirement already satisfied: pyparsing>=2.3.1 in /usr/local/lib/python3.10/dist-packages (from matplotlib) (3.1.2)\n",
            "Requirement already satisfied: python-dateutil>=2.7 in /usr/local/lib/python3.10/dist-packages (from matplotlib) (2.8.2)\n",
            "Requirement already satisfied: six>=1.5 in /usr/local/lib/python3.10/dist-packages (from python-dateutil>=2.7->matplotlib) (1.16.0)\n"
          ]
        }
      ]
    },
    {
      "cell_type": "code",
      "source": [
        "\n",
        "from sklearn.model_selection import cross_val_score\n",
        "from sklearn import metrics\n",
        "from sklearn.metrics import confusion_matrix, classification_report,accuracy_score,precision_score,recall_score,f1_score\n",
        "from sklearn.model_selection import train_test_split\n",
        "from xgboost import XGBClassifier\n",
        "from imblearn.over_sampling import SMOTE\n",
        "from sklearn.model_selection import RandomizedSearchCV"
      ],
      "metadata": {
        "id": "i0GfbP93qTVr"
      },
      "execution_count": 3,
      "outputs": []
    },
    {
      "cell_type": "code",
      "source": [
        "from google.colab import drive\n",
        "drive.mount('/content/drive')"
      ],
      "metadata": {
        "colab": {
          "base_uri": "https://localhost:8080/",
          "height": 311
        },
        "id": "fakAhTJv_-fS",
        "outputId": "5ba239bd-c442-437d-dc2d-0c02c4f3e296"
      },
      "execution_count": 78,
      "outputs": [
        {
          "output_type": "error",
          "ename": "KeyboardInterrupt",
          "evalue": "",
          "traceback": [
            "\u001b[0;31m---------------------------------------------------------------------------\u001b[0m",
            "\u001b[0;31mKeyboardInterrupt\u001b[0m                         Traceback (most recent call last)",
            "\u001b[0;32m<ipython-input-78-d5df0069828e>\u001b[0m in \u001b[0;36m<cell line: 2>\u001b[0;34m()\u001b[0m\n\u001b[1;32m      1\u001b[0m \u001b[0;32mfrom\u001b[0m \u001b[0mgoogle\u001b[0m\u001b[0;34m.\u001b[0m\u001b[0mcolab\u001b[0m \u001b[0;32mimport\u001b[0m \u001b[0mdrive\u001b[0m\u001b[0;34m\u001b[0m\u001b[0;34m\u001b[0m\u001b[0m\n\u001b[0;32m----> 2\u001b[0;31m \u001b[0mdrive\u001b[0m\u001b[0;34m.\u001b[0m\u001b[0mmount\u001b[0m\u001b[0;34m(\u001b[0m\u001b[0;34m'/content/drive'\u001b[0m\u001b[0;34m)\u001b[0m\u001b[0;34m\u001b[0m\u001b[0;34m\u001b[0m\u001b[0m\n\u001b[0m",
            "\u001b[0;32m/usr/local/lib/python3.10/dist-packages/google/colab/drive.py\u001b[0m in \u001b[0;36mmount\u001b[0;34m(mountpoint, force_remount, timeout_ms, readonly)\u001b[0m\n\u001b[1;32m     98\u001b[0m \u001b[0;32mdef\u001b[0m \u001b[0mmount\u001b[0m\u001b[0;34m(\u001b[0m\u001b[0mmountpoint\u001b[0m\u001b[0;34m,\u001b[0m \u001b[0mforce_remount\u001b[0m\u001b[0;34m=\u001b[0m\u001b[0;32mFalse\u001b[0m\u001b[0;34m,\u001b[0m \u001b[0mtimeout_ms\u001b[0m\u001b[0;34m=\u001b[0m\u001b[0;36m120000\u001b[0m\u001b[0;34m,\u001b[0m \u001b[0mreadonly\u001b[0m\u001b[0;34m=\u001b[0m\u001b[0;32mFalse\u001b[0m\u001b[0;34m)\u001b[0m\u001b[0;34m:\u001b[0m\u001b[0;34m\u001b[0m\u001b[0;34m\u001b[0m\u001b[0m\n\u001b[1;32m     99\u001b[0m   \u001b[0;34m\"\"\"Mount your Google Drive at the specified mountpoint path.\"\"\"\u001b[0m\u001b[0;34m\u001b[0m\u001b[0;34m\u001b[0m\u001b[0m\n\u001b[0;32m--> 100\u001b[0;31m   return _mount(\n\u001b[0m\u001b[1;32m    101\u001b[0m       \u001b[0mmountpoint\u001b[0m\u001b[0;34m,\u001b[0m\u001b[0;34m\u001b[0m\u001b[0;34m\u001b[0m\u001b[0m\n\u001b[1;32m    102\u001b[0m       \u001b[0mforce_remount\u001b[0m\u001b[0;34m=\u001b[0m\u001b[0mforce_remount\u001b[0m\u001b[0;34m,\u001b[0m\u001b[0;34m\u001b[0m\u001b[0;34m\u001b[0m\u001b[0m\n",
            "\u001b[0;32m/usr/local/lib/python3.10/dist-packages/google/colab/drive.py\u001b[0m in \u001b[0;36m_mount\u001b[0;34m(mountpoint, force_remount, timeout_ms, ephemeral, readonly)\u001b[0m\n\u001b[1;32m    131\u001b[0m   )\n\u001b[1;32m    132\u001b[0m   \u001b[0;32mif\u001b[0m \u001b[0mephemeral\u001b[0m\u001b[0;34m:\u001b[0m\u001b[0;34m\u001b[0m\u001b[0;34m\u001b[0m\u001b[0m\n\u001b[0;32m--> 133\u001b[0;31m     _message.blocking_request(\n\u001b[0m\u001b[1;32m    134\u001b[0m         \u001b[0;34m'request_auth'\u001b[0m\u001b[0;34m,\u001b[0m \u001b[0mrequest\u001b[0m\u001b[0;34m=\u001b[0m\u001b[0;34m{\u001b[0m\u001b[0;34m'authType'\u001b[0m\u001b[0;34m:\u001b[0m \u001b[0;34m'dfs_ephemeral'\u001b[0m\u001b[0;34m}\u001b[0m\u001b[0;34m,\u001b[0m \u001b[0mtimeout_sec\u001b[0m\u001b[0;34m=\u001b[0m\u001b[0;32mNone\u001b[0m\u001b[0;34m\u001b[0m\u001b[0;34m\u001b[0m\u001b[0m\n\u001b[1;32m    135\u001b[0m     )\n",
            "\u001b[0;32m/usr/local/lib/python3.10/dist-packages/google/colab/_message.py\u001b[0m in \u001b[0;36mblocking_request\u001b[0;34m(request_type, request, timeout_sec, parent)\u001b[0m\n\u001b[1;32m    174\u001b[0m       \u001b[0mrequest_type\u001b[0m\u001b[0;34m,\u001b[0m \u001b[0mrequest\u001b[0m\u001b[0;34m,\u001b[0m \u001b[0mparent\u001b[0m\u001b[0;34m=\u001b[0m\u001b[0mparent\u001b[0m\u001b[0;34m,\u001b[0m \u001b[0mexpect_reply\u001b[0m\u001b[0;34m=\u001b[0m\u001b[0;32mTrue\u001b[0m\u001b[0;34m\u001b[0m\u001b[0;34m\u001b[0m\u001b[0m\n\u001b[1;32m    175\u001b[0m   )\n\u001b[0;32m--> 176\u001b[0;31m   \u001b[0;32mreturn\u001b[0m \u001b[0mread_reply_from_input\u001b[0m\u001b[0;34m(\u001b[0m\u001b[0mrequest_id\u001b[0m\u001b[0;34m,\u001b[0m \u001b[0mtimeout_sec\u001b[0m\u001b[0;34m)\u001b[0m\u001b[0;34m\u001b[0m\u001b[0;34m\u001b[0m\u001b[0m\n\u001b[0m",
            "\u001b[0;32m/usr/local/lib/python3.10/dist-packages/google/colab/_message.py\u001b[0m in \u001b[0;36mread_reply_from_input\u001b[0;34m(message_id, timeout_sec)\u001b[0m\n\u001b[1;32m     94\u001b[0m     \u001b[0mreply\u001b[0m \u001b[0;34m=\u001b[0m \u001b[0m_read_next_input_message\u001b[0m\u001b[0;34m(\u001b[0m\u001b[0;34m)\u001b[0m\u001b[0;34m\u001b[0m\u001b[0;34m\u001b[0m\u001b[0m\n\u001b[1;32m     95\u001b[0m     \u001b[0;32mif\u001b[0m \u001b[0mreply\u001b[0m \u001b[0;34m==\u001b[0m \u001b[0m_NOT_READY\u001b[0m \u001b[0;32mor\u001b[0m \u001b[0;32mnot\u001b[0m \u001b[0misinstance\u001b[0m\u001b[0;34m(\u001b[0m\u001b[0mreply\u001b[0m\u001b[0;34m,\u001b[0m \u001b[0mdict\u001b[0m\u001b[0;34m)\u001b[0m\u001b[0;34m:\u001b[0m\u001b[0;34m\u001b[0m\u001b[0;34m\u001b[0m\u001b[0m\n\u001b[0;32m---> 96\u001b[0;31m       \u001b[0mtime\u001b[0m\u001b[0;34m.\u001b[0m\u001b[0msleep\u001b[0m\u001b[0;34m(\u001b[0m\u001b[0;36m0.025\u001b[0m\u001b[0;34m)\u001b[0m\u001b[0;34m\u001b[0m\u001b[0;34m\u001b[0m\u001b[0m\n\u001b[0m\u001b[1;32m     97\u001b[0m       \u001b[0;32mcontinue\u001b[0m\u001b[0;34m\u001b[0m\u001b[0;34m\u001b[0m\u001b[0m\n\u001b[1;32m     98\u001b[0m     if (\n",
            "\u001b[0;31mKeyboardInterrupt\u001b[0m: "
          ]
        }
      ]
    },
    {
      "cell_type": "code",
      "source": [
        "\n",
        "\n",
        "from xgboost import XGBRegressor\n",
        "import numpy as np\n",
        "from sklearn.metrics import mean_squared_error\n",
        "from sklearn.feature_selection import RFE\n",
        "import seaborn as sns\n",
        "import matplotlib.pyplot as plt\n",
        "import warnings\n",
        "warnings.filterwarnings('ignore')\n",
        "import pandas as pd\n",
        "pd.set_option('display.max_columns',None)\n",
        "import re\n",
        "from sklearn.model_selection import train_test_split, cross_val_score\n",
        "import math\n",
        "from sklearn.model_selection import KFold,GridSearchCV\n",
        "from sklearn.metrics import (\n",
        "    accuracy_score, confusion_matrix, classification_report,\n",
        "    roc_auc_score, roc_curve, auc\n",
        ")\n",
        "from sklearn.metrics import ConfusionMatrixDisplay, RocCurveDisplay"
      ],
      "metadata": {
        "id": "55y0uO02HfAM"
      },
      "execution_count": 4,
      "outputs": []
    },
    {
      "cell_type": "code",
      "source": [],
      "metadata": {
        "id": "HliGkNejp-qO"
      },
      "execution_count": null,
      "outputs": []
    },
    {
      "cell_type": "code",
      "source": [
        "from sklearn import metrics\n",
        "from sklearn.metrics import confusion_matrix, classification_report, roc_auc_score, precision_recall_curve, roc_curve, auc, average_precision_score\n",
        "\n",
        "from sklearn.metrics import f1_score\n"
      ],
      "metadata": {
        "id": "HYAHDNcTKOoN"
      },
      "execution_count": 5,
      "outputs": []
    },
    {
      "cell_type": "code",
      "execution_count": 81,
      "metadata": {
        "id": "fx5v1k1AvmjO"
      },
      "outputs": [],
      "source": [
        "\n",
        "data = pd.read_csv('/content/drive/MyDrive/NUS_SEM_2_(Jan2024_May2024)/Hands on Applied Analytics/Project/Loan Dfault Project/Data/cleaned_data.csv')"
      ]
    },
    {
      "cell_type": "code",
      "source": [
        "print(f\"The Length of the data: {data.shape}\")"
      ],
      "metadata": {
        "colab": {
          "base_uri": "https://localhost:8080/"
        },
        "id": "7OoxQk9yyYk_",
        "outputId": "f6ebeed3-9182-4253-830e-a3993b4127d2"
      },
      "execution_count": 82,
      "outputs": [
        {
          "output_type": "stream",
          "name": "stdout",
          "text": [
            "The Length of the data: (1220092, 26)\n"
          ]
        }
      ]
    },
    {
      "cell_type": "code",
      "source": [
        "data[data[\"loan_status\"] == \"Fully Paid\"].shape[0]\n"
      ],
      "metadata": {
        "colab": {
          "base_uri": "https://localhost:8080/"
        },
        "id": "YThpdrI2zOaF",
        "outputId": "646c36e1-cad8-403c-d13d-50ee30c1166d"
      },
      "execution_count": 83,
      "outputs": [
        {
          "output_type": "execute_result",
          "data": {
            "text/plain": [
              "979419"
            ]
          },
          "metadata": {},
          "execution_count": 83
        }
      ]
    },
    {
      "cell_type": "code",
      "source": [
        "data[data[\"loan_status\"] == \"Charged Off\"].shape[0]"
      ],
      "metadata": {
        "colab": {
          "base_uri": "https://localhost:8080/"
        },
        "id": "wv4QexYhzlpI",
        "outputId": "a13d0cfa-c71b-4a38-d9b1-ff040b3f5459"
      },
      "execution_count": 84,
      "outputs": [
        {
          "output_type": "execute_result",
          "data": {
            "text/plain": [
              "240673"
            ]
          },
          "metadata": {},
          "execution_count": 84
        }
      ]
    },
    {
      "cell_type": "code",
      "source": [
        "data.shape"
      ],
      "metadata": {
        "colab": {
          "base_uri": "https://localhost:8080/"
        },
        "id": "NwbGB6-D3pX0",
        "outputId": "16367af0-2920-4938-96fd-3286194454b6"
      },
      "execution_count": 85,
      "outputs": [
        {
          "output_type": "execute_result",
          "data": {
            "text/plain": [
              "(1220092, 26)"
            ]
          },
          "metadata": {},
          "execution_count": 85
        }
      ]
    },
    {
      "cell_type": "markdown",
      "source": [
        "## Feature Engineering"
      ],
      "metadata": {
        "id": "F4Nt2LiO0RqE"
      }
    },
    {
      "cell_type": "markdown",
      "source": [
        "Convert target variable to 0/1 indicator"
      ],
      "metadata": {
        "id": "bcMXmKV10zk9"
      }
    },
    {
      "cell_type": "code",
      "source": [
        "# One hot encoding for Y\n",
        "class_mapping = {\"Fully Paid\":0, \"Charged Off\":1}\n",
        "data['loan_status']=data['loan_status'].map(class_mapping)"
      ],
      "metadata": {
        "id": "9N2MeE2U0RKl"
      },
      "execution_count": 86,
      "outputs": []
    },
    {
      "cell_type": "markdown",
      "source": [
        "###  Categorical Variables"
      ],
      "metadata": {
        "id": "m92nZnA62OzX"
      }
    },
    {
      "cell_type": "code",
      "source": [
        "dummy_list= [column for column in data.columns if data[column].dtype == object]\n",
        "print(dummy_list)"
      ],
      "metadata": {
        "colab": {
          "base_uri": "https://localhost:8080/"
        },
        "id": "WVGCmyZd1A74",
        "outputId": "d2abd7d1-9283-4e60-8fb2-31de6e55a342"
      },
      "execution_count": 87,
      "outputs": [
        {
          "output_type": "stream",
          "name": "stdout",
          "text": [
            "['sub_grade', 'home_ownership', 'verification_status', 'issue_d', 'purpose', 'addr_state', 'initial_list_status', 'application_type']\n"
          ]
        }
      ]
    },
    {
      "cell_type": "code",
      "source": [
        "dummy_list_new = ['sub_grade', 'home_ownership', 'verification_status', 'purpose', 'addr_state', 'initial_list_status', 'application_type']"
      ],
      "metadata": {
        "id": "5_bszdZP7Ry_"
      },
      "execution_count": 88,
      "outputs": []
    },
    {
      "cell_type": "markdown",
      "source": [],
      "metadata": {
        "id": "tnzH1-M67RWm"
      }
    },
    {
      "cell_type": "code",
      "source": [
        "data[dummy_list_new].isnull().any()"
      ],
      "metadata": {
        "colab": {
          "base_uri": "https://localhost:8080/"
        },
        "id": "IErMfGe83X4z",
        "outputId": "b7b64f33-18c3-4f3c-9ef2-1922c898fa42"
      },
      "execution_count": 89,
      "outputs": [
        {
          "output_type": "execute_result",
          "data": {
            "text/plain": [
              "sub_grade              False\n",
              "home_ownership         False\n",
              "verification_status    False\n",
              "purpose                False\n",
              "addr_state             False\n",
              "initial_list_status    False\n",
              "application_type       False\n",
              "dtype: bool"
            ]
          },
          "metadata": {},
          "execution_count": 89
        }
      ]
    },
    {
      "cell_type": "code",
      "source": [
        "data = pd.get_dummies(data, columns=dummy_list_new, drop_first=True)"
      ],
      "metadata": {
        "id": "KUMYF4EN3tqD"
      },
      "execution_count": 90,
      "outputs": []
    },
    {
      "cell_type": "code",
      "source": [
        "data.head()"
      ],
      "metadata": {
        "colab": {
          "base_uri": "https://localhost:8080/",
          "height": 330
        },
        "id": "uoLH_dsa31MV",
        "outputId": "fbf9aded-6195-4a5a-c56a-e76ac8a69a3b"
      },
      "execution_count": 91,
      "outputs": [
        {
          "output_type": "execute_result",
          "data": {
            "text/plain": [
              "   loan_amnt  term (months)  int_rate  installment  emp_length  annual_inc  \\\n",
              "0     3600.0             36     13.99       123.03        10.0     55000.0   \n",
              "1    24700.0             36     11.99       820.28        10.0     65000.0   \n",
              "2    20000.0             60     10.78       432.66        10.0     63000.0   \n",
              "3    10400.0             60     22.45       289.91         3.0    104433.0   \n",
              "4    11950.0             36     13.44       405.18         4.0     34000.0   \n",
              "\n",
              "    issue_d  loan_status    dti  earliest_cr_line  fico_range_low  \\\n",
              "0  Dec-2015            0   5.91              2003             675   \n",
              "1  Dec-2015            0  16.06              1999             715   \n",
              "2  Dec-2015            0  10.78              2000             695   \n",
              "3  Dec-2015            0  25.37              1998             695   \n",
              "4  Dec-2015            0  10.20              1987             690   \n",
              "\n",
              "   fico_range_high  open_acc  pub_rec  revol_bal  revol_util  total_acc  \\\n",
              "0              679         7        0     2765.0        29.7         13   \n",
              "1              719        22        0    21470.0        19.2         38   \n",
              "2              699         6        0     7869.0        56.2         18   \n",
              "3              699        12        0    21929.0        64.5         35   \n",
              "4              694         5        0     8822.0        68.4          6   \n",
              "\n",
              "   mort_acc  pub_rec_bankruptcies  sub_grade_A2  sub_grade_A3  sub_grade_A4  \\\n",
              "0       1.0                   0.0         False         False         False   \n",
              "1       4.0                   0.0         False         False         False   \n",
              "2       5.0                   0.0         False         False         False   \n",
              "3       6.0                   0.0         False         False         False   \n",
              "4       0.0                   0.0         False         False         False   \n",
              "\n",
              "   sub_grade_A5  sub_grade_B1  sub_grade_B2  sub_grade_B3  sub_grade_B4  \\\n",
              "0         False         False         False         False         False   \n",
              "1         False         False         False         False         False   \n",
              "2         False         False         False         False          True   \n",
              "3         False         False         False         False         False   \n",
              "4         False         False         False         False         False   \n",
              "\n",
              "   sub_grade_B5  sub_grade_C1  sub_grade_C2  sub_grade_C3  sub_grade_C4  \\\n",
              "0         False         False         False         False          True   \n",
              "1         False          True         False         False         False   \n",
              "2         False         False         False         False         False   \n",
              "3         False         False         False         False         False   \n",
              "4         False         False         False          True         False   \n",
              "\n",
              "   sub_grade_C5  sub_grade_D1  sub_grade_D2  sub_grade_D3  sub_grade_D4  \\\n",
              "0         False         False         False         False         False   \n",
              "1         False         False         False         False         False   \n",
              "2         False         False         False         False         False   \n",
              "3         False         False         False         False         False   \n",
              "4         False         False         False         False         False   \n",
              "\n",
              "   sub_grade_D5  sub_grade_E1  sub_grade_E2  sub_grade_E3  sub_grade_E4  \\\n",
              "0         False         False         False         False         False   \n",
              "1         False         False         False         False         False   \n",
              "2         False         False         False         False         False   \n",
              "3         False         False         False         False         False   \n",
              "4         False         False         False         False         False   \n",
              "\n",
              "   sub_grade_E5  sub_grade_F1  sub_grade_F2  sub_grade_F3  sub_grade_F4  \\\n",
              "0         False         False         False         False         False   \n",
              "1         False         False         False         False         False   \n",
              "2         False         False         False         False         False   \n",
              "3         False          True         False         False         False   \n",
              "4         False         False         False         False         False   \n",
              "\n",
              "   sub_grade_F5  sub_grade_G1  sub_grade_G2  sub_grade_G3  sub_grade_G4  \\\n",
              "0         False         False         False         False         False   \n",
              "1         False         False         False         False         False   \n",
              "2         False         False         False         False         False   \n",
              "3         False         False         False         False         False   \n",
              "4         False         False         False         False         False   \n",
              "\n",
              "   sub_grade_G5  home_ownership_OTHER  home_ownership_OWN  \\\n",
              "0         False                 False               False   \n",
              "1         False                 False               False   \n",
              "2         False                 False               False   \n",
              "3         False                 False               False   \n",
              "4         False                 False               False   \n",
              "\n",
              "   home_ownership_RENT  verification_status_Source Verified  \\\n",
              "0                False                                False   \n",
              "1                False                                False   \n",
              "2                False                                False   \n",
              "3                False                                 True   \n",
              "4                 True                                 True   \n",
              "\n",
              "   verification_status_Verified  purpose_credit_card  \\\n",
              "0                         False                False   \n",
              "1                         False                False   \n",
              "2                         False                False   \n",
              "3                         False                False   \n",
              "4                         False                False   \n",
              "\n",
              "   purpose_debt_consolidation  purpose_educational  purpose_home_improvement  \\\n",
              "0                        True                False                     False   \n",
              "1                       False                False                     False   \n",
              "2                       False                False                      True   \n",
              "3                       False                False                     False   \n",
              "4                        True                False                     False   \n",
              "\n",
              "   purpose_house  purpose_major_purchase  purpose_medical  purpose_moving  \\\n",
              "0          False                   False            False           False   \n",
              "1          False                   False            False           False   \n",
              "2          False                   False            False           False   \n",
              "3          False                    True            False           False   \n",
              "4          False                   False            False           False   \n",
              "\n",
              "   purpose_other  purpose_renewable_energy  purpose_small_business  \\\n",
              "0          False                     False                   False   \n",
              "1          False                     False                    True   \n",
              "2          False                     False                   False   \n",
              "3          False                     False                   False   \n",
              "4          False                     False                   False   \n",
              "\n",
              "   purpose_vacation  purpose_wedding  addr_state_AL  addr_state_AR  \\\n",
              "0             False            False          False          False   \n",
              "1             False            False          False          False   \n",
              "2             False            False          False          False   \n",
              "3             False            False          False          False   \n",
              "4             False            False          False          False   \n",
              "\n",
              "   addr_state_AZ  addr_state_CA  addr_state_CO  addr_state_CT  addr_state_DC  \\\n",
              "0          False          False          False          False          False   \n",
              "1          False          False          False          False          False   \n",
              "2          False          False          False          False          False   \n",
              "3          False          False          False          False          False   \n",
              "4          False          False          False          False          False   \n",
              "\n",
              "   addr_state_DE  addr_state_FL  addr_state_GA  addr_state_HI  addr_state_IA  \\\n",
              "0          False          False          False          False          False   \n",
              "1          False          False          False          False          False   \n",
              "2          False          False          False          False          False   \n",
              "3          False          False          False          False          False   \n",
              "4          False          False           True          False          False   \n",
              "\n",
              "   addr_state_ID  addr_state_IL  addr_state_IN  addr_state_KS  addr_state_KY  \\\n",
              "0          False          False          False          False          False   \n",
              "1          False          False          False          False          False   \n",
              "2          False           True          False          False          False   \n",
              "3          False          False          False          False          False   \n",
              "4          False          False          False          False          False   \n",
              "\n",
              "   addr_state_LA  addr_state_MA  addr_state_MD  addr_state_ME  addr_state_MI  \\\n",
              "0          False          False          False          False          False   \n",
              "1          False          False          False          False          False   \n",
              "2          False          False          False          False          False   \n",
              "3          False          False          False          False          False   \n",
              "4          False          False          False          False          False   \n",
              "\n",
              "   addr_state_MN  addr_state_MO  addr_state_MS  addr_state_MT  addr_state_NC  \\\n",
              "0          False          False          False          False          False   \n",
              "1          False          False          False          False          False   \n",
              "2          False          False          False          False          False   \n",
              "3          False          False          False          False          False   \n",
              "4          False          False          False          False          False   \n",
              "\n",
              "   addr_state_ND  addr_state_NE  addr_state_NH  addr_state_NJ  addr_state_NM  \\\n",
              "0          False          False          False          False          False   \n",
              "1          False          False          False          False          False   \n",
              "2          False          False          False          False          False   \n",
              "3          False          False          False          False          False   \n",
              "4          False          False          False          False          False   \n",
              "\n",
              "   addr_state_NV  addr_state_NY  addr_state_OH  addr_state_OK  addr_state_OR  \\\n",
              "0          False          False          False          False          False   \n",
              "1          False          False          False          False          False   \n",
              "2          False          False          False          False          False   \n",
              "3          False          False          False          False          False   \n",
              "4          False          False          False          False          False   \n",
              "\n",
              "   addr_state_PA  addr_state_RI  addr_state_SC  addr_state_SD  addr_state_TN  \\\n",
              "0           True          False          False          False          False   \n",
              "1          False          False          False           True          False   \n",
              "2          False          False          False          False          False   \n",
              "3           True          False          False          False          False   \n",
              "4          False          False          False          False          False   \n",
              "\n",
              "   addr_state_TX  addr_state_UT  addr_state_VA  addr_state_VT  addr_state_WA  \\\n",
              "0          False          False          False          False          False   \n",
              "1          False          False          False          False          False   \n",
              "2          False          False          False          False          False   \n",
              "3          False          False          False          False          False   \n",
              "4          False          False          False          False          False   \n",
              "\n",
              "   addr_state_WI  addr_state_WV  addr_state_WY  \\\n",
              "0          False          False          False   \n",
              "1          False          False          False   \n",
              "2          False          False          False   \n",
              "3          False          False          False   \n",
              "4          False          False          False   \n",
              "\n",
              "   initial_list_status_Whole Funded  application_type_Joint App  \n",
              "0                              True                       False  \n",
              "1                              True                       False  \n",
              "2                              True                        True  \n",
              "3                              True                       False  \n",
              "4                              True                       False  "
            ],
            "text/html": [
              "\n",
              "  <div id=\"df-45ca0d4a-a55e-43e0-b807-c5c3eb6fd6e8\" class=\"colab-df-container\">\n",
              "    <div>\n",
              "<style scoped>\n",
              "    .dataframe tbody tr th:only-of-type {\n",
              "        vertical-align: middle;\n",
              "    }\n",
              "\n",
              "    .dataframe tbody tr th {\n",
              "        vertical-align: top;\n",
              "    }\n",
              "\n",
              "    .dataframe thead th {\n",
              "        text-align: right;\n",
              "    }\n",
              "</style>\n",
              "<table border=\"1\" class=\"dataframe\">\n",
              "  <thead>\n",
              "    <tr style=\"text-align: right;\">\n",
              "      <th></th>\n",
              "      <th>loan_amnt</th>\n",
              "      <th>term (months)</th>\n",
              "      <th>int_rate</th>\n",
              "      <th>installment</th>\n",
              "      <th>emp_length</th>\n",
              "      <th>annual_inc</th>\n",
              "      <th>issue_d</th>\n",
              "      <th>loan_status</th>\n",
              "      <th>dti</th>\n",
              "      <th>earliest_cr_line</th>\n",
              "      <th>fico_range_low</th>\n",
              "      <th>fico_range_high</th>\n",
              "      <th>open_acc</th>\n",
              "      <th>pub_rec</th>\n",
              "      <th>revol_bal</th>\n",
              "      <th>revol_util</th>\n",
              "      <th>total_acc</th>\n",
              "      <th>mort_acc</th>\n",
              "      <th>pub_rec_bankruptcies</th>\n",
              "      <th>sub_grade_A2</th>\n",
              "      <th>sub_grade_A3</th>\n",
              "      <th>sub_grade_A4</th>\n",
              "      <th>sub_grade_A5</th>\n",
              "      <th>sub_grade_B1</th>\n",
              "      <th>sub_grade_B2</th>\n",
              "      <th>sub_grade_B3</th>\n",
              "      <th>sub_grade_B4</th>\n",
              "      <th>sub_grade_B5</th>\n",
              "      <th>sub_grade_C1</th>\n",
              "      <th>sub_grade_C2</th>\n",
              "      <th>sub_grade_C3</th>\n",
              "      <th>sub_grade_C4</th>\n",
              "      <th>sub_grade_C5</th>\n",
              "      <th>sub_grade_D1</th>\n",
              "      <th>sub_grade_D2</th>\n",
              "      <th>sub_grade_D3</th>\n",
              "      <th>sub_grade_D4</th>\n",
              "      <th>sub_grade_D5</th>\n",
              "      <th>sub_grade_E1</th>\n",
              "      <th>sub_grade_E2</th>\n",
              "      <th>sub_grade_E3</th>\n",
              "      <th>sub_grade_E4</th>\n",
              "      <th>sub_grade_E5</th>\n",
              "      <th>sub_grade_F1</th>\n",
              "      <th>sub_grade_F2</th>\n",
              "      <th>sub_grade_F3</th>\n",
              "      <th>sub_grade_F4</th>\n",
              "      <th>sub_grade_F5</th>\n",
              "      <th>sub_grade_G1</th>\n",
              "      <th>sub_grade_G2</th>\n",
              "      <th>sub_grade_G3</th>\n",
              "      <th>sub_grade_G4</th>\n",
              "      <th>sub_grade_G5</th>\n",
              "      <th>home_ownership_OTHER</th>\n",
              "      <th>home_ownership_OWN</th>\n",
              "      <th>home_ownership_RENT</th>\n",
              "      <th>verification_status_Source Verified</th>\n",
              "      <th>verification_status_Verified</th>\n",
              "      <th>purpose_credit_card</th>\n",
              "      <th>purpose_debt_consolidation</th>\n",
              "      <th>purpose_educational</th>\n",
              "      <th>purpose_home_improvement</th>\n",
              "      <th>purpose_house</th>\n",
              "      <th>purpose_major_purchase</th>\n",
              "      <th>purpose_medical</th>\n",
              "      <th>purpose_moving</th>\n",
              "      <th>purpose_other</th>\n",
              "      <th>purpose_renewable_energy</th>\n",
              "      <th>purpose_small_business</th>\n",
              "      <th>purpose_vacation</th>\n",
              "      <th>purpose_wedding</th>\n",
              "      <th>addr_state_AL</th>\n",
              "      <th>addr_state_AR</th>\n",
              "      <th>addr_state_AZ</th>\n",
              "      <th>addr_state_CA</th>\n",
              "      <th>addr_state_CO</th>\n",
              "      <th>addr_state_CT</th>\n",
              "      <th>addr_state_DC</th>\n",
              "      <th>addr_state_DE</th>\n",
              "      <th>addr_state_FL</th>\n",
              "      <th>addr_state_GA</th>\n",
              "      <th>addr_state_HI</th>\n",
              "      <th>addr_state_IA</th>\n",
              "      <th>addr_state_ID</th>\n",
              "      <th>addr_state_IL</th>\n",
              "      <th>addr_state_IN</th>\n",
              "      <th>addr_state_KS</th>\n",
              "      <th>addr_state_KY</th>\n",
              "      <th>addr_state_LA</th>\n",
              "      <th>addr_state_MA</th>\n",
              "      <th>addr_state_MD</th>\n",
              "      <th>addr_state_ME</th>\n",
              "      <th>addr_state_MI</th>\n",
              "      <th>addr_state_MN</th>\n",
              "      <th>addr_state_MO</th>\n",
              "      <th>addr_state_MS</th>\n",
              "      <th>addr_state_MT</th>\n",
              "      <th>addr_state_NC</th>\n",
              "      <th>addr_state_ND</th>\n",
              "      <th>addr_state_NE</th>\n",
              "      <th>addr_state_NH</th>\n",
              "      <th>addr_state_NJ</th>\n",
              "      <th>addr_state_NM</th>\n",
              "      <th>addr_state_NV</th>\n",
              "      <th>addr_state_NY</th>\n",
              "      <th>addr_state_OH</th>\n",
              "      <th>addr_state_OK</th>\n",
              "      <th>addr_state_OR</th>\n",
              "      <th>addr_state_PA</th>\n",
              "      <th>addr_state_RI</th>\n",
              "      <th>addr_state_SC</th>\n",
              "      <th>addr_state_SD</th>\n",
              "      <th>addr_state_TN</th>\n",
              "      <th>addr_state_TX</th>\n",
              "      <th>addr_state_UT</th>\n",
              "      <th>addr_state_VA</th>\n",
              "      <th>addr_state_VT</th>\n",
              "      <th>addr_state_WA</th>\n",
              "      <th>addr_state_WI</th>\n",
              "      <th>addr_state_WV</th>\n",
              "      <th>addr_state_WY</th>\n",
              "      <th>initial_list_status_Whole Funded</th>\n",
              "      <th>application_type_Joint App</th>\n",
              "    </tr>\n",
              "  </thead>\n",
              "  <tbody>\n",
              "    <tr>\n",
              "      <th>0</th>\n",
              "      <td>3600.0</td>\n",
              "      <td>36</td>\n",
              "      <td>13.99</td>\n",
              "      <td>123.03</td>\n",
              "      <td>10.0</td>\n",
              "      <td>55000.0</td>\n",
              "      <td>Dec-2015</td>\n",
              "      <td>0</td>\n",
              "      <td>5.91</td>\n",
              "      <td>2003</td>\n",
              "      <td>675</td>\n",
              "      <td>679</td>\n",
              "      <td>7</td>\n",
              "      <td>0</td>\n",
              "      <td>2765.0</td>\n",
              "      <td>29.7</td>\n",
              "      <td>13</td>\n",
              "      <td>1.0</td>\n",
              "      <td>0.0</td>\n",
              "      <td>False</td>\n",
              "      <td>False</td>\n",
              "      <td>False</td>\n",
              "      <td>False</td>\n",
              "      <td>False</td>\n",
              "      <td>False</td>\n",
              "      <td>False</td>\n",
              "      <td>False</td>\n",
              "      <td>False</td>\n",
              "      <td>False</td>\n",
              "      <td>False</td>\n",
              "      <td>False</td>\n",
              "      <td>True</td>\n",
              "      <td>False</td>\n",
              "      <td>False</td>\n",
              "      <td>False</td>\n",
              "      <td>False</td>\n",
              "      <td>False</td>\n",
              "      <td>False</td>\n",
              "      <td>False</td>\n",
              "      <td>False</td>\n",
              "      <td>False</td>\n",
              "      <td>False</td>\n",
              "      <td>False</td>\n",
              "      <td>False</td>\n",
              "      <td>False</td>\n",
              "      <td>False</td>\n",
              "      <td>False</td>\n",
              "      <td>False</td>\n",
              "      <td>False</td>\n",
              "      <td>False</td>\n",
              "      <td>False</td>\n",
              "      <td>False</td>\n",
              "      <td>False</td>\n",
              "      <td>False</td>\n",
              "      <td>False</td>\n",
              "      <td>False</td>\n",
              "      <td>False</td>\n",
              "      <td>False</td>\n",
              "      <td>False</td>\n",
              "      <td>True</td>\n",
              "      <td>False</td>\n",
              "      <td>False</td>\n",
              "      <td>False</td>\n",
              "      <td>False</td>\n",
              "      <td>False</td>\n",
              "      <td>False</td>\n",
              "      <td>False</td>\n",
              "      <td>False</td>\n",
              "      <td>False</td>\n",
              "      <td>False</td>\n",
              "      <td>False</td>\n",
              "      <td>False</td>\n",
              "      <td>False</td>\n",
              "      <td>False</td>\n",
              "      <td>False</td>\n",
              "      <td>False</td>\n",
              "      <td>False</td>\n",
              "      <td>False</td>\n",
              "      <td>False</td>\n",
              "      <td>False</td>\n",
              "      <td>False</td>\n",
              "      <td>False</td>\n",
              "      <td>False</td>\n",
              "      <td>False</td>\n",
              "      <td>False</td>\n",
              "      <td>False</td>\n",
              "      <td>False</td>\n",
              "      <td>False</td>\n",
              "      <td>False</td>\n",
              "      <td>False</td>\n",
              "      <td>False</td>\n",
              "      <td>False</td>\n",
              "      <td>False</td>\n",
              "      <td>False</td>\n",
              "      <td>False</td>\n",
              "      <td>False</td>\n",
              "      <td>False</td>\n",
              "      <td>False</td>\n",
              "      <td>False</td>\n",
              "      <td>False</td>\n",
              "      <td>False</td>\n",
              "      <td>False</td>\n",
              "      <td>False</td>\n",
              "      <td>False</td>\n",
              "      <td>False</td>\n",
              "      <td>False</td>\n",
              "      <td>False</td>\n",
              "      <td>False</td>\n",
              "      <td>True</td>\n",
              "      <td>False</td>\n",
              "      <td>False</td>\n",
              "      <td>False</td>\n",
              "      <td>False</td>\n",
              "      <td>False</td>\n",
              "      <td>False</td>\n",
              "      <td>False</td>\n",
              "      <td>False</td>\n",
              "      <td>False</td>\n",
              "      <td>False</td>\n",
              "      <td>False</td>\n",
              "      <td>False</td>\n",
              "      <td>True</td>\n",
              "      <td>False</td>\n",
              "    </tr>\n",
              "    <tr>\n",
              "      <th>1</th>\n",
              "      <td>24700.0</td>\n",
              "      <td>36</td>\n",
              "      <td>11.99</td>\n",
              "      <td>820.28</td>\n",
              "      <td>10.0</td>\n",
              "      <td>65000.0</td>\n",
              "      <td>Dec-2015</td>\n",
              "      <td>0</td>\n",
              "      <td>16.06</td>\n",
              "      <td>1999</td>\n",
              "      <td>715</td>\n",
              "      <td>719</td>\n",
              "      <td>22</td>\n",
              "      <td>0</td>\n",
              "      <td>21470.0</td>\n",
              "      <td>19.2</td>\n",
              "      <td>38</td>\n",
              "      <td>4.0</td>\n",
              "      <td>0.0</td>\n",
              "      <td>False</td>\n",
              "      <td>False</td>\n",
              "      <td>False</td>\n",
              "      <td>False</td>\n",
              "      <td>False</td>\n",
              "      <td>False</td>\n",
              "      <td>False</td>\n",
              "      <td>False</td>\n",
              "      <td>False</td>\n",
              "      <td>True</td>\n",
              "      <td>False</td>\n",
              "      <td>False</td>\n",
              "      <td>False</td>\n",
              "      <td>False</td>\n",
              "      <td>False</td>\n",
              "      <td>False</td>\n",
              "      <td>False</td>\n",
              "      <td>False</td>\n",
              "      <td>False</td>\n",
              "      <td>False</td>\n",
              "      <td>False</td>\n",
              "      <td>False</td>\n",
              "      <td>False</td>\n",
              "      <td>False</td>\n",
              "      <td>False</td>\n",
              "      <td>False</td>\n",
              "      <td>False</td>\n",
              "      <td>False</td>\n",
              "      <td>False</td>\n",
              "      <td>False</td>\n",
              "      <td>False</td>\n",
              "      <td>False</td>\n",
              "      <td>False</td>\n",
              "      <td>False</td>\n",
              "      <td>False</td>\n",
              "      <td>False</td>\n",
              "      <td>False</td>\n",
              "      <td>False</td>\n",
              "      <td>False</td>\n",
              "      <td>False</td>\n",
              "      <td>False</td>\n",
              "      <td>False</td>\n",
              "      <td>False</td>\n",
              "      <td>False</td>\n",
              "      <td>False</td>\n",
              "      <td>False</td>\n",
              "      <td>False</td>\n",
              "      <td>False</td>\n",
              "      <td>False</td>\n",
              "      <td>True</td>\n",
              "      <td>False</td>\n",
              "      <td>False</td>\n",
              "      <td>False</td>\n",
              "      <td>False</td>\n",
              "      <td>False</td>\n",
              "      <td>False</td>\n",
              "      <td>False</td>\n",
              "      <td>False</td>\n",
              "      <td>False</td>\n",
              "      <td>False</td>\n",
              "      <td>False</td>\n",
              "      <td>False</td>\n",
              "      <td>False</td>\n",
              "      <td>False</td>\n",
              "      <td>False</td>\n",
              "      <td>False</td>\n",
              "      <td>False</td>\n",
              "      <td>False</td>\n",
              "      <td>False</td>\n",
              "      <td>False</td>\n",
              "      <td>False</td>\n",
              "      <td>False</td>\n",
              "      <td>False</td>\n",
              "      <td>False</td>\n",
              "      <td>False</td>\n",
              "      <td>False</td>\n",
              "      <td>False</td>\n",
              "      <td>False</td>\n",
              "      <td>False</td>\n",
              "      <td>False</td>\n",
              "      <td>False</td>\n",
              "      <td>False</td>\n",
              "      <td>False</td>\n",
              "      <td>False</td>\n",
              "      <td>False</td>\n",
              "      <td>False</td>\n",
              "      <td>False</td>\n",
              "      <td>False</td>\n",
              "      <td>False</td>\n",
              "      <td>False</td>\n",
              "      <td>False</td>\n",
              "      <td>False</td>\n",
              "      <td>True</td>\n",
              "      <td>False</td>\n",
              "      <td>False</td>\n",
              "      <td>False</td>\n",
              "      <td>False</td>\n",
              "      <td>False</td>\n",
              "      <td>False</td>\n",
              "      <td>False</td>\n",
              "      <td>False</td>\n",
              "      <td>False</td>\n",
              "      <td>True</td>\n",
              "      <td>False</td>\n",
              "    </tr>\n",
              "    <tr>\n",
              "      <th>2</th>\n",
              "      <td>20000.0</td>\n",
              "      <td>60</td>\n",
              "      <td>10.78</td>\n",
              "      <td>432.66</td>\n",
              "      <td>10.0</td>\n",
              "      <td>63000.0</td>\n",
              "      <td>Dec-2015</td>\n",
              "      <td>0</td>\n",
              "      <td>10.78</td>\n",
              "      <td>2000</td>\n",
              "      <td>695</td>\n",
              "      <td>699</td>\n",
              "      <td>6</td>\n",
              "      <td>0</td>\n",
              "      <td>7869.0</td>\n",
              "      <td>56.2</td>\n",
              "      <td>18</td>\n",
              "      <td>5.0</td>\n",
              "      <td>0.0</td>\n",
              "      <td>False</td>\n",
              "      <td>False</td>\n",
              "      <td>False</td>\n",
              "      <td>False</td>\n",
              "      <td>False</td>\n",
              "      <td>False</td>\n",
              "      <td>False</td>\n",
              "      <td>True</td>\n",
              "      <td>False</td>\n",
              "      <td>False</td>\n",
              "      <td>False</td>\n",
              "      <td>False</td>\n",
              "      <td>False</td>\n",
              "      <td>False</td>\n",
              "      <td>False</td>\n",
              "      <td>False</td>\n",
              "      <td>False</td>\n",
              "      <td>False</td>\n",
              "      <td>False</td>\n",
              "      <td>False</td>\n",
              "      <td>False</td>\n",
              "      <td>False</td>\n",
              "      <td>False</td>\n",
              "      <td>False</td>\n",
              "      <td>False</td>\n",
              "      <td>False</td>\n",
              "      <td>False</td>\n",
              "      <td>False</td>\n",
              "      <td>False</td>\n",
              "      <td>False</td>\n",
              "      <td>False</td>\n",
              "      <td>False</td>\n",
              "      <td>False</td>\n",
              "      <td>False</td>\n",
              "      <td>False</td>\n",
              "      <td>False</td>\n",
              "      <td>False</td>\n",
              "      <td>False</td>\n",
              "      <td>False</td>\n",
              "      <td>False</td>\n",
              "      <td>False</td>\n",
              "      <td>False</td>\n",
              "      <td>True</td>\n",
              "      <td>False</td>\n",
              "      <td>False</td>\n",
              "      <td>False</td>\n",
              "      <td>False</td>\n",
              "      <td>False</td>\n",
              "      <td>False</td>\n",
              "      <td>False</td>\n",
              "      <td>False</td>\n",
              "      <td>False</td>\n",
              "      <td>False</td>\n",
              "      <td>False</td>\n",
              "      <td>False</td>\n",
              "      <td>False</td>\n",
              "      <td>False</td>\n",
              "      <td>False</td>\n",
              "      <td>False</td>\n",
              "      <td>False</td>\n",
              "      <td>False</td>\n",
              "      <td>False</td>\n",
              "      <td>False</td>\n",
              "      <td>False</td>\n",
              "      <td>False</td>\n",
              "      <td>True</td>\n",
              "      <td>False</td>\n",
              "      <td>False</td>\n",
              "      <td>False</td>\n",
              "      <td>False</td>\n",
              "      <td>False</td>\n",
              "      <td>False</td>\n",
              "      <td>False</td>\n",
              "      <td>False</td>\n",
              "      <td>False</td>\n",
              "      <td>False</td>\n",
              "      <td>False</td>\n",
              "      <td>False</td>\n",
              "      <td>False</td>\n",
              "      <td>False</td>\n",
              "      <td>False</td>\n",
              "      <td>False</td>\n",
              "      <td>False</td>\n",
              "      <td>False</td>\n",
              "      <td>False</td>\n",
              "      <td>False</td>\n",
              "      <td>False</td>\n",
              "      <td>False</td>\n",
              "      <td>False</td>\n",
              "      <td>False</td>\n",
              "      <td>False</td>\n",
              "      <td>False</td>\n",
              "      <td>False</td>\n",
              "      <td>False</td>\n",
              "      <td>False</td>\n",
              "      <td>False</td>\n",
              "      <td>False</td>\n",
              "      <td>False</td>\n",
              "      <td>False</td>\n",
              "      <td>False</td>\n",
              "      <td>False</td>\n",
              "      <td>False</td>\n",
              "      <td>True</td>\n",
              "      <td>True</td>\n",
              "    </tr>\n",
              "    <tr>\n",
              "      <th>3</th>\n",
              "      <td>10400.0</td>\n",
              "      <td>60</td>\n",
              "      <td>22.45</td>\n",
              "      <td>289.91</td>\n",
              "      <td>3.0</td>\n",
              "      <td>104433.0</td>\n",
              "      <td>Dec-2015</td>\n",
              "      <td>0</td>\n",
              "      <td>25.37</td>\n",
              "      <td>1998</td>\n",
              "      <td>695</td>\n",
              "      <td>699</td>\n",
              "      <td>12</td>\n",
              "      <td>0</td>\n",
              "      <td>21929.0</td>\n",
              "      <td>64.5</td>\n",
              "      <td>35</td>\n",
              "      <td>6.0</td>\n",
              "      <td>0.0</td>\n",
              "      <td>False</td>\n",
              "      <td>False</td>\n",
              "      <td>False</td>\n",
              "      <td>False</td>\n",
              "      <td>False</td>\n",
              "      <td>False</td>\n",
              "      <td>False</td>\n",
              "      <td>False</td>\n",
              "      <td>False</td>\n",
              "      <td>False</td>\n",
              "      <td>False</td>\n",
              "      <td>False</td>\n",
              "      <td>False</td>\n",
              "      <td>False</td>\n",
              "      <td>False</td>\n",
              "      <td>False</td>\n",
              "      <td>False</td>\n",
              "      <td>False</td>\n",
              "      <td>False</td>\n",
              "      <td>False</td>\n",
              "      <td>False</td>\n",
              "      <td>False</td>\n",
              "      <td>False</td>\n",
              "      <td>False</td>\n",
              "      <td>True</td>\n",
              "      <td>False</td>\n",
              "      <td>False</td>\n",
              "      <td>False</td>\n",
              "      <td>False</td>\n",
              "      <td>False</td>\n",
              "      <td>False</td>\n",
              "      <td>False</td>\n",
              "      <td>False</td>\n",
              "      <td>False</td>\n",
              "      <td>False</td>\n",
              "      <td>False</td>\n",
              "      <td>False</td>\n",
              "      <td>True</td>\n",
              "      <td>False</td>\n",
              "      <td>False</td>\n",
              "      <td>False</td>\n",
              "      <td>False</td>\n",
              "      <td>False</td>\n",
              "      <td>False</td>\n",
              "      <td>True</td>\n",
              "      <td>False</td>\n",
              "      <td>False</td>\n",
              "      <td>False</td>\n",
              "      <td>False</td>\n",
              "      <td>False</td>\n",
              "      <td>False</td>\n",
              "      <td>False</td>\n",
              "      <td>False</td>\n",
              "      <td>False</td>\n",
              "      <td>False</td>\n",
              "      <td>False</td>\n",
              "      <td>False</td>\n",
              "      <td>False</td>\n",
              "      <td>False</td>\n",
              "      <td>False</td>\n",
              "      <td>False</td>\n",
              "      <td>False</td>\n",
              "      <td>False</td>\n",
              "      <td>False</td>\n",
              "      <td>False</td>\n",
              "      <td>False</td>\n",
              "      <td>False</td>\n",
              "      <td>False</td>\n",
              "      <td>False</td>\n",
              "      <td>False</td>\n",
              "      <td>False</td>\n",
              "      <td>False</td>\n",
              "      <td>False</td>\n",
              "      <td>False</td>\n",
              "      <td>False</td>\n",
              "      <td>False</td>\n",
              "      <td>False</td>\n",
              "      <td>False</td>\n",
              "      <td>False</td>\n",
              "      <td>False</td>\n",
              "      <td>False</td>\n",
              "      <td>False</td>\n",
              "      <td>False</td>\n",
              "      <td>False</td>\n",
              "      <td>False</td>\n",
              "      <td>False</td>\n",
              "      <td>False</td>\n",
              "      <td>False</td>\n",
              "      <td>False</td>\n",
              "      <td>True</td>\n",
              "      <td>False</td>\n",
              "      <td>False</td>\n",
              "      <td>False</td>\n",
              "      <td>False</td>\n",
              "      <td>False</td>\n",
              "      <td>False</td>\n",
              "      <td>False</td>\n",
              "      <td>False</td>\n",
              "      <td>False</td>\n",
              "      <td>False</td>\n",
              "      <td>False</td>\n",
              "      <td>False</td>\n",
              "      <td>True</td>\n",
              "      <td>False</td>\n",
              "    </tr>\n",
              "    <tr>\n",
              "      <th>4</th>\n",
              "      <td>11950.0</td>\n",
              "      <td>36</td>\n",
              "      <td>13.44</td>\n",
              "      <td>405.18</td>\n",
              "      <td>4.0</td>\n",
              "      <td>34000.0</td>\n",
              "      <td>Dec-2015</td>\n",
              "      <td>0</td>\n",
              "      <td>10.20</td>\n",
              "      <td>1987</td>\n",
              "      <td>690</td>\n",
              "      <td>694</td>\n",
              "      <td>5</td>\n",
              "      <td>0</td>\n",
              "      <td>8822.0</td>\n",
              "      <td>68.4</td>\n",
              "      <td>6</td>\n",
              "      <td>0.0</td>\n",
              "      <td>0.0</td>\n",
              "      <td>False</td>\n",
              "      <td>False</td>\n",
              "      <td>False</td>\n",
              "      <td>False</td>\n",
              "      <td>False</td>\n",
              "      <td>False</td>\n",
              "      <td>False</td>\n",
              "      <td>False</td>\n",
              "      <td>False</td>\n",
              "      <td>False</td>\n",
              "      <td>False</td>\n",
              "      <td>True</td>\n",
              "      <td>False</td>\n",
              "      <td>False</td>\n",
              "      <td>False</td>\n",
              "      <td>False</td>\n",
              "      <td>False</td>\n",
              "      <td>False</td>\n",
              "      <td>False</td>\n",
              "      <td>False</td>\n",
              "      <td>False</td>\n",
              "      <td>False</td>\n",
              "      <td>False</td>\n",
              "      <td>False</td>\n",
              "      <td>False</td>\n",
              "      <td>False</td>\n",
              "      <td>False</td>\n",
              "      <td>False</td>\n",
              "      <td>False</td>\n",
              "      <td>False</td>\n",
              "      <td>False</td>\n",
              "      <td>False</td>\n",
              "      <td>False</td>\n",
              "      <td>False</td>\n",
              "      <td>False</td>\n",
              "      <td>False</td>\n",
              "      <td>True</td>\n",
              "      <td>True</td>\n",
              "      <td>False</td>\n",
              "      <td>False</td>\n",
              "      <td>True</td>\n",
              "      <td>False</td>\n",
              "      <td>False</td>\n",
              "      <td>False</td>\n",
              "      <td>False</td>\n",
              "      <td>False</td>\n",
              "      <td>False</td>\n",
              "      <td>False</td>\n",
              "      <td>False</td>\n",
              "      <td>False</td>\n",
              "      <td>False</td>\n",
              "      <td>False</td>\n",
              "      <td>False</td>\n",
              "      <td>False</td>\n",
              "      <td>False</td>\n",
              "      <td>False</td>\n",
              "      <td>False</td>\n",
              "      <td>False</td>\n",
              "      <td>False</td>\n",
              "      <td>False</td>\n",
              "      <td>False</td>\n",
              "      <td>True</td>\n",
              "      <td>False</td>\n",
              "      <td>False</td>\n",
              "      <td>False</td>\n",
              "      <td>False</td>\n",
              "      <td>False</td>\n",
              "      <td>False</td>\n",
              "      <td>False</td>\n",
              "      <td>False</td>\n",
              "      <td>False</td>\n",
              "      <td>False</td>\n",
              "      <td>False</td>\n",
              "      <td>False</td>\n",
              "      <td>False</td>\n",
              "      <td>False</td>\n",
              "      <td>False</td>\n",
              "      <td>False</td>\n",
              "      <td>False</td>\n",
              "      <td>False</td>\n",
              "      <td>False</td>\n",
              "      <td>False</td>\n",
              "      <td>False</td>\n",
              "      <td>False</td>\n",
              "      <td>False</td>\n",
              "      <td>False</td>\n",
              "      <td>False</td>\n",
              "      <td>False</td>\n",
              "      <td>False</td>\n",
              "      <td>False</td>\n",
              "      <td>False</td>\n",
              "      <td>False</td>\n",
              "      <td>False</td>\n",
              "      <td>False</td>\n",
              "      <td>False</td>\n",
              "      <td>False</td>\n",
              "      <td>False</td>\n",
              "      <td>False</td>\n",
              "      <td>False</td>\n",
              "      <td>False</td>\n",
              "      <td>False</td>\n",
              "      <td>False</td>\n",
              "      <td>True</td>\n",
              "      <td>False</td>\n",
              "    </tr>\n",
              "  </tbody>\n",
              "</table>\n",
              "</div>\n",
              "    <div class=\"colab-df-buttons\">\n",
              "\n",
              "  <div class=\"colab-df-container\">\n",
              "    <button class=\"colab-df-convert\" onclick=\"convertToInteractive('df-45ca0d4a-a55e-43e0-b807-c5c3eb6fd6e8')\"\n",
              "            title=\"Convert this dataframe to an interactive table.\"\n",
              "            style=\"display:none;\">\n",
              "\n",
              "  <svg xmlns=\"http://www.w3.org/2000/svg\" height=\"24px\" viewBox=\"0 -960 960 960\">\n",
              "    <path d=\"M120-120v-720h720v720H120Zm60-500h600v-160H180v160Zm220 220h160v-160H400v160Zm0 220h160v-160H400v160ZM180-400h160v-160H180v160Zm440 0h160v-160H620v160ZM180-180h160v-160H180v160Zm440 0h160v-160H620v160Z\"/>\n",
              "  </svg>\n",
              "    </button>\n",
              "\n",
              "  <style>\n",
              "    .colab-df-container {\n",
              "      display:flex;\n",
              "      gap: 12px;\n",
              "    }\n",
              "\n",
              "    .colab-df-convert {\n",
              "      background-color: #E8F0FE;\n",
              "      border: none;\n",
              "      border-radius: 50%;\n",
              "      cursor: pointer;\n",
              "      display: none;\n",
              "      fill: #1967D2;\n",
              "      height: 32px;\n",
              "      padding: 0 0 0 0;\n",
              "      width: 32px;\n",
              "    }\n",
              "\n",
              "    .colab-df-convert:hover {\n",
              "      background-color: #E2EBFA;\n",
              "      box-shadow: 0px 1px 2px rgba(60, 64, 67, 0.3), 0px 1px 3px 1px rgba(60, 64, 67, 0.15);\n",
              "      fill: #174EA6;\n",
              "    }\n",
              "\n",
              "    .colab-df-buttons div {\n",
              "      margin-bottom: 4px;\n",
              "    }\n",
              "\n",
              "    [theme=dark] .colab-df-convert {\n",
              "      background-color: #3B4455;\n",
              "      fill: #D2E3FC;\n",
              "    }\n",
              "\n",
              "    [theme=dark] .colab-df-convert:hover {\n",
              "      background-color: #434B5C;\n",
              "      box-shadow: 0px 1px 3px 1px rgba(0, 0, 0, 0.15);\n",
              "      filter: drop-shadow(0px 1px 2px rgba(0, 0, 0, 0.3));\n",
              "      fill: #FFFFFF;\n",
              "    }\n",
              "  </style>\n",
              "\n",
              "    <script>\n",
              "      const buttonEl =\n",
              "        document.querySelector('#df-45ca0d4a-a55e-43e0-b807-c5c3eb6fd6e8 button.colab-df-convert');\n",
              "      buttonEl.style.display =\n",
              "        google.colab.kernel.accessAllowed ? 'block' : 'none';\n",
              "\n",
              "      async function convertToInteractive(key) {\n",
              "        const element = document.querySelector('#df-45ca0d4a-a55e-43e0-b807-c5c3eb6fd6e8');\n",
              "        const dataTable =\n",
              "          await google.colab.kernel.invokeFunction('convertToInteractive',\n",
              "                                                    [key], {});\n",
              "        if (!dataTable) return;\n",
              "\n",
              "        const docLinkHtml = 'Like what you see? Visit the ' +\n",
              "          '<a target=\"_blank\" href=https://colab.research.google.com/notebooks/data_table.ipynb>data table notebook</a>'\n",
              "          + ' to learn more about interactive tables.';\n",
              "        element.innerHTML = '';\n",
              "        dataTable['output_type'] = 'display_data';\n",
              "        await google.colab.output.renderOutput(dataTable, element);\n",
              "        const docLink = document.createElement('div');\n",
              "        docLink.innerHTML = docLinkHtml;\n",
              "        element.appendChild(docLink);\n",
              "      }\n",
              "    </script>\n",
              "  </div>\n",
              "\n",
              "\n",
              "<div id=\"df-ff894521-4fc8-4657-bdd4-29bc25eb17ca\">\n",
              "  <button class=\"colab-df-quickchart\" onclick=\"quickchart('df-ff894521-4fc8-4657-bdd4-29bc25eb17ca')\"\n",
              "            title=\"Suggest charts\"\n",
              "            style=\"display:none;\">\n",
              "\n",
              "<svg xmlns=\"http://www.w3.org/2000/svg\" height=\"24px\"viewBox=\"0 0 24 24\"\n",
              "     width=\"24px\">\n",
              "    <g>\n",
              "        <path d=\"M19 3H5c-1.1 0-2 .9-2 2v14c0 1.1.9 2 2 2h14c1.1 0 2-.9 2-2V5c0-1.1-.9-2-2-2zM9 17H7v-7h2v7zm4 0h-2V7h2v10zm4 0h-2v-4h2v4z\"/>\n",
              "    </g>\n",
              "</svg>\n",
              "  </button>\n",
              "\n",
              "<style>\n",
              "  .colab-df-quickchart {\n",
              "      --bg-color: #E8F0FE;\n",
              "      --fill-color: #1967D2;\n",
              "      --hover-bg-color: #E2EBFA;\n",
              "      --hover-fill-color: #174EA6;\n",
              "      --disabled-fill-color: #AAA;\n",
              "      --disabled-bg-color: #DDD;\n",
              "  }\n",
              "\n",
              "  [theme=dark] .colab-df-quickchart {\n",
              "      --bg-color: #3B4455;\n",
              "      --fill-color: #D2E3FC;\n",
              "      --hover-bg-color: #434B5C;\n",
              "      --hover-fill-color: #FFFFFF;\n",
              "      --disabled-bg-color: #3B4455;\n",
              "      --disabled-fill-color: #666;\n",
              "  }\n",
              "\n",
              "  .colab-df-quickchart {\n",
              "    background-color: var(--bg-color);\n",
              "    border: none;\n",
              "    border-radius: 50%;\n",
              "    cursor: pointer;\n",
              "    display: none;\n",
              "    fill: var(--fill-color);\n",
              "    height: 32px;\n",
              "    padding: 0;\n",
              "    width: 32px;\n",
              "  }\n",
              "\n",
              "  .colab-df-quickchart:hover {\n",
              "    background-color: var(--hover-bg-color);\n",
              "    box-shadow: 0 1px 2px rgba(60, 64, 67, 0.3), 0 1px 3px 1px rgba(60, 64, 67, 0.15);\n",
              "    fill: var(--button-hover-fill-color);\n",
              "  }\n",
              "\n",
              "  .colab-df-quickchart-complete:disabled,\n",
              "  .colab-df-quickchart-complete:disabled:hover {\n",
              "    background-color: var(--disabled-bg-color);\n",
              "    fill: var(--disabled-fill-color);\n",
              "    box-shadow: none;\n",
              "  }\n",
              "\n",
              "  .colab-df-spinner {\n",
              "    border: 2px solid var(--fill-color);\n",
              "    border-color: transparent;\n",
              "    border-bottom-color: var(--fill-color);\n",
              "    animation:\n",
              "      spin 1s steps(1) infinite;\n",
              "  }\n",
              "\n",
              "  @keyframes spin {\n",
              "    0% {\n",
              "      border-color: transparent;\n",
              "      border-bottom-color: var(--fill-color);\n",
              "      border-left-color: var(--fill-color);\n",
              "    }\n",
              "    20% {\n",
              "      border-color: transparent;\n",
              "      border-left-color: var(--fill-color);\n",
              "      border-top-color: var(--fill-color);\n",
              "    }\n",
              "    30% {\n",
              "      border-color: transparent;\n",
              "      border-left-color: var(--fill-color);\n",
              "      border-top-color: var(--fill-color);\n",
              "      border-right-color: var(--fill-color);\n",
              "    }\n",
              "    40% {\n",
              "      border-color: transparent;\n",
              "      border-right-color: var(--fill-color);\n",
              "      border-top-color: var(--fill-color);\n",
              "    }\n",
              "    60% {\n",
              "      border-color: transparent;\n",
              "      border-right-color: var(--fill-color);\n",
              "    }\n",
              "    80% {\n",
              "      border-color: transparent;\n",
              "      border-right-color: var(--fill-color);\n",
              "      border-bottom-color: var(--fill-color);\n",
              "    }\n",
              "    90% {\n",
              "      border-color: transparent;\n",
              "      border-bottom-color: var(--fill-color);\n",
              "    }\n",
              "  }\n",
              "</style>\n",
              "\n",
              "  <script>\n",
              "    async function quickchart(key) {\n",
              "      const quickchartButtonEl =\n",
              "        document.querySelector('#' + key + ' button');\n",
              "      quickchartButtonEl.disabled = true;  // To prevent multiple clicks.\n",
              "      quickchartButtonEl.classList.add('colab-df-spinner');\n",
              "      try {\n",
              "        const charts = await google.colab.kernel.invokeFunction(\n",
              "            'suggestCharts', [key], {});\n",
              "      } catch (error) {\n",
              "        console.error('Error during call to suggestCharts:', error);\n",
              "      }\n",
              "      quickchartButtonEl.classList.remove('colab-df-spinner');\n",
              "      quickchartButtonEl.classList.add('colab-df-quickchart-complete');\n",
              "    }\n",
              "    (() => {\n",
              "      let quickchartButtonEl =\n",
              "        document.querySelector('#df-ff894521-4fc8-4657-bdd4-29bc25eb17ca button');\n",
              "      quickchartButtonEl.style.display =\n",
              "        google.colab.kernel.accessAllowed ? 'block' : 'none';\n",
              "    })();\n",
              "  </script>\n",
              "</div>\n",
              "\n",
              "    </div>\n",
              "  </div>\n"
            ],
            "application/vnd.google.colaboratory.intrinsic+json": {
              "type": "dataframe",
              "variable_name": "data"
            }
          },
          "metadata": {},
          "execution_count": 91
        }
      ]
    },
    {
      "cell_type": "code",
      "source": [
        "data.shape"
      ],
      "metadata": {
        "colab": {
          "base_uri": "https://localhost:8080/"
        },
        "id": "HvMHm9nh3zJ3",
        "outputId": "25373494-8915-4d38-f483-6001f2b597d6"
      },
      "execution_count": 92,
      "outputs": [
        {
          "output_type": "execute_result",
          "data": {
            "text/plain": [
              "(1220092, 123)"
            ]
          },
          "metadata": {},
          "execution_count": 92
        }
      ]
    },
    {
      "cell_type": "markdown",
      "source": [],
      "metadata": {
        "id": "Jg8RCjyN1An5"
      }
    },
    {
      "cell_type": "markdown",
      "source": [
        "## Train/Test Split"
      ],
      "metadata": {
        "id": "fiZYdiYEGLUQ"
      }
    },
    {
      "cell_type": "code",
      "source": [
        "\n",
        "\n",
        "data['issue_d'] = pd.to_datetime(data['issue_d'])"
      ],
      "metadata": {
        "id": "UaC-AtOjGxd7"
      },
      "execution_count": 93,
      "outputs": []
    },
    {
      "cell_type": "code",
      "source": [
        "data['issue_d'].sample()\n"
      ],
      "metadata": {
        "colab": {
          "base_uri": "https://localhost:8080/"
        },
        "id": "MoI-0e0xG9UN",
        "outputId": "43cb2731-a307-43f6-812c-50d924f06450"
      },
      "execution_count": 94,
      "outputs": [
        {
          "output_type": "execute_result",
          "data": {
            "text/plain": [
              "721030   2014-07-01\n",
              "Name: issue_d, dtype: datetime64[ns]"
            ]
          },
          "metadata": {},
          "execution_count": 94
        }
      ]
    },
    {
      "cell_type": "markdown",
      "source": [],
      "metadata": {
        "id": "oqyI8CodDLdp"
      }
    },
    {
      "cell_type": "code",
      "source": [
        "data['issue_d'].describe()"
      ],
      "metadata": {
        "colab": {
          "base_uri": "https://localhost:8080/"
        },
        "id": "ZTtA8gknHA-W",
        "outputId": "dc586266-d107-4df7-ac08-54440e48bb4b"
      },
      "execution_count": 95,
      "outputs": [
        {
          "output_type": "execute_result",
          "data": {
            "text/plain": [
              "count                          1220092\n",
              "mean     2015-07-29 07:38:52.399851520\n",
              "min                2012-03-01 00:00:00\n",
              "25%                2014-08-01 00:00:00\n",
              "50%                2015-09-01 00:00:00\n",
              "75%                2016-07-01 00:00:00\n",
              "max                2018-12-01 00:00:00\n",
              "Name: issue_d, dtype: object"
            ]
          },
          "metadata": {},
          "execution_count": 95
        }
      ]
    },
    {
      "cell_type": "markdown",
      "source": [
        "There are 82 unique values. The first loans were issued in Jan 2012 and the last loans were issued in September 2018. The busiest month was Oct 2016, with 45410 loans funded in that month. Let's further check the distribution of loans funded per month.\n",
        "\n"
      ],
      "metadata": {
        "id": "v_TCwiH-HGFL"
      }
    },
    {
      "cell_type": "code",
      "source": [
        "import matplotlib.pyplot as plt\n",
        "plt.figure(figsize=(4,3))\n",
        "data['issue_d'].dt.year.value_counts().sort_index().plot.bar()\n",
        "plt.xlabel('Year')\n",
        "plt.ylabel('Number of loans funded')\n",
        "plt.title('Loans funded per Year')"
      ],
      "metadata": {
        "colab": {
          "base_uri": "https://localhost:8080/",
          "height": 372
        },
        "id": "-js7uzPcHQhZ",
        "outputId": "d1c5739b-a681-42f1-8f50-776397533a1b"
      },
      "execution_count": 96,
      "outputs": [
        {
          "output_type": "execute_result",
          "data": {
            "text/plain": [
              "Text(0.5, 1.0, 'Loans funded per Year')"
            ]
          },
          "metadata": {},
          "execution_count": 96
        },
        {
          "output_type": "display_data",
          "data": {
            "text/plain": [
              "<Figure size 400x300 with 1 Axes>"
            ],
            "image/png": "[encoded data removed]"
          },
          "metadata": {}
        }
      ]
    },
    {
      "cell_type": "markdown",
      "source": [
        "nterestingly, the funded loans significantly increased since 2013, and continued through 2015."
      ],
      "metadata": {
        "id": "bkHa43DLHs8Y"
      }
    },
    {
      "cell_type": "markdown",
      "source": [
        "We will split the train/test sample at 8:2.\n",
        "\n"
      ],
      "metadata": {
        "id": "P6wziycWHzGd"
      }
    },
    {
      "cell_type": "markdown",
      "source": [
        "Why is this useful?\n",
        "\n",
        "The 80th percentile is often used for splitting your data into training and testing sets for machine learning tasks, particularly when dealing with time-series data like loan issue dates. Here's why:\n",
        "\n",
        "Simulates Real-World Scenario:  Imagine your model predicts loan defaults. In reality, the model wouldn't have access to future loan information. Splitting at the 80th percentile creates a training set with historical data (loans issued before) and a testing set with loans issued later. This helps assess how well the model generalizes to unseen data, similar to how it would perform on future loans.\n",
        "\n",
        "Preserves Temporal Trends:  Loan performance might change over time due to economic factors or LendingClub's practices. The training data with loans issued before the 80th percentile captures historical trends relevant to predicting future defaults. The model learns these trends to predict defaults in loans issued later (testing set).\n",
        "\n",
        "Avoids Data Leakage:  If the model were trained on all data, including future loans (testing set), it might \"cheat\" by learning patterns specific to those loans. This would lead to overfitting, where the model performs well on the training data but poorly on unseen data (future loans). Splitting at the 80th percentile ensures the training data doesn't contain information from the testing set, preventing leakage."
      ],
      "metadata": {
        "id": "7VdRfo36IDrG"
      }
    },
    {
      "cell_type": "code",
      "source": [
        "data_train = data.loc[data['issue_d']  < data['issue_d'].quantile(0.8)]\n",
        "data_test =  data.loc[data['issue_d'] >= data['issue_d'].quantile(0.8)]"
      ],
      "metadata": {
        "id": "vnz1BsxRHysY"
      },
      "execution_count": 97,
      "outputs": []
    },
    {
      "cell_type": "code",
      "source": [
        "data['issue_d'].quantile(0.8)"
      ],
      "metadata": {
        "id": "FFzTh2RDIyIy"
      },
      "execution_count": null,
      "outputs": []
    },
    {
      "cell_type": "code",
      "source": [
        "print('Number of loans in the partition:   ', data_train.shape[0] + data_test.shape[0])\n",
        "print('Number of loans in the full dataset:', data.shape[0])"
      ],
      "metadata": {
        "colab": {
          "base_uri": "https://localhost:8080/"
        },
        "id": "LUZepFlQIPA3",
        "outputId": "09ddf4df-28af-41cb-fde8-7d6ef35f50e2"
      },
      "execution_count": 99,
      "outputs": [
        {
          "output_type": "stream",
          "name": "stdout",
          "text": [
            "Number of loans in the partition:    1220092\n",
            "Number of loans in the full dataset: 1220092\n"
          ]
        }
      ]
    },
    {
      "cell_type": "markdown",
      "source": [
        "summary statistics of the issue dates in the train/test sets.\n",
        "\n"
      ],
      "metadata": {
        "id": "FmYNg8YPIj1w"
      }
    },
    {
      "cell_type": "code",
      "source": [
        "data_train['issue_d'].describe()"
      ],
      "metadata": {
        "colab": {
          "base_uri": "https://localhost:8080/"
        },
        "id": "w97-pJXkIgn-",
        "outputId": "88370d22-6bfc-45cc-fce6-0a188cfe86d3"
      },
      "execution_count": 100,
      "outputs": [
        {
          "output_type": "execute_result",
          "data": {
            "text/plain": [
              "count                           976071\n",
              "mean     2015-01-31 10:07:48.238888448\n",
              "min                2012-03-01 00:00:00\n",
              "25%                2014-05-01 00:00:00\n",
              "50%                2015-05-01 00:00:00\n",
              "75%                2015-12-01 00:00:00\n",
              "max                2016-10-01 00:00:00\n",
              "Name: issue_d, dtype: object"
            ]
          },
          "metadata": {},
          "execution_count": 100
        }
      ]
    },
    {
      "cell_type": "code",
      "source": [
        "data_test['issue_d'].describe()"
      ],
      "metadata": {
        "colab": {
          "base_uri": "https://localhost:8080/"
        },
        "id": "CnfyV3ICIpEk",
        "outputId": "59b7d589-ce37-4824-b4a0-b9969bfb3e8d"
      },
      "execution_count": 101,
      "outputs": [
        {
          "output_type": "execute_result",
          "data": {
            "text/plain": [
              "count                           244021\n",
              "mean     2017-07-13 21:29:25.603780096\n",
              "min                2016-11-01 00:00:00\n",
              "25%                2017-02-01 00:00:00\n",
              "50%                2017-07-01 00:00:00\n",
              "75%                2017-11-01 00:00:00\n",
              "max                2018-12-01 00:00:00\n",
              "Name: issue_d, dtype: object"
            ]
          },
          "metadata": {},
          "execution_count": 101
        }
      ]
    },
    {
      "cell_type": "markdown",
      "source": [
        "Now we can delete the \"issue_d\""
      ],
      "metadata": {
        "id": "3tyYcpvhLaiV"
      }
    },
    {
      "cell_type": "code",
      "source": [
        "data_train.drop('issue_d', axis=1, inplace=True)\n",
        "data_test.drop('issue_d', axis=1, inplace=True)"
      ],
      "metadata": {
        "id": "L9zaAHpiLZXm"
      },
      "execution_count": 102,
      "outputs": []
    },
    {
      "cell_type": "markdown",
      "source": [
        "Now separate the predictor variables from the target variable"
      ],
      "metadata": {
        "id": "UHd8zIpBLj63"
      }
    },
    {
      "cell_type": "code",
      "source": [
        "X_train = data_train.drop(['loan_status'], axis=1)\n",
        "y_train = data_train.loc[:, 'loan_status']\n",
        "\n",
        "X_test = data_test.drop(['loan_status'], axis=1)\n",
        "y_test = data_test['loan_status']"
      ],
      "metadata": {
        "id": "8I5bUW5hLjnD"
      },
      "execution_count": 103,
      "outputs": []
    },
    {
      "cell_type": "code",
      "source": [
        "print(\"Shape of the training set: \", X_train.shape)\n",
        "\n",
        "print(\"Shape of the test set: \", X_test.shape)\n",
        "\n",
        "print(\"Percentage of classes in the training set:\")\n",
        "\n",
        "print(y_train.value_counts(normalize = True))\n",
        "\n",
        "print(\"Percentage of classes in the test set:\")\n",
        "\n",
        "print(y_test.value_counts(normalize = True))"
      ],
      "metadata": {
        "colab": {
          "base_uri": "https://localhost:8080/"
        },
        "id": "wmUjD_nNB8lf",
        "outputId": "c83f08f0-757b-4a96-e08a-7aa1169b86a9"
      },
      "execution_count": 104,
      "outputs": [
        {
          "output_type": "stream",
          "name": "stdout",
          "text": [
            "Shape of the training set:  (976071, 121)\n",
            "Shape of the test set:  (244021, 121)\n",
            "Percentage of classes in the training set:\n",
            "loan_status\n",
            "0    0.806103\n",
            "1    0.193897\n",
            "Name: proportion, dtype: float64\n",
            "Percentage of classes in the test set:\n",
            "loan_status\n",
            "0    0.789297\n",
            "1    0.210703\n",
            "Name: proportion, dtype: float64\n"
          ]
        }
      ]
    },
    {
      "cell_type": "code",
      "source": [
        "def print_score(true, pred, train=True):\n",
        "    if train:\n",
        "        clf_report = pd.DataFrame(classification_report(true, pred, output_dict=True))\n",
        "        print(\"Train Result:\\n================================================\")\n",
        "        print(f\"Accuracy Score: {accuracy_score(true, pred) * 100:.2f}%\")\n",
        "        print(\"_______________________________________________\")\n",
        "        print(f\"CLASSIFICATION REPORT:\\n{clf_report}\")\n",
        "        print(\"_______________________________________________\")\n",
        "        print(f\"Confusion Matrix: \\n {confusion_matrix(true, pred)}\\n\")\n",
        "\n",
        "    elif train==False:\n",
        "        clf_report = pd.DataFrame(classification_report(true, pred, output_dict=True))\n",
        "        print(\"Test Result:\\n================================================\")\n",
        "        print(f\"Accuracy Score: {accuracy_score(true, pred) * 100:.2f}%\")\n",
        "        print(\"_______________________________________________\")\n",
        "        print(f\"CLASSIFICATION REPORT:\\n{clf_report}\")\n",
        "        print(\"_______________________________________________\")\n",
        "        print(f\"Confusion Matrix: \\n {confusion_matrix(true, pred)}\\n\")"
      ],
      "metadata": {
        "id": "I3Mqcv9EBc2h"
      },
      "execution_count": 6,
      "outputs": []
    },
    {
      "cell_type": "code",
      "source": [
        "\n",
        "\n",
        "def ks_score(y_true, y_pred_prob):\n",
        "    fpr, tpr, thresholds = roc_curve(y_true, y_pred_prob)\n",
        "    ks = max(tpr - fpr)\n",
        "    return ks\n",
        "\n"
      ],
      "metadata": {
        "id": "LYAs_RnWP9NY"
      },
      "execution_count": 7,
      "outputs": []
    },
    {
      "cell_type": "code",
      "source": [
        "def plot_precision_recall_curve(labels, pre_scores):\n",
        "\n",
        "    average_precision = metrics.average_precision_score(labels, pre_scores)\n",
        "    print('Average precision-recall score: {0:0.2f}'.format(average_precision))\n",
        "    precision, recall, _ = metrics.precision_recall_curve(labels, pre_scores)\n",
        "\n",
        "    plt.step(recall, precision, color='b', alpha=0.2, where='post')\n",
        "    plt.fill_between(recall, precision, step='post', alpha=0.2, color='b')\n",
        "\n",
        "    plt.xlabel('Recall')\n",
        "    plt.ylabel('Precision')\n",
        "    plt.ylim([0.0, 1.05])\n",
        "    plt.xlim([0.0, 1.0])\n",
        "    plt.title('2-class Precision-Recall curve: AP={0:0.2f}'.format(average_precision))\n",
        "    plt.show()"
      ],
      "metadata": {
        "id": "wnmno1ETJ3RK"
      },
      "execution_count": 8,
      "outputs": []
    },
    {
      "cell_type": "markdown",
      "source": [
        "### XG Boost using cleaned data"
      ],
      "metadata": {
        "id": "DI0_8ZAFPAnU"
      }
    },
    {
      "cell_type": "code",
      "source": [],
      "metadata": {
        "id": "Laz6qA7kM9zY"
      },
      "execution_count": null,
      "outputs": []
    },
    {
      "cell_type": "code",
      "source": [
        "import time"
      ],
      "metadata": {
        "id": "YgImEFn_TqZ1"
      },
      "execution_count": 107,
      "outputs": []
    },
    {
      "cell_type": "code",
      "source": [
        "from xgboost import XGBClassifier\n",
        "\n",
        "# XGBoost\n",
        "classifier_xgb = XGBClassifier()"
      ],
      "metadata": {
        "id": "9eFA1YSMBEnR"
      },
      "execution_count": 108,
      "outputs": []
    },
    {
      "cell_type": "code",
      "source": [
        "classifier_xgb.fit(X_train, y_train)\n",
        "y_train_pred = classifier_xgb.predict(X_train)\n",
        "y_test_pred = classifier_xgb.predict(X_test)\n",
        "\n",
        "print_score(y_train, y_train_pred, train=True)\n",
        "print_score(y_test, y_test_pred, train=False)"
      ],
      "metadata": {
        "colab": {
          "base_uri": "https://localhost:8080/"
        },
        "id": "g00wM1I7CBuH",
        "outputId": "de366b16-712b-48c9-f326-fc4268d9aed4"
      },
      "execution_count": 109,
      "outputs": [
        {
          "output_type": "stream",
          "name": "stdout",
          "text": [
            "Train Result:\n",
            "================================================\n",
            "Accuracy Score: 81.40%\n",
            "_______________________________________________\n",
            "CLASSIFICATION REPORT:\n",
            "                       0              1  accuracy      macro avg  \\\n",
            "precision       0.820919       0.616334  0.813987       0.718626   \n",
            "recall          0.983873       0.107705  0.813987       0.545789   \n",
            "f1-score        0.895039       0.183367  0.813987       0.539203   \n",
            "support    786814.000000  189257.000000  0.813987  976071.000000   \n",
            "\n",
            "            weighted avg  \n",
            "precision       0.781251  \n",
            "recall          0.813987  \n",
            "f1-score        0.757048  \n",
            "support    976071.000000  \n",
            "_______________________________________________\n",
            "Confusion Matrix: \n",
            " [[774125  12689]\n",
            " [168873  20384]]\n",
            "\n",
            "Test Result:\n",
            "================================================\n",
            "Accuracy Score: 78.98%\n",
            "_______________________________________________\n",
            "CLASSIFICATION REPORT:\n",
            "                       0             1  accuracy      macro avg   weighted avg\n",
            "precision       0.804262      0.505298  0.789809       0.654780       0.741270\n",
            "recall          0.969700      0.115937  0.789809       0.542818       0.789809\n",
            "f1-score        0.879267      0.188600  0.789809       0.533934       0.733741\n",
            "support    192605.000000  51416.000000  0.789809  244021.000000  244021.000000\n",
            "_______________________________________________\n",
            "Confusion Matrix: \n",
            " [[186769   5836]\n",
            " [ 45455   5961]]\n",
            "\n"
          ]
        }
      ]
    },
    {
      "cell_type": "code",
      "source": [
        "disp = ConfusionMatrixDisplay.from_estimator(\n",
        "    classifier_xgb, X_test, y_test,\n",
        "    cmap='Blues', values_format='d',\n",
        "    display_labels=['Default', 'Fully-Paid']\n",
        ")\n"
      ],
      "metadata": {
        "colab": {
          "base_uri": "https://localhost:8080/",
          "height": 449
        },
        "id": "z0AILTLgCyv4",
        "outputId": "177dc7b0-3fcd-4569-83ac-2988a3ec0910"
      },
      "execution_count": 110,
      "outputs": [
        {
          "output_type": "display_data",
          "data": {
            "text/plain": [
              "<Figure size 640x480 with 2 Axes>"
            ],
            "image/png": "[encoded data removed]"
          },
          "metadata": {}
        }
      ]
    },
    {
      "cell_type": "code",
      "source": [
        "y_pred_prob = classifier_xgb.predict_proba(X_test)[:,1]"
      ],
      "metadata": {
        "id": "KsvKSRwoQYRI"
      },
      "execution_count": 111,
      "outputs": []
    },
    {
      "cell_type": "code",
      "source": [
        "\n",
        "ks = ks_score(y_test, y_pred_prob)\n",
        "print(\"KS Score:\", ks)"
      ],
      "metadata": {
        "colab": {
          "base_uri": "https://localhost:8080/"
        },
        "id": "W4dAeOHYQTap",
        "outputId": "fbfac311-d850-4410-ba70-ce948d4bdd66"
      },
      "execution_count": 114,
      "outputs": [
        {
          "output_type": "stream",
          "name": "stdout",
          "text": [
            "KS Score: 0.3083416353472348\n"
          ]
        }
      ]
    },
    {
      "cell_type": "code",
      "source": [
        "\n",
        "plot_precision_recall_curve(y_test,y_pred_prob)"
      ],
      "metadata": {
        "id": "Z161nSYWJ5yV"
      },
      "execution_count": null,
      "outputs": []
    },
    {
      "cell_type": "code",
      "source": [],
      "metadata": {
        "id": "6ydJHfJPPek-"
      },
      "execution_count": null,
      "outputs": []
    },
    {
      "cell_type": "code",
      "source": [
        "# start = time.time()\n",
        "# from xgboost import XGBClassifier\n",
        "\n",
        "# # XGBoost\n",
        "# classifier_xgb = XGBClassifier()\n",
        "\n",
        "# start = time.time()\n",
        "# parameters = {\n",
        "\n",
        "#     'min_child_weight':(300,500,800),\n",
        "#     'learning_rate':(0.05, 0.1,0.3),\n",
        "#     'min_split_loss':(0,0.01,0.1),\n",
        "#     'max_depth':(2,6,8,10),\n",
        "#     'lambda':(0.1,0.5,1)\n",
        "# }\n",
        "\n",
        "\n",
        "# Grid_XGB = GridSearchCV(XGBClassifier(),parameters, cv=5)\n",
        "# Grid_XGB.fit(X_train, y_train)\n",
        "# elapsed = time.time() - start\n",
        "# print(elapsed)\n"
      ],
      "metadata": {
        "id": "h_jSvrPbPEVV"
      },
      "execution_count": null,
      "outputs": []
    },
    {
      "cell_type": "code",
      "source": [],
      "metadata": {
        "id": "unN1SoMPLGPi"
      },
      "execution_count": null,
      "outputs": []
    },
    {
      "cell_type": "code",
      "source": [],
      "metadata": {
        "id": "7b-UbxLtLGM7"
      },
      "execution_count": null,
      "outputs": []
    },
    {
      "cell_type": "markdown",
      "source": [
        "\n",
        "# **Basic Model - Using Preprocessed Dataset**\n",
        "\n"
      ],
      "metadata": {
        "id": "wchvEjQPLF3u"
      }
    },
    {
      "cell_type": "markdown",
      "source": [
        "Load the preprocessed Data"
      ],
      "metadata": {
        "id": "tNCG6EQ6L--0"
      }
    },
    {
      "cell_type": "code",
      "source": [
        "# Load the data\n",
        "train_data = pd.read_csv(\"/content/drive/MyDrive/NUS_SEM_2_(Jan2024_May2024)/Hands on Applied Analytics/Project/Loan Dfault Project/Data/train.csv\")\n",
        "test_data = pd.read_csv(\"/content/drive/MyDrive/NUS_SEM_2_(Jan2024_May2024)/Hands on Applied Analytics/Project/Loan Dfault Project/Data/test.csv\")"
      ],
      "metadata": {
        "id": "ZyhXkjCiMBcY"
      },
      "execution_count": 9,
      "outputs": []
    },
    {
      "cell_type": "code",
      "source": [
        "test_data = test_data.drop('issue_d' , axis=1)\n",
        "train_data = train_data.drop('issue_d' , axis=1)"
      ],
      "metadata": {
        "id": "gG0uRy7vMGEj"
      },
      "execution_count": 10,
      "outputs": []
    },
    {
      "cell_type": "code",
      "source": [],
      "metadata": {
        "id": "hFsC_CEzMVzO"
      },
      "execution_count": null,
      "outputs": []
    },
    {
      "cell_type": "markdown",
      "source": [
        "## Feature Engineering"
      ],
      "metadata": {
        "id": "06l0x12WMV7J"
      }
    },
    {
      "cell_type": "markdown",
      "source": [
        "Convert target variable to 0/1 indicator"
      ],
      "metadata": {
        "id": "oTowWKToMV7K"
      }
    },
    {
      "cell_type": "code",
      "source": [
        "# One hot encoding for Y\n",
        "class_mapping = {\"Fully Paid\":0, \"Charged Off\":1}\n",
        "train_data['loan_status']=train_data['loan_status'].map(class_mapping)\n",
        "test_data['loan_status']=test_data['loan_status'].map(class_mapping)"
      ],
      "metadata": {
        "id": "Gcpn2YcJMV7K"
      },
      "execution_count": 11,
      "outputs": []
    },
    {
      "cell_type": "code",
      "source": [],
      "metadata": {
        "id": "HIor7w7DMjoY"
      },
      "execution_count": null,
      "outputs": []
    },
    {
      "cell_type": "markdown",
      "source": [
        "## Encoding"
      ],
      "metadata": {
        "id": "QU4wv8gmyNF-"
      }
    },
    {
      "cell_type": "code",
      "source": [
        "categorical_columns = test_data.select_dtypes(include=['object', 'category']).columns.tolist()\n",
        "categorical_columns"
      ],
      "metadata": {
        "colab": {
          "base_uri": "https://localhost:8080/"
        },
        "id": "VBIlxOIYyRpn",
        "outputId": "2bbba3dd-31fa-4d01-f2c9-d6a33e23a43a"
      },
      "execution_count": 12,
      "outputs": [
        {
          "output_type": "execute_result",
          "data": {
            "text/plain": [
              "['sub_grade',\n",
              " 'home_ownership',\n",
              " 'verification_status',\n",
              " 'purpose',\n",
              " 'addr_state',\n",
              " 'application_type']"
            ]
          },
          "metadata": {},
          "execution_count": 12
        }
      ]
    },
    {
      "cell_type": "code",
      "source": [
        "for column in categorical_columns:\n",
        "    unique_values = test_data[column].nunique()\n",
        "    print(f\"Column '{column}' has {unique_values} unique values.\")"
      ],
      "metadata": {
        "colab": {
          "base_uri": "https://localhost:8080/"
        },
        "id": "5aoNbwboyWcH",
        "outputId": "c869e4b6-3559-4bb4-c448-29b152e59169"
      },
      "execution_count": 9,
      "outputs": [
        {
          "output_type": "stream",
          "name": "stdout",
          "text": [
            "Column 'sub_grade' has 35 unique values.\n",
            "Column 'home_ownership' has 4 unique values.\n",
            "Column 'verification_status' has 3 unique values.\n",
            "Column 'purpose' has 13 unique values.\n",
            "Column 'addr_state' has 50 unique values.\n",
            "Column 'application_type' has 2 unique values.\n"
          ]
        }
      ]
    },
    {
      "cell_type": "markdown",
      "source": [
        "##  One hot Encoding\n"
      ],
      "metadata": {
        "id": "n2b8_IkR__cm"
      }
    },
    {
      "cell_type": "code",
      "source": [
        "cat_columns_ohe = ['home_ownership', 'verification_status', 'application_type','addr_state', 'sub_grade', 'purpose' ]\n"
      ],
      "metadata": {
        "id": "_usCfTGQ_-_b"
      },
      "execution_count": 13,
      "outputs": []
    },
    {
      "cell_type": "code",
      "source": [
        "combined_df = pd.concat([train_data, test_data], axis=0)\n",
        "combined_df.reset_index(drop=True, inplace=True)\n",
        "encoded_combined_df = pd.get_dummies(combined_df, columns=cat_columns_ohe, drop_first=True, prefix={col: col for col in cat_columns_ohe})\n",
        "encoded_combined_df.reset_index(drop=True, inplace=True)"
      ],
      "metadata": {
        "id": "pXAa3QhIBlbH"
      },
      "execution_count": 14,
      "outputs": []
    },
    {
      "cell_type": "code",
      "source": [
        "train_data = encoded_combined_df.iloc[:len(train_data)]\n",
        "train_data.reset_index(drop=True, inplace=True)\n",
        "test_data = encoded_combined_df.iloc[len(train_data):]\n",
        "test_data.reset_index(drop=True, inplace=True)"
      ],
      "metadata": {
        "id": "5Za8zBV_BlZF"
      },
      "execution_count": 15,
      "outputs": []
    },
    {
      "cell_type": "code",
      "source": [
        "X_train = train_data.drop(['loan_status'], axis=1)\n",
        "y_train = train_data.loc[:, 'loan_status']\n",
        "\n",
        "X_test = test_data.drop(['loan_status'], axis=1)\n",
        "y_test = test_data['loan_status']"
      ],
      "metadata": {
        "id": "cFBIGGYUwApD"
      },
      "execution_count": 16,
      "outputs": []
    },
    {
      "cell_type": "code",
      "source": [
        "X_test = X_test[X_train.columns]"
      ],
      "metadata": {
        "id": "s_kMs9Bsy-9j"
      },
      "execution_count": 17,
      "outputs": []
    },
    {
      "cell_type": "code",
      "source": [
        "X_test.tail()"
      ],
      "metadata": {
        "colab": {
          "base_uri": "https://localhost:8080/",
          "height": 244
        },
        "id": "xBCZJUAh_RhB",
        "outputId": "ab2c0635-43b7-4ae1-9a2c-5415f5b49152"
      },
      "execution_count": 18,
      "outputs": [
        {
          "output_type": "execute_result",
          "data": {
            "text/plain": [
              "        loan_amnt  term (months)  int_rate  installment  annual_inc    dti  \\\n",
              "127123    16000.0             60     18.06       406.82     50000.0   8.28   \n",
              "127124    10000.0             60     28.72       315.72     48000.0  16.08   \n",
              "127125    17950.0             60     30.17       582.62     53758.0  33.24   \n",
              "127126    18000.0             60     30.65       589.57     77000.0   8.08   \n",
              "127127    12000.0             60     25.82       358.01     30000.0  19.28   \n",
              "\n",
              "        open_acc  pub_rec  revol_bal  revol_util  total_acc  mort_acc  \\\n",
              "127123         6        0     1393.0        24.0         17       3.0   \n",
              "127124        11        0     5314.0        59.0         12       0.0   \n",
              "127125        11        1     5959.0        35.9         24       3.0   \n",
              "127126         9        0    10100.0        45.1         15       1.0   \n",
              "127127        10        0     3497.0        20.2         26       4.0   \n",
              "\n",
              "        fico_avg  home_ownership_OTHER  home_ownership_OWN  \\\n",
              "127123     667.0                 False               False   \n",
              "127124     662.0                 False               False   \n",
              "127125     682.0                 False               False   \n",
              "127126     667.0                 False               False   \n",
              "127127     682.0                 False               False   \n",
              "\n",
              "        home_ownership_RENT  verification_status_Source Verified  \\\n",
              "127123                False                                 True   \n",
              "127124                 True                                False   \n",
              "127125                False                                 True   \n",
              "127126                False                                False   \n",
              "127127                False                                False   \n",
              "\n",
              "        verification_status_Verified  application_type_Joint App  \\\n",
              "127123                         False                        True   \n",
              "127124                         False                       False   \n",
              "127125                         False                       False   \n",
              "127126                          True                       False   \n",
              "127127                         False                        True   \n",
              "\n",
              "        addr_state_AL  addr_state_AR  addr_state_AZ  addr_state_CA  \\\n",
              "127123          False          False          False          False   \n",
              "127124          False          False          False           True   \n",
              "127125          False          False          False          False   \n",
              "127126          False          False          False          False   \n",
              "127127          False          False          False          False   \n",
              "\n",
              "        addr_state_CO  addr_state_CT  addr_state_DC  addr_state_DE  \\\n",
              "127123          False          False          False          False   \n",
              "127124          False          False          False          False   \n",
              "127125          False          False          False          False   \n",
              "127126          False          False          False          False   \n",
              "127127          False          False          False          False   \n",
              "\n",
              "        addr_state_FL  addr_state_GA  addr_state_HI  addr_state_IA  \\\n",
              "127123          False          False          False          False   \n",
              "127124          False          False          False          False   \n",
              "127125          False          False          False          False   \n",
              "127126          False          False          False          False   \n",
              "127127          False          False          False          False   \n",
              "\n",
              "        addr_state_ID  addr_state_IL  addr_state_IN  addr_state_KS  \\\n",
              "127123          False          False          False          False   \n",
              "127124          False          False          False          False   \n",
              "127125          False           True          False          False   \n",
              "127126          False          False          False          False   \n",
              "127127          False          False          False          False   \n",
              "\n",
              "        addr_state_KY  addr_state_LA  addr_state_MA  addr_state_MD  \\\n",
              "127123          False          False          False          False   \n",
              "127124          False          False          False          False   \n",
              "127125          False          False          False          False   \n",
              "127126          False          False          False          False   \n",
              "127127          False          False          False          False   \n",
              "\n",
              "        addr_state_ME  addr_state_MI  addr_state_MN  addr_state_MO  \\\n",
              "127123          False          False          False          False   \n",
              "127124          False          False          False          False   \n",
              "127125          False          False          False          False   \n",
              "127126          False          False          False          False   \n",
              "127127          False          False          False          False   \n",
              "\n",
              "        addr_state_MS  addr_state_MT  addr_state_NC  addr_state_ND  \\\n",
              "127123          False          False          False          False   \n",
              "127124          False          False          False          False   \n",
              "127125          False          False          False          False   \n",
              "127126          False          False          False          False   \n",
              "127127          False          False          False          False   \n",
              "\n",
              "        addr_state_NE  addr_state_NH  addr_state_NJ  addr_state_NM  \\\n",
              "127123          False          False          False          False   \n",
              "127124          False          False          False          False   \n",
              "127125          False          False          False          False   \n",
              "127126          False          False          False          False   \n",
              "127127          False          False          False          False   \n",
              "\n",
              "        addr_state_NV  addr_state_NY  addr_state_OH  addr_state_OK  \\\n",
              "127123          False          False          False          False   \n",
              "127124          False          False          False          False   \n",
              "127125          False          False          False          False   \n",
              "127126          False          False          False          False   \n",
              "127127          False          False          False          False   \n",
              "\n",
              "        addr_state_OR  addr_state_PA  addr_state_RI  addr_state_SC  \\\n",
              "127123          False          False          False           True   \n",
              "127124          False          False          False          False   \n",
              "127125          False          False          False          False   \n",
              "127126          False          False          False          False   \n",
              "127127           True          False          False          False   \n",
              "\n",
              "        addr_state_SD  addr_state_TN  addr_state_TX  addr_state_UT  \\\n",
              "127123          False          False          False          False   \n",
              "127124          False          False          False          False   \n",
              "127125          False          False          False          False   \n",
              "127126          False          False           True          False   \n",
              "127127          False          False          False          False   \n",
              "\n",
              "        addr_state_VA  addr_state_VT  addr_state_WA  addr_state_WI  \\\n",
              "127123          False          False          False          False   \n",
              "127124          False          False          False          False   \n",
              "127125          False          False          False          False   \n",
              "127126          False          False          False          False   \n",
              "127127          False          False          False          False   \n",
              "\n",
              "        addr_state_WV  addr_state_WY  sub_grade_A2  sub_grade_A3  \\\n",
              "127123          False          False         False         False   \n",
              "127124          False          False         False         False   \n",
              "127125          False          False         False         False   \n",
              "127126          False          False         False         False   \n",
              "127127          False          False         False         False   \n",
              "\n",
              "        sub_grade_A4  sub_grade_A5  sub_grade_B1  sub_grade_B2  sub_grade_B3  \\\n",
              "127123         False         False         False         False         False   \n",
              "127124         False         False         False         False         False   \n",
              "127125         False         False         False         False         False   \n",
              "127126         False         False         False         False         False   \n",
              "127127         False         False         False         False         False   \n",
              "\n",
              "        sub_grade_B4  sub_grade_B5  sub_grade_C1  sub_grade_C2  sub_grade_C3  \\\n",
              "127123         False         False         False         False         False   \n",
              "127124         False         False         False         False         False   \n",
              "127125         False         False         False         False         False   \n",
              "127126         False         False         False         False         False   \n",
              "127127         False         False         False         False         False   \n",
              "\n",
              "        sub_grade_C4  sub_grade_C5  sub_grade_D1  sub_grade_D2  sub_grade_D3  \\\n",
              "127123         False         False         False          True         False   \n",
              "127124         False         False         False         False         False   \n",
              "127125         False         False         False         False         False   \n",
              "127126         False         False         False         False         False   \n",
              "127127         False         False         False         False         False   \n",
              "\n",
              "        sub_grade_D4  sub_grade_D5  sub_grade_E1  sub_grade_E2  sub_grade_E3  \\\n",
              "127123         False         False         False         False         False   \n",
              "127124         False         False         False         False         False   \n",
              "127125         False         False         False         False         False   \n",
              "127126         False         False         False         False         False   \n",
              "127127         False         False         False         False         False   \n",
              "\n",
              "        sub_grade_E4  sub_grade_E5  sub_grade_F1  sub_grade_F2  sub_grade_F3  \\\n",
              "127123         False         False         False         False         False   \n",
              "127124         False         False          True         False         False   \n",
              "127125         False         False         False         False          True   \n",
              "127126         False         False         False         False         False   \n",
              "127127          True         False         False         False         False   \n",
              "\n",
              "        sub_grade_F4  sub_grade_F5  sub_grade_G1  sub_grade_G2  sub_grade_G3  \\\n",
              "127123         False         False         False         False         False   \n",
              "127124         False         False         False         False         False   \n",
              "127125         False         False         False         False         False   \n",
              "127126          True         False         False         False         False   \n",
              "127127         False         False         False         False         False   \n",
              "\n",
              "        sub_grade_G4  sub_grade_G5  purpose_credit_card  \\\n",
              "127123         False         False                False   \n",
              "127124         False         False                False   \n",
              "127125         False         False                False   \n",
              "127126         False         False                False   \n",
              "127127         False         False                False   \n",
              "\n",
              "        purpose_debt_consolidation  purpose_home_improvement  purpose_house  \\\n",
              "127123                        True                     False          False   \n",
              "127124                       False                     False          False   \n",
              "127125                        True                     False          False   \n",
              "127126                        True                     False          False   \n",
              "127127                        True                     False          False   \n",
              "\n",
              "        purpose_major_purchase  purpose_medical  purpose_moving  \\\n",
              "127123                   False            False           False   \n",
              "127124                   False            False           False   \n",
              "127125                   False            False           False   \n",
              "127126                   False            False           False   \n",
              "127127                   False            False           False   \n",
              "\n",
              "        purpose_other  purpose_renewable_energy  purpose_small_business  \\\n",
              "127123          False                     False                   False   \n",
              "127124          False                     False                    True   \n",
              "127125          False                     False                   False   \n",
              "127126          False                     False                   False   \n",
              "127127          False                     False                   False   \n",
              "\n",
              "        purpose_vacation  purpose_wedding  \n",
              "127123             False            False  \n",
              "127124             False            False  \n",
              "127125             False            False  \n",
              "127126             False            False  \n",
              "127127             False            False  "
            ],
            "text/html": [
              "\n",
              "  <div id=\"df-a265b98c-55ef-4338-b51a-e57aa4648c58\" class=\"colab-df-container\">\n",
              "    <div>\n",
              "<style scoped>\n",
              "    .dataframe tbody tr th:only-of-type {\n",
              "        vertical-align: middle;\n",
              "    }\n",
              "\n",
              "    .dataframe tbody tr th {\n",
              "        vertical-align: top;\n",
              "    }\n",
              "\n",
              "    .dataframe thead th {\n",
              "        text-align: right;\n",
              "    }\n",
              "</style>\n",
              "<table border=\"1\" class=\"dataframe\">\n",
              "  <thead>\n",
              "    <tr style=\"text-align: right;\">\n",
              "      <th></th>\n",
              "      <th>loan_amnt</th>\n",
              "      <th>term (months)</th>\n",
              "      <th>int_rate</th>\n",
              "      <th>installment</th>\n",
              "      <th>annual_inc</th>\n",
              "      <th>dti</th>\n",
              "      <th>open_acc</th>\n",
              "      <th>pub_rec</th>\n",
              "      <th>revol_bal</th>\n",
              "      <th>revol_util</th>\n",
              "      <th>total_acc</th>\n",
              "      <th>mort_acc</th>\n",
              "      <th>fico_avg</th>\n",
              "      <th>home_ownership_OTHER</th>\n",
              "      <th>home_ownership_OWN</th>\n",
              "      <th>home_ownership_RENT</th>\n",
              "      <th>verification_status_Source Verified</th>\n",
              "      <th>verification_status_Verified</th>\n",
              "      <th>application_type_Joint App</th>\n",
              "      <th>addr_state_AL</th>\n",
              "      <th>addr_state_AR</th>\n",
              "      <th>addr_state_AZ</th>\n",
              "      <th>addr_state_CA</th>\n",
              "      <th>addr_state_CO</th>\n",
              "      <th>addr_state_CT</th>\n",
              "      <th>addr_state_DC</th>\n",
              "      <th>addr_state_DE</th>\n",
              "      <th>addr_state_FL</th>\n",
              "      <th>addr_state_GA</th>\n",
              "      <th>addr_state_HI</th>\n",
              "      <th>addr_state_IA</th>\n",
              "      <th>addr_state_ID</th>\n",
              "      <th>addr_state_IL</th>\n",
              "      <th>addr_state_IN</th>\n",
              "      <th>addr_state_KS</th>\n",
              "      <th>addr_state_KY</th>\n",
              "      <th>addr_state_LA</th>\n",
              "      <th>addr_state_MA</th>\n",
              "      <th>addr_state_MD</th>\n",
              "      <th>addr_state_ME</th>\n",
              "      <th>addr_state_MI</th>\n",
              "      <th>addr_state_MN</th>\n",
              "      <th>addr_state_MO</th>\n",
              "      <th>addr_state_MS</th>\n",
              "      <th>addr_state_MT</th>\n",
              "      <th>addr_state_NC</th>\n",
              "      <th>addr_state_ND</th>\n",
              "      <th>addr_state_NE</th>\n",
              "      <th>addr_state_NH</th>\n",
              "      <th>addr_state_NJ</th>\n",
              "      <th>addr_state_NM</th>\n",
              "      <th>addr_state_NV</th>\n",
              "      <th>addr_state_NY</th>\n",
              "      <th>addr_state_OH</th>\n",
              "      <th>addr_state_OK</th>\n",
              "      <th>addr_state_OR</th>\n",
              "      <th>addr_state_PA</th>\n",
              "      <th>addr_state_RI</th>\n",
              "      <th>addr_state_SC</th>\n",
              "      <th>addr_state_SD</th>\n",
              "      <th>addr_state_TN</th>\n",
              "      <th>addr_state_TX</th>\n",
              "      <th>addr_state_UT</th>\n",
              "      <th>addr_state_VA</th>\n",
              "      <th>addr_state_VT</th>\n",
              "      <th>addr_state_WA</th>\n",
              "      <th>addr_state_WI</th>\n",
              "      <th>addr_state_WV</th>\n",
              "      <th>addr_state_WY</th>\n",
              "      <th>sub_grade_A2</th>\n",
              "      <th>sub_grade_A3</th>\n",
              "      <th>sub_grade_A4</th>\n",
              "      <th>sub_grade_A5</th>\n",
              "      <th>sub_grade_B1</th>\n",
              "      <th>sub_grade_B2</th>\n",
              "      <th>sub_grade_B3</th>\n",
              "      <th>sub_grade_B4</th>\n",
              "      <th>sub_grade_B5</th>\n",
              "      <th>sub_grade_C1</th>\n",
              "      <th>sub_grade_C2</th>\n",
              "      <th>sub_grade_C3</th>\n",
              "      <th>sub_grade_C4</th>\n",
              "      <th>sub_grade_C5</th>\n",
              "      <th>sub_grade_D1</th>\n",
              "      <th>sub_grade_D2</th>\n",
              "      <th>sub_grade_D3</th>\n",
              "      <th>sub_grade_D4</th>\n",
              "      <th>sub_grade_D5</th>\n",
              "      <th>sub_grade_E1</th>\n",
              "      <th>sub_grade_E2</th>\n",
              "      <th>sub_grade_E3</th>\n",
              "      <th>sub_grade_E4</th>\n",
              "      <th>sub_grade_E5</th>\n",
              "      <th>sub_grade_F1</th>\n",
              "      <th>sub_grade_F2</th>\n",
              "      <th>sub_grade_F3</th>\n",
              "      <th>sub_grade_F4</th>\n",
              "      <th>sub_grade_F5</th>\n",
              "      <th>sub_grade_G1</th>\n",
              "      <th>sub_grade_G2</th>\n",
              "      <th>sub_grade_G3</th>\n",
              "      <th>sub_grade_G4</th>\n",
              "      <th>sub_grade_G5</th>\n",
              "      <th>purpose_credit_card</th>\n",
              "      <th>purpose_debt_consolidation</th>\n",
              "      <th>purpose_home_improvement</th>\n",
              "      <th>purpose_house</th>\n",
              "      <th>purpose_major_purchase</th>\n",
              "      <th>purpose_medical</th>\n",
              "      <th>purpose_moving</th>\n",
              "      <th>purpose_other</th>\n",
              "      <th>purpose_renewable_energy</th>\n",
              "      <th>purpose_small_business</th>\n",
              "      <th>purpose_vacation</th>\n",
              "      <th>purpose_wedding</th>\n",
              "    </tr>\n",
              "  </thead>\n",
              "  <tbody>\n",
              "    <tr>\n",
              "      <th>127123</th>\n",
              "      <td>16000.0</td>\n",
              "      <td>60</td>\n",
              "      <td>18.06</td>\n",
              "      <td>406.82</td>\n",
              "      <td>50000.0</td>\n",
              "      <td>8.28</td>\n",
              "      <td>6</td>\n",
              "      <td>0</td>\n",
              "      <td>1393.0</td>\n",
              "      <td>24.0</td>\n",
              "      <td>17</td>\n",
              "      <td>3.0</td>\n",
              "      <td>667.0</td>\n",
              "      <td>False</td>\n",
              "      <td>False</td>\n",
              "      <td>False</td>\n",
              "      <td>True</td>\n",
              "      <td>False</td>\n",
              "      <td>True</td>\n",
              "      <td>False</td>\n",
              "      <td>False</td>\n",
              "      <td>False</td>\n",
              "      <td>False</td>\n",
              "      <td>False</td>\n",
              "      <td>False</td>\n",
              "      <td>False</td>\n",
              "      <td>False</td>\n",
              "      <td>False</td>\n",
              "      <td>False</td>\n",
              "      <td>False</td>\n",
              "      <td>False</td>\n",
              "      <td>False</td>\n",
              "      <td>False</td>\n",
              "      <td>False</td>\n",
              "      <td>False</td>\n",
              "      <td>False</td>\n",
              "      <td>False</td>\n",
              "      <td>False</td>\n",
              "      <td>False</td>\n",
              "      <td>False</td>\n",
              "      <td>False</td>\n",
              "      <td>False</td>\n",
              "      <td>False</td>\n",
              "      <td>False</td>\n",
              "      <td>False</td>\n",
              "      <td>False</td>\n",
              "      <td>False</td>\n",
              "      <td>False</td>\n",
              "      <td>False</td>\n",
              "      <td>False</td>\n",
              "      <td>False</td>\n",
              "      <td>False</td>\n",
              "      <td>False</td>\n",
              "      <td>False</td>\n",
              "      <td>False</td>\n",
              "      <td>False</td>\n",
              "      <td>False</td>\n",
              "      <td>False</td>\n",
              "      <td>True</td>\n",
              "      <td>False</td>\n",
              "      <td>False</td>\n",
              "      <td>False</td>\n",
              "      <td>False</td>\n",
              "      <td>False</td>\n",
              "      <td>False</td>\n",
              "      <td>False</td>\n",
              "      <td>False</td>\n",
              "      <td>False</td>\n",
              "      <td>False</td>\n",
              "      <td>False</td>\n",
              "      <td>False</td>\n",
              "      <td>False</td>\n",
              "      <td>False</td>\n",
              "      <td>False</td>\n",
              "      <td>False</td>\n",
              "      <td>False</td>\n",
              "      <td>False</td>\n",
              "      <td>False</td>\n",
              "      <td>False</td>\n",
              "      <td>False</td>\n",
              "      <td>False</td>\n",
              "      <td>False</td>\n",
              "      <td>False</td>\n",
              "      <td>False</td>\n",
              "      <td>True</td>\n",
              "      <td>False</td>\n",
              "      <td>False</td>\n",
              "      <td>False</td>\n",
              "      <td>False</td>\n",
              "      <td>False</td>\n",
              "      <td>False</td>\n",
              "      <td>False</td>\n",
              "      <td>False</td>\n",
              "      <td>False</td>\n",
              "      <td>False</td>\n",
              "      <td>False</td>\n",
              "      <td>False</td>\n",
              "      <td>False</td>\n",
              "      <td>False</td>\n",
              "      <td>False</td>\n",
              "      <td>False</td>\n",
              "      <td>False</td>\n",
              "      <td>False</td>\n",
              "      <td>False</td>\n",
              "      <td>True</td>\n",
              "      <td>False</td>\n",
              "      <td>False</td>\n",
              "      <td>False</td>\n",
              "      <td>False</td>\n",
              "      <td>False</td>\n",
              "      <td>False</td>\n",
              "      <td>False</td>\n",
              "      <td>False</td>\n",
              "      <td>False</td>\n",
              "      <td>False</td>\n",
              "    </tr>\n",
              "    <tr>\n",
              "      <th>127124</th>\n",
              "      <td>10000.0</td>\n",
              "      <td>60</td>\n",
              "      <td>28.72</td>\n",
              "      <td>315.72</td>\n",
              "      <td>48000.0</td>\n",
              "      <td>16.08</td>\n",
              "      <td>11</td>\n",
              "      <td>0</td>\n",
              "      <td>5314.0</td>\n",
              "      <td>59.0</td>\n",
              "      <td>12</td>\n",
              "      <td>0.0</td>\n",
              "      <td>662.0</td>\n",
              "      <td>False</td>\n",
              "      <td>False</td>\n",
              "      <td>True</td>\n",
              "      <td>False</td>\n",
              "      <td>False</td>\n",
              "      <td>False</td>\n",
              "      <td>False</td>\n",
              "      <td>False</td>\n",
              "      <td>False</td>\n",
              "      <td>True</td>\n",
              "      <td>False</td>\n",
              "      <td>False</td>\n",
              "      <td>False</td>\n",
              "      <td>False</td>\n",
              "      <td>False</td>\n",
              "      <td>False</td>\n",
              "      <td>False</td>\n",
              "      <td>False</td>\n",
              "      <td>False</td>\n",
              "      <td>False</td>\n",
              "      <td>False</td>\n",
              "      <td>False</td>\n",
              "      <td>False</td>\n",
              "      <td>False</td>\n",
              "      <td>False</td>\n",
              "      <td>False</td>\n",
              "      <td>False</td>\n",
              "      <td>False</td>\n",
              "      <td>False</td>\n",
              "      <td>False</td>\n",
              "      <td>False</td>\n",
              "      <td>False</td>\n",
              "      <td>False</td>\n",
              "      <td>False</td>\n",
              "      <td>False</td>\n",
              "      <td>False</td>\n",
              "      <td>False</td>\n",
              "      <td>False</td>\n",
              "      <td>False</td>\n",
              "      <td>False</td>\n",
              "      <td>False</td>\n",
              "      <td>False</td>\n",
              "      <td>False</td>\n",
              "      <td>False</td>\n",
              "      <td>False</td>\n",
              "      <td>False</td>\n",
              "      <td>False</td>\n",
              "      <td>False</td>\n",
              "      <td>False</td>\n",
              "      <td>False</td>\n",
              "      <td>False</td>\n",
              "      <td>False</td>\n",
              "      <td>False</td>\n",
              "      <td>False</td>\n",
              "      <td>False</td>\n",
              "      <td>False</td>\n",
              "      <td>False</td>\n",
              "      <td>False</td>\n",
              "      <td>False</td>\n",
              "      <td>False</td>\n",
              "      <td>False</td>\n",
              "      <td>False</td>\n",
              "      <td>False</td>\n",
              "      <td>False</td>\n",
              "      <td>False</td>\n",
              "      <td>False</td>\n",
              "      <td>False</td>\n",
              "      <td>False</td>\n",
              "      <td>False</td>\n",
              "      <td>False</td>\n",
              "      <td>False</td>\n",
              "      <td>False</td>\n",
              "      <td>False</td>\n",
              "      <td>False</td>\n",
              "      <td>False</td>\n",
              "      <td>False</td>\n",
              "      <td>False</td>\n",
              "      <td>False</td>\n",
              "      <td>False</td>\n",
              "      <td>False</td>\n",
              "      <td>True</td>\n",
              "      <td>False</td>\n",
              "      <td>False</td>\n",
              "      <td>False</td>\n",
              "      <td>False</td>\n",
              "      <td>False</td>\n",
              "      <td>False</td>\n",
              "      <td>False</td>\n",
              "      <td>False</td>\n",
              "      <td>False</td>\n",
              "      <td>False</td>\n",
              "      <td>False</td>\n",
              "      <td>False</td>\n",
              "      <td>False</td>\n",
              "      <td>False</td>\n",
              "      <td>False</td>\n",
              "      <td>False</td>\n",
              "      <td>False</td>\n",
              "      <td>False</td>\n",
              "      <td>True</td>\n",
              "      <td>False</td>\n",
              "      <td>False</td>\n",
              "    </tr>\n",
              "    <tr>\n",
              "      <th>127125</th>\n",
              "      <td>17950.0</td>\n",
              "      <td>60</td>\n",
              "      <td>30.17</td>\n",
              "      <td>582.62</td>\n",
              "      <td>53758.0</td>\n",
              "      <td>33.24</td>\n",
              "      <td>11</td>\n",
              "      <td>1</td>\n",
              "      <td>5959.0</td>\n",
              "      <td>35.9</td>\n",
              "      <td>24</td>\n",
              "      <td>3.0</td>\n",
              "      <td>682.0</td>\n",
              "      <td>False</td>\n",
              "      <td>False</td>\n",
              "      <td>False</td>\n",
              "      <td>True</td>\n",
              "      <td>False</td>\n",
              "      <td>False</td>\n",
              "      <td>False</td>\n",
              "      <td>False</td>\n",
              "      <td>False</td>\n",
              "      <td>False</td>\n",
              "      <td>False</td>\n",
              "      <td>False</td>\n",
              "      <td>False</td>\n",
              "      <td>False</td>\n",
              "      <td>False</td>\n",
              "      <td>False</td>\n",
              "      <td>False</td>\n",
              "      <td>False</td>\n",
              "      <td>False</td>\n",
              "      <td>True</td>\n",
              "      <td>False</td>\n",
              "      <td>False</td>\n",
              "      <td>False</td>\n",
              "      <td>False</td>\n",
              "      <td>False</td>\n",
              "      <td>False</td>\n",
              "      <td>False</td>\n",
              "      <td>False</td>\n",
              "      <td>False</td>\n",
              "      <td>False</td>\n",
              "      <td>False</td>\n",
              "      <td>False</td>\n",
              "      <td>False</td>\n",
              "      <td>False</td>\n",
              "      <td>False</td>\n",
              "      <td>False</td>\n",
              "      <td>False</td>\n",
              "      <td>False</td>\n",
              "      <td>False</td>\n",
              "      <td>False</td>\n",
              "      <td>False</td>\n",
              "      <td>False</td>\n",
              "      <td>False</td>\n",
              "      <td>False</td>\n",
              "      <td>False</td>\n",
              "      <td>False</td>\n",
              "      <td>False</td>\n",
              "      <td>False</td>\n",
              "      <td>False</td>\n",
              "      <td>False</td>\n",
              "      <td>False</td>\n",
              "      <td>False</td>\n",
              "      <td>False</td>\n",
              "      <td>False</td>\n",
              "      <td>False</td>\n",
              "      <td>False</td>\n",
              "      <td>False</td>\n",
              "      <td>False</td>\n",
              "      <td>False</td>\n",
              "      <td>False</td>\n",
              "      <td>False</td>\n",
              "      <td>False</td>\n",
              "      <td>False</td>\n",
              "      <td>False</td>\n",
              "      <td>False</td>\n",
              "      <td>False</td>\n",
              "      <td>False</td>\n",
              "      <td>False</td>\n",
              "      <td>False</td>\n",
              "      <td>False</td>\n",
              "      <td>False</td>\n",
              "      <td>False</td>\n",
              "      <td>False</td>\n",
              "      <td>False</td>\n",
              "      <td>False</td>\n",
              "      <td>False</td>\n",
              "      <td>False</td>\n",
              "      <td>False</td>\n",
              "      <td>False</td>\n",
              "      <td>False</td>\n",
              "      <td>False</td>\n",
              "      <td>False</td>\n",
              "      <td>True</td>\n",
              "      <td>False</td>\n",
              "      <td>False</td>\n",
              "      <td>False</td>\n",
              "      <td>False</td>\n",
              "      <td>False</td>\n",
              "      <td>False</td>\n",
              "      <td>False</td>\n",
              "      <td>False</td>\n",
              "      <td>True</td>\n",
              "      <td>False</td>\n",
              "      <td>False</td>\n",
              "      <td>False</td>\n",
              "      <td>False</td>\n",
              "      <td>False</td>\n",
              "      <td>False</td>\n",
              "      <td>False</td>\n",
              "      <td>False</td>\n",
              "      <td>False</td>\n",
              "      <td>False</td>\n",
              "    </tr>\n",
              "    <tr>\n",
              "      <th>127126</th>\n",
              "      <td>18000.0</td>\n",
              "      <td>60</td>\n",
              "      <td>30.65</td>\n",
              "      <td>589.57</td>\n",
              "      <td>77000.0</td>\n",
              "      <td>8.08</td>\n",
              "      <td>9</td>\n",
              "      <td>0</td>\n",
              "      <td>10100.0</td>\n",
              "      <td>45.1</td>\n",
              "      <td>15</td>\n",
              "      <td>1.0</td>\n",
              "      <td>667.0</td>\n",
              "      <td>False</td>\n",
              "      <td>False</td>\n",
              "      <td>False</td>\n",
              "      <td>False</td>\n",
              "      <td>True</td>\n",
              "      <td>False</td>\n",
              "      <td>False</td>\n",
              "      <td>False</td>\n",
              "      <td>False</td>\n",
              "      <td>False</td>\n",
              "      <td>False</td>\n",
              "      <td>False</td>\n",
              "      <td>False</td>\n",
              "      <td>False</td>\n",
              "      <td>False</td>\n",
              "      <td>False</td>\n",
              "      <td>False</td>\n",
              "      <td>False</td>\n",
              "      <td>False</td>\n",
              "      <td>False</td>\n",
              "      <td>False</td>\n",
              "      <td>False</td>\n",
              "      <td>False</td>\n",
              "      <td>False</td>\n",
              "      <td>False</td>\n",
              "      <td>False</td>\n",
              "      <td>False</td>\n",
              "      <td>False</td>\n",
              "      <td>False</td>\n",
              "      <td>False</td>\n",
              "      <td>False</td>\n",
              "      <td>False</td>\n",
              "      <td>False</td>\n",
              "      <td>False</td>\n",
              "      <td>False</td>\n",
              "      <td>False</td>\n",
              "      <td>False</td>\n",
              "      <td>False</td>\n",
              "      <td>False</td>\n",
              "      <td>False</td>\n",
              "      <td>False</td>\n",
              "      <td>False</td>\n",
              "      <td>False</td>\n",
              "      <td>False</td>\n",
              "      <td>False</td>\n",
              "      <td>False</td>\n",
              "      <td>False</td>\n",
              "      <td>False</td>\n",
              "      <td>True</td>\n",
              "      <td>False</td>\n",
              "      <td>False</td>\n",
              "      <td>False</td>\n",
              "      <td>False</td>\n",
              "      <td>False</td>\n",
              "      <td>False</td>\n",
              "      <td>False</td>\n",
              "      <td>False</td>\n",
              "      <td>False</td>\n",
              "      <td>False</td>\n",
              "      <td>False</td>\n",
              "      <td>False</td>\n",
              "      <td>False</td>\n",
              "      <td>False</td>\n",
              "      <td>False</td>\n",
              "      <td>False</td>\n",
              "      <td>False</td>\n",
              "      <td>False</td>\n",
              "      <td>False</td>\n",
              "      <td>False</td>\n",
              "      <td>False</td>\n",
              "      <td>False</td>\n",
              "      <td>False</td>\n",
              "      <td>False</td>\n",
              "      <td>False</td>\n",
              "      <td>False</td>\n",
              "      <td>False</td>\n",
              "      <td>False</td>\n",
              "      <td>False</td>\n",
              "      <td>False</td>\n",
              "      <td>False</td>\n",
              "      <td>False</td>\n",
              "      <td>False</td>\n",
              "      <td>False</td>\n",
              "      <td>True</td>\n",
              "      <td>False</td>\n",
              "      <td>False</td>\n",
              "      <td>False</td>\n",
              "      <td>False</td>\n",
              "      <td>False</td>\n",
              "      <td>False</td>\n",
              "      <td>False</td>\n",
              "      <td>True</td>\n",
              "      <td>False</td>\n",
              "      <td>False</td>\n",
              "      <td>False</td>\n",
              "      <td>False</td>\n",
              "      <td>False</td>\n",
              "      <td>False</td>\n",
              "      <td>False</td>\n",
              "      <td>False</td>\n",
              "      <td>False</td>\n",
              "      <td>False</td>\n",
              "    </tr>\n",
              "    <tr>\n",
              "      <th>127127</th>\n",
              "      <td>12000.0</td>\n",
              "      <td>60</td>\n",
              "      <td>25.82</td>\n",
              "      <td>358.01</td>\n",
              "      <td>30000.0</td>\n",
              "      <td>19.28</td>\n",
              "      <td>10</td>\n",
              "      <td>0</td>\n",
              "      <td>3497.0</td>\n",
              "      <td>20.2</td>\n",
              "      <td>26</td>\n",
              "      <td>4.0</td>\n",
              "      <td>682.0</td>\n",
              "      <td>False</td>\n",
              "      <td>False</td>\n",
              "      <td>False</td>\n",
              "      <td>False</td>\n",
              "      <td>False</td>\n",
              "      <td>True</td>\n",
              "      <td>False</td>\n",
              "      <td>False</td>\n",
              "      <td>False</td>\n",
              "      <td>False</td>\n",
              "      <td>False</td>\n",
              "      <td>False</td>\n",
              "      <td>False</td>\n",
              "      <td>False</td>\n",
              "      <td>False</td>\n",
              "      <td>False</td>\n",
              "      <td>False</td>\n",
              "      <td>False</td>\n",
              "      <td>False</td>\n",
              "      <td>False</td>\n",
              "      <td>False</td>\n",
              "      <td>False</td>\n",
              "      <td>False</td>\n",
              "      <td>False</td>\n",
              "      <td>False</td>\n",
              "      <td>False</td>\n",
              "      <td>False</td>\n",
              "      <td>False</td>\n",
              "      <td>False</td>\n",
              "      <td>False</td>\n",
              "      <td>False</td>\n",
              "      <td>False</td>\n",
              "      <td>False</td>\n",
              "      <td>False</td>\n",
              "      <td>False</td>\n",
              "      <td>False</td>\n",
              "      <td>False</td>\n",
              "      <td>False</td>\n",
              "      <td>False</td>\n",
              "      <td>False</td>\n",
              "      <td>False</td>\n",
              "      <td>False</td>\n",
              "      <td>True</td>\n",
              "      <td>False</td>\n",
              "      <td>False</td>\n",
              "      <td>False</td>\n",
              "      <td>False</td>\n",
              "      <td>False</td>\n",
              "      <td>False</td>\n",
              "      <td>False</td>\n",
              "      <td>False</td>\n",
              "      <td>False</td>\n",
              "      <td>False</td>\n",
              "      <td>False</td>\n",
              "      <td>False</td>\n",
              "      <td>False</td>\n",
              "      <td>False</td>\n",
              "      <td>False</td>\n",
              "      <td>False</td>\n",
              "      <td>False</td>\n",
              "      <td>False</td>\n",
              "      <td>False</td>\n",
              "      <td>False</td>\n",
              "      <td>False</td>\n",
              "      <td>False</td>\n",
              "      <td>False</td>\n",
              "      <td>False</td>\n",
              "      <td>False</td>\n",
              "      <td>False</td>\n",
              "      <td>False</td>\n",
              "      <td>False</td>\n",
              "      <td>False</td>\n",
              "      <td>False</td>\n",
              "      <td>False</td>\n",
              "      <td>False</td>\n",
              "      <td>False</td>\n",
              "      <td>False</td>\n",
              "      <td>False</td>\n",
              "      <td>True</td>\n",
              "      <td>False</td>\n",
              "      <td>False</td>\n",
              "      <td>False</td>\n",
              "      <td>False</td>\n",
              "      <td>False</td>\n",
              "      <td>False</td>\n",
              "      <td>False</td>\n",
              "      <td>False</td>\n",
              "      <td>False</td>\n",
              "      <td>False</td>\n",
              "      <td>False</td>\n",
              "      <td>False</td>\n",
              "      <td>True</td>\n",
              "      <td>False</td>\n",
              "      <td>False</td>\n",
              "      <td>False</td>\n",
              "      <td>False</td>\n",
              "      <td>False</td>\n",
              "      <td>False</td>\n",
              "      <td>False</td>\n",
              "      <td>False</td>\n",
              "      <td>False</td>\n",
              "      <td>False</td>\n",
              "    </tr>\n",
              "  </tbody>\n",
              "</table>\n",
              "</div>\n",
              "    <div class=\"colab-df-buttons\">\n",
              "\n",
              "  <div class=\"colab-df-container\">\n",
              "    <button class=\"colab-df-convert\" onclick=\"convertToInteractive('df-a265b98c-55ef-4338-b51a-e57aa4648c58')\"\n",
              "            title=\"Convert this dataframe to an interactive table.\"\n",
              "            style=\"display:none;\">\n",
              "\n",
              "  <svg xmlns=\"http://www.w3.org/2000/svg\" height=\"24px\" viewBox=\"0 -960 960 960\">\n",
              "    <path d=\"M120-120v-720h720v720H120Zm60-500h600v-160H180v160Zm220 220h160v-160H400v160Zm0 220h160v-160H400v160ZM180-400h160v-160H180v160Zm440 0h160v-160H620v160ZM180-180h160v-160H180v160Zm440 0h160v-160H620v160Z\"/>\n",
              "  </svg>\n",
              "    </button>\n",
              "\n",
              "  <style>\n",
              "    .colab-df-container {\n",
              "      display:flex;\n",
              "      gap: 12px;\n",
              "    }\n",
              "\n",
              "    .colab-df-convert {\n",
              "      background-color: #E8F0FE;\n",
              "      border: none;\n",
              "      border-radius: 50%;\n",
              "      cursor: pointer;\n",
              "      display: none;\n",
              "      fill: #1967D2;\n",
              "      height: 32px;\n",
              "      padding: 0 0 0 0;\n",
              "      width: 32px;\n",
              "    }\n",
              "\n",
              "    .colab-df-convert:hover {\n",
              "      background-color: #E2EBFA;\n",
              "      box-shadow: 0px 1px 2px rgba(60, 64, 67, 0.3), 0px 1px 3px 1px rgba(60, 64, 67, 0.15);\n",
              "      fill: #174EA6;\n",
              "    }\n",
              "\n",
              "    .colab-df-buttons div {\n",
              "      margin-bottom: 4px;\n",
              "    }\n",
              "\n",
              "    [theme=dark] .colab-df-convert {\n",
              "      background-color: #3B4455;\n",
              "      fill: #D2E3FC;\n",
              "    }\n",
              "\n",
              "    [theme=dark] .colab-df-convert:hover {\n",
              "      background-color: #434B5C;\n",
              "      box-shadow: 0px 1px 3px 1px rgba(0, 0, 0, 0.15);\n",
              "      filter: drop-shadow(0px 1px 2px rgba(0, 0, 0, 0.3));\n",
              "      fill: #FFFFFF;\n",
              "    }\n",
              "  </style>\n",
              "\n",
              "    <script>\n",
              "      const buttonEl =\n",
              "        document.querySelector('#df-a265b98c-55ef-4338-b51a-e57aa4648c58 button.colab-df-convert');\n",
              "      buttonEl.style.display =\n",
              "        google.colab.kernel.accessAllowed ? 'block' : 'none';\n",
              "\n",
              "      async function convertToInteractive(key) {\n",
              "        const element = document.querySelector('#df-a265b98c-55ef-4338-b51a-e57aa4648c58');\n",
              "        const dataTable =\n",
              "          await google.colab.kernel.invokeFunction('convertToInteractive',\n",
              "                                                    [key], {});\n",
              "        if (!dataTable) return;\n",
              "\n",
              "        const docLinkHtml = 'Like what you see? Visit the ' +\n",
              "          '<a target=\"_blank\" href=https://colab.research.google.com/notebooks/data_table.ipynb>data table notebook</a>'\n",
              "          + ' to learn more about interactive tables.';\n",
              "        element.innerHTML = '';\n",
              "        dataTable['output_type'] = 'display_data';\n",
              "        await google.colab.output.renderOutput(dataTable, element);\n",
              "        const docLink = document.createElement('div');\n",
              "        docLink.innerHTML = docLinkHtml;\n",
              "        element.appendChild(docLink);\n",
              "      }\n",
              "    </script>\n",
              "  </div>\n",
              "\n",
              "\n",
              "<div id=\"df-eb46148f-fc7b-41a1-a7f3-d77cc5d9d978\">\n",
              "  <button class=\"colab-df-quickchart\" onclick=\"quickchart('df-eb46148f-fc7b-41a1-a7f3-d77cc5d9d978')\"\n",
              "            title=\"Suggest charts\"\n",
              "            style=\"display:none;\">\n",
              "\n",
              "<svg xmlns=\"http://www.w3.org/2000/svg\" height=\"24px\"viewBox=\"0 0 24 24\"\n",
              "     width=\"24px\">\n",
              "    <g>\n",
              "        <path d=\"M19 3H5c-1.1 0-2 .9-2 2v14c0 1.1.9 2 2 2h14c1.1 0 2-.9 2-2V5c0-1.1-.9-2-2-2zM9 17H7v-7h2v7zm4 0h-2V7h2v10zm4 0h-2v-4h2v4z\"/>\n",
              "    </g>\n",
              "</svg>\n",
              "  </button>\n",
              "\n",
              "<style>\n",
              "  .colab-df-quickchart {\n",
              "      --bg-color: #E8F0FE;\n",
              "      --fill-color: #1967D2;\n",
              "      --hover-bg-color: #E2EBFA;\n",
              "      --hover-fill-color: #174EA6;\n",
              "      --disabled-fill-color: #AAA;\n",
              "      --disabled-bg-color: #DDD;\n",
              "  }\n",
              "\n",
              "  [theme=dark] .colab-df-quickchart {\n",
              "      --bg-color: #3B4455;\n",
              "      --fill-color: #D2E3FC;\n",
              "      --hover-bg-color: #434B5C;\n",
              "      --hover-fill-color: #FFFFFF;\n",
              "      --disabled-bg-color: #3B4455;\n",
              "      --disabled-fill-color: #666;\n",
              "  }\n",
              "\n",
              "  .colab-df-quickchart {\n",
              "    background-color: var(--bg-color);\n",
              "    border: none;\n",
              "    border-radius: 50%;\n",
              "    cursor: pointer;\n",
              "    display: none;\n",
              "    fill: var(--fill-color);\n",
              "    height: 32px;\n",
              "    padding: 0;\n",
              "    width: 32px;\n",
              "  }\n",
              "\n",
              "  .colab-df-quickchart:hover {\n",
              "    background-color: var(--hover-bg-color);\n",
              "    box-shadow: 0 1px 2px rgba(60, 64, 67, 0.3), 0 1px 3px 1px rgba(60, 64, 67, 0.15);\n",
              "    fill: var(--button-hover-fill-color);\n",
              "  }\n",
              "\n",
              "  .colab-df-quickchart-complete:disabled,\n",
              "  .colab-df-quickchart-complete:disabled:hover {\n",
              "    background-color: var(--disabled-bg-color);\n",
              "    fill: var(--disabled-fill-color);\n",
              "    box-shadow: none;\n",
              "  }\n",
              "\n",
              "  .colab-df-spinner {\n",
              "    border: 2px solid var(--fill-color);\n",
              "    border-color: transparent;\n",
              "    border-bottom-color: var(--fill-color);\n",
              "    animation:\n",
              "      spin 1s steps(1) infinite;\n",
              "  }\n",
              "\n",
              "  @keyframes spin {\n",
              "    0% {\n",
              "      border-color: transparent;\n",
              "      border-bottom-color: var(--fill-color);\n",
              "      border-left-color: var(--fill-color);\n",
              "    }\n",
              "    20% {\n",
              "      border-color: transparent;\n",
              "      border-left-color: var(--fill-color);\n",
              "      border-top-color: var(--fill-color);\n",
              "    }\n",
              "    30% {\n",
              "      border-color: transparent;\n",
              "      border-left-color: var(--fill-color);\n",
              "      border-top-color: var(--fill-color);\n",
              "      border-right-color: var(--fill-color);\n",
              "    }\n",
              "    40% {\n",
              "      border-color: transparent;\n",
              "      border-right-color: var(--fill-color);\n",
              "      border-top-color: var(--fill-color);\n",
              "    }\n",
              "    60% {\n",
              "      border-color: transparent;\n",
              "      border-right-color: var(--fill-color);\n",
              "    }\n",
              "    80% {\n",
              "      border-color: transparent;\n",
              "      border-right-color: var(--fill-color);\n",
              "      border-bottom-color: var(--fill-color);\n",
              "    }\n",
              "    90% {\n",
              "      border-color: transparent;\n",
              "      border-bottom-color: var(--fill-color);\n",
              "    }\n",
              "  }\n",
              "</style>\n",
              "\n",
              "  <script>\n",
              "    async function quickchart(key) {\n",
              "      const quickchartButtonEl =\n",
              "        document.querySelector('#' + key + ' button');\n",
              "      quickchartButtonEl.disabled = true;  // To prevent multiple clicks.\n",
              "      quickchartButtonEl.classList.add('colab-df-spinner');\n",
              "      try {\n",
              "        const charts = await google.colab.kernel.invokeFunction(\n",
              "            'suggestCharts', [key], {});\n",
              "      } catch (error) {\n",
              "        console.error('Error during call to suggestCharts:', error);\n",
              "      }\n",
              "      quickchartButtonEl.classList.remove('colab-df-spinner');\n",
              "      quickchartButtonEl.classList.add('colab-df-quickchart-complete');\n",
              "    }\n",
              "    (() => {\n",
              "      let quickchartButtonEl =\n",
              "        document.querySelector('#df-eb46148f-fc7b-41a1-a7f3-d77cc5d9d978 button');\n",
              "      quickchartButtonEl.style.display =\n",
              "        google.colab.kernel.accessAllowed ? 'block' : 'none';\n",
              "    })();\n",
              "  </script>\n",
              "</div>\n",
              "\n",
              "    </div>\n",
              "  </div>\n"
            ],
            "application/vnd.google.colaboratory.intrinsic+json": {
              "type": "dataframe"
            }
          },
          "metadata": {},
          "execution_count": 18
        }
      ]
    },
    {
      "cell_type": "code",
      "source": [
        "print(\"Shape of the training set: \", X_train.shape)\n",
        "\n",
        "print(\"Shape of the test set: \", X_test.shape)\n",
        "\n",
        "print(\"Percentage of classes in the training set:\")\n",
        "\n",
        "print(y_train.value_counts(normalize = True))\n",
        "\n",
        "print(\"Percentage of classes in the test set:\")\n",
        "\n",
        "print(y_test.value_counts(normalize = True))"
      ],
      "metadata": {
        "colab": {
          "base_uri": "https://localhost:8080/"
        },
        "id": "OWwEnrrlMyDT",
        "outputId": "8175f7ab-ffa8-4e6f-ac24-7b4b41fc6c21"
      },
      "execution_count": 19,
      "outputs": [
        {
          "output_type": "stream",
          "name": "stdout",
          "text": [
            "Shape of the training set:  (1015112, 115)\n",
            "Shape of the test set:  (127128, 115)\n",
            "Percentage of classes in the training set:\n",
            "loan_status\n",
            "0    0.80311\n",
            "1    0.19689\n",
            "Name: proportion, dtype: float64\n",
            "Percentage of classes in the test set:\n",
            "loan_status\n",
            "0    0.805251\n",
            "1    0.194749\n",
            "Name: proportion, dtype: float64\n"
          ]
        }
      ]
    },
    {
      "cell_type": "code",
      "source": [],
      "metadata": {
        "id": "Z7gPj-18NIay"
      },
      "execution_count": null,
      "outputs": []
    },
    {
      "cell_type": "markdown",
      "source": [
        "## XG Boost on pre processed one"
      ],
      "metadata": {
        "id": "2UQN0BITNQoc"
      }
    },
    {
      "cell_type": "code",
      "source": [
        "import time"
      ],
      "metadata": {
        "id": "cllO6DoBNQoc"
      },
      "execution_count": 126,
      "outputs": []
    },
    {
      "cell_type": "code",
      "source": [
        "from xgboost import XGBClassifier\n",
        "\n",
        "# XGBoost\n",
        "# classifier_xgb = XGBClassifier(eval_metric=\"aucpr\")\n",
        "classifier_xgb = XGBClassifier()"
      ],
      "metadata": {
        "id": "uidLxfnzNQod"
      },
      "execution_count": 127,
      "outputs": []
    },
    {
      "cell_type": "code",
      "source": [
        "classifier_xgb.fit(X_train, y_train)\n",
        "y_train_pred = classifier_xgb.predict(X_train)\n",
        "y_test_pred = classifier_xgb.predict(X_test)\n",
        "\n",
        "print_score(y_train, y_train_pred, train=True)\n",
        "print_score(y_test, y_test_pred, train=False)"
      ],
      "metadata": {
        "colab": {
          "base_uri": "https://localhost:8080/"
        },
        "outputId": "d5f2b4a9-8d8a-4525-c681-88786001a213",
        "id": "4xUj5OEfNQod"
      },
      "execution_count": 128,
      "outputs": [
        {
          "output_type": "stream",
          "name": "stdout",
          "text": [
            "Train Result:\n",
            "================================================\n",
            "Accuracy Score: 81.01%\n",
            "_______________________________________________\n",
            "CLASSIFICATION REPORT:\n",
            "                       0              1  accuracy     macro avg  weighted avg\n",
            "precision       0.816846       0.608692  0.810127  7.127690e-01  7.758629e-01\n",
            "recall          0.984272       0.099792  0.810127  5.420323e-01  8.101274e-01\n",
            "f1-score        0.892778       0.171473  0.810127  5.321251e-01  7.507602e-01\n",
            "support    815247.000000  199865.000000  0.810127  1.015112e+06  1.015112e+06\n",
            "_______________________________________________\n",
            "Confusion Matrix: \n",
            " [[802425  12822]\n",
            " [179920  19945]]\n",
            "\n",
            "Test Result:\n",
            "================================================\n",
            "Accuracy Score: 80.70%\n",
            "_______________________________________________\n",
            "CLASSIFICATION REPORT:\n",
            "                       0             1  accuracy      macro avg   weighted avg\n",
            "precision       0.818555      0.522484  0.807006       0.670519       0.760895\n",
            "recall          0.976868      0.104653  0.807006       0.540761       0.807006\n",
            "f1-score        0.890732      0.174378  0.807006       0.532555       0.751223\n",
            "support    102370.000000  24758.000000  0.807006  127128.000000  127128.000000\n",
            "_______________________________________________\n",
            "Confusion Matrix: \n",
            " [[100002   2368]\n",
            " [ 22167   2591]]\n",
            "\n"
          ]
        }
      ]
    },
    {
      "cell_type": "code",
      "source": [
        "y_pred_prob = classifier_xgb.predict_proba(X_test)[:,1]"
      ],
      "metadata": {
        "id": "jGyNu_aQShvv"
      },
      "execution_count": 130,
      "outputs": []
    },
    {
      "cell_type": "code",
      "source": [
        "ks = ks_score(y_test, y_pred_prob)\n",
        "print(\"KS Score:\", ks)"
      ],
      "metadata": {
        "colab": {
          "base_uri": "https://localhost:8080/"
        },
        "id": "NN-chljPONFm",
        "outputId": "4641dca6-796f-4e11-9ee7-7d4e5d0bf965"
      },
      "execution_count": 131,
      "outputs": [
        {
          "output_type": "stream",
          "name": "stdout",
          "text": [
            "KS Score: 0.3291154079213661\n"
          ]
        }
      ]
    },
    {
      "cell_type": "code",
      "source": [
        "disp = ConfusionMatrixDisplay.from_estimator(\n",
        "    classifier_xgb, X_test, y_test,\n",
        "    cmap='Blues', values_format='d',\n",
        "    display_labels=['Default', 'Fully-Paid']\n",
        ")\n"
      ],
      "metadata": {
        "colab": {
          "base_uri": "https://localhost:8080/",
          "height": 455
        },
        "outputId": "fe8133b2-b7ae-4779-e095-5f357cb6f299",
        "id": "xfRK5nT1OTyF"
      },
      "execution_count": 132,
      "outputs": [
        {
          "output_type": "display_data",
          "data": {
            "text/plain": [
              "<Figure size 640x480 with 2 Axes>"
            ],
            "image/png": "[encoded data removed]"
          },
          "metadata": {}
        }
      ]
    },
    {
      "cell_type": "code",
      "source": [
        "y_pred_prob = classifier_xgb.predict_proba(X_test)[:,1]\n",
        "plot_precision_recall_curve(y_test,y_pred_prob)"
      ],
      "metadata": {
        "colab": {
          "base_uri": "https://localhost:8080/",
          "height": 490
        },
        "outputId": "ad99726b-44b8-4dc3-89b0-1e0f10e70816",
        "id": "QOM1JASKOTyG"
      },
      "execution_count": 133,
      "outputs": [
        {
          "output_type": "stream",
          "name": "stdout",
          "text": [
            "Average precision-recall score: 0.38\n"
          ]
        },
        {
          "output_type": "display_data",
          "data": {
            "text/plain": [
              "<Figure size 640x480 with 1 Axes>"
            ],
            "image/png": "[encoded data removed]"
          },
          "metadata": {}
        }
      ]
    },
    {
      "cell_type": "markdown",
      "source": [
        "Average precision calculated here is the area under the precision-recall curve which is also called as average precision."
      ],
      "metadata": {
        "id": "5W_rfKqKX6cZ"
      }
    },
    {
      "cell_type": "markdown",
      "source": [
        "# Basic Model - Using Preprocessed Dataset,Imbalanced Data, Tuning,"
      ],
      "metadata": {
        "id": "d1aixb4LTY4V"
      }
    },
    {
      "cell_type": "code",
      "source": [],
      "metadata": {
        "id": "JwlFvr18T2Cu"
      },
      "execution_count": null,
      "outputs": []
    },
    {
      "cell_type": "markdown",
      "source": [
        "## Feature Engineering"
      ],
      "metadata": {
        "id": "OIu6VgO9Ul_S"
      }
    },
    {
      "cell_type": "markdown",
      "source": [
        "Convert target variable to 0/1 indicator"
      ],
      "metadata": {
        "id": "cNN-H2MKUl_T"
      }
    },
    {
      "cell_type": "code",
      "source": [
        "# One hot encoding for Y\n",
        "class_mapping = {\"Fully Paid\":0, \"Charged Off\":1}\n",
        "train_data['loan_status']=train_data['loan_status'].map(class_mapping)\n",
        "test_data['loan_status']=test_data['loan_status'].map(class_mapping)"
      ],
      "metadata": {
        "id": "X7VEGx-pUl_U"
      },
      "execution_count": 21,
      "outputs": []
    },
    {
      "cell_type": "markdown",
      "source": [
        "## Encoding"
      ],
      "metadata": {
        "id": "eNhACIyXUl_U"
      }
    },
    {
      "cell_type": "code",
      "source": [
        "categorical_columns = test_data.select_dtypes(include=['object', 'category']).columns.tolist()\n",
        "categorical_columns"
      ],
      "metadata": {
        "colab": {
          "base_uri": "https://localhost:8080/"
        },
        "outputId": "5441141c-1fa0-4594-b3d9-de3c2955b1ed",
        "id": "Cf6c4B-cUl_U"
      },
      "execution_count": null,
      "outputs": [
        {
          "output_type": "execute_result",
          "data": {
            "text/plain": [
              "['sub_grade',\n",
              " 'home_ownership',\n",
              " 'verification_status',\n",
              " 'purpose',\n",
              " 'addr_state',\n",
              " 'application_type']"
            ]
          },
          "metadata": {},
          "execution_count": 16
        }
      ]
    },
    {
      "cell_type": "code",
      "source": [
        "for column in categorical_columns:\n",
        "    unique_values = test_data[column].nunique()\n",
        "    print(f\"Column '{column}' has {unique_values} unique values.\")"
      ],
      "metadata": {
        "colab": {
          "base_uri": "https://localhost:8080/"
        },
        "outputId": "4cb0c696-c8db-482f-f2e7-30c468d4f8e0",
        "id": "zKPMeDlzUl_U"
      },
      "execution_count": null,
      "outputs": [
        {
          "output_type": "stream",
          "name": "stdout",
          "text": [
            "Column 'sub_grade' has 35 unique values.\n",
            "Column 'home_ownership' has 4 unique values.\n",
            "Column 'verification_status' has 3 unique values.\n",
            "Column 'purpose' has 13 unique values.\n",
            "Column 'addr_state' has 50 unique values.\n",
            "Column 'application_type' has 2 unique values.\n"
          ]
        }
      ]
    },
    {
      "cell_type": "markdown",
      "source": [
        "##  One hot Encoding\n"
      ],
      "metadata": {
        "id": "1GnTXZKoUl_U"
      }
    },
    {
      "cell_type": "code",
      "source": [
        "cat_columns_ohe = ['home_ownership', 'verification_status', 'application_type','addr_state', 'sub_grade', 'purpose' ]\n"
      ],
      "metadata": {
        "id": "uyaNFaQUUl_U"
      },
      "execution_count": null,
      "outputs": []
    },
    {
      "cell_type": "code",
      "source": [
        "combined_df = pd.concat([train_data, test_data], axis=0)\n",
        "combined_df.reset_index(drop=True, inplace=True)\n",
        "encoded_combined_df = pd.get_dummies(combined_df, columns=cat_columns_ohe, drop_first=True, prefix={col: col for col in cat_columns_ohe})\n",
        "encoded_combined_df.reset_index(drop=True, inplace=True)"
      ],
      "metadata": {
        "id": "edb411EbUl_V"
      },
      "execution_count": null,
      "outputs": []
    },
    {
      "cell_type": "code",
      "source": [
        "train_data = encoded_combined_df.iloc[:len(train_data)]\n",
        "train_data.reset_index(drop=True, inplace=True)\n",
        "test_data = encoded_combined_df.iloc[len(train_data):]\n",
        "test_data.reset_index(drop=True, inplace=True)"
      ],
      "metadata": {
        "id": "gxfenmPoUl_V"
      },
      "execution_count": null,
      "outputs": []
    },
    {
      "cell_type": "code",
      "source": [
        "X_train = train_data.drop(['loan_status'], axis=1)\n",
        "y_train = train_data.loc[:, 'loan_status']\n",
        "\n",
        "X_test = test_data.drop(['loan_status'], axis=1)\n",
        "y_test = test_data['loan_status']"
      ],
      "metadata": {
        "id": "ZSQ1kY9iUl_V"
      },
      "execution_count": null,
      "outputs": []
    },
    {
      "cell_type": "code",
      "source": [
        "print(\"Shape of the training set: \", X_train.shape)\n",
        "\n",
        "print(\"Shape of the test set: \", X_test.shape)\n",
        "\n",
        "print(\"Percentage of classes in the training set:\")\n",
        "\n",
        "print(y_train.value_counts(normalize = True))\n",
        "\n",
        "print(\"Percentage of classes in the test set:\")\n",
        "\n",
        "print(y_test.value_counts(normalize = True))"
      ],
      "metadata": {
        "colab": {
          "base_uri": "https://localhost:8080/"
        },
        "id": "ew8wnya_V6kM",
        "outputId": "e4c060cd-7fef-4b07-d41c-b513ce11640a"
      },
      "execution_count": 134,
      "outputs": [
        {
          "output_type": "stream",
          "name": "stdout",
          "text": [
            "Shape of the training set:  (1015112, 115)\n",
            "Shape of the test set:  (127128, 115)\n",
            "Percentage of classes in the training set:\n",
            "loan_status\n",
            "0    0.80311\n",
            "1    0.19689\n",
            "Name: proportion, dtype: float64\n",
            "Percentage of classes in the test set:\n",
            "loan_status\n",
            "0    0.805251\n",
            "1    0.194749\n",
            "Name: proportion, dtype: float64\n"
          ]
        }
      ]
    },
    {
      "cell_type": "code",
      "source": [
        "X_test = X_test[X_train.columns]"
      ],
      "metadata": {
        "id": "rWOcIgmGUl_V"
      },
      "execution_count": null,
      "outputs": []
    },
    {
      "cell_type": "code",
      "source": [
        "from sklearn.model_selection import GridSearchCV\n",
        "from sklearn.model_selection import cross_val_score\n",
        "from sklearn import metrics\n",
        "from sklearn.metrics import confusion_matrix, classification_report,accuracy_score,precision_score,recall_score,f1_score\n",
        "from sklearn.model_selection import train_test_split\n",
        "from xgboost import XGBClassifier\n",
        "from imblearn.over_sampling import SMOTE\n",
        "from sklearn.model_selection import RandomizedSearchCV\n"
      ],
      "metadata": {
        "id": "jrAy0bTk8pXu"
      },
      "execution_count": 138,
      "outputs": []
    },
    {
      "cell_type": "code",
      "source": [
        "# Choose the type of classifier.\n",
        "\n",
        "xgb = XGBClassifier(booster = \"gbtree\", random_state = 123, n_jobs=4,eval_metric=\"aucpr\" )\n",
        "\n",
        "\n",
        "# Grid of parameters to choose from\n",
        "\n",
        "parameters = {'max_depth':range(3,10,2),\n",
        "            'min_child_weight':range(1,6,2),\n",
        "            'learning_rate': [0.30000012],\n",
        "            'max_bin':[256],\n",
        "            'n_estimators':[100, 200]\n",
        "             }\n",
        "\n",
        "\n",
        "# Type of scoring used to compare parameter combinations\n",
        "\n",
        "# scorer = metrics.make_scorer(recall_score, pos_label = 1)\n",
        "\n",
        "\n",
        "# Run the grid search\n",
        "\n",
        "xgb_model = RandomizedSearchCV(xgb, parameters, scoring = \"f1_weighted\", cv = 3)\n",
        "\n",
        "\n",
        "#fit the Random Search on train dataset\n",
        "\n",
        "xgb_model = xgb_model.fit(X_train, y_train)\n",
        "\n",
        "\n",
        "# Set the clf to the best combination of parameters\n",
        "\n",
        "xgb_estimator_tuned = xgb_model.best_estimator_\n",
        "\n",
        "\n",
        "# Fit the best algorithm to the data.\n",
        "\n",
        "xgb_estimator_tuned.fit(X_train, y_train)"
      ],
      "metadata": {
        "id": "vHZ6k5Fvv9nA",
        "colab": {
          "base_uri": "https://localhost:8080/",
          "height": 248
        },
        "outputId": "59482d06-35be-4aea-8a78-de7e32b64ced"
      },
      "execution_count": 141,
      "outputs": [
        {
          "output_type": "execute_result",
          "data": {
            "text/plain": [
              "XGBClassifier(base_score=None, booster='gbtree', callbacks=None,\n",
              "              colsample_bylevel=None, colsample_bynode=None,\n",
              "              colsample_bytree=None, device=None, early_stopping_rounds=None,\n",
              "              enable_categorical=False, eval_metric='aucpr', feature_types=None,\n",
              "              gamma=None, grow_policy=None, importance_type=None,\n",
              "              interaction_constraints=None, learning_rate=0.30000012,\n",
              "              max_bin=256, max_cat_threshold=None, max_cat_to_onehot=None,\n",
              "              max_delta_step=None, max_depth=9, max_leaves=None,\n",
              "              min_child_weight=1, missing=nan, monotone_constraints=None,\n",
              "              multi_strategy=None, n_estimators=100, n_jobs=4,\n",
              "              num_parallel_tree=None, random_state=123, ...)"
            ],
            "text/html": [
              "<style>#sk-container-id-1 {color: black;background-color: white;}#sk-container-id-1 pre{padding: 0;}#sk-container-id-1 div.sk-toggleable {background-color: white;}#sk-container-id-1 label.sk-toggleable__label {cursor: pointer;display: block;width: 100%;margin-bottom: 0;padding: 0.3em;box-sizing: border-box;text-align: center;}#sk-container-id-1 label.sk-toggleable__label-arrow:before {content: \"▸\";float: left;margin-right: 0.25em;color: #696969;}#sk-container-id-1 label.sk-toggleable__label-arrow:hover:before {color: black;}#sk-container-id-1 div.sk-estimator:hover label.sk-toggleable__label-arrow:before {color: black;}#sk-container-id-1 div.sk-toggleable__content {max-height: 0;max-width: 0;overflow: hidden;text-align: left;background-color: #f0f8ff;}#sk-container-id-1 div.sk-toggleable__content pre {margin: 0.2em;color: black;border-radius: 0.25em;background-color: #f0f8ff;}#sk-container-id-1 input.sk-toggleable__control:checked~div.sk-toggleable__content {max-height: 200px;max-width: 100%;overflow: auto;}#sk-container-id-1 input.sk-toggleable__control:checked~label.sk-toggleable__label-arrow:before {content: \"▾\";}#sk-container-id-1 div.sk-estimator input.sk-toggleable__control:checked~label.sk-toggleable__label {background-color: #d4ebff;}#sk-container-id-1 div.sk-label input.sk-toggleable__control:checked~label.sk-toggleable__label {background-color: #d4ebff;}#sk-container-id-1 input.sk-hidden--visually {border: 0;clip: rect(1px 1px 1px 1px);clip: rect(1px, 1px, 1px, 1px);height: 1px;margin: -1px;overflow: hidden;padding: 0;position: absolute;width: 1px;}#sk-container-id-1 div.sk-estimator {font-family: monospace;background-color: #f0f8ff;border: 1px dotted black;border-radius: 0.25em;box-sizing: border-box;margin-bottom: 0.5em;}#sk-container-id-1 div.sk-estimator:hover {background-color: #d4ebff;}#sk-container-id-1 div.sk-parallel-item::after {content: \"\";width: 100%;border-bottom: 1px solid gray;flex-grow: 1;}#sk-container-id-1 div.sk-label:hover label.sk-toggleable__label {background-color: #d4ebff;}#sk-container-id-1 div.sk-serial::before {content: \"\";position: absolute;border-left: 1px solid gray;box-sizing: border-box;top: 0;bottom: 0;left: 50%;z-index: 0;}#sk-container-id-1 div.sk-serial {display: flex;flex-direction: column;align-items: center;background-color: white;padding-right: 0.2em;padding-left: 0.2em;position: relative;}#sk-container-id-1 div.sk-item {position: relative;z-index: 1;}#sk-container-id-1 div.sk-parallel {display: flex;align-items: stretch;justify-content: center;background-color: white;position: relative;}#sk-container-id-1 div.sk-item::before, #sk-container-id-1 div.sk-parallel-item::before {content: \"\";position: absolute;border-left: 1px solid gray;box-sizing: border-box;top: 0;bottom: 0;left: 50%;z-index: -1;}#sk-container-id-1 div.sk-parallel-item {display: flex;flex-direction: column;z-index: 1;position: relative;background-color: white;}#sk-container-id-1 div.sk-parallel-item:first-child::after {align-self: flex-end;width: 50%;}#sk-container-id-1 div.sk-parallel-item:last-child::after {align-self: flex-start;width: 50%;}#sk-container-id-1 div.sk-parallel-item:only-child::after {width: 0;}#sk-container-id-1 div.sk-dashed-wrapped {border: 1px dashed gray;margin: 0 0.4em 0.5em 0.4em;box-sizing: border-box;padding-bottom: 0.4em;background-color: white;}#sk-container-id-1 div.sk-label label {font-family: monospace;font-weight: bold;display: inline-block;line-height: 1.2em;}#sk-container-id-1 div.sk-label-container {text-align: center;}#sk-container-id-1 div.sk-container {/* jupyter's `normalize.less` sets `[hidden] { display: none; }` but bootstrap.min.css set `[hidden] { display: none !important; }` so we also need the `!important` here to be able to override the default hidden behavior on the sphinx rendered scikit-learn.org. See: https://github.com/scikit-learn/scikit-learn/issues/21755 */display: inline-block !important;position: relative;}#sk-container-id-1 div.sk-text-repr-fallback {display: none;}</style><div id=\"sk-container-id-1\" class=\"sk-top-container\"><div class=\"sk-text-repr-fallback\"><pre>XGBClassifier(base_score=None, booster=&#x27;gbtree&#x27;, callbacks=None,\n",
              "              colsample_bylevel=None, colsample_bynode=None,\n",
              "              colsample_bytree=None, device=None, early_stopping_rounds=None,\n",
              "              enable_categorical=False, eval_metric=&#x27;aucpr&#x27;, feature_types=None,\n",
              "              gamma=None, grow_policy=None, importance_type=None,\n",
              "              interaction_constraints=None, learning_rate=0.30000012,\n",
              "              max_bin=256, max_cat_threshold=None, max_cat_to_onehot=None,\n",
              "              max_delta_step=None, max_depth=9, max_leaves=None,\n",
              "              min_child_weight=1, missing=nan, monotone_constraints=None,\n",
              "              multi_strategy=None, n_estimators=100, n_jobs=4,\n",
              "              num_parallel_tree=None, random_state=123, ...)</pre><b>In a Jupyter environment, please rerun this cell to show the HTML representation or trust the notebook. <br />On GitHub, the HTML representation is unable to render, please try loading this page with nbviewer.org.</b></div><div class=\"sk-container\" hidden><div class=\"sk-item\"><div class=\"sk-estimator sk-toggleable\"><input class=\"sk-toggleable__control sk-hidden--visually\" id=\"sk-estimator-id-1\" type=\"checkbox\" checked><label for=\"sk-estimator-id-1\" class=\"sk-toggleable__label sk-toggleable__label-arrow\">XGBClassifier</label><div class=\"sk-toggleable__content\"><pre>XGBClassifier(base_score=None, booster=&#x27;gbtree&#x27;, callbacks=None,\n",
              "              colsample_bylevel=None, colsample_bynode=None,\n",
              "              colsample_bytree=None, device=None, early_stopping_rounds=None,\n",
              "              enable_categorical=False, eval_metric=&#x27;aucpr&#x27;, feature_types=None,\n",
              "              gamma=None, grow_policy=None, importance_type=None,\n",
              "              interaction_constraints=None, learning_rate=0.30000012,\n",
              "              max_bin=256, max_cat_threshold=None, max_cat_to_onehot=None,\n",
              "              max_delta_step=None, max_depth=9, max_leaves=None,\n",
              "              min_child_weight=1, missing=nan, monotone_constraints=None,\n",
              "              multi_strategy=None, n_estimators=100, n_jobs=4,\n",
              "              num_parallel_tree=None, random_state=123, ...)</pre></div></div></div></div></div>"
            ]
          },
          "metadata": {},
          "execution_count": 141
        }
      ]
    },
    {
      "cell_type": "code",
      "source": [
        "y_train_pred = xgb_estimator_tuned.predict(X_train)\n",
        "y_test_pred = xgb_estimator_tuned.predict(X_test)\n",
        "\n",
        "print_score(y_train, y_train_pred, train=True)\n",
        "print_score(y_test, y_test_pred, train=False)"
      ],
      "metadata": {
        "colab": {
          "base_uri": "https://localhost:8080/"
        },
        "id": "Hr08huRyXFYy",
        "outputId": "e74c1681-acee-40e0-acbf-14a1749d20dd"
      },
      "execution_count": 142,
      "outputs": [
        {
          "output_type": "stream",
          "name": "stdout",
          "text": [
            "Train Result:\n",
            "================================================\n",
            "Accuracy Score: 82.25%\n",
            "_______________________________________________\n",
            "CLASSIFICATION REPORT:\n",
            "                       0              1  accuracy     macro avg  weighted avg\n",
            "precision       0.826717       0.727058  0.822469  7.768878e-01  8.070954e-01\n",
            "recall          0.985512       0.157416  0.822469  5.714643e-01  8.224689e-01\n",
            "f1-score        0.899158       0.258800  0.822469  5.789786e-01  7.730778e-01\n",
            "support    815247.000000  199865.000000  0.822469  1.015112e+06  1.015112e+06\n",
            "_______________________________________________\n",
            "Confusion Matrix: \n",
            " [[803436  11811]\n",
            " [168403  31462]]\n",
            "\n",
            "Test Result:\n",
            "================================================\n",
            "Accuracy Score: 80.51%\n",
            "_______________________________________________\n",
            "CLASSIFICATION REPORT:\n",
            "                       0             1  accuracy      macro avg   weighted avg\n",
            "precision       0.820070      0.497890  0.805055       0.658980       0.757326\n",
            "recall          0.970939      0.119153  0.805055       0.545046       0.805055\n",
            "f1-score        0.889150      0.192289  0.805055       0.540720       0.753438\n",
            "support    102370.000000  24758.000000  0.805055  127128.000000  127128.000000\n",
            "_______________________________________________\n",
            "Confusion Matrix: \n",
            " [[99395  2975]\n",
            " [21808  2950]]\n",
            "\n"
          ]
        }
      ]
    },
    {
      "cell_type": "code",
      "source": [
        "from sklearn.metrics import f1_score\n",
        "\n",
        "f1_weighted = f1_score(y_test, y_test_pred, average='weighted')\n",
        "print(\"F1 Weighted Score:\", f1_weighted)"
      ],
      "metadata": {
        "colab": {
          "base_uri": "https://localhost:8080/"
        },
        "id": "RZnEL4oXZVl9",
        "outputId": "ab0879b8-24a3-477d-9be7-4051f16bfdd1"
      },
      "execution_count": 143,
      "outputs": [
        {
          "output_type": "stream",
          "name": "stdout",
          "text": [
            "F1 Weighted Score: 0.7534375159682722\n"
          ]
        }
      ]
    },
    {
      "cell_type": "code",
      "source": [],
      "metadata": {
        "id": "Fvg-DQ9vXiDJ"
      },
      "execution_count": null,
      "outputs": []
    },
    {
      "cell_type": "code",
      "source": [
        "y_pred_prob = xgb_estimator_tuned.predict_proba(X_test)[:,1]"
      ],
      "metadata": {
        "id": "Wt8OzUp7Xi4z"
      },
      "execution_count": 144,
      "outputs": []
    },
    {
      "cell_type": "code",
      "source": [
        "ks = ks_score(y_test, y_pred_prob)\n",
        "print(\"KS Score:\", ks)"
      ],
      "metadata": {
        "colab": {
          "base_uri": "https://localhost:8080/"
        },
        "outputId": "155c1804-3f9e-4f57-805e-bbfbf8995c78",
        "id": "QV6p6d_lXi4-"
      },
      "execution_count": 145,
      "outputs": [
        {
          "output_type": "stream",
          "name": "stdout",
          "text": [
            "KS Score: 0.3172817458324312\n"
          ]
        }
      ]
    },
    {
      "cell_type": "code",
      "source": [
        "disp = ConfusionMatrixDisplay.from_estimator(\n",
        "    classifier_xgb, X_test, y_test,\n",
        "    cmap='Blues', values_format='d',\n",
        "    display_labels=['Default', 'Fully-Paid']\n",
        ")\n"
      ],
      "metadata": {
        "colab": {
          "base_uri": "https://localhost:8080/",
          "height": 455
        },
        "outputId": "106565d4-2a8f-446d-e0c2-fc47bcc64e8c",
        "id": "qgQivw_TXi4_"
      },
      "execution_count": 146,
      "outputs": [
        {
          "output_type": "display_data",
          "data": {
            "text/plain": [
              "<Figure size 640x480 with 2 Axes>"
            ],
            "image/png": "[encoded data removed]"
          },
          "metadata": {}
        }
      ]
    },
    {
      "cell_type": "code",
      "source": [],
      "metadata": {
        "id": "gCek7rPKufjD"
      },
      "execution_count": null,
      "outputs": []
    },
    {
      "cell_type": "code",
      "source": [
        "y_pred_prob = classifier_xgb.predict_proba(X_test)[:,1]\n",
        "plot_precision_recall_curve(y_test,y_pred_prob)"
      ],
      "metadata": {
        "colab": {
          "base_uri": "https://localhost:8080/",
          "height": 490
        },
        "outputId": "5fdcc544-9b73-49a4-e1ca-8787cc3a9a5f",
        "id": "sgk5RXb3Xi4_"
      },
      "execution_count": 147,
      "outputs": [
        {
          "output_type": "stream",
          "name": "stdout",
          "text": [
            "Average precision-recall score: 0.38\n"
          ]
        },
        {
          "output_type": "display_data",
          "data": {
            "text/plain": [
              "<Figure size 640x480 with 1 Axes>"
            ],
            "image/png": "[encoded data removed]"
          },
          "metadata": {}
        }
      ]
    },
    {
      "cell_type": "markdown",
      "source": [
        "Average precision calculated here is the area under the precision-recall curve which is also called as average precision."
      ],
      "metadata": {
        "id": "58fKnvU-X_Ed"
      }
    },
    {
      "cell_type": "markdown",
      "source": [
        "# **XGBoost, Preprocessed dataset, Balanced(SMOTE)**"
      ],
      "metadata": {
        "id": "a1XvuJQMev_J"
      }
    },
    {
      "cell_type": "code",
      "source": [
        "from imblearn.pipeline import Pipeline, make_pipeline\n",
        "from imblearn.under_sampling import RandomUnderSampler\n",
        "from imblearn.over_sampling import SMOTE\n",
        "from xgboost import XGBClassifier"
      ],
      "metadata": {
        "id": "UFdUALsye7gq"
      },
      "execution_count": 20,
      "outputs": []
    },
    {
      "cell_type": "code",
      "source": [
        "from imblearn.over_sampling import SMOTE\n",
        "from sklearn.model_selection import train_test_split\n",
        "\n",
        "# Apply SMOTE to the training data only\n",
        "sm = SMOTE(random_state=123)\n",
        "X_train_res, y_train_res = sm.fit_resample(X_train, y_train)\n"
      ],
      "metadata": {
        "id": "UU77ntfPv9yM"
      },
      "execution_count": 21,
      "outputs": []
    },
    {
      "cell_type": "code",
      "source": [
        "print(\"Shape of the training set: \", X_train_res.shape)\n",
        "\n",
        "print(\"Shape of the test set: \", X_test.shape)\n",
        "\n",
        "print(\"Percentage of classes in the training set:\")\n",
        "\n",
        "print(y_train_res.value_counts(normalize = True))\n",
        "\n",
        "print(\"Percentage of classes in the test set:\")\n",
        "\n",
        "print(y_test.value_counts(normalize = True))"
      ],
      "metadata": {
        "colab": {
          "base_uri": "https://localhost:8080/"
        },
        "id": "H-oyMLmLv9u0",
        "outputId": "e52bb164-ceb7-41de-b911-34f421f28cfe"
      },
      "execution_count": 22,
      "outputs": [
        {
          "output_type": "stream",
          "name": "stdout",
          "text": [
            "Shape of the training set:  (1630494, 115)\n",
            "Shape of the test set:  (127128, 115)\n",
            "Percentage of classes in the training set:\n",
            "loan_status\n",
            "0    0.5\n",
            "1    0.5\n",
            "Name: proportion, dtype: float64\n",
            "Percentage of classes in the test set:\n",
            "loan_status\n",
            "0    0.805251\n",
            "1    0.194749\n",
            "Name: proportion, dtype: float64\n"
          ]
        }
      ]
    },
    {
      "cell_type": "code",
      "source": [
        "\n",
        "# xgb = XGBClassifier(booster = \"gbtree\", random_state = 123, n_jobs=4,eval_metric=\"aucpr\" )\n",
        "# Choose the type of classifier.\n",
        "\n",
        "xgb_estimator_tuned_smote = XGBClassifier(booster = \"gbtree\", random_state = 123, n_jobs=4,eval_metric=\"aucpr\" )\n",
        "\n"
      ],
      "metadata": {
        "id": "xXA7GZ62kPhu"
      },
      "execution_count": 23,
      "outputs": []
    },
    {
      "cell_type": "code",
      "source": [
        "pipeline = make_pipeline(\n",
        "    RandomUnderSampler(random_state=42),  # Apply RandomUnderSampler to undersample the majority class\n",
        "    xgb_estimator_tuned_smote)"
      ],
      "metadata": {
        "id": "WTB7wE7w8AE5"
      },
      "execution_count": 24,
      "outputs": []
    },
    {
      "cell_type": "code",
      "source": [
        "parameters = {\"xgbclassifier__max_depth\":range(3,10,2),\n",
        "            \"xgbclassifier__min_child_weight\":range(1,6,2),\n",
        "            \"xgbclassifier__learning_rate\": [0.30000012],\n",
        "            \"xgbclassifier__n_estimators\":[100, 200]\n",
        "             }\n",
        "\n",
        "# Type of scoring used to compare parameter combinations\n",
        "\n",
        "scorer = metrics.make_scorer(f1_score, pos_label = 1)\n",
        "\n",
        "\n",
        "# Run the grid search\n",
        "\n",
        "xgb_model = RandomizedSearchCV(pipeline, parameters, scoring = scorer, cv = 3)\n",
        "\n",
        "\n",
        "#fit the GridSearch on train dataset\n",
        "\n",
        "xgb_model = xgb_model.fit(X_train_res, y_train_res)\n",
        "\n",
        "\n",
        "# Set the clf to the best combination of parameters\n",
        "\n",
        "xgb_estimator_tuned_smote = xgb_model.best_estimator_\n",
        "\n",
        "\n",
        "# Fit the best algorithm to the data.\n",
        "\n",
        "xgb_estimator_tuned_smote.fit(X_train_res, y_train_res)"
      ],
      "metadata": {
        "colab": {
          "base_uri": "https://localhost:8080/",
          "height": 126
        },
        "id": "kPC3CeaJ9NeQ",
        "outputId": "19f5b448-653a-4c64-a80f-c85717f5967f"
      },
      "execution_count": 25,
      "outputs": [
        {
          "output_type": "execute_result",
          "data": {
            "text/plain": [
              "Pipeline(steps=[('randomundersampler', RandomUnderSampler(random_state=42)),\n",
              "                ('xgbclassifier',\n",
              "                 XGBClassifier(base_score=None, booster='gbtree',\n",
              "                               callbacks=None, colsample_bylevel=None,\n",
              "                               colsample_bynode=None, colsample_bytree=None,\n",
              "                               device=None, early_stopping_rounds=None,\n",
              "                               enable_categorical=False, eval_metric='aucpr',\n",
              "                               feature_types=None, gamma=None, grow_policy=None,\n",
              "                               importance_type=None,\n",
              "                               interaction_constraints=None,\n",
              "                               learning_rate=0.30000012, max_bin=None,\n",
              "                               max_cat_threshold=None, max_cat_to_onehot=None,\n",
              "                               max_delta_step=None, max_depth=3,\n",
              "                               max_leaves=None, min_child_weight=1, missing=nan,\n",
              "                               monotone_constraints=None, multi_strategy=None,\n",
              "                               n_estimators=100, n_jobs=4,\n",
              "                               num_parallel_tree=None, random_state=123, ...))])"
            ],
            "text/html": [
              "<style>#sk-container-id-1 {color: black;background-color: white;}#sk-container-id-1 pre{padding: 0;}#sk-container-id-1 div.sk-toggleable {background-color: white;}#sk-container-id-1 label.sk-toggleable__label {cursor: pointer;display: block;width: 100%;margin-bottom: 0;padding: 0.3em;box-sizing: border-box;text-align: center;}#sk-container-id-1 label.sk-toggleable__label-arrow:before {content: \"▸\";float: left;margin-right: 0.25em;color: #696969;}#sk-container-id-1 label.sk-toggleable__label-arrow:hover:before {color: black;}#sk-container-id-1 div.sk-estimator:hover label.sk-toggleable__label-arrow:before {color: black;}#sk-container-id-1 div.sk-toggleable__content {max-height: 0;max-width: 0;overflow: hidden;text-align: left;background-color: #f0f8ff;}#sk-container-id-1 div.sk-toggleable__content pre {margin: 0.2em;color: black;border-radius: 0.25em;background-color: #f0f8ff;}#sk-container-id-1 input.sk-toggleable__control:checked~div.sk-toggleable__content {max-height: 200px;max-width: 100%;overflow: auto;}#sk-container-id-1 input.sk-toggleable__control:checked~label.sk-toggleable__label-arrow:before {content: \"▾\";}#sk-container-id-1 div.sk-estimator input.sk-toggleable__control:checked~label.sk-toggleable__label {background-color: #d4ebff;}#sk-container-id-1 div.sk-label input.sk-toggleable__control:checked~label.sk-toggleable__label {background-color: #d4ebff;}#sk-container-id-1 input.sk-hidden--visually {border: 0;clip: rect(1px 1px 1px 1px);clip: rect(1px, 1px, 1px, 1px);height: 1px;margin: -1px;overflow: hidden;padding: 0;position: absolute;width: 1px;}#sk-container-id-1 div.sk-estimator {font-family: monospace;background-color: #f0f8ff;border: 1px dotted black;border-radius: 0.25em;box-sizing: border-box;margin-bottom: 0.5em;}#sk-container-id-1 div.sk-estimator:hover {background-color: #d4ebff;}#sk-container-id-1 div.sk-parallel-item::after {content: \"\";width: 100%;border-bottom: 1px solid gray;flex-grow: 1;}#sk-container-id-1 div.sk-label:hover label.sk-toggleable__label {background-color: #d4ebff;}#sk-container-id-1 div.sk-serial::before {content: \"\";position: absolute;border-left: 1px solid gray;box-sizing: border-box;top: 0;bottom: 0;left: 50%;z-index: 0;}#sk-container-id-1 div.sk-serial {display: flex;flex-direction: column;align-items: center;background-color: white;padding-right: 0.2em;padding-left: 0.2em;position: relative;}#sk-container-id-1 div.sk-item {position: relative;z-index: 1;}#sk-container-id-1 div.sk-parallel {display: flex;align-items: stretch;justify-content: center;background-color: white;position: relative;}#sk-container-id-1 div.sk-item::before, #sk-container-id-1 div.sk-parallel-item::before {content: \"\";position: absolute;border-left: 1px solid gray;box-sizing: border-box;top: 0;bottom: 0;left: 50%;z-index: -1;}#sk-container-id-1 div.sk-parallel-item {display: flex;flex-direction: column;z-index: 1;position: relative;background-color: white;}#sk-container-id-1 div.sk-parallel-item:first-child::after {align-self: flex-end;width: 50%;}#sk-container-id-1 div.sk-parallel-item:last-child::after {align-self: flex-start;width: 50%;}#sk-container-id-1 div.sk-parallel-item:only-child::after {width: 0;}#sk-container-id-1 div.sk-dashed-wrapped {border: 1px dashed gray;margin: 0 0.4em 0.5em 0.4em;box-sizing: border-box;padding-bottom: 0.4em;background-color: white;}#sk-container-id-1 div.sk-label label {font-family: monospace;font-weight: bold;display: inline-block;line-height: 1.2em;}#sk-container-id-1 div.sk-label-container {text-align: center;}#sk-container-id-1 div.sk-container {/* jupyter's `normalize.less` sets `[hidden] { display: none; }` but bootstrap.min.css set `[hidden] { display: none !important; }` so we also need the `!important` here to be able to override the default hidden behavior on the sphinx rendered scikit-learn.org. See: https://github.com/scikit-learn/scikit-learn/issues/21755 */display: inline-block !important;position: relative;}#sk-container-id-1 div.sk-text-repr-fallback {display: none;}</style><div id=\"sk-container-id-1\" class=\"sk-top-container\"><div class=\"sk-text-repr-fallback\"><pre>Pipeline(steps=[(&#x27;randomundersampler&#x27;, RandomUnderSampler(random_state=42)),\n",
              "                (&#x27;xgbclassifier&#x27;,\n",
              "                 XGBClassifier(base_score=None, booster=&#x27;gbtree&#x27;,\n",
              "                               callbacks=None, colsample_bylevel=None,\n",
              "                               colsample_bynode=None, colsample_bytree=None,\n",
              "                               device=None, early_stopping_rounds=None,\n",
              "                               enable_categorical=False, eval_metric=&#x27;aucpr&#x27;,\n",
              "                               feature_types=None, gamma=None, grow_policy=None,\n",
              "                               importance_type=None,\n",
              "                               interaction_constraints=None,\n",
              "                               learning_rate=0.30000012, max_bin=None,\n",
              "                               max_cat_threshold=None, max_cat_to_onehot=None,\n",
              "                               max_delta_step=None, max_depth=3,\n",
              "                               max_leaves=None, min_child_weight=1, missing=nan,\n",
              "                               monotone_constraints=None, multi_strategy=None,\n",
              "                               n_estimators=100, n_jobs=4,\n",
              "                               num_parallel_tree=None, random_state=123, ...))])</pre><b>In a Jupyter environment, please rerun this cell to show the HTML representation or trust the notebook. <br />On GitHub, the HTML representation is unable to render, please try loading this page with nbviewer.org.</b></div><div class=\"sk-container\" hidden><div class=\"sk-item sk-dashed-wrapped\"><div class=\"sk-label-container\"><div class=\"sk-label sk-toggleable\"><input class=\"sk-toggleable__control sk-hidden--visually\" id=\"sk-estimator-id-1\" type=\"checkbox\" ><label for=\"sk-estimator-id-1\" class=\"sk-toggleable__label sk-toggleable__label-arrow\">Pipeline</label><div class=\"sk-toggleable__content\"><pre>Pipeline(steps=[(&#x27;randomundersampler&#x27;, RandomUnderSampler(random_state=42)),\n",
              "                (&#x27;xgbclassifier&#x27;,\n",
              "                 XGBClassifier(base_score=None, booster=&#x27;gbtree&#x27;,\n",
              "                               callbacks=None, colsample_bylevel=None,\n",
              "                               colsample_bynode=None, colsample_bytree=None,\n",
              "                               device=None, early_stopping_rounds=None,\n",
              "                               enable_categorical=False, eval_metric=&#x27;aucpr&#x27;,\n",
              "                               feature_types=None, gamma=None, grow_policy=None,\n",
              "                               importance_type=None,\n",
              "                               interaction_constraints=None,\n",
              "                               learning_rate=0.30000012, max_bin=None,\n",
              "                               max_cat_threshold=None, max_cat_to_onehot=None,\n",
              "                               max_delta_step=None, max_depth=3,\n",
              "                               max_leaves=None, min_child_weight=1, missing=nan,\n",
              "                               monotone_constraints=None, multi_strategy=None,\n",
              "                               n_estimators=100, n_jobs=4,\n",
              "                               num_parallel_tree=None, random_state=123, ...))])</pre></div></div></div><div class=\"sk-serial\"><div class=\"sk-item\"><div class=\"sk-estimator sk-toggleable\"><input class=\"sk-toggleable__control sk-hidden--visually\" id=\"sk-estimator-id-2\" type=\"checkbox\" ><label for=\"sk-estimator-id-2\" class=\"sk-toggleable__label sk-toggleable__label-arrow\">RandomUnderSampler</label><div class=\"sk-toggleable__content\"><pre>RandomUnderSampler(random_state=42)</pre></div></div></div><div class=\"sk-item\"><div class=\"sk-estimator sk-toggleable\"><input class=\"sk-toggleable__control sk-hidden--visually\" id=\"sk-estimator-id-3\" type=\"checkbox\" ><label for=\"sk-estimator-id-3\" class=\"sk-toggleable__label sk-toggleable__label-arrow\">XGBClassifier</label><div class=\"sk-toggleable__content\"><pre>XGBClassifier(base_score=None, booster=&#x27;gbtree&#x27;, callbacks=None,\n",
              "              colsample_bylevel=None, colsample_bynode=None,\n",
              "              colsample_bytree=None, device=None, early_stopping_rounds=None,\n",
              "              enable_categorical=False, eval_metric=&#x27;aucpr&#x27;, feature_types=None,\n",
              "              gamma=None, grow_policy=None, importance_type=None,\n",
              "              interaction_constraints=None, learning_rate=0.30000012,\n",
              "              max_bin=None, max_cat_threshold=None, max_cat_to_onehot=None,\n",
              "              max_delta_step=None, max_depth=3, max_leaves=None,\n",
              "              min_child_weight=1, missing=nan, monotone_constraints=None,\n",
              "              multi_strategy=None, n_estimators=100, n_jobs=4,\n",
              "              num_parallel_tree=None, random_state=123, ...)</pre></div></div></div></div></div></div></div>"
            ]
          },
          "metadata": {},
          "execution_count": 25
        }
      ]
    },
    {
      "cell_type": "code",
      "source": [],
      "metadata": {
        "id": "CAvh1Hsw8ABy"
      },
      "execution_count": null,
      "outputs": []
    },
    {
      "cell_type": "code",
      "source": [
        "y_train_pred = xgb_estimator_tuned_smote.predict(X_train_res)\n",
        "y_test_pred = xgb_estimator_tuned_smote.predict(X_test)\n",
        "\n",
        "print_score(y_train_res, y_train_pred, train=True)\n",
        "print_score(y_test, y_test_pred, train=False)"
      ],
      "metadata": {
        "colab": {
          "base_uri": "https://localhost:8080/"
        },
        "outputId": "1fe4b302-0a6c-4859-e95f-9d003b38c8a3",
        "id": "ml7-haqbAXxk"
      },
      "execution_count": 26,
      "outputs": [
        {
          "output_type": "stream",
          "name": "stdout",
          "text": [
            "Train Result:\n",
            "================================================\n",
            "Accuracy Score: 87.08%\n",
            "_______________________________________________\n",
            "CLASSIFICATION REPORT:\n",
            "                       0              1  accuracy     macro avg  weighted avg\n",
            "precision       0.810916       0.959220  0.870789  8.850680e-01  8.850680e-01\n",
            "recall          0.967073       0.774505  0.870789  8.707889e-01  8.707889e-01\n",
            "f1-score        0.882137       0.857022  0.870789  8.695798e-01  8.695798e-01\n",
            "support    815247.000000  815247.000000  0.870789  1.630494e+06  1.630494e+06\n",
            "_______________________________________________\n",
            "Confusion Matrix: \n",
            " [[788403  26844]\n",
            " [183834 631413]]\n",
            "\n",
            "Test Result:\n",
            "================================================\n",
            "Accuracy Score: 79.21%\n",
            "_______________________________________________\n",
            "CLASSIFICATION REPORT:\n",
            "                       0             1  accuracy      macro avg   weighted avg\n",
            "precision       0.817617      0.389989  0.792146       0.603803       0.734337\n",
            "recall          0.954879      0.119275  0.792146       0.537077       0.792146\n",
            "f1-score        0.880933      0.182679  0.792146       0.531806       0.744949\n",
            "support    102370.000000  24758.000000  0.792146  127128.000000  127128.000000\n",
            "_______________________________________________\n",
            "Confusion Matrix: \n",
            " [[97751  4619]\n",
            " [21805  2953]]\n",
            "\n"
          ]
        }
      ]
    },
    {
      "cell_type": "code",
      "source": [
        "from sklearn.metrics import f1_score\n",
        "\n",
        "f1_weighted = f1_score(y_test, y_test_pred, average='weighted')\n",
        "print(\"F1 Weighted Score:\", f1_weighted)"
      ],
      "metadata": {
        "colab": {
          "base_uri": "https://localhost:8080/"
        },
        "outputId": "0c4ad8a6-3db0-4abd-df04-a3bab5328488",
        "id": "_FFrBxY9AXxr"
      },
      "execution_count": 27,
      "outputs": [
        {
          "output_type": "stream",
          "name": "stdout",
          "text": [
            "F1 Weighted Score: 0.7449491672087801\n"
          ]
        }
      ]
    },
    {
      "cell_type": "code",
      "source": [
        "y_pred_prob = xgb_estimator_tuned.predict_proba(X_test)[:,1]"
      ],
      "metadata": {
        "colab": {
          "base_uri": "https://localhost:8080/",
          "height": 144
        },
        "id": "JehMdTuTAXxr",
        "outputId": "10bd1654-2bfb-474a-ef1b-6271f64ee568"
      },
      "execution_count": 28,
      "outputs": [
        {
          "output_type": "error",
          "ename": "NameError",
          "evalue": "name 'xgb_estimator_tuned' is not defined",
          "traceback": [
            "\u001b[0;31m---------------------------------------------------------------------------\u001b[0m",
            "\u001b[0;31mNameError\u001b[0m                                 Traceback (most recent call last)",
            "\u001b[0;32m<ipython-input-28-d798a15adfa2>\u001b[0m in \u001b[0;36m<cell line: 1>\u001b[0;34m()\u001b[0m\n\u001b[0;32m----> 1\u001b[0;31m \u001b[0my_pred_prob\u001b[0m \u001b[0;34m=\u001b[0m \u001b[0mxgb_estimator_tuned\u001b[0m\u001b[0;34m.\u001b[0m\u001b[0mpredict_proba\u001b[0m\u001b[0;34m(\u001b[0m\u001b[0mX_test\u001b[0m\u001b[0;34m)\u001b[0m\u001b[0;34m[\u001b[0m\u001b[0;34m:\u001b[0m\u001b[0;34m,\u001b[0m\u001b[0;36m1\u001b[0m\u001b[0;34m]\u001b[0m\u001b[0;34m\u001b[0m\u001b[0;34m\u001b[0m\u001b[0m\n\u001b[0m",
            "\u001b[0;31mNameError\u001b[0m: name 'xgb_estimator_tuned' is not defined"
          ]
        }
      ]
    },
    {
      "cell_type": "code",
      "source": [
        "ks = ks_score(y_test, y_pred_prob)\n",
        "print(\"KS Score:\", ks)"
      ],
      "metadata": {
        "id": "xmW-YrlKAXxr"
      },
      "execution_count": null,
      "outputs": []
    },
    {
      "cell_type": "code",
      "source": [
        "disp = ConfusionMatrixDisplay.from_estimator(\n",
        "    classifier_xgb, X_test, y_test,\n",
        "    cmap='Blues', values_format='d',\n",
        "    display_labels=['Default', 'Fully-Paid']\n",
        ")\n"
      ],
      "metadata": {
        "id": "ixRbs_EmAXxr"
      },
      "execution_count": null,
      "outputs": []
    },
    {
      "cell_type": "code",
      "source": [
        "y_pred_prob = classifier_xgb.predict_proba(X_test)[:,1]\n",
        "plot_precision_recall_curve(y_test,y_pred_prob)"
      ],
      "metadata": {
        "id": "0KapMxAhAXxr"
      },
      "execution_count": null,
      "outputs": []
    },
    {
      "cell_type": "code",
      "source": [],
      "metadata": {
        "id": "gynAU2EC7_-7"
      },
      "execution_count": null,
      "outputs": []
    },
    {
      "cell_type": "code",
      "source": [],
      "metadata": {
        "id": "6G9INOOc7_8C"
      },
      "execution_count": null,
      "outputs": []
    },
    {
      "cell_type": "code",
      "source": [],
      "metadata": {
        "id": "eyXhJAXE7_zt"
      },
      "execution_count": null,
      "outputs": []
    },
    {
      "cell_type": "code",
      "source": [],
      "metadata": {
        "id": "JpySm3Co7_xY"
      },
      "execution_count": null,
      "outputs": []
    },
    {
      "cell_type": "code",
      "source": [],
      "metadata": {
        "id": "eyfSS_4B7_vG"
      },
      "execution_count": null,
      "outputs": []
    },
    {
      "cell_type": "code",
      "source": [],
      "metadata": {
        "id": "A0ygWFXj7_tX"
      },
      "execution_count": null,
      "outputs": []
    },
    {
      "cell_type": "code",
      "source": [],
      "metadata": {
        "id": "kd-EfYzg7_re"
      },
      "execution_count": null,
      "outputs": []
    },
    {
      "cell_type": "code",
      "source": [],
      "metadata": {
        "id": "MFhztgTQ7_pa"
      },
      "execution_count": null,
      "outputs": []
    },
    {
      "cell_type": "code",
      "source": [],
      "metadata": {
        "id": "6oc3MvFi7_nV"
      },
      "execution_count": null,
      "outputs": []
    },
    {
      "cell_type": "code",
      "source": [],
      "metadata": {
        "id": "ezmPTyU17_iB"
      },
      "execution_count": null,
      "outputs": []
    },
    {
      "cell_type": "code",
      "source": [],
      "metadata": {
        "id": "HCaWUJYg7_fa"
      },
      "execution_count": null,
      "outputs": []
    },
    {
      "cell_type": "code",
      "source": [],
      "metadata": {
        "id": "AsVJcnOQ7_cy"
      },
      "execution_count": null,
      "outputs": []
    },
    {
      "cell_type": "code",
      "source": [],
      "metadata": {
        "id": "0cxTBYWu7_XV"
      },
      "execution_count": null,
      "outputs": []
    },
    {
      "cell_type": "code",
      "source": [],
      "metadata": {
        "id": "Jjv9MKs57_T-"
      },
      "execution_count": null,
      "outputs": []
    },
    {
      "cell_type": "code",
      "source": [],
      "metadata": {
        "id": "S9ONmVUv7-xE"
      },
      "execution_count": null,
      "outputs": []
    },
    {
      "cell_type": "code",
      "source": [],
      "metadata": {
        "id": "70G3y_-X7-t8"
      },
      "execution_count": null,
      "outputs": []
    },
    {
      "cell_type": "code",
      "source": [],
      "metadata": {
        "id": "KXKoeM227-q8"
      },
      "execution_count": null,
      "outputs": []
    },
    {
      "cell_type": "code",
      "source": [
        "pipeline = make_pipeline(\n",
        "    SMOTE(random_state=42),  # Apply SMOTE to oversample the minority class\n",
        "    RandomUnderSampler(random_state=42),  # Apply RandomUnderSampler to undersample the majority class\n",
        "    xgb)"
      ],
      "metadata": {
        "id": "aG3pDDxbh0fp"
      },
      "execution_count": 22,
      "outputs": []
    },
    {
      "cell_type": "code",
      "source": [
        "\n",
        "# Grid of parameters to choose from\n",
        "\n",
        "# parameters = {'max_depth':range(3,10,2),\n",
        "#             'min_child_weight':range(1,6,2),\n",
        "#             'learning_rate': [0.30000012],\n",
        "#             'max_bin':[256],\n",
        "#             'n_estimators':[100, 200]\n",
        "#              }\n",
        "\n",
        "\n",
        "parameters = {\"xgbclassifier__max_depth\":range(3,10,2),\n",
        "            \"xgbclassifier__min_child_weight\":range(1,6,2),\n",
        "            \"xgbclassifier__learning_rate\": [0.30000012],\n",
        "            \"xgbclassifier__n_estimators\":[100, 200]\n",
        "             }\n",
        "\n",
        "# Type of scoring used to compare parameter combinations\n",
        "\n",
        "scorer = metrics.make_scorer(f1_score, pos_label = 1)\n",
        "\n",
        "\n",
        "# Run the grid search\n",
        "\n",
        "xgb_model = RandomizedSearchCV(pipeline, parameters, scoring = scorer, cv = 3)\n",
        "\n",
        "\n",
        "#fit the GridSearch on train dataset\n",
        "\n",
        "xgb_model = xgb_model.fit(X_train, y_train)\n",
        "\n",
        "\n",
        "# Set the clf to the best combination of parameters\n",
        "\n",
        "xgb_estimator_tuned_smote = xgb_model.best_estimator_\n",
        "\n",
        "\n",
        "# Fit the best algorithm to the data.\n",
        "\n",
        "xgb_estimator_tuned_smote.fit(X_train, y_train)"
      ],
      "metadata": {
        "id": "GBmFbfVIlFQ_"
      },
      "execution_count": null,
      "outputs": []
    },
    {
      "cell_type": "code",
      "source": [],
      "metadata": {
        "id": "wP1tE3_sug3F"
      },
      "execution_count": null,
      "outputs": []
    },
    {
      "cell_type": "code",
      "source": [
        "y_train_pred = xgb_estimator_tuned_smote.predict(X_train)\n",
        "y_test_pred = xgb_estimator_tuned_smote.predict(X_test)\n",
        "\n",
        "print_score(y_train, y_train_pred, train=True)\n",
        "print_score(y_test, y_test_pred, train=False)"
      ],
      "metadata": {
        "colab": {
          "base_uri": "https://localhost:8080/"
        },
        "outputId": "e74c1681-acee-40e0-acbf-14a1749d20dd",
        "id": "fnSewHPXuh47"
      },
      "execution_count": null,
      "outputs": [
        {
          "output_type": "stream",
          "name": "stdout",
          "text": [
            "Train Result:\n",
            "================================================\n",
            "Accuracy Score: 82.25%\n",
            "_______________________________________________\n",
            "CLASSIFICATION REPORT:\n",
            "                       0              1  accuracy     macro avg  weighted avg\n",
            "precision       0.826717       0.727058  0.822469  7.768878e-01  8.070954e-01\n",
            "recall          0.985512       0.157416  0.822469  5.714643e-01  8.224689e-01\n",
            "f1-score        0.899158       0.258800  0.822469  5.789786e-01  7.730778e-01\n",
            "support    815247.000000  199865.000000  0.822469  1.015112e+06  1.015112e+06\n",
            "_______________________________________________\n",
            "Confusion Matrix: \n",
            " [[803436  11811]\n",
            " [168403  31462]]\n",
            "\n",
            "Test Result:\n",
            "================================================\n",
            "Accuracy Score: 80.51%\n",
            "_______________________________________________\n",
            "CLASSIFICATION REPORT:\n",
            "                       0             1  accuracy      macro avg   weighted avg\n",
            "precision       0.820070      0.497890  0.805055       0.658980       0.757326\n",
            "recall          0.970939      0.119153  0.805055       0.545046       0.805055\n",
            "f1-score        0.889150      0.192289  0.805055       0.540720       0.753438\n",
            "support    102370.000000  24758.000000  0.805055  127128.000000  127128.000000\n",
            "_______________________________________________\n",
            "Confusion Matrix: \n",
            " [[99395  2975]\n",
            " [21808  2950]]\n",
            "\n"
          ]
        }
      ]
    },
    {
      "cell_type": "code",
      "source": [
        "from sklearn.metrics import f1_score\n",
        "\n",
        "f1_weighted = f1_score(y_test, y_test_pred, average='weighted')\n",
        "print(\"F1 Weighted Score:\", f1_weighted)"
      ],
      "metadata": {
        "colab": {
          "base_uri": "https://localhost:8080/"
        },
        "outputId": "ab0879b8-24a3-477d-9be7-4051f16bfdd1",
        "id": "O_tRm8wQuh5H"
      },
      "execution_count": null,
      "outputs": [
        {
          "output_type": "stream",
          "name": "stdout",
          "text": [
            "F1 Weighted Score: 0.7534375159682722\n"
          ]
        }
      ]
    },
    {
      "cell_type": "code",
      "source": [
        "y_pred_prob = xgb_estimator_tuned.predict_proba(X_test)[:,1]"
      ],
      "metadata": {
        "id": "xMNEfVtHuh5H"
      },
      "execution_count": null,
      "outputs": []
    },
    {
      "cell_type": "code",
      "source": [
        "ks = ks_score(y_test, y_pred_prob)\n",
        "print(\"KS Score:\", ks)"
      ],
      "metadata": {
        "colab": {
          "base_uri": "https://localhost:8080/"
        },
        "outputId": "155c1804-3f9e-4f57-805e-bbfbf8995c78",
        "id": "O2YbrUSGuz44"
      },
      "execution_count": null,
      "outputs": [
        {
          "output_type": "stream",
          "name": "stdout",
          "text": [
            "KS Score: 0.3172817458324312\n"
          ]
        }
      ]
    },
    {
      "cell_type": "code",
      "source": [
        "disp = ConfusionMatrixDisplay.from_estimator(\n",
        "    classifier_xgb, X_test, y_test,\n",
        "    cmap='Blues', values_format='d',\n",
        "    display_labels=['Default', 'Fully-Paid']\n",
        ")\n"
      ],
      "metadata": {
        "colab": {
          "base_uri": "https://localhost:8080/",
          "height": 455
        },
        "outputId": "106565d4-2a8f-446d-e0c2-fc47bcc64e8c",
        "id": "ad9N-qA1uz45"
      },
      "execution_count": null,
      "outputs": [
        {
          "output_type": "display_data",
          "data": {
            "text/plain": [
              "<Figure size 640x480 with 2 Axes>"
            ],
            "image/png": "[encoded data removed]"
          },
          "metadata": {}
        }
      ]
    },
    {
      "cell_type": "code",
      "source": [
        "y_pred_prob = classifier_xgb.predict_proba(X_test)[:,1]\n",
        "plot_precision_recall_curve(y_test,y_pred_prob)"
      ],
      "metadata": {
        "colab": {
          "base_uri": "https://localhost:8080/",
          "height": 490
        },
        "outputId": "5fdcc544-9b73-49a4-e1ca-8787cc3a9a5f",
        "id": "E3XSN1Ikuz45"
      },
      "execution_count": null,
      "outputs": [
        {
          "output_type": "stream",
          "name": "stdout",
          "text": [
            "Average precision-recall score: 0.38\n"
          ]
        },
        {
          "output_type": "display_data",
          "data": {
            "text/plain": [
              "<Figure size 640x480 with 1 Axes>"
            ],
            "image/png": "[encoded data removed]"
          },
          "metadata": {}
        }
      ]
    }
  ]
}