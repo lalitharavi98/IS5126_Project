{
 "cells": [
  {
   "cell_type": "code",
   "execution_count": 1,
   "id": "c03ecedb",
   "metadata": {},
   "outputs": [],
   "source": [
    "import warnings\n",
    "warnings.simplefilter(action='ignore', category=FutureWarning)"
   ]
  },
  {
   "cell_type": "code",
   "execution_count": 2,
   "id": "ed7ead1a",
   "metadata": {},
   "outputs": [
    {
     "name": "stderr",
     "output_type": "stream",
     "text": [
      "/Users/dhanushlalitha/miniconda3/envs/tensorflow/lib/python3.10/site-packages/pandas/core/arrays/masked.py:60: UserWarning: Pandas requires version '1.3.6' or newer of 'bottleneck' (version '1.3.5' currently installed).\n",
      "  from pandas.core import (\n"
     ]
    }
   ],
   "source": [
    "# Import the necessary libraries\n",
    "import pandas as pd\n",
    "import numpy as np\n",
    "from skimpy import skim\n",
    "import matplotlib.pyplot as plt\n",
    "import seaborn as sns"
   ]
  },
  {
   "cell_type": "code",
   "execution_count": 3,
   "id": "3cd005f5",
   "metadata": {},
   "outputs": [],
   "source": [
    "# Load the data\n",
    "df = pd.read_csv(\"../data/cleaned_data.csv\", encoding = \"ISO-8859-1\")"
   ]
  },
  {
   "cell_type": "code",
   "execution_count": 4,
   "id": "4394a643",
   "metadata": {},
   "outputs": [],
   "source": [
    "pd.set_option('display.max_columns', None)"
   ]
  },
  {
   "cell_type": "code",
   "execution_count": 5,
   "id": "fab80c46",
   "metadata": {},
   "outputs": [
    {
     "data": {
      "text/html": [
       "<div>\n",
       "<style scoped>\n",
       "    .dataframe tbody tr th:only-of-type {\n",
       "        vertical-align: middle;\n",
       "    }\n",
       "\n",
       "    .dataframe tbody tr th {\n",
       "        vertical-align: top;\n",
       "    }\n",
       "\n",
       "    .dataframe thead th {\n",
       "        text-align: right;\n",
       "    }\n",
       "</style>\n",
       "<table border=\"1\" class=\"dataframe\">\n",
       "  <thead>\n",
       "    <tr style=\"text-align: right;\">\n",
       "      <th></th>\n",
       "      <th>loan_amnt</th>\n",
       "      <th>term (months)</th>\n",
       "      <th>int_rate</th>\n",
       "      <th>installment</th>\n",
       "      <th>sub_grade</th>\n",
       "      <th>emp_length</th>\n",
       "      <th>home_ownership</th>\n",
       "      <th>annual_inc</th>\n",
       "      <th>verification_status</th>\n",
       "      <th>issue_d</th>\n",
       "      <th>loan_status</th>\n",
       "      <th>purpose</th>\n",
       "      <th>addr_state</th>\n",
       "      <th>dti</th>\n",
       "      <th>earliest_cr_line</th>\n",
       "      <th>fico_range_low</th>\n",
       "      <th>fico_range_high</th>\n",
       "      <th>open_acc</th>\n",
       "      <th>pub_rec</th>\n",
       "      <th>revol_bal</th>\n",
       "      <th>revol_util</th>\n",
       "      <th>total_acc</th>\n",
       "      <th>initial_list_status</th>\n",
       "      <th>application_type</th>\n",
       "      <th>mort_acc</th>\n",
       "      <th>pub_rec_bankruptcies</th>\n",
       "    </tr>\n",
       "  </thead>\n",
       "  <tbody>\n",
       "    <tr>\n",
       "      <th>0</th>\n",
       "      <td>3600.0</td>\n",
       "      <td>36</td>\n",
       "      <td>13.99</td>\n",
       "      <td>123.03</td>\n",
       "      <td>C4</td>\n",
       "      <td>10.0</td>\n",
       "      <td>MORTGAGE</td>\n",
       "      <td>55000.0</td>\n",
       "      <td>Not Verified</td>\n",
       "      <td>Dec-2015</td>\n",
       "      <td>Fully Paid</td>\n",
       "      <td>debt_consolidation</td>\n",
       "      <td>PA</td>\n",
       "      <td>5.91</td>\n",
       "      <td>2003</td>\n",
       "      <td>675</td>\n",
       "      <td>679</td>\n",
       "      <td>7</td>\n",
       "      <td>0</td>\n",
       "      <td>2765.0</td>\n",
       "      <td>29.7</td>\n",
       "      <td>13</td>\n",
       "      <td>Whole Funded</td>\n",
       "      <td>Individual</td>\n",
       "      <td>1.0</td>\n",
       "      <td>0.0</td>\n",
       "    </tr>\n",
       "    <tr>\n",
       "      <th>1</th>\n",
       "      <td>24700.0</td>\n",
       "      <td>36</td>\n",
       "      <td>11.99</td>\n",
       "      <td>820.28</td>\n",
       "      <td>C1</td>\n",
       "      <td>10.0</td>\n",
       "      <td>MORTGAGE</td>\n",
       "      <td>65000.0</td>\n",
       "      <td>Not Verified</td>\n",
       "      <td>Dec-2015</td>\n",
       "      <td>Fully Paid</td>\n",
       "      <td>small_business</td>\n",
       "      <td>SD</td>\n",
       "      <td>16.06</td>\n",
       "      <td>1999</td>\n",
       "      <td>715</td>\n",
       "      <td>719</td>\n",
       "      <td>22</td>\n",
       "      <td>0</td>\n",
       "      <td>21470.0</td>\n",
       "      <td>19.2</td>\n",
       "      <td>38</td>\n",
       "      <td>Whole Funded</td>\n",
       "      <td>Individual</td>\n",
       "      <td>4.0</td>\n",
       "      <td>0.0</td>\n",
       "    </tr>\n",
       "    <tr>\n",
       "      <th>2</th>\n",
       "      <td>20000.0</td>\n",
       "      <td>60</td>\n",
       "      <td>10.78</td>\n",
       "      <td>432.66</td>\n",
       "      <td>B4</td>\n",
       "      <td>10.0</td>\n",
       "      <td>MORTGAGE</td>\n",
       "      <td>63000.0</td>\n",
       "      <td>Not Verified</td>\n",
       "      <td>Dec-2015</td>\n",
       "      <td>Fully Paid</td>\n",
       "      <td>home_improvement</td>\n",
       "      <td>IL</td>\n",
       "      <td>10.78</td>\n",
       "      <td>2000</td>\n",
       "      <td>695</td>\n",
       "      <td>699</td>\n",
       "      <td>6</td>\n",
       "      <td>0</td>\n",
       "      <td>7869.0</td>\n",
       "      <td>56.2</td>\n",
       "      <td>18</td>\n",
       "      <td>Whole Funded</td>\n",
       "      <td>Joint App</td>\n",
       "      <td>5.0</td>\n",
       "      <td>0.0</td>\n",
       "    </tr>\n",
       "    <tr>\n",
       "      <th>3</th>\n",
       "      <td>10400.0</td>\n",
       "      <td>60</td>\n",
       "      <td>22.45</td>\n",
       "      <td>289.91</td>\n",
       "      <td>F1</td>\n",
       "      <td>3.0</td>\n",
       "      <td>MORTGAGE</td>\n",
       "      <td>104433.0</td>\n",
       "      <td>Source Verified</td>\n",
       "      <td>Dec-2015</td>\n",
       "      <td>Fully Paid</td>\n",
       "      <td>major_purchase</td>\n",
       "      <td>PA</td>\n",
       "      <td>25.37</td>\n",
       "      <td>1998</td>\n",
       "      <td>695</td>\n",
       "      <td>699</td>\n",
       "      <td>12</td>\n",
       "      <td>0</td>\n",
       "      <td>21929.0</td>\n",
       "      <td>64.5</td>\n",
       "      <td>35</td>\n",
       "      <td>Whole Funded</td>\n",
       "      <td>Individual</td>\n",
       "      <td>6.0</td>\n",
       "      <td>0.0</td>\n",
       "    </tr>\n",
       "    <tr>\n",
       "      <th>4</th>\n",
       "      <td>11950.0</td>\n",
       "      <td>36</td>\n",
       "      <td>13.44</td>\n",
       "      <td>405.18</td>\n",
       "      <td>C3</td>\n",
       "      <td>4.0</td>\n",
       "      <td>RENT</td>\n",
       "      <td>34000.0</td>\n",
       "      <td>Source Verified</td>\n",
       "      <td>Dec-2015</td>\n",
       "      <td>Fully Paid</td>\n",
       "      <td>debt_consolidation</td>\n",
       "      <td>GA</td>\n",
       "      <td>10.20</td>\n",
       "      <td>1987</td>\n",
       "      <td>690</td>\n",
       "      <td>694</td>\n",
       "      <td>5</td>\n",
       "      <td>0</td>\n",
       "      <td>8822.0</td>\n",
       "      <td>68.4</td>\n",
       "      <td>6</td>\n",
       "      <td>Whole Funded</td>\n",
       "      <td>Individual</td>\n",
       "      <td>0.0</td>\n",
       "      <td>0.0</td>\n",
       "    </tr>\n",
       "  </tbody>\n",
       "</table>\n",
       "</div>"
      ],
      "text/plain": [
       "   loan_amnt  term (months)  int_rate  installment sub_grade  emp_length  \\\n",
       "0     3600.0             36     13.99       123.03        C4        10.0   \n",
       "1    24700.0             36     11.99       820.28        C1        10.0   \n",
       "2    20000.0             60     10.78       432.66        B4        10.0   \n",
       "3    10400.0             60     22.45       289.91        F1         3.0   \n",
       "4    11950.0             36     13.44       405.18        C3         4.0   \n",
       "\n",
       "  home_ownership  annual_inc verification_status   issue_d loan_status  \\\n",
       "0       MORTGAGE     55000.0        Not Verified  Dec-2015  Fully Paid   \n",
       "1       MORTGAGE     65000.0        Not Verified  Dec-2015  Fully Paid   \n",
       "2       MORTGAGE     63000.0        Not Verified  Dec-2015  Fully Paid   \n",
       "3       MORTGAGE    104433.0     Source Verified  Dec-2015  Fully Paid   \n",
       "4           RENT     34000.0     Source Verified  Dec-2015  Fully Paid   \n",
       "\n",
       "              purpose addr_state    dti  earliest_cr_line  fico_range_low  \\\n",
       "0  debt_consolidation         PA   5.91              2003             675   \n",
       "1      small_business         SD  16.06              1999             715   \n",
       "2    home_improvement         IL  10.78              2000             695   \n",
       "3      major_purchase         PA  25.37              1998             695   \n",
       "4  debt_consolidation         GA  10.20              1987             690   \n",
       "\n",
       "   fico_range_high  open_acc  pub_rec  revol_bal  revol_util  total_acc  \\\n",
       "0              679         7        0     2765.0        29.7         13   \n",
       "1              719        22        0    21470.0        19.2         38   \n",
       "2              699         6        0     7869.0        56.2         18   \n",
       "3              699        12        0    21929.0        64.5         35   \n",
       "4              694         5        0     8822.0        68.4          6   \n",
       "\n",
       "  initial_list_status application_type  mort_acc  pub_rec_bankruptcies  \n",
       "0        Whole Funded       Individual       1.0                   0.0  \n",
       "1        Whole Funded       Individual       4.0                   0.0  \n",
       "2        Whole Funded        Joint App       5.0                   0.0  \n",
       "3        Whole Funded       Individual       6.0                   0.0  \n",
       "4        Whole Funded       Individual       0.0                   0.0  "
      ]
     },
     "execution_count": 5,
     "metadata": {},
     "output_type": "execute_result"
    }
   ],
   "source": [
    "df.head()"
   ]
  },
  {
   "cell_type": "markdown",
   "id": "26dc2210",
   "metadata": {},
   "source": [
    "# Data Preprcessing"
   ]
  },
  {
   "cell_type": "code",
   "execution_count": 6,
   "id": "43fbd2f1",
   "metadata": {},
   "outputs": [],
   "source": [
    "# # Add credit score buckets\n",
    "\n",
    "# score_bins = [0, 579, 669, 739, 799, float('inf')]\n",
    "# score_labels = ['Poor', 'Fair', 'Good', 'Very Good', 'Excellent']\n",
    "# # Creating a new column 'credit_score_bucket' based on FICO scores\n",
    "# df['credit_score_cat'] = pd.cut(df['fico_range_low'], bins=score_bins, labels=score_labels)\n"
   ]
  },
  {
   "cell_type": "code",
   "execution_count": 7,
   "id": "1bfb843a",
   "metadata": {},
   "outputs": [],
   "source": [
    "# # Calculate the Monthly Income\n",
    "# df['monthly_income'] = df['annual_inc'] / 12\n",
    "\n",
    "# # Calculate the Payment-to-Income Ratio\n",
    "# df['payment_to_income_ratio (%)'] = (df['installment'] / df['monthly_income']) * 100"
   ]
  },
  {
   "cell_type": "code",
   "execution_count": 8,
   "id": "bdef1af6",
   "metadata": {},
   "outputs": [
    {
     "data": {
      "text/html": [
       "<div>\n",
       "<style scoped>\n",
       "    .dataframe tbody tr th:only-of-type {\n",
       "        vertical-align: middle;\n",
       "    }\n",
       "\n",
       "    .dataframe tbody tr th {\n",
       "        vertical-align: top;\n",
       "    }\n",
       "\n",
       "    .dataframe thead th {\n",
       "        text-align: right;\n",
       "    }\n",
       "</style>\n",
       "<table border=\"1\" class=\"dataframe\">\n",
       "  <thead>\n",
       "    <tr style=\"text-align: right;\">\n",
       "      <th></th>\n",
       "      <th>loan_amnt</th>\n",
       "      <th>term (months)</th>\n",
       "      <th>int_rate</th>\n",
       "      <th>installment</th>\n",
       "      <th>sub_grade</th>\n",
       "      <th>emp_length</th>\n",
       "      <th>home_ownership</th>\n",
       "      <th>annual_inc</th>\n",
       "      <th>verification_status</th>\n",
       "      <th>issue_d</th>\n",
       "      <th>loan_status</th>\n",
       "      <th>purpose</th>\n",
       "      <th>addr_state</th>\n",
       "      <th>dti</th>\n",
       "      <th>earliest_cr_line</th>\n",
       "      <th>fico_range_low</th>\n",
       "      <th>fico_range_high</th>\n",
       "      <th>open_acc</th>\n",
       "      <th>pub_rec</th>\n",
       "      <th>revol_bal</th>\n",
       "      <th>revol_util</th>\n",
       "      <th>total_acc</th>\n",
       "      <th>initial_list_status</th>\n",
       "      <th>application_type</th>\n",
       "      <th>mort_acc</th>\n",
       "      <th>pub_rec_bankruptcies</th>\n",
       "    </tr>\n",
       "  </thead>\n",
       "  <tbody>\n",
       "    <tr>\n",
       "      <th>0</th>\n",
       "      <td>3600.0</td>\n",
       "      <td>36</td>\n",
       "      <td>13.99</td>\n",
       "      <td>123.03</td>\n",
       "      <td>C4</td>\n",
       "      <td>10.0</td>\n",
       "      <td>MORTGAGE</td>\n",
       "      <td>55000.0</td>\n",
       "      <td>Not Verified</td>\n",
       "      <td>Dec-2015</td>\n",
       "      <td>Fully Paid</td>\n",
       "      <td>debt_consolidation</td>\n",
       "      <td>PA</td>\n",
       "      <td>5.91</td>\n",
       "      <td>2003</td>\n",
       "      <td>675</td>\n",
       "      <td>679</td>\n",
       "      <td>7</td>\n",
       "      <td>0</td>\n",
       "      <td>2765.0</td>\n",
       "      <td>29.7</td>\n",
       "      <td>13</td>\n",
       "      <td>Whole Funded</td>\n",
       "      <td>Individual</td>\n",
       "      <td>1.0</td>\n",
       "      <td>0.0</td>\n",
       "    </tr>\n",
       "    <tr>\n",
       "      <th>1</th>\n",
       "      <td>24700.0</td>\n",
       "      <td>36</td>\n",
       "      <td>11.99</td>\n",
       "      <td>820.28</td>\n",
       "      <td>C1</td>\n",
       "      <td>10.0</td>\n",
       "      <td>MORTGAGE</td>\n",
       "      <td>65000.0</td>\n",
       "      <td>Not Verified</td>\n",
       "      <td>Dec-2015</td>\n",
       "      <td>Fully Paid</td>\n",
       "      <td>small_business</td>\n",
       "      <td>SD</td>\n",
       "      <td>16.06</td>\n",
       "      <td>1999</td>\n",
       "      <td>715</td>\n",
       "      <td>719</td>\n",
       "      <td>22</td>\n",
       "      <td>0</td>\n",
       "      <td>21470.0</td>\n",
       "      <td>19.2</td>\n",
       "      <td>38</td>\n",
       "      <td>Whole Funded</td>\n",
       "      <td>Individual</td>\n",
       "      <td>4.0</td>\n",
       "      <td>0.0</td>\n",
       "    </tr>\n",
       "    <tr>\n",
       "      <th>2</th>\n",
       "      <td>20000.0</td>\n",
       "      <td>60</td>\n",
       "      <td>10.78</td>\n",
       "      <td>432.66</td>\n",
       "      <td>B4</td>\n",
       "      <td>10.0</td>\n",
       "      <td>MORTGAGE</td>\n",
       "      <td>63000.0</td>\n",
       "      <td>Not Verified</td>\n",
       "      <td>Dec-2015</td>\n",
       "      <td>Fully Paid</td>\n",
       "      <td>home_improvement</td>\n",
       "      <td>IL</td>\n",
       "      <td>10.78</td>\n",
       "      <td>2000</td>\n",
       "      <td>695</td>\n",
       "      <td>699</td>\n",
       "      <td>6</td>\n",
       "      <td>0</td>\n",
       "      <td>7869.0</td>\n",
       "      <td>56.2</td>\n",
       "      <td>18</td>\n",
       "      <td>Whole Funded</td>\n",
       "      <td>Joint App</td>\n",
       "      <td>5.0</td>\n",
       "      <td>0.0</td>\n",
       "    </tr>\n",
       "    <tr>\n",
       "      <th>3</th>\n",
       "      <td>10400.0</td>\n",
       "      <td>60</td>\n",
       "      <td>22.45</td>\n",
       "      <td>289.91</td>\n",
       "      <td>F1</td>\n",
       "      <td>3.0</td>\n",
       "      <td>MORTGAGE</td>\n",
       "      <td>104433.0</td>\n",
       "      <td>Source Verified</td>\n",
       "      <td>Dec-2015</td>\n",
       "      <td>Fully Paid</td>\n",
       "      <td>major_purchase</td>\n",
       "      <td>PA</td>\n",
       "      <td>25.37</td>\n",
       "      <td>1998</td>\n",
       "      <td>695</td>\n",
       "      <td>699</td>\n",
       "      <td>12</td>\n",
       "      <td>0</td>\n",
       "      <td>21929.0</td>\n",
       "      <td>64.5</td>\n",
       "      <td>35</td>\n",
       "      <td>Whole Funded</td>\n",
       "      <td>Individual</td>\n",
       "      <td>6.0</td>\n",
       "      <td>0.0</td>\n",
       "    </tr>\n",
       "    <tr>\n",
       "      <th>4</th>\n",
       "      <td>11950.0</td>\n",
       "      <td>36</td>\n",
       "      <td>13.44</td>\n",
       "      <td>405.18</td>\n",
       "      <td>C3</td>\n",
       "      <td>4.0</td>\n",
       "      <td>RENT</td>\n",
       "      <td>34000.0</td>\n",
       "      <td>Source Verified</td>\n",
       "      <td>Dec-2015</td>\n",
       "      <td>Fully Paid</td>\n",
       "      <td>debt_consolidation</td>\n",
       "      <td>GA</td>\n",
       "      <td>10.20</td>\n",
       "      <td>1987</td>\n",
       "      <td>690</td>\n",
       "      <td>694</td>\n",
       "      <td>5</td>\n",
       "      <td>0</td>\n",
       "      <td>8822.0</td>\n",
       "      <td>68.4</td>\n",
       "      <td>6</td>\n",
       "      <td>Whole Funded</td>\n",
       "      <td>Individual</td>\n",
       "      <td>0.0</td>\n",
       "      <td>0.0</td>\n",
       "    </tr>\n",
       "  </tbody>\n",
       "</table>\n",
       "</div>"
      ],
      "text/plain": [
       "   loan_amnt  term (months)  int_rate  installment sub_grade  emp_length  \\\n",
       "0     3600.0             36     13.99       123.03        C4        10.0   \n",
       "1    24700.0             36     11.99       820.28        C1        10.0   \n",
       "2    20000.0             60     10.78       432.66        B4        10.0   \n",
       "3    10400.0             60     22.45       289.91        F1         3.0   \n",
       "4    11950.0             36     13.44       405.18        C3         4.0   \n",
       "\n",
       "  home_ownership  annual_inc verification_status   issue_d loan_status  \\\n",
       "0       MORTGAGE     55000.0        Not Verified  Dec-2015  Fully Paid   \n",
       "1       MORTGAGE     65000.0        Not Verified  Dec-2015  Fully Paid   \n",
       "2       MORTGAGE     63000.0        Not Verified  Dec-2015  Fully Paid   \n",
       "3       MORTGAGE    104433.0     Source Verified  Dec-2015  Fully Paid   \n",
       "4           RENT     34000.0     Source Verified  Dec-2015  Fully Paid   \n",
       "\n",
       "              purpose addr_state    dti  earliest_cr_line  fico_range_low  \\\n",
       "0  debt_consolidation         PA   5.91              2003             675   \n",
       "1      small_business         SD  16.06              1999             715   \n",
       "2    home_improvement         IL  10.78              2000             695   \n",
       "3      major_purchase         PA  25.37              1998             695   \n",
       "4  debt_consolidation         GA  10.20              1987             690   \n",
       "\n",
       "   fico_range_high  open_acc  pub_rec  revol_bal  revol_util  total_acc  \\\n",
       "0              679         7        0     2765.0        29.7         13   \n",
       "1              719        22        0    21470.0        19.2         38   \n",
       "2              699         6        0     7869.0        56.2         18   \n",
       "3              699        12        0    21929.0        64.5         35   \n",
       "4              694         5        0     8822.0        68.4          6   \n",
       "\n",
       "  initial_list_status application_type  mort_acc  pub_rec_bankruptcies  \n",
       "0        Whole Funded       Individual       1.0                   0.0  \n",
       "1        Whole Funded       Individual       4.0                   0.0  \n",
       "2        Whole Funded        Joint App       5.0                   0.0  \n",
       "3        Whole Funded       Individual       6.0                   0.0  \n",
       "4        Whole Funded       Individual       0.0                   0.0  "
      ]
     },
     "execution_count": 8,
     "metadata": {},
     "output_type": "execute_result"
    }
   ],
   "source": [
    "df.head()"
   ]
  },
  {
   "cell_type": "code",
   "execution_count": 9,
   "id": "184ef47d",
   "metadata": {},
   "outputs": [
    {
     "data": {
      "image/png": "[encoded data removed]",
      "text/plain": [
       "<Figure size 1000x800 with 2 Axes>"
      ]
     },
     "metadata": {},
     "output_type": "display_data"
    }
   ],
   "source": [
    "numerical_columns = df.select_dtypes(include=['int', 'float']).columns\n",
    "corr_matrix = df[numerical_columns].corr()\n",
    "plt.figure(figsize=(10, 8))\n",
    "sns.heatmap(corr_matrix, annot=True, cmap='coolwarm', fmt=\".2f\", linewidths=0.5)\n",
    "plt.title('Correlation Matrix Plot')\n",
    "plt.show()"
   ]
  },
  {
   "cell_type": "markdown",
   "id": "cd8aab44",
   "metadata": {},
   "source": [
    "1. installment and loan_amt show almost perfect correlation here\n",
    "2. AS expected monthly income and annual inc show perfect correlation\n",
    "3. open acc and total_acc high correlation\n",
    "4. pub_rec_bankruptcies and pub rec - pub_rec_bankruptcies was dropped\n"
   ]
  },
  {
   "cell_type": "markdown",
   "id": "eea1040a",
   "metadata": {},
   "source": [
    "## Exploratory Data Analysis"
   ]
  },
  {
   "cell_type": "markdown",
   "id": "11f89503",
   "metadata": {},
   "source": [
    "We begin by exploring each varibale, plot it and compare it with loan status"
   ]
  },
  {
   "cell_type": "code",
   "execution_count": 10,
   "id": "e5b7c282",
   "metadata": {},
   "outputs": [],
   "source": [
    "df1 = df.copy()\n",
    "df1['loan_status'] = pd.get_dummies(df1['loan_status'], drop_first=True)"
   ]
  },
  {
   "cell_type": "code",
   "execution_count": 11,
   "id": "d2a630f9",
   "metadata": {},
   "outputs": [
    {
     "data": {
      "text/html": [
       "<div>\n",
       "<style scoped>\n",
       "    .dataframe tbody tr th:only-of-type {\n",
       "        vertical-align: middle;\n",
       "    }\n",
       "\n",
       "    .dataframe tbody tr th {\n",
       "        vertical-align: top;\n",
       "    }\n",
       "\n",
       "    .dataframe thead th {\n",
       "        text-align: right;\n",
       "    }\n",
       "</style>\n",
       "<table border=\"1\" class=\"dataframe\">\n",
       "  <thead>\n",
       "    <tr style=\"text-align: right;\">\n",
       "      <th></th>\n",
       "      <th>loan_amnt</th>\n",
       "      <th>term (months)</th>\n",
       "      <th>int_rate</th>\n",
       "      <th>installment</th>\n",
       "      <th>sub_grade</th>\n",
       "      <th>emp_length</th>\n",
       "      <th>home_ownership</th>\n",
       "      <th>annual_inc</th>\n",
       "      <th>verification_status</th>\n",
       "      <th>issue_d</th>\n",
       "      <th>loan_status</th>\n",
       "      <th>purpose</th>\n",
       "      <th>addr_state</th>\n",
       "      <th>dti</th>\n",
       "      <th>earliest_cr_line</th>\n",
       "      <th>fico_range_low</th>\n",
       "      <th>fico_range_high</th>\n",
       "      <th>open_acc</th>\n",
       "      <th>pub_rec</th>\n",
       "      <th>revol_bal</th>\n",
       "      <th>revol_util</th>\n",
       "      <th>total_acc</th>\n",
       "      <th>initial_list_status</th>\n",
       "      <th>application_type</th>\n",
       "      <th>mort_acc</th>\n",
       "      <th>pub_rec_bankruptcies</th>\n",
       "    </tr>\n",
       "  </thead>\n",
       "  <tbody>\n",
       "    <tr>\n",
       "      <th>0</th>\n",
       "      <td>3600.0</td>\n",
       "      <td>36</td>\n",
       "      <td>13.99</td>\n",
       "      <td>123.03</td>\n",
       "      <td>C4</td>\n",
       "      <td>10.0</td>\n",
       "      <td>MORTGAGE</td>\n",
       "      <td>55000.0</td>\n",
       "      <td>Not Verified</td>\n",
       "      <td>Dec-2015</td>\n",
       "      <td>True</td>\n",
       "      <td>debt_consolidation</td>\n",
       "      <td>PA</td>\n",
       "      <td>5.91</td>\n",
       "      <td>2003</td>\n",
       "      <td>675</td>\n",
       "      <td>679</td>\n",
       "      <td>7</td>\n",
       "      <td>0</td>\n",
       "      <td>2765.0</td>\n",
       "      <td>29.7</td>\n",
       "      <td>13</td>\n",
       "      <td>Whole Funded</td>\n",
       "      <td>Individual</td>\n",
       "      <td>1.0</td>\n",
       "      <td>0.0</td>\n",
       "    </tr>\n",
       "    <tr>\n",
       "      <th>1</th>\n",
       "      <td>24700.0</td>\n",
       "      <td>36</td>\n",
       "      <td>11.99</td>\n",
       "      <td>820.28</td>\n",
       "      <td>C1</td>\n",
       "      <td>10.0</td>\n",
       "      <td>MORTGAGE</td>\n",
       "      <td>65000.0</td>\n",
       "      <td>Not Verified</td>\n",
       "      <td>Dec-2015</td>\n",
       "      <td>True</td>\n",
       "      <td>small_business</td>\n",
       "      <td>SD</td>\n",
       "      <td>16.06</td>\n",
       "      <td>1999</td>\n",
       "      <td>715</td>\n",
       "      <td>719</td>\n",
       "      <td>22</td>\n",
       "      <td>0</td>\n",
       "      <td>21470.0</td>\n",
       "      <td>19.2</td>\n",
       "      <td>38</td>\n",
       "      <td>Whole Funded</td>\n",
       "      <td>Individual</td>\n",
       "      <td>4.0</td>\n",
       "      <td>0.0</td>\n",
       "    </tr>\n",
       "    <tr>\n",
       "      <th>2</th>\n",
       "      <td>20000.0</td>\n",
       "      <td>60</td>\n",
       "      <td>10.78</td>\n",
       "      <td>432.66</td>\n",
       "      <td>B4</td>\n",
       "      <td>10.0</td>\n",
       "      <td>MORTGAGE</td>\n",
       "      <td>63000.0</td>\n",
       "      <td>Not Verified</td>\n",
       "      <td>Dec-2015</td>\n",
       "      <td>True</td>\n",
       "      <td>home_improvement</td>\n",
       "      <td>IL</td>\n",
       "      <td>10.78</td>\n",
       "      <td>2000</td>\n",
       "      <td>695</td>\n",
       "      <td>699</td>\n",
       "      <td>6</td>\n",
       "      <td>0</td>\n",
       "      <td>7869.0</td>\n",
       "      <td>56.2</td>\n",
       "      <td>18</td>\n",
       "      <td>Whole Funded</td>\n",
       "      <td>Joint App</td>\n",
       "      <td>5.0</td>\n",
       "      <td>0.0</td>\n",
       "    </tr>\n",
       "    <tr>\n",
       "      <th>3</th>\n",
       "      <td>10400.0</td>\n",
       "      <td>60</td>\n",
       "      <td>22.45</td>\n",
       "      <td>289.91</td>\n",
       "      <td>F1</td>\n",
       "      <td>3.0</td>\n",
       "      <td>MORTGAGE</td>\n",
       "      <td>104433.0</td>\n",
       "      <td>Source Verified</td>\n",
       "      <td>Dec-2015</td>\n",
       "      <td>True</td>\n",
       "      <td>major_purchase</td>\n",
       "      <td>PA</td>\n",
       "      <td>25.37</td>\n",
       "      <td>1998</td>\n",
       "      <td>695</td>\n",
       "      <td>699</td>\n",
       "      <td>12</td>\n",
       "      <td>0</td>\n",
       "      <td>21929.0</td>\n",
       "      <td>64.5</td>\n",
       "      <td>35</td>\n",
       "      <td>Whole Funded</td>\n",
       "      <td>Individual</td>\n",
       "      <td>6.0</td>\n",
       "      <td>0.0</td>\n",
       "    </tr>\n",
       "    <tr>\n",
       "      <th>4</th>\n",
       "      <td>11950.0</td>\n",
       "      <td>36</td>\n",
       "      <td>13.44</td>\n",
       "      <td>405.18</td>\n",
       "      <td>C3</td>\n",
       "      <td>4.0</td>\n",
       "      <td>RENT</td>\n",
       "      <td>34000.0</td>\n",
       "      <td>Source Verified</td>\n",
       "      <td>Dec-2015</td>\n",
       "      <td>True</td>\n",
       "      <td>debt_consolidation</td>\n",
       "      <td>GA</td>\n",
       "      <td>10.20</td>\n",
       "      <td>1987</td>\n",
       "      <td>690</td>\n",
       "      <td>694</td>\n",
       "      <td>5</td>\n",
       "      <td>0</td>\n",
       "      <td>8822.0</td>\n",
       "      <td>68.4</td>\n",
       "      <td>6</td>\n",
       "      <td>Whole Funded</td>\n",
       "      <td>Individual</td>\n",
       "      <td>0.0</td>\n",
       "      <td>0.0</td>\n",
       "    </tr>\n",
       "  </tbody>\n",
       "</table>\n",
       "</div>"
      ],
      "text/plain": [
       "   loan_amnt  term (months)  int_rate  installment sub_grade  emp_length  \\\n",
       "0     3600.0             36     13.99       123.03        C4        10.0   \n",
       "1    24700.0             36     11.99       820.28        C1        10.0   \n",
       "2    20000.0             60     10.78       432.66        B4        10.0   \n",
       "3    10400.0             60     22.45       289.91        F1         3.0   \n",
       "4    11950.0             36     13.44       405.18        C3         4.0   \n",
       "\n",
       "  home_ownership  annual_inc verification_status   issue_d  loan_status  \\\n",
       "0       MORTGAGE     55000.0        Not Verified  Dec-2015         True   \n",
       "1       MORTGAGE     65000.0        Not Verified  Dec-2015         True   \n",
       "2       MORTGAGE     63000.0        Not Verified  Dec-2015         True   \n",
       "3       MORTGAGE    104433.0     Source Verified  Dec-2015         True   \n",
       "4           RENT     34000.0     Source Verified  Dec-2015         True   \n",
       "\n",
       "              purpose addr_state    dti  earliest_cr_line  fico_range_low  \\\n",
       "0  debt_consolidation         PA   5.91              2003             675   \n",
       "1      small_business         SD  16.06              1999             715   \n",
       "2    home_improvement         IL  10.78              2000             695   \n",
       "3      major_purchase         PA  25.37              1998             695   \n",
       "4  debt_consolidation         GA  10.20              1987             690   \n",
       "\n",
       "   fico_range_high  open_acc  pub_rec  revol_bal  revol_util  total_acc  \\\n",
       "0              679         7        0     2765.0        29.7         13   \n",
       "1              719        22        0    21470.0        19.2         38   \n",
       "2              699         6        0     7869.0        56.2         18   \n",
       "3              699        12        0    21929.0        64.5         35   \n",
       "4              694         5        0     8822.0        68.4          6   \n",
       "\n",
       "  initial_list_status application_type  mort_acc  pub_rec_bankruptcies  \n",
       "0        Whole Funded       Individual       1.0                   0.0  \n",
       "1        Whole Funded       Individual       4.0                   0.0  \n",
       "2        Whole Funded        Joint App       5.0                   0.0  \n",
       "3        Whole Funded       Individual       6.0                   0.0  \n",
       "4        Whole Funded       Individual       0.0                   0.0  "
      ]
     },
     "execution_count": 11,
     "metadata": {},
     "output_type": "execute_result"
    }
   ],
   "source": [
    "df1.head()"
   ]
  },
  {
   "cell_type": "code",
   "execution_count": 12,
   "id": "776707e4",
   "metadata": {},
   "outputs": [
    {
     "name": "stdout",
     "output_type": "stream",
     "text": [
      "Non-numeric columns:\n",
      "['sub_grade', 'home_ownership', 'verification_status', 'issue_d', 'loan_status', 'purpose', 'addr_state', 'initial_list_status', 'application_type']\n"
     ]
    }
   ],
   "source": [
    "non_numeric_columns = df1.select_dtypes(exclude=['number']).columns.tolist()\n",
    "print(\"Non-numeric columns:\")\n",
    "print(non_numeric_columns)"
   ]
  },
  {
   "cell_type": "code",
   "execution_count": 13,
   "id": "232e21b8",
   "metadata": {},
   "outputs": [],
   "source": [
    "numeric_columns = df1.drop(columns=non_numeric_columns)"
   ]
  },
  {
   "cell_type": "code",
   "execution_count": 14,
   "id": "9e3c3b8f",
   "metadata": {},
   "outputs": [
    {
     "data": {
      "text/html": [
       "<div>\n",
       "<style scoped>\n",
       "    .dataframe tbody tr th:only-of-type {\n",
       "        vertical-align: middle;\n",
       "    }\n",
       "\n",
       "    .dataframe tbody tr th {\n",
       "        vertical-align: top;\n",
       "    }\n",
       "\n",
       "    .dataframe thead th {\n",
       "        text-align: right;\n",
       "    }\n",
       "</style>\n",
       "<table border=\"1\" class=\"dataframe\">\n",
       "  <thead>\n",
       "    <tr style=\"text-align: right;\">\n",
       "      <th></th>\n",
       "      <th>loan_amnt</th>\n",
       "      <th>term (months)</th>\n",
       "      <th>int_rate</th>\n",
       "      <th>installment</th>\n",
       "      <th>emp_length</th>\n",
       "      <th>annual_inc</th>\n",
       "      <th>dti</th>\n",
       "      <th>earliest_cr_line</th>\n",
       "      <th>fico_range_low</th>\n",
       "      <th>fico_range_high</th>\n",
       "      <th>open_acc</th>\n",
       "      <th>pub_rec</th>\n",
       "      <th>revol_bal</th>\n",
       "      <th>revol_util</th>\n",
       "      <th>total_acc</th>\n",
       "      <th>mort_acc</th>\n",
       "      <th>pub_rec_bankruptcies</th>\n",
       "    </tr>\n",
       "  </thead>\n",
       "  <tbody>\n",
       "    <tr>\n",
       "      <th>0</th>\n",
       "      <td>3600.0</td>\n",
       "      <td>36</td>\n",
       "      <td>13.99</td>\n",
       "      <td>123.03</td>\n",
       "      <td>10.0</td>\n",
       "      <td>55000.0</td>\n",
       "      <td>5.91</td>\n",
       "      <td>2003</td>\n",
       "      <td>675</td>\n",
       "      <td>679</td>\n",
       "      <td>7</td>\n",
       "      <td>0</td>\n",
       "      <td>2765.0</td>\n",
       "      <td>29.7</td>\n",
       "      <td>13</td>\n",
       "      <td>1.0</td>\n",
       "      <td>0.0</td>\n",
       "    </tr>\n",
       "    <tr>\n",
       "      <th>1</th>\n",
       "      <td>24700.0</td>\n",
       "      <td>36</td>\n",
       "      <td>11.99</td>\n",
       "      <td>820.28</td>\n",
       "      <td>10.0</td>\n",
       "      <td>65000.0</td>\n",
       "      <td>16.06</td>\n",
       "      <td>1999</td>\n",
       "      <td>715</td>\n",
       "      <td>719</td>\n",
       "      <td>22</td>\n",
       "      <td>0</td>\n",
       "      <td>21470.0</td>\n",
       "      <td>19.2</td>\n",
       "      <td>38</td>\n",
       "      <td>4.0</td>\n",
       "      <td>0.0</td>\n",
       "    </tr>\n",
       "    <tr>\n",
       "      <th>2</th>\n",
       "      <td>20000.0</td>\n",
       "      <td>60</td>\n",
       "      <td>10.78</td>\n",
       "      <td>432.66</td>\n",
       "      <td>10.0</td>\n",
       "      <td>63000.0</td>\n",
       "      <td>10.78</td>\n",
       "      <td>2000</td>\n",
       "      <td>695</td>\n",
       "      <td>699</td>\n",
       "      <td>6</td>\n",
       "      <td>0</td>\n",
       "      <td>7869.0</td>\n",
       "      <td>56.2</td>\n",
       "      <td>18</td>\n",
       "      <td>5.0</td>\n",
       "      <td>0.0</td>\n",
       "    </tr>\n",
       "    <tr>\n",
       "      <th>3</th>\n",
       "      <td>10400.0</td>\n",
       "      <td>60</td>\n",
       "      <td>22.45</td>\n",
       "      <td>289.91</td>\n",
       "      <td>3.0</td>\n",
       "      <td>104433.0</td>\n",
       "      <td>25.37</td>\n",
       "      <td>1998</td>\n",
       "      <td>695</td>\n",
       "      <td>699</td>\n",
       "      <td>12</td>\n",
       "      <td>0</td>\n",
       "      <td>21929.0</td>\n",
       "      <td>64.5</td>\n",
       "      <td>35</td>\n",
       "      <td>6.0</td>\n",
       "      <td>0.0</td>\n",
       "    </tr>\n",
       "    <tr>\n",
       "      <th>4</th>\n",
       "      <td>11950.0</td>\n",
       "      <td>36</td>\n",
       "      <td>13.44</td>\n",
       "      <td>405.18</td>\n",
       "      <td>4.0</td>\n",
       "      <td>34000.0</td>\n",
       "      <td>10.20</td>\n",
       "      <td>1987</td>\n",
       "      <td>690</td>\n",
       "      <td>694</td>\n",
       "      <td>5</td>\n",
       "      <td>0</td>\n",
       "      <td>8822.0</td>\n",
       "      <td>68.4</td>\n",
       "      <td>6</td>\n",
       "      <td>0.0</td>\n",
       "      <td>0.0</td>\n",
       "    </tr>\n",
       "  </tbody>\n",
       "</table>\n",
       "</div>"
      ],
      "text/plain": [
       "   loan_amnt  term (months)  int_rate  installment  emp_length  annual_inc  \\\n",
       "0     3600.0             36     13.99       123.03        10.0     55000.0   \n",
       "1    24700.0             36     11.99       820.28        10.0     65000.0   \n",
       "2    20000.0             60     10.78       432.66        10.0     63000.0   \n",
       "3    10400.0             60     22.45       289.91         3.0    104433.0   \n",
       "4    11950.0             36     13.44       405.18         4.0     34000.0   \n",
       "\n",
       "     dti  earliest_cr_line  fico_range_low  fico_range_high  open_acc  \\\n",
       "0   5.91              2003             675              679         7   \n",
       "1  16.06              1999             715              719        22   \n",
       "2  10.78              2000             695              699         6   \n",
       "3  25.37              1998             695              699        12   \n",
       "4  10.20              1987             690              694         5   \n",
       "\n",
       "   pub_rec  revol_bal  revol_util  total_acc  mort_acc  pub_rec_bankruptcies  \n",
       "0        0     2765.0        29.7         13       1.0                   0.0  \n",
       "1        0    21470.0        19.2         38       4.0                   0.0  \n",
       "2        0     7869.0        56.2         18       5.0                   0.0  \n",
       "3        0    21929.0        64.5         35       6.0                   0.0  \n",
       "4        0     8822.0        68.4          6       0.0                   0.0  "
      ]
     },
     "execution_count": 14,
     "metadata": {},
     "output_type": "execute_result"
    }
   ],
   "source": [
    "numeric_columns.head()"
   ]
  },
  {
   "cell_type": "code",
   "execution_count": 15,
   "id": "1e6cb433",
   "metadata": {},
   "outputs": [
    {
     "data": {
      "image/png": "[encoded data removed]",
      "text/plain": [
       "<Figure size 1200x720 with 1 Axes>"
      ]
     },
     "metadata": {},
     "output_type": "display_data"
    }
   ],
   "source": [
    "non_numeric_columns = ['sub_grade', 'home_ownership', 'verification_status', 'issue_d', 'purpose', 'addr_state', 'initial_list_status', 'application_type']\n",
    "\n",
    "# Filter out non-numeric columns\n",
    "numeric_columns = df1.drop(columns=non_numeric_columns)\n",
    "\n",
    "# Calculate the correlation\n",
    "correlation = numeric_columns.corr()['loan_status']\n",
    "\n",
    "# Plot the correlations\n",
    "plt.figure(figsize=(10, 6), dpi=120)\n",
    "correlation.sort_values().drop('loan_status').plot(kind='bar', cmap='coolwarm')\n",
    "plt.title('Correlation with loan_status for continuous features (non-numeric columns excluded)')\n",
    "plt.xticks(rotation=90)\n",
    "plt.show()\n",
    "\n",
    "\n",
    "#int_rate, fico_range_high and fico_range_low are highly correlated with loan_status compared to other features."
   ]
  },
  {
   "cell_type": "code",
   "execution_count": 16,
   "id": "18414706",
   "metadata": {},
   "outputs": [
    {
     "data": {
      "image/png": "[encoded data removed]",
      "text/plain": [
       "<Figure size 800x600 with 1 Axes>"
      ]
     },
     "metadata": {},
     "output_type": "display_data"
    }
   ],
   "source": [
    "# Plot the distribution of loan status\n",
    "plt.figure(figsize=(8, 6))\n",
    "sns.countplot(data=df, x='loan_status')\n",
    "plt.title('Distribution of Loan Status')\n",
    "plt.xlabel('Loan Status')\n",
    "plt.ylabel('Count')\n",
    "plt.xticks(rotation=45)\n",
    "plt.show()\n"
   ]
  },
  {
   "cell_type": "code",
   "execution_count": 17,
   "id": "66b5c534",
   "metadata": {},
   "outputs": [],
   "source": [
    "import numpy as np\n",
    "\n",
    "def visualize_each_variable(col_name, full_name, continuous, df):\n",
    "    \"\"\"\n",
    "    Visualize a variable with and without faceting on the loan status.\n",
    "    - col_name is the variable name in the dataframe\n",
    "    - full_name is the full variable name\n",
    "    - continuous is True if the variable is continuous, False otherwise\n",
    "    \"\"\"\n",
    "\n",
    "    f, (ax1, ax2) = plt.subplots(nrows=1, ncols=2, figsize=(12, 5), dpi=90)\n",
    "    \n",
    "     # Plot the variable without considering loan status\n",
    "    if continuous:\n",
    "        # For continuous variables, plot a histogram\n",
    "        sns.histplot(df.loc[df[col_name].notnull(), col_name], kde=False, ax=ax1)\n",
    "    else:\n",
    "        # For categorical variables, plot a countplot\n",
    "        sns.countplot(df[col_name], order=sorted(df[col_name].unique()), color='#5975A4', saturation=1, ax=ax1)\n",
    "    ax1.set_xlabel(full_name)  # Set the x-axis label\n",
    "    ax1.set_ylabel('Count')     # Set the y-axis label\n",
    "    ax1.set_title(full_name)    # Set the title of the plot\n",
    "\n",
    "    # Plot with loan status\n",
    "    if continuous:\n",
    "        sns.boxplot(x=col_name, y='loan_status', data=df, ax=ax2)\n",
    "        ax2.set_ylabel('')\n",
    "        ax2.set_title(full_name + ' by Loan Status')\n",
    "    else:\n",
    "        charge_off_rates = df.groupby(col_name)['loan_status'].value_counts(normalize=True).loc[:, 'Charged Off']\n",
    "        sns.barplot(x=charge_off_rates.index, y=charge_off_rates.values, color='#5975A4', saturation=1, ax=ax2)\n",
    "        ax2.set_ylabel('Fraction of Loans Charged-off')\n",
    "        ax2.set_title('Charge-off Rate by ' + full_name)\n",
    "    ax2.set_xlabel(full_name)\n",
    "    \n",
    "    plt.tight_layout()\n"
   ]
  },
  {
   "cell_type": "markdown",
   "id": "eabdbe8b",
   "metadata": {},
   "source": [
    "# Univariate Analyis"
   ]
  },
  {
   "cell_type": "markdown",
   "id": "359d6358",
   "metadata": {},
   "source": [
    "### 1. loan_amnt"
   ]
  },
  {
   "cell_type": "code",
   "execution_count": 18,
   "id": "2d355954",
   "metadata": {},
   "outputs": [
    {
     "data": {
      "text/plain": [
       "count    1.220092e+06\n",
       "mean     1.471203e+04\n",
       "std      8.764865e+03\n",
       "min      1.000000e+03\n",
       "25%      8.000000e+03\n",
       "50%      1.250000e+04\n",
       "75%      2.000000e+04\n",
       "max      4.000000e+04\n",
       "Name: loan_amnt, dtype: float64"
      ]
     },
     "execution_count": 18,
     "metadata": {},
     "output_type": "execute_result"
    }
   ],
   "source": [
    "df['loan_amnt'].describe()"
   ]
  },
  {
   "cell_type": "code",
   "execution_count": 19,
   "id": "16aa6817",
   "metadata": {},
   "outputs": [
    {
     "data": {
      "image/png": "[encoded data removed]",
      "text/plain": [
       "<Figure size 1560x650 with 1 Axes>"
      ]
     },
     "metadata": {},
     "output_type": "display_data"
    }
   ],
   "source": [
    "# Distribution of loan_amnt\n",
    "sns.set(style=\"whitegrid\")\n",
    "plt.figure(figsize=(12, 5), dpi =130)\n",
    "\n",
    "# Plot the distribution of annual income\n",
    "sns.kdeplot(df['loan_amnt'],shade= True,color='blue')\n",
    "\n",
    "# Add labels and title\n",
    "plt.xlabel('Loan Amount')\n",
    "plt.ylabel('Frequency')\n",
    "plt.title('Distribution of Loan Amount')\n",
    "\n",
    "# Show the plot\n",
    "plt.show()\n"
   ]
  },
  {
   "cell_type": "code",
   "execution_count": 20,
   "id": "d371353e",
   "metadata": {},
   "outputs": [
    {
     "data": {
      "text/html": [
       "<div>\n",
       "<style scoped>\n",
       "    .dataframe tbody tr th:only-of-type {\n",
       "        vertical-align: middle;\n",
       "    }\n",
       "\n",
       "    .dataframe tbody tr th {\n",
       "        vertical-align: top;\n",
       "    }\n",
       "\n",
       "    .dataframe thead th {\n",
       "        text-align: right;\n",
       "    }\n",
       "</style>\n",
       "<table border=\"1\" class=\"dataframe\">\n",
       "  <thead>\n",
       "    <tr style=\"text-align: right;\">\n",
       "      <th></th>\n",
       "      <th>count</th>\n",
       "      <th>mean</th>\n",
       "      <th>std</th>\n",
       "      <th>min</th>\n",
       "      <th>25%</th>\n",
       "      <th>50%</th>\n",
       "      <th>75%</th>\n",
       "      <th>max</th>\n",
       "    </tr>\n",
       "    <tr>\n",
       "      <th>loan_status</th>\n",
       "      <th></th>\n",
       "      <th></th>\n",
       "      <th></th>\n",
       "      <th></th>\n",
       "      <th></th>\n",
       "      <th></th>\n",
       "      <th></th>\n",
       "      <th></th>\n",
       "    </tr>\n",
       "  </thead>\n",
       "  <tbody>\n",
       "    <tr>\n",
       "      <th>Charged Off</th>\n",
       "      <td>240673.0</td>\n",
       "      <td>15959.770622</td>\n",
       "      <td>8829.782328</td>\n",
       "      <td>1000.0</td>\n",
       "      <td>9600.0</td>\n",
       "      <td>15000.0</td>\n",
       "      <td>21000.0</td>\n",
       "      <td>40000.0</td>\n",
       "    </tr>\n",
       "    <tr>\n",
       "      <th>Fully Paid</th>\n",
       "      <td>979419.0</td>\n",
       "      <td>14405.418391</td>\n",
       "      <td>8721.564037</td>\n",
       "      <td>1000.0</td>\n",
       "      <td>8000.0</td>\n",
       "      <td>12000.0</td>\n",
       "      <td>20000.0</td>\n",
       "      <td>40000.0</td>\n",
       "    </tr>\n",
       "  </tbody>\n",
       "</table>\n",
       "</div>"
      ],
      "text/plain": [
       "                count          mean          std     min     25%      50%  \\\n",
       "loan_status                                                                 \n",
       "Charged Off  240673.0  15959.770622  8829.782328  1000.0  9600.0  15000.0   \n",
       "Fully Paid   979419.0  14405.418391  8721.564037  1000.0  8000.0  12000.0   \n",
       "\n",
       "                 75%      max  \n",
       "loan_status                    \n",
       "Charged Off  21000.0  40000.0  \n",
       "Fully Paid   20000.0  40000.0  "
      ]
     },
     "execution_count": 20,
     "metadata": {},
     "output_type": "execute_result"
    }
   ],
   "source": [
    "df.groupby('loan_status')['loan_amnt'].describe()"
   ]
  },
  {
   "cell_type": "code",
   "execution_count": null,
   "id": "9aebca9f",
   "metadata": {},
   "outputs": [],
   "source": [
    "import matplotlib.patches as mpatches\n",
    "\n",
    "plt.figure(figsize=(12, 6))\n",
    "sns.boxplot(data=df, y='loan_status', x='loan_amnt', palette='viridis')\n",
    "\n",
    "# Calculate medians\n",
    "fully_paid_median = df[df['loan_status'] == 'Fully Paid']['loan_amnt'].median()\n",
    "charged_off_median = df[df['loan_status'] == 'Charged Off']['loan_amnt'].median()\n",
    "\n",
    "# Add median lines\n",
    "fully_paid_legend = mpatches.Patch(color='green', label=f'Fully Paid Median: {fully_paid_median:.2f}')\n",
    "charged_off_legend = mpatches.Patch(color='red', label=f'Charged Off Median: {charged_off_median:.2f}')\n",
    "plt.legend(handles=[fully_paid_legend, charged_off_legend])\n",
    "\n",
    "plt.xlabel('Loan Amount')\n",
    "plt.ylabel('Loan Status')\n",
    "plt.title('Violin Plot of Loan Amount by Loan Status')\n",
    "plt.show()"
   ]
  },
  {
   "cell_type": "markdown",
   "id": "ddabf8e2",
   "metadata": {},
   "source": [
    "We can observe that on an average the chances of charge off is higher if the loan_amount is higher"
   ]
  },
  {
   "cell_type": "markdown",
   "id": "7da1f5ed",
   "metadata": {},
   "source": [
    "### 2. term"
   ]
  },
  {
   "cell_type": "code",
   "execution_count": null,
   "id": "dfea45ac",
   "metadata": {},
   "outputs": [],
   "source": [
    "sns.countplot(data=df, x='term (months)')"
   ]
  },
  {
   "cell_type": "code",
   "execution_count": null,
   "id": "a32d08ec",
   "metadata": {},
   "outputs": [],
   "source": [
    "color_palette =  {'Charged Off': 'red', 'Fully Paid': 'green'} \n",
    "term_order = sorted(df['term (months)'].unique())\n",
    "sns.set(style=\"whitegrid\")\n",
    "plt.figure(figsize=(24, 6))\n",
    "\n",
    "sns.countplot(x='term (months)', data=df, order=term_order, hue='loan_status', palette=color_palette)\n",
    "\n",
    "plt.xlabel('term (months)', fontsize=14)\n",
    "plt.ylabel('Count', fontsize=14)\n",
    "plt.title('Distribution of term (months) with Loan Status', fontsize=16)\n",
    "\n",
    "plt.show()"
   ]
  },
  {
   "cell_type": "code",
   "execution_count": null,
   "id": "cbbf5f2d",
   "metadata": {},
   "outputs": [],
   "source": [
    "charged_off_counts = df[df['loan_status'] == \"Charged Off\"].groupby(\"term (months)\").size()\n",
    "fully_paid_counts = df[df['loan_status'] == \"Fully Paid\"].groupby(\"term (months)\").size()\n",
    "charged_off_percentage = (charged_off_counts * 100) / (charged_off_counts + fully_paid_counts)\n",
    "result_df = pd.DataFrame({'term (months)': charged_off_percentage.index, 'Percentage Charged Off': charged_off_percentage.values})\n",
    "result_df.reset_index(drop=True, inplace=True)\n",
    "display(result_df)\n"
   ]
  },
  {
   "cell_type": "code",
   "execution_count": null,
   "id": "bc4ba896",
   "metadata": {},
   "outputs": [],
   "source": [
    "term = pd.get_dummies(df['term (months)'],prefix='term', drop_first=True)\n",
    "df = pd.concat([df.drop('term (months)', axis=1), term], axis=1)"
   ]
  },
  {
   "cell_type": "markdown",
   "id": "fb6212da",
   "metadata": {},
   "source": [
    "### 4. int_rate "
   ]
  },
  {
   "cell_type": "code",
   "execution_count": null,
   "id": "1e6a5512",
   "metadata": {},
   "outputs": [],
   "source": [
    "df['int_rate'].describe()"
   ]
  },
  {
   "cell_type": "code",
   "execution_count": null,
   "id": "21e61f86",
   "metadata": {},
   "outputs": [],
   "source": [
    "# Distribution of int_rate\n",
    "sns.set(style=\"whitegrid\")\n",
    "plt.figure(figsize=(12, 5), dpi =130)\n",
    "\n",
    "# Plot the distribution of annual income\n",
    "sns.kdeplot(df['int_rate'],shade= True,color='blue')\n",
    "\n",
    "# Add labels and title\n",
    "plt.xlabel('Interest Rate')\n",
    "plt.ylabel('Frequency')\n",
    "plt.title('Distribution of Interest Rate')\n",
    "\n",
    "# Show the plot\n",
    "plt.show()\n"
   ]
  },
  {
   "cell_type": "code",
   "execution_count": null,
   "id": "c802ccab",
   "metadata": {},
   "outputs": [],
   "source": [
    "df.groupby('loan_status')['int_rate'].describe()"
   ]
  },
  {
   "cell_type": "code",
   "execution_count": null,
   "id": "1b8909cf",
   "metadata": {},
   "outputs": [],
   "source": [
    "import matplotlib.patches as mpatches\n",
    "\n",
    "plt.figure(figsize=(12, 6))\n",
    "sns.boxplot(data=df, y='loan_status', x='int_rate', palette='viridis')\n",
    "\n",
    "# Calculate medians\n",
    "fully_paid_median = df[df['loan_status'] == 'Fully Paid']['int_rate'].median()\n",
    "charged_off_median = df[df['loan_status'] == 'Charged Off']['int_rate'].median()\n",
    "\n",
    "# Add median lines\n",
    "fully_paid_legend = mpatches.Patch(color='green', label=f'Fully Paid Median: {fully_paid_median:.2f}')\n",
    "charged_off_legend = mpatches.Patch(color='red', label=f'Charged Off Median: {charged_off_median:.2f}')\n",
    "plt.legend(handles=[fully_paid_legend, charged_off_legend])\n",
    "\n",
    "plt.xlabel('Interest Rate')\n",
    "plt.ylabel('Loan Status')\n",
    "plt.title('Violin Plot of Interest Rate by Loan Status')\n",
    "plt.show()"
   ]
  },
  {
   "cell_type": "markdown",
   "id": "233f7d77",
   "metadata": {},
   "source": [
    "We can observe that the average interest rate is lower for fully paid loans compared to the chrged off ones"
   ]
  },
  {
   "cell_type": "markdown",
   "id": "a3119e22",
   "metadata": {},
   "source": [
    "### 7. sub_grade"
   ]
  },
  {
   "cell_type": "code",
   "execution_count": null,
   "id": "39df70a2",
   "metadata": {},
   "outputs": [],
   "source": [
    "# Distibution of sub_grade\n",
    "\n",
    "subgrade_order = sorted(df['sub_grade'].unique())\n",
    "\n",
    "color_palette = sns.color_palette(\"viridis\", len(subgrade_order))\n",
    "\n",
    "sns.set(style=\"whitegrid\")\n",
    "plt.figure(figsize=(12, 6))\n",
    "\n",
    "sns.countplot(x='sub_grade', data=df, order=subgrade_order, palette=color_palette)\n",
    "\n",
    "plt.xlabel('Sub Grade')\n",
    "plt.ylabel('Count')\n",
    "plt.title('Distribution of Sub Grade')\n",
    "\n",
    "\n",
    "plt.show()"
   ]
  },
  {
   "cell_type": "code",
   "execution_count": null,
   "id": "6064f10f",
   "metadata": {},
   "outputs": [],
   "source": [
    "color_palette =  {'Charged Off': 'red', 'Fully Paid': 'green'} \n",
    "\n",
    "sns.set(style=\"whitegrid\")\n",
    "plt.figure(figsize=(14, 6))\n",
    "\n",
    "sns.countplot(x='sub_grade', data=df, order=subgrade_order, hue='loan_status', palette=color_palette)\n",
    "\n",
    "plt.xlabel('Sub Grade', fontsize=14)\n",
    "plt.ylabel('Count', fontsize=14)\n",
    "plt.title('Distribution of Sub Grade with Loan Status', fontsize=16)\n",
    "\n",
    "plt.show()"
   ]
  },
  {
   "cell_type": "markdown",
   "id": "65724a76",
   "metadata": {},
   "source": [
    "It appears that loans associated with F and G subgrades have a lower rate of repayment. Let's focus on these subgrades and create a countplot specifically for them to gain further insight."
   ]
  },
  {
   "cell_type": "code",
   "execution_count": null,
   "id": "cd570a3d",
   "metadata": {},
   "outputs": [],
   "source": [
    "subgrade_order_f_g = sorted(df[df['sub_grade'].str.startswith(('F', 'G'))]['sub_grade'].unique())\n",
    "color_palette =  {'Charged Off': 'red', 'Fully Paid': 'green'} \n",
    "\n",
    "sns.set(style=\"whitegrid\")\n",
    "plt.figure(figsize=(14, 6))\n",
    "\n",
    "sns.countplot(x='sub_grade', data=df, order=subgrade_order_f_g, hue='loan_status', palette=color_palette)\n",
    "\n",
    "plt.xlabel('Sub Grade', fontsize=14)\n",
    "plt.ylabel('Count', fontsize=14)\n",
    "plt.title('Distribution of Sub Grade with Loan Status', fontsize=16)\n",
    "\n",
    "plt.show()"
   ]
  },
  {
   "cell_type": "markdown",
   "id": "9cbea4e8",
   "metadata": {},
   "source": [
    "Here we can clearly see that as subgrade progresses chance of getting paid back is lower. There is a pattern so we reatin this categorical variable"
   ]
  },
  {
   "cell_type": "code",
   "execution_count": null,
   "id": "8465b75d",
   "metadata": {},
   "outputs": [],
   "source": [
    "sub_grade = pd.get_dummies(df['sub_grade'], prefix = 'sub_grade', drop_first=True)\n",
    "df = pd.concat([df.drop('sub_grade', axis=1), sub_grade], axis=1)"
   ]
  },
  {
   "cell_type": "markdown",
   "id": "2ac90438",
   "metadata": {},
   "source": [
    "### 9. emp_length"
   ]
  },
  {
   "cell_type": "code",
   "execution_count": null,
   "id": "8754539e",
   "metadata": {},
   "outputs": [],
   "source": [
    "# Distibution of emp_length\n",
    "\n",
    "emp_length_order = [i for i in range(0, 11)]\n",
    "\n",
    "color_palette = sns.color_palette(\"coolwarm\", len(emp_length_order))\n",
    "\n",
    "sns.set(style=\"whitegrid\")\n",
    "plt.figure(figsize=(12, 6))\n",
    "\n",
    "sns.countplot(x='emp_length', data=df, order=emp_length_order, palette=color_palette)\n",
    "\n",
    "plt.xlabel('Employment Length')\n",
    "plt.ylabel('Count')\n",
    "plt.title('Distribution of Employment Length')\n",
    "\n",
    "# Rotating the x-axis labels \n",
    "plt.xticks(rotation=45)\n",
    "\n",
    "# We need to annotate the bars with their counts\n",
    "ax = plt.gca()\n",
    "for p in ax.patches:\n",
    "    ax.annotate(f'{p.get_height()}', (p.get_x() + p.get_width() / 2, p.get_height() + 100), ha='center')\n",
    "\n",
    "plt.show()"
   ]
  },
  {
   "cell_type": "code",
   "execution_count": null,
   "id": "839c490b",
   "metadata": {},
   "outputs": [],
   "source": [
    "color_palette =  {'Charged Off': 'red', 'Fully Paid': 'green'} \n",
    "\n",
    "sns.set(style=\"whitegrid\")\n",
    "plt.figure(figsize=(14, 6))\n",
    "\n",
    "sns.countplot(x='emp_length', data=df, order=emp_length_order, hue='loan_status', palette=color_palette)\n",
    "\n",
    "plt.xlabel('Employment Length', fontsize=14)\n",
    "plt.ylabel('Count', fontsize=14)\n",
    "plt.title('Distribution of Employment Length with Loan Status', fontsize=16)\n",
    "\n",
    "plt.xticks(rotation=45, fontsize=10)  \n",
    "\n",
    "ax = plt.gca()\n",
    "for p in ax.patches:\n",
    "    ax.annotate(f'{p.get_height()}', (p.get_x() + p.get_width() / 2, p.get_height() + 100), ha='center', fontsize=8)\n",
    "\n",
    "plt.show()"
   ]
  },
  {
   "cell_type": "markdown",
   "id": "08c69094",
   "metadata": {},
   "source": [
    "This does not show any pattern across different cateegories i.e the length of employment. So to get a better understanding lets see how % of people caharged of based on emp_length"
   ]
  },
  {
   "cell_type": "code",
   "execution_count": null,
   "id": "fcbaa8e2",
   "metadata": {},
   "outputs": [],
   "source": [
    "charged_off_counts = df[df['loan_status'] == \"Charged Off\"].groupby(\"emp_length\").size()\n",
    "fully_paid_counts = df[df['loan_status'] == \"Fully Paid\"].groupby(\"emp_length\").size()\n",
    "charged_off_percentage = (charged_off_counts * 100) / (charged_off_counts + fully_paid_counts)\n",
    "result_df = pd.DataFrame({'Employment Length': charged_off_percentage.index, 'Percentage Charged Off': charged_off_percentage.values})\n",
    "result_df.reset_index(drop=True, inplace=True)\n",
    "display(result_df)\n"
   ]
  },
  {
   "cell_type": "markdown",
   "id": "f79e80fc",
   "metadata": {},
   "source": [
    "Again from this we can see that there is no particular pattern which affects the loan status. Therefore we drop this off"
   ]
  },
  {
   "cell_type": "code",
   "execution_count": null,
   "id": "ce0a5009",
   "metadata": {},
   "outputs": [],
   "source": [
    "df = df.drop('emp_length', axis=1)\n"
   ]
  },
  {
   "cell_type": "markdown",
   "id": "e1f6847b",
   "metadata": {},
   "source": [
    "### 10. home_ownership"
   ]
  },
  {
   "cell_type": "code",
   "execution_count": null,
   "id": "c0f22b4d",
   "metadata": {},
   "outputs": [],
   "source": [
    "# Distibution of home_ownership\n",
    "\n",
    "color_palette = sns.color_palette(\"coolwarm\", len(df['home_ownership'].unique()))\n",
    "\n",
    "sns.set(style=\"whitegrid\")\n",
    "plt.figure(figsize=(12, 6))\n",
    "\n",
    "sns.countplot(x='home_ownership', data=df, palette=color_palette)\n",
    "\n",
    "plt.xlabel('Home Ownership')\n",
    "plt.ylabel('Count')\n",
    "plt.title('Distribution of Home Ownership')\n",
    "\n",
    "\n",
    "plt.show()"
   ]
  },
  {
   "cell_type": "code",
   "execution_count": null,
   "id": "af7cefae",
   "metadata": {},
   "outputs": [],
   "source": [
    "df['home_ownership'].value_counts()"
   ]
  },
  {
   "cell_type": "code",
   "execution_count": null,
   "id": "0d69e75f",
   "metadata": {},
   "outputs": [],
   "source": [
    "color_palette =  {'Charged Off': 'red', 'Fully Paid': 'green'} \n",
    "\n",
    "sns.set(style=\"whitegrid\")\n",
    "plt.figure(figsize=(14, 6))\n",
    "\n",
    "sns.countplot(x='home_ownership', data=df, hue='loan_status', palette=color_palette)\n",
    "\n",
    "plt.xlabel('Home Ownsership', fontsize=14)\n",
    "plt.ylabel('Count', fontsize=14)\n",
    "plt.title('Distribution of Home Ownership with Loan Status', fontsize=16)\n",
    "\n",
    "plt.show()"
   ]
  },
  {
   "cell_type": "code",
   "execution_count": null,
   "id": "ca3ff843",
   "metadata": {},
   "outputs": [],
   "source": [
    "# percentage charged off \n",
    "charged_off_counts = df[df['loan_status'] == \"Charged Off\"].groupby(\"home_ownership\").size()\n",
    "fully_paid_counts = df[df['loan_status'] == \"Fully Paid\"].groupby(\"home_ownership\").size()\n",
    "charged_off_percentage = (charged_off_counts * 100) / (charged_off_counts + fully_paid_counts)\n",
    "result_df = pd.DataFrame({'Hoem Ownership': charged_off_percentage.index, 'Percentage Charged Off': charged_off_percentage.values})\n",
    "result_df.reset_index(drop=True, inplace=True)\n",
    "display(result_df)\n"
   ]
  },
  {
   "cell_type": "markdown",
   "id": "0afdc6ff",
   "metadata": {},
   "source": [
    "We can clearly see that the chances of charge off is distinctive for each category and moreover charge off is less likely for applicants with own homes. Therefore we reatin thsi categorical variable and also as ther are only 4 categopries we perform ohe"
   ]
  },
  {
   "cell_type": "code",
   "execution_count": null,
   "id": "0b7d4bd0",
   "metadata": {},
   "outputs": [],
   "source": [
    "home_ownership = pd.get_dummies(df['home_ownership'],prefix='home', drop_first=True)\n",
    "df = pd.concat([df.drop('home_ownership', axis=1), home_ownership], axis=1)\n"
   ]
  },
  {
   "cell_type": "markdown",
   "id": "51db5f36",
   "metadata": {},
   "source": [
    "### 11. annual_inc"
   ]
  },
  {
   "cell_type": "code",
   "execution_count": null,
   "id": "88dba2eb",
   "metadata": {},
   "outputs": [],
   "source": [
    "# Distribution of annual_inc\n",
    "sns.set(style=\"whitegrid\")\n",
    "plt.figure(figsize=(12, 5), dpi =130)\n",
    "\n",
    "# Plot the distribution of annual income\n",
    "sns.histplot(df['annual_inc'],bins =500, kde= True,color='blue')\n",
    "\n",
    "# Add labels and title\n",
    "plt.xlabel('Annual Income')\n",
    "plt.ylabel('Frequency')\n",
    "plt.title('Distribution of Annual Income')\n",
    "\n",
    "# Show the plot\n",
    "plt.show()\n"
   ]
  },
  {
   "cell_type": "markdown",
   "id": "f22c0360",
   "metadata": {},
   "source": [
    "The salary distribution is highly skewed towards right. Let's find how many customers have annual_inc higher than $250k"
   ]
  },
  {
   "cell_type": "code",
   "execution_count": null,
   "id": "7f7cd224",
   "metadata": {},
   "outputs": [],
   "source": [
    "pd.options.display.float_format = '{:.2f}'.format\n",
    "description = df['annual_inc'].describe()\n",
    "print(description)"
   ]
  },
  {
   "cell_type": "code",
   "execution_count": null,
   "id": "338894aa",
   "metadata": {},
   "outputs": [],
   "source": [
    "num_above_250k = df[df['annual_inc'] > 250000].shape[0]\n",
    "\n",
    "# Total number of people\n",
    "total_people = df.shape[0]\n",
    "\n",
    "# Calculate the percentage\n",
    "percentage_above_250k = (num_above_250k / total_people) * 100\n",
    "\n",
    "print(\"Percentage of people with annual income greater than 250k: {:.2f}%\".format(percentage_above_250k))"
   ]
  },
  {
   "cell_type": "markdown",
   "id": "28b84f8f",
   "metadata": {},
   "source": [
    "Onbly 1% of the population have income greater than 250k - so we can drop these outliers"
   ]
  },
  {
   "cell_type": "code",
   "execution_count": null,
   "id": "78f50fcd",
   "metadata": {},
   "outputs": [],
   "source": [
    "df = df[df['annual_inc'] <= 250000]"
   ]
  },
  {
   "cell_type": "code",
   "execution_count": null,
   "id": "e424a630",
   "metadata": {},
   "outputs": [],
   "source": [
    "sns.set(style=\"whitegrid\")\n",
    "plt.figure(figsize=(12, 5), dpi =130)\n",
    "\n",
    "# Plot the distribution of annual income\n",
    "sns.histplot(df['annual_inc'], kde= True,color='blue')\n",
    "\n",
    "# Add labels and title\n",
    "plt.xlabel('Annual Income')\n",
    "plt.ylabel('Frequency')\n",
    "plt.title('Distribution of Annual Income')\n",
    "\n",
    "# Show the plot\n",
    "plt.show()\n"
   ]
  },
  {
   "cell_type": "markdown",
   "id": "8cf96380",
   "metadata": {},
   "source": [
    "Look much better less skewed"
   ]
  },
  {
   "cell_type": "code",
   "execution_count": null,
   "id": "14dfabbc",
   "metadata": {},
   "outputs": [],
   "source": [
    "\n",
    "sns.set_style(\"whitegrid\")\n",
    "plt.figure(figsize=(10, 5))\n",
    "sns.histplot(data=df, x='annual_inc', hue='loan_status', bins=100, kde=True, palette= {'Charged Off': 'red', 'Fully Paid': 'blue'})\n",
    "\n",
    "# Customize the plot further\n",
    "plt.xlabel('Annual Income', fontsize=14 )\n",
    "plt.ylabel('Frequency', fontsize=14, )\n",
    "plt.title('Distribution of Annual Income by Loan Status', fontsize=16, )\n",
    "\n",
    "# Show plot\n",
    "plt.show()\n"
   ]
  },
  {
   "cell_type": "code",
   "execution_count": null,
   "id": "641a9cb4",
   "metadata": {},
   "outputs": [],
   "source": [
    "df.groupby('loan_status')['annual_inc'].describe()"
   ]
  },
  {
   "cell_type": "markdown",
   "id": "962b6619",
   "metadata": {},
   "source": [
    "The mean annual_inc for customers who fully paid the loan and who did not differs by around $5500."
   ]
  },
  {
   "cell_type": "markdown",
   "id": "9c7aac15",
   "metadata": {},
   "source": [
    "### 12. verification_status"
   ]
  },
  {
   "cell_type": "code",
   "execution_count": null,
   "id": "77682a70",
   "metadata": {},
   "outputs": [],
   "source": [
    "#verification_status\n",
    "\n",
    "df['verification_status'].value_counts()"
   ]
  },
  {
   "cell_type": "code",
   "execution_count": null,
   "id": "a660808c",
   "metadata": {},
   "outputs": [],
   "source": [
    "# Distibution of home_ownership\n",
    "\n",
    "color_palette = sns.color_palette(\"coolwarm\", len(df['verification_status'].unique()))\n",
    "\n",
    "sns.set(style=\"whitegrid\")\n",
    "plt.figure(figsize=(24, 6))\n",
    "\n",
    "sns.countplot(x='verification_status', data=df, palette=color_palette)\n",
    "\n",
    "plt.xlabel('verification_status')\n",
    "plt.ylabel('Count')\n",
    "plt.title('Distribution of verification_status')\n",
    "\n",
    "plt.show()"
   ]
  },
  {
   "cell_type": "code",
   "execution_count": null,
   "id": "a2577f9c",
   "metadata": {},
   "outputs": [],
   "source": [
    "color_palette =  {'Charged Off': 'red', 'Fully Paid': 'green'} \n",
    "\n",
    "sns.set(style=\"whitegrid\")\n",
    "plt.figure(figsize=(14, 6))\n",
    "\n",
    "sns.countplot(x='verification_status', data=df, hue='loan_status', palette=color_palette)\n",
    "\n",
    "plt.xlabel('verification_status', fontsize=14)\n",
    "plt.ylabel('Count', fontsize=14)\n",
    "plt.title('Distribution of verification_status with Loan Status', fontsize=16)\n",
    "\n",
    "plt.show()"
   ]
  },
  {
   "cell_type": "code",
   "execution_count": null,
   "id": "25e228bb",
   "metadata": {},
   "outputs": [],
   "source": [
    "# percentage charged off \n",
    "charged_off_counts = df[df['loan_status'] == \"Charged Off\"].groupby(\"verification_status\").size()\n",
    "fully_paid_counts = df[df['loan_status'] == \"Fully Paid\"].groupby(\"verification_status\").size()\n",
    "charged_off_percentage = (charged_off_counts * 100) / (charged_off_counts + fully_paid_counts)\n",
    "result_df = pd.DataFrame({'verification_status': charged_off_percentage.index, 'Percentage Charged Off': charged_off_percentage.values})\n",
    "result_df.reset_index(drop=True, inplace=True)\n",
    "display(result_df)\n"
   ]
  },
  {
   "cell_type": "code",
   "execution_count": null,
   "id": "c2de1d0b",
   "metadata": {},
   "outputs": [],
   "source": [
    "verification_status = pd.get_dummies(df['verification_status'],prefix = 'vs', drop_first=True)\n",
    "df = pd.concat([df.drop('verification_status', axis=1), verification_status], axis=1)"
   ]
  },
  {
   "cell_type": "markdown",
   "id": "b93c693a",
   "metadata": {},
   "source": [
    "### 15. purpose"
   ]
  },
  {
   "cell_type": "code",
   "execution_count": null,
   "id": "7f2ca5e9",
   "metadata": {},
   "outputs": [],
   "source": [
    "len(df['purpose'].unique())"
   ]
  },
  {
   "cell_type": "code",
   "execution_count": null,
   "id": "3d0630a7",
   "metadata": {},
   "outputs": [],
   "source": [
    "# Distibution of home_ownership\n",
    "\n",
    "color_palette = sns.color_palette(\"coolwarm\", len(df['purpose'].unique()))\n",
    "\n",
    "sns.set(style=\"whitegrid\")\n",
    "plt.figure(figsize=(24, 6))\n",
    "\n",
    "sns.countplot(x='purpose', data=df, palette=color_palette)\n",
    "\n",
    "plt.xlabel('Purpose')\n",
    "plt.ylabel('Count')\n",
    "plt.title('Distribution of Purpose')\n",
    "\n",
    "plt.show()"
   ]
  },
  {
   "cell_type": "code",
   "execution_count": null,
   "id": "5961552a",
   "metadata": {},
   "outputs": [],
   "source": [
    "color_palette =  {'Charged Off': 'red', 'Fully Paid': 'green'} \n",
    "\n",
    "sns.set(style=\"whitegrid\")\n",
    "plt.figure(figsize=(14, 6))\n",
    "\n",
    "sns.countplot(x='purpose', data=df, hue='loan_status', palette=color_palette)\n",
    "\n",
    "plt.xlabel('purpose', fontsize=14)\n",
    "plt.ylabel('Count', fontsize=14)\n",
    "plt.title('Distribution of purpose with Loan Status', fontsize=16)\n",
    "\n",
    "plt.show()"
   ]
  },
  {
   "cell_type": "code",
   "execution_count": null,
   "id": "70fe93f1",
   "metadata": {},
   "outputs": [],
   "source": [
    "# percentage charged off \n",
    "charged_off_counts = df[df['loan_status'] == \"Charged Off\"].groupby(\"purpose\").size()\n",
    "fully_paid_counts = df[df['loan_status'] == \"Fully Paid\"].groupby(\"purpose\").size()\n",
    "charged_off_percentage = (charged_off_counts * 100) / (charged_off_counts + fully_paid_counts)\n",
    "result_df = pd.DataFrame({'purpose': charged_off_percentage.index, 'Percentage Charged Off': charged_off_percentage.values})\n",
    "result_df.reset_index(drop=True, inplace=True)\n",
    "display(result_df)\n"
   ]
  },
  {
   "cell_type": "code",
   "execution_count": null,
   "id": "9a687196",
   "metadata": {},
   "outputs": [],
   "source": [
    "purpose = pd.get_dummies(df['purpose'], prefix = 'purpose',drop_first=True)\n",
    "df = pd.concat([df.drop('purpose', axis=1), purpose], axis=1)"
   ]
  },
  {
   "cell_type": "markdown",
   "id": "8f2df0c2",
   "metadata": {},
   "source": [
    "### 21. and 22. fico_range_low and fico_range_high\n",
    "\n",
    "From the above correlation matrix we can see that these 2 features are highly correlated. So we explore their distribution"
   ]
  },
  {
   "cell_type": "code",
   "execution_count": null,
   "id": "87c19f51",
   "metadata": {},
   "outputs": [],
   "source": [
    "df['fico_range_high'].describe()"
   ]
  },
  {
   "cell_type": "code",
   "execution_count": null,
   "id": "6ea56c1d",
   "metadata": {},
   "outputs": [],
   "source": [
    "df['fico_range_low'].describe()"
   ]
  },
  {
   "cell_type": "markdown",
   "id": "93317e85",
   "metadata": {},
   "source": [
    "Both fico_range_high and fico_range_low exhibit comparable statistics. Therefore, we will utilize the average of both scores. and drop the individual scores"
   ]
  },
  {
   "cell_type": "code",
   "execution_count": null,
   "id": "6c2644bd",
   "metadata": {},
   "outputs": [],
   "source": [
    "df['fico_avg'] = (df['fico_range_high'] + df['fico_range_low']) / 2\n"
   ]
  },
  {
   "cell_type": "code",
   "execution_count": null,
   "id": "d39ca3fc",
   "metadata": {},
   "outputs": [],
   "source": [
    "df = df.drop(['fico_range_high', 'fico_range_low'], axis=1)"
   ]
  },
  {
   "cell_type": "code",
   "execution_count": null,
   "id": "e68f10c6",
   "metadata": {},
   "outputs": [],
   "source": [
    "import matplotlib.pyplot as plt\n",
    "\n",
    "# Plot KDE plot of FICO scores\n",
    "plt.figure(figsize=(10, 6))\n",
    "sns.kdeplot(df['fico_avg'], shade=True, color='green')\n",
    "plt.xlabel('FICO Avg Score')\n",
    "plt.ylabel('Density')\n",
    "plt.title('Distribution of FICO Avg Scores (KDE Plot)')\n",
    "plt.grid(True)\n",
    "plt.show()\n"
   ]
  },
  {
   "cell_type": "code",
   "execution_count": null,
   "id": "ad5a01d7",
   "metadata": {},
   "outputs": [],
   "source": [
    "import seaborn as sns\n",
    "\n",
    "# Plot KDE plots of FICO scores for fully paid and charged off loans\n",
    "plt.figure(figsize=(12, 6))\n",
    "\n",
    "sns.kdeplot(df[df['loan_status'] == 'Charged Off']['fico_avg'], shade=True, color='red', label='Charged Off', alpha=0.8)\n",
    "sns.kdeplot(df[df['loan_status'] == 'Fully Paid']['fico_avg'], shade=True, color='green', label='Fully Paid', alpha=0.8)\n",
    "\n",
    "plt.xlabel('FICO Avg Score')\n",
    "plt.ylabel('Density')\n",
    "plt.title('Distribution of FICO Scores by Loan Status (KDE Plot)')\n",
    "plt.legend()\n",
    "plt.grid(True)\n",
    "plt.show()\n"
   ]
  },
  {
   "cell_type": "code",
   "execution_count": null,
   "id": "1c63206a",
   "metadata": {},
   "outputs": [],
   "source": [
    "df.groupby('loan_status')['fico_avg'].describe()"
   ]
  },
  {
   "cell_type": "code",
   "execution_count": null,
   "id": "f83db5ff",
   "metadata": {},
   "outputs": [],
   "source": [
    "import matplotlib.patches as mpatches\n",
    "\n",
    "plt.figure(figsize=(12, 6))\n",
    "sns.boxplot(data=df, y='loan_status', x='fico_avg', palette='viridis')\n",
    "\n",
    "# Calculate medians\n",
    "fully_paid_median = df[df['loan_status'] == 'Fully Paid']['fico_avg'].median()\n",
    "charged_off_median = df[df['loan_status'] == 'Charged Off']['fico_avg'].median()\n",
    "\n",
    "# Add median lines\n",
    "fully_paid_legend = mpatches.Patch(color='green', label=f'Fully Paid Median: {fully_paid_median:.2f}')\n",
    "charged_off_legend = mpatches.Patch(color='red', label=f'Charged Off Median: {charged_off_median:.2f}')\n",
    "plt.legend(handles=[fully_paid_legend, charged_off_legend])\n",
    "\n",
    "plt.xlabel('Fico Avg Score')\n",
    "plt.ylabel('Loan Status')\n",
    "plt.title('Violin Plot of Fice Score by Loan Status')\n",
    "plt.show()"
   ]
  },
  {
   "cell_type": "markdown",
   "id": "8556335a",
   "metadata": {},
   "source": [
    "People with higher credit score have better repayment of loan"
   ]
  },
  {
   "cell_type": "markdown",
   "id": "9a9cfe54",
   "metadata": {},
   "source": [
    "### 23. open_acc"
   ]
  },
  {
   "cell_type": "code",
   "execution_count": null,
   "id": "4aedf01d",
   "metadata": {},
   "outputs": [],
   "source": [
    "\n",
    "df['open_acc'].describe()"
   ]
  },
  {
   "cell_type": "code",
   "execution_count": null,
   "id": "cc8fcc8c",
   "metadata": {},
   "outputs": [],
   "source": [
    "plt.figure(figsize=(24,4))\n",
    "plt.xticks(rotation=90)\n",
    "sns.countplot(data=df, x='open_acc')"
   ]
  },
  {
   "cell_type": "markdown",
   "id": "5249c896",
   "metadata": {},
   "source": [
    "Distribution is highly skewed to the right, there fore we remove try to remove outliers to make it less skewed"
   ]
  },
  {
   "cell_type": "code",
   "execution_count": null,
   "id": "bb53a118",
   "metadata": {},
   "outputs": [],
   "source": [
    "# try from 26, 30 , 35\n",
    "num_above_29 = df[df['open_acc'] > 29].shape[0]\n",
    "\n",
    "# Total number of people\n",
    "total_people = df.shape[0]\n",
    "\n",
    "# Calculate the percentage\n",
    "percentage_above_29 = (num_above_29 / total_people) * 100\n",
    "\n",
    "print(\"Percentage of people with open_acc greater than 29: {:.2f}%\".format(percentage_above_29))"
   ]
  },
  {
   "cell_type": "code",
   "execution_count": null,
   "id": "75613574",
   "metadata": {},
   "outputs": [],
   "source": [
    "df = df[df['open_acc'] <= 29]"
   ]
  },
  {
   "cell_type": "code",
   "execution_count": null,
   "id": "a3e12a35",
   "metadata": {},
   "outputs": [],
   "source": [
    "plt.figure(figsize=(24,4))\n",
    "plt.xticks(rotation=90)\n",
    "sns.countplot(data=df, x='open_acc')"
   ]
  },
  {
   "cell_type": "markdown",
   "id": "5c8a3cd5",
   "metadata": {},
   "source": [
    "### 24. pub_rec"
   ]
  },
  {
   "cell_type": "code",
   "execution_count": null,
   "id": "d973efb4",
   "metadata": {},
   "outputs": [],
   "source": [
    "df['pub_rec'].describe()"
   ]
  },
  {
   "cell_type": "code",
   "execution_count": null,
   "id": "24ee7a89",
   "metadata": {},
   "outputs": [],
   "source": [
    "plt.figure(figsize=(24,4))\n",
    "plt.xticks(rotation=90)\n",
    "sns.countplot(data=df, x='pub_rec')"
   ]
  },
  {
   "cell_type": "code",
   "execution_count": null,
   "id": "1f12a083",
   "metadata": {},
   "outputs": [],
   "source": [
    "# try from 2\n",
    "num_above_2 = df[df['pub_rec'] > 2].shape[0]\n",
    "\n",
    "# Total number of people\n",
    "total_people = df.shape[0]\n",
    "\n",
    "# Calculate the percentage\n",
    "percentage_above_2 = (num_above_2 / total_people) * 100\n",
    "\n",
    "print(\"Percentage of people with open_acc greater than 3: {:.2f}%\".format(percentage_above_2))"
   ]
  },
  {
   "cell_type": "code",
   "execution_count": null,
   "id": "ba7c4a11",
   "metadata": {},
   "outputs": [],
   "source": [
    "df = df[df['pub_rec'] <= 2]"
   ]
  },
  {
   "cell_type": "code",
   "execution_count": null,
   "id": "4e2cb8b0",
   "metadata": {},
   "outputs": [],
   "source": [
    "plt.figure(figsize=(24,4))\n",
    "plt.xticks(rotation=90)\n",
    "sns.countplot(data=df, x='pub_rec')"
   ]
  },
  {
   "cell_type": "code",
   "execution_count": null,
   "id": "2d372000",
   "metadata": {},
   "outputs": [],
   "source": [
    "df.groupby('loan_status')['pub_rec'].describe()"
   ]
  },
  {
   "cell_type": "markdown",
   "id": "6f46eb1d",
   "metadata": {},
   "source": [
    "There is slight difference in the average pub_rec for charged off and fully paid . We will retain thsi feature for now"
   ]
  },
  {
   "cell_type": "markdown",
   "id": "5660f870",
   "metadata": {},
   "source": [
    "### 25. revol_bal"
   ]
  },
  {
   "cell_type": "code",
   "execution_count": null,
   "id": "ba30d5be",
   "metadata": {},
   "outputs": [],
   "source": [
    "# Distribution of annual_inc\n",
    "sns.set(style=\"whitegrid\")\n",
    "plt.figure(figsize=(12, 5), dpi =130)\n",
    "\n",
    "# Plot the distribution of annual income\n",
    "sns.histplot(df['revol_bal'],bins =500, kde= True,color='blue')\n",
    "\n",
    "# Add labels and title\n",
    "plt.xlabel('REvol Balance')\n",
    "plt.ylabel('Frequency')\n",
    "plt.title('Distribution of revol_bal')\n",
    "\n",
    "# Show the plot\n",
    "plt.show()\n"
   ]
  },
  {
   "cell_type": "markdown",
   "id": "9d004ca0",
   "metadata": {},
   "source": [
    "The revol_bal distribution is highly skewed towards right. "
   ]
  },
  {
   "cell_type": "code",
   "execution_count": null,
   "id": "91b9edef",
   "metadata": {},
   "outputs": [],
   "source": [
    "pd.options.display.float_format = '{:.2f}'.format\n",
    "description = df['revol_bal'].describe()\n",
    "print(description)"
   ]
  },
  {
   "cell_type": "code",
   "execution_count": null,
   "id": "426210d7",
   "metadata": {},
   "outputs": [],
   "source": [
    "num_above_100k = df[df['revol_bal'] > 100000].shape[0]\n",
    "\n",
    "# Total number of people\n",
    "total_people = df.shape[0]\n",
    "\n",
    "# Calculate the percentage\n",
    "percentage_above_100k = (num_above_100k / total_people) * 100\n",
    "\n",
    "print(\"Percentage of people with revol_bal greater than 100k: {:.2f}%\".format(percentage_above_100k))"
   ]
  },
  {
   "cell_type": "code",
   "execution_count": null,
   "id": "87060f4a",
   "metadata": {},
   "outputs": [],
   "source": [
    "df = df[df['revol_bal'] <= 100000]"
   ]
  },
  {
   "cell_type": "code",
   "execution_count": null,
   "id": "1b612a08",
   "metadata": {},
   "outputs": [],
   "source": [
    "# Distribution of annual_inc\n",
    "sns.set(style=\"whitegrid\")\n",
    "plt.figure(figsize=(12, 5), dpi =130)\n",
    "\n",
    "# Plot the distribution of annual income\n",
    "sns.histplot(df['revol_bal'],bins =500, kde= True,color='blue')\n",
    "\n",
    "# Add labels and title\n",
    "plt.xlabel('REvol Balance')\n",
    "plt.ylabel('Frequency')\n",
    "plt.title('Distribution of revol_bal')\n",
    "\n",
    "# Show the plot\n",
    "plt.show()\n"
   ]
  },
  {
   "cell_type": "code",
   "execution_count": null,
   "id": "2e4067a1",
   "metadata": {},
   "outputs": [],
   "source": [
    "\n",
    "sns.set_style(\"whitegrid\")\n",
    "plt.figure(figsize=(10, 5))\n",
    "sns.histplot(data=df, x='revol_bal', hue='loan_status', bins=100, kde=True, palette= {'Charged Off': 'red', 'Fully Paid': 'blue'})\n",
    "\n",
    "# Customize the plot further\n",
    "plt.xlabel('revol_bal', fontsize=14 )\n",
    "plt.ylabel('Frequency', fontsize=14, )\n",
    "plt.title('Distribution of revol_bal by Loan Status', fontsize=16, )\n",
    "\n",
    "# Show plot\n",
    "plt.show()\n"
   ]
  },
  {
   "cell_type": "markdown",
   "id": "2256fd8e",
   "metadata": {},
   "source": [
    "lower the the balance higher the chance ofd charge off"
   ]
  },
  {
   "cell_type": "markdown",
   "id": "5fe27484",
   "metadata": {},
   "source": [
    "### 26. revol_util"
   ]
  },
  {
   "cell_type": "code",
   "execution_count": null,
   "id": "e27285bb",
   "metadata": {},
   "outputs": [],
   "source": [
    "# Distribution of annual_inc\n",
    "sns.set(style=\"whitegrid\")\n",
    "plt.figure(figsize=(12, 5), dpi =130)\n",
    "\n",
    "# Plot the distribution of annual income\n",
    "sns.histplot(df['revol_util'],bins =500, kde= True,color='blue')\n",
    "\n",
    "# Add labels and title\n",
    "plt.xlabel('REvol Util')\n",
    "plt.ylabel('Frequency')\n",
    "plt.title('Distribution of revol_util')\n",
    "\n",
    "# Show the plot\n",
    "plt.show()\n"
   ]
  },
  {
   "cell_type": "markdown",
   "id": "983a69f0",
   "metadata": {},
   "source": [
    "The revol_bal distribution is highly skewed towards right. "
   ]
  },
  {
   "cell_type": "code",
   "execution_count": null,
   "id": "577e3be6",
   "metadata": {},
   "outputs": [],
   "source": [
    "pd.options.display.float_format = '{:.2f}'.format\n",
    "description = df['revol_util'].describe()\n",
    "print(description)"
   ]
  },
  {
   "cell_type": "code",
   "execution_count": null,
   "id": "7fcb1ada",
   "metadata": {},
   "outputs": [],
   "source": [
    "num_above_100k = df[df['revol_util'] > 100].shape[0]\n",
    "\n",
    "# Total number of people\n",
    "total_people = df.shape[0]\n",
    "\n",
    "# Calculate the percentage\n",
    "percentage_above_100k = (num_above_100k / total_people) * 100\n",
    "\n",
    "print(\"Percentage of people with revol_bal greater than 100: {:.2f}%\".format(percentage_above_100k))"
   ]
  },
  {
   "cell_type": "code",
   "execution_count": null,
   "id": "ab7b4d2a",
   "metadata": {},
   "outputs": [],
   "source": [
    "df = df[df['revol_util'] <= 100]"
   ]
  },
  {
   "cell_type": "code",
   "execution_count": null,
   "id": "f7d44d02",
   "metadata": {},
   "outputs": [],
   "source": [
    "\n",
    "sns.set_style(\"whitegrid\")\n",
    "plt.figure(figsize=(10, 5))\n",
    "sns.histplot(data=df, x='revol_util', hue='loan_status', bins=100, kde=True, palette= {'Charged Off': 'red', 'Fully Paid': 'blue'})\n",
    "\n",
    "# Customize the plot further\n",
    "plt.xlabel('revol_util', fontsize=14 )\n",
    "plt.ylabel('Frequency', fontsize=14, )\n",
    "plt.title('Distribution of revol_util by Loan Status', fontsize=16, )\n",
    "\n",
    "# Show plot\n",
    "plt.show()\n"
   ]
  },
  {
   "cell_type": "markdown",
   "id": "9d0396d3",
   "metadata": {},
   "source": [
    "much better"
   ]
  },
  {
   "cell_type": "markdown",
   "id": "aa7f4795",
   "metadata": {},
   "source": [
    "### 27. total_acc"
   ]
  },
  {
   "cell_type": "code",
   "execution_count": null,
   "id": "32862b4d",
   "metadata": {},
   "outputs": [],
   "source": [
    "\n",
    "df['total_acc'].describe()"
   ]
  },
  {
   "cell_type": "code",
   "execution_count": null,
   "id": "37118aed",
   "metadata": {},
   "outputs": [],
   "source": [
    "plt.figure(figsize=(24,4))\n",
    "plt.xticks(rotation=90)\n",
    "sns.countplot(data=df, x='total_acc')"
   ]
  },
  {
   "cell_type": "markdown",
   "id": "5e65a6f5",
   "metadata": {},
   "source": [
    "Distribution is highly skewed to the right, there fore we remove try to remove outliers to make it less skewed"
   ]
  },
  {
   "cell_type": "code",
   "execution_count": null,
   "id": "6cf1981e",
   "metadata": {},
   "outputs": [],
   "source": [
    "# try from 63\n",
    "num_above_60 = df[df['total_acc'] > 60].shape[0]\n",
    "\n",
    "# Total number of people\n",
    "total_people = df.shape[0]\n",
    "\n",
    "# Calculate the percentage\n",
    "percentage_above_60 = (num_above_60 / total_people) * 100\n",
    "\n",
    "print(\"Percentage of people with mortgage accounts greater than 8: {:.2f}%\".format(percentage_above_60))"
   ]
  },
  {
   "cell_type": "markdown",
   "id": "f57b7fcd",
   "metadata": {},
   "source": [
    "Lets drop all records where the total_acc is > 60"
   ]
  },
  {
   "cell_type": "code",
   "execution_count": null,
   "id": "9890b63f",
   "metadata": {},
   "outputs": [],
   "source": [
    "df = df[df['total_acc'] <= 60]"
   ]
  },
  {
   "cell_type": "code",
   "execution_count": null,
   "id": "b745a02d",
   "metadata": {},
   "outputs": [],
   "source": [
    "plt.figure(figsize=(24,4))\n",
    "plt.xticks(rotation=90)\n",
    "sns.countplot(data=df, x='total_acc')"
   ]
  },
  {
   "cell_type": "markdown",
   "id": "da1d5a04",
   "metadata": {},
   "source": [
    "Much Better"
   ]
  },
  {
   "cell_type": "code",
   "execution_count": null,
   "id": "95177160",
   "metadata": {},
   "outputs": [],
   "source": [
    "color_palette =  {'Charged Off': 'red', 'Fully Paid': 'green'} \n",
    "\n",
    "sns.set(style=\"whitegrid\")\n",
    "plt.figure(figsize=(14, 6))\n",
    "\n",
    "sns.countplot(x='total_acc', data=df, hue='loan_status', palette=color_palette)\n",
    "\n",
    "plt.xlabel('Total Accounts', fontsize=14)\n",
    "plt.ylabel('Count', fontsize=14)\n",
    "plt.title('Distribution of Total Accounts with Loan Status', fontsize=16)\n",
    "\n",
    "plt.show()"
   ]
  },
  {
   "cell_type": "code",
   "execution_count": null,
   "id": "fc74fb21",
   "metadata": {},
   "outputs": [],
   "source": [
    "df.groupby('loan_status')['total_acc'].describe()"
   ]
  },
  {
   "cell_type": "markdown",
   "id": "9bb7afeb",
   "metadata": {},
   "source": [
    "### 28. initial_list_status"
   ]
  },
  {
   "cell_type": "code",
   "execution_count": null,
   "id": "c3147961",
   "metadata": {},
   "outputs": [],
   "source": [
    "# Distibution of initial_list_status\n",
    "\n",
    "color_palette = sns.color_palette(\"coolwarm\", len(emp_length_order))\n",
    "\n",
    "sns.set(style=\"whitegrid\")\n",
    "plt.figure(figsize=(12, 6))\n",
    "\n",
    "sns.countplot(x='initial_list_status', data=df, palette=color_palette)\n",
    "\n",
    "plt.xlabel('Initial List Status')\n",
    "plt.ylabel('Count')\n",
    "plt.title('Distribution of Initial List Status')\n",
    "\n",
    "plt.show()"
   ]
  },
  {
   "cell_type": "code",
   "execution_count": null,
   "id": "edea4101",
   "metadata": {},
   "outputs": [],
   "source": [
    "df['initial_list_status'].value_counts()"
   ]
  },
  {
   "cell_type": "code",
   "execution_count": null,
   "id": "72259420",
   "metadata": {},
   "outputs": [],
   "source": [
    "color_palette =  {'Charged Off': 'red', 'Fully Paid': 'green'} \n",
    "\n",
    "sns.set(style=\"whitegrid\")\n",
    "plt.figure(figsize=(14, 6))\n",
    "\n",
    "sns.countplot(x='initial_list_status', data=df, hue='loan_status', palette=color_palette)\n",
    "\n",
    "plt.xlabel('Initial List Status')\n",
    "plt.ylabel('Count', fontsize=14)\n",
    "plt.title('Distribution of Initial List Status with Loan Status', fontsize=16)\n",
    "\n",
    "plt.show()"
   ]
  },
  {
   "cell_type": "code",
   "execution_count": null,
   "id": "249464b8",
   "metadata": {},
   "outputs": [],
   "source": [
    "# percentage charged off \n",
    "charged_off_counts = df[df['loan_status'] == \"Charged Off\"].groupby(\"initial_list_status\").size()\n",
    "fully_paid_counts = df[df['loan_status'] == \"Fully Paid\"].groupby(\"initial_list_status\").size()\n",
    "charged_off_percentage = (charged_off_counts * 100) / (charged_off_counts + fully_paid_counts)\n",
    "result_df = pd.DataFrame({'Initial_list_Status': charged_off_percentage.index, 'Percentage Charged Off': charged_off_percentage.values})\n",
    "result_df.reset_index(drop=True, inplace=True)\n",
    "display(result_df)\n"
   ]
  },
  {
   "cell_type": "markdown",
   "id": "1eef268f",
   "metadata": {},
   "source": [
    "percentage charged off based on init_list_status is almost similar so this may not aid us in identifying charge off or defaults. therfore we drop this column"
   ]
  },
  {
   "cell_type": "code",
   "execution_count": null,
   "id": "4fde9cf9",
   "metadata": {},
   "outputs": [],
   "source": [
    "df = df.drop('initial_list_status', axis=1)"
   ]
  },
  {
   "cell_type": "markdown",
   "id": "f85fb873",
   "metadata": {},
   "source": [
    "### 29. application_type"
   ]
  },
  {
   "cell_type": "code",
   "execution_count": null,
   "id": "4641df36",
   "metadata": {},
   "outputs": [],
   "source": [
    "# Distibution of application_type\n",
    "\n",
    "color_palette = sns.color_palette(\"coolwarm\", len(emp_length_order))\n",
    "\n",
    "sns.set(style=\"whitegrid\")\n",
    "plt.figure(figsize=(12, 6))\n",
    "\n",
    "sns.countplot(x='application_type', data=df, palette=color_palette)\n",
    "\n",
    "plt.xlabel('Application Type')\n",
    "plt.ylabel('Count')\n",
    "plt.title('Distribution of Application Type')\n",
    "\n",
    "plt.show()"
   ]
  },
  {
   "cell_type": "code",
   "execution_count": null,
   "id": "c31c5ba7",
   "metadata": {},
   "outputs": [],
   "source": [
    "df['application_type'].value_counts()"
   ]
  },
  {
   "cell_type": "code",
   "execution_count": null,
   "id": "d06a4866",
   "metadata": {},
   "outputs": [],
   "source": [
    "color_palette =  {'Charged Off': 'red', 'Fully Paid': 'green'} \n",
    "\n",
    "sns.set(style=\"whitegrid\")\n",
    "plt.figure(figsize=(14, 6))\n",
    "\n",
    "sns.countplot(x='application_type', data=df, hue='loan_status', palette=color_palette)\n",
    "\n",
    "plt.xlabel('Application Type', fontsize=14)\n",
    "plt.ylabel('Count', fontsize=14)\n",
    "plt.title('Distribution of Application Type with Loan Status', fontsize=16)\n",
    "\n",
    "plt.show()"
   ]
  },
  {
   "cell_type": "code",
   "execution_count": null,
   "id": "e157b756",
   "metadata": {},
   "outputs": [],
   "source": [
    "# percentage charged off \n",
    "charged_off_counts = df[df['loan_status'] == \"Charged Off\"].groupby(\"application_type\").size()\n",
    "fully_paid_counts = df[df['loan_status'] == \"Fully Paid\"].groupby(\"application_type\").size()\n",
    "charged_off_percentage = (charged_off_counts * 100) / (charged_off_counts + fully_paid_counts)\n",
    "result_df = pd.DataFrame({'Application Type': charged_off_percentage.index, 'Percentage Charged Off': charged_off_percentage.values})\n",
    "result_df.reset_index(drop=True, inplace=True)\n",
    "display(result_df)\n"
   ]
  },
  {
   "cell_type": "markdown",
   "id": "0bab7f35",
   "metadata": {},
   "source": [
    "We can clearly see there is a ditiction in loan status based on application_type. So we plan to retain the categorical variable"
   ]
  },
  {
   "cell_type": "code",
   "execution_count": null,
   "id": "e88584f7",
   "metadata": {},
   "outputs": [],
   "source": [
    "application_type = pd.get_dummies(df['application_type'], prefix = 'app', drop_first=True)\n",
    "df = pd.concat([df.drop('application_type', axis=1), application_type], axis=1)\n"
   ]
  },
  {
   "cell_type": "markdown",
   "id": "65a919fe",
   "metadata": {},
   "source": [
    "### 30. mort_acc"
   ]
  },
  {
   "cell_type": "code",
   "execution_count": null,
   "id": "47f81e1a",
   "metadata": {},
   "outputs": [],
   "source": [
    "df['mort_acc'].describe()"
   ]
  },
  {
   "cell_type": "code",
   "execution_count": null,
   "id": "42a5183d",
   "metadata": {},
   "outputs": [],
   "source": [
    "plt.figure(figsize=(12,6))\n",
    "sns.countplot(data=df, x='mort_acc', palette='viridis')\n",
    "plt.xlabel('Mortgage Accounts')\n",
    "plt.ylabel('Frequency')\n",
    "plt.title('Distribution of Mortgage Accounts')\n",
    "plt.show()"
   ]
  },
  {
   "cell_type": "markdown",
   "id": "2c7a63c1",
   "metadata": {},
   "source": [
    "Mortgage accounts is highly skewed from the right side. In order to handle this we will remove the outliers"
   ]
  },
  {
   "cell_type": "code",
   "execution_count": null,
   "id": "7a310d6d",
   "metadata": {},
   "outputs": [],
   "source": [
    "# checked for 10, 9, 8 = 0.68% , 7 = 1.30 # Lets remove 8 and \n",
    "num_above_8 = df[df['mort_acc'] > 8].shape[0]\n",
    "\n",
    "# Total number of people\n",
    "total_people = df.shape[0]\n",
    "\n",
    "# Calculate the percentage\n",
    "percentage_above_8 = (num_above_8 / total_people) * 100\n",
    "\n",
    "print(\"Percentage of people with mortgage accounts greater than 8: {:.2f}%\".format(percentage_above_8))"
   ]
  },
  {
   "cell_type": "code",
   "execution_count": null,
   "id": "41cd7334",
   "metadata": {},
   "outputs": [],
   "source": [
    "df = df[df['mort_acc'] < 9]"
   ]
  },
  {
   "cell_type": "code",
   "execution_count": null,
   "id": "b1fc2419",
   "metadata": {},
   "outputs": [],
   "source": [
    "plt.figure(figsize=(12,6))\n",
    "sns.countplot(data=df, x='mort_acc', palette='viridis')\n",
    "plt.xlabel('Mortgage Accounts')\n",
    "plt.ylabel('Frequency')\n",
    "plt.title('Distribution of Mortgage Accounts')\n",
    "plt.show()"
   ]
  },
  {
   "cell_type": "code",
   "execution_count": null,
   "id": "991402b0",
   "metadata": {},
   "outputs": [],
   "source": [
    "import matplotlib.patches as mpatches\n",
    "\n",
    "plt.figure(figsize=(12, 6))\n",
    "sns.boxplot(data=df, y='loan_status', x='mort_acc', palette='viridis')\n",
    "\n",
    "# Calculate medians\n",
    "fully_paid_median = df[df['loan_status'] == 'Fully Paid']['mort_acc'].median()\n",
    "charged_off_median = df[df['loan_status'] == 'Charged Off']['mort_acc'].median()\n",
    "\n",
    "# Add median lines\n",
    "fully_paid_legend = mpatches.Patch(color='green', label=f'Fully Paid Median: {fully_paid_median:.2f}')\n",
    "charged_off_legend = mpatches.Patch(color='red', label=f'Charged Off Median: {charged_off_median:.2f}')\n",
    "plt.legend(handles=[fully_paid_legend, charged_off_legend])\n",
    "\n",
    "plt.xlabel('Number of Mortgage accounts')\n",
    "plt.ylabel('Loan Status')\n",
    "plt.title('Violin Plot of Mortgage accounts by Loan Status')\n",
    "plt.show()"
   ]
  },
  {
   "cell_type": "markdown",
   "id": "6ab94f38",
   "metadata": {},
   "source": [
    "Not very clear, though the median is same...I intend to keep it for further analysis"
   ]
  },
  {
   "cell_type": "markdown",
   "id": "ec22f5b4",
   "metadata": {},
   "source": [
    "### 31. pub_rec_bankruptcies"
   ]
  },
  {
   "cell_type": "code",
   "execution_count": null,
   "id": "88b8b004",
   "metadata": {},
   "outputs": [],
   "source": [
    "numeric_columns = df.select_dtypes(include=[np.number])\n",
    "correlation_values = abs(numeric_columns.corr()['pub_rec_bankruptcies']).sort_values(ascending=False)[1:5]\n",
    "display(correlation_values)"
   ]
  },
  {
   "cell_type": "markdown",
   "id": "fc068b45",
   "metadata": {},
   "source": [
    "The correlation has increase with further cleaning and preprocessing"
   ]
  },
  {
   "cell_type": "code",
   "execution_count": null,
   "id": "481212d9",
   "metadata": {},
   "outputs": [],
   "source": [
    "plt.figure(figsize=(12,6))\n",
    "sns.countplot(data=df, x='pub_rec_bankruptcies', palette='viridis')\n",
    "plt.xlabel('pub_rec_bankruptcies')\n",
    "plt.ylabel('Frequency')\n",
    "plt.title('Distribution of pub_rec_bankruptcies')\n",
    "plt.show()"
   ]
  },
  {
   "cell_type": "markdown",
   "id": "5003481f",
   "metadata": {},
   "source": [
    "Dropping pub_rec_bankruptcies as it is highly correlated to pub_rec"
   ]
  },
  {
   "cell_type": "code",
   "execution_count": null,
   "id": "9686cb2d",
   "metadata": {},
   "outputs": [],
   "source": [
    "df = df.drop('pub_rec_bankruptcies', axis=1)"
   ]
  },
  {
   "cell_type": "code",
   "execution_count": null,
   "id": "2b593a20",
   "metadata": {},
   "outputs": [],
   "source": [
    "df.head()"
   ]
  },
  {
   "cell_type": "code",
   "execution_count": null,
   "id": "0713c191",
   "metadata": {},
   "outputs": [],
   "source": []
  }
 ],
 "metadata": {
  "kernelspec": {
   "display_name": "Python 3.10 (tensorflow)",
   "language": "python",
   "name": "tensorflow"
  },
  "language_info": {
   "codemirror_mode": {
    "name": "ipython",
    "version": 3
   },
   "file_extension": ".py",
   "mimetype": "text/x-python",
   "name": "python",
   "nbconvert_exporter": "python",
   "pygments_lexer": "ipython3",
   "version": "3.10.13"
  }
 },
 "nbformat": 4,
 "nbformat_minor": 5
}
