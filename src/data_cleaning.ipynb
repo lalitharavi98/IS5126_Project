{
 "cells": [
  {
   "cell_type": "code",
   "execution_count": 84,
   "id": "f0212840",
   "metadata": {},
   "outputs": [
    {
     "name": "stdout",
     "output_type": "stream",
     "text": [
      "Requirement already satisfied: pandas in /Users/dhanushlalitha/miniconda3/envs/tensorflow/lib/python3.10/site-packages (2.2.1)\n",
      "Requirement already satisfied: pytz>=2020.1 in /Users/dhanushlalitha/miniconda3/envs/tensorflow/lib/python3.10/site-packages (from pandas) (2022.7.1)\n",
      "Requirement already satisfied: python-dateutil>=2.8.2 in /Users/dhanushlalitha/miniconda3/envs/tensorflow/lib/python3.10/site-packages (from pandas) (2.8.2)\n",
      "Requirement already satisfied: tzdata>=2022.7 in /Users/dhanushlalitha/miniconda3/envs/tensorflow/lib/python3.10/site-packages (from pandas) (2023.3)\n",
      "Requirement already satisfied: numpy<2,>=1.22.4 in /Users/dhanushlalitha/miniconda3/envs/tensorflow/lib/python3.10/site-packages (from pandas) (1.24.1)\n",
      "Requirement already satisfied: six>=1.5 in /Users/dhanushlalitha/miniconda3/envs/tensorflow/lib/python3.10/site-packages (from python-dateutil>=2.8.2->pandas) (1.16.0)\n",
      "Note: you may need to restart the kernel to use updated packages.\n"
     ]
    }
   ],
   "source": [
    "pip install pandas"
   ]
  },
  {
   "cell_type": "code",
   "execution_count": 85,
   "id": "initial_id",
   "metadata": {
    "ExecuteTime": {
     "end_time": "2024-03-24T00:22:06.852999Z",
     "start_time": "2024-03-24T00:22:06.849256Z"
    }
   },
   "outputs": [],
   "source": [
    "# Import the necessary libraries\n",
    "import pandas as pd\n",
    "import numpy as np\n",
    "import matplotlib.pyplot as plt\n",
    "import seaborn as sns\n",
    "from sklearn.preprocessing import StandardScaler\n",
    "from sklearn.model_selection import train_test_split\n",
    "from sklearn.linear_model import LogisticRegression\n",
    "from sklearn.metrics import confusion_matrix, classification_report\n",
    "from sklearn.metrics import accuracy_score\n",
    "from sklearn.metrics import roc_curve\n",
    "from skimpy import skim"
   ]
  },
  {
   "cell_type": "code",
   "execution_count": 3,
   "id": "1a70841e",
   "metadata": {},
   "outputs": [],
   "source": [
    "pd.set_option('display.max_columns', None)"
   ]
  },
  {
   "cell_type": "code",
   "execution_count": 83,
   "id": "33d148a45b902790",
   "metadata": {
    "ExecuteTime": {
     "end_time": "2024-03-24T01:04:32.532379Z",
     "start_time": "2024-03-24T01:04:06.121037Z"
    }
   },
   "outputs": [
    {
     "name": "stderr",
     "output_type": "stream",
     "text": [
      "/var/folders/hm/0kk4xs8j0gz31ghsffmq2v6m0000gn/T/ipykernel_11433/1912703701.py:2: DtypeWarning: Columns (0,19,49,59,118,129,130,131,134,135,136,139,145,146,147) have mixed types. Specify dtype option on import or set low_memory=False.\n",
      "  data = pd.read_csv(\"../data/accepted_2007_to_2018Q4.csv\", encoding = \"ISO-8859-1\")\n"
     ]
    }
   ],
   "source": [
    "# Load the data\n",
    "data = pd.read_csv(\"../data/accepted_2007_to_2018Q4.csv\", encoding = \"ISO-8859-1\")"
   ]
  },
  {
   "cell_type": "code",
   "execution_count": 4,
   "id": "4daf9736d092ecd3",
   "metadata": {
    "ExecuteTime": {
     "end_time": "2024-03-24T00:22:09.617428Z",
     "start_time": "2024-03-24T00:22:09.601883Z"
    }
   },
   "outputs": [
    {
     "data": {
      "text/plain": [
       "0            C\n",
       "1            C\n",
       "2            B\n",
       "3            C\n",
       "4            F\n",
       "          ... \n",
       "2260696      B\n",
       "2260697      C\n",
       "2260698      C\n",
       "2260699    NaN\n",
       "2260700    NaN\n",
       "Name: grade, Length: 2260701, dtype: object"
      ]
     },
     "execution_count": 4,
     "metadata": {},
     "output_type": "execute_result"
    }
   ],
   "source": [
    "data['grade']"
   ]
  },
  {
   "cell_type": "code",
   "execution_count": 5,
   "id": "530798e7de54dbe1",
   "metadata": {
    "ExecuteTime": {
     "end_time": "2024-03-24T01:19:28.813607Z",
     "start_time": "2024-03-24T01:19:28.793783Z"
    }
   },
   "outputs": [
    {
     "name": "stdout",
     "output_type": "stream",
     "text": [
      "Index(['id', 'member_id', 'loan_amnt', 'funded_amnt', 'funded_amnt_inv',\n",
      "       'term', 'int_rate', 'installment', 'grade', 'sub_grade',\n",
      "       ...\n",
      "       'hardship_payoff_balance_amount', 'hardship_last_payment_amount',\n",
      "       'disbursement_method', 'debt_settlement_flag',\n",
      "       'debt_settlement_flag_date', 'settlement_status', 'settlement_date',\n",
      "       'settlement_amount', 'settlement_percentage', 'settlement_term'],\n",
      "      dtype='object', length=151)\n"
     ]
    }
   ],
   "source": [
    "print(data.columns)"
   ]
  },
  {
   "cell_type": "markdown",
   "id": "d58b502c",
   "metadata": {},
   "source": [
    "For each of these features, we check the description in the Data Dictionary and only keep the features that would have been available to investors considering an investment in the loan. These include features in the loan application, and any features added by LendingClub when the loan listing was accepted, such as the loan grade and interest rate.\n",
    "\n",
    "I'm using my best available knowledge to determine which loan features are known to potential investors. I am not an investor on LendingClub, so my knowledge of the LendingClub investment process is not exact. When in doubt, I err on the side of dropping the feature."
   ]
  },
  {
   "cell_type": "code",
   "execution_count": 6,
   "id": "12442e7b",
   "metadata": {},
   "outputs": [],
   "source": [
    "keep_list = ['addr_state', 'annual_inc', 'application_type', 'dti', 'earliest_cr_line', 'emp_length', 'emp_title', 'fico_range_high', 'fico_range_low', 'grade', 'home_ownership', 'id', 'initial_list_status', 'installment', 'int_rate', 'issue_d', 'loan_amnt', 'loan_status', 'mort_acc', 'open_acc', 'pub_rec', 'pub_rec_bankruptcies', 'purpose', 'revol_bal', 'revol_util', 'sub_grade', 'term', 'title', 'total_acc', 'verification_status', 'zip_code']"
   ]
  },
  {
   "cell_type": "code",
   "execution_count": 7,
   "id": "19550a24",
   "metadata": {},
   "outputs": [],
   "source": [
    "df = data.copy()"
   ]
  },
  {
   "cell_type": "code",
   "execution_count": 8,
   "id": "5d241814d4626ae8",
   "metadata": {},
   "outputs": [],
   "source": [
    "df = df[[col for col in df.columns if col in keep_list]]"
   ]
  },
  {
   "cell_type": "code",
   "execution_count": 9,
   "id": "61bb64f9",
   "metadata": {},
   "outputs": [
    {
     "data": {
      "text/html": [
       "<div>\n",
       "<style scoped>\n",
       "    .dataframe tbody tr th:only-of-type {\n",
       "        vertical-align: middle;\n",
       "    }\n",
       "\n",
       "    .dataframe tbody tr th {\n",
       "        vertical-align: top;\n",
       "    }\n",
       "\n",
       "    .dataframe thead th {\n",
       "        text-align: right;\n",
       "    }\n",
       "</style>\n",
       "<table border=\"1\" class=\"dataframe\">\n",
       "  <thead>\n",
       "    <tr style=\"text-align: right;\">\n",
       "      <th></th>\n",
       "      <th>id</th>\n",
       "      <th>loan_amnt</th>\n",
       "      <th>term</th>\n",
       "      <th>int_rate</th>\n",
       "      <th>installment</th>\n",
       "      <th>grade</th>\n",
       "      <th>sub_grade</th>\n",
       "      <th>emp_title</th>\n",
       "      <th>emp_length</th>\n",
       "      <th>home_ownership</th>\n",
       "      <th>annual_inc</th>\n",
       "      <th>verification_status</th>\n",
       "      <th>issue_d</th>\n",
       "      <th>loan_status</th>\n",
       "      <th>purpose</th>\n",
       "      <th>title</th>\n",
       "      <th>zip_code</th>\n",
       "      <th>addr_state</th>\n",
       "      <th>dti</th>\n",
       "      <th>earliest_cr_line</th>\n",
       "      <th>fico_range_low</th>\n",
       "      <th>fico_range_high</th>\n",
       "      <th>open_acc</th>\n",
       "      <th>pub_rec</th>\n",
       "      <th>revol_bal</th>\n",
       "      <th>revol_util</th>\n",
       "      <th>total_acc</th>\n",
       "      <th>initial_list_status</th>\n",
       "      <th>application_type</th>\n",
       "      <th>mort_acc</th>\n",
       "      <th>pub_rec_bankruptcies</th>\n",
       "    </tr>\n",
       "  </thead>\n",
       "  <tbody>\n",
       "    <tr>\n",
       "      <th>0</th>\n",
       "      <td>68407277</td>\n",
       "      <td>3600.0</td>\n",
       "      <td>36 months</td>\n",
       "      <td>13.99</td>\n",
       "      <td>123.03</td>\n",
       "      <td>C</td>\n",
       "      <td>C4</td>\n",
       "      <td>leadman</td>\n",
       "      <td>10+ years</td>\n",
       "      <td>MORTGAGE</td>\n",
       "      <td>55000.0</td>\n",
       "      <td>Not Verified</td>\n",
       "      <td>Dec-2015</td>\n",
       "      <td>Fully Paid</td>\n",
       "      <td>debt_consolidation</td>\n",
       "      <td>Debt consolidation</td>\n",
       "      <td>190xx</td>\n",
       "      <td>PA</td>\n",
       "      <td>5.91</td>\n",
       "      <td>Aug-2003</td>\n",
       "      <td>675.0</td>\n",
       "      <td>679.0</td>\n",
       "      <td>7.0</td>\n",
       "      <td>0.0</td>\n",
       "      <td>2765.0</td>\n",
       "      <td>29.7</td>\n",
       "      <td>13.0</td>\n",
       "      <td>w</td>\n",
       "      <td>Individual</td>\n",
       "      <td>1.0</td>\n",
       "      <td>0.0</td>\n",
       "    </tr>\n",
       "    <tr>\n",
       "      <th>1</th>\n",
       "      <td>68355089</td>\n",
       "      <td>24700.0</td>\n",
       "      <td>36 months</td>\n",
       "      <td>11.99</td>\n",
       "      <td>820.28</td>\n",
       "      <td>C</td>\n",
       "      <td>C1</td>\n",
       "      <td>Engineer</td>\n",
       "      <td>10+ years</td>\n",
       "      <td>MORTGAGE</td>\n",
       "      <td>65000.0</td>\n",
       "      <td>Not Verified</td>\n",
       "      <td>Dec-2015</td>\n",
       "      <td>Fully Paid</td>\n",
       "      <td>small_business</td>\n",
       "      <td>Business</td>\n",
       "      <td>577xx</td>\n",
       "      <td>SD</td>\n",
       "      <td>16.06</td>\n",
       "      <td>Dec-1999</td>\n",
       "      <td>715.0</td>\n",
       "      <td>719.0</td>\n",
       "      <td>22.0</td>\n",
       "      <td>0.0</td>\n",
       "      <td>21470.0</td>\n",
       "      <td>19.2</td>\n",
       "      <td>38.0</td>\n",
       "      <td>w</td>\n",
       "      <td>Individual</td>\n",
       "      <td>4.0</td>\n",
       "      <td>0.0</td>\n",
       "    </tr>\n",
       "    <tr>\n",
       "      <th>2</th>\n",
       "      <td>68341763</td>\n",
       "      <td>20000.0</td>\n",
       "      <td>60 months</td>\n",
       "      <td>10.78</td>\n",
       "      <td>432.66</td>\n",
       "      <td>B</td>\n",
       "      <td>B4</td>\n",
       "      <td>truck driver</td>\n",
       "      <td>10+ years</td>\n",
       "      <td>MORTGAGE</td>\n",
       "      <td>63000.0</td>\n",
       "      <td>Not Verified</td>\n",
       "      <td>Dec-2015</td>\n",
       "      <td>Fully Paid</td>\n",
       "      <td>home_improvement</td>\n",
       "      <td>NaN</td>\n",
       "      <td>605xx</td>\n",
       "      <td>IL</td>\n",
       "      <td>10.78</td>\n",
       "      <td>Aug-2000</td>\n",
       "      <td>695.0</td>\n",
       "      <td>699.0</td>\n",
       "      <td>6.0</td>\n",
       "      <td>0.0</td>\n",
       "      <td>7869.0</td>\n",
       "      <td>56.2</td>\n",
       "      <td>18.0</td>\n",
       "      <td>w</td>\n",
       "      <td>Joint App</td>\n",
       "      <td>5.0</td>\n",
       "      <td>0.0</td>\n",
       "    </tr>\n",
       "    <tr>\n",
       "      <th>3</th>\n",
       "      <td>66310712</td>\n",
       "      <td>35000.0</td>\n",
       "      <td>60 months</td>\n",
       "      <td>14.85</td>\n",
       "      <td>829.90</td>\n",
       "      <td>C</td>\n",
       "      <td>C5</td>\n",
       "      <td>Information Systems Officer</td>\n",
       "      <td>10+ years</td>\n",
       "      <td>MORTGAGE</td>\n",
       "      <td>110000.0</td>\n",
       "      <td>Source Verified</td>\n",
       "      <td>Dec-2015</td>\n",
       "      <td>Current</td>\n",
       "      <td>debt_consolidation</td>\n",
       "      <td>Debt consolidation</td>\n",
       "      <td>076xx</td>\n",
       "      <td>NJ</td>\n",
       "      <td>17.06</td>\n",
       "      <td>Sep-2008</td>\n",
       "      <td>785.0</td>\n",
       "      <td>789.0</td>\n",
       "      <td>13.0</td>\n",
       "      <td>0.0</td>\n",
       "      <td>7802.0</td>\n",
       "      <td>11.6</td>\n",
       "      <td>17.0</td>\n",
       "      <td>w</td>\n",
       "      <td>Individual</td>\n",
       "      <td>1.0</td>\n",
       "      <td>0.0</td>\n",
       "    </tr>\n",
       "    <tr>\n",
       "      <th>4</th>\n",
       "      <td>68476807</td>\n",
       "      <td>10400.0</td>\n",
       "      <td>60 months</td>\n",
       "      <td>22.45</td>\n",
       "      <td>289.91</td>\n",
       "      <td>F</td>\n",
       "      <td>F1</td>\n",
       "      <td>Contract Specialist</td>\n",
       "      <td>3 years</td>\n",
       "      <td>MORTGAGE</td>\n",
       "      <td>104433.0</td>\n",
       "      <td>Source Verified</td>\n",
       "      <td>Dec-2015</td>\n",
       "      <td>Fully Paid</td>\n",
       "      <td>major_purchase</td>\n",
       "      <td>Major purchase</td>\n",
       "      <td>174xx</td>\n",
       "      <td>PA</td>\n",
       "      <td>25.37</td>\n",
       "      <td>Jun-1998</td>\n",
       "      <td>695.0</td>\n",
       "      <td>699.0</td>\n",
       "      <td>12.0</td>\n",
       "      <td>0.0</td>\n",
       "      <td>21929.0</td>\n",
       "      <td>64.5</td>\n",
       "      <td>35.0</td>\n",
       "      <td>w</td>\n",
       "      <td>Individual</td>\n",
       "      <td>6.0</td>\n",
       "      <td>0.0</td>\n",
       "    </tr>\n",
       "  </tbody>\n",
       "</table>\n",
       "</div>"
      ],
      "text/plain": [
       "         id  loan_amnt        term  int_rate  installment grade sub_grade  \\\n",
       "0  68407277     3600.0   36 months     13.99       123.03     C        C4   \n",
       "1  68355089    24700.0   36 months     11.99       820.28     C        C1   \n",
       "2  68341763    20000.0   60 months     10.78       432.66     B        B4   \n",
       "3  66310712    35000.0   60 months     14.85       829.90     C        C5   \n",
       "4  68476807    10400.0   60 months     22.45       289.91     F        F1   \n",
       "\n",
       "                     emp_title emp_length home_ownership  annual_inc  \\\n",
       "0                      leadman  10+ years       MORTGAGE     55000.0   \n",
       "1                     Engineer  10+ years       MORTGAGE     65000.0   \n",
       "2                 truck driver  10+ years       MORTGAGE     63000.0   \n",
       "3  Information Systems Officer  10+ years       MORTGAGE    110000.0   \n",
       "4          Contract Specialist    3 years       MORTGAGE    104433.0   \n",
       "\n",
       "  verification_status   issue_d loan_status             purpose  \\\n",
       "0        Not Verified  Dec-2015  Fully Paid  debt_consolidation   \n",
       "1        Not Verified  Dec-2015  Fully Paid      small_business   \n",
       "2        Not Verified  Dec-2015  Fully Paid    home_improvement   \n",
       "3     Source Verified  Dec-2015     Current  debt_consolidation   \n",
       "4     Source Verified  Dec-2015  Fully Paid      major_purchase   \n",
       "\n",
       "                title zip_code addr_state    dti earliest_cr_line  \\\n",
       "0  Debt consolidation    190xx         PA   5.91         Aug-2003   \n",
       "1            Business    577xx         SD  16.06         Dec-1999   \n",
       "2                 NaN    605xx         IL  10.78         Aug-2000   \n",
       "3  Debt consolidation    076xx         NJ  17.06         Sep-2008   \n",
       "4      Major purchase    174xx         PA  25.37         Jun-1998   \n",
       "\n",
       "   fico_range_low  fico_range_high  open_acc  pub_rec  revol_bal  revol_util  \\\n",
       "0           675.0            679.0       7.0      0.0     2765.0        29.7   \n",
       "1           715.0            719.0      22.0      0.0    21470.0        19.2   \n",
       "2           695.0            699.0       6.0      0.0     7869.0        56.2   \n",
       "3           785.0            789.0      13.0      0.0     7802.0        11.6   \n",
       "4           695.0            699.0      12.0      0.0    21929.0        64.5   \n",
       "\n",
       "   total_acc initial_list_status application_type  mort_acc  \\\n",
       "0       13.0                   w       Individual       1.0   \n",
       "1       38.0                   w       Individual       4.0   \n",
       "2       18.0                   w        Joint App       5.0   \n",
       "3       17.0                   w       Individual       1.0   \n",
       "4       35.0                   w       Individual       6.0   \n",
       "\n",
       "   pub_rec_bankruptcies  \n",
       "0                   0.0  \n",
       "1                   0.0  \n",
       "2                   0.0  \n",
       "3                   0.0  \n",
       "4                   0.0  "
      ]
     },
     "execution_count": 9,
     "metadata": {},
     "output_type": "execute_result"
    }
   ],
   "source": [
    "df.head()"
   ]
  },
  {
   "cell_type": "code",
   "execution_count": 10,
   "id": "f0cab7f0",
   "metadata": {},
   "outputs": [
    {
     "data": {
      "text/plain": [
       "31"
      ]
     },
     "execution_count": 10,
     "metadata": {},
     "output_type": "execute_result"
    }
   ],
   "source": [
    "len(df.columns)"
   ]
  },
  {
   "cell_type": "code",
   "execution_count": 11,
   "id": "15b0bf1b4c54c64",
   "metadata": {
    "ExecuteTime": {
     "end_time": "2024-03-24T00:25:26.966656Z",
     "start_time": "2024-03-24T00:25:26.949088Z"
    }
   },
   "outputs": [
    {
     "data": {
      "text/plain": [
       "id                           0\n",
       "loan_amnt                   33\n",
       "term                        33\n",
       "int_rate                    33\n",
       "installment                 33\n",
       "grade                       33\n",
       "sub_grade                   33\n",
       "emp_title               167002\n",
       "emp_length              146940\n",
       "home_ownership              33\n",
       "annual_inc                  37\n",
       "verification_status         33\n",
       "issue_d                     33\n",
       "loan_status                 33\n",
       "purpose                     33\n",
       "title                    23359\n",
       "zip_code                    34\n",
       "addr_state                  33\n",
       "dti                       1744\n",
       "earliest_cr_line            62\n",
       "fico_range_low              33\n",
       "fico_range_high             33\n",
       "open_acc                    62\n",
       "pub_rec                     62\n",
       "revol_bal                   33\n",
       "revol_util                1835\n",
       "total_acc                   62\n",
       "initial_list_status         33\n",
       "application_type            33\n",
       "mort_acc                 50063\n",
       "pub_rec_bankruptcies      1398\n",
       "dtype: int64"
      ]
     },
     "execution_count": 11,
     "metadata": {},
     "output_type": "execute_result"
    }
   ],
   "source": [
    "# check for missing values\n",
    "df.isnull().sum()"
   ]
  },
  {
   "cell_type": "code",
   "execution_count": 12,
   "id": "a5c74e686bafdc10",
   "metadata": {
    "ExecuteTime": {
     "end_time": "2024-03-24T00:27:55.679317Z",
     "start_time": "2024-03-24T00:27:55.669426Z"
    }
   },
   "outputs": [
    {
     "data": {
      "text/plain": [
       "Index(['id', 'loan_amnt', 'term', 'int_rate', 'installment', 'grade',\n",
       "       'sub_grade', 'emp_title', 'emp_length', 'home_ownership', 'annual_inc',\n",
       "       'verification_status', 'issue_d', 'loan_status', 'purpose', 'title',\n",
       "       'zip_code', 'addr_state', 'dti', 'earliest_cr_line', 'fico_range_low',\n",
       "       'fico_range_high', 'open_acc', 'pub_rec', 'revol_bal', 'revol_util',\n",
       "       'total_acc', 'initial_list_status', 'application_type', 'mort_acc',\n",
       "       'pub_rec_bankruptcies'],\n",
       "      dtype='object')"
      ]
     },
     "execution_count": 12,
     "metadata": {},
     "output_type": "execute_result"
    }
   ],
   "source": [
    "df.columns"
   ]
  },
  {
   "cell_type": "markdown",
   "id": "154735fa2a28e2e7",
   "metadata": {},
   "source": [
    "# Data Cleaning - should be updated\n",
    "| Variable    | Description                                                                |\n",
    "|-------------|----------------------------------------------------------------------------|\n",
    "| amount      | Loan amount in dollars                                                     |\n",
    "| term        | Loan term is 36 or 60 months                                              |\n",
    "| rate        | Interest rate as a decimal                                                 |\n",
    "| payment     | Monthly payment amount                                                     |\n",
    "| grade       | Grade of loan: A is least risk, G is most risk                            |\n",
    "| employment  | Job title of applicant                                                     |\n",
    "| length      | Time continuously employed                                                 |\n",
    "| home        | Home ownership: rent, own, mortgage                                        |\n",
    "| income      | Annual income in dollars                                                   |\n",
    "| verified    | Verification status of annual income                                       |\n",
    "| status      | Loan status: DEFAULT, CURRENT, CHARGED OFF, etc.                           |\n",
    "| reason      | Applicant's purpose for the loan                                           |\n",
    "| state       | Two-letter state code of applicant                                          |\n",
    "| debtIncRat  | Ratio monthly non-mortgage debt payment to monthly income                  |\n",
    "| delinq2yr   | Number of 30+ day late payments in the last two years                      |\n",
    "| inq6mth     | Number of credit checks in the past 6 months                                |\n",
    "| openAcc     | Number of open credit lines                                                |\n",
    "| pubRec      | Number of derogatory public records including bankruptcy filings, tax liens, etc. |\n",
    "| revolRatio  | Proportion of revolving credit in use                                       |\n",
    "| totalAcc    | Total number of credit lines in file, includes both open and closed accounts |\n",
    "| totalPaid   | Total amount repaid to bank (THIS IS NOT A PREDICTOR SINCE IT CAN ONLY BE DETERMINED AFTER A LOAN IS\n"
   ]
  },
  {
   "cell_type": "code",
   "execution_count": 13,
   "id": "2de6750e",
   "metadata": {},
   "outputs": [
    {
     "name": "stdout",
     "output_type": "stream",
     "text": [
      "Columns with Multiple Data Types and Their Data Types:\n",
      "id: <class 'int'>, <class 'str'>\n",
      "term: <class 'str'>, <class 'float'>\n",
      "grade: <class 'str'>, <class 'float'>\n",
      "sub_grade: <class 'str'>, <class 'float'>\n",
      "emp_title: <class 'str'>, <class 'float'>\n",
      "emp_length: <class 'str'>, <class 'float'>\n",
      "home_ownership: <class 'str'>, <class 'float'>\n",
      "verification_status: <class 'str'>, <class 'float'>\n",
      "issue_d: <class 'str'>, <class 'float'>\n",
      "loan_status: <class 'str'>, <class 'float'>\n",
      "purpose: <class 'str'>, <class 'float'>\n",
      "title: <class 'str'>, <class 'float'>\n",
      "zip_code: <class 'str'>, <class 'float'>\n",
      "addr_state: <class 'str'>, <class 'float'>\n",
      "earliest_cr_line: <class 'str'>, <class 'float'>\n",
      "initial_list_status: <class 'str'>, <class 'float'>\n",
      "application_type: <class 'str'>, <class 'float'>\n"
     ]
    }
   ],
   "source": [
    "\n",
    "# Identifying columns with multiple data types\n",
    "columns_with_multiple_datatypes = df.columns[df.map(type).nunique() > 1]\n",
    "\n",
    "# Displaying the names\n",
    "print(\"Columns with Multiple Data Types and Their Data Types:\")\n",
    "for column in columns_with_multiple_datatypes:\n",
    "    unique_datatypes = df[column].apply(type).unique()\n",
    "    print(f\"{column}: {', '.join(str(dt) for dt in unique_datatypes)}\")"
   ]
  },
  {
   "cell_type": "markdown",
   "id": "5bf25b10",
   "metadata": {},
   "source": [
    "### 1. id - loan id"
   ]
  },
  {
   "cell_type": "code",
   "execution_count": 14,
   "id": "fc64f87f0ed9490",
   "metadata": {
    "ExecuteTime": {
     "end_time": "2024-03-24T00:34:48.550248Z",
     "start_time": "2024-03-24T00:34:48.542058Z"
    }
   },
   "outputs": [
    {
     "name": "stdout",
     "output_type": "stream",
     "text": [
      "33 33\n"
     ]
    }
   ],
   "source": [
    "#check for non numeric rows in \n",
    "df['id'] = pd.to_numeric(df['id'], errors='coerce')\n",
    "print(df['id'].isna().sum(),  df['id'].isnull().sum())# can be dropped during analysis as it is not add any value"
   ]
  },
  {
   "cell_type": "code",
   "execution_count": 15,
   "id": "fec61304",
   "metadata": {},
   "outputs": [
    {
     "name": "stdout",
     "output_type": "stream",
     "text": [
      "         id  loan_amnt term  int_rate  installment grade sub_grade emp_title  \\\n",
      "421095  NaN        NaN  NaN       NaN          NaN   NaN       NaN       NaN   \n",
      "421096  NaN        NaN  NaN       NaN          NaN   NaN       NaN       NaN   \n",
      "528961  NaN        NaN  NaN       NaN          NaN   NaN       NaN       NaN   \n",
      "528962  NaN        NaN  NaN       NaN          NaN   NaN       NaN       NaN   \n",
      "651664  NaN        NaN  NaN       NaN          NaN   NaN       NaN       NaN   \n",
      "651665  NaN        NaN  NaN       NaN          NaN   NaN       NaN       NaN   \n",
      "749520  NaN        NaN  NaN       NaN          NaN   NaN       NaN       NaN   \n",
      "749521  NaN        NaN  NaN       NaN          NaN   NaN       NaN       NaN   \n",
      "877716  NaN        NaN  NaN       NaN          NaN   NaN       NaN       NaN   \n",
      "877717  NaN        NaN  NaN       NaN          NaN   NaN       NaN       NaN   \n",
      "983169  NaN        NaN  NaN       NaN          NaN   NaN       NaN       NaN   \n",
      "983170  NaN        NaN  NaN       NaN          NaN   NaN       NaN       NaN   \n",
      "1117058 NaN        NaN  NaN       NaN          NaN   NaN       NaN       NaN   \n",
      "1117059 NaN        NaN  NaN       NaN          NaN   NaN       NaN       NaN   \n",
      "1352689 NaN        NaN  NaN       NaN          NaN   NaN       NaN       NaN   \n",
      "1352690 NaN        NaN  NaN       NaN          NaN   NaN       NaN       NaN   \n",
      "1481103 NaN        NaN  NaN       NaN          NaN   NaN       NaN       NaN   \n",
      "1481104 NaN        NaN  NaN       NaN          NaN   NaN       NaN       NaN   \n",
      "1611877 NaN        NaN  NaN       NaN          NaN   NaN       NaN       NaN   \n",
      "1611878 NaN        NaN  NaN       NaN          NaN   NaN       NaN       NaN   \n",
      "1651665 NaN        NaN  NaN       NaN          NaN   NaN       NaN       NaN   \n",
      "1654415 NaN        NaN  NaN       NaN          NaN   NaN       NaN       NaN   \n",
      "1654416 NaN        NaN  NaN       NaN          NaN   NaN       NaN       NaN   \n",
      "1751196 NaN        NaN  NaN       NaN          NaN   NaN       NaN       NaN   \n",
      "1751197 NaN        NaN  NaN       NaN          NaN   NaN       NaN       NaN   \n",
      "1939379 NaN        NaN  NaN       NaN          NaN   NaN       NaN       NaN   \n",
      "1939380 NaN        NaN  NaN       NaN          NaN   NaN       NaN       NaN   \n",
      "2038501 NaN        NaN  NaN       NaN          NaN   NaN       NaN       NaN   \n",
      "2038502 NaN        NaN  NaN       NaN          NaN   NaN       NaN       NaN   \n",
      "2157151 NaN        NaN  NaN       NaN          NaN   NaN       NaN       NaN   \n",
      "2157152 NaN        NaN  NaN       NaN          NaN   NaN       NaN       NaN   \n",
      "2260699 NaN        NaN  NaN       NaN          NaN   NaN       NaN       NaN   \n",
      "2260700 NaN        NaN  NaN       NaN          NaN   NaN       NaN       NaN   \n",
      "\n",
      "        emp_length home_ownership  annual_inc verification_status issue_d  \\\n",
      "421095         NaN            NaN         NaN                 NaN     NaN   \n",
      "421096         NaN            NaN         NaN                 NaN     NaN   \n",
      "528961         NaN            NaN         NaN                 NaN     NaN   \n",
      "528962         NaN            NaN         NaN                 NaN     NaN   \n",
      "651664         NaN            NaN         NaN                 NaN     NaN   \n",
      "651665         NaN            NaN         NaN                 NaN     NaN   \n",
      "749520         NaN            NaN         NaN                 NaN     NaN   \n",
      "749521         NaN            NaN         NaN                 NaN     NaN   \n",
      "877716         NaN            NaN         NaN                 NaN     NaN   \n",
      "877717         NaN            NaN         NaN                 NaN     NaN   \n",
      "983169         NaN            NaN         NaN                 NaN     NaN   \n",
      "983170         NaN            NaN         NaN                 NaN     NaN   \n",
      "1117058        NaN            NaN         NaN                 NaN     NaN   \n",
      "1117059        NaN            NaN         NaN                 NaN     NaN   \n",
      "1352689        NaN            NaN         NaN                 NaN     NaN   \n",
      "1352690        NaN            NaN         NaN                 NaN     NaN   \n",
      "1481103        NaN            NaN         NaN                 NaN     NaN   \n",
      "1481104        NaN            NaN         NaN                 NaN     NaN   \n",
      "1611877        NaN            NaN         NaN                 NaN     NaN   \n",
      "1611878        NaN            NaN         NaN                 NaN     NaN   \n",
      "1651665        NaN            NaN         NaN                 NaN     NaN   \n",
      "1654415        NaN            NaN         NaN                 NaN     NaN   \n",
      "1654416        NaN            NaN         NaN                 NaN     NaN   \n",
      "1751196        NaN            NaN         NaN                 NaN     NaN   \n",
      "1751197        NaN            NaN         NaN                 NaN     NaN   \n",
      "1939379        NaN            NaN         NaN                 NaN     NaN   \n",
      "1939380        NaN            NaN         NaN                 NaN     NaN   \n",
      "2038501        NaN            NaN         NaN                 NaN     NaN   \n",
      "2038502        NaN            NaN         NaN                 NaN     NaN   \n",
      "2157151        NaN            NaN         NaN                 NaN     NaN   \n",
      "2157152        NaN            NaN         NaN                 NaN     NaN   \n",
      "2260699        NaN            NaN         NaN                 NaN     NaN   \n",
      "2260700        NaN            NaN         NaN                 NaN     NaN   \n",
      "\n",
      "        loan_status purpose title zip_code addr_state  dti earliest_cr_line  \\\n",
      "421095          NaN     NaN   NaN      NaN        NaN  NaN              NaN   \n",
      "421096          NaN     NaN   NaN      NaN        NaN  NaN              NaN   \n",
      "528961          NaN     NaN   NaN      NaN        NaN  NaN              NaN   \n",
      "528962          NaN     NaN   NaN      NaN        NaN  NaN              NaN   \n",
      "651664          NaN     NaN   NaN      NaN        NaN  NaN              NaN   \n",
      "651665          NaN     NaN   NaN      NaN        NaN  NaN              NaN   \n",
      "749520          NaN     NaN   NaN      NaN        NaN  NaN              NaN   \n",
      "749521          NaN     NaN   NaN      NaN        NaN  NaN              NaN   \n",
      "877716          NaN     NaN   NaN      NaN        NaN  NaN              NaN   \n",
      "877717          NaN     NaN   NaN      NaN        NaN  NaN              NaN   \n",
      "983169          NaN     NaN   NaN      NaN        NaN  NaN              NaN   \n",
      "983170          NaN     NaN   NaN      NaN        NaN  NaN              NaN   \n",
      "1117058         NaN     NaN   NaN      NaN        NaN  NaN              NaN   \n",
      "1117059         NaN     NaN   NaN      NaN        NaN  NaN              NaN   \n",
      "1352689         NaN     NaN   NaN      NaN        NaN  NaN              NaN   \n",
      "1352690         NaN     NaN   NaN      NaN        NaN  NaN              NaN   \n",
      "1481103         NaN     NaN   NaN      NaN        NaN  NaN              NaN   \n",
      "1481104         NaN     NaN   NaN      NaN        NaN  NaN              NaN   \n",
      "1611877         NaN     NaN   NaN      NaN        NaN  NaN              NaN   \n",
      "1611878         NaN     NaN   NaN      NaN        NaN  NaN              NaN   \n",
      "1651665         NaN     NaN   NaN      NaN        NaN  NaN              NaN   \n",
      "1654415         NaN     NaN   NaN      NaN        NaN  NaN              NaN   \n",
      "1654416         NaN     NaN   NaN      NaN        NaN  NaN              NaN   \n",
      "1751196         NaN     NaN   NaN      NaN        NaN  NaN              NaN   \n",
      "1751197         NaN     NaN   NaN      NaN        NaN  NaN              NaN   \n",
      "1939379         NaN     NaN   NaN      NaN        NaN  NaN              NaN   \n",
      "1939380         NaN     NaN   NaN      NaN        NaN  NaN              NaN   \n",
      "2038501         NaN     NaN   NaN      NaN        NaN  NaN              NaN   \n",
      "2038502         NaN     NaN   NaN      NaN        NaN  NaN              NaN   \n",
      "2157151         NaN     NaN   NaN      NaN        NaN  NaN              NaN   \n",
      "2157152         NaN     NaN   NaN      NaN        NaN  NaN              NaN   \n",
      "2260699         NaN     NaN   NaN      NaN        NaN  NaN              NaN   \n",
      "2260700         NaN     NaN   NaN      NaN        NaN  NaN              NaN   \n",
      "\n",
      "         fico_range_low  fico_range_high  open_acc  pub_rec  revol_bal  \\\n",
      "421095              NaN              NaN       NaN      NaN        NaN   \n",
      "421096              NaN              NaN       NaN      NaN        NaN   \n",
      "528961              NaN              NaN       NaN      NaN        NaN   \n",
      "528962              NaN              NaN       NaN      NaN        NaN   \n",
      "651664              NaN              NaN       NaN      NaN        NaN   \n",
      "651665              NaN              NaN       NaN      NaN        NaN   \n",
      "749520              NaN              NaN       NaN      NaN        NaN   \n",
      "749521              NaN              NaN       NaN      NaN        NaN   \n",
      "877716              NaN              NaN       NaN      NaN        NaN   \n",
      "877717              NaN              NaN       NaN      NaN        NaN   \n",
      "983169              NaN              NaN       NaN      NaN        NaN   \n",
      "983170              NaN              NaN       NaN      NaN        NaN   \n",
      "1117058             NaN              NaN       NaN      NaN        NaN   \n",
      "1117059             NaN              NaN       NaN      NaN        NaN   \n",
      "1352689             NaN              NaN       NaN      NaN        NaN   \n",
      "1352690             NaN              NaN       NaN      NaN        NaN   \n",
      "1481103             NaN              NaN       NaN      NaN        NaN   \n",
      "1481104             NaN              NaN       NaN      NaN        NaN   \n",
      "1611877             NaN              NaN       NaN      NaN        NaN   \n",
      "1611878             NaN              NaN       NaN      NaN        NaN   \n",
      "1651665             NaN              NaN       NaN      NaN        NaN   \n",
      "1654415             NaN              NaN       NaN      NaN        NaN   \n",
      "1654416             NaN              NaN       NaN      NaN        NaN   \n",
      "1751196             NaN              NaN       NaN      NaN        NaN   \n",
      "1751197             NaN              NaN       NaN      NaN        NaN   \n",
      "1939379             NaN              NaN       NaN      NaN        NaN   \n",
      "1939380             NaN              NaN       NaN      NaN        NaN   \n",
      "2038501             NaN              NaN       NaN      NaN        NaN   \n",
      "2038502             NaN              NaN       NaN      NaN        NaN   \n",
      "2157151             NaN              NaN       NaN      NaN        NaN   \n",
      "2157152             NaN              NaN       NaN      NaN        NaN   \n",
      "2260699             NaN              NaN       NaN      NaN        NaN   \n",
      "2260700             NaN              NaN       NaN      NaN        NaN   \n",
      "\n",
      "         revol_util  total_acc initial_list_status application_type  mort_acc  \\\n",
      "421095          NaN        NaN                 NaN              NaN       NaN   \n",
      "421096          NaN        NaN                 NaN              NaN       NaN   \n",
      "528961          NaN        NaN                 NaN              NaN       NaN   \n",
      "528962          NaN        NaN                 NaN              NaN       NaN   \n",
      "651664          NaN        NaN                 NaN              NaN       NaN   \n",
      "651665          NaN        NaN                 NaN              NaN       NaN   \n",
      "749520          NaN        NaN                 NaN              NaN       NaN   \n",
      "749521          NaN        NaN                 NaN              NaN       NaN   \n",
      "877716          NaN        NaN                 NaN              NaN       NaN   \n",
      "877717          NaN        NaN                 NaN              NaN       NaN   \n",
      "983169          NaN        NaN                 NaN              NaN       NaN   \n",
      "983170          NaN        NaN                 NaN              NaN       NaN   \n",
      "1117058         NaN        NaN                 NaN              NaN       NaN   \n",
      "1117059         NaN        NaN                 NaN              NaN       NaN   \n",
      "1352689         NaN        NaN                 NaN              NaN       NaN   \n",
      "1352690         NaN        NaN                 NaN              NaN       NaN   \n",
      "1481103         NaN        NaN                 NaN              NaN       NaN   \n",
      "1481104         NaN        NaN                 NaN              NaN       NaN   \n",
      "1611877         NaN        NaN                 NaN              NaN       NaN   \n",
      "1611878         NaN        NaN                 NaN              NaN       NaN   \n",
      "1651665         NaN        NaN                 NaN              NaN       NaN   \n",
      "1654415         NaN        NaN                 NaN              NaN       NaN   \n",
      "1654416         NaN        NaN                 NaN              NaN       NaN   \n",
      "1751196         NaN        NaN                 NaN              NaN       NaN   \n",
      "1751197         NaN        NaN                 NaN              NaN       NaN   \n",
      "1939379         NaN        NaN                 NaN              NaN       NaN   \n",
      "1939380         NaN        NaN                 NaN              NaN       NaN   \n",
      "2038501         NaN        NaN                 NaN              NaN       NaN   \n",
      "2038502         NaN        NaN                 NaN              NaN       NaN   \n",
      "2157151         NaN        NaN                 NaN              NaN       NaN   \n",
      "2157152         NaN        NaN                 NaN              NaN       NaN   \n",
      "2260699         NaN        NaN                 NaN              NaN       NaN   \n",
      "2260700         NaN        NaN                 NaN              NaN       NaN   \n",
      "\n",
      "         pub_rec_bankruptcies  \n",
      "421095                    NaN  \n",
      "421096                    NaN  \n",
      "528961                    NaN  \n",
      "528962                    NaN  \n",
      "651664                    NaN  \n",
      "651665                    NaN  \n",
      "749520                    NaN  \n",
      "749521                    NaN  \n",
      "877716                    NaN  \n",
      "877717                    NaN  \n",
      "983169                    NaN  \n",
      "983170                    NaN  \n",
      "1117058                   NaN  \n",
      "1117059                   NaN  \n",
      "1352689                   NaN  \n",
      "1352690                   NaN  \n",
      "1481103                   NaN  \n",
      "1481104                   NaN  \n",
      "1611877                   NaN  \n",
      "1611878                   NaN  \n",
      "1651665                   NaN  \n",
      "1654415                   NaN  \n",
      "1654416                   NaN  \n",
      "1751196                   NaN  \n",
      "1751197                   NaN  \n",
      "1939379                   NaN  \n",
      "1939380                   NaN  \n",
      "2038501                   NaN  \n",
      "2038502                   NaN  \n",
      "2157151                   NaN  \n",
      "2157152                   NaN  \n",
      "2260699                   NaN  \n",
      "2260700                   NaN  \n"
     ]
    }
   ],
   "source": [
    "print(df[df['id'].isna()]) # records dont have any values so dropping them ( Inspection)"
   ]
  },
  {
   "cell_type": "code",
   "execution_count": 16,
   "id": "e92e1136",
   "metadata": {},
   "outputs": [],
   "source": [
    "df = df.dropna(subset=['id'])"
   ]
  },
  {
   "cell_type": "code",
   "execution_count": 17,
   "id": "af071cdb",
   "metadata": {},
   "outputs": [
    {
     "name": "stdout",
     "output_type": "stream",
     "text": [
      "0 0\n"
     ]
    }
   ],
   "source": [
    "print(df['id'].isna().sum(),  df['id'].isnull().sum())"
   ]
  },
  {
   "cell_type": "markdown",
   "id": "e0b216e6",
   "metadata": {},
   "source": [
    "### 2. loan_amt"
   ]
  },
  {
   "cell_type": "code",
   "execution_count": 18,
   "id": "aacabec08bf75b7c",
   "metadata": {
    "ExecuteTime": {
     "end_time": "2024-03-24T00:38:46.285530Z",
     "start_time": "2024-03-24T00:38:46.276957Z"
    }
   },
   "outputs": [
    {
     "name": "stdout",
     "output_type": "stream",
     "text": [
      "0 0\n"
     ]
    }
   ],
   "source": [
    "# convert amount to numeric\n",
    "df['loan_amnt'] = pd.to_numeric(df['loan_amnt'], errors='coerce')\n",
    "# check for null or non numeric values\n",
    "print(df['loan_amnt'].isna().sum(),  df['loan_amnt'].isnull().sum())"
   ]
  },
  {
   "cell_type": "markdown",
   "id": "3b84255a",
   "metadata": {},
   "source": [
    "### 3. term "
   ]
  },
  {
   "cell_type": "code",
   "execution_count": 19,
   "id": "796e19b4dd38f05d",
   "metadata": {
    "ExecuteTime": {
     "end_time": "2024-03-24T00:44:41.216536Z",
     "start_time": "2024-03-24T00:44:41.208934Z"
    }
   },
   "outputs": [
    {
     "data": {
      "text/plain": [
       "term\n",
       "36 months    1609754\n",
       "60 months     650914\n",
       "Name: count, dtype: int64"
      ]
     },
     "execution_count": 19,
     "metadata": {},
     "output_type": "execute_result"
    }
   ],
   "source": [
    "df['term'].value_counts() #No cleaning required"
   ]
  },
  {
   "cell_type": "markdown",
   "id": "9656bdda",
   "metadata": {},
   "source": [
    "### 4. int_rate "
   ]
  },
  {
   "cell_type": "code",
   "execution_count": 20,
   "id": "8e30d7cd795b9c43",
   "metadata": {
    "ExecuteTime": {
     "end_time": "2024-03-24T00:46:28.603379Z",
     "start_time": "2024-03-24T00:46:28.584360Z"
    }
   },
   "outputs": [
    {
     "name": "stdout",
     "output_type": "stream",
     "text": [
      "0 0\n"
     ]
    }
   ],
   "source": [
    "# convert the rate to numeric\n",
    "df['int_rate'] = pd.to_numeric(df['int_rate'], errors='coerce')\n",
    "# check for null or non numeric values\n",
    "print(df['int_rate'].isna().sum(),  df['int_rate'].isnull().sum())"
   ]
  },
  {
   "cell_type": "markdown",
   "id": "b1a9ac0b",
   "metadata": {},
   "source": [
    "### 5. installment"
   ]
  },
  {
   "cell_type": "code",
   "execution_count": 21,
   "id": "d0a18cc5",
   "metadata": {},
   "outputs": [
    {
     "name": "stdout",
     "output_type": "stream",
     "text": [
      "0 0\n"
     ]
    }
   ],
   "source": [
    "# convert the rate to numeric\n",
    "df['installment'] = pd.to_numeric(df['installment'], errors='coerce')\n",
    "# check for null or non numeric values\n",
    "print(df['installment'].isna().sum(),  df['installment'].isnull().sum())"
   ]
  },
  {
   "cell_type": "markdown",
   "id": "747dfa3f",
   "metadata": {},
   "source": [
    "### 6. grade"
   ]
  },
  {
   "cell_type": "code",
   "execution_count": 22,
   "id": "699e28d5d6bc4fe3",
   "metadata": {
    "ExecuteTime": {
     "end_time": "2024-03-24T00:49:01.681172Z",
     "start_time": "2024-03-24T00:49:01.665800Z"
    }
   },
   "outputs": [
    {
     "data": {
      "text/plain": [
       "grade\n",
       "A    433027\n",
       "B    663557\n",
       "C    650053\n",
       "D    324424\n",
       "E    135639\n",
       "F     41800\n",
       "G     12168\n",
       "Name: count, dtype: int64"
      ]
     },
     "execution_count": 22,
     "metadata": {},
     "output_type": "execute_result"
    }
   ],
   "source": [
    "df['grade'].value_counts(dropna=False).sort_index() #No cleaning required"
   ]
  },
  {
   "cell_type": "code",
   "execution_count": 23,
   "id": "7287ac74",
   "metadata": {},
   "outputs": [
    {
     "name": "stdout",
     "output_type": "stream",
     "text": [
      "0 0\n"
     ]
    }
   ],
   "source": [
    "print(df['grade'].isna().sum(),  df['grade'].isnull().sum())#No cleaning required"
   ]
  },
  {
   "cell_type": "markdown",
   "id": "806236b2",
   "metadata": {},
   "source": [
    "We can safely remove the 'grade' feature since the information it contains is already captured within the more detailed 'sub_grade' feature. "
   ]
  },
  {
   "cell_type": "code",
   "execution_count": 24,
   "id": "2ab43a2d",
   "metadata": {},
   "outputs": [],
   "source": [
    "df.drop('grade', axis=1, inplace=True)"
   ]
  },
  {
   "cell_type": "markdown",
   "id": "52a518f2",
   "metadata": {},
   "source": [
    "### 7. sub_grade"
   ]
  },
  {
   "cell_type": "code",
   "execution_count": 25,
   "id": "23ebc8bc",
   "metadata": {},
   "outputs": [
    {
     "data": {
      "text/plain": [
       "sub_grade\n",
       "A1     86790\n",
       "A2     69562\n",
       "A3     73184\n",
       "A4     95874\n",
       "A5    107617\n",
       "B1    125341\n",
       "B2    126621\n",
       "B3    131514\n",
       "B4    139793\n",
       "B5    140288\n",
       "C1    145903\n",
       "C2    131116\n",
       "C3    129193\n",
       "C4    127115\n",
       "C5    116726\n",
       "D1     81787\n",
       "D2     72899\n",
       "D3     64819\n",
       "D4     56896\n",
       "D5     48023\n",
       "E1     33573\n",
       "E2     29924\n",
       "E3     26708\n",
       "E4     22763\n",
       "E5     22671\n",
       "F1     13413\n",
       "F2      9305\n",
       "F3      7791\n",
       "F4      6124\n",
       "F5      5167\n",
       "G1      4106\n",
       "G2      2688\n",
       "G3      2094\n",
       "G4      1712\n",
       "G5      1568\n",
       "Name: count, dtype: int64"
      ]
     },
     "execution_count": 25,
     "metadata": {},
     "output_type": "execute_result"
    }
   ],
   "source": [
    "df['sub_grade'].value_counts(dropna=False).sort_index()"
   ]
  },
  {
   "cell_type": "code",
   "execution_count": 26,
   "id": "98473504",
   "metadata": {},
   "outputs": [
    {
     "name": "stdout",
     "output_type": "stream",
     "text": [
      "0 0\n"
     ]
    }
   ],
   "source": [
    "print(df['sub_grade'].isna().sum(),  df['sub_grade'].isnull().sum())#No cleaning required for sub_grade"
   ]
  },
  {
   "cell_type": "markdown",
   "id": "42226376",
   "metadata": {},
   "source": [
    "### 8. emp_title"
   ]
  },
  {
   "cell_type": "code",
   "execution_count": 27,
   "id": "2f0d4d8348b155a3",
   "metadata": {
    "ExecuteTime": {
     "end_time": "2024-03-24T00:54:36.714725Z",
     "start_time": "2024-03-24T00:54:36.704062Z"
    }
   },
   "outputs": [
    {
     "name": "stdout",
     "output_type": "stream",
     "text": [
      "                 id  loan_amnt        term  int_rate  installment sub_grade  \\\n",
      "55       68366663.0    24000.0   60 months      9.80       507.58        B3   \n",
      "75       68416953.0     1500.0   36 months      6.49        45.97        A2   \n",
      "93       68377020.0    15000.0   36 months      5.32       451.73        A1   \n",
      "139      68516545.0    25000.0   36 months      7.49       777.55        A4   \n",
      "141      68446591.0     2500.0   36 months     11.48        82.42        B5   \n",
      "...             ...        ...         ...       ...          ...       ...   \n",
      "2260650  89818207.0    16000.0   60 months     12.79       362.34        C1   \n",
      "2260679  89976312.0    22000.0   60 months     13.99       511.79        C3   \n",
      "2260683  88878506.0    30000.0   60 months      9.49       629.91        B2   \n",
      "2260685  89007204.0    36400.0   60 months     14.49       856.24        C4   \n",
      "2260688  89905081.0    18000.0   60 months      9.49       377.95        B2   \n",
      "\n",
      "        emp_title emp_length home_ownership  annual_inc verification_status  \\\n",
      "55            NaN        NaN            OWN     77900.0        Not Verified   \n",
      "75            NaN        NaN       MORTGAGE     45000.0        Not Verified   \n",
      "93            NaN        NaN           RENT     80000.0        Not Verified   \n",
      "139           NaN        NaN       MORTGAGE    132000.0        Not Verified   \n",
      "141           NaN        NaN           RENT     16488.0        Not Verified   \n",
      "...           ...        ...            ...         ...                 ...   \n",
      "2260650       NaN        NaN            OWN    105000.0     Source Verified   \n",
      "2260679       NaN        NaN           RENT     93600.0        Not Verified   \n",
      "2260683       NaN        NaN       MORTGAGE    110000.0            Verified   \n",
      "2260685       NaN    5 years           RENT     95000.0            Verified   \n",
      "2260688       NaN    5 years            OWN    130000.0        Not Verified   \n",
      "\n",
      "          issue_d  loan_status             purpose                    title  \\\n",
      "55       Dec-2015      Current    home_improvement         Home improvement   \n",
      "75       Dec-2015   Fully Paid            vacation                 Vacation   \n",
      "93       Dec-2015   Fully Paid  debt_consolidation       Debt consolidation   \n",
      "139      Dec-2015   Fully Paid  debt_consolidation       Debt consolidation   \n",
      "141      Dec-2015   Fully Paid  debt_consolidation       Debt consolidation   \n",
      "...           ...          ...                 ...                      ...   \n",
      "2260650  Oct-2016      Current  debt_consolidation       Debt consolidation   \n",
      "2260679  Oct-2016      Current  debt_consolidation       Debt consolidation   \n",
      "2260683  Oct-2016      Current             medical         Medical expenses   \n",
      "2260685  Oct-2016  Charged Off         credit_card  Credit card refinancing   \n",
      "2260688  Oct-2016   Fully Paid    home_improvement         Home improvement   \n",
      "\n",
      "        zip_code addr_state    dti earliest_cr_line  fico_range_low  \\\n",
      "55         376xx         TN  10.24         Oct-1982           740.0   \n",
      "75         967xx         HI  16.11         Dec-1987           745.0   \n",
      "93         236xx         VA  20.18         Apr-1993           775.0   \n",
      "139        498xx         MI  13.83         Aug-1974           745.0   \n",
      "141        064xx         CT  38.06         Nov-2005           770.0   \n",
      "...          ...        ...    ...              ...             ...   \n",
      "2260650    064xx         CT  15.41         May-1977           680.0   \n",
      "2260679    231xx         VA  11.42         Jan-1985           720.0   \n",
      "2260683    330xx         FL  10.20         May-1993           745.0   \n",
      "2260685    906xx         CA  21.50         Feb-1987           720.0   \n",
      "2260688    775xx         TX  20.59         Jul-2004           735.0   \n",
      "\n",
      "         fico_range_high  open_acc  pub_rec  revol_bal  revol_util  total_acc  \\\n",
      "55                 744.0       9.0      0.0     3454.0        10.3       21.0   \n",
      "75                 749.0      12.0      0.0     3717.0        21.2       37.0   \n",
      "93                 779.0      30.0      0.0    41593.0        21.4       47.0   \n",
      "139                749.0      14.0      0.0    33231.0        48.0       32.0   \n",
      "141                774.0      12.0      0.0     2469.0         8.2       18.0   \n",
      "...                  ...       ...      ...        ...         ...        ...   \n",
      "2260650            684.0      10.0      0.0    11240.0        23.5       37.0   \n",
      "2260679            724.0       8.0      0.0    12269.0        63.6       14.0   \n",
      "2260683            749.0      10.0      0.0    25899.0        33.8       22.0   \n",
      "2260685            724.0      11.0      0.0    55723.0        79.8       24.0   \n",
      "2260688            739.0      17.0      0.0    23833.0        34.0       39.0   \n",
      "\n",
      "        initial_list_status application_type  mort_acc  pub_rec_bankruptcies  \n",
      "55                        w       Individual       2.0                   0.0  \n",
      "75                        w       Individual       4.0                   0.0  \n",
      "93                        w       Individual       2.0                   0.0  \n",
      "139                       w       Individual       3.0                   0.0  \n",
      "141                       w       Individual       0.0                   0.0  \n",
      "...                     ...              ...       ...                   ...  \n",
      "2260650                   f       Individual       6.0                   0.0  \n",
      "2260679                   f        Joint App       0.0                   0.0  \n",
      "2260683                   f       Individual       4.0                   0.0  \n",
      "2260685                   f       Individual       6.0                   0.0  \n",
      "2260688                   f       Individual       3.0                   0.0  \n",
      "\n",
      "[166969 rows x 30 columns]\n"
     ]
    }
   ],
   "source": [
    "#records with null employment\n",
    "print(df[df['emp_title'].isna()] )# 2784 records data not available for employment\n"
   ]
  },
  {
   "cell_type": "markdown",
   "id": "dc9d4e6d",
   "metadata": {
    "ExecuteTime": {
     "end_time": "2024-03-24T00:55:02.299223Z",
     "start_time": "2024-03-24T00:55:02.277453Z"
    }
   },
   "source": [
    "On inspection of above records we find that though the emp_title is empty most of these employees have their annual incomes submitted. Therefore we create new category called self employed to handle the cases where emp_title is not available but annual income is present."
   ]
  },
  {
   "cell_type": "code",
   "execution_count": 28,
   "id": "1e847212a0ca869d",
   "metadata": {},
   "outputs": [],
   "source": [
    "df['emp_title'] = df['emp_title'].fillna('Self Employed')"
   ]
  },
  {
   "cell_type": "code",
   "execution_count": 29,
   "id": "61fd3cc8",
   "metadata": {},
   "outputs": [
    {
     "data": {
      "text/plain": [
       "emp_title\n",
       "\\tCFO                                 1\n",
       "\\tMultimedia Supervisor               1\n",
       "\\tSlot technician                     1\n",
       "\\tVP - Operations                     1\n",
       "                                      3\n",
       "                                     ..\n",
       "âAssociate Tech Support Analyst     1\n",
       "âFinancial Analyst                  1\n",
       "âLicense Compliance Investigator    1\n",
       "âSenior IT Field Support            1\n",
       "ð¨âð³                           1\n",
       "Name: count, Length: 512694, dtype: int64"
      ]
     },
     "execution_count": 29,
     "metadata": {},
     "output_type": "execute_result"
    }
   ],
   "source": [
    "df['emp_title'].value_counts(dropna=False).sort_index()"
   ]
  },
  {
   "cell_type": "code",
   "execution_count": 30,
   "id": "5b63a6f4",
   "metadata": {},
   "outputs": [],
   "source": [
    "# too many emp_titles, dropping column\n",
    "df.drop('emp_title', axis=1, inplace=True)"
   ]
  },
  {
   "cell_type": "markdown",
   "id": "051e4b33",
   "metadata": {},
   "source": [
    "### 9. emp_length\n",
    "Employment length in years. Possible values are between 0 and 10 where 0 means less than one year and 10 means ten or more years.\n"
   ]
  },
  {
   "cell_type": "code",
   "execution_count": 31,
   "id": "dea3ae56",
   "metadata": {
    "scrolled": true
   },
   "outputs": [
    {
     "data": {
      "text/plain": [
       "emp_length\n",
       "1 year       148403\n",
       "10+ years    748005\n",
       "2 years      203677\n",
       "3 years      180753\n",
       "4 years      136605\n",
       "5 years      139698\n",
       "6 years      102628\n",
       "7 years       92695\n",
       "8 years       91914\n",
       "9 years       79395\n",
       "< 1 year     189988\n",
       "NaN          146907\n",
       "Name: count, dtype: int64"
      ]
     },
     "execution_count": 31,
     "metadata": {},
     "output_type": "execute_result"
    }
   ],
   "source": [
    "df['emp_length'].value_counts(dropna=False).sort_index()"
   ]
  },
  {
   "cell_type": "markdown",
   "id": "d0ba4649",
   "metadata": {},
   "source": [
    "1. There are 146907 records with no info on emp_length ( Should decide while processing data if we want to retain these records or not)\n",
    "2. Data does not follow the descritpion in data dictionary\n"
   ]
  },
  {
   "cell_type": "code",
   "execution_count": 32,
   "id": "9a47fac3",
   "metadata": {},
   "outputs": [],
   "source": [
    "#Get emp_length to consistent format as per data dictionary\n",
    "df['emp_length'] = df['emp_length'].replace(to_replace='10+ years', value='10 years') # represent 10 or 10+ years\n",
    "df['emp_length'] = df['emp_length'].replace('< 1 year', '0 years')"
   ]
  },
  {
   "cell_type": "code",
   "execution_count": 33,
   "id": "2eaf3172",
   "metadata": {},
   "outputs": [],
   "source": [
    "#Convert it to integer categories\n",
    "df['emp_length'] = df['emp_length'].apply(lambda s: np.nan if pd.isnull(s) else int(s.split()[0]))\n"
   ]
  },
  {
   "cell_type": "code",
   "execution_count": 34,
   "id": "d0eea2d4",
   "metadata": {},
   "outputs": [
    {
     "data": {
      "text/plain": [
       "emp_length\n",
       "0.0     189988\n",
       "1.0     148403\n",
       "2.0     203677\n",
       "3.0     180753\n",
       "4.0     136605\n",
       "5.0     139698\n",
       "6.0     102628\n",
       "7.0      92695\n",
       "8.0      91914\n",
       "9.0      79395\n",
       "10.0    748005\n",
       "NaN     146907\n",
       "Name: count, dtype: int64"
      ]
     },
     "execution_count": 34,
     "metadata": {},
     "output_type": "execute_result"
    }
   ],
   "source": [
    "df['emp_length'].value_counts(dropna=False).sort_index()"
   ]
  },
  {
   "cell_type": "code",
   "execution_count": 35,
   "id": "68759409",
   "metadata": {},
   "outputs": [
    {
     "data": {
      "text/plain": [
       "146907"
      ]
     },
     "execution_count": 35,
     "metadata": {},
     "output_type": "execute_result"
    }
   ],
   "source": [
    "df['emp_length'].isna().sum()"
   ]
  },
  {
   "cell_type": "code",
   "execution_count": 36,
   "id": "24a10194",
   "metadata": {},
   "outputs": [],
   "source": [
    "df = df.dropna(subset= ['emp_length'])"
   ]
  },
  {
   "cell_type": "markdown",
   "id": "00d7b796",
   "metadata": {},
   "source": [
    "### 10. home_ownership"
   ]
  },
  {
   "cell_type": "code",
   "execution_count": 37,
   "id": "71658fab",
   "metadata": {},
   "outputs": [
    {
     "data": {
      "text/plain": [
       "home_ownership\n",
       "ANY             844\n",
       "MORTGAGE    1045455\n",
       "NONE             51\n",
       "OTHER           179\n",
       "OWN          222000\n",
       "RENT         845232\n",
       "Name: count, dtype: int64"
      ]
     },
     "execution_count": 37,
     "metadata": {},
     "output_type": "execute_result"
    }
   ],
   "source": [
    "df['home_ownership'].value_counts(dropna=False).sort_index()"
   ]
  },
  {
   "cell_type": "markdown",
   "id": "4f63529c",
   "metadata": {},
   "source": [
    "As any and none dont give any particular information about home_ownership we are gonna merge these categories into OTHER"
   ]
  },
  {
   "cell_type": "code",
   "execution_count": 38,
   "id": "23cf03f6",
   "metadata": {},
   "outputs": [],
   "source": [
    "df['home_ownership'] = df['home_ownership'].replace(['NONE', 'ANY'], 'OTHER')"
   ]
  },
  {
   "cell_type": "code",
   "execution_count": 39,
   "id": "c30517a2",
   "metadata": {},
   "outputs": [
    {
     "data": {
      "text/plain": [
       "home_ownership\n",
       "MORTGAGE    1045455\n",
       "OTHER          1074\n",
       "OWN          222000\n",
       "RENT         845232\n",
       "Name: count, dtype: int64"
      ]
     },
     "execution_count": 39,
     "metadata": {},
     "output_type": "execute_result"
    }
   ],
   "source": [
    "df['home_ownership'].value_counts(dropna=False).sort_index()"
   ]
  },
  {
   "cell_type": "markdown",
   "id": "e39316c1",
   "metadata": {},
   "source": [
    "### 11. annual_inc"
   ]
  },
  {
   "cell_type": "code",
   "execution_count": 40,
   "id": "4febac8c",
   "metadata": {},
   "outputs": [
    {
     "name": "stdout",
     "output_type": "stream",
     "text": [
      "4 4\n"
     ]
    }
   ],
   "source": [
    "# convert the rate to numeric\n",
    "df['annual_inc'] = pd.to_numeric(df['annual_inc'], errors='coerce')\n",
    "# check for null or non numeric values\n",
    "print(df['annual_inc'].isna().sum(),  df['annual_inc'].isnull().sum())"
   ]
  },
  {
   "cell_type": "code",
   "execution_count": 41,
   "id": "ec632d98",
   "metadata": {},
   "outputs": [
    {
     "name": "stdout",
     "output_type": "stream",
     "text": [
      "              id  loan_amnt        term  int_rate  installment sub_grade  \\\n",
      "1654329  79967.0     5000.0   36 months      7.43       155.38        A2   \n",
      "1654330  79924.0     7000.0   36 months      7.75       218.55        A3   \n",
      "1654360  79893.0     6700.0   36 months      7.75       209.18        A3   \n",
      "1654413  71623.0     6500.0   36 months      8.38       204.84        A5   \n",
      "\n",
      "         emp_length home_ownership  annual_inc verification_status   issue_d  \\\n",
      "1654329         0.0          OTHER         NaN        Not Verified  Aug-2007   \n",
      "1654330         0.0          OTHER         NaN        Not Verified  Aug-2007   \n",
      "1654360         0.0          OTHER         NaN        Not Verified  Jul-2007   \n",
      "1654413         0.0          OTHER         NaN        Not Verified  Jun-2007   \n",
      "\n",
      "                                               loan_status purpose  \\\n",
      "1654329  Does not meet the credit policy. Status:Fully ...   other   \n",
      "1654330  Does not meet the credit policy. Status:Fully ...   other   \n",
      "1654360  Does not meet the credit policy. Status:Fully ...   other   \n",
      "1654413  Does not meet the credit policy. Status:Fully ...   other   \n",
      "\n",
      "                                        title zip_code addr_state  dti  \\\n",
      "1654329                       Moving expenses    100xx         NY  1.0   \n",
      "1654330                             Education    100xx         NY  1.0   \n",
      "1654360  Moving expenses and security deposit    100xx         NY  1.0   \n",
      "1654413                          Buying a car    100xx         NY  4.0   \n",
      "\n",
      "        earliest_cr_line  fico_range_low  fico_range_high  open_acc  pub_rec  \\\n",
      "1654329              NaN           800.0            804.0       NaN      NaN   \n",
      "1654330              NaN           800.0            804.0       NaN      NaN   \n",
      "1654360              NaN           800.0            804.0       NaN      NaN   \n",
      "1654413              NaN           740.0            744.0       NaN      NaN   \n",
      "\n",
      "         revol_bal  revol_util  total_acc initial_list_status  \\\n",
      "1654329        0.0         NaN        NaN                   f   \n",
      "1654330        0.0         NaN        NaN                   f   \n",
      "1654360        0.0         NaN        NaN                   f   \n",
      "1654413        0.0         NaN        NaN                   f   \n",
      "\n",
      "        application_type  mort_acc  pub_rec_bankruptcies  \n",
      "1654329       Individual       NaN                   NaN  \n",
      "1654330       Individual       NaN                   NaN  \n",
      "1654360       Individual       NaN                   NaN  \n",
      "1654413       Individual       NaN                   NaN  \n"
     ]
    }
   ],
   "source": [
    "print(df[df['annual_inc'].isna()])"
   ]
  },
  {
   "cell_type": "markdown",
   "id": "f0c1ccd8",
   "metadata": {},
   "source": [
    " We are gonna remove these records as emp_title ( was not available originally nor annual income) and lot of pther columns are missing"
   ]
  },
  {
   "cell_type": "code",
   "execution_count": 42,
   "id": "58549fc6",
   "metadata": {},
   "outputs": [],
   "source": [
    "df = df.dropna(subset=['annual_inc'])"
   ]
  },
  {
   "cell_type": "code",
   "execution_count": 43,
   "id": "a4901e0e",
   "metadata": {},
   "outputs": [
    {
     "name": "stdout",
     "output_type": "stream",
     "text": [
      "Empty DataFrame\n",
      "Columns: [id, loan_amnt, term, int_rate, installment, sub_grade, emp_length, home_ownership, annual_inc, verification_status, issue_d, loan_status, purpose, title, zip_code, addr_state, dti, earliest_cr_line, fico_range_low, fico_range_high, open_acc, pub_rec, revol_bal, revol_util, total_acc, initial_list_status, application_type, mort_acc, pub_rec_bankruptcies]\n",
      "Index: []\n"
     ]
    }
   ],
   "source": [
    "print(df[df['annual_inc'].isna()])"
   ]
  },
  {
   "cell_type": "markdown",
   "id": "2a8cd195",
   "metadata": {},
   "source": [
    "### 12. verification_status"
   ]
  },
  {
   "cell_type": "code",
   "execution_count": 44,
   "id": "821ebcd3",
   "metadata": {},
   "outputs": [
    {
     "data": {
      "text/plain": [
       "verification_status\n",
       "Not Verified       700488\n",
       "Source Verified    858543\n",
       "Verified           554726\n",
       "Name: count, dtype: int64"
      ]
     },
     "execution_count": 44,
     "metadata": {},
     "output_type": "execute_result"
    }
   ],
   "source": [
    "df['verification_status'].value_counts(dropna=False).sort_index()"
   ]
  },
  {
   "cell_type": "markdown",
   "id": "ffc4bb74",
   "metadata": {},
   "source": [
    "Nothing to clean"
   ]
  },
  {
   "cell_type": "markdown",
   "id": "a81290b9",
   "metadata": {},
   "source": [
    "### 13. issue_d"
   ]
  },
  {
   "cell_type": "code",
   "execution_count": 45,
   "id": "118036b9",
   "metadata": {},
   "outputs": [
    {
     "name": "stdout",
     "output_type": "stream",
     "text": [
      "Empty DataFrame\n",
      "Columns: [id, loan_amnt, term, int_rate, installment, sub_grade, emp_length, home_ownership, annual_inc, verification_status, issue_d, loan_status, purpose, title, zip_code, addr_state, dti, earliest_cr_line, fico_range_low, fico_range_high, open_acc, pub_rec, revol_bal, revol_util, total_acc, initial_list_status, application_type, mort_acc, pub_rec_bankruptcies]\n",
      "Index: []\n"
     ]
    }
   ],
   "source": [
    "print(df[df['issue_d'].isnull()])"
   ]
  },
  {
   "cell_type": "markdown",
   "id": "59c4af2a",
   "metadata": {},
   "source": [
    "Nothing to clean"
   ]
  },
  {
   "cell_type": "markdown",
   "id": "67641130",
   "metadata": {},
   "source": [
    "### 14. loan_status"
   ]
  },
  {
   "cell_type": "code",
   "execution_count": 46,
   "id": "c018716e",
   "metadata": {},
   "outputs": [
    {
     "data": {
      "text/plain": [
       "loan_status\n",
       "Charged Off                                             247429\n",
       "Current                                                 812847\n",
       "Default                                                     35\n",
       "Does not meet the credit policy. Status:Charged Off        746\n",
       "Does not meet the credit policy. Status:Fully Paid        1965\n",
       "Fully Paid                                             1019370\n",
       "In Grace Period                                           7849\n",
       "Late (16-30 days)                                         3900\n",
       "Late (31-120 days)                                       19616\n",
       "Name: count, dtype: int64"
      ]
     },
     "execution_count": 46,
     "metadata": {},
     "output_type": "execute_result"
    }
   ],
   "source": [
    "df['loan_status'].value_counts(dropna=False).sort_index()"
   ]
  },
  {
   "cell_type": "markdown",
   "id": "18771e71",
   "metadata": {},
   "source": [
    "In our project, we're investigating what sets apart loans that were successfully repaid from those that ended up in default. We're excluding loans that are still ongoing, don't meet our credit standards, are already in default, or have incomplete status information. Our focus is solely on loans that have either been fully paid off or written off as losses. This approach helps us pinpoint the factors that influence whether a loan will be repaid in full or not"
   ]
  },
  {
   "cell_type": "code",
   "execution_count": 47,
   "id": "8a48c883",
   "metadata": {},
   "outputs": [],
   "source": [
    "df = df.loc[df['loan_status'].isin(['Fully Paid', 'Charged Off'])]"
   ]
  },
  {
   "cell_type": "markdown",
   "id": "da5228c3",
   "metadata": {},
   "source": [
    "### 15. purpose"
   ]
  },
  {
   "cell_type": "code",
   "execution_count": 48,
   "id": "ce116484",
   "metadata": {},
   "outputs": [
    {
     "data": {
      "text/plain": [
       "purpose\n",
       "car                    13780\n",
       "credit_card           277408\n",
       "debt_consolidation    737571\n",
       "educational              318\n",
       "home_improvement       81253\n",
       "house                   6823\n",
       "major_purchase         27773\n",
       "medical                14253\n",
       "moving                  8884\n",
       "other                  72249\n",
       "renewable_energy         876\n",
       "small_business         14977\n",
       "vacation                8372\n",
       "wedding                 2262\n",
       "Name: count, dtype: int64"
      ]
     },
     "execution_count": 48,
     "metadata": {},
     "output_type": "execute_result"
    }
   ],
   "source": [
    "df['purpose'].value_counts(dropna=False).sort_index()"
   ]
  },
  {
   "cell_type": "markdown",
   "id": "1be29377",
   "metadata": {},
   "source": [
    "### 16. title"
   ]
  },
  {
   "cell_type": "code",
   "execution_count": 49,
   "id": "e0cf1803",
   "metadata": {},
   "outputs": [
    {
     "data": {
      "text/plain": [
       "title\n",
       "Debt consolidation         623195\n",
       "Credit card refinancing    234346\n",
       "Home improvement            69490\n",
       "Other                       61766\n",
       "Major purchase              22621\n",
       "Name: count, dtype: int64"
      ]
     },
     "execution_count": 49,
     "metadata": {},
     "output_type": "execute_result"
    }
   ],
   "source": [
    "df['title'].value_counts(dropna=False).head()"
   ]
  },
  {
   "cell_type": "code",
   "execution_count": 50,
   "id": "3717fc40",
   "metadata": {},
   "outputs": [
    {
     "data": {
      "text/plain": [
       "title\n",
       "Debt consolidation             623195\n",
       "Credit card refinancing        234346\n",
       "Home improvement                69490\n",
       "Other                           61766\n",
       "Major purchase                  22621\n",
       "                                ...  \n",
       "advancement1                        1\n",
       "Quest for Financial Freedom         1\n",
       "Help Reducing Debt                  1\n",
       "CCARD LOAN                          1\n",
       "debt reduction/hone updates         1\n",
       "Name: count, Length: 59498, dtype: int64"
      ]
     },
     "execution_count": 50,
     "metadata": {},
     "output_type": "execute_result"
    }
   ],
   "source": [
    "df['title'].value_counts(dropna=False)"
   ]
  },
  {
   "cell_type": "markdown",
   "id": "4f0cba80",
   "metadata": {},
   "source": [
    "There are 61k titles , based on top values this info is already present in purpose so we drop this column"
   ]
  },
  {
   "cell_type": "code",
   "execution_count": 51,
   "id": "10e815af",
   "metadata": {},
   "outputs": [],
   "source": [
    "df.drop('title', axis=1, inplace=True)"
   ]
  },
  {
   "cell_type": "markdown",
   "id": "6a3f86d1",
   "metadata": {},
   "source": [
    "### 17. zip_code"
   ]
  },
  {
   "cell_type": "code",
   "execution_count": 52,
   "id": "66ea84f4",
   "metadata": {},
   "outputs": [
    {
     "data": {
      "text/plain": [
       "zip_code\n",
       "945xx    14252\n",
       "750xx    14086\n",
       "112xx    13181\n",
       "606xx    11832\n",
       "300xx    11563\n",
       "         ...  \n",
       "872xx        1\n",
       "849xx        1\n",
       "429xx        1\n",
       "938xx        1\n",
       "525xx        1\n",
       "Name: count, Length: 942, dtype: int64"
      ]
     },
     "execution_count": 52,
     "metadata": {},
     "output_type": "execute_result"
    }
   ],
   "source": [
    "df['zip_code'].value_counts(dropna=False)"
   ]
  },
  {
   "cell_type": "markdown",
   "id": "9e55a2ed",
   "metadata": {},
   "source": [
    "900+ zip codes, too much for a categorical varibale. there are 51 states whcih is comparatively smaller we drop zip codes and keep states"
   ]
  },
  {
   "cell_type": "code",
   "execution_count": 53,
   "id": "0ee3fa82",
   "metadata": {},
   "outputs": [],
   "source": [
    "df.drop('zip_code', axis=1, inplace=True)"
   ]
  },
  {
   "cell_type": "markdown",
   "id": "ddd9f57d",
   "metadata": {},
   "source": [
    "### 18. addr_state"
   ]
  },
  {
   "cell_type": "code",
   "execution_count": 54,
   "id": "b1267219",
   "metadata": {},
   "outputs": [
    {
     "data": {
      "text/plain": [
       "51"
      ]
     },
     "execution_count": 54,
     "metadata": {},
     "output_type": "execute_result"
    }
   ],
   "source": [
    "len(df['addr_state'].unique())"
   ]
  },
  {
   "cell_type": "code",
   "execution_count": 55,
   "id": "737aaf65",
   "metadata": {},
   "outputs": [],
   "source": [
    "# there are 51 states"
   ]
  },
  {
   "cell_type": "code",
   "execution_count": 56,
   "id": "e2a416db",
   "metadata": {},
   "outputs": [
    {
     "data": {
      "text/plain": [
       "addr_state\n",
       "CA    186323\n",
       "TX    105117\n",
       "NY    103549\n",
       "FL     88248\n",
       "IL     49012\n",
       "NJ     46238\n",
       "PA     43015\n",
       "OH     40996\n",
       "GA     40765\n",
       "VA     36255\n",
       "NC     35192\n",
       "MI     32139\n",
       "AZ     30221\n",
       "MA     29814\n",
       "MD     29721\n",
       "CO     28295\n",
       "WA     27543\n",
       "MN     22974\n",
       "IN     20404\n",
       "MO     19888\n",
       "TN     18982\n",
       "CT     18781\n",
       "NV     18524\n",
       "WI     16697\n",
       "AL     15361\n",
       "OR     15218\n",
       "SC     14716\n",
       "LA     14668\n",
       "KY     11956\n",
       "OK     11512\n",
       "KS     10619\n",
       "UT      9579\n",
       "AR      9169\n",
       "NM      6768\n",
       "HI      6472\n",
       "NH      6123\n",
       "MS      6054\n",
       "RI      5586\n",
       "WV      4470\n",
       "MT      3589\n",
       "DE      3512\n",
       "NE      3407\n",
       "DC      3365\n",
       "AK      3057\n",
       "WY      2800\n",
       "SD      2657\n",
       "VT      2502\n",
       "ME      1856\n",
       "ND      1553\n",
       "ID      1530\n",
       "IA         7\n",
       "Name: count, dtype: int64"
      ]
     },
     "execution_count": 56,
     "metadata": {},
     "output_type": "execute_result"
    }
   ],
   "source": [
    "df['addr_state'].value_counts(dropna=False)"
   ]
  },
  {
   "cell_type": "markdown",
   "id": "97b447dc",
   "metadata": {},
   "source": [
    "### 19. dti\n",
    "\n",
    "A ratio calculated using the borrower’s total monthly debt payments on the total debt obligations, excluding mortgage and the requested LC loan, divided by the borrower’s self-reported monthly income."
   ]
  },
  {
   "cell_type": "code",
   "execution_count": 57,
   "id": "f26a2634",
   "metadata": {},
   "outputs": [
    {
     "name": "stdout",
     "output_type": "stream",
     "text": [
      "17 17\n"
     ]
    }
   ],
   "source": [
    "# convert the rate to numeric\n",
    "df['dti'] = pd.to_numeric(df['dti'], errors='coerce')\n",
    "# check for null or non numeric values\n",
    "print(df['dti'].isna().sum(),  df['dti'].isnull().sum())"
   ]
  },
  {
   "cell_type": "code",
   "execution_count": 58,
   "id": "448140f2",
   "metadata": {},
   "outputs": [
    {
     "name": "stdout",
     "output_type": "stream",
     "text": [
      "                  id  loan_amnt        term  int_rate  installment sub_grade  \\\n",
      "510144   127050332.0     2400.0   36 months     10.91        78.48        B4   \n",
      "513293   126955615.0    13000.0   60 months     19.03       337.45        D3   \n",
      "539478   119336653.0    25000.0   60 months     12.62       563.98        C1   \n",
      "546518   119270588.0    15000.0   60 months     25.82       447.51        E4   \n",
      "555158   118313801.0    25850.0   36 months     14.08       884.50        C3   \n",
      "918499   109647185.0     7500.0   36 months     10.91       245.23        B4   \n",
      "1407293  143845908.0    30000.0   60 months     12.98       682.29        B5   \n",
      "2071206  125224506.0    25000.0   60 months     13.59       576.41        C2   \n",
      "2087634  124779875.0    15000.0   36 months     10.91       490.45        B4   \n",
      "2097065  123951342.0    35000.0   60 months     21.45       955.75        D5   \n",
      "2130051  121289792.0    28000.0   36 months      9.44       896.14        B1   \n",
      "2150868  120050520.0    40000.0   36 months     16.02      1406.68        C5   \n",
      "2154112  120172233.0    40000.0   60 months      9.93       848.51        B2   \n",
      "2155993  120103896.0     8000.0   36 months      7.97       250.59        A5   \n",
      "2157025  120006175.0    15000.0   36 months     18.06       542.74        D2   \n",
      "2186017   94361559.0    35000.0   36 months      8.24      1100.66        B1   \n",
      "2228456   91685988.0    18000.0   60 months     17.99       456.99        D2   \n",
      "\n",
      "         emp_length home_ownership  annual_inc verification_status   issue_d  \\\n",
      "510144          1.0            OWN         0.0        Not Verified  Jan-2018   \n",
      "513293          3.0       MORTGAGE         0.0        Not Verified  Jan-2018   \n",
      "539478          0.0       MORTGAGE         0.0        Not Verified  Sep-2017   \n",
      "546518          0.0       MORTGAGE         0.0        Not Verified  Sep-2017   \n",
      "555158          0.0           RENT         0.0        Not Verified  Sep-2017   \n",
      "918499          0.0           RENT         0.0        Not Verified  May-2017   \n",
      "1407293         0.0            OWN         0.0        Not Verified  Nov-2018   \n",
      "2071206        10.0       MORTGAGE         0.0        Not Verified  Dec-2017   \n",
      "2087634        10.0           RENT         2.0        Not Verified  Nov-2017   \n",
      "2097065         0.0       MORTGAGE         0.0        Not Verified  Nov-2017   \n",
      "2130051         0.0           RENT         0.0        Not Verified  Oct-2017   \n",
      "2150868         0.0       MORTGAGE         0.0        Not Verified  Oct-2017   \n",
      "2154112         0.0       MORTGAGE         1.0        Not Verified  Oct-2017   \n",
      "2155993         0.0       MORTGAGE         0.0        Not Verified  Oct-2017   \n",
      "2157025         0.0       MORTGAGE         0.0        Not Verified  Oct-2017   \n",
      "2186017         2.0       MORTGAGE         1.0        Not Verified  Dec-2016   \n",
      "2228456         0.0       MORTGAGE         0.0        Not Verified  Oct-2016   \n",
      "\n",
      "         loan_status             purpose addr_state  dti earliest_cr_line  \\\n",
      "510144    Fully Paid    home_improvement         SC  NaN         Feb-2011   \n",
      "513293    Fully Paid         credit_card         CA  NaN         Jan-2001   \n",
      "539478    Fully Paid  debt_consolidation         KY  NaN         Apr-2005   \n",
      "546518    Fully Paid  debt_consolidation         OR  NaN         Aug-2007   \n",
      "555158   Charged Off  debt_consolidation         CA  NaN         Jul-2013   \n",
      "918499    Fully Paid         credit_card         CO  NaN         Jan-2002   \n",
      "1407293   Fully Paid  debt_consolidation         FL  NaN         Jun-2005   \n",
      "2071206   Fully Paid    home_improvement         TX  NaN         Oct-2006   \n",
      "2087634   Fully Paid  debt_consolidation         IN  NaN         Sep-2001   \n",
      "2097065   Fully Paid  debt_consolidation         NV  NaN         Apr-1982   \n",
      "2130051   Fully Paid  debt_consolidation         CA  NaN         Jan-2006   \n",
      "2150868  Charged Off  debt_consolidation         PA  NaN         Mar-1983   \n",
      "2154112   Fully Paid    home_improvement         CA  NaN         Jul-2001   \n",
      "2155993   Fully Paid         credit_card         UT  NaN         Sep-2005   \n",
      "2157025   Fully Paid         credit_card         NC  NaN         May-2014   \n",
      "2186017   Fully Paid  debt_consolidation         MN  NaN         Mar-1996   \n",
      "2228456  Charged Off  debt_consolidation         NY  NaN         Dec-2000   \n",
      "\n",
      "         fico_range_low  fico_range_high  open_acc  pub_rec  revol_bal  \\\n",
      "510144            755.0            759.0       3.0      0.0       14.0   \n",
      "513293            710.0            714.0       5.0      0.0    44603.0   \n",
      "539478            720.0            724.0       9.0      0.0    18061.0   \n",
      "546518            665.0            669.0       7.0      1.0    12717.0   \n",
      "555158            750.0            754.0       6.0      0.0     2567.0   \n",
      "918499            675.0            679.0       9.0      0.0     4203.0   \n",
      "1407293           715.0            719.0      23.0      0.0    31840.0   \n",
      "2071206           760.0            764.0       3.0      0.0        0.0   \n",
      "2087634           670.0            674.0       6.0      0.0     3516.0   \n",
      "2097065           705.0            709.0      23.0      0.0    88853.0   \n",
      "2130051           730.0            734.0       7.0      0.0     6253.0   \n",
      "2150868           680.0            684.0      24.0      0.0    43822.0   \n",
      "2154112           720.0            724.0       5.0      0.0     6145.0   \n",
      "2155993           765.0            769.0       6.0      0.0     6466.0   \n",
      "2157025           680.0            684.0       7.0      0.0    18208.0   \n",
      "2186017           670.0            674.0      25.0      0.0    65324.0   \n",
      "2228456           680.0            684.0       6.0      0.0     2601.0   \n",
      "\n",
      "         revol_util  total_acc initial_list_status application_type  mort_acc  \\\n",
      "510144          0.2        4.0                   w        Joint App       0.0   \n",
      "513293         91.0        8.0                   w        Joint App       2.0   \n",
      "539478         62.7       16.0                   w        Joint App       1.0   \n",
      "546518         46.4       20.0                   w        Joint App       1.0   \n",
      "555158         21.6        6.0                   w        Joint App       0.0   \n",
      "918499         56.8       24.0                   w        Joint App       0.0   \n",
      "1407293        25.6       36.0                   w        Joint App       0.0   \n",
      "2071206         0.0       12.0                   w        Joint App       1.0   \n",
      "2087634        67.6       24.0                   w        Joint App       3.0   \n",
      "2097065        51.0       48.0                   w        Joint App       7.0   \n",
      "2130051        33.6       12.0                   w        Joint App       0.0   \n",
      "2150868        78.1       32.0                   w        Joint App       0.0   \n",
      "2154112        24.3       11.0                   w        Joint App       0.0   \n",
      "2155993        40.9        7.0                   w        Joint App       0.0   \n",
      "2157025        81.3       11.0                   f        Joint App       1.0   \n",
      "2186017        57.5       52.0                   f        Joint App       5.0   \n",
      "2228456        27.7       41.0                   w        Joint App       0.0   \n",
      "\n",
      "         pub_rec_bankruptcies  \n",
      "510144                    0.0  \n",
      "513293                    0.0  \n",
      "539478                    0.0  \n",
      "546518                    1.0  \n",
      "555158                    0.0  \n",
      "918499                    0.0  \n",
      "1407293                   0.0  \n",
      "2071206                   0.0  \n",
      "2087634                   0.0  \n",
      "2097065                   0.0  \n",
      "2130051                   0.0  \n",
      "2150868                   0.0  \n",
      "2154112                   0.0  \n",
      "2155993                   0.0  \n",
      "2157025                   0.0  \n",
      "2186017                   0.0  \n",
      "2228456                   0.0  \n"
     ]
    }
   ],
   "source": [
    "print(df[df['dti'].isna()])"
   ]
  },
  {
   "cell_type": "code",
   "execution_count": 59,
   "id": "0baa3da8",
   "metadata": {},
   "outputs": [],
   "source": [
    "#drop records where dti is not available\n",
    "df = df.dropna(subset=['dti'])"
   ]
  },
  {
   "cell_type": "markdown",
   "id": "336fb910",
   "metadata": {},
   "source": [
    "### 20. earliest_cr_line\n",
    " \"The month the borrower's earliest reported credit line was opened.\""
   ]
  },
  {
   "cell_type": "code",
   "execution_count": 60,
   "id": "dd9e30fe",
   "metadata": {},
   "outputs": [
    {
     "data": {
      "text/plain": [
       "0"
      ]
     },
     "execution_count": 60,
     "metadata": {},
     "output_type": "execute_result"
    }
   ],
   "source": [
    "df['earliest_cr_line'].isnull().sum()"
   ]
  },
  {
   "cell_type": "code",
   "execution_count": 61,
   "id": "bf266a27",
   "metadata": {},
   "outputs": [
    {
     "data": {
      "text/plain": [
       "1309631    May-1988\n",
       "155372     Sep-2000\n",
       "88742      Oct-2004\n",
       "304952     Jul-2002\n",
       "1024557    Dec-2000\n",
       "Name: earliest_cr_line, dtype: object"
      ]
     },
     "execution_count": 61,
     "metadata": {},
     "output_type": "execute_result"
    }
   ],
   "source": [
    "df['earliest_cr_line'].sample(5)"
   ]
  },
  {
   "cell_type": "code",
   "execution_count": 62,
   "id": "b54f15bc",
   "metadata": {},
   "outputs": [],
   "source": [
    "# For simplicity purpose we keep year only"
   ]
  },
  {
   "cell_type": "code",
   "execution_count": 63,
   "id": "2e9acdac",
   "metadata": {},
   "outputs": [],
   "source": [
    "df['earliest_cr_line'] = df['earliest_cr_line'].apply(lambda s: int(s[-4:]))"
   ]
  },
  {
   "cell_type": "markdown",
   "id": "ad4b6180",
   "metadata": {},
   "source": [
    "### 21. fico_range_low\n",
    "The lower boundary range the borrower’s FICO at loan origination belongs to."
   ]
  },
  {
   "cell_type": "code",
   "execution_count": 64,
   "id": "4a01e9a2",
   "metadata": {},
   "outputs": [
    {
     "name": "stdout",
     "output_type": "stream",
     "text": [
      "0 0\n"
     ]
    }
   ],
   "source": [
    "# convert the rate to numeric\n",
    "df['fico_range_low'] = pd.to_numeric(df['fico_range_low'], errors='coerce')\n",
    "# check for null or non numeric values\n",
    "print(df['fico_range_low'].isna().sum(),  df['fico_range_low'].isnull().sum())"
   ]
  },
  {
   "cell_type": "markdown",
   "id": "ce446ae6",
   "metadata": {},
   "source": [
    "### 22. fico_range_high\n",
    "The upper boundary range the borrower’s FICO at loan origination belongs to"
   ]
  },
  {
   "cell_type": "code",
   "execution_count": 65,
   "id": "a3924b1e",
   "metadata": {},
   "outputs": [
    {
     "name": "stdout",
     "output_type": "stream",
     "text": [
      "0 0\n"
     ]
    }
   ],
   "source": [
    "# convert the rate to numeric\n",
    "df['fico_range_high'] = pd.to_numeric(df['fico_range_high'], errors='coerce')\n",
    "# check for null or non numeric values\n",
    "print(df['fico_range_high'].isna().sum(),  df['fico_range_high'].isnull().sum())"
   ]
  },
  {
   "cell_type": "markdown",
   "id": "898f73c6",
   "metadata": {},
   "source": [
    "### 23. open_acc\n",
    "The number of open credit lines in the borrower's credit file."
   ]
  },
  {
   "cell_type": "code",
   "execution_count": 66,
   "id": "303c66af",
   "metadata": {},
   "outputs": [
    {
     "name": "stdout",
     "output_type": "stream",
     "text": [
      "0 0\n"
     ]
    }
   ],
   "source": [
    "# convert the rate to numeric\n",
    "df['open_acc'] = pd.to_numeric(df['open_acc'], errors='coerce')\n",
    "# check for null or non numeric values\n",
    "print(df['open_acc'].isna().sum(),  df['open_acc'].isnull().sum())"
   ]
  },
  {
   "cell_type": "markdown",
   "id": "7d597ae1",
   "metadata": {},
   "source": [
    "### 24. pub_rec\n",
    "Number of derogatory public records."
   ]
  },
  {
   "cell_type": "code",
   "execution_count": 67,
   "id": "84803916",
   "metadata": {},
   "outputs": [
    {
     "name": "stdout",
     "output_type": "stream",
     "text": [
      "0 0\n"
     ]
    }
   ],
   "source": [
    "# convert the rate to numeric\n",
    "df['pub_rec'] = pd.to_numeric(df['pub_rec'], errors='coerce')\n",
    "# check for null or non numeric values\n",
    "print(df['pub_rec'].isna().sum(),  df['pub_rec'].isnull().sum())"
   ]
  },
  {
   "cell_type": "markdown",
   "id": "e17eabb5",
   "metadata": {},
   "source": [
    "### 25. revol_bal\n",
    "Total credit revolving balance."
   ]
  },
  {
   "cell_type": "code",
   "execution_count": 68,
   "id": "d2e1ef12",
   "metadata": {},
   "outputs": [
    {
     "name": "stdout",
     "output_type": "stream",
     "text": [
      "0 0\n"
     ]
    }
   ],
   "source": [
    "# convert the rate to numeric\n",
    "df['revol_bal'] = pd.to_numeric(df['revol_bal'], errors='coerce')\n",
    "# check for null or non numeric values\n",
    "print(df['revol_bal'].isna().sum(),  df['revol_bal'].isnull().sum())"
   ]
  },
  {
   "cell_type": "markdown",
   "id": "5a080086",
   "metadata": {},
   "source": [
    "### 26. revol_util\n",
    "Revolving line utilization rate, or the amount of credit the borrower is using relative to all available revolving credit"
   ]
  },
  {
   "cell_type": "code",
   "execution_count": 69,
   "id": "e5e45fd3",
   "metadata": {},
   "outputs": [
    {
     "name": "stdout",
     "output_type": "stream",
     "text": [
      "806 806\n"
     ]
    }
   ],
   "source": [
    "# convert the rate to numeric\n",
    "df['revol_util'] = pd.to_numeric(df['revol_util'], errors='coerce')\n",
    "# check for null or non numeric values\n",
    "print(df['revol_util'].isna().sum(),  df['revol_util'].isnull().sum())"
   ]
  },
  {
   "cell_type": "code",
   "execution_count": 70,
   "id": "2d0a22de",
   "metadata": {},
   "outputs": [],
   "source": [
    "# drop records where na\n",
    "df = df.dropna(subset=['revol_util'])"
   ]
  },
  {
   "cell_type": "markdown",
   "id": "01528465",
   "metadata": {},
   "source": [
    "### 27. total_acc\n",
    "The total number of credit lines currently in the borrower's credit file.\""
   ]
  },
  {
   "cell_type": "code",
   "execution_count": 71,
   "id": "571290b2",
   "metadata": {},
   "outputs": [
    {
     "name": "stdout",
     "output_type": "stream",
     "text": [
      "0 0\n"
     ]
    }
   ],
   "source": [
    "# convert the rate to numeric\n",
    "df['total_acc'] = pd.to_numeric(df['total_acc'], errors='coerce')\n",
    "# check for null or non numeric values\n",
    "print(df['total_acc'].isna().sum(),  df['total_acc'].isnull().sum())"
   ]
  },
  {
   "cell_type": "markdown",
   "id": "8bb45636",
   "metadata": {},
   "source": [
    "### 28. initial_list_status\n",
    "The initial listing status of the loan"
   ]
  },
  {
   "cell_type": "code",
   "execution_count": 72,
   "id": "8018ce5a",
   "metadata": {},
   "outputs": [
    {
     "data": {
      "text/plain": [
       "initial_list_status\n",
       "f    529279\n",
       "w    736697\n",
       "Name: count, dtype: int64"
      ]
     },
     "execution_count": 72,
     "metadata": {},
     "output_type": "execute_result"
    }
   ],
   "source": [
    "df['initial_list_status'].value_counts(dropna=False).sort_index()"
   ]
  },
  {
   "cell_type": "markdown",
   "id": "9b3b154a",
   "metadata": {},
   "source": [
    "### 29. application_type"
   ]
  },
  {
   "cell_type": "code",
   "execution_count": 73,
   "id": "18ce0d10",
   "metadata": {},
   "outputs": [
    {
     "data": {
      "text/plain": [
       "application_type\n",
       "Individual    1243975\n",
       "Joint App       22001\n",
       "Name: count, dtype: int64"
      ]
     },
     "execution_count": 73,
     "metadata": {},
     "output_type": "execute_result"
    }
   ],
   "source": [
    "df['application_type'].value_counts(dropna=False).sort_index()"
   ]
  },
  {
   "cell_type": "markdown",
   "id": "f5163a3e",
   "metadata": {},
   "source": [
    "### 30. mort_acc\n",
    "Number of mortgage accounts"
   ]
  },
  {
   "cell_type": "code",
   "execution_count": 74,
   "id": "30bb2a5b",
   "metadata": {},
   "outputs": [
    {
     "name": "stdout",
     "output_type": "stream",
     "text": [
      "45884 45884\n"
     ]
    }
   ],
   "source": [
    "# convert the rate to numeric\n",
    "df['mort_acc'] = pd.to_numeric(df['mort_acc'], errors='coerce')\n",
    "# check for null or non numeric values\n",
    "print(df['mort_acc'].isna().sum(),  df['mort_acc'].isnull().sum())"
   ]
  },
  {
   "cell_type": "code",
   "execution_count": 75,
   "id": "f6db1604",
   "metadata": {},
   "outputs": [
    {
     "data": {
      "text/plain": [
       "mort_acc\n",
       "0.0     493618\n",
       "1.0     213537\n",
       "2.0     177771\n",
       "3.0     130359\n",
       "4.0      88522\n",
       "5.0      53720\n",
       "6.0      30313\n",
       "7.0      15637\n",
       "8.0       7820\n",
       "9.0       4003\n",
       "10.0      2049\n",
       "11.0      1118\n",
       "12.0       600\n",
       "13.0       325\n",
       "14.0       232\n",
       "15.0       127\n",
       "16.0        91\n",
       "17.0        59\n",
       "18.0        46\n",
       "19.0        27\n",
       "20.0        24\n",
       "21.0        14\n",
       "22.0        14\n",
       "23.0        10\n",
       "24.0        12\n",
       "25.0         8\n",
       "26.0         6\n",
       "27.0         8\n",
       "28.0         3\n",
       "29.0         4\n",
       "30.0         2\n",
       "31.0         2\n",
       "32.0         2\n",
       "34.0         3\n",
       "35.0         1\n",
       "36.0         1\n",
       "37.0         2\n",
       "47.0         1\n",
       "51.0         1\n",
       "NaN      45884\n",
       "Name: count, dtype: int64"
      ]
     },
     "execution_count": 75,
     "metadata": {},
     "output_type": "execute_result"
    }
   ],
   "source": [
    "df['mort_acc'].value_counts(dropna=False).sort_index()"
   ]
  },
  {
   "cell_type": "code",
   "execution_count": 76,
   "id": "67244c86",
   "metadata": {},
   "outputs": [],
   "source": [
    "# drop records weere mortgage accounts in not availbale\n",
    "df = df.dropna(subset= ['mort_acc'])"
   ]
  },
  {
   "cell_type": "markdown",
   "id": "3501c86b",
   "metadata": {},
   "source": [
    "### 31. pub_rec_bankruptcies\n",
    "Number of public record bankruptcies."
   ]
  },
  {
   "cell_type": "code",
   "execution_count": 77,
   "id": "01820ee5",
   "metadata": {},
   "outputs": [
    {
     "name": "stdout",
     "output_type": "stream",
     "text": [
      "0 0\n"
     ]
    }
   ],
   "source": [
    "# convert the rate to numeric\n",
    "df['pub_rec_bankruptcies'] = pd.to_numeric(df['pub_rec_bankruptcies'], errors='coerce')\n",
    "# check for null or non numeric values\n",
    "print(df['pub_rec_bankruptcies'].isna().sum(),  df['pub_rec_bankruptcies'].isnull().sum())"
   ]
  },
  {
   "cell_type": "code",
   "execution_count": 78,
   "id": "1a5b3af0",
   "metadata": {},
   "outputs": [
    {
     "data": {
      "text/plain": [
       "pub_rec_bankruptcies\n",
       "0.0     1070080\n",
       "1.0      140858\n",
       "2.0        7130\n",
       "3.0        1461\n",
       "4.0         361\n",
       "5.0         133\n",
       "6.0          42\n",
       "7.0          14\n",
       "8.0           8\n",
       "9.0           3\n",
       "11.0          1\n",
       "12.0          1\n",
       "Name: count, dtype: int64"
      ]
     },
     "execution_count": 78,
     "metadata": {},
     "output_type": "execute_result"
    }
   ],
   "source": [
    "df['pub_rec_bankruptcies'].value_counts(dropna=False).sort_index()"
   ]
  },
  {
   "cell_type": "code",
   "execution_count": 79,
   "id": "16e007a8",
   "metadata": {},
   "outputs": [],
   "source": [
    "# drop records weere pub_rec_bankruptcies accounts in not availbale\n",
    "df = df.dropna(subset= ['pub_rec_bankruptcies'])"
   ]
  },
  {
   "cell_type": "code",
   "execution_count": 80,
   "id": "b553c0c2",
   "metadata": {},
   "outputs": [
    {
     "name": "stdout",
     "output_type": "stream",
     "text": [
      "Percentage of missing data in the entire dataset: 0.0\n"
     ]
    }
   ],
   "source": [
    "total_missing_values = df.isnull().sum().sum()\n",
    "\n",
    "# Determine the total number of cells in the dataset\n",
    "total_cells = df.size\n",
    "\n",
    "# Calculate the percentage of missing data\n",
    "percentage_missing_data = (total_missing_values / total_cells) * 100\n",
    "\n",
    "print(\"Percentage of missing data in the entire dataset:\", percentage_missing_data)\n"
   ]
  },
  {
   "cell_type": "markdown",
   "id": "041c9bc4",
   "metadata": {},
   "source": [
    "## Final Data Distribution"
   ]
  },
  {
   "cell_type": "code",
   "execution_count": 81,
   "id": "7b9ad437",
   "metadata": {},
   "outputs": [
    {
     "data": {
      "text/plain": [
       "loan_status\n",
       "Fully Paid     0.802742\n",
       "Charged Off    0.197258\n",
       "Name: proportion, dtype: float64"
      ]
     },
     "execution_count": 81,
     "metadata": {},
     "output_type": "execute_result"
    }
   ],
   "source": [
    " df['loan_status'].value_counts(normalize=True)"
   ]
  },
  {
   "cell_type": "markdown",
   "id": "9fc652a6",
   "metadata": {},
   "source": [
    "Final Number of Records"
   ]
  },
  {
   "cell_type": "code",
   "execution_count": 82,
   "id": "b0ef6b29",
   "metadata": {},
   "outputs": [
    {
     "data": {
      "text/plain": [
       "1220092"
      ]
     },
     "execution_count": 82,
     "metadata": {},
     "output_type": "execute_result"
    }
   ],
   "source": [
    "len(df)"
   ]
  },
  {
   "cell_type": "code",
   "execution_count": 87,
   "id": "14b688f0",
   "metadata": {},
   "outputs": [],
   "source": [
    "#Store cleaned data\n",
    "df.to_csv(\"../data/cleaned_data.csv\", index=False)"
   ]
  },
  {
   "cell_type": "code",
   "execution_count": null,
   "id": "2c240b3a",
   "metadata": {},
   "outputs": [],
   "source": []
  }
 ],
 "metadata": {
  "kernelspec": {
   "display_name": "Python 3.10 (tensorflow)",
   "language": "python",
   "name": "tensorflow"
  },
  "language_info": {
   "codemirror_mode": {
    "name": "ipython",
    "version": 3
   },
   "file_extension": ".py",
   "mimetype": "text/x-python",
   "name": "python",
   "nbconvert_exporter": "python",
   "pygments_lexer": "ipython3",
   "version": "3.10.13"
  }
 },
 "nbformat": 4,
 "nbformat_minor": 5
}
